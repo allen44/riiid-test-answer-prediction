{
  "nbformat": 4,
  "nbformat_minor": 0,
  "metadata": {
    "colab": {
      "name": "eda train_csv.ipynb",
      "provenance": [],
      "collapsed_sections": [],
      "toc_visible": true,
      "machine_shape": "hm",
      "mount_file_id": "13dcDkM-_T9a69Mjl5dngUVlCGvbD4wvi",
      "authorship_tag": "ABX9TyNBzN68OgdfJrgkQM1kdUvL",
      "include_colab_link": true
    },
    "kernelspec": {
      "name": "python3",
      "display_name": "Python 3"
    }
  },
  "cells": [
    {
      "cell_type": "markdown",
      "metadata": {
        "id": "view-in-github",
        "colab_type": "text"
      },
      "source": [
        "<a href=\"https://colab.research.google.com/github/allen44/riiid-test-answer-prediction/blob/main/eda_train_csv.ipynb\" target=\"_parent\"><img src=\"https://colab.research.google.com/assets/colab-badge.svg\" alt=\"Open In Colab\"/></a>"
      ]
    },
    {
      "cell_type": "markdown",
      "metadata": {
        "id": "Dw5H1cVmrPkp"
      },
      "source": [
        "##Import modules"
      ]
    },
    {
      "cell_type": "code",
      "metadata": {
        "id": "pg55P_SLa0qc",
        "colab": {
          "base_uri": "https://localhost:8080/"
        },
        "outputId": "f12293dc-7c3f-4a19-ef12-2412d2f283cf"
      },
      "source": [
        "import pandas as pd\n",
        "import numpy as np\n",
        "import matplotlib.pyplot as plt\n",
        "import pickle\n",
        "from pathlib import Path\n",
        "\n",
        "%cd /content/drive/MyDrive/Colab Notebooks/riiid-test-answer-prediction/\n",
        "%pwd\n",
        "\n",
        "pwd = Path.cwd()\n",
        "\n",
        "\n",
        "def ms_to_days(array_like):\n",
        "  return np.divide(array_like, 86400000)"
      ],
      "execution_count": 126,
      "outputs": [
        {
          "output_type": "stream",
          "text": [
            "/content/drive/MyDrive/Colab Notebooks/riiid-test-answer-prediction\n"
          ],
          "name": "stdout"
        }
      ]
    },
    {
      "cell_type": "markdown",
      "metadata": {
        "id": "2jHUz3V8-zm7"
      },
      "source": [
        "#Import the data"
      ]
    },
    {
      "cell_type": "code",
      "metadata": {
        "id": "Ab6dq5DybA-C"
      },
      "source": [
        "# #Alternatively, Load a DataFrame of train.csv from pikl for better performance on import than import from csv\n",
        "\n",
        "# #Define data paths\n",
        "# train_csv_path = Path('/content/drive/MyDrive/Colab Notebooks/riiid-test-answer-prediction/data/train.csv')\n",
        "# train_pkl_path = Path('/content/drive/MyDrive/Colab Notebooks/riiid-test-answer-prediction/data/train.pkl.gzip')\n",
        "\n",
        "# with open( train_pkl_path, 'rb') as f:\n",
        "#   df = pickle.load(f)\n",
        "\n"
      ],
      "execution_count": 127,
      "outputs": []
    },
    {
      "cell_type": "code",
      "metadata": {
        "id": "1VU3pqWF36k1"
      },
      "source": [
        "#Make DataFrame from CSV\n",
        "# train_csv_path = Path('/content/drive/MyDrive/Colab Notebooks/riiid-test-answer-prediction/data/train.csv')\n",
        "# df = pd.read_csv(train_csv_path, index_col='row_id')\n",
        "\n",
        "#After importing as a dataframe, save the dataframe as a binary file, in case the notebook instance crashes, so that we can quickly reload the dataframe and resume.\n",
        "# %%time\n",
        "# df.to_pickle(train_pkl_path)"
      ],
      "execution_count": 128,
      "outputs": []
    },
    {
      "cell_type": "code",
      "metadata": {
        "id": "oy3yDXXb2vyn"
      },
      "source": [
        "# If loading the subsets from PKL after a runtime crash, use these:\r\n",
        "\r\n",
        "#Define subset paths\r\n",
        "train_pkl_path_1_1 = Path('/content/drive/MyDrive/Colab Notebooks/riiid-test-answer-prediction/data/train_1_1.pkl.gzip')\r\n",
        "train_pkl_path_1_10 = Path('/content/drive/MyDrive/Colab Notebooks/riiid-test-answer-prediction/data/train_1_10.pkl.gzip')\r\n",
        "train_pkl_path_1_100 = Path('/content/drive/MyDrive/Colab Notebooks/riiid-test-answer-prediction/data/train_1_100.pkl.gzip')\r\n",
        "train_pkl_path_1_1000 = Path('/content/drive/MyDrive/Colab Notebooks/riiid-test-answer-prediction/data/train_1_1000.pkl.gzip')\r\n",
        "train_pkl_path_1_10000 = Path('/content/drive/MyDrive/Colab Notebooks/riiid-test-answer-prediction/data/train_1_10000.pkl.gzip')\r\n",
        "train_pkl_path_1_100000 = Path('/content/drive/MyDrive/Colab Notebooks/riiid-test-answer-prediction/data/train_1_100000.pkl.gzip')\r\n",
        "train_pkl_path_1_1000000 = Path('/content/drive/MyDrive/Colab Notebooks/riiid-test-answer-prediction/data/train_1_1000000.pkl.gzip')\r\n",
        "train_pkl_path_1_10000000 = Path('/content/drive/MyDrive/Colab Notebooks/riiid-test-answer-prediction/data/train_1_10000000.pkl.gzip')\r\n",
        "\r\n",
        "#Load the subsets\r\n",
        "# with open( train_pkl_path_1_1, 'rb') as f:\r\n",
        "#   df_1_1 = pickle.load(f)\r\n",
        "# with open( train_pkl_path_1_10, 'rb') as f:\r\n",
        "#   df_1_10 = pickle.load(f)\r\n",
        "# with open( train_pkl_path_1_100, 'rb') as f:\r\n",
        "#   df_1_100 = pickle.load(f)\r\n",
        "with open( train_pkl_path_1_1000, 'rb') as f:\r\n",
        "  df_1_1000 = pickle.load(f)\r\n",
        "with open( train_pkl_path_1_10000, 'rb') as f:\r\n",
        "  df_1_10000 = pickle.load(f)\r\n",
        "with open( train_pkl_path_1_100000, 'rb') as f:\r\n",
        "  df_1_100000 = pickle.load(f)\r\n",
        "with open( train_pkl_path_1_1000000, 'rb') as f:\r\n",
        "  df_1_1000000 = pickle.load(f)\r\n",
        "with open( train_pkl_path_1_10000000, 'rb') as f:\r\n",
        "  df_1_10000000 = pickle.load(f)"
      ],
      "execution_count": 129,
      "outputs": []
    },
    {
      "cell_type": "code",
      "metadata": {
        "id": "ddNkeeTPgqWP"
      },
      "source": [
        "#Set the primary DataFrame for the EDA going forward\r\n",
        "\r\n",
        "df = df_1_1000\r\n",
        "\r\n",
        "#del unused large df\r\n",
        "# if df_1_1:\r\n",
        "#   del df_1_1"
      ],
      "execution_count": 130,
      "outputs": []
    },
    {
      "cell_type": "markdown",
      "metadata": {
        "id": "lixiTgG23yLy"
      },
      "source": [
        "#EDA using a subsample\n",
        "As the Google Colab runtime keeps crashing due to lack of memory (even with Colab Pro), we will switch to importing only about 1% or 10% of the data for this EDA. IF we see that this subset differs signifcant;y fullset's summary statistics, we can contiue to attempt using the full set."
      ]
    },
    {
      "cell_type": "markdown",
      "metadata": {
        "id": "qY7rTLm0_dNI"
      },
      "source": [
        "###If subsetting from existing dataframe with all data"
      ]
    },
    {
      "cell_type": "code",
      "metadata": {
        "id": "tydO1OdEAdZS"
      },
      "source": [
        "# #Define the skip logic\n",
        "\n",
        "# #Skip rows from based on condition like skip every 10th line\n",
        "# def skip_all_but_nth_rows(n, idx):\n",
        "#   return (idx % n != 0)\n",
        "  \n",
        "# #Skip random lines  \n",
        "# import random\n",
        "# def rand_1_in_n(n, idx):\n",
        "#   return True if random.randrange(1,n)==1 else False\n",
        "\n",
        "\n",
        "# #Create the subsets \n",
        "\n",
        "# #Define a Dataframe with 1/1 of the data\n",
        "# df_1_1 = df\n",
        "\n",
        "# #Define a Dataframe with 1/10 of the data\n",
        "# df_1_10 = df[df.index % 10 == 0]\n",
        "\n",
        "# #Define a DataFrame with 1/100 of the data\n",
        "# df_1_100 = df[df.index % 100 == 0]\n",
        "\n",
        "# #Define a DataFrame with 1/1000 of the data\n",
        "# df_1_1000 = df[df.index % 1000 == 0]\n",
        "\n",
        "# #Define a Dataframe with 1/10000 of the data\n",
        "# df_1_10000 = df[df.index % 10000 == 0]\n",
        "\n",
        "# #Define a Dataframe with 1/100000 of the data\n",
        "# df_1_100000 = df[df.index % 100000 == 0]\n",
        "\n",
        "# #Define a Dataframe with 1/1000000 of the data\n",
        "# df_1_1000000 = df[df.index % 1000000 == 0]\n",
        "\n",
        "# #Define a Dataframe with 1/10000000 of the data\n",
        "# df_1_10000000 = df[df.index % 10000000 == 0]\n",
        "\n",
        "\n",
        "# #Define subset paths\n",
        "# train_pkl_path_1_1 = Path('/content/drive/MyDrive/Colab Notebooks/riiid-test-answer-prediction/data/train_1_1.pkl.gzip')\n",
        "# train_pkl_path_1_10 = Path('/content/drive/MyDrive/Colab Notebooks/riiid-test-answer-prediction/data/train_1_10.pkl.gzip')\n",
        "# train_pkl_path_1_100 = Path('/content/drive/MyDrive/Colab Notebooks/riiid-test-answer-prediction/data/train_1_100.pkl.gzip')\n",
        "# train_pkl_path_1_1000 = Path('/content/drive/MyDrive/Colab Notebooks/riiid-test-answer-prediction/data/train_1_1000.pkl.gzip')\n",
        "# train_pkl_path_1_10000 = Path('/content/drive/MyDrive/Colab Notebooks/riiid-test-answer-prediction/data/train_1_10000.pkl.gzip')\n",
        "# train_pkl_path_1_100000 = Path('/content/drive/MyDrive/Colab Notebooks/riiid-test-answer-prediction/data/train_1_100000.pkl.gzip')\n",
        "# train_pkl_path_1_1000000 = Path('/content/drive/MyDrive/Colab Notebooks/riiid-test-answer-prediction/data/train_1_1000000.pkl.gzip')\n",
        "# train_pkl_path_1_10000000 = Path('/content/drive/MyDrive/Colab Notebooks/riiid-test-answer-prediction/data/train_1_10000000.pkl.gzip')\n",
        "\n",
        "# #Save subset dataframes to pkl\n",
        "# df_1_1.to_pickle(train_pkl_path_1_1)\n",
        "# df_1_10.to_pickle(train_pkl_path_1_10)\n",
        "# df_1_100.to_pickle(train_pkl_path_1_100)\n",
        "# df_1_1000.to_pickle(train_pkl_path_1_1000)\n",
        "# df_1_10000.to_pickle(train_pkl_path_1_10000)\n",
        "# df_1_100000.to_pickle(train_pkl_path_1_100000)\n",
        "# df_1_1000000.to_pickle(train_pkl_path_1_1000000)\n",
        "# df_1_10000000.to_pickle(train_pkl_path_1_10000000)"
      ],
      "execution_count": 131,
      "outputs": []
    },
    {
      "cell_type": "code",
      "metadata": {
        "id": "8DKdIDBaBOHO"
      },
      "source": [
        "# df_1_1.head() "
      ],
      "execution_count": 132,
      "outputs": []
    },
    {
      "cell_type": "code",
      "metadata": {
        "id": "gGvL9QxOBQwN"
      },
      "source": [
        "# df_1_100.head()"
      ],
      "execution_count": 133,
      "outputs": []
    },
    {
      "cell_type": "code",
      "metadata": {
        "id": "9ojL4wSkeSDx"
      },
      "source": [
        "# df_1_100000.head()"
      ],
      "execution_count": 134,
      "outputs": []
    },
    {
      "cell_type": "markdown",
      "metadata": {
        "id": "F7t9xF2TkCK5"
      },
      "source": [
        "For the remainder of this eda, let's use the 1/1000 dataframe."
      ]
    },
    {
      "cell_type": "code",
      "metadata": {
        "id": "ItghlF8rkG25"
      },
      "source": [
        "# df_1 = df\r\n",
        "# df = df_1_1000\r\n",
        "# df.head()"
      ],
      "execution_count": 135,
      "outputs": []
    },
    {
      "cell_type": "code",
      "metadata": {
        "id": "UAdMHOCekb8B"
      },
      "source": [
        "# df.shape"
      ],
      "execution_count": 136,
      "outputs": []
    },
    {
      "cell_type": "markdown",
      "metadata": {
        "id": "g1IOHVR3nmod"
      },
      "source": [
        "#Pandas Profiling Report"
      ]
    },
    {
      "cell_type": "code",
      "metadata": {
        "id": "1HDw7DYZbtyd"
      },
      "source": [
        "# # Install updated pandas profiling\r\n",
        "\r\n",
        "#  %load_ext autoreload\r\n",
        "# %autoreload 2\r\n",
        "\r\n",
        "# import sys\r\n",
        "# !{sys.executable} -m pip install https://github.com/pandas-profiling/pandas-profiling/archive/master.zip\r\n",
        "# !jupyter nbextension enable --py widgetsnbextension\r\n",
        "\r\n",
        "# %autoreload 0"
      ],
      "execution_count": 137,
      "outputs": []
    },
    {
      "cell_type": "code",
      "metadata": {
        "id": "0sU_f7XZmBlP"
      },
      "source": [
        "# #Set the primary DataFrame for the EDA going forward\r\n",
        "\r\n",
        "df = df_1_10000"
      ],
      "execution_count": 138,
      "outputs": []
    },
    {
      "cell_type": "code",
      "metadata": {
        "id": "2OSYGxcbnsNX"
      },
      "source": [
        "# #Generate Pandas Profiling Report - may be slow running if using the largest subsets of the data\r\n",
        "# import pandas_profiling\r\n",
        "\r\n",
        "# #Define Pandas Profile Report save path\r\n",
        "# pandas_profiling_report_path = Path('/content/drive/MyDrive/Colab Notebooks/riiid-test-answer-prediction/viz/pandas_profiling_report.html')\r\n",
        "\r\n",
        "# report = df.profile_report(sort='None', html={'style':{'full_width': True}}, progress_bar=False)\r\n",
        "# report"
      ],
      "execution_count": 139,
      "outputs": []
    },
    {
      "cell_type": "code",
      "metadata": {
        "id": "r8J9Eap6ssS4"
      },
      "source": [
        "#Save report to file\r\n",
        "# version_suffix = ' df_1_1000'\r\n",
        "# pandas_profiling_report_path = f'/content/drive/MyDrive/Colab Notebooks/riiid-test-answer-prediction/viz/pandas_profiling_report{version_suffix}.html'\r\n",
        "\r\n",
        "\r\n",
        "# report.to_file(pandas_profiling_report_path)"
      ],
      "execution_count": 140,
      "outputs": []
    },
    {
      "cell_type": "code",
      "metadata": {
        "id": "sfSon6LosHXN"
      },
      "source": [
        "\r\n",
        "# !touch '/content/drive/MyDrive/Colab Notebooks/riiid-test-answer-prediction/viz/pandas_profiling_report df_1_1000.html'"
      ],
      "execution_count": 141,
      "outputs": []
    },
    {
      "cell_type": "markdown",
      "metadata": {
        "id": "3cNCGAhy-4s7"
      },
      "source": [
        "#Examine the shape of the dataframe, summary statistics, and missing values"
      ]
    },
    {
      "cell_type": "code",
      "metadata": {
        "id": "KI45LunihD1X",
        "colab": {
          "base_uri": "https://localhost:8080/",
          "height": 255
        },
        "outputId": "af13a2cc-57ca-4b2f-e2f3-e9d60a1f1a4d"
      },
      "source": [
        "df.head()"
      ],
      "execution_count": 142,
      "outputs": [
        {
          "output_type": "execute_result",
          "data": {
            "text/html": [
              "<div>\n",
              "<style scoped>\n",
              "    .dataframe tbody tr th:only-of-type {\n",
              "        vertical-align: middle;\n",
              "    }\n",
              "\n",
              "    .dataframe tbody tr th {\n",
              "        vertical-align: top;\n",
              "    }\n",
              "\n",
              "    .dataframe thead th {\n",
              "        text-align: right;\n",
              "    }\n",
              "</style>\n",
              "<table border=\"1\" class=\"dataframe\">\n",
              "  <thead>\n",
              "    <tr style=\"text-align: right;\">\n",
              "      <th></th>\n",
              "      <th>timestamp</th>\n",
              "      <th>user_id</th>\n",
              "      <th>content_id</th>\n",
              "      <th>content_type_id</th>\n",
              "      <th>task_container_id</th>\n",
              "      <th>user_answer</th>\n",
              "      <th>answered_correctly</th>\n",
              "      <th>prior_question_elapsed_time</th>\n",
              "      <th>prior_question_had_explanation</th>\n",
              "    </tr>\n",
              "    <tr>\n",
              "      <th>row_id</th>\n",
              "      <th></th>\n",
              "      <th></th>\n",
              "      <th></th>\n",
              "      <th></th>\n",
              "      <th></th>\n",
              "      <th></th>\n",
              "      <th></th>\n",
              "      <th></th>\n",
              "      <th></th>\n",
              "    </tr>\n",
              "  </thead>\n",
              "  <tbody>\n",
              "    <tr>\n",
              "      <th>0</th>\n",
              "      <td>0</td>\n",
              "      <td>115</td>\n",
              "      <td>5692</td>\n",
              "      <td>0</td>\n",
              "      <td>1</td>\n",
              "      <td>3</td>\n",
              "      <td>1</td>\n",
              "      <td>NaN</td>\n",
              "      <td>NaN</td>\n",
              "    </tr>\n",
              "    <tr>\n",
              "      <th>10000</th>\n",
              "      <td>2868613211</td>\n",
              "      <td>91216</td>\n",
              "      <td>1219</td>\n",
              "      <td>0</td>\n",
              "      <td>780</td>\n",
              "      <td>1</td>\n",
              "      <td>1</td>\n",
              "      <td>17000.0</td>\n",
              "      <td>True</td>\n",
              "    </tr>\n",
              "    <tr>\n",
              "      <th>20000</th>\n",
              "      <td>14686539127</td>\n",
              "      <td>220268</td>\n",
              "      <td>10656</td>\n",
              "      <td>0</td>\n",
              "      <td>1317</td>\n",
              "      <td>0</td>\n",
              "      <td>1</td>\n",
              "      <td>19000.0</td>\n",
              "      <td>True</td>\n",
              "    </tr>\n",
              "    <tr>\n",
              "      <th>30000</th>\n",
              "      <td>1083486476</td>\n",
              "      <td>650467</td>\n",
              "      <td>6857</td>\n",
              "      <td>0</td>\n",
              "      <td>243</td>\n",
              "      <td>3</td>\n",
              "      <td>1</td>\n",
              "      <td>11750.0</td>\n",
              "      <td>True</td>\n",
              "    </tr>\n",
              "    <tr>\n",
              "      <th>40000</th>\n",
              "      <td>15426935577</td>\n",
              "      <td>1084314</td>\n",
              "      <td>6798</td>\n",
              "      <td>0</td>\n",
              "      <td>1515</td>\n",
              "      <td>0</td>\n",
              "      <td>1</td>\n",
              "      <td>9000.0</td>\n",
              "      <td>False</td>\n",
              "    </tr>\n",
              "  </tbody>\n",
              "</table>\n",
              "</div>"
            ],
            "text/plain": [
              "          timestamp  ...  prior_question_had_explanation\n",
              "row_id               ...                                \n",
              "0                 0  ...                             NaN\n",
              "10000    2868613211  ...                            True\n",
              "20000   14686539127  ...                            True\n",
              "30000    1083486476  ...                            True\n",
              "40000   15426935577  ...                           False\n",
              "\n",
              "[5 rows x 9 columns]"
            ]
          },
          "metadata": {
            "tags": []
          },
          "execution_count": 142
        }
      ]
    },
    {
      "cell_type": "code",
      "metadata": {
        "id": "0oI1lqo4cwnv",
        "colab": {
          "base_uri": "https://localhost:8080/"
        },
        "outputId": "afec0a8e-0a9b-47de-dd4e-74077f2fb5d8"
      },
      "source": [
        "df.info()"
      ],
      "execution_count": 143,
      "outputs": [
        {
          "output_type": "stream",
          "text": [
            "<class 'pandas.core.frame.DataFrame'>\n",
            "Int64Index: 10124 entries, 0 to 101230000\n",
            "Data columns (total 9 columns):\n",
            " #   Column                          Non-Null Count  Dtype  \n",
            "---  ------                          --------------  -----  \n",
            " 0   timestamp                       10124 non-null  int64  \n",
            " 1   user_id                         10124 non-null  int64  \n",
            " 2   content_id                      10124 non-null  int64  \n",
            " 3   content_type_id                 10124 non-null  int64  \n",
            " 4   task_container_id               10124 non-null  int64  \n",
            " 5   user_answer                     10124 non-null  int64  \n",
            " 6   answered_correctly              10124 non-null  int64  \n",
            " 7   prior_question_elapsed_time     9902 non-null   float64\n",
            " 8   prior_question_had_explanation  10103 non-null  object \n",
            "dtypes: float64(1), int64(7), object(1)\n",
            "memory usage: 790.9+ KB\n"
          ],
          "name": "stdout"
        }
      ]
    },
    {
      "cell_type": "code",
      "metadata": {
        "id": "6gfvdrScgnIa",
        "colab": {
          "base_uri": "https://localhost:8080/"
        },
        "outputId": "ce11d437-143d-4a46-d8a4-b3be7cbcdae4"
      },
      "source": [
        "print(f\"The shape of this dataframe is {df.shape}.\")"
      ],
      "execution_count": 144,
      "outputs": [
        {
          "output_type": "stream",
          "text": [
            "The shape of this dataframe is (10124, 9).\n"
          ],
          "name": "stdout"
        }
      ]
    },
    {
      "cell_type": "markdown",
      "metadata": {
        "id": "-wArjzIWLTK8"
      },
      "source": [
        "##Check for missing data"
      ]
    },
    {
      "cell_type": "code",
      "metadata": {
        "id": "Ff5-x4WeBMGl",
        "colab": {
          "base_uri": "https://localhost:8080/"
        },
        "outputId": "79409705-f1de-4db6-b604-2244d023b142"
      },
      "source": [
        "# Count missing values\n",
        "df.isna().sum()"
      ],
      "execution_count": 145,
      "outputs": [
        {
          "output_type": "execute_result",
          "data": {
            "text/plain": [
              "timestamp                           0\n",
              "user_id                             0\n",
              "content_id                          0\n",
              "content_type_id                     0\n",
              "task_container_id                   0\n",
              "user_answer                         0\n",
              "answered_correctly                  0\n",
              "prior_question_elapsed_time       222\n",
              "prior_question_had_explanation     21\n",
              "dtype: int64"
            ]
          },
          "metadata": {
            "tags": []
          },
          "execution_count": 145
        }
      ]
    },
    {
      "cell_type": "markdown",
      "metadata": {
        "id": "ID-gOHHEBcw1"
      },
      "source": [
        "The data is mostly clean, and only two columns have missing data. Based on the discriptions of the data, these columns missing data is intentional.\n"
      ]
    },
    {
      "cell_type": "markdown",
      "metadata": {
        "id": "dO5n0tNULh10"
      },
      "source": [
        "##Check unique entries and dtypes"
      ]
    },
    {
      "cell_type": "code",
      "metadata": {
        "id": "vHRVCwhNF29t",
        "colab": {
          "base_uri": "https://localhost:8080/"
        },
        "outputId": "e8fa8254-ce4f-40af-873a-112726871a03"
      },
      "source": [
        "#Check the relative frequency of unique values in each column\n",
        "# Save the values here, to avoid re-computation later\n",
        "%time\n",
        "df_nunique = df.nunique()\n",
        "df_nunique"
      ],
      "execution_count": 146,
      "outputs": [
        {
          "output_type": "stream",
          "text": [
            "CPU times: user 2 µs, sys: 1 µs, total: 3 µs\n",
            "Wall time: 5.25 µs\n"
          ],
          "name": "stdout"
        },
        {
          "output_type": "execute_result",
          "data": {
            "text/plain": [
              "timestamp                         10104\n",
              "user_id                           10057\n",
              "content_id                         5408\n",
              "content_type_id                       2\n",
              "task_container_id                  2799\n",
              "user_answer                           5\n",
              "answered_correctly                    3\n",
              "prior_question_elapsed_time         653\n",
              "prior_question_had_explanation        2\n",
              "dtype: int64"
            ]
          },
          "metadata": {
            "tags": []
          },
          "execution_count": 146
        }
      ]
    },
    {
      "cell_type": "code",
      "metadata": {
        "id": "mm__ynb_1stv",
        "colab": {
          "base_uri": "https://localhost:8080/"
        },
        "outputId": "d00be068-bf31-46fb-a629-df98acf01283"
      },
      "source": [
        "nunique_answered_correctly = df_nunique['answered_correctly']\n",
        "nunique_prior_question_had_explanation = df_nunique['prior_question_had_explanation']\n",
        "\n",
        "nunique_answered_correctly, nunique_prior_question_had_explanation"
      ],
      "execution_count": 147,
      "outputs": [
        {
          "output_type": "execute_result",
          "data": {
            "text/plain": [
              "(3, 2)"
            ]
          },
          "metadata": {
            "tags": []
          },
          "execution_count": 147
        }
      ]
    },
    {
      "cell_type": "markdown",
      "metadata": {
        "id": "kei46fW0z4uA"
      },
      "source": [
        "Noteably, the number of unique task_container_id is exactly 10000. \n",
        "\n",
        "'answered_correctly' is a boolean except for the NaN entries.\n",
        "\n"
      ]
    },
    {
      "cell_type": "markdown",
      "metadata": {
        "id": "h7DpRaOktr6z"
      },
      "source": [
        "##Set the index"
      ]
    },
    {
      "cell_type": "code",
      "metadata": {
        "id": "AH1NnXR9tfhz",
        "colab": {
          "base_uri": "https://localhost:8080/",
          "height": 289
        },
        "outputId": "024842aa-f6ae-4f15-8905-cb1bcedc4680"
      },
      "source": [
        "%time\n",
        "if 'row_id' in df.columns:\n",
        "  df.set_index('row_id', inplace=True)\n",
        "df.head()"
      ],
      "execution_count": 148,
      "outputs": [
        {
          "output_type": "stream",
          "text": [
            "CPU times: user 3 µs, sys: 0 ns, total: 3 µs\n",
            "Wall time: 5.01 µs\n"
          ],
          "name": "stdout"
        },
        {
          "output_type": "execute_result",
          "data": {
            "text/html": [
              "<div>\n",
              "<style scoped>\n",
              "    .dataframe tbody tr th:only-of-type {\n",
              "        vertical-align: middle;\n",
              "    }\n",
              "\n",
              "    .dataframe tbody tr th {\n",
              "        vertical-align: top;\n",
              "    }\n",
              "\n",
              "    .dataframe thead th {\n",
              "        text-align: right;\n",
              "    }\n",
              "</style>\n",
              "<table border=\"1\" class=\"dataframe\">\n",
              "  <thead>\n",
              "    <tr style=\"text-align: right;\">\n",
              "      <th></th>\n",
              "      <th>timestamp</th>\n",
              "      <th>user_id</th>\n",
              "      <th>content_id</th>\n",
              "      <th>content_type_id</th>\n",
              "      <th>task_container_id</th>\n",
              "      <th>user_answer</th>\n",
              "      <th>answered_correctly</th>\n",
              "      <th>prior_question_elapsed_time</th>\n",
              "      <th>prior_question_had_explanation</th>\n",
              "    </tr>\n",
              "    <tr>\n",
              "      <th>row_id</th>\n",
              "      <th></th>\n",
              "      <th></th>\n",
              "      <th></th>\n",
              "      <th></th>\n",
              "      <th></th>\n",
              "      <th></th>\n",
              "      <th></th>\n",
              "      <th></th>\n",
              "      <th></th>\n",
              "    </tr>\n",
              "  </thead>\n",
              "  <tbody>\n",
              "    <tr>\n",
              "      <th>0</th>\n",
              "      <td>0</td>\n",
              "      <td>115</td>\n",
              "      <td>5692</td>\n",
              "      <td>0</td>\n",
              "      <td>1</td>\n",
              "      <td>3</td>\n",
              "      <td>1</td>\n",
              "      <td>NaN</td>\n",
              "      <td>NaN</td>\n",
              "    </tr>\n",
              "    <tr>\n",
              "      <th>10000</th>\n",
              "      <td>2868613211</td>\n",
              "      <td>91216</td>\n",
              "      <td>1219</td>\n",
              "      <td>0</td>\n",
              "      <td>780</td>\n",
              "      <td>1</td>\n",
              "      <td>1</td>\n",
              "      <td>17000.0</td>\n",
              "      <td>True</td>\n",
              "    </tr>\n",
              "    <tr>\n",
              "      <th>20000</th>\n",
              "      <td>14686539127</td>\n",
              "      <td>220268</td>\n",
              "      <td>10656</td>\n",
              "      <td>0</td>\n",
              "      <td>1317</td>\n",
              "      <td>0</td>\n",
              "      <td>1</td>\n",
              "      <td>19000.0</td>\n",
              "      <td>True</td>\n",
              "    </tr>\n",
              "    <tr>\n",
              "      <th>30000</th>\n",
              "      <td>1083486476</td>\n",
              "      <td>650467</td>\n",
              "      <td>6857</td>\n",
              "      <td>0</td>\n",
              "      <td>243</td>\n",
              "      <td>3</td>\n",
              "      <td>1</td>\n",
              "      <td>11750.0</td>\n",
              "      <td>True</td>\n",
              "    </tr>\n",
              "    <tr>\n",
              "      <th>40000</th>\n",
              "      <td>15426935577</td>\n",
              "      <td>1084314</td>\n",
              "      <td>6798</td>\n",
              "      <td>0</td>\n",
              "      <td>1515</td>\n",
              "      <td>0</td>\n",
              "      <td>1</td>\n",
              "      <td>9000.0</td>\n",
              "      <td>False</td>\n",
              "    </tr>\n",
              "  </tbody>\n",
              "</table>\n",
              "</div>"
            ],
            "text/plain": [
              "          timestamp  ...  prior_question_had_explanation\n",
              "row_id               ...                                \n",
              "0                 0  ...                             NaN\n",
              "10000    2868613211  ...                            True\n",
              "20000   14686539127  ...                            True\n",
              "30000    1083486476  ...                            True\n",
              "40000   15426935577  ...                           False\n",
              "\n",
              "[5 rows x 9 columns]"
            ]
          },
          "metadata": {
            "tags": []
          },
          "execution_count": 148
        }
      ]
    },
    {
      "cell_type": "markdown",
      "metadata": {
        "id": "0aewSose_E3t"
      },
      "source": [
        "## Changing dtypes\n",
        "As the number of unique entries in each column is comparatively low, relative to the size of the data set, there will be perfomance gains by recaasting most of these colums as categorical variables.\n",
        "\n",
        "timestamp and prior_question_elapsed_time            is an exception and should be treated differently.\n",
        "\n",
        "prior_question_elapsed_time is a float and probably should not be categorical.\n",
        "\n",
        "prior_question_had_explanation should be change to dtype:bool\n"
      ]
    },
    {
      "cell_type": "code",
      "metadata": {
        "id": "XSzcUkFW3gbf",
        "colab": {
          "base_uri": "https://localhost:8080/"
        },
        "outputId": "ed8a4ab1-a5a3-498b-fade-ac6047dd2810"
      },
      "source": [
        "#Check dtypes before\n",
        "df.dtypes"
      ],
      "execution_count": 149,
      "outputs": [
        {
          "output_type": "execute_result",
          "data": {
            "text/plain": [
              "timestamp                           int64\n",
              "user_id                             int64\n",
              "content_id                          int64\n",
              "content_type_id                     int64\n",
              "task_container_id                   int64\n",
              "user_answer                         int64\n",
              "answered_correctly                  int64\n",
              "prior_question_elapsed_time       float64\n",
              "prior_question_had_explanation     object\n",
              "dtype: object"
            ]
          },
          "metadata": {
            "tags": []
          },
          "execution_count": 149
        }
      ]
    },
    {
      "cell_type": "code",
      "metadata": {
        "id": "Pohep2jRGMfI",
        "colab": {
          "base_uri": "https://localhost:8080/"
        },
        "outputId": "54ace447-da5f-45d6-9a4d-016212a6b786"
      },
      "source": [
        "categorical_columns = ['user_id', 'content_id', 'content_type_id', 'task_container_id', 'user_answer', 'answered_correctly']\n",
        "for column_id in categorical_columns:\n",
        "  df[column_id] = pd.Categorical(df[column_id])\n",
        "\n",
        "boolean_columns = ['prior_question_had_explanation']\n",
        "for column_id in boolean_columns:\n",
        "  df[column_id] = df[column_id].astype(bool)\n",
        "\n",
        "df.dtypes"
      ],
      "execution_count": 150,
      "outputs": [
        {
          "output_type": "execute_result",
          "data": {
            "text/plain": [
              "timestamp                            int64\n",
              "user_id                           category\n",
              "content_id                        category\n",
              "content_type_id                   category\n",
              "task_container_id                 category\n",
              "user_answer                       category\n",
              "answered_correctly                category\n",
              "prior_question_elapsed_time        float64\n",
              "prior_question_had_explanation        bool\n",
              "dtype: object"
            ]
          },
          "metadata": {
            "tags": []
          },
          "execution_count": 150
        }
      ]
    },
    {
      "cell_type": "markdown",
      "metadata": {
        "id": "nUGrmZGF0Xgp"
      },
      "source": [
        "Check to make sure the missing data is retained."
      ]
    },
    {
      "cell_type": "markdown",
      "metadata": {
        "id": "9DSKcRYNlfsr"
      },
      "source": [
        "# Exploring the data in each column, individually\n",
        "\n",
        "Descriptions of each column (from the Kaggle website):\n",
        "\n",
        "\n",
        "row_id: (int64) ID code for the row.\n",
        "\n",
        "  timestamp: (int64) the time in milliseconds between this user interaction and the first event completion from that user.\n",
        "\n",
        "user_id: (int32) ID code for the user.\n",
        "\n",
        "content_id: (int16) ID code for the user interaction\n",
        "\n",
        "content_type_id: (int8) 0 if the event was a question being posed to the user, 1 if the event was the user watching a lecture.\n",
        "\n",
        "task_container_id: (int16) Id code for the batch of questions or lectures. For example, a user might see three questions in a row before seeing the explanations for any of them. Those three would all share a task_container_id.\n",
        "\n",
        "user_answer: (int8) the user's answer to the question, if any. Read -1 as null, for lectures.\n",
        "\n",
        "answered_correctly: (int8) if the user responded correctly. Read -1 as null, for lectures.\n",
        "\n",
        "prior_question_elapsed_time: (float32) The average time in milliseconds it took a user to answer each question in the previous question bundle, ignoring any lectures in between. Is null for a user's first question bundle or lecture. Note that the time is the average time a user took to solve each question in the previous bundle.\n",
        "\n",
        "prior_question_had_explanation: (bool) Whether or not the user saw an explanation and the correct response(s) after answering the previous question bundle, ignoring any lectures in between. The value is shared across a single question bundle, and is null for a user's first question bundle or lecture. Typically the first several questions a user sees were part of an onboarding diagnostic test where they did not get any feedback.\n",
        "\n",
        "\n",
        "\n"
      ]
    },
    {
      "cell_type": "markdown",
      "metadata": {
        "id": "o0rzOIttlliU"
      },
      "source": [
        "##timestamp\n",
        "\n",
        ">timestamp: (int64) the time in milliseconds between this user interaction and the first event completion from that user."
      ]
    },
    {
      "cell_type": "code",
      "metadata": {
        "id": "Fz9T9eiIhdCs",
        "colab": {
          "base_uri": "https://localhost:8080/"
        },
        "outputId": "77c2e1d0-e1e7-4454-cd03-c3ef51489d6d"
      },
      "source": [
        "df['timestamp'].describe(include='all')"
      ],
      "execution_count": 151,
      "outputs": [
        {
          "output_type": "execute_result",
          "data": {
            "text/plain": [
              "count    1.012400e+04\n",
              "mean     7.625922e+09\n",
              "std      1.147455e+10\n",
              "min      0.000000e+00\n",
              "25%      5.612984e+08\n",
              "50%      2.616341e+09\n",
              "75%      9.772144e+09\n",
              "max      8.458382e+10\n",
              "Name: timestamp, dtype: float64"
            ]
          },
          "metadata": {
            "tags": []
          },
          "execution_count": 151
        }
      ]
    },
    {
      "cell_type": "markdown",
      "metadata": {
        "id": "VZFxEM_fgljD"
      },
      "source": [
        "Converting this from ms to years may be useful."
      ]
    },
    {
      "cell_type": "code",
      "metadata": {
        "id": "hWglj0dVgv7o",
        "colab": {
          "base_uri": "https://localhost:8080/"
        },
        "outputId": "b508a27e-b624-4202-c81d-3510891118c4"
      },
      "source": [
        "timestamp_in_days = ms_to_days(df['timestamp'])\n",
        "timestamp_in_days.describe(include='all')"
      ],
      "execution_count": 152,
      "outputs": [
        {
          "output_type": "execute_result",
          "data": {
            "text/plain": [
              "count    10124.000000\n",
              "mean        88.262989\n",
              "std        132.807348\n",
              "min          0.000000\n",
              "25%          6.496509\n",
              "50%         30.281725\n",
              "75%        113.103515\n",
              "max        978.979438\n",
              "Name: timestamp, dtype: float64"
            ]
          },
          "metadata": {
            "tags": []
          },
          "execution_count": 152
        }
      ]
    },
    {
      "cell_type": "code",
      "metadata": {
        "id": "ew2EZ-TLhsMU",
        "colab": {
          "base_uri": "https://localhost:8080/",
          "height": 316
        },
        "outputId": "1221069c-a789-478b-b15f-e8863a0b678c"
      },
      "source": [
        "# %time\n",
        "n_bins = int(np.sqrt(len(df)))\n",
        "print(f'n_bins = {n_bins}')\n",
        "timestamp_in_days.hist(bins=n_bins, figsize=(20, 5))\n",
        "plt.title('')"
      ],
      "execution_count": 153,
      "outputs": [
        {
          "output_type": "stream",
          "text": [
            "n_bins = 100\n"
          ],
          "name": "stdout"
        },
        {
          "output_type": "execute_result",
          "data": {
            "text/plain": [
              "Text(0.5, 1.0, '')"
            ]
          },
          "metadata": {
            "tags": []
          },
          "execution_count": 153
        },
        {
          "output_type": "display_data",
          "data": {
            "image/png": "[encoded data removed]",
            "text/plain": [
              "<Figure size 1440x360 with 1 Axes>"
            ]
          },
          "metadata": {
            "tags": [],
            "needs_background": "light"
          }
        }
      ]
    },
    {
      "cell_type": "markdown",
      "metadata": {
        "id": "RX-P3g-JnU95"
      },
      "source": [
        "Let plot to see the distribution of the data, along with summary statistics. The majority of the events are from users accounts that are less than 200 days old."
      ]
    },
    {
      "cell_type": "code",
      "metadata": {
        "id": "RQ8eQm3ndKk0",
        "colab": {
          "base_uri": "https://localhost:8080/",
          "height": 265
        },
        "outputId": "0858473b-b7a8-4554-f142-9d20adc72635"
      },
      "source": [
        "timestamp_in_days.plot(kind='box')\n",
        "plt.ylabel('timestamp_in_days')\n",
        "plt.show()"
      ],
      "execution_count": 154,
      "outputs": [
        {
          "output_type": "display_data",
          "data": {
            "image/png": "[encoded data removed]",
            "text/plain": [
              "<Figure size 432x288 with 1 Axes>"
            ]
          },
          "metadata": {
            "tags": [],
            "needs_background": "light"
          }
        }
      ]
    },
    {
      "cell_type": "markdown",
      "metadata": {
        "id": "f4E1fPS7dU2R"
      },
      "source": [
        "A boxplot would be more informative with a log y-scale"
      ]
    },
    {
      "cell_type": "code",
      "metadata": {
        "id": "1XIlEs9WheWY",
        "colab": {
          "base_uri": "https://localhost:8080/",
          "height": 265
        },
        "outputId": "41653683-7aca-47d2-ef46-8e63471de93e"
      },
      "source": [
        "timestamp_in_days.plot(kind='box', logy=True)\n",
        "plt.ylabel('log(timestamp_in_days)')\n",
        "plt.show()"
      ],
      "execution_count": 155,
      "outputs": [
        {
          "output_type": "display_data",
          "data": {
            "image/png": "[encoded data removed]",
            "text/plain": [
              "<Figure size 432x288 with 1 Axes>"
            ]
          },
          "metadata": {
            "tags": [],
            "needs_background": "light"
          }
        }
      ]
    },
    {
      "cell_type": "markdown",
      "metadata": {
        "id": "nSfWKNg8ib2w"
      },
      "source": [
        ""
      ]
    },
    {
      "cell_type": "markdown",
      "metadata": {
        "id": "CRlpiA6anba7"
      },
      "source": [
        "A box plot shows that that the timestamps generally have values 6 days and 105 days. \n",
        "\n",
        "It would be useful to check later if some users use the platform much more than others.\n",
        "\n",
        "There is a right-skewness but no reason yet to consider these as outliers to drop or correct.\n",
        "\n",
        "Most of the data entries were from relatively \"young\" user accounts, while a minority of data are from older user accounts. The units here are milliseconds since account creations, so the average action took place about 0.23 years after account creation."
      ]
    },
    {
      "cell_type": "code",
      "metadata": {
        "id": "e3nMfBWs32zq",
        "colab": {
          "base_uri": "https://localhost:8080/"
        },
        "outputId": "7023a9ed-aebf-4d95-8ae0-0b3cb5c8b75c"
      },
      "source": [
        "#Add this to the df as a column\r\n",
        "df['timestamp_in_days'] = timestamp_in_days\r\n",
        "df.shape"
      ],
      "execution_count": 156,
      "outputs": [
        {
          "output_type": "execute_result",
          "data": {
            "text/plain": [
              "(10124, 10)"
            ]
          },
          "metadata": {
            "tags": []
          },
          "execution_count": 156
        }
      ]
    },
    {
      "cell_type": "markdown",
      "metadata": {
        "id": "V3WKTd8voCvk"
      },
      "source": [
        "##user_id\n",
        "\n",
        "This is presumed to a unique user id that is randomly distributed to each user, with one per user.\n",
        "\n",
        "This data can be used to relate data etries from the same users through out the data set.\n"
      ]
    },
    {
      "cell_type": "code",
      "metadata": {
        "id": "QJ5rEiUCou6F",
        "colab": {
          "base_uri": "https://localhost:8080/"
        },
        "outputId": "cd877390-1fd8-4f39-add7-71899e920750"
      },
      "source": [
        "#Count the unique users in this data set\n",
        "unique_users = df['user_id'].unique()\n",
        "unique_users"
      ],
      "execution_count": 157,
      "outputs": [
        {
          "output_type": "execute_result",
          "data": {
            "text/plain": [
              "[115, 91216, 220268, 650467, 1084314, ..., 2146686585, 2146925942, 2147012157, 2147192385, 2147481750]\n",
              "Length: 10057\n",
              "Categories (10057, int64): [115, 91216, 220268, 650467, ..., 2146925942, 2147012157, 2147192385,\n",
              "                            2147481750]"
            ]
          },
          "metadata": {
            "tags": []
          },
          "execution_count": 157
        }
      ]
    },
    {
      "cell_type": "code",
      "metadata": {
        "id": "Bd74PGSIWNXN",
        "colab": {
          "base_uri": "https://localhost:8080/"
        },
        "outputId": "87d02006-05d2-4efb-93c2-f023b43d0403"
      },
      "source": [
        "user_id_value_counts = df['user_id'].value_counts()\n",
        "user_id_value_counts"
      ],
      "execution_count": 158,
      "outputs": [
        {
          "output_type": "execute_result",
          "data": {
            "text/plain": [
              "105239469     2\n",
              "377871014     2\n",
              "1674191083    2\n",
              "2048349971    2\n",
              "221811246     2\n",
              "             ..\n",
              "1431642589    1\n",
              "1431397733    1\n",
              "1431211265    1\n",
              "1431072890    1\n",
              "115           1\n",
              "Name: user_id, Length: 10057, dtype: int64"
            ]
          },
          "metadata": {
            "tags": []
          },
          "execution_count": 158
        }
      ]
    },
    {
      "cell_type": "code",
      "metadata": {
        "id": "B1gKXkajWPu0",
        "colab": {
          "base_uri": "https://localhost:8080/",
          "height": 336
        },
        "outputId": "770914bb-3cb8-4b3e-fd15-f66f5d7ca80d"
      },
      "source": [
        "user_id_value_counts[:100].plot(kind='bar')"
      ],
      "execution_count": 159,
      "outputs": [
        {
          "output_type": "execute_result",
          "data": {
            "text/plain": [
              "<matplotlib.axes._subplots.AxesSubplot at 0x7fa0341b2c88>"
            ]
          },
          "metadata": {
            "tags": []
          },
          "execution_count": 159
        },
        {
          "output_type": "display_data",
          "data": {
            "image/png": "[encoded data removed]",
            "text/plain": [
              "<Figure size 432x288 with 1 Axes>"
            ]
          },
          "metadata": {
            "tags": [],
            "needs_background": "light"
          }
        }
      ]
    },
    {
      "cell_type": "code",
      "metadata": {
        "id": "iuCW65QbXauO",
        "colab": {
          "base_uri": "https://localhost:8080/",
          "height": 282
        },
        "outputId": "386d4241-089d-4732-d964-124fc77ff2ba"
      },
      "source": [
        "user_id_value_counts.hist(bins=50)"
      ],
      "execution_count": 160,
      "outputs": [
        {
          "output_type": "execute_result",
          "data": {
            "text/plain": [
              "<matplotlib.axes._subplots.AxesSubplot at 0x7fa034154ac8>"
            ]
          },
          "metadata": {
            "tags": []
          },
          "execution_count": 160
        },
        {
          "output_type": "display_data",
          "data": {
            "image/png": "[encoded data removed]",
            "text/plain": [
              "<Figure size 432x288 with 1 Axes>"
            ]
          },
          "metadata": {
            "tags": [],
            "needs_background": "light"
          }
        }
      ]
    },
    {
      "cell_type": "markdown",
      "metadata": {
        "id": "C4FHOVxnX3ID"
      },
      "source": [
        "We can see that a small minority of users generate most of the "
      ]
    },
    {
      "cell_type": "code",
      "metadata": {
        "id": "aPIbJFBnXqqh",
        "colab": {
          "base_uri": "https://localhost:8080/",
          "height": 282
        },
        "outputId": "f8146545-3044-4625-b81a-ae64ef882304"
      },
      "source": [
        "user_id_value_counts.hist(cumulative=True, bins=100)"
      ],
      "execution_count": 161,
      "outputs": [
        {
          "output_type": "execute_result",
          "data": {
            "text/plain": [
              "<matplotlib.axes._subplots.AxesSubplot at 0x7fa043e870b8>"
            ]
          },
          "metadata": {
            "tags": []
          },
          "execution_count": 161
        },
        {
          "output_type": "display_data",
          "data": {
            "image/png": "[encoded data removed]",
            "text/plain": [
              "<Figure size 432x288 with 1 Axes>"
            ]
          },
          "metadata": {
            "tags": [],
            "needs_background": "light"
          }
        }
      ]
    },
    {
      "cell_type": "markdown",
      "metadata": {
        "id": "XvTpyNCwTyK-"
      },
      "source": [
        "##content_id\n",
        "\n",
        "How many different content_id are there? How often does the most common content_ID occur? Does any small group of content_ids form a disproportionate amount of the events?"
      ]
    },
    {
      "cell_type": "code",
      "metadata": {
        "id": "tdaRHZWmk7j8",
        "colab": {
          "base_uri": "https://localhost:8080/"
        },
        "outputId": "63e53044-4a23-493c-d47b-385ed732bbd6"
      },
      "source": [
        "df_content_id_value_counts = df['content_id'].value_counts()\n",
        "df_content_id_value_counts.describe()"
      ],
      "execution_count": 162,
      "outputs": [
        {
          "output_type": "execute_result",
          "data": {
            "text/plain": [
              "count    5408.000000\n",
              "mean        1.872041\n",
              "std         1.765599\n",
              "min         1.000000\n",
              "25%         1.000000\n",
              "50%         1.000000\n",
              "75%         2.000000\n",
              "max        30.000000\n",
              "Name: content_id, dtype: float64"
            ]
          },
          "metadata": {
            "tags": []
          },
          "execution_count": 162
        }
      ]
    },
    {
      "cell_type": "code",
      "metadata": {
        "id": "jDK8bmj93nDc",
        "colab": {
          "base_uri": "https://localhost:8080/",
          "height": 265
        },
        "outputId": "6e887c3b-f84b-421d-e973-7d83201b2c9c"
      },
      "source": [
        "#Count the unique content_ids and describe the distribution of the counts\n",
        "\n",
        "df_content_id_value_counts.hist(bins=100);"
      ],
      "execution_count": 163,
      "outputs": [
        {
          "output_type": "display_data",
          "data": {
            "image/png": "[encoded data removed]",
            "text/plain": [
              "<Figure size 432x288 with 1 Axes>"
            ]
          },
          "metadata": {
            "tags": [],
            "needs_background": "light"
          }
        }
      ]
    },
    {
      "cell_type": "markdown",
      "metadata": {
        "id": "Vxy5b6JKVbYt"
      },
      "source": [
        "We  13320 unique content ids.\n",
        "\n",
        "The most common content_id occured only {{{df_content_id_value_counts.max()}}} of the time. The average content_id occurs about 0.007% of the time.\n",
        "\n",
        "It may be useful to consider these in groups, because any single content_id is such a small part of the whole set.\n"
      ]
    },
    {
      "cell_type": "markdown",
      "metadata": {
        "id": "uuVlD4IiaVnz"
      },
      "source": [
        "##content_type_id\n",
        "\n",
        ">content_type_id: (int8) 0 if the event was a question being posed to the user, 1 if the event was the user watching a lecture.\n",
        "\n"
      ]
    },
    {
      "cell_type": "code",
      "metadata": {
        "id": "XnBG-YyjazTt",
        "colab": {
          "base_uri": "https://localhost:8080/"
        },
        "outputId": "d224accd-b4d0-4708-9848-6c0be16daacd"
      },
      "source": [
        "#Count the unique content_type_ids and describe the distribution of the counts\n",
        "content_type_id_value_counts = df['content_type_id'].value_counts()\n",
        "content_type_id_value_counts"
      ],
      "execution_count": 164,
      "outputs": [
        {
          "output_type": "execute_result",
          "data": {
            "text/plain": [
              "0    9923\n",
              "1     201\n",
              "Name: content_type_id, dtype: int64"
            ]
          },
          "metadata": {
            "tags": []
          },
          "execution_count": 164
        }
      ]
    },
    {
      "cell_type": "code",
      "metadata": {
        "id": "GJlSNjADlVL4",
        "colab": {
          "base_uri": "https://localhost:8080/",
          "height": 279
        },
        "outputId": "0af22085-2e47-49c7-9bf7-0d4dd59e765f"
      },
      "source": [
        "content_type_id_value_counts.plot(kind='bar')"
      ],
      "execution_count": 165,
      "outputs": [
        {
          "output_type": "execute_result",
          "data": {
            "text/plain": [
              "<matplotlib.axes._subplots.AxesSubplot at 0x7fa033e38c50>"
            ]
          },
          "metadata": {
            "tags": []
          },
          "execution_count": 165
        },
        {
          "output_type": "display_data",
          "data": {
            "image/png": "[encoded data removed]",
            "text/plain": [
              "<Figure size 432x288 with 1 Axes>"
            ]
          },
          "metadata": {
            "tags": [],
            "needs_background": "light"
          }
        }
      ]
    },
    {
      "cell_type": "markdown",
      "metadata": {
        "id": "O5W_B_UXbPu3"
      },
      "source": [
        "We note that ther are only two content_id_types.\n",
        "\n",
        "\n",
        " Most of the data are questions posed to the user."
      ]
    },
    {
      "cell_type": "code",
      "metadata": {
        "id": "v0IpTtCZOCLp",
        "colab": {
          "base_uri": "https://localhost:8080/"
        },
        "outputId": "f823c01b-c4e1-460c-ccd8-f04df1596bbb"
      },
      "source": [
        "print(f\"{100*content_type_id_value_counts[1]/len(df)}% of the data is the user watching a lecture.\")"
      ],
      "execution_count": 166,
      "outputs": [
        {
          "output_type": "stream",
          "text": [
            "1.9853812722244173% of the data is the user watching a lecture.\n"
          ],
          "name": "stdout"
        }
      ]
    },
    {
      "cell_type": "markdown",
      "metadata": {
        "id": "D2LQQeH7d3u1"
      },
      "source": [
        "##task_container_id\n",
        "\n",
        ">task_container_id: (int16) Id code for the batch of questions or lectures. For example, a user might see three questions in a row before seeing the explanations for any of them. Those three would all share a task_container_id."
      ]
    },
    {
      "cell_type": "code",
      "metadata": {
        "id": "OQ5BOshefFAK",
        "colab": {
          "base_uri": "https://localhost:8080/"
        },
        "outputId": "24f06a1d-7656-4fc5-b1c8-000c2be6b7c2"
      },
      "source": [
        "#Count the unique task_container_id and describe the distribution of the counts\n",
        "task_container_id = df['task_container_id']\n",
        "task_container_id.value_counts()"
      ],
      "execution_count": 167,
      "outputs": [
        {
          "output_type": "execute_result",
          "data": {
            "text/plain": [
              "15      88\n",
              "14      75\n",
              "7       72\n",
              "5       63\n",
              "6       55\n",
              "        ..\n",
              "1088     1\n",
              "2443     1\n",
              "1093     1\n",
              "1095     1\n",
              "9975     1\n",
              "Name: task_container_id, Length: 2799, dtype: int64"
            ]
          },
          "metadata": {
            "tags": []
          },
          "execution_count": 167
        }
      ]
    },
    {
      "cell_type": "code",
      "metadata": {
        "id": "lP6gQ6nNgIJA",
        "colab": {
          "base_uri": "https://localhost:8080/"
        },
        "outputId": "1021b990-6ec7-4fcc-e2ac-3c4730f5b7b5"
      },
      "source": [
        "task_container_id.value_counts(normalize=True)"
      ],
      "execution_count": 168,
      "outputs": [
        {
          "output_type": "execute_result",
          "data": {
            "text/plain": [
              "15      0.008692\n",
              "14      0.007408\n",
              "7       0.007112\n",
              "5       0.006223\n",
              "6       0.005433\n",
              "          ...   \n",
              "1088    0.000099\n",
              "2443    0.000099\n",
              "1093    0.000099\n",
              "1095    0.000099\n",
              "9975    0.000099\n",
              "Name: task_container_id, Length: 2799, dtype: float64"
            ]
          },
          "metadata": {
            "tags": []
          },
          "execution_count": 168
        }
      ]
    },
    {
      "cell_type": "code",
      "metadata": {
        "id": "3t-j2KPsfZou",
        "colab": {
          "base_uri": "https://localhost:8080/",
          "height": 282
        },
        "outputId": "c269d836-254a-4b78-fce0-e3af32cd5e00"
      },
      "source": [
        "#Count the unique task_container_id and describe the distribution of the counts\n",
        "\n",
        "task_container_id.hist(bins=30)"
      ],
      "execution_count": 169,
      "outputs": [
        {
          "output_type": "execute_result",
          "data": {
            "text/plain": [
              "<matplotlib.axes._subplots.AxesSubplot at 0x7fa033cd2a90>"
            ]
          },
          "metadata": {
            "tags": []
          },
          "execution_count": 169
        },
        {
          "output_type": "display_data",
          "data": {
            "image/png": "[encoded data removed]",
            "text/plain": [
              "<Figure size 432x288 with 1 Axes>"
            ]
          },
          "metadata": {
            "tags": [],
            "needs_background": "light"
          }
        }
      ]
    },
    {
      "cell_type": "markdown",
      "metadata": {
        "id": "4iZReXXZPb5Y"
      },
      "source": [
        "Of the 10000 task_container_ids, over 85% have a the data use the task_container_id with id less than 2000."
      ]
    },
    {
      "cell_type": "markdown",
      "metadata": {
        "id": "ZR6H9Ayxfsh0"
      },
      "source": [
        "It's notable that the task_container_ids with the lowest numbers tend to occur most frequently. Perhaps these id were not randomly assigned from a hash but were assigned sequentially.\n",
        "\n",
        "It could be useful to dig in to the docs and find if certain task_container_ids have further meaning which could be useful in feature engineering.\n",
        "\n",
        "Many of the highest numbered task_container_id only occur once. It''s possble that these task_container_id are unique to a user."
      ]
    },
    {
      "cell_type": "markdown",
      "metadata": {
        "id": "dBwARSCueM-R"
      },
      "source": [
        "##user_answer\n",
        "\n",
        ">user_answer: (int8) the user's answer to the question, if any. Read -1 as null, for lectures."
      ]
    },
    {
      "cell_type": "code",
      "metadata": {
        "id": "Ex2_QyIhh69H",
        "colab": {
          "base_uri": "https://localhost:8080/"
        },
        "outputId": "d9a1eaa8-c517-43a2-e0fa-11ce796a125a"
      },
      "source": [
        "#Count the unique task_container_id and describe the distribution of the counts\n",
        "user_answer_value_counts = df['user_answer'].value_counts()\n",
        "user_answer_value_counts"
      ],
      "execution_count": 170,
      "outputs": [
        {
          "output_type": "execute_result",
          "data": {
            "text/plain": [
              "0     2774\n",
              "1     2695\n",
              "3     2620\n",
              "2     1834\n",
              "-1     201\n",
              "Name: user_answer, dtype: int64"
            ]
          },
          "metadata": {
            "tags": []
          },
          "execution_count": 170
        }
      ]
    },
    {
      "cell_type": "code",
      "metadata": {
        "id": "W4lroLuTiLLk",
        "colab": {
          "base_uri": "https://localhost:8080/"
        },
        "outputId": "461fbe27-182a-427b-aed5-be998bc0203d"
      },
      "source": [
        "user_answer_value_counts_normalized = df['user_answer'].value_counts(normalize=True)\n",
        "user_answer_value_counts_normalized"
      ],
      "execution_count": 171,
      "outputs": [
        {
          "output_type": "execute_result",
          "data": {
            "text/plain": [
              "0     0.274002\n",
              "1     0.266199\n",
              "3     0.258791\n",
              "2     0.181154\n",
              "-1    0.019854\n",
              "Name: user_answer, dtype: float64"
            ]
          },
          "metadata": {
            "tags": []
          },
          "execution_count": 171
        }
      ]
    },
    {
      "cell_type": "code",
      "metadata": {
        "id": "f8QifbvYQmHP",
        "colab": {
          "base_uri": "https://localhost:8080/",
          "height": 282
        },
        "outputId": "99f09902-15cf-4dda-dc20-ce66c40669d0"
      },
      "source": [
        "user_answer_value_counts_normalized.plot(kind='bar')"
      ],
      "execution_count": 172,
      "outputs": [
        {
          "output_type": "execute_result",
          "data": {
            "text/plain": [
              "<matplotlib.axes._subplots.AxesSubplot at 0x7fa033d1e828>"
            ]
          },
          "metadata": {
            "tags": []
          },
          "execution_count": 172
        },
        {
          "output_type": "display_data",
          "data": {
            "image/png": "[encoded data removed]",
            "text/plain": [
              "<Figure size 432x288 with 1 Axes>"
            ]
          },
          "metadata": {
            "tags": [],
            "needs_background": "light"
          }
        }
      ]
    },
    {
      "cell_type": "markdown",
      "metadata": {
        "id": "dRciaezpfR1S"
      },
      "source": [
        "W can see here that about 2% of the events ((encoded as '-1') were lectures --not questions--so no answer was asked from the student.\r\n",
        "\r\n",
        "Let's split the Dataframe so that we continue to examine only the questions, not the lectures."
      ]
    },
    {
      "cell_type": "markdown",
      "metadata": {
        "id": "C5ccYKfpf4hM"
      },
      "source": [
        "###Splitting the data into lectures and questions dataframes"
      ]
    },
    {
      "cell_type": "code",
      "metadata": {
        "id": "x8YPBbjgfyE1",
        "colab": {
          "base_uri": "https://localhost:8080/"
        },
        "outputId": "329f5b24-5baf-4fcf-a89b-05d9b299e3c9"
      },
      "source": [
        "is_lecture= df['user_answer'] == -1\r\n",
        "is_question = df['user_answer'] != -1\r\n",
        "\r\n",
        "df_l = df[is_lecture]\r\n",
        "df_q = df[is_question]\r\n",
        "\r\n",
        "df_q.shape, df_l.shape"
      ],
      "execution_count": 173,
      "outputs": [
        {
          "output_type": "execute_result",
          "data": {
            "text/plain": [
              "((9923, 10), (201, 10))"
            ]
          },
          "metadata": {
            "tags": []
          },
          "execution_count": 173
        }
      ]
    },
    {
      "cell_type": "markdown",
      "metadata": {
        "id": "P9Y-AjRVhO8d"
      },
      "source": [
        "From here, let's consider only the questions data."
      ]
    },
    {
      "cell_type": "code",
      "metadata": {
        "id": "-27SeDLpt9fH",
        "colab": {
          "base_uri": "https://localhost:8080/",
          "height": 619
        },
        "outputId": "9720e819-8e5e-4b96-eb03-7af49b458318"
      },
      "source": [
        "df_q.answered_correctly = df.answered_correctly.astype(int)\n",
        "df_q.groupby(['user_answer'])[['answered_correctly']].mean().plot(kind='bar').set_ylabel('Count')\n",
        "df_q.groupby(['user_answer'])[['answered_correctly']].mean()"
      ],
      "execution_count": 174,
      "outputs": [
        {
          "output_type": "stream",
          "text": [
            "/usr/local/lib/python3.6/dist-packages/pandas/core/generic.py:5170: SettingWithCopyWarning: \n",
            "A value is trying to be set on a copy of a slice from a DataFrame.\n",
            "Try using .loc[row_indexer,col_indexer] = value instead\n",
            "\n",
            "See the caveats in the documentation: https://pandas.pydata.org/pandas-docs/stable/user_guide/indexing.html#returning-a-view-versus-a-copy\n",
            "  self[name] = value\n"
          ],
          "name": "stderr"
        },
        {
          "output_type": "execute_result",
          "data": {
            "text/html": [
              "<div>\n",
              "<style scoped>\n",
              "    .dataframe tbody tr th:only-of-type {\n",
              "        vertical-align: middle;\n",
              "    }\n",
              "\n",
              "    .dataframe tbody tr th {\n",
              "        vertical-align: top;\n",
              "    }\n",
              "\n",
              "    .dataframe thead th {\n",
              "        text-align: right;\n",
              "    }\n",
              "</style>\n",
              "<table border=\"1\" class=\"dataframe\">\n",
              "  <thead>\n",
              "    <tr style=\"text-align: right;\">\n",
              "      <th></th>\n",
              "      <th>answered_correctly</th>\n",
              "    </tr>\n",
              "    <tr>\n",
              "      <th>user_answer</th>\n",
              "      <th></th>\n",
              "    </tr>\n",
              "  </thead>\n",
              "  <tbody>\n",
              "    <tr>\n",
              "      <th>-1</th>\n",
              "      <td>NaN</td>\n",
              "    </tr>\n",
              "    <tr>\n",
              "      <th>0</th>\n",
              "      <td>0.656453</td>\n",
              "    </tr>\n",
              "    <tr>\n",
              "      <th>1</th>\n",
              "      <td>0.643043</td>\n",
              "    </tr>\n",
              "    <tr>\n",
              "      <th>2</th>\n",
              "      <td>0.658670</td>\n",
              "    </tr>\n",
              "    <tr>\n",
              "      <th>3</th>\n",
              "      <td>0.660305</td>\n",
              "    </tr>\n",
              "  </tbody>\n",
              "</table>\n",
              "</div>"
            ],
            "text/plain": [
              "             answered_correctly\n",
              "user_answer                    \n",
              "-1                          NaN\n",
              "0                      0.656453\n",
              "1                      0.643043\n",
              "2                      0.658670\n",
              "3                      0.660305"
            ]
          },
          "metadata": {
            "tags": []
          },
          "execution_count": 174
        },
        {
          "output_type": "display_data",
          "data": {
            "image/png": "[encoded data removed]",
            "text/plain": [
              "<Figure size 432x288 with 1 Axes>"
            ]
          },
          "metadata": {
            "tags": [],
            "needs_background": "light"
          }
        }
      ]
    },
    {
      "cell_type": "code",
      "metadata": {
        "id": "34WhxpHsvyKI"
      },
      "source": [
        "#Chi-Square https://machinelearningmastery.com/chi-squared-test-for-machine-learning/\n",
        "\n",
        "# Plot univar and bi-variate charts next to eachother"
      ],
      "execution_count": 175,
      "outputs": []
    },
    {
      "cell_type": "markdown",
      "metadata": {
        "id": "xSIuwcCRigik"
      },
      "source": [
        "It looks like the these are multiple choice answers. Of the 4 nonlecture types, it looks like there is a negative bias on category 2. That is, users answer '2' less often then expected from chance alone. It could be that the users are inherently biased aginast answering with  '2', or possibly, the questions creators are have biased questions so that users are less likely to select '2', or it could be something else. \n",
        "\n",
        "We may have to transform this column later so that the '-1' values are not in this coloumn, depending on the requirements of the pipelines we use later. An easy transform might be to asssign NaN to these '-1' values."
      ]
    },
    {
      "cell_type": "markdown",
      "metadata": {
        "id": "A-pMM2ZTeS_W"
      },
      "source": [
        "##answered_correctly (Target variable)\n",
        "\n",
        "`answered_correctly: (int8) if the user responded correctly. Read -1 as null, for lectures.`"
      ]
    },
    {
      "cell_type": "code",
      "metadata": {
        "id": "o1hI_zCQh7tG",
        "colab": {
          "base_uri": "https://localhost:8080/"
        },
        "outputId": "552eeee1-36a9-4c4f-c347-f7f8798f72ca"
      },
      "source": [
        "#Count the unique task_container_id and describe the distribution of the counts\n",
        "df_q['answered_correctly'].value_counts()"
      ],
      "execution_count": 176,
      "outputs": [
        {
          "output_type": "execute_result",
          "data": {
            "text/plain": [
              "1    6492\n",
              "0    3431\n",
              "Name: answered_correctly, dtype: int64"
            ]
          },
          "metadata": {
            "tags": []
          },
          "execution_count": 176
        }
      ]
    },
    {
      "cell_type": "code",
      "metadata": {
        "id": "XHPvuTXakGwI",
        "colab": {
          "base_uri": "https://localhost:8080/"
        },
        "outputId": "18de863d-9c31-4029-920d-47f5997aaf41"
      },
      "source": [
        "#Check the frequency of each count\n",
        "df_q['answered_correctly'].value_counts(normalize=True)"
      ],
      "execution_count": 177,
      "outputs": [
        {
          "output_type": "execute_result",
          "data": {
            "text/plain": [
              "1    0.654238\n",
              "0    0.345762\n",
              "Name: answered_correctly, dtype: float64"
            ]
          },
          "metadata": {
            "tags": []
          },
          "execution_count": 177
        }
      ]
    },
    {
      "cell_type": "markdown",
      "metadata": {
        "id": "ihqiMSOfkX9_"
      },
      "source": [
        "The '-1' occurs here exactly as frequent as in user_answer. It might be best to seperate the lecture rows entirtely from the rest of the dataframe, rather than transform it."
      ]
    },
    {
      "cell_type": "markdown",
      "metadata": {
        "id": "STqeEFEGeakl"
      },
      "source": [
        "##prior_question_elapsed_time\n",
        "\n",
        "`prior_question_elapsed_time: (float32) The average time in milliseconds it took a user to answer each question in the previous question bundle, ignoring any lectures in between. Is null for a user's first question bundle or lecture. Note that the time is the average time a user took to solve each question in the previous bundle.`\n",
        "\n",
        "It might be possible to determine each user's first lecture from this point alone.\n",
        " "
      ]
    },
    {
      "cell_type": "code",
      "metadata": {
        "id": "jvMeCNSeh8V0",
        "colab": {
          "base_uri": "https://localhost:8080/"
        },
        "outputId": "aaa8f85f-f562-4979-fcdb-0884c46d468b"
      },
      "source": [
        "#Count the unique prior_question_elapsed_time and describe the distribution of the counts\n",
        "prior_question_elapsed_time = df_q['prior_question_elapsed_time']\n",
        "prior_question_elapsed_time.value_counts()"
      ],
      "execution_count": 178,
      "outputs": [
        {
          "output_type": "execute_result",
          "data": {
            "text/plain": [
              "17000.0     494\n",
              "18000.0     471\n",
              "16000.0     442\n",
              "19000.0     387\n",
              "20000.0     376\n",
              "           ... \n",
              "43666.0       1\n",
              "1800.0        1\n",
              "121600.0      1\n",
              "31800.0       1\n",
              "69800.0       1\n",
              "Name: prior_question_elapsed_time, Length: 653, dtype: int64"
            ]
          },
          "metadata": {
            "tags": []
          },
          "execution_count": 178
        }
      ]
    },
    {
      "cell_type": "code",
      "metadata": {
        "id": "xbwUkAZKxTTJ",
        "colab": {
          "base_uri": "https://localhost:8080/"
        },
        "outputId": "811d53c3-1456-460a-c16a-0c56bdac38b8"
      },
      "source": [
        "#Check the frequency of each count\n",
        "prior_question_elapsed_time.value_counts(normalize=True)\n"
      ],
      "execution_count": 179,
      "outputs": [
        {
          "output_type": "execute_result",
          "data": {
            "text/plain": [
              "17000.0     0.049889\n",
              "18000.0     0.047566\n",
              "16000.0     0.044637\n",
              "19000.0     0.039083\n",
              "20000.0     0.037972\n",
              "              ...   \n",
              "43666.0     0.000101\n",
              "1800.0      0.000101\n",
              "121600.0    0.000101\n",
              "31800.0     0.000101\n",
              "69800.0     0.000101\n",
              "Name: prior_question_elapsed_time, Length: 653, dtype: float64"
            ]
          },
          "metadata": {
            "tags": []
          },
          "execution_count": 179
        }
      ]
    },
    {
      "cell_type": "code",
      "metadata": {
        "id": "zwisJ7R5CYe5",
        "colab": {
          "base_uri": "https://localhost:8080/",
          "height": 265
        },
        "outputId": "f7ce0c92-9523-458f-dfc6-212c1b5baf55"
      },
      "source": [
        "\n",
        "plt.hist(prior_question_elapsed_time, bins=1000)\n",
        "plt.xlim((14000, 21000))\n",
        "plt.show()\n"
      ],
      "execution_count": 180,
      "outputs": [
        {
          "output_type": "display_data",
          "data": {
            "image/png": "[encoded data removed]",
            "text/plain": [
              "<Figure size 432x288 with 1 Axes>"
            ]
          },
          "metadata": {
            "tags": [],
            "needs_background": "light"
          }
        }
      ]
    },
    {
      "cell_type": "markdown",
      "metadata": {
        "id": "1KbIhI1rx_zJ"
      },
      "source": [
        "Well, this looks peculiar. The top 5 value counts are 17.000 seconds, 16.000 seconds, 18.000 seconds, 19.000 seconds, and 15.000. The units is milliseconds, but these top five values appear to either have been rounded to the nearest second, or the students are machinely-like in their precision of submitting the answer on the exact milliseconds so that the delay is multiple of 1000 millisenconds. \n",
        "\n",
        "Alternatively, an automated tool, like a test-taking bot--designed to harvest test questions by guessing any answer while scraping the question content to store in a database for use later--has been answering questions with a simulated delay that can be modeled by a discrete normal distribution with mean 17000. The magnitude of this hypoithesized automnation is such that around 20% of all answers submitted could fit this model.\n",
        "\n",
        "Cross-referencing user_ids connected to these anomolus prior_question_elapsed_time values could lend support to the hypothesis if there are a small number of user ids who make a disprotionate amount of all answers.\n",
        "\n",
        "If the hypothesis is true,\n",
        "It may be useful later to feature-engineer these automated users (bots) into their own column or dataframe, as their behavior could be quite different from the human users. It may be easier to model the responses of the bots seperately from the humans.\n",
        "\n",
        "An alternative explanation could be that, assuming this educational platform is accessed via a web browser, some web browsers may round times  to whole-number of seconds. It unlikely though. Also, this fails to address the simulated discrete normal distribution about 17.000 seconds."
      ]
    },
    {
      "cell_type": "markdown",
      "metadata": {
        "id": "-aqhaiwj4gM3"
      },
      "source": [
        "Let's continue without seperating the two populations for now..."
      ]
    },
    {
      "cell_type": "code",
      "metadata": {
        "id": "1iXGId1h3JBb",
        "colab": {
          "base_uri": "https://localhost:8080/",
          "height": 282
        },
        "outputId": "ecf6c4f3-e70b-4a16-834d-ad8ad20aa426"
      },
      "source": [
        "prior_question_elapsed_time.hist(bins=50)"
      ],
      "execution_count": 181,
      "outputs": [
        {
          "output_type": "execute_result",
          "data": {
            "text/plain": [
              "<matplotlib.axes._subplots.AxesSubplot at 0x7fa0332409e8>"
            ]
          },
          "metadata": {
            "tags": []
          },
          "execution_count": 181
        },
        {
          "output_type": "display_data",
          "data": {
            "image/png": "[encoded data removed]",
            "text/plain": [
              "<Figure size 432x288 with 1 Axes>"
            ]
          },
          "metadata": {
            "tags": [],
            "needs_background": "light"
          }
        }
      ]
    },
    {
      "cell_type": "code",
      "metadata": {
        "id": "CD5ZZyC71z4r",
        "colab": {
          "base_uri": "https://localhost:8080/"
        },
        "outputId": "6818f455-ca70-44e4-8e9d-d399fb4dd31c"
      },
      "source": [
        "prior_question_elapsed_time.describe()"
      ],
      "execution_count": 182,
      "outputs": [
        {
          "output_type": "execute_result",
          "data": {
            "text/plain": [
              "count      9902.000000\n",
              "mean      25627.199455\n",
              "std       20388.997413\n",
              "min           0.000000\n",
              "25%       16000.000000\n",
              "50%       21000.000000\n",
              "75%       29666.000000\n",
              "max      300000.000000\n",
              "Name: prior_question_elapsed_time, dtype: float64"
            ]
          },
          "metadata": {
            "tags": []
          },
          "execution_count": 182
        }
      ]
    },
    {
      "cell_type": "code",
      "metadata": {
        "id": "4R6XsG6T4OF6",
        "colab": {
          "base_uri": "https://localhost:8080/",
          "height": 283
        },
        "outputId": "9316f5dc-375e-4d1a-e7ef-25f497d3edc6"
      },
      "source": [
        "prior_question_elapsed_time.plot(kind='box')"
      ],
      "execution_count": 183,
      "outputs": [
        {
          "output_type": "execute_result",
          "data": {
            "text/plain": [
              "<matplotlib.axes._subplots.AxesSubplot at 0x7fa03317b518>"
            ]
          },
          "metadata": {
            "tags": []
          },
          "execution_count": 183
        },
        {
          "output_type": "display_data",
          "data": {
            "image/png": "[encoded data removed]",
            "text/plain": [
              "<Figure size 432x288 with 1 Axes>"
            ]
          },
          "metadata": {
            "tags": [],
            "needs_background": "light"
          }
        }
      ]
    },
    {
      "cell_type": "markdown",
      "metadata": {
        "id": "kikUcyYfRUZf"
      },
      "source": [
        "Using a log scale on the y-axis for clarity:"
      ]
    },
    {
      "cell_type": "code",
      "metadata": {
        "id": "-_jdOoDpnyG3",
        "colab": {
          "base_uri": "https://localhost:8080/",
          "height": 283
        },
        "outputId": "ad7426e0-6417-40b4-9dc5-8c3836cbc0d5"
      },
      "source": [
        "prior_question_elapsed_time.plot(kind='box', logy=True)"
      ],
      "execution_count": 184,
      "outputs": [
        {
          "output_type": "execute_result",
          "data": {
            "text/plain": [
              "<matplotlib.axes._subplots.AxesSubplot at 0x7fa0330e7860>"
            ]
          },
          "metadata": {
            "tags": []
          },
          "execution_count": 184
        },
        {
          "output_type": "display_data",
          "data": {
            "image/png": "[encoded data removed]",
            "text/plain": [
              "<Figure size 432x288 with 1 Axes>"
            ]
          },
          "metadata": {
            "tags": [],
            "needs_background": "light"
          }
        }
      ]
    },
    {
      "cell_type": "markdown",
      "metadata": {
        "id": "TjLUwisCxvAQ"
      },
      "source": [
        "Mean time to answer the last question is about 25 seconds; the median is 21.000 seconds.\n",
        "\n",
        "The effect of the hypothesized bot subpopulation is large enough that it is convolutes our summary statistics on the whole population. We see that the 25th-percentile and median are 16.000 seconds and 21.000 seconds. \n",
        "\n",
        "It looks like there a hard cutoff on answer times at 5 minutes (300000 milliseconds).\n",
        "\n",
        "We might have to discard answers given with delay 0, as I don't know what they mean yet.\n"
      ]
    },
    {
      "cell_type": "markdown",
      "metadata": {
        "id": "mR5jNmX5xu-f"
      },
      "source": [
        ""
      ]
    },
    {
      "cell_type": "markdown",
      "metadata": {
        "id": "1nkMDouaee1G"
      },
      "source": [
        "##prior_question_had_explanation\n",
        "\n",
        "`prior_question_had_explanation: (bool) Whether or not the user saw an explanation and the correct response(s) after answering the previous question bundle, ignoring any lectures in between. The value is shared across a single question bundle, and is null for a user's first question bundle or lecture. Typically the first several questions a user sees were part of an onboarding diagnostic test where they did not get any feedback.`\n",
        "\n",
        "\n",
        "\n"
      ]
    },
    {
      "cell_type": "markdown",
      "metadata": {
        "id": "rywVkA6vJgTn"
      },
      "source": [
        ""
      ]
    },
    {
      "cell_type": "code",
      "metadata": {
        "id": "6beSdjHiJteu"
      },
      "source": [
        "prior_question_had_explanation = df['prior_question_had_explanation']"
      ],
      "execution_count": 185,
      "outputs": []
    },
    {
      "cell_type": "code",
      "metadata": {
        "id": "6Isp4-BLekc1",
        "colab": {
          "base_uri": "https://localhost:8080/"
        },
        "outputId": "d08344e6-6334-412d-ec7e-1e2e3c04326f"
      },
      "source": [
        "prior_question_had_explanation.value_counts()"
      ],
      "execution_count": 186,
      "outputs": [
        {
          "output_type": "execute_result",
          "data": {
            "text/plain": [
              "True     8999\n",
              "False    1125\n",
              "Name: prior_question_had_explanation, dtype: int64"
            ]
          },
          "metadata": {
            "tags": []
          },
          "execution_count": 186
        }
      ]
    },
    {
      "cell_type": "markdown",
      "metadata": {
        "id": "ai0cenveJ9RB"
      },
      "source": [
        "I'm not quite sure what this means here. I might have to read the documentation more to learn about what the nearly 90% fraction of prioor questions that had an explanation after."
      ]
    },
    {
      "cell_type": "markdown",
      "metadata": {
        "id": "C8aTA0VWPX_s"
      },
      "source": [
        "#Exploring the data in each column vs the target variable."
      ]
    },
    {
      "cell_type": "code",
      "metadata": {
        "id": "6hw3iaGe8sjR",
        "colab": {
          "base_uri": "https://localhost:8080/"
        },
        "outputId": "b72d30d9-00a2-4271-8f66-57776b86205f"
      },
      "source": [
        "#Create a list of features\n",
        "target_var_str = 'answered_correctly'\n",
        "features = [feature for feature in df.columns if feature not in [target_var_str]]\n",
        "features"
      ],
      "execution_count": 187,
      "outputs": [
        {
          "output_type": "execute_result",
          "data": {
            "text/plain": [
              "['timestamp',\n",
              " 'user_id',\n",
              " 'content_id',\n",
              " 'content_type_id',\n",
              " 'task_container_id',\n",
              " 'user_answer',\n",
              " 'prior_question_elapsed_time',\n",
              " 'prior_question_had_explanation',\n",
              " 'timestamp_in_days']"
            ]
          },
          "metadata": {
            "tags": []
          },
          "execution_count": 187
        }
      ]
    },
    {
      "cell_type": "markdown",
      "metadata": {
        "id": "mRCy0i9dZ-I9"
      },
      "source": [
        "##Numerical Variables vs the target variable (Box plots)"
      ]
    },
    {
      "cell_type": "code",
      "metadata": {
        "colab": {
          "base_uri": "https://localhost:8080/"
        },
        "id": "qk1wxFmp9fI2",
        "outputId": "a4c7fa89-c9dc-44a3-894a-b1e480d94b8d"
      },
      "source": [
        "#Numerical variables\r\n",
        "numerical_columns = df.select_dtypes(include=['int64', 'float64']).columns\r\n",
        "\r\n",
        "num_vars_list = list(numerical_columns)\r\n",
        "num_vars_list"
      ],
      "execution_count": 188,
      "outputs": [
        {
          "output_type": "execute_result",
          "data": {
            "text/plain": [
              "['timestamp', 'prior_question_elapsed_time', 'timestamp_in_days']"
            ]
          },
          "metadata": {
            "tags": []
          },
          "execution_count": 188
        }
      ]
    },
    {
      "cell_type": "markdown",
      "metadata": {
        "id": "cQOC5OJ8mj1s"
      },
      "source": [
        "###prior_question_elapsed_time"
      ]
    },
    {
      "cell_type": "code",
      "metadata": {
        "id": "wWWfCrBNDq5w",
        "colab": {
          "base_uri": "https://localhost:8080/",
          "height": 142
        },
        "outputId": "499532e0-c274-4721-fb78-3651dbd8272d"
      },
      "source": [
        "df_q.groupby('answered_correctly')['prior_question_elapsed_time'].describe()"
      ],
      "execution_count": 189,
      "outputs": [
        {
          "output_type": "execute_result",
          "data": {
            "text/html": [
              "<div>\n",
              "<style scoped>\n",
              "    .dataframe tbody tr th:only-of-type {\n",
              "        vertical-align: middle;\n",
              "    }\n",
              "\n",
              "    .dataframe tbody tr th {\n",
              "        vertical-align: top;\n",
              "    }\n",
              "\n",
              "    .dataframe thead th {\n",
              "        text-align: right;\n",
              "    }\n",
              "</style>\n",
              "<table border=\"1\" class=\"dataframe\">\n",
              "  <thead>\n",
              "    <tr style=\"text-align: right;\">\n",
              "      <th></th>\n",
              "      <th>count</th>\n",
              "      <th>mean</th>\n",
              "      <th>std</th>\n",
              "      <th>min</th>\n",
              "      <th>25%</th>\n",
              "      <th>50%</th>\n",
              "      <th>75%</th>\n",
              "      <th>max</th>\n",
              "    </tr>\n",
              "    <tr>\n",
              "      <th>answered_correctly</th>\n",
              "      <th></th>\n",
              "      <th></th>\n",
              "      <th></th>\n",
              "      <th></th>\n",
              "      <th></th>\n",
              "      <th></th>\n",
              "      <th></th>\n",
              "      <th></th>\n",
              "    </tr>\n",
              "  </thead>\n",
              "  <tbody>\n",
              "    <tr>\n",
              "      <th>0</th>\n",
              "      <td>3424.0</td>\n",
              "      <td>25427.279790</td>\n",
              "      <td>20452.907143</td>\n",
              "      <td>0.0</td>\n",
              "      <td>15000.0</td>\n",
              "      <td>21000.0</td>\n",
              "      <td>30000.0</td>\n",
              "      <td>300000.0</td>\n",
              "    </tr>\n",
              "    <tr>\n",
              "      <th>1</th>\n",
              "      <td>6478.0</td>\n",
              "      <td>25732.868632</td>\n",
              "      <td>20355.924245</td>\n",
              "      <td>0.0</td>\n",
              "      <td>16000.0</td>\n",
              "      <td>21000.0</td>\n",
              "      <td>29250.0</td>\n",
              "      <td>300000.0</td>\n",
              "    </tr>\n",
              "  </tbody>\n",
              "</table>\n",
              "</div>"
            ],
            "text/plain": [
              "                     count          mean  ...      75%       max\n",
              "answered_correctly                        ...                   \n",
              "0                   3424.0  25427.279790  ...  30000.0  300000.0\n",
              "1                   6478.0  25732.868632  ...  29250.0  300000.0\n",
              "\n",
              "[2 rows x 8 columns]"
            ]
          },
          "metadata": {
            "tags": []
          },
          "execution_count": 189
        }
      ]
    },
    {
      "cell_type": "code",
      "metadata": {
        "id": "YpWJn7VBpvu6",
        "colab": {
          "base_uri": "https://localhost:8080/",
          "height": 428
        },
        "outputId": "26e62fda-e218-4d3c-b4ec-9087e1f1e56d"
      },
      "source": [
        "# df.plot(kind='box', x='answered_correctly', y='prior_question_elapsed_time', logy=True)\n",
        "\n",
        "df_q.boxplot(column=['prior_question_elapsed_time'],by = ['answered_correctly'], rot=90, figsize=(10,5)).set_yscale('log')\n",
        "plt.xlabel('Answered Correctly')\n",
        "plt.ylabel('Prior Question Elapsed Time (ms)')"
      ],
      "execution_count": 190,
      "outputs": [
        {
          "output_type": "stream",
          "text": [
            "/usr/local/lib/python3.6/dist-packages/numpy/core/_asarray.py:83: VisibleDeprecationWarning: Creating an ndarray from ragged nested sequences (which is a list-or-tuple of lists-or-tuples-or ndarrays with different lengths or shapes) is deprecated. If you meant to do this, you must specify 'dtype=object' when creating the ndarray\n",
            "  return array(a, dtype, copy=False, order=order)\n"
          ],
          "name": "stderr"
        },
        {
          "output_type": "execute_result",
          "data": {
            "text/plain": [
              "Text(0, 0.5, 'Prior Question Elapsed Time (ms)')"
            ]
          },
          "metadata": {
            "tags": []
          },
          "execution_count": 190
        },
        {
          "output_type": "display_data",
          "data": {
            "image/png": "[encoded data removed]",
            "text/plain": [
              "<Figure size 720x360 with 1 Axes>"
            ]
          },
          "metadata": {
            "tags": [],
            "needs_background": "light"
          }
        }
      ]
    },
    {
      "cell_type": "code",
      "metadata": {
        "id": "7x-gmdNHrePl",
        "colab": {
          "base_uri": "https://localhost:8080/"
        },
        "outputId": "fe502acb-5b2a-4260-e741-1952e9e3fad3"
      },
      "source": [
        "df_q.isna().count()"
      ],
      "execution_count": 191,
      "outputs": [
        {
          "output_type": "execute_result",
          "data": {
            "text/plain": [
              "timestamp                         9923\n",
              "user_id                           9923\n",
              "content_id                        9923\n",
              "content_type_id                   9923\n",
              "task_container_id                 9923\n",
              "user_answer                       9923\n",
              "answered_correctly                9923\n",
              "prior_question_elapsed_time       9923\n",
              "prior_question_had_explanation    9923\n",
              "timestamp_in_days                 9923\n",
              "dtype: int64"
            ]
          },
          "metadata": {
            "tags": []
          },
          "execution_count": 191
        }
      ]
    },
    {
      "cell_type": "code",
      "metadata": {
        "id": "exqp2JUkqZom",
        "colab": {
          "base_uri": "https://localhost:8080/"
        },
        "outputId": "93f5bcd8-b9ba-4ad8-8260-15eec3659851"
      },
      "source": [
        "from scipy import stats\n",
        "rvs1 = df_q[df_q['answered_correctly'] == 0]['prior_question_elapsed_time'].dropna()\n",
        "rvs2 = df_q[df_q['answered_correctly'] == 1]['prior_question_elapsed_time'].dropna()\n",
        "stats.ttest_ind(rvs1,rvs2)"
      ],
      "execution_count": 192,
      "outputs": [
        {
          "output_type": "execute_result",
          "data": {
            "text/plain": [
              "Ttest_indResult(statistic=-0.7093435350343358, pvalue=0.4781280231793765)"
            ]
          },
          "metadata": {
            "tags": []
          },
          "execution_count": 192
        }
      ]
    },
    {
      "cell_type": "code",
      "metadata": {
        "id": "pvSUkPZjsehn",
        "colab": {
          "base_uri": "https://localhost:8080/"
        },
        "outputId": "2dc1c4de-e81f-4dc2-afa7-41604e1255f2"
      },
      "source": [
        "rvs1.mean(), rvs2.mean()"
      ],
      "execution_count": 193,
      "outputs": [
        {
          "output_type": "execute_result",
          "data": {
            "text/plain": [
              "(25427.279789719625, 25732.868632293917)"
            ]
          },
          "metadata": {
            "tags": []
          },
          "execution_count": 193
        }
      ]
    },
    {
      "cell_type": "markdown",
      "metadata": {
        "id": "pYnm9SKklp9S"
      },
      "source": [
        "The average prior_question_elapsed_time that is smaller correlates with the correct answer on the current question. "
      ]
    },
    {
      "cell_type": "markdown",
      "metadata": {
        "id": "F6ShBCLCULF4"
      },
      "source": [
        "###user_id grouped by account age\n",
        "\n",
        "Do older user accounts have a higher rate of answering correctly?"
      ]
    },
    {
      "cell_type": "code",
      "metadata": {
        "id": "UInWL3qTUUVx"
      },
      "source": [
        "# We can group the users by account age by finding the answer for each user with the largest stamp. \n",
        "user_id_timestamp_max = df.groupby('user_id')['timestamp'].max()"
      ],
      "execution_count": 194,
      "outputs": []
    },
    {
      "cell_type": "code",
      "metadata": {
        "id": "4ouWBed6q4Oe",
        "colab": {
          "base_uri": "https://localhost:8080/"
        },
        "outputId": "a6f5e50d-be4e-44cb-cd69-65b9be7842e0"
      },
      "source": [
        "user_id_timestamp_max.sort_values(ascending=False).map(ms_to_days)"
      ],
      "execution_count": 195,
      "outputs": [
        {
          "output_type": "execute_result",
          "data": {
            "text/plain": [
              "user_id\n",
              "153187243     978.979438\n",
              "519974433     920.559768\n",
              "1486864723    884.536396\n",
              "197212993     876.051487\n",
              "1857664183    875.484314\n",
              "                 ...    \n",
              "322530642       0.000000\n",
              "324586704       0.000000\n",
              "116101507       0.000000\n",
              "447276618       0.000000\n",
              "115             0.000000\n",
              "Name: timestamp, Length: 10057, dtype: float64"
            ]
          },
          "metadata": {
            "tags": []
          },
          "execution_count": 195
        }
      ]
    },
    {
      "cell_type": "markdown",
      "metadata": {
        "id": "VFLcdNrqrW1p"
      },
      "source": [
        "The oldest accounts are over 900 days old."
      ]
    },
    {
      "cell_type": "code",
      "metadata": {
        "id": "ZbJNqpsax8KA",
        "colab": {
          "base_uri": "https://localhost:8080/",
          "height": 603
        },
        "outputId": "e7110691-73d0-4d1e-b0ca-b2f1a77afa72"
      },
      "source": [
        "df_temp = pd.DataFrame(user_id_timestamp_max)\r\n",
        "df_temp = pd.merge(df_temp, df, on='user_id')\r\n",
        "df.boxplot(column=['timestamp'],by = ['answered_correctly'], rot=90, figsize=(10,5)).set_yscale('log')\r\n",
        "df_temp.head()"
      ],
      "execution_count": 196,
      "outputs": [
        {
          "output_type": "stream",
          "text": [
            "/usr/local/lib/python3.6/dist-packages/numpy/core/_asarray.py:83: VisibleDeprecationWarning: Creating an ndarray from ragged nested sequences (which is a list-or-tuple of lists-or-tuples-or ndarrays with different lengths or shapes) is deprecated. If you meant to do this, you must specify 'dtype=object' when creating the ndarray\n",
            "  return array(a, dtype, copy=False, order=order)\n"
          ],
          "name": "stderr"
        },
        {
          "output_type": "execute_result",
          "data": {
            "text/html": [
              "<div>\n",
              "<style scoped>\n",
              "    .dataframe tbody tr th:only-of-type {\n",
              "        vertical-align: middle;\n",
              "    }\n",
              "\n",
              "    .dataframe tbody tr th {\n",
              "        vertical-align: top;\n",
              "    }\n",
              "\n",
              "    .dataframe thead th {\n",
              "        text-align: right;\n",
              "    }\n",
              "</style>\n",
              "<table border=\"1\" class=\"dataframe\">\n",
              "  <thead>\n",
              "    <tr style=\"text-align: right;\">\n",
              "      <th></th>\n",
              "      <th>user_id</th>\n",
              "      <th>timestamp_x</th>\n",
              "      <th>timestamp_y</th>\n",
              "      <th>content_id</th>\n",
              "      <th>content_type_id</th>\n",
              "      <th>task_container_id</th>\n",
              "      <th>user_answer</th>\n",
              "      <th>answered_correctly</th>\n",
              "      <th>prior_question_elapsed_time</th>\n",
              "      <th>prior_question_had_explanation</th>\n",
              "      <th>timestamp_in_days</th>\n",
              "    </tr>\n",
              "  </thead>\n",
              "  <tbody>\n",
              "    <tr>\n",
              "      <th>0</th>\n",
              "      <td>115</td>\n",
              "      <td>0</td>\n",
              "      <td>0</td>\n",
              "      <td>5692</td>\n",
              "      <td>0</td>\n",
              "      <td>1</td>\n",
              "      <td>3</td>\n",
              "      <td>1</td>\n",
              "      <td>NaN</td>\n",
              "      <td>True</td>\n",
              "      <td>0.000000</td>\n",
              "    </tr>\n",
              "    <tr>\n",
              "      <th>1</th>\n",
              "      <td>91216</td>\n",
              "      <td>2868613211</td>\n",
              "      <td>2868613211</td>\n",
              "      <td>1219</td>\n",
              "      <td>0</td>\n",
              "      <td>780</td>\n",
              "      <td>1</td>\n",
              "      <td>1</td>\n",
              "      <td>17000.0</td>\n",
              "      <td>True</td>\n",
              "      <td>33.201542</td>\n",
              "    </tr>\n",
              "    <tr>\n",
              "      <th>2</th>\n",
              "      <td>220268</td>\n",
              "      <td>14686539127</td>\n",
              "      <td>14686539127</td>\n",
              "      <td>10656</td>\n",
              "      <td>0</td>\n",
              "      <td>1317</td>\n",
              "      <td>0</td>\n",
              "      <td>1</td>\n",
              "      <td>19000.0</td>\n",
              "      <td>True</td>\n",
              "      <td>169.983092</td>\n",
              "    </tr>\n",
              "    <tr>\n",
              "      <th>3</th>\n",
              "      <td>650467</td>\n",
              "      <td>1083486476</td>\n",
              "      <td>1083486476</td>\n",
              "      <td>6857</td>\n",
              "      <td>0</td>\n",
              "      <td>243</td>\n",
              "      <td>3</td>\n",
              "      <td>1</td>\n",
              "      <td>11750.0</td>\n",
              "      <td>True</td>\n",
              "      <td>12.540353</td>\n",
              "    </tr>\n",
              "    <tr>\n",
              "      <th>4</th>\n",
              "      <td>1084314</td>\n",
              "      <td>15426935577</td>\n",
              "      <td>15426935577</td>\n",
              "      <td>6798</td>\n",
              "      <td>0</td>\n",
              "      <td>1515</td>\n",
              "      <td>0</td>\n",
              "      <td>1</td>\n",
              "      <td>9000.0</td>\n",
              "      <td>False</td>\n",
              "      <td>178.552495</td>\n",
              "    </tr>\n",
              "  </tbody>\n",
              "</table>\n",
              "</div>"
            ],
            "text/plain": [
              "   user_id  timestamp_x  ...  prior_question_had_explanation timestamp_in_days\n",
              "0      115            0  ...                            True          0.000000\n",
              "1    91216   2868613211  ...                            True         33.201542\n",
              "2   220268  14686539127  ...                            True        169.983092\n",
              "3   650467   1083486476  ...                            True         12.540353\n",
              "4  1084314  15426935577  ...                           False        178.552495\n",
              "\n",
              "[5 rows x 11 columns]"
            ]
          },
          "metadata": {
            "tags": []
          },
          "execution_count": 196
        },
        {
          "output_type": "display_data",
          "data": {
            "image/png": "[encoded data removed]",
            "text/plain": [
              "<Figure size 720x360 with 1 Axes>"
            ]
          },
          "metadata": {
            "tags": [],
            "needs_background": "light"
          }
        }
      ]
    },
    {
      "cell_type": "code",
      "metadata": {
        "id": "5sGCN0A6yVmm",
        "colab": {
          "base_uri": "https://localhost:8080/"
        },
        "outputId": "53ef1940-e340-4000-8644-b60d3fe0bf1a"
      },
      "source": [
        "df.shape"
      ],
      "execution_count": 197,
      "outputs": [
        {
          "output_type": "execute_result",
          "data": {
            "text/plain": [
              "(10124, 10)"
            ]
          },
          "metadata": {
            "tags": []
          },
          "execution_count": 197
        }
      ]
    },
    {
      "cell_type": "markdown",
      "metadata": {
        "id": "2syAgYpLxygx"
      },
      "source": [
        "###timestamp"
      ]
    },
    {
      "cell_type": "markdown",
      "metadata": {
        "id": "BvRYyLAPuKon"
      },
      "source": [
        "Is there a relationship between timestamp and answered_correctly?"
      ]
    },
    {
      "cell_type": "code",
      "metadata": {
        "id": "cILQ0pmXwkyN",
        "colab": {
          "base_uri": "https://localhost:8080/",
          "height": 412
        },
        "outputId": "63ce353a-9f69-4a39-a2ce-4dcdccb80e91"
      },
      "source": [
        "df_q.boxplot(column=['timestamp'],by = ['answered_correctly'], rot=90, figsize=(10,5)).set_yscale('log')"
      ],
      "execution_count": 198,
      "outputs": [
        {
          "output_type": "stream",
          "text": [
            "/usr/local/lib/python3.6/dist-packages/numpy/core/_asarray.py:83: VisibleDeprecationWarning: Creating an ndarray from ragged nested sequences (which is a list-or-tuple of lists-or-tuples-or ndarrays with different lengths or shapes) is deprecated. If you meant to do this, you must specify 'dtype=object' when creating the ndarray\n",
            "  return array(a, dtype, copy=False, order=order)\n"
          ],
          "name": "stderr"
        },
        {
          "output_type": "display_data",
          "data": {
            "image/png": "[encoded data removed]",
            "text/plain": [
              "<Figure size 720x360 with 1 Axes>"
            ]
          },
          "metadata": {
            "tags": [],
            "needs_background": "light"
          }
        }
      ]
    },
    {
      "cell_type": "markdown",
      "metadata": {
        "id": "DrnORkrp4Tkb"
      },
      "source": [
        "That's hard to visualize, becasue the values are so large. Let's try using the timestamp_in_days"
      ]
    },
    {
      "cell_type": "code",
      "metadata": {
        "id": "0IQJFnZo4Wti",
        "colab": {
          "base_uri": "https://localhost:8080/",
          "height": 412
        },
        "outputId": "7ba5b584-b181-4aab-ce17-fbe2414177d2"
      },
      "source": [
        "df_q.boxplot(column=['timestamp_in_days'],by = ['answered_correctly'], rot=90, figsize=(10,5)).set_yscale('log')"
      ],
      "execution_count": 199,
      "outputs": [
        {
          "output_type": "stream",
          "text": [
            "/usr/local/lib/python3.6/dist-packages/numpy/core/_asarray.py:83: VisibleDeprecationWarning: Creating an ndarray from ragged nested sequences (which is a list-or-tuple of lists-or-tuples-or ndarrays with different lengths or shapes) is deprecated. If you meant to do this, you must specify 'dtype=object' when creating the ndarray\n",
            "  return array(a, dtype, copy=False, order=order)\n"
          ],
          "name": "stderr"
        },
        {
          "output_type": "display_data",
          "data": {
            "image/png": "[encoded data removed]",
            "text/plain": [
              "<Figure size 720x360 with 1 Axes>"
            ]
          },
          "metadata": {
            "tags": [],
            "needs_background": "light"
          }
        }
      ]
    },
    {
      "cell_type": "markdown",
      "metadata": {
        "id": "NHsu1fYn4n3H"
      },
      "source": [
        "That's a bit easier to read. We see that correctly answered questions had larger timestamps and smaller variation in the timestamps."
      ]
    },
    {
      "cell_type": "code",
      "metadata": {
        "id": "RuYMk1iHxENh",
        "colab": {
          "base_uri": "https://localhost:8080/"
        },
        "outputId": "0afa8195-2d9c-47de-e084-cac4c8a44b31"
      },
      "source": [
        "rvs1 = df_q[df_q['answered_correctly'] == 0]['timestamp_in_days'].dropna()\r\n",
        "rvs2 = df_q[df_q['answered_correctly'] == 1]['timestamp_in_days'].dropna()\r\n",
        "stats.ttest_ind(rvs1,rvs2)"
      ],
      "execution_count": 200,
      "outputs": [
        {
          "output_type": "execute_result",
          "data": {
            "text/plain": [
              "Ttest_indResult(statistic=-2.8046432521168554, pvalue=0.005047025807803005)"
            ]
          },
          "metadata": {
            "tags": []
          },
          "execution_count": 200
        }
      ]
    },
    {
      "cell_type": "code",
      "metadata": {
        "id": "Qfbc4RLm3j0H",
        "colab": {
          "base_uri": "https://localhost:8080/"
        },
        "outputId": "6aa76120-7b22-4ee8-accb-9f85bad07210"
      },
      "source": [
        "rvs1.mean(), rvs2.mean()"
      ],
      "execution_count": 201,
      "outputs": [
        {
          "output_type": "execute_result",
          "data": {
            "text/plain": [
              "(82.79912346258111, 90.64228234814654)"
            ]
          },
          "metadata": {
            "tags": []
          },
          "execution_count": 201
        }
      ]
    },
    {
      "cell_type": "markdown",
      "metadata": {
        "id": "xr9mHqmiw5zP"
      },
      "source": [
        "We see that a correctly answered question correlates with an older account. Given a correctly answered question, the associated timestamp is about 10 days larger."
      ]
    },
    {
      "cell_type": "markdown",
      "metadata": {
        "id": "fvh8NpunViX9"
      },
      "source": [
        "###user_id grouped by number of entries"
      ]
    },
    {
      "cell_type": "markdown",
      "metadata": {
        "id": "5xkhcMaA5JW3"
      },
      "source": [
        "Are frequent users more likely to answer correctly than infrequent users?"
      ]
    },
    {
      "cell_type": "code",
      "metadata": {
        "id": "eY523kS0Z_8J",
        "colab": {
          "base_uri": "https://localhost:8080/"
        },
        "outputId": "438fbe2e-10c3-4158-8012-7257e79eca86"
      },
      "source": [
        "#Count entries by each user, each event has a unique timestamp\n",
        "user_id_event_count= df.groupby('user_id')['timestamp'].count()\n",
        "user_id_event_count.sort_values(ascending=False)"
      ],
      "execution_count": 202,
      "outputs": [
        {
          "output_type": "execute_result",
          "data": {
            "text/plain": [
              "user_id\n",
              "105239469     2\n",
              "377871014     2\n",
              "1674191083    2\n",
              "2048349971    2\n",
              "221811246     2\n",
              "             ..\n",
              "1431642589    1\n",
              "1431397733    1\n",
              "1431211265    1\n",
              "1431072890    1\n",
              "115           1\n",
              "Name: timestamp, Length: 10057, dtype: int64"
            ]
          },
          "metadata": {
            "tags": []
          },
          "execution_count": 202
        }
      ]
    },
    {
      "cell_type": "markdown",
      "metadata": {
        "id": "gWg1VLgq6dTw"
      },
      "source": [
        "Let's add this to the DataFrame"
      ]
    },
    {
      "cell_type": "code",
      "metadata": {
        "id": "cdSQV2TpcNXH",
        "colab": {
          "base_uri": "https://localhost:8080/",
          "height": 224
        },
        "outputId": "a4c090c6-9148-4f5a-c626-2ee586e23e9d"
      },
      "source": [
        "df = df.merge(user_id_event_count, how='left', on='user_id', suffixes=('','_y'))\r\n",
        "df['user_id_event_count'] = df['timestamp_y']\r\n",
        "df.drop(columns=['timestamp_y'], inplace=True)\r\n",
        "df.head()"
      ],
      "execution_count": 203,
      "outputs": [
        {
          "output_type": "execute_result",
          "data": {
            "text/html": [
              "<div>\n",
              "<style scoped>\n",
              "    .dataframe tbody tr th:only-of-type {\n",
              "        vertical-align: middle;\n",
              "    }\n",
              "\n",
              "    .dataframe tbody tr th {\n",
              "        vertical-align: top;\n",
              "    }\n",
              "\n",
              "    .dataframe thead th {\n",
              "        text-align: right;\n",
              "    }\n",
              "</style>\n",
              "<table border=\"1\" class=\"dataframe\">\n",
              "  <thead>\n",
              "    <tr style=\"text-align: right;\">\n",
              "      <th></th>\n",
              "      <th>timestamp</th>\n",
              "      <th>user_id</th>\n",
              "      <th>content_id</th>\n",
              "      <th>content_type_id</th>\n",
              "      <th>task_container_id</th>\n",
              "      <th>user_answer</th>\n",
              "      <th>answered_correctly</th>\n",
              "      <th>prior_question_elapsed_time</th>\n",
              "      <th>prior_question_had_explanation</th>\n",
              "      <th>timestamp_in_days</th>\n",
              "      <th>user_id_event_count</th>\n",
              "    </tr>\n",
              "  </thead>\n",
              "  <tbody>\n",
              "    <tr>\n",
              "      <th>0</th>\n",
              "      <td>0</td>\n",
              "      <td>115</td>\n",
              "      <td>5692</td>\n",
              "      <td>0</td>\n",
              "      <td>1</td>\n",
              "      <td>3</td>\n",
              "      <td>1</td>\n",
              "      <td>NaN</td>\n",
              "      <td>True</td>\n",
              "      <td>0.000000</td>\n",
              "      <td>1</td>\n",
              "    </tr>\n",
              "    <tr>\n",
              "      <th>1</th>\n",
              "      <td>2868613211</td>\n",
              "      <td>91216</td>\n",
              "      <td>1219</td>\n",
              "      <td>0</td>\n",
              "      <td>780</td>\n",
              "      <td>1</td>\n",
              "      <td>1</td>\n",
              "      <td>17000.0</td>\n",
              "      <td>True</td>\n",
              "      <td>33.201542</td>\n",
              "      <td>1</td>\n",
              "    </tr>\n",
              "    <tr>\n",
              "      <th>2</th>\n",
              "      <td>14686539127</td>\n",
              "      <td>220268</td>\n",
              "      <td>10656</td>\n",
              "      <td>0</td>\n",
              "      <td>1317</td>\n",
              "      <td>0</td>\n",
              "      <td>1</td>\n",
              "      <td>19000.0</td>\n",
              "      <td>True</td>\n",
              "      <td>169.983092</td>\n",
              "      <td>1</td>\n",
              "    </tr>\n",
              "    <tr>\n",
              "      <th>3</th>\n",
              "      <td>1083486476</td>\n",
              "      <td>650467</td>\n",
              "      <td>6857</td>\n",
              "      <td>0</td>\n",
              "      <td>243</td>\n",
              "      <td>3</td>\n",
              "      <td>1</td>\n",
              "      <td>11750.0</td>\n",
              "      <td>True</td>\n",
              "      <td>12.540353</td>\n",
              "      <td>1</td>\n",
              "    </tr>\n",
              "    <tr>\n",
              "      <th>4</th>\n",
              "      <td>15426935577</td>\n",
              "      <td>1084314</td>\n",
              "      <td>6798</td>\n",
              "      <td>0</td>\n",
              "      <td>1515</td>\n",
              "      <td>0</td>\n",
              "      <td>1</td>\n",
              "      <td>9000.0</td>\n",
              "      <td>False</td>\n",
              "      <td>178.552495</td>\n",
              "      <td>1</td>\n",
              "    </tr>\n",
              "  </tbody>\n",
              "</table>\n",
              "</div>"
            ],
            "text/plain": [
              "     timestamp  user_id  ... timestamp_in_days user_id_event_count\n",
              "0            0      115  ...          0.000000                   1\n",
              "1   2868613211    91216  ...         33.201542                   1\n",
              "2  14686539127   220268  ...        169.983092                   1\n",
              "3   1083486476   650467  ...         12.540353                   1\n",
              "4  15426935577  1084314  ...        178.552495                   1\n",
              "\n",
              "[5 rows x 11 columns]"
            ]
          },
          "metadata": {
            "tags": []
          },
          "execution_count": 203
        }
      ]
    },
    {
      "cell_type": "code",
      "metadata": {
        "id": "cETWGPoO7e00",
        "colab": {
          "base_uri": "https://localhost:8080/",
          "height": 433
        },
        "outputId": "3967d637-6152-4f01-fbb8-d177518a6e17"
      },
      "source": [
        "df.boxplot(column=['user_id_event_count'],by = ['answered_correctly'], rot=90, figsize=(10,5))"
      ],
      "execution_count": 204,
      "outputs": [
        {
          "output_type": "stream",
          "text": [
            "/usr/local/lib/python3.6/dist-packages/numpy/core/_asarray.py:83: VisibleDeprecationWarning: Creating an ndarray from ragged nested sequences (which is a list-or-tuple of lists-or-tuples-or ndarrays with different lengths or shapes) is deprecated. If you meant to do this, you must specify 'dtype=object' when creating the ndarray\n",
            "  return array(a, dtype, copy=False, order=order)\n"
          ],
          "name": "stderr"
        },
        {
          "output_type": "execute_result",
          "data": {
            "text/plain": [
              "<matplotlib.axes._subplots.AxesSubplot at 0x7fa03399e978>"
            ]
          },
          "metadata": {
            "tags": []
          },
          "execution_count": 204
        },
        {
          "output_type": "display_data",
          "data": {
            "image/png": "[encoded data removed]",
            "text/plain": [
              "<Figure size 720x360 with 1 Axes>"
            ]
          },
          "metadata": {
            "tags": [],
            "needs_background": "light"
          }
        }
      ]
    },
    {
      "cell_type": "markdown",
      "metadata": {
        "id": "PZ-YHgyd9ZzK"
      },
      "source": [
        "For incorrectly answered questions, the minimum and the median number of events are 1.\r\n",
        "\r\n",
        "For correctly answered questions, the median is 2."
      ]
    },
    {
      "cell_type": "code",
      "metadata": {
        "id": "gbBWrSnqWD9_",
        "colab": {
          "base_uri": "https://localhost:8080/"
        },
        "outputId": "4506bf0a-1d2c-45c7-c33e-80dd25a44105"
      },
      "source": [
        "rvs1 = df[df['answered_correctly'] == 0]['user_id_event_count'].dropna()\r\n",
        "rvs2 = df[df['answered_correctly'] == 1]['user_id_event_count'].dropna()\r\n",
        "stats.ttest_ind(rvs1,rvs2)"
      ],
      "execution_count": 205,
      "outputs": [
        {
          "output_type": "execute_result",
          "data": {
            "text/plain": [
              "Ttest_indResult(statistic=-0.42433795223076515, pvalue=0.6713285656692859)"
            ]
          },
          "metadata": {
            "tags": []
          },
          "execution_count": 205
        }
      ]
    },
    {
      "cell_type": "code",
      "metadata": {
        "id": "sb-r49KhaLDO",
        "colab": {
          "base_uri": "https://localhost:8080/"
        },
        "outputId": "2438080f-9762-4a1b-9f42-a402717ba92d"
      },
      "source": [
        "rvs1.mean(), rvs2.mean()"
      ],
      "execution_count": 206,
      "outputs": [
        {
          "output_type": "execute_result",
          "data": {
            "text/plain": [
              "(1.0125327892742642, 1.0135551447935922)"
            ]
          },
          "metadata": {
            "tags": []
          },
          "execution_count": 206
        }
      ]
    },
    {
      "cell_type": "markdown",
      "metadata": {
        "id": "T26HtOjw-S5w"
      },
      "source": [
        "Inline with the timestamp column (timestamp is unique to each answer), the older user accounts have a higher accuracy on answering questions."
      ]
    },
    {
      "cell_type": "code",
      "metadata": {
        "id": "OKGF_Wr1HjLo",
        "colab": {
          "base_uri": "https://localhost:8080/"
        },
        "outputId": "75c3e63e-a50e-4fd9-8063-2abdd6aea513"
      },
      "source": [
        "df.user_id.describe()"
      ],
      "execution_count": 207,
      "outputs": [
        {
          "output_type": "execute_result",
          "data": {
            "text/plain": [
              "count         10124\n",
              "unique        10057\n",
              "top       105239469\n",
              "freq              2\n",
              "Name: user_id, dtype: int64"
            ]
          },
          "metadata": {
            "tags": []
          },
          "execution_count": 207
        }
      ]
    },
    {
      "cell_type": "code",
      "metadata": {
        "id": "GA5GyuqxHvLA",
        "colab": {
          "base_uri": "https://localhost:8080/"
        },
        "outputId": "bbcc4118-16b8-470e-b78d-7b51ab2998c3"
      },
      "source": [
        "df.info()"
      ],
      "execution_count": 208,
      "outputs": [
        {
          "output_type": "stream",
          "text": [
            "<class 'pandas.core.frame.DataFrame'>\n",
            "Int64Index: 10124 entries, 0 to 10123\n",
            "Data columns (total 11 columns):\n",
            " #   Column                          Non-Null Count  Dtype   \n",
            "---  ------                          --------------  -----   \n",
            " 0   timestamp                       10124 non-null  int64   \n",
            " 1   user_id                         10124 non-null  category\n",
            " 2   content_id                      10124 non-null  category\n",
            " 3   content_type_id                 10124 non-null  category\n",
            " 4   task_container_id               10124 non-null  category\n",
            " 5   user_answer                     10124 non-null  category\n",
            " 6   answered_correctly              10124 non-null  category\n",
            " 7   prior_question_elapsed_time     9902 non-null   float64 \n",
            " 8   prior_question_had_explanation  10124 non-null  bool    \n",
            " 9   timestamp_in_days               10124 non-null  float64 \n",
            " 10  user_id_event_count             10124 non-null  int64   \n",
            "dtypes: bool(1), category(6), float64(2), int64(2)\n",
            "memory usage: 1.2 MB\n"
          ],
          "name": "stdout"
        }
      ]
    },
    {
      "cell_type": "code",
      "metadata": {
        "id": "OgaQwnaVIsW-",
        "colab": {
          "base_uri": "https://localhost:8080/",
          "height": 224
        },
        "outputId": "06b1f5ca-5869-4bd2-95fb-1b1ae63d306f"
      },
      "source": [
        "df.head()"
      ],
      "execution_count": 209,
      "outputs": [
        {
          "output_type": "execute_result",
          "data": {
            "text/html": [
              "<div>\n",
              "<style scoped>\n",
              "    .dataframe tbody tr th:only-of-type {\n",
              "        vertical-align: middle;\n",
              "    }\n",
              "\n",
              "    .dataframe tbody tr th {\n",
              "        vertical-align: top;\n",
              "    }\n",
              "\n",
              "    .dataframe thead th {\n",
              "        text-align: right;\n",
              "    }\n",
              "</style>\n",
              "<table border=\"1\" class=\"dataframe\">\n",
              "  <thead>\n",
              "    <tr style=\"text-align: right;\">\n",
              "      <th></th>\n",
              "      <th>timestamp</th>\n",
              "      <th>user_id</th>\n",
              "      <th>content_id</th>\n",
              "      <th>content_type_id</th>\n",
              "      <th>task_container_id</th>\n",
              "      <th>user_answer</th>\n",
              "      <th>answered_correctly</th>\n",
              "      <th>prior_question_elapsed_time</th>\n",
              "      <th>prior_question_had_explanation</th>\n",
              "      <th>timestamp_in_days</th>\n",
              "      <th>user_id_event_count</th>\n",
              "    </tr>\n",
              "  </thead>\n",
              "  <tbody>\n",
              "    <tr>\n",
              "      <th>0</th>\n",
              "      <td>0</td>\n",
              "      <td>115</td>\n",
              "      <td>5692</td>\n",
              "      <td>0</td>\n",
              "      <td>1</td>\n",
              "      <td>3</td>\n",
              "      <td>1</td>\n",
              "      <td>NaN</td>\n",
              "      <td>True</td>\n",
              "      <td>0.000000</td>\n",
              "      <td>1</td>\n",
              "    </tr>\n",
              "    <tr>\n",
              "      <th>1</th>\n",
              "      <td>2868613211</td>\n",
              "      <td>91216</td>\n",
              "      <td>1219</td>\n",
              "      <td>0</td>\n",
              "      <td>780</td>\n",
              "      <td>1</td>\n",
              "      <td>1</td>\n",
              "      <td>17000.0</td>\n",
              "      <td>True</td>\n",
              "      <td>33.201542</td>\n",
              "      <td>1</td>\n",
              "    </tr>\n",
              "    <tr>\n",
              "      <th>2</th>\n",
              "      <td>14686539127</td>\n",
              "      <td>220268</td>\n",
              "      <td>10656</td>\n",
              "      <td>0</td>\n",
              "      <td>1317</td>\n",
              "      <td>0</td>\n",
              "      <td>1</td>\n",
              "      <td>19000.0</td>\n",
              "      <td>True</td>\n",
              "      <td>169.983092</td>\n",
              "      <td>1</td>\n",
              "    </tr>\n",
              "    <tr>\n",
              "      <th>3</th>\n",
              "      <td>1083486476</td>\n",
              "      <td>650467</td>\n",
              "      <td>6857</td>\n",
              "      <td>0</td>\n",
              "      <td>243</td>\n",
              "      <td>3</td>\n",
              "      <td>1</td>\n",
              "      <td>11750.0</td>\n",
              "      <td>True</td>\n",
              "      <td>12.540353</td>\n",
              "      <td>1</td>\n",
              "    </tr>\n",
              "    <tr>\n",
              "      <th>4</th>\n",
              "      <td>15426935577</td>\n",
              "      <td>1084314</td>\n",
              "      <td>6798</td>\n",
              "      <td>0</td>\n",
              "      <td>1515</td>\n",
              "      <td>0</td>\n",
              "      <td>1</td>\n",
              "      <td>9000.0</td>\n",
              "      <td>False</td>\n",
              "      <td>178.552495</td>\n",
              "      <td>1</td>\n",
              "    </tr>\n",
              "  </tbody>\n",
              "</table>\n",
              "</div>"
            ],
            "text/plain": [
              "     timestamp  user_id  ... timestamp_in_days user_id_event_count\n",
              "0            0      115  ...          0.000000                   1\n",
              "1   2868613211    91216  ...         33.201542                   1\n",
              "2  14686539127   220268  ...        169.983092                   1\n",
              "3   1083486476   650467  ...         12.540353                   1\n",
              "4  15426935577  1084314  ...        178.552495                   1\n",
              "\n",
              "[5 rows x 11 columns]"
            ]
          },
          "metadata": {
            "tags": []
          },
          "execution_count": 209
        }
      ]
    },
    {
      "cell_type": "markdown",
      "metadata": {
        "id": "MNEFW458-sih"
      },
      "source": [
        "##Categorical Variables vs Target variable (Chi-Square)\r\n",
        "\r\n",
        "Let's list the categorical variables, and define some useful functions for this section."
      ]
    },
    {
      "cell_type": "code",
      "metadata": {
        "id": "d7Aaj_NOwnJE",
        "colab": {
          "base_uri": "https://localhost:8080/"
        },
        "outputId": "3be2eaef-15ee-4bab-b112-50cb6c5e0946"
      },
      "source": [
        "#Categorical variables\r\n",
        "cat_vars_list = list(df.select_dtypes(exclude=['int64', 'float64']).columns)\r\n",
        "cat_vars_list"
      ],
      "execution_count": 210,
      "outputs": [
        {
          "output_type": "execute_result",
          "data": {
            "text/plain": [
              "['user_id',\n",
              " 'content_id',\n",
              " 'content_type_id',\n",
              " 'task_container_id',\n",
              " 'user_answer',\n",
              " 'answered_correctly',\n",
              " 'prior_question_had_explanation']"
            ]
          },
          "metadata": {
            "tags": []
          },
          "execution_count": 210
        }
      ]
    },
    {
      "cell_type": "markdown",
      "metadata": {
        "id": "2tsXwijtzpiG"
      },
      "source": [
        "###user_id\r\n",
        "Recall that there are lots and lots of unique user ids--too many to do a chi square on each. Instead let's do a chi-squar on the top 50 most frequent users."
      ]
    },
    {
      "cell_type": "markdown",
      "metadata": {
        "id": "tvfcgSudEf-y"
      },
      "source": [
        ""
      ]
    },
    {
      "cell_type": "code",
      "metadata": {
        "id": "NuBxwS65Ezzn",
        "colab": {
          "base_uri": "https://localhost:8080/",
          "height": 222
        },
        "outputId": "e91ff724-33c0-49c3-c5e6-16c41d89a17f"
      },
      "source": [
        "user_id_contigency_table = pd.crosstab(index=df_q['answered_correctly'], \r\n",
        "                                       columns=df_q['user_id'], \r\n",
        "                                       margins=True)\r\n",
        "user_id_contigency_table"
      ],
      "execution_count": 211,
      "outputs": [
        {
          "output_type": "execute_result",
          "data": {
            "text/html": [
              "<div>\n",
              "<style scoped>\n",
              "    .dataframe tbody tr th:only-of-type {\n",
              "        vertical-align: middle;\n",
              "    }\n",
              "\n",
              "    .dataframe tbody tr th {\n",
              "        vertical-align: top;\n",
              "    }\n",
              "\n",
              "    .dataframe thead th {\n",
              "        text-align: right;\n",
              "    }\n",
              "</style>\n",
              "<table border=\"1\" class=\"dataframe\">\n",
              "  <thead>\n",
              "    <tr style=\"text-align: right;\">\n",
              "      <th>user_id</th>\n",
              "      <th>115</th>\n",
              "      <th>91216</th>\n",
              "      <th>220268</th>\n",
              "      <th>650467</th>\n",
              "      <th>1084314</th>\n",
              "      <th>1282581</th>\n",
              "      <th>1283420</th>\n",
              "      <th>1502650</th>\n",
              "      <th>1765772</th>\n",
              "      <th>1989232</th>\n",
              "      <th>2078569</th>\n",
              "      <th>2393889</th>\n",
              "      <th>2475583</th>\n",
              "      <th>2678068</th>\n",
              "      <th>2891629</th>\n",
              "      <th>3194563</th>\n",
              "      <th>3270696</th>\n",
              "      <th>3637398</th>\n",
              "      <th>3824269</th>\n",
              "      <th>3892809</th>\n",
              "      <th>4022163</th>\n",
              "      <th>4222121</th>\n",
              "      <th>4324252</th>\n",
              "      <th>4421282</th>\n",
              "      <th>4498487</th>\n",
              "      <th>4702585</th>\n",
              "      <th>4877689</th>\n",
              "      <th>5103696</th>\n",
              "      <th>5365886</th>\n",
              "      <th>5401739</th>\n",
              "      <th>5615405</th>\n",
              "      <th>5986081</th>\n",
              "      <th>6146089</th>\n",
              "      <th>6475477</th>\n",
              "      <th>6610089</th>\n",
              "      <th>6812883</th>\n",
              "      <th>7051394</th>\n",
              "      <th>7171715</th>\n",
              "      <th>7275497</th>\n",
              "      <th>7533242</th>\n",
              "      <th>...</th>\n",
              "      <th>2140302339</th>\n",
              "      <th>2140484826</th>\n",
              "      <th>2140789341</th>\n",
              "      <th>2140997328</th>\n",
              "      <th>2141335877</th>\n",
              "      <th>2141465126</th>\n",
              "      <th>2141640318</th>\n",
              "      <th>2141804691</th>\n",
              "      <th>2141988916</th>\n",
              "      <th>2142317222</th>\n",
              "      <th>2142445885</th>\n",
              "      <th>2142461438</th>\n",
              "      <th>2142592079</th>\n",
              "      <th>2142688300</th>\n",
              "      <th>2142951742</th>\n",
              "      <th>2143259121</th>\n",
              "      <th>2143397901</th>\n",
              "      <th>2143675324</th>\n",
              "      <th>2143951199</th>\n",
              "      <th>2144121792</th>\n",
              "      <th>2144318057</th>\n",
              "      <th>2144546940</th>\n",
              "      <th>2144555269</th>\n",
              "      <th>2144673757</th>\n",
              "      <th>2144833871</th>\n",
              "      <th>2144901781</th>\n",
              "      <th>2145021464</th>\n",
              "      <th>2145211573</th>\n",
              "      <th>2145286773</th>\n",
              "      <th>2145429708</th>\n",
              "      <th>2145711781</th>\n",
              "      <th>2145974224</th>\n",
              "      <th>2146130037</th>\n",
              "      <th>2146358657</th>\n",
              "      <th>2146686585</th>\n",
              "      <th>2146925942</th>\n",
              "      <th>2147012157</th>\n",
              "      <th>2147192385</th>\n",
              "      <th>2147481750</th>\n",
              "      <th>All</th>\n",
              "    </tr>\n",
              "    <tr>\n",
              "      <th>answered_correctly</th>\n",
              "      <th></th>\n",
              "      <th></th>\n",
              "      <th></th>\n",
              "      <th></th>\n",
              "      <th></th>\n",
              "      <th></th>\n",
              "      <th></th>\n",
              "      <th></th>\n",
              "      <th></th>\n",
              "      <th></th>\n",
              "      <th></th>\n",
              "      <th></th>\n",
              "      <th></th>\n",
              "      <th></th>\n",
              "      <th></th>\n",
              "      <th></th>\n",
              "      <th></th>\n",
              "      <th></th>\n",
              "      <th></th>\n",
              "      <th></th>\n",
              "      <th></th>\n",
              "      <th></th>\n",
              "      <th></th>\n",
              "      <th></th>\n",
              "      <th></th>\n",
              "      <th></th>\n",
              "      <th></th>\n",
              "      <th></th>\n",
              "      <th></th>\n",
              "      <th></th>\n",
              "      <th></th>\n",
              "      <th></th>\n",
              "      <th></th>\n",
              "      <th></th>\n",
              "      <th></th>\n",
              "      <th></th>\n",
              "      <th></th>\n",
              "      <th></th>\n",
              "      <th></th>\n",
              "      <th></th>\n",
              "      <th></th>\n",
              "      <th></th>\n",
              "      <th></th>\n",
              "      <th></th>\n",
              "      <th></th>\n",
              "      <th></th>\n",
              "      <th></th>\n",
              "      <th></th>\n",
              "      <th></th>\n",
              "      <th></th>\n",
              "      <th></th>\n",
              "      <th></th>\n",
              "      <th></th>\n",
              "      <th></th>\n",
              "      <th></th>\n",
              "      <th></th>\n",
              "      <th></th>\n",
              "      <th></th>\n",
              "      <th></th>\n",
              "      <th></th>\n",
              "      <th></th>\n",
              "      <th></th>\n",
              "      <th></th>\n",
              "      <th></th>\n",
              "      <th></th>\n",
              "      <th></th>\n",
              "      <th></th>\n",
              "      <th></th>\n",
              "      <th></th>\n",
              "      <th></th>\n",
              "      <th></th>\n",
              "      <th></th>\n",
              "      <th></th>\n",
              "      <th></th>\n",
              "      <th></th>\n",
              "      <th></th>\n",
              "      <th></th>\n",
              "      <th></th>\n",
              "      <th></th>\n",
              "      <th></th>\n",
              "      <th></th>\n",
              "    </tr>\n",
              "  </thead>\n",
              "  <tbody>\n",
              "    <tr>\n",
              "      <th>0</th>\n",
              "      <td>0</td>\n",
              "      <td>0</td>\n",
              "      <td>0</td>\n",
              "      <td>0</td>\n",
              "      <td>0</td>\n",
              "      <td>0</td>\n",
              "      <td>0</td>\n",
              "      <td>0</td>\n",
              "      <td>0</td>\n",
              "      <td>1</td>\n",
              "      <td>1</td>\n",
              "      <td>0</td>\n",
              "      <td>0</td>\n",
              "      <td>0</td>\n",
              "      <td>1</td>\n",
              "      <td>0</td>\n",
              "      <td>0</td>\n",
              "      <td>1</td>\n",
              "      <td>1</td>\n",
              "      <td>0</td>\n",
              "      <td>0</td>\n",
              "      <td>0</td>\n",
              "      <td>1</td>\n",
              "      <td>1</td>\n",
              "      <td>0</td>\n",
              "      <td>0</td>\n",
              "      <td>1</td>\n",
              "      <td>0</td>\n",
              "      <td>0</td>\n",
              "      <td>0</td>\n",
              "      <td>1</td>\n",
              "      <td>1</td>\n",
              "      <td>0</td>\n",
              "      <td>1</td>\n",
              "      <td>0</td>\n",
              "      <td>1</td>\n",
              "      <td>0</td>\n",
              "      <td>0</td>\n",
              "      <td>1</td>\n",
              "      <td>0</td>\n",
              "      <td>...</td>\n",
              "      <td>1</td>\n",
              "      <td>0</td>\n",
              "      <td>1</td>\n",
              "      <td>0</td>\n",
              "      <td>0</td>\n",
              "      <td>0</td>\n",
              "      <td>1</td>\n",
              "      <td>0</td>\n",
              "      <td>0</td>\n",
              "      <td>0</td>\n",
              "      <td>0</td>\n",
              "      <td>1</td>\n",
              "      <td>0</td>\n",
              "      <td>0</td>\n",
              "      <td>1</td>\n",
              "      <td>0</td>\n",
              "      <td>1</td>\n",
              "      <td>1</td>\n",
              "      <td>0</td>\n",
              "      <td>1</td>\n",
              "      <td>0</td>\n",
              "      <td>1</td>\n",
              "      <td>0</td>\n",
              "      <td>1</td>\n",
              "      <td>0</td>\n",
              "      <td>1</td>\n",
              "      <td>1</td>\n",
              "      <td>0</td>\n",
              "      <td>0</td>\n",
              "      <td>1</td>\n",
              "      <td>1</td>\n",
              "      <td>0</td>\n",
              "      <td>0</td>\n",
              "      <td>1</td>\n",
              "      <td>1</td>\n",
              "      <td>0</td>\n",
              "      <td>0</td>\n",
              "      <td>1</td>\n",
              "      <td>1</td>\n",
              "      <td>3431</td>\n",
              "    </tr>\n",
              "    <tr>\n",
              "      <th>1</th>\n",
              "      <td>1</td>\n",
              "      <td>1</td>\n",
              "      <td>1</td>\n",
              "      <td>1</td>\n",
              "      <td>1</td>\n",
              "      <td>1</td>\n",
              "      <td>1</td>\n",
              "      <td>1</td>\n",
              "      <td>1</td>\n",
              "      <td>0</td>\n",
              "      <td>0</td>\n",
              "      <td>1</td>\n",
              "      <td>1</td>\n",
              "      <td>1</td>\n",
              "      <td>0</td>\n",
              "      <td>1</td>\n",
              "      <td>1</td>\n",
              "      <td>0</td>\n",
              "      <td>0</td>\n",
              "      <td>1</td>\n",
              "      <td>1</td>\n",
              "      <td>1</td>\n",
              "      <td>0</td>\n",
              "      <td>0</td>\n",
              "      <td>1</td>\n",
              "      <td>1</td>\n",
              "      <td>0</td>\n",
              "      <td>1</td>\n",
              "      <td>1</td>\n",
              "      <td>1</td>\n",
              "      <td>0</td>\n",
              "      <td>0</td>\n",
              "      <td>1</td>\n",
              "      <td>0</td>\n",
              "      <td>1</td>\n",
              "      <td>0</td>\n",
              "      <td>1</td>\n",
              "      <td>1</td>\n",
              "      <td>0</td>\n",
              "      <td>1</td>\n",
              "      <td>...</td>\n",
              "      <td>0</td>\n",
              "      <td>1</td>\n",
              "      <td>0</td>\n",
              "      <td>1</td>\n",
              "      <td>1</td>\n",
              "      <td>1</td>\n",
              "      <td>0</td>\n",
              "      <td>1</td>\n",
              "      <td>1</td>\n",
              "      <td>1</td>\n",
              "      <td>1</td>\n",
              "      <td>0</td>\n",
              "      <td>1</td>\n",
              "      <td>1</td>\n",
              "      <td>0</td>\n",
              "      <td>1</td>\n",
              "      <td>0</td>\n",
              "      <td>0</td>\n",
              "      <td>1</td>\n",
              "      <td>0</td>\n",
              "      <td>1</td>\n",
              "      <td>0</td>\n",
              "      <td>1</td>\n",
              "      <td>0</td>\n",
              "      <td>1</td>\n",
              "      <td>0</td>\n",
              "      <td>0</td>\n",
              "      <td>1</td>\n",
              "      <td>1</td>\n",
              "      <td>0</td>\n",
              "      <td>0</td>\n",
              "      <td>1</td>\n",
              "      <td>2</td>\n",
              "      <td>0</td>\n",
              "      <td>0</td>\n",
              "      <td>1</td>\n",
              "      <td>1</td>\n",
              "      <td>0</td>\n",
              "      <td>0</td>\n",
              "      <td>6492</td>\n",
              "    </tr>\n",
              "    <tr>\n",
              "      <th>All</th>\n",
              "      <td>1</td>\n",
              "      <td>1</td>\n",
              "      <td>1</td>\n",
              "      <td>1</td>\n",
              "      <td>1</td>\n",
              "      <td>1</td>\n",
              "      <td>1</td>\n",
              "      <td>1</td>\n",
              "      <td>1</td>\n",
              "      <td>1</td>\n",
              "      <td>1</td>\n",
              "      <td>1</td>\n",
              "      <td>1</td>\n",
              "      <td>1</td>\n",
              "      <td>1</td>\n",
              "      <td>1</td>\n",
              "      <td>1</td>\n",
              "      <td>1</td>\n",
              "      <td>1</td>\n",
              "      <td>1</td>\n",
              "      <td>1</td>\n",
              "      <td>1</td>\n",
              "      <td>1</td>\n",
              "      <td>1</td>\n",
              "      <td>1</td>\n",
              "      <td>1</td>\n",
              "      <td>1</td>\n",
              "      <td>1</td>\n",
              "      <td>1</td>\n",
              "      <td>1</td>\n",
              "      <td>1</td>\n",
              "      <td>1</td>\n",
              "      <td>1</td>\n",
              "      <td>1</td>\n",
              "      <td>1</td>\n",
              "      <td>1</td>\n",
              "      <td>1</td>\n",
              "      <td>1</td>\n",
              "      <td>1</td>\n",
              "      <td>1</td>\n",
              "      <td>...</td>\n",
              "      <td>1</td>\n",
              "      <td>1</td>\n",
              "      <td>1</td>\n",
              "      <td>1</td>\n",
              "      <td>1</td>\n",
              "      <td>1</td>\n",
              "      <td>1</td>\n",
              "      <td>1</td>\n",
              "      <td>1</td>\n",
              "      <td>1</td>\n",
              "      <td>1</td>\n",
              "      <td>1</td>\n",
              "      <td>1</td>\n",
              "      <td>1</td>\n",
              "      <td>1</td>\n",
              "      <td>1</td>\n",
              "      <td>1</td>\n",
              "      <td>1</td>\n",
              "      <td>1</td>\n",
              "      <td>1</td>\n",
              "      <td>1</td>\n",
              "      <td>1</td>\n",
              "      <td>1</td>\n",
              "      <td>1</td>\n",
              "      <td>1</td>\n",
              "      <td>1</td>\n",
              "      <td>1</td>\n",
              "      <td>1</td>\n",
              "      <td>1</td>\n",
              "      <td>1</td>\n",
              "      <td>1</td>\n",
              "      <td>1</td>\n",
              "      <td>2</td>\n",
              "      <td>1</td>\n",
              "      <td>1</td>\n",
              "      <td>1</td>\n",
              "      <td>1</td>\n",
              "      <td>1</td>\n",
              "      <td>1</td>\n",
              "      <td>9923</td>\n",
              "    </tr>\n",
              "  </tbody>\n",
              "</table>\n",
              "<p>3 rows × 9860 columns</p>\n",
              "</div>"
            ],
            "text/plain": [
              "user_id             115  91216  220268  ...  2147192385  2147481750   All\n",
              "answered_correctly                      ...                              \n",
              "0                     0      0       0  ...           1           1  3431\n",
              "1                     1      1       1  ...           0           0  6492\n",
              "All                   1      1       1  ...           1           1  9923\n",
              "\n",
              "[3 rows x 9860 columns]"
            ]
          },
          "metadata": {
            "tags": []
          },
          "execution_count": 211
        }
      ]
    },
    {
      "cell_type": "code",
      "metadata": {
        "id": "j7nwmBWCAiVL",
        "colab": {
          "base_uri": "https://localhost:8080/",
          "height": 222
        },
        "outputId": "c4cef2db-1ed7-4d7b-a2b6-9b0642314ff6"
      },
      "source": [
        "user_id_contigency_table_with_margins = pd.crosstab(index=df_q['answered_correctly'], \r\n",
        "                                                    columns=df_q['user_id'], \r\n",
        "                                                    margins=True)\r\n",
        "user_id_contigency_table_with_margins"
      ],
      "execution_count": 212,
      "outputs": [
        {
          "output_type": "execute_result",
          "data": {
            "text/html": [
              "<div>\n",
              "<style scoped>\n",
              "    .dataframe tbody tr th:only-of-type {\n",
              "        vertical-align: middle;\n",
              "    }\n",
              "\n",
              "    .dataframe tbody tr th {\n",
              "        vertical-align: top;\n",
              "    }\n",
              "\n",
              "    .dataframe thead th {\n",
              "        text-align: right;\n",
              "    }\n",
              "</style>\n",
              "<table border=\"1\" class=\"dataframe\">\n",
              "  <thead>\n",
              "    <tr style=\"text-align: right;\">\n",
              "      <th>user_id</th>\n",
              "      <th>115</th>\n",
              "      <th>91216</th>\n",
              "      <th>220268</th>\n",
              "      <th>650467</th>\n",
              "      <th>1084314</th>\n",
              "      <th>1282581</th>\n",
              "      <th>1283420</th>\n",
              "      <th>1502650</th>\n",
              "      <th>1765772</th>\n",
              "      <th>1989232</th>\n",
              "      <th>2078569</th>\n",
              "      <th>2393889</th>\n",
              "      <th>2475583</th>\n",
              "      <th>2678068</th>\n",
              "      <th>2891629</th>\n",
              "      <th>3194563</th>\n",
              "      <th>3270696</th>\n",
              "      <th>3637398</th>\n",
              "      <th>3824269</th>\n",
              "      <th>3892809</th>\n",
              "      <th>4022163</th>\n",
              "      <th>4222121</th>\n",
              "      <th>4324252</th>\n",
              "      <th>4421282</th>\n",
              "      <th>4498487</th>\n",
              "      <th>4702585</th>\n",
              "      <th>4877689</th>\n",
              "      <th>5103696</th>\n",
              "      <th>5365886</th>\n",
              "      <th>5401739</th>\n",
              "      <th>5615405</th>\n",
              "      <th>5986081</th>\n",
              "      <th>6146089</th>\n",
              "      <th>6475477</th>\n",
              "      <th>6610089</th>\n",
              "      <th>6812883</th>\n",
              "      <th>7051394</th>\n",
              "      <th>7171715</th>\n",
              "      <th>7275497</th>\n",
              "      <th>7533242</th>\n",
              "      <th>...</th>\n",
              "      <th>2140302339</th>\n",
              "      <th>2140484826</th>\n",
              "      <th>2140789341</th>\n",
              "      <th>2140997328</th>\n",
              "      <th>2141335877</th>\n",
              "      <th>2141465126</th>\n",
              "      <th>2141640318</th>\n",
              "      <th>2141804691</th>\n",
              "      <th>2141988916</th>\n",
              "      <th>2142317222</th>\n",
              "      <th>2142445885</th>\n",
              "      <th>2142461438</th>\n",
              "      <th>2142592079</th>\n",
              "      <th>2142688300</th>\n",
              "      <th>2142951742</th>\n",
              "      <th>2143259121</th>\n",
              "      <th>2143397901</th>\n",
              "      <th>2143675324</th>\n",
              "      <th>2143951199</th>\n",
              "      <th>2144121792</th>\n",
              "      <th>2144318057</th>\n",
              "      <th>2144546940</th>\n",
              "      <th>2144555269</th>\n",
              "      <th>2144673757</th>\n",
              "      <th>2144833871</th>\n",
              "      <th>2144901781</th>\n",
              "      <th>2145021464</th>\n",
              "      <th>2145211573</th>\n",
              "      <th>2145286773</th>\n",
              "      <th>2145429708</th>\n",
              "      <th>2145711781</th>\n",
              "      <th>2145974224</th>\n",
              "      <th>2146130037</th>\n",
              "      <th>2146358657</th>\n",
              "      <th>2146686585</th>\n",
              "      <th>2146925942</th>\n",
              "      <th>2147012157</th>\n",
              "      <th>2147192385</th>\n",
              "      <th>2147481750</th>\n",
              "      <th>All</th>\n",
              "    </tr>\n",
              "    <tr>\n",
              "      <th>answered_correctly</th>\n",
              "      <th></th>\n",
              "      <th></th>\n",
              "      <th></th>\n",
              "      <th></th>\n",
              "      <th></th>\n",
              "      <th></th>\n",
              "      <th></th>\n",
              "      <th></th>\n",
              "      <th></th>\n",
              "      <th></th>\n",
              "      <th></th>\n",
              "      <th></th>\n",
              "      <th></th>\n",
              "      <th></th>\n",
              "      <th></th>\n",
              "      <th></th>\n",
              "      <th></th>\n",
              "      <th></th>\n",
              "      <th></th>\n",
              "      <th></th>\n",
              "      <th></th>\n",
              "      <th></th>\n",
              "      <th></th>\n",
              "      <th></th>\n",
              "      <th></th>\n",
              "      <th></th>\n",
              "      <th></th>\n",
              "      <th></th>\n",
              "      <th></th>\n",
              "      <th></th>\n",
              "      <th></th>\n",
              "      <th></th>\n",
              "      <th></th>\n",
              "      <th></th>\n",
              "      <th></th>\n",
              "      <th></th>\n",
              "      <th></th>\n",
              "      <th></th>\n",
              "      <th></th>\n",
              "      <th></th>\n",
              "      <th></th>\n",
              "      <th></th>\n",
              "      <th></th>\n",
              "      <th></th>\n",
              "      <th></th>\n",
              "      <th></th>\n",
              "      <th></th>\n",
              "      <th></th>\n",
              "      <th></th>\n",
              "      <th></th>\n",
              "      <th></th>\n",
              "      <th></th>\n",
              "      <th></th>\n",
              "      <th></th>\n",
              "      <th></th>\n",
              "      <th></th>\n",
              "      <th></th>\n",
              "      <th></th>\n",
              "      <th></th>\n",
              "      <th></th>\n",
              "      <th></th>\n",
              "      <th></th>\n",
              "      <th></th>\n",
              "      <th></th>\n",
              "      <th></th>\n",
              "      <th></th>\n",
              "      <th></th>\n",
              "      <th></th>\n",
              "      <th></th>\n",
              "      <th></th>\n",
              "      <th></th>\n",
              "      <th></th>\n",
              "      <th></th>\n",
              "      <th></th>\n",
              "      <th></th>\n",
              "      <th></th>\n",
              "      <th></th>\n",
              "      <th></th>\n",
              "      <th></th>\n",
              "      <th></th>\n",
              "      <th></th>\n",
              "    </tr>\n",
              "  </thead>\n",
              "  <tbody>\n",
              "    <tr>\n",
              "      <th>0</th>\n",
              "      <td>0</td>\n",
              "      <td>0</td>\n",
              "      <td>0</td>\n",
              "      <td>0</td>\n",
              "      <td>0</td>\n",
              "      <td>0</td>\n",
              "      <td>0</td>\n",
              "      <td>0</td>\n",
              "      <td>0</td>\n",
              "      <td>1</td>\n",
              "      <td>1</td>\n",
              "      <td>0</td>\n",
              "      <td>0</td>\n",
              "      <td>0</td>\n",
              "      <td>1</td>\n",
              "      <td>0</td>\n",
              "      <td>0</td>\n",
              "      <td>1</td>\n",
              "      <td>1</td>\n",
              "      <td>0</td>\n",
              "      <td>0</td>\n",
              "      <td>0</td>\n",
              "      <td>1</td>\n",
              "      <td>1</td>\n",
              "      <td>0</td>\n",
              "      <td>0</td>\n",
              "      <td>1</td>\n",
              "      <td>0</td>\n",
              "      <td>0</td>\n",
              "      <td>0</td>\n",
              "      <td>1</td>\n",
              "      <td>1</td>\n",
              "      <td>0</td>\n",
              "      <td>1</td>\n",
              "      <td>0</td>\n",
              "      <td>1</td>\n",
              "      <td>0</td>\n",
              "      <td>0</td>\n",
              "      <td>1</td>\n",
              "      <td>0</td>\n",
              "      <td>...</td>\n",
              "      <td>1</td>\n",
              "      <td>0</td>\n",
              "      <td>1</td>\n",
              "      <td>0</td>\n",
              "      <td>0</td>\n",
              "      <td>0</td>\n",
              "      <td>1</td>\n",
              "      <td>0</td>\n",
              "      <td>0</td>\n",
              "      <td>0</td>\n",
              "      <td>0</td>\n",
              "      <td>1</td>\n",
              "      <td>0</td>\n",
              "      <td>0</td>\n",
              "      <td>1</td>\n",
              "      <td>0</td>\n",
              "      <td>1</td>\n",
              "      <td>1</td>\n",
              "      <td>0</td>\n",
              "      <td>1</td>\n",
              "      <td>0</td>\n",
              "      <td>1</td>\n",
              "      <td>0</td>\n",
              "      <td>1</td>\n",
              "      <td>0</td>\n",
              "      <td>1</td>\n",
              "      <td>1</td>\n",
              "      <td>0</td>\n",
              "      <td>0</td>\n",
              "      <td>1</td>\n",
              "      <td>1</td>\n",
              "      <td>0</td>\n",
              "      <td>0</td>\n",
              "      <td>1</td>\n",
              "      <td>1</td>\n",
              "      <td>0</td>\n",
              "      <td>0</td>\n",
              "      <td>1</td>\n",
              "      <td>1</td>\n",
              "      <td>3431</td>\n",
              "    </tr>\n",
              "    <tr>\n",
              "      <th>1</th>\n",
              "      <td>1</td>\n",
              "      <td>1</td>\n",
              "      <td>1</td>\n",
              "      <td>1</td>\n",
              "      <td>1</td>\n",
              "      <td>1</td>\n",
              "      <td>1</td>\n",
              "      <td>1</td>\n",
              "      <td>1</td>\n",
              "      <td>0</td>\n",
              "      <td>0</td>\n",
              "      <td>1</td>\n",
              "      <td>1</td>\n",
              "      <td>1</td>\n",
              "      <td>0</td>\n",
              "      <td>1</td>\n",
              "      <td>1</td>\n",
              "      <td>0</td>\n",
              "      <td>0</td>\n",
              "      <td>1</td>\n",
              "      <td>1</td>\n",
              "      <td>1</td>\n",
              "      <td>0</td>\n",
              "      <td>0</td>\n",
              "      <td>1</td>\n",
              "      <td>1</td>\n",
              "      <td>0</td>\n",
              "      <td>1</td>\n",
              "      <td>1</td>\n",
              "      <td>1</td>\n",
              "      <td>0</td>\n",
              "      <td>0</td>\n",
              "      <td>1</td>\n",
              "      <td>0</td>\n",
              "      <td>1</td>\n",
              "      <td>0</td>\n",
              "      <td>1</td>\n",
              "      <td>1</td>\n",
              "      <td>0</td>\n",
              "      <td>1</td>\n",
              "      <td>...</td>\n",
              "      <td>0</td>\n",
              "      <td>1</td>\n",
              "      <td>0</td>\n",
              "      <td>1</td>\n",
              "      <td>1</td>\n",
              "      <td>1</td>\n",
              "      <td>0</td>\n",
              "      <td>1</td>\n",
              "      <td>1</td>\n",
              "      <td>1</td>\n",
              "      <td>1</td>\n",
              "      <td>0</td>\n",
              "      <td>1</td>\n",
              "      <td>1</td>\n",
              "      <td>0</td>\n",
              "      <td>1</td>\n",
              "      <td>0</td>\n",
              "      <td>0</td>\n",
              "      <td>1</td>\n",
              "      <td>0</td>\n",
              "      <td>1</td>\n",
              "      <td>0</td>\n",
              "      <td>1</td>\n",
              "      <td>0</td>\n",
              "      <td>1</td>\n",
              "      <td>0</td>\n",
              "      <td>0</td>\n",
              "      <td>1</td>\n",
              "      <td>1</td>\n",
              "      <td>0</td>\n",
              "      <td>0</td>\n",
              "      <td>1</td>\n",
              "      <td>2</td>\n",
              "      <td>0</td>\n",
              "      <td>0</td>\n",
              "      <td>1</td>\n",
              "      <td>1</td>\n",
              "      <td>0</td>\n",
              "      <td>0</td>\n",
              "      <td>6492</td>\n",
              "    </tr>\n",
              "    <tr>\n",
              "      <th>All</th>\n",
              "      <td>1</td>\n",
              "      <td>1</td>\n",
              "      <td>1</td>\n",
              "      <td>1</td>\n",
              "      <td>1</td>\n",
              "      <td>1</td>\n",
              "      <td>1</td>\n",
              "      <td>1</td>\n",
              "      <td>1</td>\n",
              "      <td>1</td>\n",
              "      <td>1</td>\n",
              "      <td>1</td>\n",
              "      <td>1</td>\n",
              "      <td>1</td>\n",
              "      <td>1</td>\n",
              "      <td>1</td>\n",
              "      <td>1</td>\n",
              "      <td>1</td>\n",
              "      <td>1</td>\n",
              "      <td>1</td>\n",
              "      <td>1</td>\n",
              "      <td>1</td>\n",
              "      <td>1</td>\n",
              "      <td>1</td>\n",
              "      <td>1</td>\n",
              "      <td>1</td>\n",
              "      <td>1</td>\n",
              "      <td>1</td>\n",
              "      <td>1</td>\n",
              "      <td>1</td>\n",
              "      <td>1</td>\n",
              "      <td>1</td>\n",
              "      <td>1</td>\n",
              "      <td>1</td>\n",
              "      <td>1</td>\n",
              "      <td>1</td>\n",
              "      <td>1</td>\n",
              "      <td>1</td>\n",
              "      <td>1</td>\n",
              "      <td>1</td>\n",
              "      <td>...</td>\n",
              "      <td>1</td>\n",
              "      <td>1</td>\n",
              "      <td>1</td>\n",
              "      <td>1</td>\n",
              "      <td>1</td>\n",
              "      <td>1</td>\n",
              "      <td>1</td>\n",
              "      <td>1</td>\n",
              "      <td>1</td>\n",
              "      <td>1</td>\n",
              "      <td>1</td>\n",
              "      <td>1</td>\n",
              "      <td>1</td>\n",
              "      <td>1</td>\n",
              "      <td>1</td>\n",
              "      <td>1</td>\n",
              "      <td>1</td>\n",
              "      <td>1</td>\n",
              "      <td>1</td>\n",
              "      <td>1</td>\n",
              "      <td>1</td>\n",
              "      <td>1</td>\n",
              "      <td>1</td>\n",
              "      <td>1</td>\n",
              "      <td>1</td>\n",
              "      <td>1</td>\n",
              "      <td>1</td>\n",
              "      <td>1</td>\n",
              "      <td>1</td>\n",
              "      <td>1</td>\n",
              "      <td>1</td>\n",
              "      <td>1</td>\n",
              "      <td>2</td>\n",
              "      <td>1</td>\n",
              "      <td>1</td>\n",
              "      <td>1</td>\n",
              "      <td>1</td>\n",
              "      <td>1</td>\n",
              "      <td>1</td>\n",
              "      <td>9923</td>\n",
              "    </tr>\n",
              "  </tbody>\n",
              "</table>\n",
              "<p>3 rows × 9860 columns</p>\n",
              "</div>"
            ],
            "text/plain": [
              "user_id             115  91216  220268  ...  2147192385  2147481750   All\n",
              "answered_correctly                      ...                              \n",
              "0                     0      0       0  ...           1           1  3431\n",
              "1                     1      1       1  ...           0           0  6492\n",
              "All                   1      1       1  ...           1           1  9923\n",
              "\n",
              "[3 rows x 9860 columns]"
            ]
          },
          "metadata": {
            "tags": []
          },
          "execution_count": 212
        }
      ]
    },
    {
      "cell_type": "code",
      "metadata": {
        "id": "BuzWqmzyDPi7",
        "colab": {
          "base_uri": "https://localhost:8080/"
        },
        "outputId": "e3b63866-88e4-44a3-e8fc-e036623301f6"
      },
      "source": [
        "from scipy.stats import chi2_contingency\r\n",
        "\r\n",
        "chi2, p, dof, ex = chi2_contingency(user_id_contigency_table)\r\n",
        "print(f\"Chi2 stat = {chi2}\")\r\n",
        "print(f\"p stat = {p}\")\r\n",
        "print(f\"dof = {dof}\")\r\n",
        "# print(f\"ex = {ex}\")\r\n"
      ],
      "execution_count": 213,
      "outputs": [
        {
          "output_type": "stream",
          "text": [
            "Chi2 stat = 9856.690155028817\n",
            "p stat = 1.0\n",
            "dof = 19718\n"
          ],
          "name": "stdout"
        }
      ]
    },
    {
      "cell_type": "markdown",
      "metadata": {
        "id": "Q6pvdmZLFx2L"
      },
      "source": [
        "We can't conclude that user_id alone is predictive of answer_correctness."
      ]
    },
    {
      "cell_type": "markdown",
      "metadata": {
        "id": "7HcHaPOCGnKw"
      },
      "source": [
        "We will reuse this function in this section."
      ]
    },
    {
      "cell_type": "code",
      "metadata": {
        "id": "PqUyc0paGE9R"
      },
      "source": [
        "#Reuse this function later\r\n",
        "from scipy.stats import chi2_contingency\r\n",
        "from scipy.stats import chi2\r\n",
        "\r\n",
        "def chi2test(df, target_var_str, ind_var_str):\r\n",
        "  contigency_table = pd.crosstab(index=df[target_var_str],\r\n",
        "                                 columns=df[ind_var_str])\r\n",
        "  stat, p, dof, expected = chi2_contingency(contigency_table)\r\n",
        "  print('dof=%d' % dof)\r\n",
        "  print(expected)\r\n",
        "  # interpret test-statistic\r\n",
        "  prob = 0.95\r\n",
        "  critical = chi2.ppf(prob, dof)\r\n",
        "  print('probability=%.3f, critical=%.3f, stat=%.3f' % (prob, critical, stat))\r\n",
        "  if abs(stat) >= critical:\r\n",
        "    print('Dependent (reject H0)')\r\n",
        "  else:\r\n",
        "    print('Independent (fail to reject H0)')\r\n",
        "  # interpret p-value\r\n",
        "  alpha = 1.0 - prob\r\n",
        "  print('significance=%.3f, p=%.3f' % (alpha, p))\r\n",
        "  if p <= alpha:\r\n",
        "    print('Dependent (reject H0)')\r\n",
        "  else:\r\n",
        "    print('Independent (fail to reject H0)')\r\n",
        "  return (chi2, p, dof, ex)"
      ],
      "execution_count": 214,
      "outputs": []
    },
    {
      "cell_type": "markdown",
      "metadata": {
        "id": "kvlNjx7vzvnT"
      },
      "source": [
        "###content_id"
      ]
    },
    {
      "cell_type": "code",
      "metadata": {
        "id": "yL0ae891G7qe",
        "colab": {
          "base_uri": "https://localhost:8080/"
        },
        "outputId": "747dd785-b7ff-4fb8-a4cd-8c7f4c5dc78d"
      },
      "source": [
        "chi2test(df_q, 'answered_correctly', 'content_id');"
      ],
      "execution_count": 215,
      "outputs": [
        {
          "output_type": "stream",
          "text": [
            "dof=5289\n",
            "[[0.69152474 0.34576237 1.72881185 ... 0.34576237 0.34576237 0.34576237]\n",
            " [1.30847526 0.65423763 3.27118815 ... 0.65423763 0.65423763 0.65423763]]\n",
            "probability=0.950, critical=5459.302, stat=5707.907\n",
            "Dependent (reject H0)\n",
            "significance=0.050, p=0.000\n",
            "Dependent (reject H0)\n"
          ],
          "name": "stdout"
        }
      ]
    },
    {
      "cell_type": "markdown",
      "metadata": {
        "id": "CPPxsdCpHyAd"
      },
      "source": [
        "We see that content_id alone is useful for predicting answered_correctly. \r\n",
        "\r\n",
        "Perhaps some content_ids are easier or more commonly studied than others."
      ]
    },
    {
      "cell_type": "markdown",
      "metadata": {
        "id": "p2D7yEfHzy1k"
      },
      "source": [
        "###content_type_id"
      ]
    },
    {
      "cell_type": "code",
      "metadata": {
        "id": "g1RCbW8OIBPd",
        "colab": {
          "base_uri": "https://localhost:8080/"
        },
        "outputId": "d9497a0d-93d1-4dfa-e87e-c641806659f2"
      },
      "source": [
        "chi2test(df_q, 'answered_correctly', 'content_type_id');"
      ],
      "execution_count": 216,
      "outputs": [
        {
          "output_type": "stream",
          "text": [
            "dof=0\n",
            "[[3431.]\n",
            " [6492.]]\n",
            "probability=0.950, critical=nan, stat=0.000\n",
            "Independent (fail to reject H0)\n",
            "significance=0.050, p=1.000\n",
            "Independent (fail to reject H0)\n"
          ],
          "name": "stdout"
        }
      ]
    },
    {
      "cell_type": "markdown",
      "metadata": {
        "id": "jS_rmhvAIFJ5"
      },
      "source": [
        "We see that content_type_id alone is not useful for predicting answered_correctly.\r\n"
      ]
    },
    {
      "cell_type": "markdown",
      "metadata": {
        "id": "tf2asTddz3Yr"
      },
      "source": [
        "###task_container_id"
      ]
    },
    {
      "cell_type": "code",
      "metadata": {
        "id": "jC5cFOVEIPhh",
        "colab": {
          "base_uri": "https://localhost:8080/"
        },
        "outputId": "c4f2e43b-a842-40ad-a413-3671d8316036"
      },
      "source": [
        "chi2test(df_q, 'answered_correctly', 'task_container_id');"
      ],
      "execution_count": 217,
      "outputs": [
        {
          "output_type": "stream",
          "text": [
            "dof=2779\n",
            "[[ 6.91524741 11.75592059 10.37287111 ...  0.34576237  0.34576237\n",
            "   0.34576237]\n",
            " [13.08475259 22.24407941 19.62712889 ...  0.65423763  0.65423763\n",
            "   0.65423763]]\n",
            "probability=0.950, critical=2902.754, stat=2833.112\n",
            "Independent (fail to reject H0)\n",
            "significance=0.050, p=0.233\n",
            "Independent (fail to reject H0)\n"
          ],
          "name": "stdout"
        }
      ]
    },
    {
      "cell_type": "markdown",
      "metadata": {
        "id": "_y5hZYbBIO4w"
      },
      "source": [
        "We see that task_container_ids alone is useful for predicting answered_correctly.\r\n",
        "\r\n",
        "Perhaps some task_container_ids are easier or more commonly studied than others."
      ]
    },
    {
      "cell_type": "markdown",
      "metadata": {
        "id": "wgY42jUkz9yT"
      },
      "source": [
        "###user_answer"
      ]
    },
    {
      "cell_type": "code",
      "metadata": {
        "id": "TcBh6VcpIo3f",
        "colab": {
          "base_uri": "https://localhost:8080/"
        },
        "outputId": "5a626474-b94f-443d-9730-9cb34e3a7c19"
      },
      "source": [
        "chi2test(df_q, 'answered_correctly', 'user_answer');"
      ],
      "execution_count": 218,
      "outputs": [
        {
          "output_type": "stream",
          "text": [
            "dof=3\n",
            "[[ 959.14481508  931.82958783  634.12818704  905.89741006]\n",
            " [1814.85518492 1763.17041217 1199.87181296 1714.10258994]]\n",
            "probability=0.950, critical=7.815, stat=2.139\n",
            "Independent (fail to reject H0)\n",
            "significance=0.050, p=0.544\n",
            "Independent (fail to reject H0)\n"
          ],
          "name": "stdout"
        }
      ]
    },
    {
      "cell_type": "markdown",
      "metadata": {
        "id": "A1bcJgXuJSbY"
      },
      "source": [
        "Interesting: user_answer *can* predict answered_correctly. Let's see the contingency table to visualize this."
      ]
    },
    {
      "cell_type": "code",
      "metadata": {
        "id": "iJqxkl1rIurW",
        "colab": {
          "base_uri": "https://localhost:8080/",
          "height": 173
        },
        "outputId": "eb64d98b-0803-4269-c0dc-ab7b562a524d"
      },
      "source": [
        "pd.crosstab(df_q['answered_correctly'], df_q['user_answer'], margins=True, normalize=True)"
      ],
      "execution_count": 219,
      "outputs": [
        {
          "output_type": "execute_result",
          "data": {
            "text/html": [
              "<div>\n",
              "<style scoped>\n",
              "    .dataframe tbody tr th:only-of-type {\n",
              "        vertical-align: middle;\n",
              "    }\n",
              "\n",
              "    .dataframe tbody tr th {\n",
              "        vertical-align: top;\n",
              "    }\n",
              "\n",
              "    .dataframe thead th {\n",
              "        text-align: right;\n",
              "    }\n",
              "</style>\n",
              "<table border=\"1\" class=\"dataframe\">\n",
              "  <thead>\n",
              "    <tr style=\"text-align: right;\">\n",
              "      <th>user_answer</th>\n",
              "      <th>0</th>\n",
              "      <th>1</th>\n",
              "      <th>2</th>\n",
              "      <th>3</th>\n",
              "      <th>All</th>\n",
              "    </tr>\n",
              "    <tr>\n",
              "      <th>answered_correctly</th>\n",
              "      <th></th>\n",
              "      <th></th>\n",
              "      <th></th>\n",
              "      <th></th>\n",
              "      <th></th>\n",
              "    </tr>\n",
              "  </thead>\n",
              "  <tbody>\n",
              "    <tr>\n",
              "      <th>0</th>\n",
              "      <td>0.096040</td>\n",
              "      <td>0.096946</td>\n",
              "      <td>0.063086</td>\n",
              "      <td>0.089691</td>\n",
              "      <td>0.345762</td>\n",
              "    </tr>\n",
              "    <tr>\n",
              "      <th>1</th>\n",
              "      <td>0.183513</td>\n",
              "      <td>0.174645</td>\n",
              "      <td>0.121737</td>\n",
              "      <td>0.174342</td>\n",
              "      <td>0.654238</td>\n",
              "    </tr>\n",
              "    <tr>\n",
              "      <th>All</th>\n",
              "      <td>0.279553</td>\n",
              "      <td>0.271591</td>\n",
              "      <td>0.184823</td>\n",
              "      <td>0.264033</td>\n",
              "      <td>1.000000</td>\n",
              "    </tr>\n",
              "  </tbody>\n",
              "</table>\n",
              "</div>"
            ],
            "text/plain": [
              "user_answer                0         1         2         3       All\n",
              "answered_correctly                                                  \n",
              "0                   0.096040  0.096946  0.063086  0.089691  0.345762\n",
              "1                   0.183513  0.174645  0.121737  0.174342  0.654238\n",
              "All                 0.279553  0.271591  0.184823  0.264033  1.000000"
            ]
          },
          "metadata": {
            "tags": []
          },
          "execution_count": 219
        }
      ]
    },
    {
      "cell_type": "markdown",
      "metadata": {
        "id": "5KDEIa4uIoEc"
      },
      "source": [
        "Surprisingly, some of the multiple choice answers are more likely to be correct, and some are more likely to be incorrect. "
      ]
    },
    {
      "cell_type": "markdown",
      "metadata": {
        "id": "4oFKF_5_z_ro"
      },
      "source": [
        "###prior_question_had_explanation\r\n"
      ]
    },
    {
      "cell_type": "markdown",
      "metadata": {
        "id": "oBwc3VBQz45I"
      },
      "source": [
        ""
      ]
    },
    {
      "cell_type": "code",
      "metadata": {
        "id": "v1xKysI1BzzU",
        "colab": {
          "base_uri": "https://localhost:8080/"
        },
        "outputId": "c7b7f2af-2141-44b1-9d74-08669bc3b615"
      },
      "source": [
        "chi2test(df_q, 'answered_correctly', 'prior_question_had_explanation');"
      ],
      "execution_count": 220,
      "outputs": [
        {
          "output_type": "stream",
          "text": [
            "dof=1\n",
            "[[ 319.48443011 3111.51556989]\n",
            " [ 604.51556989 5887.48443011]]\n",
            "probability=0.950, critical=3.841, stat=133.396\n",
            "Dependent (reject H0)\n",
            "significance=0.050, p=0.000\n",
            "Dependent (reject H0)\n"
          ],
          "name": "stdout"
        }
      ]
    },
    {
      "cell_type": "markdown",
      "metadata": {
        "id": "EopNBU9mKibR"
      },
      "source": [
        "This makes sense. When the prior question is explained, this can affect the answered_correctly."
      ]
    },
    {
      "cell_type": "markdown",
      "metadata": {
        "id": "ULCyn8DFKuAY"
      },
      "source": [
        "###Section summary\r\n",
        "\r\n",
        "Chi-square test showed that these categorical variables were predictive of the target variable: \r\n",
        "* content_id, \r\n",
        "* content_type_id, \r\n",
        "* task_container_id, \r\n",
        "* user_answer,\r\n",
        "* prior_question_had_explanation\r\n",
        "\r\n",
        "Only one categorical variable was independant of the target variable: \r\n",
        "* user_id \r\n",
        "\r\n"
      ]
    },
    {
      "cell_type": "markdown",
      "metadata": {
        "id": "XVSBiM_9SlOZ"
      },
      "source": [
        "To do:\r\n",
        "Make bar plot for the discrete vars vs answered correctly.\r\n",
        "\r\n",
        "Convert the data into dummy variable. \r\n",
        "\r\n",
        "Use \"Getdummy()\" python function to make dummy vars. (likely in scikitlearn\r\n",
        "\r\n",
        "Consider dropping the user_id var. so that the model is generalizeable. \r\n",
        "\r\n",
        "Question id: (content_id): \r\n",
        "\r\n",
        "See if we can aggregate the data by task_container_id\r\n",
        "\r\n",
        "\"sparse metrics (or matrix)\": look this up on google. Means that 90%+ of data is zero. This ignores the zeros, and keeps the information in i-th, j-th index, and the associated value. \r\n",
        "Lookup how to do this in python (via scikitlearn or np)\r\n",
        "\r\n",
        "Next meeting at Dec 18, 2pm HST (4pm PST)"
      ]
    },
    {
      "cell_type": "code",
      "metadata": {
        "id": "VbGdlLC8HA60"
      },
      "source": [
        ""
      ],
      "execution_count": 220,
      "outputs": []
    },
    {
      "cell_type": "markdown",
      "metadata": {
        "id": "f7vhOiPiUjOa"
      },
      "source": [
        "#To do:\r\n",
        "after chi square, add a visual\r\n",
        "\r\n",
        "If the cat var is not robust, it might not contribute much. Make a chart to see this.\r\n",
        "\r\n",
        "Use a logistic regression model:\r\n",
        "  1. fOR each one var, convert to dummy var, and build a model to pred the target,\r\n",
        "  2. Get_dummy()\r\n",
        "  3. use train_test_split() (20% test, 80% train), dont train model on test data split.\r\n",
        "  (high bias, high variance tradeoff: find the optimum, buy evaluating the model on the test split.)\r\n",
        "\r\n",
        "Choose a model:\r\n",
        "  1. Based on advantages and disadvantages of each model, and it's assumptions match the data set.\r\n",
        "  2. Start with one model from each family\r\n",
        "* Decision tree - no further treatment of model needed. Maximizes information. Don't need to normalize/scale. Watch out for over fitting with a complex decision tree.\r\n",
        "** KNN model - \r\n",
        "* Boosting model like random forest\r\n",
        "  Will have a p val for each category.\r\n",
        "  ANOVA on each cat in logistic regression.\r\n",
        "\r\n",
        "Include a brief writeup of the advantages, disadvantages, and assumptions on each model.\r\n",
        "\r\n",
        "https://scikit-learn.org/stable/modules/tree.html#classification\r\n",
        "\r\n",
        "Measure performance of the model with confusion matrix.\r\n",
        "\r\n",
        "Next meeting at Jan 8, 2pm HST (4pm PST)\r\n"
      ]
    },
    {
      "cell_type": "markdown",
      "metadata": {
        "id": "8PvFKNOOyuB9"
      },
      "source": [
        "#Transform data to fit classifier\r\n",
        "\r\n",
        "Some classifier require variables in a certian form. Some classifiers cannot handle NA values. We will fix those in this section.\r\n"
      ]
    },
    {
      "cell_type": "code",
      "metadata": {
        "colab": {
          "base_uri": "https://localhost:8080/"
        },
        "id": "HU0eJ2mz2jzq",
        "outputId": "85abe4aa-f752-4013-b7da-ce198b3f8af9"
      },
      "source": [
        "# Count NA values\r\n",
        "df.isna().sum()"
      ],
      "execution_count": 221,
      "outputs": [
        {
          "output_type": "execute_result",
          "data": {
            "text/plain": [
              "timestamp                           0\n",
              "user_id                             0\n",
              "content_id                          0\n",
              "content_type_id                     0\n",
              "task_container_id                   0\n",
              "user_answer                         0\n",
              "answered_correctly                  0\n",
              "prior_question_elapsed_time       222\n",
              "prior_question_had_explanation      0\n",
              "timestamp_in_days                   0\n",
              "user_id_event_count                 0\n",
              "dtype: int64"
            ]
          },
          "metadata": {
            "tags": []
          },
          "execution_count": 221
        }
      ]
    },
    {
      "cell_type": "markdown",
      "metadata": {
        "id": "gnTlZ9AEUUm2"
      },
      "source": [
        "Even though most data is not NA, recall that the data description showed that some data is \"null\" but were encoded as '-1' or other values. We'll encode them as NA instead."
      ]
    },
    {
      "cell_type": "code",
      "metadata": {
        "colab": {
          "base_uri": "https://localhost:8080/"
        },
        "id": "NgWTNxp3z1t8",
        "outputId": "f1190e46-5f45-4b33-f7a0-25134c3a7798"
      },
      "source": [
        "# Convert Null values to NA\r\n",
        "\r\n",
        "encoded_df = df.copy()\r\n",
        "print('Before:\\n', encoded_df.isna().sum())\r\n",
        "\r\n",
        "# content_type_id: \"1 if the event was the user watching a lecture.\"\r\n",
        "encoded_df['content_type_id'] = encoded_df['content_type_id'].mask(encoded_df['content_type_id']==1)\r\n",
        "\r\n",
        "\r\n",
        "# user_answer: \" Read -1 as null, for lectures.\"\r\n",
        "encoded_df['user_answer'] = encoded_df['user_answer'].mask(encoded_df['user_answer']==-1)\r\n",
        "\r\n",
        "# answered_correctly Read -1 as null, for lectures\r\n",
        "encoded_df['answered_correctly'] = encoded_df['answered_correctly'].mask(encoded_df['answered_correctly']==-1)\r\n",
        "\r\n",
        "\r\n",
        "# Count the NA entries\r\n",
        "print('\\nAfter:\\n', encoded_df.isna().sum())"
      ],
      "execution_count": 222,
      "outputs": [
        {
          "output_type": "stream",
          "text": [
            "Before:\n",
            " timestamp                           0\n",
            "user_id                             0\n",
            "content_id                          0\n",
            "content_type_id                     0\n",
            "task_container_id                   0\n",
            "user_answer                         0\n",
            "answered_correctly                  0\n",
            "prior_question_elapsed_time       222\n",
            "prior_question_had_explanation      0\n",
            "timestamp_in_days                   0\n",
            "user_id_event_count                 0\n",
            "dtype: int64\n",
            "\n",
            "After:\n",
            " timestamp                           0\n",
            "user_id                             0\n",
            "content_id                          0\n",
            "content_type_id                   201\n",
            "task_container_id                   0\n",
            "user_answer                       201\n",
            "answered_correctly                201\n",
            "prior_question_elapsed_time       222\n",
            "prior_question_had_explanation      0\n",
            "timestamp_in_days                   0\n",
            "user_id_event_count                 0\n",
            "dtype: int64\n"
          ],
          "name": "stdout"
        }
      ]
    },
    {
      "cell_type": "markdown",
      "metadata": {
        "id": "3v3OBKz7Vkvo"
      },
      "source": [
        "In the before and after printouts, we see the effect of masking the null-encoded values, and replacing them with NA."
      ]
    },
    {
      "cell_type": "markdown",
      "metadata": {
        "id": "nZwbCmUxy6Sa"
      },
      "source": [
        "## Drop NA rows \r\n",
        "\r\n",
        "Based on our earlier EDA, we have enough information to make informed decision on how to handle NA values.\r\n",
        "\r\n"
      ]
    },
    {
      "cell_type": "code",
      "metadata": {
        "colab": {
          "base_uri": "https://localhost:8080/"
        },
        "id": "rmWLpvOfl-jm",
        "outputId": "f0696271-0bc6-4f92-caec-cf90db217d89"
      },
      "source": [
        "encoded_df.shape"
      ],
      "execution_count": 223,
      "outputs": [
        {
          "output_type": "execute_result",
          "data": {
            "text/plain": [
              "(10124, 11)"
            ]
          },
          "metadata": {
            "tags": []
          },
          "execution_count": 223
        }
      ]
    },
    {
      "cell_type": "code",
      "metadata": {
        "colab": {
          "base_uri": "https://localhost:8080/"
        },
        "id": "xS603wdBWCfd",
        "outputId": "768ae406-6dee-4006-cda5-50c2633e318e"
      },
      "source": [
        "encoded_df_no_na = encoded_df.dropna().reset_index(drop=True)\r\n",
        "encoded_df_no_na.isna().sum()"
      ],
      "execution_count": 224,
      "outputs": [
        {
          "output_type": "execute_result",
          "data": {
            "text/plain": [
              "timestamp                         0\n",
              "user_id                           0\n",
              "content_id                        0\n",
              "content_type_id                   0\n",
              "task_container_id                 0\n",
              "user_answer                       0\n",
              "answered_correctly                0\n",
              "prior_question_elapsed_time       0\n",
              "prior_question_had_explanation    0\n",
              "timestamp_in_days                 0\n",
              "user_id_event_count               0\n",
              "dtype: int64"
            ]
          },
          "metadata": {
            "tags": []
          },
          "execution_count": 224
        }
      ]
    },
    {
      "cell_type": "code",
      "metadata": {
        "colab": {
          "base_uri": "https://localhost:8080/"
        },
        "id": "YD_cTMDOl9sr",
        "outputId": "a98d6690-6cd6-4659-8cb4-0eacbdf60ced"
      },
      "source": [
        "encoded_df_no_na.shape"
      ],
      "execution_count": 225,
      "outputs": [
        {
          "output_type": "execute_result",
          "data": {
            "text/plain": [
              "(9902, 11)"
            ]
          },
          "metadata": {
            "tags": []
          },
          "execution_count": 225
        }
      ]
    },
    {
      "cell_type": "markdown",
      "metadata": {
        "id": "zI-yISQucoNl"
      },
      "source": [
        "We see that the .shape attribute shows that about 2% of the entries were dropped."
      ]
    },
    {
      "cell_type": "markdown",
      "metadata": {
        "id": "kAjpCBJCgO4N"
      },
      "source": [
        "## Drop features that don't predict the target variable"
      ]
    },
    {
      "cell_type": "code",
      "metadata": {
        "colab": {
          "base_uri": "https://localhost:8080/",
          "height": 439
        },
        "id": "xQUo3ekjgWkL",
        "outputId": "0de9843f-d9dc-4feb-8a9d-90619eab7469"
      },
      "source": [
        "# Drop user_id\r\n",
        "encoded_df_no_na = encoded_df_no_na.drop(columns='user_id').reset_index(drop=True)\r\n",
        "encoded_df_no_na"
      ],
      "execution_count": 226,
      "outputs": [
        {
          "output_type": "execute_result",
          "data": {
            "text/html": [
              "<div>\n",
              "<style scoped>\n",
              "    .dataframe tbody tr th:only-of-type {\n",
              "        vertical-align: middle;\n",
              "    }\n",
              "\n",
              "    .dataframe tbody tr th {\n",
              "        vertical-align: top;\n",
              "    }\n",
              "\n",
              "    .dataframe thead th {\n",
              "        text-align: right;\n",
              "    }\n",
              "</style>\n",
              "<table border=\"1\" class=\"dataframe\">\n",
              "  <thead>\n",
              "    <tr style=\"text-align: right;\">\n",
              "      <th></th>\n",
              "      <th>timestamp</th>\n",
              "      <th>content_id</th>\n",
              "      <th>content_type_id</th>\n",
              "      <th>task_container_id</th>\n",
              "      <th>user_answer</th>\n",
              "      <th>answered_correctly</th>\n",
              "      <th>prior_question_elapsed_time</th>\n",
              "      <th>prior_question_had_explanation</th>\n",
              "      <th>timestamp_in_days</th>\n",
              "      <th>user_id_event_count</th>\n",
              "    </tr>\n",
              "  </thead>\n",
              "  <tbody>\n",
              "    <tr>\n",
              "      <th>0</th>\n",
              "      <td>2868613211</td>\n",
              "      <td>1219</td>\n",
              "      <td>0</td>\n",
              "      <td>780</td>\n",
              "      <td>1</td>\n",
              "      <td>1</td>\n",
              "      <td>17000.0</td>\n",
              "      <td>True</td>\n",
              "      <td>33.201542</td>\n",
              "      <td>1</td>\n",
              "    </tr>\n",
              "    <tr>\n",
              "      <th>1</th>\n",
              "      <td>14686539127</td>\n",
              "      <td>10656</td>\n",
              "      <td>0</td>\n",
              "      <td>1317</td>\n",
              "      <td>0</td>\n",
              "      <td>1</td>\n",
              "      <td>19000.0</td>\n",
              "      <td>True</td>\n",
              "      <td>169.983092</td>\n",
              "      <td>1</td>\n",
              "    </tr>\n",
              "    <tr>\n",
              "      <th>2</th>\n",
              "      <td>1083486476</td>\n",
              "      <td>6857</td>\n",
              "      <td>0</td>\n",
              "      <td>243</td>\n",
              "      <td>3</td>\n",
              "      <td>1</td>\n",
              "      <td>11750.0</td>\n",
              "      <td>True</td>\n",
              "      <td>12.540353</td>\n",
              "      <td>1</td>\n",
              "    </tr>\n",
              "    <tr>\n",
              "      <th>3</th>\n",
              "      <td>15426935577</td>\n",
              "      <td>6798</td>\n",
              "      <td>0</td>\n",
              "      <td>1515</td>\n",
              "      <td>0</td>\n",
              "      <td>1</td>\n",
              "      <td>9000.0</td>\n",
              "      <td>False</td>\n",
              "      <td>178.552495</td>\n",
              "      <td>1</td>\n",
              "    </tr>\n",
              "    <tr>\n",
              "      <th>4</th>\n",
              "      <td>8841108363</td>\n",
              "      <td>10294</td>\n",
              "      <td>0</td>\n",
              "      <td>988</td>\n",
              "      <td>2</td>\n",
              "      <td>1</td>\n",
              "      <td>31500.0</td>\n",
              "      <td>True</td>\n",
              "      <td>102.327643</td>\n",
              "      <td>1</td>\n",
              "    </tr>\n",
              "    <tr>\n",
              "      <th>...</th>\n",
              "      <td>...</td>\n",
              "      <td>...</td>\n",
              "      <td>...</td>\n",
              "      <td>...</td>\n",
              "      <td>...</td>\n",
              "      <td>...</td>\n",
              "      <td>...</td>\n",
              "      <td>...</td>\n",
              "      <td>...</td>\n",
              "      <td>...</td>\n",
              "    </tr>\n",
              "    <tr>\n",
              "      <th>9897</th>\n",
              "      <td>1158534297</td>\n",
              "      <td>383</td>\n",
              "      <td>0</td>\n",
              "      <td>300</td>\n",
              "      <td>0</td>\n",
              "      <td>0</td>\n",
              "      <td>20000.0</td>\n",
              "      <td>True</td>\n",
              "      <td>13.408962</td>\n",
              "      <td>1</td>\n",
              "    </tr>\n",
              "    <tr>\n",
              "      <th>9898</th>\n",
              "      <td>9269436738</td>\n",
              "      <td>11859</td>\n",
              "      <td>0</td>\n",
              "      <td>163</td>\n",
              "      <td>1</td>\n",
              "      <td>1</td>\n",
              "      <td>26000.0</td>\n",
              "      <td>True</td>\n",
              "      <td>107.285147</td>\n",
              "      <td>1</td>\n",
              "    </tr>\n",
              "    <tr>\n",
              "      <th>9899</th>\n",
              "      <td>4609471378</td>\n",
              "      <td>1202</td>\n",
              "      <td>0</td>\n",
              "      <td>1506</td>\n",
              "      <td>1</td>\n",
              "      <td>1</td>\n",
              "      <td>15000.0</td>\n",
              "      <td>True</td>\n",
              "      <td>53.350363</td>\n",
              "      <td>1</td>\n",
              "    </tr>\n",
              "    <tr>\n",
              "      <th>9900</th>\n",
              "      <td>689004</td>\n",
              "      <td>6880</td>\n",
              "      <td>0</td>\n",
              "      <td>14</td>\n",
              "      <td>2</td>\n",
              "      <td>0</td>\n",
              "      <td>44000.0</td>\n",
              "      <td>False</td>\n",
              "      <td>0.007975</td>\n",
              "      <td>1</td>\n",
              "    </tr>\n",
              "    <tr>\n",
              "      <th>9901</th>\n",
              "      <td>767149</td>\n",
              "      <td>586</td>\n",
              "      <td>0</td>\n",
              "      <td>25</td>\n",
              "      <td>0</td>\n",
              "      <td>0</td>\n",
              "      <td>15000.0</td>\n",
              "      <td>True</td>\n",
              "      <td>0.008879</td>\n",
              "      <td>1</td>\n",
              "    </tr>\n",
              "  </tbody>\n",
              "</table>\n",
              "<p>9902 rows × 10 columns</p>\n",
              "</div>"
            ],
            "text/plain": [
              "        timestamp content_id  ... timestamp_in_days user_id_event_count\n",
              "0      2868613211       1219  ...         33.201542                   1\n",
              "1     14686539127      10656  ...        169.983092                   1\n",
              "2      1083486476       6857  ...         12.540353                   1\n",
              "3     15426935577       6798  ...        178.552495                   1\n",
              "4      8841108363      10294  ...        102.327643                   1\n",
              "...           ...        ...  ...               ...                 ...\n",
              "9897   1158534297        383  ...         13.408962                   1\n",
              "9898   9269436738      11859  ...        107.285147                   1\n",
              "9899   4609471378       1202  ...         53.350363                   1\n",
              "9900       689004       6880  ...          0.007975                   1\n",
              "9901       767149        586  ...          0.008879                   1\n",
              "\n",
              "[9902 rows x 10 columns]"
            ]
          },
          "metadata": {
            "tags": []
          },
          "execution_count": 226
        }
      ]
    },
    {
      "cell_type": "markdown",
      "metadata": {
        "id": "1hjjhBOly1Yy"
      },
      "source": [
        "## Encode Dummy Variables\r\n",
        "\r\n",
        "The categorical variables need to be one-hot-encoded for most of the models to work correctly.\r\n",
        "\r\n",
        "The numerical variables may need to be standardized for some models.\r\n"
      ]
    },
    {
      "cell_type": "markdown",
      "metadata": {
        "id": "nCzE8oe4cu1D"
      },
      "source": [
        "### One-hot-encode the categorical variables"
      ]
    },
    {
      "cell_type": "code",
      "metadata": {
        "colab": {
          "base_uri": "https://localhost:8080/",
          "height": 419
        },
        "id": "QNc5NK2bdObB",
        "outputId": "c0324c84-3d28-46a4-c228-3d6c955d2cd9"
      },
      "source": [
        "# from sklearn.preprocessing import OneHotEncoder, LabelEncoder\r\n",
        "\r\n",
        "X = encoded_df_no_na.drop(columns=['answered_correctly', 'timestamp_in_days'])\r\n",
        "y = encoded_df_no_na['answered_correctly']\r\n",
        "\r\n",
        "X_cat = X.select_dtypes(exclude=['int64', 'float64'])\r\n",
        "X_cat"
      ],
      "execution_count": 227,
      "outputs": [
        {
          "output_type": "execute_result",
          "data": {
            "text/html": [
              "<div>\n",
              "<style scoped>\n",
              "    .dataframe tbody tr th:only-of-type {\n",
              "        vertical-align: middle;\n",
              "    }\n",
              "\n",
              "    .dataframe tbody tr th {\n",
              "        vertical-align: top;\n",
              "    }\n",
              "\n",
              "    .dataframe thead th {\n",
              "        text-align: right;\n",
              "    }\n",
              "</style>\n",
              "<table border=\"1\" class=\"dataframe\">\n",
              "  <thead>\n",
              "    <tr style=\"text-align: right;\">\n",
              "      <th></th>\n",
              "      <th>content_id</th>\n",
              "      <th>content_type_id</th>\n",
              "      <th>task_container_id</th>\n",
              "      <th>user_answer</th>\n",
              "      <th>prior_question_had_explanation</th>\n",
              "    </tr>\n",
              "  </thead>\n",
              "  <tbody>\n",
              "    <tr>\n",
              "      <th>0</th>\n",
              "      <td>1219</td>\n",
              "      <td>0</td>\n",
              "      <td>780</td>\n",
              "      <td>1</td>\n",
              "      <td>True</td>\n",
              "    </tr>\n",
              "    <tr>\n",
              "      <th>1</th>\n",
              "      <td>10656</td>\n",
              "      <td>0</td>\n",
              "      <td>1317</td>\n",
              "      <td>0</td>\n",
              "      <td>True</td>\n",
              "    </tr>\n",
              "    <tr>\n",
              "      <th>2</th>\n",
              "      <td>6857</td>\n",
              "      <td>0</td>\n",
              "      <td>243</td>\n",
              "      <td>3</td>\n",
              "      <td>True</td>\n",
              "    </tr>\n",
              "    <tr>\n",
              "      <th>3</th>\n",
              "      <td>6798</td>\n",
              "      <td>0</td>\n",
              "      <td>1515</td>\n",
              "      <td>0</td>\n",
              "      <td>False</td>\n",
              "    </tr>\n",
              "    <tr>\n",
              "      <th>4</th>\n",
              "      <td>10294</td>\n",
              "      <td>0</td>\n",
              "      <td>988</td>\n",
              "      <td>2</td>\n",
              "      <td>True</td>\n",
              "    </tr>\n",
              "    <tr>\n",
              "      <th>...</th>\n",
              "      <td>...</td>\n",
              "      <td>...</td>\n",
              "      <td>...</td>\n",
              "      <td>...</td>\n",
              "      <td>...</td>\n",
              "    </tr>\n",
              "    <tr>\n",
              "      <th>9897</th>\n",
              "      <td>383</td>\n",
              "      <td>0</td>\n",
              "      <td>300</td>\n",
              "      <td>0</td>\n",
              "      <td>True</td>\n",
              "    </tr>\n",
              "    <tr>\n",
              "      <th>9898</th>\n",
              "      <td>11859</td>\n",
              "      <td>0</td>\n",
              "      <td>163</td>\n",
              "      <td>1</td>\n",
              "      <td>True</td>\n",
              "    </tr>\n",
              "    <tr>\n",
              "      <th>9899</th>\n",
              "      <td>1202</td>\n",
              "      <td>0</td>\n",
              "      <td>1506</td>\n",
              "      <td>1</td>\n",
              "      <td>True</td>\n",
              "    </tr>\n",
              "    <tr>\n",
              "      <th>9900</th>\n",
              "      <td>6880</td>\n",
              "      <td>0</td>\n",
              "      <td>14</td>\n",
              "      <td>2</td>\n",
              "      <td>False</td>\n",
              "    </tr>\n",
              "    <tr>\n",
              "      <th>9901</th>\n",
              "      <td>586</td>\n",
              "      <td>0</td>\n",
              "      <td>25</td>\n",
              "      <td>0</td>\n",
              "      <td>True</td>\n",
              "    </tr>\n",
              "  </tbody>\n",
              "</table>\n",
              "<p>9902 rows × 5 columns</p>\n",
              "</div>"
            ],
            "text/plain": [
              "     content_id content_type_id  ... user_answer prior_question_had_explanation\n",
              "0          1219               0  ...           1                           True\n",
              "1         10656               0  ...           0                           True\n",
              "2          6857               0  ...           3                           True\n",
              "3          6798               0  ...           0                          False\n",
              "4         10294               0  ...           2                           True\n",
              "...         ...             ...  ...         ...                            ...\n",
              "9897        383               0  ...           0                           True\n",
              "9898      11859               0  ...           1                           True\n",
              "9899       1202               0  ...           1                           True\n",
              "9900       6880               0  ...           2                          False\n",
              "9901        586               0  ...           0                           True\n",
              "\n",
              "[9902 rows x 5 columns]"
            ]
          },
          "metadata": {
            "tags": []
          },
          "execution_count": 227
        }
      ]
    },
    {
      "cell_type": "code",
      "metadata": {
        "colab": {
          "base_uri": "https://localhost:8080/",
          "height": 439
        },
        "id": "hoeCcMyE5jrR",
        "outputId": "68d9c62d-7ae4-42fb-9940-4318a3045109"
      },
      "source": [
        "# X_t = pd.get_dummies(X, drop_first=False, dtype=bool)\r\n",
        "X_t = pd.get_dummies(X, drop_first=True, dtype=bool)\r\n",
        "X_t"
      ],
      "execution_count": 228,
      "outputs": [
        {
          "output_type": "execute_result",
          "data": {
            "text/html": [
              "<div>\n",
              "<style scoped>\n",
              "    .dataframe tbody tr th:only-of-type {\n",
              "        vertical-align: middle;\n",
              "    }\n",
              "\n",
              "    .dataframe tbody tr th {\n",
              "        vertical-align: top;\n",
              "    }\n",
              "\n",
              "    .dataframe thead th {\n",
              "        text-align: right;\n",
              "    }\n",
              "</style>\n",
              "<table border=\"1\" class=\"dataframe\">\n",
              "  <thead>\n",
              "    <tr style=\"text-align: right;\">\n",
              "      <th></th>\n",
              "      <th>timestamp</th>\n",
              "      <th>prior_question_elapsed_time</th>\n",
              "      <th>prior_question_had_explanation</th>\n",
              "      <th>user_id_event_count</th>\n",
              "      <th>content_id_1</th>\n",
              "      <th>content_id_2</th>\n",
              "      <th>content_id_3</th>\n",
              "      <th>content_id_4</th>\n",
              "      <th>content_id_5</th>\n",
              "      <th>content_id_6</th>\n",
              "      <th>content_id_7</th>\n",
              "      <th>content_id_8</th>\n",
              "      <th>content_id_9</th>\n",
              "      <th>content_id_10</th>\n",
              "      <th>content_id_12</th>\n",
              "      <th>content_id_14</th>\n",
              "      <th>content_id_15</th>\n",
              "      <th>content_id_18</th>\n",
              "      <th>content_id_19</th>\n",
              "      <th>content_id_23</th>\n",
              "      <th>content_id_24</th>\n",
              "      <th>content_id_25</th>\n",
              "      <th>content_id_26</th>\n",
              "      <th>content_id_28</th>\n",
              "      <th>content_id_30</th>\n",
              "      <th>content_id_31</th>\n",
              "      <th>content_id_33</th>\n",
              "      <th>content_id_36</th>\n",
              "      <th>content_id_37</th>\n",
              "      <th>content_id_39</th>\n",
              "      <th>content_id_42</th>\n",
              "      <th>content_id_43</th>\n",
              "      <th>content_id_45</th>\n",
              "      <th>content_id_50</th>\n",
              "      <th>content_id_51</th>\n",
              "      <th>content_id_52</th>\n",
              "      <th>content_id_55</th>\n",
              "      <th>content_id_56</th>\n",
              "      <th>content_id_58</th>\n",
              "      <th>content_id_59</th>\n",
              "      <th>...</th>\n",
              "      <th>task_container_id_8328</th>\n",
              "      <th>task_container_id_8340</th>\n",
              "      <th>task_container_id_8461</th>\n",
              "      <th>task_container_id_8544</th>\n",
              "      <th>task_container_id_8600</th>\n",
              "      <th>task_container_id_8615</th>\n",
              "      <th>task_container_id_8689</th>\n",
              "      <th>task_container_id_8735</th>\n",
              "      <th>task_container_id_8769</th>\n",
              "      <th>task_container_id_8852</th>\n",
              "      <th>task_container_id_8867</th>\n",
              "      <th>task_container_id_8891</th>\n",
              "      <th>task_container_id_8914</th>\n",
              "      <th>task_container_id_8972</th>\n",
              "      <th>task_container_id_8993</th>\n",
              "      <th>task_container_id_9024</th>\n",
              "      <th>task_container_id_9076</th>\n",
              "      <th>task_container_id_9080</th>\n",
              "      <th>task_container_id_9145</th>\n",
              "      <th>task_container_id_9148</th>\n",
              "      <th>task_container_id_9157</th>\n",
              "      <th>task_container_id_9181</th>\n",
              "      <th>task_container_id_9187</th>\n",
              "      <th>task_container_id_9218</th>\n",
              "      <th>task_container_id_9229</th>\n",
              "      <th>task_container_id_9276</th>\n",
              "      <th>task_container_id_9289</th>\n",
              "      <th>task_container_id_9308</th>\n",
              "      <th>task_container_id_9458</th>\n",
              "      <th>task_container_id_9471</th>\n",
              "      <th>task_container_id_9695</th>\n",
              "      <th>task_container_id_9703</th>\n",
              "      <th>task_container_id_9742</th>\n",
              "      <th>task_container_id_9936</th>\n",
              "      <th>task_container_id_9953</th>\n",
              "      <th>task_container_id_9975</th>\n",
              "      <th>user_answer_0</th>\n",
              "      <th>user_answer_1</th>\n",
              "      <th>user_answer_2</th>\n",
              "      <th>user_answer_3</th>\n",
              "    </tr>\n",
              "  </thead>\n",
              "  <tbody>\n",
              "    <tr>\n",
              "      <th>0</th>\n",
              "      <td>2868613211</td>\n",
              "      <td>17000.0</td>\n",
              "      <td>True</td>\n",
              "      <td>1</td>\n",
              "      <td>False</td>\n",
              "      <td>False</td>\n",
              "      <td>False</td>\n",
              "      <td>False</td>\n",
              "      <td>False</td>\n",
              "      <td>False</td>\n",
              "      <td>False</td>\n",
              "      <td>False</td>\n",
              "      <td>False</td>\n",
              "      <td>False</td>\n",
              "      <td>False</td>\n",
              "      <td>False</td>\n",
              "      <td>False</td>\n",
              "      <td>False</td>\n",
              "      <td>False</td>\n",
              "      <td>False</td>\n",
              "      <td>False</td>\n",
              "      <td>False</td>\n",
              "      <td>False</td>\n",
              "      <td>False</td>\n",
              "      <td>False</td>\n",
              "      <td>False</td>\n",
              "      <td>False</td>\n",
              "      <td>False</td>\n",
              "      <td>False</td>\n",
              "      <td>False</td>\n",
              "      <td>False</td>\n",
              "      <td>False</td>\n",
              "      <td>False</td>\n",
              "      <td>False</td>\n",
              "      <td>False</td>\n",
              "      <td>False</td>\n",
              "      <td>False</td>\n",
              "      <td>False</td>\n",
              "      <td>False</td>\n",
              "      <td>False</td>\n",
              "      <td>...</td>\n",
              "      <td>False</td>\n",
              "      <td>False</td>\n",
              "      <td>False</td>\n",
              "      <td>False</td>\n",
              "      <td>False</td>\n",
              "      <td>False</td>\n",
              "      <td>False</td>\n",
              "      <td>False</td>\n",
              "      <td>False</td>\n",
              "      <td>False</td>\n",
              "      <td>False</td>\n",
              "      <td>False</td>\n",
              "      <td>False</td>\n",
              "      <td>False</td>\n",
              "      <td>False</td>\n",
              "      <td>False</td>\n",
              "      <td>False</td>\n",
              "      <td>False</td>\n",
              "      <td>False</td>\n",
              "      <td>False</td>\n",
              "      <td>False</td>\n",
              "      <td>False</td>\n",
              "      <td>False</td>\n",
              "      <td>False</td>\n",
              "      <td>False</td>\n",
              "      <td>False</td>\n",
              "      <td>False</td>\n",
              "      <td>False</td>\n",
              "      <td>False</td>\n",
              "      <td>False</td>\n",
              "      <td>False</td>\n",
              "      <td>False</td>\n",
              "      <td>False</td>\n",
              "      <td>False</td>\n",
              "      <td>False</td>\n",
              "      <td>False</td>\n",
              "      <td>False</td>\n",
              "      <td>True</td>\n",
              "      <td>False</td>\n",
              "      <td>False</td>\n",
              "    </tr>\n",
              "    <tr>\n",
              "      <th>1</th>\n",
              "      <td>14686539127</td>\n",
              "      <td>19000.0</td>\n",
              "      <td>True</td>\n",
              "      <td>1</td>\n",
              "      <td>False</td>\n",
              "      <td>False</td>\n",
              "      <td>False</td>\n",
              "      <td>False</td>\n",
              "      <td>False</td>\n",
              "      <td>False</td>\n",
              "      <td>False</td>\n",
              "      <td>False</td>\n",
              "      <td>False</td>\n",
              "      <td>False</td>\n",
              "      <td>False</td>\n",
              "      <td>False</td>\n",
              "      <td>False</td>\n",
              "      <td>False</td>\n",
              "      <td>False</td>\n",
              "      <td>False</td>\n",
              "      <td>False</td>\n",
              "      <td>False</td>\n",
              "      <td>False</td>\n",
              "      <td>False</td>\n",
              "      <td>False</td>\n",
              "      <td>False</td>\n",
              "      <td>False</td>\n",
              "      <td>False</td>\n",
              "      <td>False</td>\n",
              "      <td>False</td>\n",
              "      <td>False</td>\n",
              "      <td>False</td>\n",
              "      <td>False</td>\n",
              "      <td>False</td>\n",
              "      <td>False</td>\n",
              "      <td>False</td>\n",
              "      <td>False</td>\n",
              "      <td>False</td>\n",
              "      <td>False</td>\n",
              "      <td>False</td>\n",
              "      <td>...</td>\n",
              "      <td>False</td>\n",
              "      <td>False</td>\n",
              "      <td>False</td>\n",
              "      <td>False</td>\n",
              "      <td>False</td>\n",
              "      <td>False</td>\n",
              "      <td>False</td>\n",
              "      <td>False</td>\n",
              "      <td>False</td>\n",
              "      <td>False</td>\n",
              "      <td>False</td>\n",
              "      <td>False</td>\n",
              "      <td>False</td>\n",
              "      <td>False</td>\n",
              "      <td>False</td>\n",
              "      <td>False</td>\n",
              "      <td>False</td>\n",
              "      <td>False</td>\n",
              "      <td>False</td>\n",
              "      <td>False</td>\n",
              "      <td>False</td>\n",
              "      <td>False</td>\n",
              "      <td>False</td>\n",
              "      <td>False</td>\n",
              "      <td>False</td>\n",
              "      <td>False</td>\n",
              "      <td>False</td>\n",
              "      <td>False</td>\n",
              "      <td>False</td>\n",
              "      <td>False</td>\n",
              "      <td>False</td>\n",
              "      <td>False</td>\n",
              "      <td>False</td>\n",
              "      <td>False</td>\n",
              "      <td>False</td>\n",
              "      <td>False</td>\n",
              "      <td>True</td>\n",
              "      <td>False</td>\n",
              "      <td>False</td>\n",
              "      <td>False</td>\n",
              "    </tr>\n",
              "    <tr>\n",
              "      <th>2</th>\n",
              "      <td>1083486476</td>\n",
              "      <td>11750.0</td>\n",
              "      <td>True</td>\n",
              "      <td>1</td>\n",
              "      <td>False</td>\n",
              "      <td>False</td>\n",
              "      <td>False</td>\n",
              "      <td>False</td>\n",
              "      <td>False</td>\n",
              "      <td>False</td>\n",
              "      <td>False</td>\n",
              "      <td>False</td>\n",
              "      <td>False</td>\n",
              "      <td>False</td>\n",
              "      <td>False</td>\n",
              "      <td>False</td>\n",
              "      <td>False</td>\n",
              "      <td>False</td>\n",
              "      <td>False</td>\n",
              "      <td>False</td>\n",
              "      <td>False</td>\n",
              "      <td>False</td>\n",
              "      <td>False</td>\n",
              "      <td>False</td>\n",
              "      <td>False</td>\n",
              "      <td>False</td>\n",
              "      <td>False</td>\n",
              "      <td>False</td>\n",
              "      <td>False</td>\n",
              "      <td>False</td>\n",
              "      <td>False</td>\n",
              "      <td>False</td>\n",
              "      <td>False</td>\n",
              "      <td>False</td>\n",
              "      <td>False</td>\n",
              "      <td>False</td>\n",
              "      <td>False</td>\n",
              "      <td>False</td>\n",
              "      <td>False</td>\n",
              "      <td>False</td>\n",
              "      <td>...</td>\n",
              "      <td>False</td>\n",
              "      <td>False</td>\n",
              "      <td>False</td>\n",
              "      <td>False</td>\n",
              "      <td>False</td>\n",
              "      <td>False</td>\n",
              "      <td>False</td>\n",
              "      <td>False</td>\n",
              "      <td>False</td>\n",
              "      <td>False</td>\n",
              "      <td>False</td>\n",
              "      <td>False</td>\n",
              "      <td>False</td>\n",
              "      <td>False</td>\n",
              "      <td>False</td>\n",
              "      <td>False</td>\n",
              "      <td>False</td>\n",
              "      <td>False</td>\n",
              "      <td>False</td>\n",
              "      <td>False</td>\n",
              "      <td>False</td>\n",
              "      <td>False</td>\n",
              "      <td>False</td>\n",
              "      <td>False</td>\n",
              "      <td>False</td>\n",
              "      <td>False</td>\n",
              "      <td>False</td>\n",
              "      <td>False</td>\n",
              "      <td>False</td>\n",
              "      <td>False</td>\n",
              "      <td>False</td>\n",
              "      <td>False</td>\n",
              "      <td>False</td>\n",
              "      <td>False</td>\n",
              "      <td>False</td>\n",
              "      <td>False</td>\n",
              "      <td>False</td>\n",
              "      <td>False</td>\n",
              "      <td>False</td>\n",
              "      <td>True</td>\n",
              "    </tr>\n",
              "    <tr>\n",
              "      <th>3</th>\n",
              "      <td>15426935577</td>\n",
              "      <td>9000.0</td>\n",
              "      <td>False</td>\n",
              "      <td>1</td>\n",
              "      <td>False</td>\n",
              "      <td>False</td>\n",
              "      <td>False</td>\n",
              "      <td>False</td>\n",
              "      <td>False</td>\n",
              "      <td>False</td>\n",
              "      <td>False</td>\n",
              "      <td>False</td>\n",
              "      <td>False</td>\n",
              "      <td>False</td>\n",
              "      <td>False</td>\n",
              "      <td>False</td>\n",
              "      <td>False</td>\n",
              "      <td>False</td>\n",
              "      <td>False</td>\n",
              "      <td>False</td>\n",
              "      <td>False</td>\n",
              "      <td>False</td>\n",
              "      <td>False</td>\n",
              "      <td>False</td>\n",
              "      <td>False</td>\n",
              "      <td>False</td>\n",
              "      <td>False</td>\n",
              "      <td>False</td>\n",
              "      <td>False</td>\n",
              "      <td>False</td>\n",
              "      <td>False</td>\n",
              "      <td>False</td>\n",
              "      <td>False</td>\n",
              "      <td>False</td>\n",
              "      <td>False</td>\n",
              "      <td>False</td>\n",
              "      <td>False</td>\n",
              "      <td>False</td>\n",
              "      <td>False</td>\n",
              "      <td>False</td>\n",
              "      <td>...</td>\n",
              "      <td>False</td>\n",
              "      <td>False</td>\n",
              "      <td>False</td>\n",
              "      <td>False</td>\n",
              "      <td>False</td>\n",
              "      <td>False</td>\n",
              "      <td>False</td>\n",
              "      <td>False</td>\n",
              "      <td>False</td>\n",
              "      <td>False</td>\n",
              "      <td>False</td>\n",
              "      <td>False</td>\n",
              "      <td>False</td>\n",
              "      <td>False</td>\n",
              "      <td>False</td>\n",
              "      <td>False</td>\n",
              "      <td>False</td>\n",
              "      <td>False</td>\n",
              "      <td>False</td>\n",
              "      <td>False</td>\n",
              "      <td>False</td>\n",
              "      <td>False</td>\n",
              "      <td>False</td>\n",
              "      <td>False</td>\n",
              "      <td>False</td>\n",
              "      <td>False</td>\n",
              "      <td>False</td>\n",
              "      <td>False</td>\n",
              "      <td>False</td>\n",
              "      <td>False</td>\n",
              "      <td>False</td>\n",
              "      <td>False</td>\n",
              "      <td>False</td>\n",
              "      <td>False</td>\n",
              "      <td>False</td>\n",
              "      <td>False</td>\n",
              "      <td>True</td>\n",
              "      <td>False</td>\n",
              "      <td>False</td>\n",
              "      <td>False</td>\n",
              "    </tr>\n",
              "    <tr>\n",
              "      <th>4</th>\n",
              "      <td>8841108363</td>\n",
              "      <td>31500.0</td>\n",
              "      <td>True</td>\n",
              "      <td>1</td>\n",
              "      <td>False</td>\n",
              "      <td>False</td>\n",
              "      <td>False</td>\n",
              "      <td>False</td>\n",
              "      <td>False</td>\n",
              "      <td>False</td>\n",
              "      <td>False</td>\n",
              "      <td>False</td>\n",
              "      <td>False</td>\n",
              "      <td>False</td>\n",
              "      <td>False</td>\n",
              "      <td>False</td>\n",
              "      <td>False</td>\n",
              "      <td>False</td>\n",
              "      <td>False</td>\n",
              "      <td>False</td>\n",
              "      <td>False</td>\n",
              "      <td>False</td>\n",
              "      <td>False</td>\n",
              "      <td>False</td>\n",
              "      <td>False</td>\n",
              "      <td>False</td>\n",
              "      <td>False</td>\n",
              "      <td>False</td>\n",
              "      <td>False</td>\n",
              "      <td>False</td>\n",
              "      <td>False</td>\n",
              "      <td>False</td>\n",
              "      <td>False</td>\n",
              "      <td>False</td>\n",
              "      <td>False</td>\n",
              "      <td>False</td>\n",
              "      <td>False</td>\n",
              "      <td>False</td>\n",
              "      <td>False</td>\n",
              "      <td>False</td>\n",
              "      <td>...</td>\n",
              "      <td>False</td>\n",
              "      <td>False</td>\n",
              "      <td>False</td>\n",
              "      <td>False</td>\n",
              "      <td>False</td>\n",
              "      <td>False</td>\n",
              "      <td>False</td>\n",
              "      <td>False</td>\n",
              "      <td>False</td>\n",
              "      <td>False</td>\n",
              "      <td>False</td>\n",
              "      <td>False</td>\n",
              "      <td>False</td>\n",
              "      <td>False</td>\n",
              "      <td>False</td>\n",
              "      <td>False</td>\n",
              "      <td>False</td>\n",
              "      <td>False</td>\n",
              "      <td>False</td>\n",
              "      <td>False</td>\n",
              "      <td>False</td>\n",
              "      <td>False</td>\n",
              "      <td>False</td>\n",
              "      <td>False</td>\n",
              "      <td>False</td>\n",
              "      <td>False</td>\n",
              "      <td>False</td>\n",
              "      <td>False</td>\n",
              "      <td>False</td>\n",
              "      <td>False</td>\n",
              "      <td>False</td>\n",
              "      <td>False</td>\n",
              "      <td>False</td>\n",
              "      <td>False</td>\n",
              "      <td>False</td>\n",
              "      <td>False</td>\n",
              "      <td>False</td>\n",
              "      <td>False</td>\n",
              "      <td>True</td>\n",
              "      <td>False</td>\n",
              "    </tr>\n",
              "    <tr>\n",
              "      <th>...</th>\n",
              "      <td>...</td>\n",
              "      <td>...</td>\n",
              "      <td>...</td>\n",
              "      <td>...</td>\n",
              "      <td>...</td>\n",
              "      <td>...</td>\n",
              "      <td>...</td>\n",
              "      <td>...</td>\n",
              "      <td>...</td>\n",
              "      <td>...</td>\n",
              "      <td>...</td>\n",
              "      <td>...</td>\n",
              "      <td>...</td>\n",
              "      <td>...</td>\n",
              "      <td>...</td>\n",
              "      <td>...</td>\n",
              "      <td>...</td>\n",
              "      <td>...</td>\n",
              "      <td>...</td>\n",
              "      <td>...</td>\n",
              "      <td>...</td>\n",
              "      <td>...</td>\n",
              "      <td>...</td>\n",
              "      <td>...</td>\n",
              "      <td>...</td>\n",
              "      <td>...</td>\n",
              "      <td>...</td>\n",
              "      <td>...</td>\n",
              "      <td>...</td>\n",
              "      <td>...</td>\n",
              "      <td>...</td>\n",
              "      <td>...</td>\n",
              "      <td>...</td>\n",
              "      <td>...</td>\n",
              "      <td>...</td>\n",
              "      <td>...</td>\n",
              "      <td>...</td>\n",
              "      <td>...</td>\n",
              "      <td>...</td>\n",
              "      <td>...</td>\n",
              "      <td>...</td>\n",
              "      <td>...</td>\n",
              "      <td>...</td>\n",
              "      <td>...</td>\n",
              "      <td>...</td>\n",
              "      <td>...</td>\n",
              "      <td>...</td>\n",
              "      <td>...</td>\n",
              "      <td>...</td>\n",
              "      <td>...</td>\n",
              "      <td>...</td>\n",
              "      <td>...</td>\n",
              "      <td>...</td>\n",
              "      <td>...</td>\n",
              "      <td>...</td>\n",
              "      <td>...</td>\n",
              "      <td>...</td>\n",
              "      <td>...</td>\n",
              "      <td>...</td>\n",
              "      <td>...</td>\n",
              "      <td>...</td>\n",
              "      <td>...</td>\n",
              "      <td>...</td>\n",
              "      <td>...</td>\n",
              "      <td>...</td>\n",
              "      <td>...</td>\n",
              "      <td>...</td>\n",
              "      <td>...</td>\n",
              "      <td>...</td>\n",
              "      <td>...</td>\n",
              "      <td>...</td>\n",
              "      <td>...</td>\n",
              "      <td>...</td>\n",
              "      <td>...</td>\n",
              "      <td>...</td>\n",
              "      <td>...</td>\n",
              "      <td>...</td>\n",
              "      <td>...</td>\n",
              "      <td>...</td>\n",
              "      <td>...</td>\n",
              "      <td>...</td>\n",
              "    </tr>\n",
              "    <tr>\n",
              "      <th>9897</th>\n",
              "      <td>1158534297</td>\n",
              "      <td>20000.0</td>\n",
              "      <td>True</td>\n",
              "      <td>1</td>\n",
              "      <td>False</td>\n",
              "      <td>False</td>\n",
              "      <td>False</td>\n",
              "      <td>False</td>\n",
              "      <td>False</td>\n",
              "      <td>False</td>\n",
              "      <td>False</td>\n",
              "      <td>False</td>\n",
              "      <td>False</td>\n",
              "      <td>False</td>\n",
              "      <td>False</td>\n",
              "      <td>False</td>\n",
              "      <td>False</td>\n",
              "      <td>False</td>\n",
              "      <td>False</td>\n",
              "      <td>False</td>\n",
              "      <td>False</td>\n",
              "      <td>False</td>\n",
              "      <td>False</td>\n",
              "      <td>False</td>\n",
              "      <td>False</td>\n",
              "      <td>False</td>\n",
              "      <td>False</td>\n",
              "      <td>False</td>\n",
              "      <td>False</td>\n",
              "      <td>False</td>\n",
              "      <td>False</td>\n",
              "      <td>False</td>\n",
              "      <td>False</td>\n",
              "      <td>False</td>\n",
              "      <td>False</td>\n",
              "      <td>False</td>\n",
              "      <td>False</td>\n",
              "      <td>False</td>\n",
              "      <td>False</td>\n",
              "      <td>False</td>\n",
              "      <td>...</td>\n",
              "      <td>False</td>\n",
              "      <td>False</td>\n",
              "      <td>False</td>\n",
              "      <td>False</td>\n",
              "      <td>False</td>\n",
              "      <td>False</td>\n",
              "      <td>False</td>\n",
              "      <td>False</td>\n",
              "      <td>False</td>\n",
              "      <td>False</td>\n",
              "      <td>False</td>\n",
              "      <td>False</td>\n",
              "      <td>False</td>\n",
              "      <td>False</td>\n",
              "      <td>False</td>\n",
              "      <td>False</td>\n",
              "      <td>False</td>\n",
              "      <td>False</td>\n",
              "      <td>False</td>\n",
              "      <td>False</td>\n",
              "      <td>False</td>\n",
              "      <td>False</td>\n",
              "      <td>False</td>\n",
              "      <td>False</td>\n",
              "      <td>False</td>\n",
              "      <td>False</td>\n",
              "      <td>False</td>\n",
              "      <td>False</td>\n",
              "      <td>False</td>\n",
              "      <td>False</td>\n",
              "      <td>False</td>\n",
              "      <td>False</td>\n",
              "      <td>False</td>\n",
              "      <td>False</td>\n",
              "      <td>False</td>\n",
              "      <td>False</td>\n",
              "      <td>True</td>\n",
              "      <td>False</td>\n",
              "      <td>False</td>\n",
              "      <td>False</td>\n",
              "    </tr>\n",
              "    <tr>\n",
              "      <th>9898</th>\n",
              "      <td>9269436738</td>\n",
              "      <td>26000.0</td>\n",
              "      <td>True</td>\n",
              "      <td>1</td>\n",
              "      <td>False</td>\n",
              "      <td>False</td>\n",
              "      <td>False</td>\n",
              "      <td>False</td>\n",
              "      <td>False</td>\n",
              "      <td>False</td>\n",
              "      <td>False</td>\n",
              "      <td>False</td>\n",
              "      <td>False</td>\n",
              "      <td>False</td>\n",
              "      <td>False</td>\n",
              "      <td>False</td>\n",
              "      <td>False</td>\n",
              "      <td>False</td>\n",
              "      <td>False</td>\n",
              "      <td>False</td>\n",
              "      <td>False</td>\n",
              "      <td>False</td>\n",
              "      <td>False</td>\n",
              "      <td>False</td>\n",
              "      <td>False</td>\n",
              "      <td>False</td>\n",
              "      <td>False</td>\n",
              "      <td>False</td>\n",
              "      <td>False</td>\n",
              "      <td>False</td>\n",
              "      <td>False</td>\n",
              "      <td>False</td>\n",
              "      <td>False</td>\n",
              "      <td>False</td>\n",
              "      <td>False</td>\n",
              "      <td>False</td>\n",
              "      <td>False</td>\n",
              "      <td>False</td>\n",
              "      <td>False</td>\n",
              "      <td>False</td>\n",
              "      <td>...</td>\n",
              "      <td>False</td>\n",
              "      <td>False</td>\n",
              "      <td>False</td>\n",
              "      <td>False</td>\n",
              "      <td>False</td>\n",
              "      <td>False</td>\n",
              "      <td>False</td>\n",
              "      <td>False</td>\n",
              "      <td>False</td>\n",
              "      <td>False</td>\n",
              "      <td>False</td>\n",
              "      <td>False</td>\n",
              "      <td>False</td>\n",
              "      <td>False</td>\n",
              "      <td>False</td>\n",
              "      <td>False</td>\n",
              "      <td>False</td>\n",
              "      <td>False</td>\n",
              "      <td>False</td>\n",
              "      <td>False</td>\n",
              "      <td>False</td>\n",
              "      <td>False</td>\n",
              "      <td>False</td>\n",
              "      <td>False</td>\n",
              "      <td>False</td>\n",
              "      <td>False</td>\n",
              "      <td>False</td>\n",
              "      <td>False</td>\n",
              "      <td>False</td>\n",
              "      <td>False</td>\n",
              "      <td>False</td>\n",
              "      <td>False</td>\n",
              "      <td>False</td>\n",
              "      <td>False</td>\n",
              "      <td>False</td>\n",
              "      <td>False</td>\n",
              "      <td>False</td>\n",
              "      <td>True</td>\n",
              "      <td>False</td>\n",
              "      <td>False</td>\n",
              "    </tr>\n",
              "    <tr>\n",
              "      <th>9899</th>\n",
              "      <td>4609471378</td>\n",
              "      <td>15000.0</td>\n",
              "      <td>True</td>\n",
              "      <td>1</td>\n",
              "      <td>False</td>\n",
              "      <td>False</td>\n",
              "      <td>False</td>\n",
              "      <td>False</td>\n",
              "      <td>False</td>\n",
              "      <td>False</td>\n",
              "      <td>False</td>\n",
              "      <td>False</td>\n",
              "      <td>False</td>\n",
              "      <td>False</td>\n",
              "      <td>False</td>\n",
              "      <td>False</td>\n",
              "      <td>False</td>\n",
              "      <td>False</td>\n",
              "      <td>False</td>\n",
              "      <td>False</td>\n",
              "      <td>False</td>\n",
              "      <td>False</td>\n",
              "      <td>False</td>\n",
              "      <td>False</td>\n",
              "      <td>False</td>\n",
              "      <td>False</td>\n",
              "      <td>False</td>\n",
              "      <td>False</td>\n",
              "      <td>False</td>\n",
              "      <td>False</td>\n",
              "      <td>False</td>\n",
              "      <td>False</td>\n",
              "      <td>False</td>\n",
              "      <td>False</td>\n",
              "      <td>False</td>\n",
              "      <td>False</td>\n",
              "      <td>False</td>\n",
              "      <td>False</td>\n",
              "      <td>False</td>\n",
              "      <td>False</td>\n",
              "      <td>...</td>\n",
              "      <td>False</td>\n",
              "      <td>False</td>\n",
              "      <td>False</td>\n",
              "      <td>False</td>\n",
              "      <td>False</td>\n",
              "      <td>False</td>\n",
              "      <td>False</td>\n",
              "      <td>False</td>\n",
              "      <td>False</td>\n",
              "      <td>False</td>\n",
              "      <td>False</td>\n",
              "      <td>False</td>\n",
              "      <td>False</td>\n",
              "      <td>False</td>\n",
              "      <td>False</td>\n",
              "      <td>False</td>\n",
              "      <td>False</td>\n",
              "      <td>False</td>\n",
              "      <td>False</td>\n",
              "      <td>False</td>\n",
              "      <td>False</td>\n",
              "      <td>False</td>\n",
              "      <td>False</td>\n",
              "      <td>False</td>\n",
              "      <td>False</td>\n",
              "      <td>False</td>\n",
              "      <td>False</td>\n",
              "      <td>False</td>\n",
              "      <td>False</td>\n",
              "      <td>False</td>\n",
              "      <td>False</td>\n",
              "      <td>False</td>\n",
              "      <td>False</td>\n",
              "      <td>False</td>\n",
              "      <td>False</td>\n",
              "      <td>False</td>\n",
              "      <td>False</td>\n",
              "      <td>True</td>\n",
              "      <td>False</td>\n",
              "      <td>False</td>\n",
              "    </tr>\n",
              "    <tr>\n",
              "      <th>9900</th>\n",
              "      <td>689004</td>\n",
              "      <td>44000.0</td>\n",
              "      <td>False</td>\n",
              "      <td>1</td>\n",
              "      <td>False</td>\n",
              "      <td>False</td>\n",
              "      <td>False</td>\n",
              "      <td>False</td>\n",
              "      <td>False</td>\n",
              "      <td>False</td>\n",
              "      <td>False</td>\n",
              "      <td>False</td>\n",
              "      <td>False</td>\n",
              "      <td>False</td>\n",
              "      <td>False</td>\n",
              "      <td>False</td>\n",
              "      <td>False</td>\n",
              "      <td>False</td>\n",
              "      <td>False</td>\n",
              "      <td>False</td>\n",
              "      <td>False</td>\n",
              "      <td>False</td>\n",
              "      <td>False</td>\n",
              "      <td>False</td>\n",
              "      <td>False</td>\n",
              "      <td>False</td>\n",
              "      <td>False</td>\n",
              "      <td>False</td>\n",
              "      <td>False</td>\n",
              "      <td>False</td>\n",
              "      <td>False</td>\n",
              "      <td>False</td>\n",
              "      <td>False</td>\n",
              "      <td>False</td>\n",
              "      <td>False</td>\n",
              "      <td>False</td>\n",
              "      <td>False</td>\n",
              "      <td>False</td>\n",
              "      <td>False</td>\n",
              "      <td>False</td>\n",
              "      <td>...</td>\n",
              "      <td>False</td>\n",
              "      <td>False</td>\n",
              "      <td>False</td>\n",
              "      <td>False</td>\n",
              "      <td>False</td>\n",
              "      <td>False</td>\n",
              "      <td>False</td>\n",
              "      <td>False</td>\n",
              "      <td>False</td>\n",
              "      <td>False</td>\n",
              "      <td>False</td>\n",
              "      <td>False</td>\n",
              "      <td>False</td>\n",
              "      <td>False</td>\n",
              "      <td>False</td>\n",
              "      <td>False</td>\n",
              "      <td>False</td>\n",
              "      <td>False</td>\n",
              "      <td>False</td>\n",
              "      <td>False</td>\n",
              "      <td>False</td>\n",
              "      <td>False</td>\n",
              "      <td>False</td>\n",
              "      <td>False</td>\n",
              "      <td>False</td>\n",
              "      <td>False</td>\n",
              "      <td>False</td>\n",
              "      <td>False</td>\n",
              "      <td>False</td>\n",
              "      <td>False</td>\n",
              "      <td>False</td>\n",
              "      <td>False</td>\n",
              "      <td>False</td>\n",
              "      <td>False</td>\n",
              "      <td>False</td>\n",
              "      <td>False</td>\n",
              "      <td>False</td>\n",
              "      <td>False</td>\n",
              "      <td>True</td>\n",
              "      <td>False</td>\n",
              "    </tr>\n",
              "    <tr>\n",
              "      <th>9901</th>\n",
              "      <td>767149</td>\n",
              "      <td>15000.0</td>\n",
              "      <td>True</td>\n",
              "      <td>1</td>\n",
              "      <td>False</td>\n",
              "      <td>False</td>\n",
              "      <td>False</td>\n",
              "      <td>False</td>\n",
              "      <td>False</td>\n",
              "      <td>False</td>\n",
              "      <td>False</td>\n",
              "      <td>False</td>\n",
              "      <td>False</td>\n",
              "      <td>False</td>\n",
              "      <td>False</td>\n",
              "      <td>False</td>\n",
              "      <td>False</td>\n",
              "      <td>False</td>\n",
              "      <td>False</td>\n",
              "      <td>False</td>\n",
              "      <td>False</td>\n",
              "      <td>False</td>\n",
              "      <td>False</td>\n",
              "      <td>False</td>\n",
              "      <td>False</td>\n",
              "      <td>False</td>\n",
              "      <td>False</td>\n",
              "      <td>False</td>\n",
              "      <td>False</td>\n",
              "      <td>False</td>\n",
              "      <td>False</td>\n",
              "      <td>False</td>\n",
              "      <td>False</td>\n",
              "      <td>False</td>\n",
              "      <td>False</td>\n",
              "      <td>False</td>\n",
              "      <td>False</td>\n",
              "      <td>False</td>\n",
              "      <td>False</td>\n",
              "      <td>False</td>\n",
              "      <td>...</td>\n",
              "      <td>False</td>\n",
              "      <td>False</td>\n",
              "      <td>False</td>\n",
              "      <td>False</td>\n",
              "      <td>False</td>\n",
              "      <td>False</td>\n",
              "      <td>False</td>\n",
              "      <td>False</td>\n",
              "      <td>False</td>\n",
              "      <td>False</td>\n",
              "      <td>False</td>\n",
              "      <td>False</td>\n",
              "      <td>False</td>\n",
              "      <td>False</td>\n",
              "      <td>False</td>\n",
              "      <td>False</td>\n",
              "      <td>False</td>\n",
              "      <td>False</td>\n",
              "      <td>False</td>\n",
              "      <td>False</td>\n",
              "      <td>False</td>\n",
              "      <td>False</td>\n",
              "      <td>False</td>\n",
              "      <td>False</td>\n",
              "      <td>False</td>\n",
              "      <td>False</td>\n",
              "      <td>False</td>\n",
              "      <td>False</td>\n",
              "      <td>False</td>\n",
              "      <td>False</td>\n",
              "      <td>False</td>\n",
              "      <td>False</td>\n",
              "      <td>False</td>\n",
              "      <td>False</td>\n",
              "      <td>False</td>\n",
              "      <td>False</td>\n",
              "      <td>True</td>\n",
              "      <td>False</td>\n",
              "      <td>False</td>\n",
              "      <td>False</td>\n",
              "    </tr>\n",
              "  </tbody>\n",
              "</table>\n",
              "<p>9902 rows × 8214 columns</p>\n",
              "</div>"
            ],
            "text/plain": [
              "        timestamp  prior_question_elapsed_time  ...  user_answer_2  user_answer_3\n",
              "0      2868613211                      17000.0  ...          False          False\n",
              "1     14686539127                      19000.0  ...          False          False\n",
              "2      1083486476                      11750.0  ...          False           True\n",
              "3     15426935577                       9000.0  ...          False          False\n",
              "4      8841108363                      31500.0  ...           True          False\n",
              "...           ...                          ...  ...            ...            ...\n",
              "9897   1158534297                      20000.0  ...          False          False\n",
              "9898   9269436738                      26000.0  ...          False          False\n",
              "9899   4609471378                      15000.0  ...          False          False\n",
              "9900       689004                      44000.0  ...           True          False\n",
              "9901       767149                      15000.0  ...          False          False\n",
              "\n",
              "[9902 rows x 8214 columns]"
            ]
          },
          "metadata": {
            "tags": []
          },
          "execution_count": 228
        }
      ]
    },
    {
      "cell_type": "markdown",
      "metadata": {
        "id": "82zvyE7SjHM7"
      },
      "source": [
        "We see the row count is unchanged, but now there's many more columns due to how we changed all the categorical data into numerical data."
      ]
    },
    {
      "cell_type": "code",
      "metadata": {
        "colab": {
          "base_uri": "https://localhost:8080/"
        },
        "id": "4vs-zDKSjP9D",
        "outputId": "22945a07-c5f4-4965-d680-455798b074d8"
      },
      "source": [
        "X_t.shape"
      ],
      "execution_count": 229,
      "outputs": [
        {
          "output_type": "execute_result",
          "data": {
            "text/plain": [
              "(9902, 8214)"
            ]
          },
          "metadata": {
            "tags": []
          },
          "execution_count": 229
        }
      ]
    },
    {
      "cell_type": "markdown",
      "metadata": {
        "id": "iVnwtznxdFky"
      },
      "source": [
        "### Standardize the numerical variables.\r\n",
        "\r\n"
      ]
    },
    {
      "cell_type": "code",
      "metadata": {
        "colab": {
          "base_uri": "https://localhost:8080/"
        },
        "id": "8VJAtFxSnoTa",
        "outputId": "3533a6c5-0658-459c-aa78-7970e23a9f8b"
      },
      "source": [
        "# Check for normality on numerical features\r\n",
        "from scipy.stats import kstest\r\n",
        "\r\n",
        "X_num = X.select_dtypes(exclude=['category', 'bool'])\r\n",
        "numerical_columns = X_num.columns\r\n",
        "\r\n",
        "for feature in X_num.columns:\r\n",
        "  statistic, p = kstest(X_num[feature], 'norm')\r\n",
        "  print(f\"\\n{feature}:\\nStatistic: {statistic:0.5f}, p_value: {p:0.5f}\")\r\n",
        "  print('Probably gaussian.') if p>0.05 else print('Probably not gaussian.') "
      ],
      "execution_count": 230,
      "outputs": [
        {
          "output_type": "stream",
          "text": [
            "\n",
            "timestamp:\n",
            "Statistic: 1.00000, p_value: 0.00000\n",
            "Probably not gaussian.\n",
            "\n",
            "prior_question_elapsed_time:\n",
            "Statistic: 0.99828, p_value: 0.00000\n",
            "Probably not gaussian.\n",
            "\n",
            "user_id_event_count:\n",
            "Statistic: 0.84134, p_value: 0.00000\n",
            "Probably not gaussian.\n"
          ],
          "name": "stdout"
        }
      ]
    },
    {
      "cell_type": "markdown",
      "metadata": {
        "id": "J7TDsvTXpteF"
      },
      "source": [
        "We see that none of the numerical features are normally distributed. Let's standardize them using the StandardScaler."
      ]
    },
    {
      "cell_type": "code",
      "metadata": {
        "colab": {
          "base_uri": "https://localhost:8080/"
        },
        "id": "PAHG2XgRxtCJ",
        "outputId": "ac934993-88c1-4665-a384-a3008c66efef"
      },
      "source": [
        "from sklearn.preprocessing import StandardScaler\r\n",
        " \r\n",
        "# Instantiate scaler object\r\n",
        "scaler = StandardScaler()\r\n",
        "\r\n",
        "# Fit: Compute the mean and std to be used for later scaling.\r\n",
        "# And tranform\r\n",
        "X_new = scaler.fit_transform(X_num)\r\n",
        "X_new"
      ],
      "execution_count": 231,
      "outputs": [
        {
          "output_type": "execute_result",
          "data": {
            "text/plain": [
              "array([[-0.41411096, -0.42315151, -0.11578869],\n",
              "       [ 0.61734447, -0.32505444, -0.11578869],\n",
              "       [-0.56991483, -0.68065633, -0.11578869],\n",
              "       ...,\n",
              "       [-0.26217079, -0.52124859, -0.11578869],\n",
              "       [-0.66442019,  0.90115899, -0.11578869],\n",
              "       [-0.66441337, -0.52124859, -0.11578869]])"
            ]
          },
          "metadata": {
            "tags": []
          },
          "execution_count": 231
        }
      ]
    },
    {
      "cell_type": "code",
      "metadata": {
        "colab": {
          "base_uri": "https://localhost:8080/"
        },
        "id": "kgch836ozoIS",
        "outputId": "73f8f7f9-f2ff-446c-a18e-854957034498"
      },
      "source": [
        "# Check the old vs new mean\r\n",
        "np.mean(X_num, axis=0), np.mean(X_new, axis=0)"
      ],
      "execution_count": 232,
      "outputs": [
        {
          "output_type": "execute_result",
          "data": {
            "text/plain": [
              "(timestamp                      7.613300e+09\n",
              " prior_question_elapsed_time    2.562720e+04\n",
              " user_id_event_count            1.013230e+00\n",
              " dtype: float64, array([ 2.47563365e-17,  8.53914215e-17, -4.23369233e-17]))"
            ]
          },
          "metadata": {
            "tags": []
          },
          "execution_count": 232
        }
      ]
    },
    {
      "cell_type": "code",
      "metadata": {
        "colab": {
          "base_uri": "https://localhost:8080/"
        },
        "id": "zJGN2tKm0-gn",
        "outputId": "c6072ef2-53be-4f78-c111-a25429194768"
      },
      "source": [
        "# Check the old vs new standard deviation\r\n",
        "np.std(X_num, axis=0), np.std(X_new, axis=0)"
      ],
      "execution_count": 233,
      "outputs": [
        {
          "output_type": "execute_result",
          "data": {
            "text/plain": [
              "(timestamp                      1.145752e+10\n",
              " prior_question_elapsed_time    2.038797e+04\n",
              " user_id_event_count            1.142568e-01\n",
              " dtype: float64, array([1., 1., 1.]))"
            ]
          },
          "metadata": {
            "tags": []
          },
          "execution_count": 233
        }
      ]
    },
    {
      "cell_type": "markdown",
      "metadata": {
        "id": "THqxbTeV1F9S"
      },
      "source": [
        "As expected, the X_new means are zero, and the standard deviations are 1."
      ]
    },
    {
      "cell_type": "markdown",
      "metadata": {
        "id": "UYbtSoHXCQWs"
      },
      "source": [
        "### Combine the transformed features into one transformed dataframe."
      ]
    },
    {
      "cell_type": "code",
      "metadata": {
        "colab": {
          "base_uri": "https://localhost:8080/"
        },
        "id": "0e4FsTyi1OF4",
        "outputId": "749db577-100c-49c8-e550-bbbb9cd1b99c"
      },
      "source": [
        "#Make sure the shapes are compatible\r\n",
        "X_t.shape, X_new.shape\r\n"
      ],
      "execution_count": 234,
      "outputs": [
        {
          "output_type": "execute_result",
          "data": {
            "text/plain": [
              "((9902, 8214), (9902, 3))"
            ]
          },
          "metadata": {
            "tags": []
          },
          "execution_count": 234
        }
      ]
    },
    {
      "cell_type": "code",
      "metadata": {
        "colab": {
          "base_uri": "https://localhost:8080/"
        },
        "id": "gFxBzulfNcw8",
        "outputId": "0e67f686-891d-4c5b-ede4-634de95ba041"
      },
      "source": [
        "# Check index on X_t\r\n",
        "X_t.index"
      ],
      "execution_count": 235,
      "outputs": [
        {
          "output_type": "execute_result",
          "data": {
            "text/plain": [
              "RangeIndex(start=0, stop=9902, step=1)"
            ]
          },
          "metadata": {
            "tags": []
          },
          "execution_count": 235
        }
      ]
    },
    {
      "cell_type": "code",
      "metadata": {
        "colab": {
          "base_uri": "https://localhost:8080/",
          "height": 419
        },
        "id": "2SI7UIHn1Vrf",
        "outputId": "3cac47c9-dbf8-4712-e15a-55dbba2b52d2"
      },
      "source": [
        "# Make a dataframe for X_new\r\n",
        "X_new_df = pd.DataFrame(X_new, columns=numerical_columns)\r\n",
        "X_new_df"
      ],
      "execution_count": 236,
      "outputs": [
        {
          "output_type": "execute_result",
          "data": {
            "text/html": [
              "<div>\n",
              "<style scoped>\n",
              "    .dataframe tbody tr th:only-of-type {\n",
              "        vertical-align: middle;\n",
              "    }\n",
              "\n",
              "    .dataframe tbody tr th {\n",
              "        vertical-align: top;\n",
              "    }\n",
              "\n",
              "    .dataframe thead th {\n",
              "        text-align: right;\n",
              "    }\n",
              "</style>\n",
              "<table border=\"1\" class=\"dataframe\">\n",
              "  <thead>\n",
              "    <tr style=\"text-align: right;\">\n",
              "      <th></th>\n",
              "      <th>timestamp</th>\n",
              "      <th>prior_question_elapsed_time</th>\n",
              "      <th>user_id_event_count</th>\n",
              "    </tr>\n",
              "  </thead>\n",
              "  <tbody>\n",
              "    <tr>\n",
              "      <th>0</th>\n",
              "      <td>-0.414111</td>\n",
              "      <td>-0.423152</td>\n",
              "      <td>-0.115789</td>\n",
              "    </tr>\n",
              "    <tr>\n",
              "      <th>1</th>\n",
              "      <td>0.617344</td>\n",
              "      <td>-0.325054</td>\n",
              "      <td>-0.115789</td>\n",
              "    </tr>\n",
              "    <tr>\n",
              "      <th>2</th>\n",
              "      <td>-0.569915</td>\n",
              "      <td>-0.680656</td>\n",
              "      <td>-0.115789</td>\n",
              "    </tr>\n",
              "    <tr>\n",
              "      <th>3</th>\n",
              "      <td>0.681965</td>\n",
              "      <td>-0.815540</td>\n",
              "      <td>-0.115789</td>\n",
              "    </tr>\n",
              "    <tr>\n",
              "      <th>4</th>\n",
              "      <td>0.107162</td>\n",
              "      <td>0.288052</td>\n",
              "      <td>-0.115789</td>\n",
              "    </tr>\n",
              "    <tr>\n",
              "      <th>...</th>\n",
              "      <td>...</td>\n",
              "      <td>...</td>\n",
              "      <td>...</td>\n",
              "    </tr>\n",
              "    <tr>\n",
              "      <th>9897</th>\n",
              "      <td>-0.563365</td>\n",
              "      <td>-0.276006</td>\n",
              "      <td>-0.115789</td>\n",
              "    </tr>\n",
              "    <tr>\n",
              "      <th>9898</th>\n",
              "      <td>0.144546</td>\n",
              "      <td>0.018285</td>\n",
              "      <td>-0.115789</td>\n",
              "    </tr>\n",
              "    <tr>\n",
              "      <th>9899</th>\n",
              "      <td>-0.262171</td>\n",
              "      <td>-0.521249</td>\n",
              "      <td>-0.115789</td>\n",
              "    </tr>\n",
              "    <tr>\n",
              "      <th>9900</th>\n",
              "      <td>-0.664420</td>\n",
              "      <td>0.901159</td>\n",
              "      <td>-0.115789</td>\n",
              "    </tr>\n",
              "    <tr>\n",
              "      <th>9901</th>\n",
              "      <td>-0.664413</td>\n",
              "      <td>-0.521249</td>\n",
              "      <td>-0.115789</td>\n",
              "    </tr>\n",
              "  </tbody>\n",
              "</table>\n",
              "<p>9902 rows × 3 columns</p>\n",
              "</div>"
            ],
            "text/plain": [
              "      timestamp  prior_question_elapsed_time  user_id_event_count\n",
              "0     -0.414111                    -0.423152            -0.115789\n",
              "1      0.617344                    -0.325054            -0.115789\n",
              "2     -0.569915                    -0.680656            -0.115789\n",
              "3      0.681965                    -0.815540            -0.115789\n",
              "4      0.107162                     0.288052            -0.115789\n",
              "...         ...                          ...                  ...\n",
              "9897  -0.563365                    -0.276006            -0.115789\n",
              "9898   0.144546                     0.018285            -0.115789\n",
              "9899  -0.262171                    -0.521249            -0.115789\n",
              "9900  -0.664420                     0.901159            -0.115789\n",
              "9901  -0.664413                    -0.521249            -0.115789\n",
              "\n",
              "[9902 rows x 3 columns]"
            ]
          },
          "metadata": {
            "tags": []
          },
          "execution_count": 236
        }
      ]
    },
    {
      "cell_type": "code",
      "metadata": {
        "colab": {
          "base_uri": "https://localhost:8080/"
        },
        "id": "eJBB8qGKI48Y",
        "outputId": "75a3e5b4-ecbf-4acc-cb16-b506292e34f5"
      },
      "source": [
        "X_new_df.isna().sum()"
      ],
      "execution_count": 237,
      "outputs": [
        {
          "output_type": "execute_result",
          "data": {
            "text/plain": [
              "timestamp                      0\n",
              "prior_question_elapsed_time    0\n",
              "user_id_event_count            0\n",
              "dtype: int64"
            ]
          },
          "metadata": {
            "tags": []
          },
          "execution_count": 237
        }
      ]
    },
    {
      "cell_type": "code",
      "metadata": {
        "colab": {
          "base_uri": "https://localhost:8080/"
        },
        "id": "vCdrkEViI_CF",
        "outputId": "37efb453-707d-45fa-8fd8-1c352728017c"
      },
      "source": [
        "X_new_df.dtypes"
      ],
      "execution_count": 238,
      "outputs": [
        {
          "output_type": "execute_result",
          "data": {
            "text/plain": [
              "timestamp                      float64\n",
              "prior_question_elapsed_time    float64\n",
              "user_id_event_count            float64\n",
              "dtype: object"
            ]
          },
          "metadata": {
            "tags": []
          },
          "execution_count": 238
        }
      ]
    },
    {
      "cell_type": "code",
      "metadata": {
        "colab": {
          "base_uri": "https://localhost:8080/"
        },
        "id": "X5MPm386JCqH",
        "outputId": "8cb16560-183a-4133-df87-277bf05d4323"
      },
      "source": [
        "X_t[numerical_columns].dtypes"
      ],
      "execution_count": 239,
      "outputs": [
        {
          "output_type": "execute_result",
          "data": {
            "text/plain": [
              "timestamp                        int64\n",
              "prior_question_elapsed_time    float64\n",
              "user_id_event_count              int64\n",
              "dtype: object"
            ]
          },
          "metadata": {
            "tags": []
          },
          "execution_count": 239
        }
      ]
    },
    {
      "cell_type": "code",
      "metadata": {
        "colab": {
          "base_uri": "https://localhost:8080/"
        },
        "id": "qHvlDDX9CGr8",
        "outputId": "0f3d72f5-1c34-4cf8-a19f-d184e8453b1d"
      },
      "source": [
        "# Select all numerical columns from X_new\r\n",
        "\r\n",
        "numerical_columns = X_new_df.select_dtypes(include=['int64', 'float64']).columns\r\n",
        "numerical_columns"
      ],
      "execution_count": 240,
      "outputs": [
        {
          "output_type": "execute_result",
          "data": {
            "text/plain": [
              "Index(['timestamp', 'prior_question_elapsed_time', 'user_id_event_count'], dtype='object')"
            ]
          },
          "metadata": {
            "tags": []
          },
          "execution_count": 240
        }
      ]
    },
    {
      "cell_type": "code",
      "metadata": {
        "colab": {
          "base_uri": "https://localhost:8080/",
          "height": 419
        },
        "id": "EM-cOKMiMYAy",
        "outputId": "4e6c9b35-004d-4510-f944-415e9f5cd0ff"
      },
      "source": [
        "# Add transformed numerical columns\r\n",
        "for num_feature in numerical_columns:\r\n",
        "  X_t[num_feature] = X_new_df[num_feature]\r\n",
        "X_t[numerical_columns]"
      ],
      "execution_count": 241,
      "outputs": [
        {
          "output_type": "execute_result",
          "data": {
            "text/html": [
              "<div>\n",
              "<style scoped>\n",
              "    .dataframe tbody tr th:only-of-type {\n",
              "        vertical-align: middle;\n",
              "    }\n",
              "\n",
              "    .dataframe tbody tr th {\n",
              "        vertical-align: top;\n",
              "    }\n",
              "\n",
              "    .dataframe thead th {\n",
              "        text-align: right;\n",
              "    }\n",
              "</style>\n",
              "<table border=\"1\" class=\"dataframe\">\n",
              "  <thead>\n",
              "    <tr style=\"text-align: right;\">\n",
              "      <th></th>\n",
              "      <th>timestamp</th>\n",
              "      <th>prior_question_elapsed_time</th>\n",
              "      <th>user_id_event_count</th>\n",
              "    </tr>\n",
              "  </thead>\n",
              "  <tbody>\n",
              "    <tr>\n",
              "      <th>0</th>\n",
              "      <td>-0.414111</td>\n",
              "      <td>-0.423152</td>\n",
              "      <td>-0.115789</td>\n",
              "    </tr>\n",
              "    <tr>\n",
              "      <th>1</th>\n",
              "      <td>0.617344</td>\n",
              "      <td>-0.325054</td>\n",
              "      <td>-0.115789</td>\n",
              "    </tr>\n",
              "    <tr>\n",
              "      <th>2</th>\n",
              "      <td>-0.569915</td>\n",
              "      <td>-0.680656</td>\n",
              "      <td>-0.115789</td>\n",
              "    </tr>\n",
              "    <tr>\n",
              "      <th>3</th>\n",
              "      <td>0.681965</td>\n",
              "      <td>-0.815540</td>\n",
              "      <td>-0.115789</td>\n",
              "    </tr>\n",
              "    <tr>\n",
              "      <th>4</th>\n",
              "      <td>0.107162</td>\n",
              "      <td>0.288052</td>\n",
              "      <td>-0.115789</td>\n",
              "    </tr>\n",
              "    <tr>\n",
              "      <th>...</th>\n",
              "      <td>...</td>\n",
              "      <td>...</td>\n",
              "      <td>...</td>\n",
              "    </tr>\n",
              "    <tr>\n",
              "      <th>9897</th>\n",
              "      <td>-0.563365</td>\n",
              "      <td>-0.276006</td>\n",
              "      <td>-0.115789</td>\n",
              "    </tr>\n",
              "    <tr>\n",
              "      <th>9898</th>\n",
              "      <td>0.144546</td>\n",
              "      <td>0.018285</td>\n",
              "      <td>-0.115789</td>\n",
              "    </tr>\n",
              "    <tr>\n",
              "      <th>9899</th>\n",
              "      <td>-0.262171</td>\n",
              "      <td>-0.521249</td>\n",
              "      <td>-0.115789</td>\n",
              "    </tr>\n",
              "    <tr>\n",
              "      <th>9900</th>\n",
              "      <td>-0.664420</td>\n",
              "      <td>0.901159</td>\n",
              "      <td>-0.115789</td>\n",
              "    </tr>\n",
              "    <tr>\n",
              "      <th>9901</th>\n",
              "      <td>-0.664413</td>\n",
              "      <td>-0.521249</td>\n",
              "      <td>-0.115789</td>\n",
              "    </tr>\n",
              "  </tbody>\n",
              "</table>\n",
              "<p>9902 rows × 3 columns</p>\n",
              "</div>"
            ],
            "text/plain": [
              "      timestamp  prior_question_elapsed_time  user_id_event_count\n",
              "0     -0.414111                    -0.423152            -0.115789\n",
              "1      0.617344                    -0.325054            -0.115789\n",
              "2     -0.569915                    -0.680656            -0.115789\n",
              "3      0.681965                    -0.815540            -0.115789\n",
              "4      0.107162                     0.288052            -0.115789\n",
              "...         ...                          ...                  ...\n",
              "9897  -0.563365                    -0.276006            -0.115789\n",
              "9898   0.144546                     0.018285            -0.115789\n",
              "9899  -0.262171                    -0.521249            -0.115789\n",
              "9900  -0.664420                     0.901159            -0.115789\n",
              "9901  -0.664413                    -0.521249            -0.115789\n",
              "\n",
              "[9902 rows x 3 columns]"
            ]
          },
          "metadata": {
            "tags": []
          },
          "execution_count": 241
        }
      ]
    },
    {
      "cell_type": "code",
      "metadata": {
        "colab": {
          "base_uri": "https://localhost:8080/"
        },
        "id": "vzlndriMG4Fb",
        "outputId": "5bc0f1d6-982f-492c-b71b-4412c849fe0c"
      },
      "source": [
        "X_t.dtypes"
      ],
      "execution_count": 242,
      "outputs": [
        {
          "output_type": "execute_result",
          "data": {
            "text/plain": [
              "timestamp                         float64\n",
              "prior_question_elapsed_time       float64\n",
              "prior_question_had_explanation       bool\n",
              "user_id_event_count               float64\n",
              "content_id_1                         bool\n",
              "                                   ...   \n",
              "task_container_id_9975               bool\n",
              "user_answer_0                        bool\n",
              "user_answer_1                        bool\n",
              "user_answer_2                        bool\n",
              "user_answer_3                        bool\n",
              "Length: 8214, dtype: object"
            ]
          },
          "metadata": {
            "tags": []
          },
          "execution_count": 242
        }
      ]
    },
    {
      "cell_type": "code",
      "metadata": {
        "colab": {
          "base_uri": "https://localhost:8080/"
        },
        "id": "0owOGkj5TWjw",
        "outputId": "c72f0133-5ce4-479a-e6a8-617cb6a100cc"
      },
      "source": [
        "X_t.shape"
      ],
      "execution_count": 243,
      "outputs": [
        {
          "output_type": "execute_result",
          "data": {
            "text/plain": [
              "(9902, 8214)"
            ]
          },
          "metadata": {
            "tags": []
          },
          "execution_count": 243
        }
      ]
    },
    {
      "cell_type": "markdown",
      "metadata": {
        "id": "8nJacAMHWgKD"
      },
      "source": [
        "## Make Train Test Splits"
      ]
    },
    {
      "cell_type": "code",
      "metadata": {
        "colab": {
          "base_uri": "https://localhost:8080/"
        },
        "id": "xWkgt-MKuVJ1",
        "outputId": "28510187-6d4c-4e9f-a36b-46adbc7cf119"
      },
      "source": [
        "# define target variable, y, and independant variables, X\r\n",
        "\r\n",
        "X = X_t\r\n",
        "y = encoded_df_no_na['answered_correctly']\r\n",
        "\r\n",
        "X.shape, y.shape\r\n"
      ],
      "execution_count": 244,
      "outputs": [
        {
          "output_type": "execute_result",
          "data": {
            "text/plain": [
              "((9902, 8214), (9902,))"
            ]
          },
          "metadata": {
            "tags": []
          },
          "execution_count": 244
        }
      ]
    },
    {
      "cell_type": "code",
      "metadata": {
        "colab": {
          "base_uri": "https://localhost:8080/"
        },
        "id": "qTERHwb4ua4u",
        "outputId": "83b9832d-579a-4bf4-d93b-903f4c02cd48"
      },
      "source": [
        "# Make Train Test Splits\r\n",
        "\r\n",
        "from sklearn.model_selection import train_test_split\r\n",
        "\r\n",
        "X_train, X_test, y_train, y_test = train_test_split(X, y, test_size=0.20, random_state=42)\r\n",
        "\r\n",
        "X_train.shape, X_test.shape, y_train.shape, y_test.shape"
      ],
      "execution_count": 245,
      "outputs": [
        {
          "output_type": "execute_result",
          "data": {
            "text/plain": [
              "((7921, 8214), (1981, 8214), (7921,), (1981,))"
            ]
          },
          "metadata": {
            "tags": []
          },
          "execution_count": 245
        }
      ]
    },
    {
      "cell_type": "markdown",
      "metadata": {
        "id": "9cov9xckWvrE"
      },
      "source": [
        "# Baseline Modelling"
      ]
    },
    {
      "cell_type": "markdown",
      "metadata": {
        "id": "zdpSYERsW5K4"
      },
      "source": [
        "## Logistic Regression"
      ]
    },
    {
      "cell_type": "code",
      "metadata": {
        "colab": {
          "base_uri": "https://localhost:8080/",
          "height": 485
        },
        "id": "GG09NA0aw2uX",
        "outputId": "0e1e6bc7-6a4e-4ecd-9312-e30334647eef"
      },
      "source": [
        "from sklearn.linear_model import LogisticRegression\r\n",
        "from sklearn.metrics import roc_auc_score\r\n",
        "from sklearn.metrics import plot_confusion_matrix\r\n",
        "\r\n",
        "# Instantiate classifier object\r\n",
        "log_reg = LogisticRegression()\r\n",
        "\r\n",
        "# Fit classifier\r\n",
        "log_reg.fit(X_train, y_train)\r\n",
        "\r\n",
        "# Make predictions on the train and test sets\r\n",
        "y_train_preds = log_reg.predict_proba(X_train)[:,1]\r\n",
        "y_test_preds = log_reg.predict_proba(X_test)[:,1]\r\n",
        "\r\n",
        "#Score the predictions\r\n",
        "log_reg_train_roc_score = roc_auc_score(y_train, y_train_preds)\r\n",
        "log_reg_test_roc_score = roc_auc_score(y_test, y_test_preds)\r\n",
        "\r\n",
        "print(f\"Training roc_auc_score: {log_reg_train_roc_score:0.5f}\")\r\n",
        "print(f\"Testing roc_auc_score: {log_reg_test_roc_score:0.5f}\")\r\n",
        "\r\n",
        "# Plot normalized confusion matrix\r\n",
        "disp = plot_confusion_matrix(log_reg, X_test, y_test,\r\n",
        "                              cmap=plt.cm.Blues,\r\n",
        "                             normalize='true')\r\n",
        "disp.ax_.set_title(\"Normalized confusion matrix\")\r\n",
        "plt.show()"
      ],
      "execution_count": 246,
      "outputs": [
        {
          "output_type": "stream",
          "text": [
            "/usr/local/lib/python3.6/dist-packages/sklearn/linear_model/_logistic.py:940: ConvergenceWarning: lbfgs failed to converge (status=1):\n",
            "STOP: TOTAL NO. of ITERATIONS REACHED LIMIT.\n",
            "\n",
            "Increase the number of iterations (max_iter) or scale the data as shown in:\n",
            "    https://scikit-learn.org/stable/modules/preprocessing.html\n",
            "Please also refer to the documentation for alternative solver options:\n",
            "    https://scikit-learn.org/stable/modules/linear_model.html#logistic-regression\n",
            "  extra_warning_msg=_LOGISTIC_SOLVER_CONVERGENCE_MSG)\n"
          ],
          "name": "stderr"
        },
        {
          "output_type": "stream",
          "text": [
            "Training roc_auc_score: 0.95133\n",
            "Testing roc_auc_score: 0.56963\n"
          ],
          "name": "stdout"
        },
        {
          "output_type": "display_data",
          "data": {
            "image/png": "[encoded data removed]",
            "text/plain": [
              "<Figure size 432x288 with 2 Axes>"
            ]
          },
          "metadata": {
            "tags": [],
            "needs_background": "light"
          }
        }
      ]
    },
    {
      "cell_type": "markdown",
      "metadata": {
        "id": "ojZgrjEWwZhh"
      },
      "source": [
        "That's a pretty bad score for a baseline model. It's good in training, and terrible in test.\r\n"
      ]
    },
    {
      "cell_type": "markdown",
      "metadata": {
        "id": "OS8hpea7r0E3"
      },
      "source": [
        "## LightGBM"
      ]
    },
    {
      "cell_type": "code",
      "metadata": {
        "colab": {
          "base_uri": "https://localhost:8080/",
          "height": 329
        },
        "id": "moZP0iP-rmLb",
        "outputId": "5f40a466-064d-4222-ec53-d88bc6acdced"
      },
      "source": [
        "from lightgbm import LGBMClassifier\r\n",
        "\r\n",
        "# Instantiate the classifier object\r\n",
        "lgbm = LGBMClassifier(\r\n",
        "    num_leaves=31, \r\n",
        "    max_depth= 2, \r\n",
        "    n_estimators = 25, \r\n",
        "    min_child_samples = 1000, \r\n",
        "    subsample=0.7, \r\n",
        "    subsample_freq=5,\r\n",
        "    n_jobs= -1,\r\n",
        "    is_higher_better = True,\r\n",
        "    first_metric_only = True\r\n",
        ")\r\n",
        "\r\n",
        "# Fit the classifier object to the train data\r\n",
        "lgbm.fit(X_train, y_train)\r\n",
        "\r\n",
        "# Make predictions on the train and test sets\r\n",
        "y_train_preds = lgbm.predict_proba(X_train)[:,1]\r\n",
        "y_test_preds = lgbm.predict_proba(X_test)[:,1]\r\n",
        "\r\n",
        "#Score the predictions\r\n",
        "lgbm_train_roc_score = roc_auc_score(y_train, y_train_preds)\r\n",
        "lgbm_test_roc_score = roc_auc_score(y_test, y_test_preds)\r\n",
        "\r\n",
        "print(f\"Training roc_auc_score: {lgbm_train_roc_score:0.5f}\")\r\n",
        "print(f\"Testing roc_auc_score: {lgbm_test_roc_score:0.5f}\")\r\n",
        "\r\n",
        "# Plot normalized confusion matrix\r\n",
        "disp = plot_confusion_matrix(lgbm, X_test, y_test,\r\n",
        "                              cmap=plt.cm.Blues,\r\n",
        "                             normalize='true')\r\n",
        "disp.ax_.set_title(\"Normalized confusion matrix\")\r\n",
        "plt.show()"
      ],
      "execution_count": 248,
      "outputs": [
        {
          "output_type": "stream",
          "text": [
            "Training roc_auc_score: 0.56285\n",
            "Testing roc_auc_score: 0.52845\n"
          ],
          "name": "stdout"
        },
        {
          "output_type": "display_data",
          "data": {
            "image/png": "[encoded data removed]",
            "text/plain": [
              "<Figure size 432x288 with 2 Axes>"
            ]
          },
          "metadata": {
            "tags": [],
            "needs_background": "light"
          }
        }
      ]
    },
    {
      "cell_type": "markdown",
      "metadata": {
        "id": "h0TkCz8jxWUd"
      },
      "source": [
        "We see that the LGBM baseline is better than the logistic regression model baseline."
      ]
    },
    {
      "cell_type": "markdown",
      "metadata": {
        "id": "Rs6mi0uzxV3T"
      },
      "source": [
        "## K-Nearest-Neighbors Classifier"
      ]
    },
    {
      "cell_type": "code",
      "metadata": {
        "colab": {
          "base_uri": "https://localhost:8080/",
          "height": 329
        },
        "id": "gzjy9veRtWiT",
        "outputId": "236eaea1-7c79-4bc4-cb97-9ccdc3e4dd73"
      },
      "source": [
        "from sklearn.neighbors import KNeighborsClassifier\r\n",
        "\r\n",
        "# Instantiate the classifier object\r\n",
        "knn = KNeighborsClassifier(n_neighbors=3)\r\n",
        "\r\n",
        "# Fit the classifier object to the train data\r\n",
        "knn.fit(X_train, y_train)\r\n",
        "\r\n",
        "# Make predictions on the train and test sets\r\n",
        "y_train_preds = knn.predict_proba(X_train)[:,1]\r\n",
        "y_test_preds = knn.predict_proba(X_test)[:,1]\r\n",
        "\r\n",
        "#Score the predictions\r\n",
        "knn_train_roc_score = roc_auc_score(y_train, y_train_preds)\r\n",
        "knn_test_roc_score = roc_auc_score(y_test, y_test_preds)\r\n",
        "\r\n",
        "print(f\"Training roc_auc_score: {knn_train_roc_score:0.5f}\")\r\n",
        "print(f\"Testing roc_auc_score: {knn_test_roc_score:0.5f}\")\r\n",
        "\r\n",
        "# Plot normalized confusion matrix\r\n",
        "disp = plot_confusion_matrix(knn, X_test, y_test,\r\n",
        "                              cmap=plt.cm.Blues,\r\n",
        "                             normalize='true')\r\n",
        "disp.ax_.set_title(\"Normalized confusion matrix\")\r\n",
        "plt.show()"
      ],
      "execution_count": 249,
      "outputs": [
        {
          "output_type": "stream",
          "text": [
            "Training roc_auc_score: 0.89008\n",
            "Testing roc_auc_score: 0.63538\n"
          ],
          "name": "stdout"
        },
        {
          "output_type": "display_data",
          "data": {
            "image/png": "[encoded data removed]",
            "text/plain": [
              "<Figure size 432x288 with 2 Axes>"
            ]
          },
          "metadata": {
            "tags": [],
            "needs_background": "light"
          }
        }
      ]
    },
    {
      "cell_type": "markdown",
      "metadata": {
        "id": "pzmnXXP02g0C"
      },
      "source": [
        "## Section Summary\r\n",
        "\r\n",
        "We tested three baseline models: Logistic Regression, LightGBM, and K-Nearest Neighbors. Each model is from a different class of models and they each have their trade-offs and assumptions.\r\n",
        "\r\n",
        "Logistic Regression performed well intraining and poorly in testing.\r\n",
        "\r\n",
        "K-Nearest-Neighbors performed great in training but worst of all three models on the test data. This is evidence that the model baseline tuning is over-fitting on noise in the training data.\r\n",
        "\r\n",
        "LightGBM performed the worst with the baseline hyperparameters. It assigned the target variable the same value for all inputs. It did not learn anything from training. I'll have to adjust the code on this model.\r\n",
        "\r\n"
      ]
    },
    {
      "cell_type": "markdown",
      "metadata": {
        "id": "Svf2TjYWytsC"
      },
      "source": [
        "We see that the baseline K-Nearest-Neighbors Classifier did quite well on the training set, but very poorly on the test set. KNN takes the longest to run. I'll have to adjust the hyper parameters or do some feature engineering to reduce the number of columns. Also, as the KNN took about 20 times longer to run than the other models, it makes sense that it's mch better.\r\n"
      ]
    },
    {
      "cell_type": "code",
      "metadata": {
        "colab": {
          "base_uri": "https://localhost:8080/"
        },
        "id": "Oy42t3Avb2w_",
        "outputId": "59d5df2f-5303-4656-d089-16ea1d4b6a7c"
      },
      "source": [
        "#Training and test roc_scores\r\n",
        "print(f\"log_reg_train_roc_score: {log_reg_train_roc_score:0.5f}\")\r\n",
        "print(f\"log_reg_test_roc_score: {log_reg_test_roc_score:0.5f}\")\r\n",
        "\r\n",
        "print(f\"lgbm_train_roc_score: {lgbm_train_roc_score:0.5f}\")\r\n",
        "print(f\"lgbm_test_roc_score: {lgbm_test_roc_score:0.5f}\")\r\n",
        "\r\n",
        "print(f\"knn_train_roc_score: {knn_train_roc_score:0.5f}\")\r\n",
        "print(f\"knn_test_roc_score: {knn_test_roc_score:0.5f}\")"
      ],
      "execution_count": 251,
      "outputs": [
        {
          "output_type": "stream",
          "text": [
            "log_reg_train_roc_score: 0.95133\n",
            "log_reg_test_roc_score: 0.56963\n",
            "lgbm_train_roc_score: 0.56285\n",
            "lgbm_test_roc_score: 0.52845\n",
            "knn_train_roc_score: 0.89008\n",
            "knn_test_roc_score: 0.63538\n"
          ],
          "name": "stdout"
        }
      ]
    },
    {
      "cell_type": "code",
      "metadata": {
        "id": "nn2b9cx8cCwf"
      },
      "source": [
        ""
      ],
      "execution_count": null,
      "outputs": []
    }
  ]
}