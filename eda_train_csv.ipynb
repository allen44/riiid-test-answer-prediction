{
  "nbformat": 4,
  "nbformat_minor": 0,
  "metadata": {
    "colab": {
      "name": "eda train_csv.ipynb",
      "provenance": [],
      "collapsed_sections": [],
      "toc_visible": true,
      "machine_shape": "hm",
      "mount_file_id": "13dcDkM-_T9a69Mjl5dngUVlCGvbD4wvi",
      "authorship_tag": "ABX9TyPTNRkgF872Gmc46tiB72gB",
      "include_colab_link": true
    },
    "kernelspec": {
      "name": "python3",
      "display_name": "Python 3"
    }
  },
  "cells": [
    {
      "cell_type": "markdown",
      "metadata": {
        "id": "view-in-github",
        "colab_type": "text"
      },
      "source": [
        "<a href=\"https://colab.research.google.com/github/allen44/riiid-test-answer-prediction/blob/main/eda_train_csv.ipynb\" target=\"_parent\"><img src=\"https://colab.research.google.com/assets/colab-badge.svg\" alt=\"Open In Colab\"/></a>"
      ]
    },
    {
      "cell_type": "code",
      "metadata": {
        "id": "pg55P_SLa0qc",
        "colab": {
          "base_uri": "https://localhost:8080/"
        },
        "outputId": "19109ab1-e3e7-440a-f0d0-323bd29e2c01"
      },
      "source": [
        "import pandas as pd\n",
        "import numpy as np\n",
        "import matplotlib.pyplot as plt\n",
        "import pickle\n",
        "from pathlib import Path\n",
        "\n",
        "%cd /content/drive/MyDrive/Colab Notebooks/riiid-test-answer-prediction/\n",
        "%pwd\n",
        "\n",
        "pwd = Path.cwd()\n",
        "train_csv_path = Path('/content/drive/MyDrive/Colab Notebooks/riiid-test-answer-prediction/data/train.csv')\n",
        "train_pkl_path = Path('/content/drive/MyDrive/Colab Notebooks/riiid-test-answer-prediction/data/train.pkl.gzip')\n",
        "\n",
        "def ms_to_days(array_like):\n",
        "  return np.divide(array_like, 86400000)"
      ],
      "execution_count": 1,
      "outputs": [
        {
          "output_type": "stream",
          "text": [
            "/content/drive/MyDrive/Colab Notebooks/riiid-test-answer-prediction\n"
          ],
          "name": "stdout"
        }
      ]
    },
    {
      "cell_type": "markdown",
      "metadata": {
        "id": "2jHUz3V8-zm7"
      },
      "source": [
        "#Import the data"
      ]
    },
    {
      "cell_type": "code",
      "metadata": {
        "id": "Ab6dq5DybA-C",
        "colab": {
          "base_uri": "https://localhost:8080/"
        },
        "outputId": "3c3b3981-b5f2-41df-8719-6d09ac65a786"
      },
      "source": [
        "#Load a DataFrame of train.csv from pikl for better performance on import \n",
        "%%time\n",
        "with open( train_pkl_path, 'rb') as f:\n",
        "  df = pickle.load(f)\n",
        "\n",
        "\n"
      ],
      "execution_count": 2,
      "outputs": [
        {
          "output_type": "stream",
          "text": [
            "CPU times: user 7.87 s, sys: 21.3 s, total: 29.2 s\n",
            "Wall time: 1min 50s\n"
          ],
          "name": "stdout"
        }
      ]
    },
    {
      "cell_type": "code",
      "metadata": {
        "id": "1VU3pqWF36k1"
      },
      "source": [
        "# # Alternatively, make DataFrame from CSV\n",
        "# %%time\n",
        "# df = pd.read_csv(train_csv_path, index_col='row_id')\n"
      ],
      "execution_count": 3,
      "outputs": []
    },
    {
      "cell_type": "code",
      "metadata": {
        "id": "WfNYjGww7ODU"
      },
      "source": [
        "#After importing as a dataframe, save the dataframe as a binary file, in case the notebook instance crashes, so that we can quickly reload the dataframe and resume.\n",
        "# %%time\n",
        "# df.to_pickle(train_pkl_path)"
      ],
      "execution_count": 4,
      "outputs": []
    },
    {
      "cell_type": "code",
      "metadata": {
        "id": "oy3yDXXb2vyn"
      },
      "source": [
        "#If loading the subsets from PKL after a runtime crash, use these\r\n",
        "train_pkl_path_1_10 = Path('/content/drive/MyDrive/Colab Notebooks/riiid-test-answer-prediction/data/train_1_10.pkl.gzip')\r\n",
        "train_pkl_path_1_100 = Path('/content/drive/MyDrive/Colab Notebooks/riiid-test-answer-prediction/data/train_1_100.pkl.gzip')\r\n",
        "train_pkl_path_1_1000 = Path('/content/drive/MyDrive/Colab Notebooks/riiid-test-answer-prediction/data/train_1_1000.pkl.gzip')\r\n",
        "\r\n",
        "with open( train_pkl_path_1_10, 'rb') as f:\r\n",
        "  df_1_10 = pickle.load(f)\r\n",
        "with open( train_pkl_path_1_100, 'rb') as f:\r\n",
        "  df_1_100 = pickle.load(f)\r\n",
        "with open( train_pkl_path_1_1000, 'rb') as f:\r\n",
        "  df_1_1000 = pickle.load(f)"
      ],
      "execution_count": 5,
      "outputs": []
    },
    {
      "cell_type": "code",
      "metadata": {
        "colab": {
          "base_uri": "https://localhost:8080/",
          "height": 410
        },
        "id": "TU-3pNn56NUd",
        "outputId": "c5571593-c2e0-4c11-b0c1-396c43ddc7f7"
      },
      "source": [
        "df.head(10)"
      ],
      "execution_count": 6,
      "outputs": [
        {
          "output_type": "execute_result",
          "data": {
            "text/html": [
              "<div>\n",
              "<style scoped>\n",
              "    .dataframe tbody tr th:only-of-type {\n",
              "        vertical-align: middle;\n",
              "    }\n",
              "\n",
              "    .dataframe tbody tr th {\n",
              "        vertical-align: top;\n",
              "    }\n",
              "\n",
              "    .dataframe thead th {\n",
              "        text-align: right;\n",
              "    }\n",
              "</style>\n",
              "<table border=\"1\" class=\"dataframe\">\n",
              "  <thead>\n",
              "    <tr style=\"text-align: right;\">\n",
              "      <th></th>\n",
              "      <th>timestamp</th>\n",
              "      <th>user_id</th>\n",
              "      <th>content_id</th>\n",
              "      <th>content_type_id</th>\n",
              "      <th>task_container_id</th>\n",
              "      <th>user_answer</th>\n",
              "      <th>answered_correctly</th>\n",
              "      <th>prior_question_elapsed_time</th>\n",
              "      <th>prior_question_had_explanation</th>\n",
              "    </tr>\n",
              "    <tr>\n",
              "      <th>row_id</th>\n",
              "      <th></th>\n",
              "      <th></th>\n",
              "      <th></th>\n",
              "      <th></th>\n",
              "      <th></th>\n",
              "      <th></th>\n",
              "      <th></th>\n",
              "      <th></th>\n",
              "      <th></th>\n",
              "    </tr>\n",
              "  </thead>\n",
              "  <tbody>\n",
              "    <tr>\n",
              "      <th>0</th>\n",
              "      <td>0</td>\n",
              "      <td>115</td>\n",
              "      <td>5692</td>\n",
              "      <td>0</td>\n",
              "      <td>1</td>\n",
              "      <td>3</td>\n",
              "      <td>1</td>\n",
              "      <td>NaN</td>\n",
              "      <td>NaN</td>\n",
              "    </tr>\n",
              "    <tr>\n",
              "      <th>1</th>\n",
              "      <td>56943</td>\n",
              "      <td>115</td>\n",
              "      <td>5716</td>\n",
              "      <td>0</td>\n",
              "      <td>2</td>\n",
              "      <td>2</td>\n",
              "      <td>1</td>\n",
              "      <td>37000.0</td>\n",
              "      <td>False</td>\n",
              "    </tr>\n",
              "    <tr>\n",
              "      <th>2</th>\n",
              "      <td>118363</td>\n",
              "      <td>115</td>\n",
              "      <td>128</td>\n",
              "      <td>0</td>\n",
              "      <td>0</td>\n",
              "      <td>0</td>\n",
              "      <td>1</td>\n",
              "      <td>55000.0</td>\n",
              "      <td>False</td>\n",
              "    </tr>\n",
              "    <tr>\n",
              "      <th>3</th>\n",
              "      <td>131167</td>\n",
              "      <td>115</td>\n",
              "      <td>7860</td>\n",
              "      <td>0</td>\n",
              "      <td>3</td>\n",
              "      <td>0</td>\n",
              "      <td>1</td>\n",
              "      <td>19000.0</td>\n",
              "      <td>False</td>\n",
              "    </tr>\n",
              "    <tr>\n",
              "      <th>4</th>\n",
              "      <td>137965</td>\n",
              "      <td>115</td>\n",
              "      <td>7922</td>\n",
              "      <td>0</td>\n",
              "      <td>4</td>\n",
              "      <td>1</td>\n",
              "      <td>1</td>\n",
              "      <td>11000.0</td>\n",
              "      <td>False</td>\n",
              "    </tr>\n",
              "    <tr>\n",
              "      <th>5</th>\n",
              "      <td>157063</td>\n",
              "      <td>115</td>\n",
              "      <td>156</td>\n",
              "      <td>0</td>\n",
              "      <td>5</td>\n",
              "      <td>2</td>\n",
              "      <td>1</td>\n",
              "      <td>5000.0</td>\n",
              "      <td>False</td>\n",
              "    </tr>\n",
              "    <tr>\n",
              "      <th>6</th>\n",
              "      <td>176092</td>\n",
              "      <td>115</td>\n",
              "      <td>51</td>\n",
              "      <td>0</td>\n",
              "      <td>6</td>\n",
              "      <td>0</td>\n",
              "      <td>1</td>\n",
              "      <td>17000.0</td>\n",
              "      <td>False</td>\n",
              "    </tr>\n",
              "    <tr>\n",
              "      <th>7</th>\n",
              "      <td>194190</td>\n",
              "      <td>115</td>\n",
              "      <td>50</td>\n",
              "      <td>0</td>\n",
              "      <td>7</td>\n",
              "      <td>3</td>\n",
              "      <td>1</td>\n",
              "      <td>17000.0</td>\n",
              "      <td>False</td>\n",
              "    </tr>\n",
              "    <tr>\n",
              "      <th>8</th>\n",
              "      <td>212463</td>\n",
              "      <td>115</td>\n",
              "      <td>7896</td>\n",
              "      <td>0</td>\n",
              "      <td>8</td>\n",
              "      <td>2</td>\n",
              "      <td>1</td>\n",
              "      <td>16000.0</td>\n",
              "      <td>False</td>\n",
              "    </tr>\n",
              "    <tr>\n",
              "      <th>9</th>\n",
              "      <td>230983</td>\n",
              "      <td>115</td>\n",
              "      <td>7863</td>\n",
              "      <td>0</td>\n",
              "      <td>9</td>\n",
              "      <td>0</td>\n",
              "      <td>1</td>\n",
              "      <td>16000.0</td>\n",
              "      <td>False</td>\n",
              "    </tr>\n",
              "  </tbody>\n",
              "</table>\n",
              "</div>"
            ],
            "text/plain": [
              "        timestamp  ...  prior_question_had_explanation\n",
              "row_id             ...                                \n",
              "0               0  ...                             NaN\n",
              "1           56943  ...                           False\n",
              "2          118363  ...                           False\n",
              "3          131167  ...                           False\n",
              "4          137965  ...                           False\n",
              "5          157063  ...                           False\n",
              "6          176092  ...                           False\n",
              "7          194190  ...                           False\n",
              "8          212463  ...                           False\n",
              "9          230983  ...                           False\n",
              "\n",
              "[10 rows x 9 columns]"
            ]
          },
          "metadata": {
            "tags": []
          },
          "execution_count": 6
        }
      ]
    },
    {
      "cell_type": "markdown",
      "metadata": {
        "id": "3cNCGAhy-4s7"
      },
      "source": [
        "#Examine the shape of the dataframe, summary statistics, and missing values"
      ]
    },
    {
      "cell_type": "code",
      "metadata": {
        "id": "0oI1lqo4cwnv",
        "colab": {
          "base_uri": "https://localhost:8080/"
        },
        "outputId": "ee1ff897-af0d-4ede-dbd2-ce4993fc5aa0"
      },
      "source": [
        "df.info()"
      ],
      "execution_count": 7,
      "outputs": [
        {
          "output_type": "stream",
          "text": [
            "<class 'pandas.core.frame.DataFrame'>\n",
            "Int64Index: 101230332 entries, 0 to 101230331\n",
            "Data columns (total 9 columns):\n",
            " #   Column                          Dtype  \n",
            "---  ------                          -----  \n",
            " 0   timestamp                       int64  \n",
            " 1   user_id                         int64  \n",
            " 2   content_id                      int64  \n",
            " 3   content_type_id                 int64  \n",
            " 4   task_container_id               int64  \n",
            " 5   user_answer                     int64  \n",
            " 6   answered_correctly              int64  \n",
            " 7   prior_question_elapsed_time     float64\n",
            " 8   prior_question_had_explanation  object \n",
            "dtypes: float64(1), int64(7), object(1)\n",
            "memory usage: 7.5+ GB\n"
          ],
          "name": "stdout"
        }
      ]
    },
    {
      "cell_type": "code",
      "metadata": {
        "id": "6gfvdrScgnIa",
        "colab": {
          "base_uri": "https://localhost:8080/"
        },
        "outputId": "12f85536-d8fe-4298-8458-db461d4099b0"
      },
      "source": [
        "print(f\"The shape of this dataframe is {df.shape}.\")"
      ],
      "execution_count": 8,
      "outputs": [
        {
          "output_type": "stream",
          "text": [
            "The shape of this dataframe is (101230332, 9).\n"
          ],
          "name": "stdout"
        }
      ]
    },
    {
      "cell_type": "markdown",
      "metadata": {
        "id": "-wArjzIWLTK8"
      },
      "source": [
        "##Check for missing data"
      ]
    },
    {
      "cell_type": "code",
      "metadata": {
        "id": "Ff5-x4WeBMGl",
        "colab": {
          "base_uri": "https://localhost:8080/"
        },
        "outputId": "e9717478-0713-402b-d370-8e87bb5f6e1b"
      },
      "source": [
        "# Count missing values\n",
        "df.isna().sum()"
      ],
      "execution_count": 9,
      "outputs": [
        {
          "output_type": "execute_result",
          "data": {
            "text/plain": [
              "timestamp                               0\n",
              "user_id                                 0\n",
              "content_id                              0\n",
              "content_type_id                         0\n",
              "task_container_id                       0\n",
              "user_answer                             0\n",
              "answered_correctly                      0\n",
              "prior_question_elapsed_time       2351538\n",
              "prior_question_had_explanation     392506\n",
              "dtype: int64"
            ]
          },
          "metadata": {
            "tags": []
          },
          "execution_count": 9
        }
      ]
    },
    {
      "cell_type": "markdown",
      "metadata": {
        "id": "ID-gOHHEBcw1"
      },
      "source": [
        "The data is mostly clean, and only two columns have missing data. Based on the discriptions of the data, these columns missing data is intentional.\n"
      ]
    },
    {
      "cell_type": "markdown",
      "metadata": {
        "id": "dO5n0tNULh10"
      },
      "source": [
        "##Check unique entries and dtypes"
      ]
    },
    {
      "cell_type": "code",
      "metadata": {
        "id": "vHRVCwhNF29t",
        "colab": {
          "base_uri": "https://localhost:8080/"
        },
        "outputId": "24a17a1f-a44c-4fe3-c97b-6223480293b7"
      },
      "source": [
        "#Check the relative frequency of unique values in each column\n",
        "# Save the values here, to avoid re-computation later\n",
        "%time\n",
        "df_nunique = df.nunique()\n",
        "df_nunique"
      ],
      "execution_count": 10,
      "outputs": [
        {
          "output_type": "stream",
          "text": [
            "CPU times: user 1e+03 ns, sys: 2 µs, total: 3 µs\n",
            "Wall time: 5.48 µs\n"
          ],
          "name": "stdout"
        },
        {
          "output_type": "execute_result",
          "data": {
            "text/plain": [
              "timestamp                         72821015\n",
              "user_id                             393656\n",
              "content_id                           13782\n",
              "content_type_id                          2\n",
              "task_container_id                    10000\n",
              "user_answer                              5\n",
              "answered_correctly                       3\n",
              "prior_question_elapsed_time           3258\n",
              "prior_question_had_explanation           2\n",
              "dtype: int64"
            ]
          },
          "metadata": {
            "tags": []
          },
          "execution_count": 10
        }
      ]
    },
    {
      "cell_type": "code",
      "metadata": {
        "colab": {
          "base_uri": "https://localhost:8080/"
        },
        "id": "mm__ynb_1stv",
        "outputId": "63ee43f2-5912-491f-83ce-83a3dbecdf74"
      },
      "source": [
        "nunique_answered_correctly = df_nunique['answered_correctly']\n",
        "nunique_prior_question_had_explanation = df_nunique['prior_question_had_explanation']\n",
        "\n",
        "nunique_answered_correctly, nunique_prior_question_had_explanation"
      ],
      "execution_count": 11,
      "outputs": [
        {
          "output_type": "execute_result",
          "data": {
            "text/plain": [
              "(3, 2)"
            ]
          },
          "metadata": {
            "tags": []
          },
          "execution_count": 11
        }
      ]
    },
    {
      "cell_type": "markdown",
      "metadata": {
        "id": "kei46fW0z4uA"
      },
      "source": [
        "Noteably, the number of unique task_container_id is exactly 10000. \n",
        "\n",
        "'answered_correctly' is a boolean except for the NaN entries.\n",
        "\n"
      ]
    },
    {
      "cell_type": "markdown",
      "metadata": {
        "id": "h7DpRaOktr6z"
      },
      "source": [
        "##Set the index"
      ]
    },
    {
      "cell_type": "code",
      "metadata": {
        "colab": {
          "base_uri": "https://localhost:8080/",
          "height": 289
        },
        "id": "AH1NnXR9tfhz",
        "outputId": "51259ad1-8702-4fb8-a05a-9a9db4535c9f"
      },
      "source": [
        "%time\n",
        "if 'row_id' in df.columns:\n",
        "  df.set_index('row_id', inplace=True)\n",
        "df.head()"
      ],
      "execution_count": 12,
      "outputs": [
        {
          "output_type": "stream",
          "text": [
            "CPU times: user 2 µs, sys: 1 µs, total: 3 µs\n",
            "Wall time: 4.77 µs\n"
          ],
          "name": "stdout"
        },
        {
          "output_type": "execute_result",
          "data": {
            "text/html": [
              "<div>\n",
              "<style scoped>\n",
              "    .dataframe tbody tr th:only-of-type {\n",
              "        vertical-align: middle;\n",
              "    }\n",
              "\n",
              "    .dataframe tbody tr th {\n",
              "        vertical-align: top;\n",
              "    }\n",
              "\n",
              "    .dataframe thead th {\n",
              "        text-align: right;\n",
              "    }\n",
              "</style>\n",
              "<table border=\"1\" class=\"dataframe\">\n",
              "  <thead>\n",
              "    <tr style=\"text-align: right;\">\n",
              "      <th></th>\n",
              "      <th>timestamp</th>\n",
              "      <th>user_id</th>\n",
              "      <th>content_id</th>\n",
              "      <th>content_type_id</th>\n",
              "      <th>task_container_id</th>\n",
              "      <th>user_answer</th>\n",
              "      <th>answered_correctly</th>\n",
              "      <th>prior_question_elapsed_time</th>\n",
              "      <th>prior_question_had_explanation</th>\n",
              "    </tr>\n",
              "    <tr>\n",
              "      <th>row_id</th>\n",
              "      <th></th>\n",
              "      <th></th>\n",
              "      <th></th>\n",
              "      <th></th>\n",
              "      <th></th>\n",
              "      <th></th>\n",
              "      <th></th>\n",
              "      <th></th>\n",
              "      <th></th>\n",
              "    </tr>\n",
              "  </thead>\n",
              "  <tbody>\n",
              "    <tr>\n",
              "      <th>0</th>\n",
              "      <td>0</td>\n",
              "      <td>115</td>\n",
              "      <td>5692</td>\n",
              "      <td>0</td>\n",
              "      <td>1</td>\n",
              "      <td>3</td>\n",
              "      <td>1</td>\n",
              "      <td>NaN</td>\n",
              "      <td>NaN</td>\n",
              "    </tr>\n",
              "    <tr>\n",
              "      <th>1</th>\n",
              "      <td>56943</td>\n",
              "      <td>115</td>\n",
              "      <td>5716</td>\n",
              "      <td>0</td>\n",
              "      <td>2</td>\n",
              "      <td>2</td>\n",
              "      <td>1</td>\n",
              "      <td>37000.0</td>\n",
              "      <td>False</td>\n",
              "    </tr>\n",
              "    <tr>\n",
              "      <th>2</th>\n",
              "      <td>118363</td>\n",
              "      <td>115</td>\n",
              "      <td>128</td>\n",
              "      <td>0</td>\n",
              "      <td>0</td>\n",
              "      <td>0</td>\n",
              "      <td>1</td>\n",
              "      <td>55000.0</td>\n",
              "      <td>False</td>\n",
              "    </tr>\n",
              "    <tr>\n",
              "      <th>3</th>\n",
              "      <td>131167</td>\n",
              "      <td>115</td>\n",
              "      <td>7860</td>\n",
              "      <td>0</td>\n",
              "      <td>3</td>\n",
              "      <td>0</td>\n",
              "      <td>1</td>\n",
              "      <td>19000.0</td>\n",
              "      <td>False</td>\n",
              "    </tr>\n",
              "    <tr>\n",
              "      <th>4</th>\n",
              "      <td>137965</td>\n",
              "      <td>115</td>\n",
              "      <td>7922</td>\n",
              "      <td>0</td>\n",
              "      <td>4</td>\n",
              "      <td>1</td>\n",
              "      <td>1</td>\n",
              "      <td>11000.0</td>\n",
              "      <td>False</td>\n",
              "    </tr>\n",
              "  </tbody>\n",
              "</table>\n",
              "</div>"
            ],
            "text/plain": [
              "        timestamp  ...  prior_question_had_explanation\n",
              "row_id             ...                                \n",
              "0               0  ...                             NaN\n",
              "1           56943  ...                           False\n",
              "2          118363  ...                           False\n",
              "3          131167  ...                           False\n",
              "4          137965  ...                           False\n",
              "\n",
              "[5 rows x 9 columns]"
            ]
          },
          "metadata": {
            "tags": []
          },
          "execution_count": 12
        }
      ]
    },
    {
      "cell_type": "markdown",
      "metadata": {
        "id": "0aewSose_E3t"
      },
      "source": [
        "## Changing dtypes\n",
        "As the number of unique entries in each column is comparatively low, relative to the size of the data set, there will be perfomance gains by recaasting most of these colums as categorical variables.\n",
        "\n",
        "timestamp and prior_question_elapsed_time            is an exception and should be treated differently.\n",
        "\n",
        "prior_question_elapsed_time is a float and probably should not be categorical.\n",
        "\n",
        "prior_question_had_explanation should be change to dtype:bool\n"
      ]
    },
    {
      "cell_type": "code",
      "metadata": {
        "colab": {
          "base_uri": "https://localhost:8080/"
        },
        "id": "XSzcUkFW3gbf",
        "outputId": "5116ce1f-5e46-4d3a-dde2-771de82c875e"
      },
      "source": [
        "#Check dtypes before\n",
        "%time\n",
        "df.dtypes"
      ],
      "execution_count": 13,
      "outputs": [
        {
          "output_type": "stream",
          "text": [
            "CPU times: user 2 µs, sys: 0 ns, total: 2 µs\n",
            "Wall time: 4.77 µs\n"
          ],
          "name": "stdout"
        },
        {
          "output_type": "execute_result",
          "data": {
            "text/plain": [
              "timestamp                           int64\n",
              "user_id                             int64\n",
              "content_id                          int64\n",
              "content_type_id                     int64\n",
              "task_container_id                   int64\n",
              "user_answer                         int64\n",
              "answered_correctly                  int64\n",
              "prior_question_elapsed_time       float64\n",
              "prior_question_had_explanation     object\n",
              "dtype: object"
            ]
          },
          "metadata": {
            "tags": []
          },
          "execution_count": 13
        }
      ]
    },
    {
      "cell_type": "code",
      "metadata": {
        "id": "Pohep2jRGMfI",
        "colab": {
          "base_uri": "https://localhost:8080/"
        },
        "outputId": "683dce1b-74e3-4917-abef-598fe4203863"
      },
      "source": [
        "%time\n",
        "categorical_columns = ['user_id', 'content_id', 'content_type_id', 'task_container_id', 'user_answer', 'answered_correctly']\n",
        "for column_id in categorical_columns:\n",
        "  df[column_id] = pd.Categorical(df[column_id])\n",
        "\n",
        "boolean_columns = ['prior_question_had_explanation']\n",
        "for column_id in boolean_columns:\n",
        "  df[column_id] = df[column_id].astype(bool)\n",
        "\n",
        "df.dtypes"
      ],
      "execution_count": 14,
      "outputs": [
        {
          "output_type": "stream",
          "text": [
            "CPU times: user 2 µs, sys: 1 µs, total: 3 µs\n",
            "Wall time: 5.01 µs\n"
          ],
          "name": "stdout"
        },
        {
          "output_type": "execute_result",
          "data": {
            "text/plain": [
              "timestamp                            int64\n",
              "user_id                           category\n",
              "content_id                        category\n",
              "content_type_id                   category\n",
              "task_container_id                 category\n",
              "user_answer                       category\n",
              "answered_correctly                category\n",
              "prior_question_elapsed_time        float64\n",
              "prior_question_had_explanation        bool\n",
              "dtype: object"
            ]
          },
          "metadata": {
            "tags": []
          },
          "execution_count": 14
        }
      ]
    },
    {
      "cell_type": "markdown",
      "metadata": {
        "id": "nUGrmZGF0Xgp"
      },
      "source": [
        "Check to make sure the missing data is retained."
      ]
    },
    {
      "cell_type": "markdown",
      "metadata": {
        "id": "lixiTgG23yLy"
      },
      "source": [
        "#EDA using a subsample\n",
        "As the Google Colab runtime keeps crashing due to lack of memory (even with Colab Pro), we will switch to importing only about 1% or 10% of the data for this EDA. IF we see that this subset differs signifcant;y fullset's summary statistics, we can contiue to attempt using the full set."
      ]
    },
    {
      "cell_type": "code",
      "metadata": {
        "id": "WkbbtuYnAjG1"
      },
      "source": [
        "#Define the skip logic\n",
        "\n",
        "#Skip rows from based on condition like skip every 10th line\n",
        "def skip_all_but_nth_rows(n, idx):\n",
        "  return (idx % n != 0)\n",
        "  \n",
        "#Skip random lines  \n",
        "import random\n",
        "def rand_1_in_n(n, idx):\n",
        "  return True if random.randrange(1,n)==1 else False\n"
      ],
      "execution_count": 15,
      "outputs": []
    },
    {
      "cell_type": "markdown",
      "metadata": {
        "id": "qY7rTLm0_dNI"
      },
      "source": [
        "###If subsetting from existing dataframe with all data"
      ]
    },
    {
      "cell_type": "code",
      "metadata": {
        "id": "tydO1OdEAdZS",
        "colab": {
          "base_uri": "https://localhost:8080/"
        },
        "outputId": "1963d31d-e56c-4b90-9ea9-b9155dc9009a"
      },
      "source": [
        "%time\n",
        "#Define a Dataframe with 1/10 of the data\n",
        "df_1_10 = df[df.index % 10 == 0]\n",
        "\n",
        "#Define a DataFrame with 1/100 of the data\n",
        "df_1_100 = df[df.index % 100 == 0]\n",
        "\n",
        "#Define a DataFrame with 1/1000 of the data\n",
        "df_1_1000 = df[df.index % 1000 == 0]"
      ],
      "execution_count": 16,
      "outputs": [
        {
          "output_type": "stream",
          "text": [
            "CPU times: user 3 µs, sys: 0 ns, total: 3 µs\n",
            "Wall time: 6.91 µs\n"
          ],
          "name": "stdout"
        }
      ]
    },
    {
      "cell_type": "code",
      "metadata": {
        "colab": {
          "base_uri": "https://localhost:8080/",
          "height": 255
        },
        "id": "8DKdIDBaBOHO",
        "outputId": "666e6457-b476-4e9e-bba7-637535f50b29"
      },
      "source": [
        "df_1_10.head()"
      ],
      "execution_count": 17,
      "outputs": [
        {
          "output_type": "execute_result",
          "data": {
            "text/html": [
              "<div>\n",
              "<style scoped>\n",
              "    .dataframe tbody tr th:only-of-type {\n",
              "        vertical-align: middle;\n",
              "    }\n",
              "\n",
              "    .dataframe tbody tr th {\n",
              "        vertical-align: top;\n",
              "    }\n",
              "\n",
              "    .dataframe thead th {\n",
              "        text-align: right;\n",
              "    }\n",
              "</style>\n",
              "<table border=\"1\" class=\"dataframe\">\n",
              "  <thead>\n",
              "    <tr style=\"text-align: right;\">\n",
              "      <th></th>\n",
              "      <th>timestamp</th>\n",
              "      <th>user_id</th>\n",
              "      <th>content_id</th>\n",
              "      <th>content_type_id</th>\n",
              "      <th>task_container_id</th>\n",
              "      <th>user_answer</th>\n",
              "      <th>answered_correctly</th>\n",
              "      <th>prior_question_elapsed_time</th>\n",
              "      <th>prior_question_had_explanation</th>\n",
              "    </tr>\n",
              "    <tr>\n",
              "      <th>row_id</th>\n",
              "      <th></th>\n",
              "      <th></th>\n",
              "      <th></th>\n",
              "      <th></th>\n",
              "      <th></th>\n",
              "      <th></th>\n",
              "      <th></th>\n",
              "      <th></th>\n",
              "      <th></th>\n",
              "    </tr>\n",
              "  </thead>\n",
              "  <tbody>\n",
              "    <tr>\n",
              "      <th>0</th>\n",
              "      <td>0</td>\n",
              "      <td>115</td>\n",
              "      <td>5692</td>\n",
              "      <td>0</td>\n",
              "      <td>1</td>\n",
              "      <td>3</td>\n",
              "      <td>1</td>\n",
              "      <td>NaN</td>\n",
              "      <td>True</td>\n",
              "    </tr>\n",
              "    <tr>\n",
              "      <th>10</th>\n",
              "      <td>255381</td>\n",
              "      <td>115</td>\n",
              "      <td>152</td>\n",
              "      <td>0</td>\n",
              "      <td>10</td>\n",
              "      <td>2</td>\n",
              "      <td>0</td>\n",
              "      <td>17000.0</td>\n",
              "      <td>False</td>\n",
              "    </tr>\n",
              "    <tr>\n",
              "      <th>20</th>\n",
              "      <td>490100</td>\n",
              "      <td>115</td>\n",
              "      <td>4</td>\n",
              "      <td>0</td>\n",
              "      <td>20</td>\n",
              "      <td>1</td>\n",
              "      <td>0</td>\n",
              "      <td>29000.0</td>\n",
              "      <td>False</td>\n",
              "    </tr>\n",
              "    <tr>\n",
              "      <th>30</th>\n",
              "      <td>710402</td>\n",
              "      <td>115</td>\n",
              "      <td>100</td>\n",
              "      <td>0</td>\n",
              "      <td>30</td>\n",
              "      <td>0</td>\n",
              "      <td>1</td>\n",
              "      <td>20000.0</td>\n",
              "      <td>False</td>\n",
              "    </tr>\n",
              "    <tr>\n",
              "      <th>40</th>\n",
              "      <td>667971812</td>\n",
              "      <td>115</td>\n",
              "      <td>2065</td>\n",
              "      <td>0</td>\n",
              "      <td>40</td>\n",
              "      <td>2</td>\n",
              "      <td>1</td>\n",
              "      <td>17000.0</td>\n",
              "      <td>False</td>\n",
              "    </tr>\n",
              "  </tbody>\n",
              "</table>\n",
              "</div>"
            ],
            "text/plain": [
              "        timestamp  ... prior_question_had_explanation\n",
              "row_id             ...                               \n",
              "0               0  ...                           True\n",
              "10         255381  ...                          False\n",
              "20         490100  ...                          False\n",
              "30         710402  ...                          False\n",
              "40      667971812  ...                          False\n",
              "\n",
              "[5 rows x 9 columns]"
            ]
          },
          "metadata": {
            "tags": []
          },
          "execution_count": 17
        }
      ]
    },
    {
      "cell_type": "code",
      "metadata": {
        "colab": {
          "base_uri": "https://localhost:8080/",
          "height": 255
        },
        "id": "gGvL9QxOBQwN",
        "outputId": "e35e3a09-e84f-42a8-f0f2-0f7a3e16f823"
      },
      "source": [
        "df_1_100.head()"
      ],
      "execution_count": 18,
      "outputs": [
        {
          "output_type": "execute_result",
          "data": {
            "text/html": [
              "<div>\n",
              "<style scoped>\n",
              "    .dataframe tbody tr th:only-of-type {\n",
              "        vertical-align: middle;\n",
              "    }\n",
              "\n",
              "    .dataframe tbody tr th {\n",
              "        vertical-align: top;\n",
              "    }\n",
              "\n",
              "    .dataframe thead th {\n",
              "        text-align: right;\n",
              "    }\n",
              "</style>\n",
              "<table border=\"1\" class=\"dataframe\">\n",
              "  <thead>\n",
              "    <tr style=\"text-align: right;\">\n",
              "      <th></th>\n",
              "      <th>timestamp</th>\n",
              "      <th>user_id</th>\n",
              "      <th>content_id</th>\n",
              "      <th>content_type_id</th>\n",
              "      <th>task_container_id</th>\n",
              "      <th>user_answer</th>\n",
              "      <th>answered_correctly</th>\n",
              "      <th>prior_question_elapsed_time</th>\n",
              "      <th>prior_question_had_explanation</th>\n",
              "    </tr>\n",
              "    <tr>\n",
              "      <th>row_id</th>\n",
              "      <th></th>\n",
              "      <th></th>\n",
              "      <th></th>\n",
              "      <th></th>\n",
              "      <th></th>\n",
              "      <th></th>\n",
              "      <th></th>\n",
              "      <th></th>\n",
              "      <th></th>\n",
              "    </tr>\n",
              "  </thead>\n",
              "  <tbody>\n",
              "    <tr>\n",
              "      <th>0</th>\n",
              "      <td>0</td>\n",
              "      <td>115</td>\n",
              "      <td>5692</td>\n",
              "      <td>0</td>\n",
              "      <td>1</td>\n",
              "      <td>3</td>\n",
              "      <td>1</td>\n",
              "      <td>NaN</td>\n",
              "      <td>True</td>\n",
              "    </tr>\n",
              "    <tr>\n",
              "      <th>100</th>\n",
              "      <td>169080</td>\n",
              "      <td>5382</td>\n",
              "      <td>5965</td>\n",
              "      <td>0</td>\n",
              "      <td>4</td>\n",
              "      <td>2</td>\n",
              "      <td>1</td>\n",
              "      <td>18000.0</td>\n",
              "      <td>False</td>\n",
              "    </tr>\n",
              "    <tr>\n",
              "      <th>200</th>\n",
              "      <td>553597450</td>\n",
              "      <td>5382</td>\n",
              "      <td>6078</td>\n",
              "      <td>0</td>\n",
              "      <td>105</td>\n",
              "      <td>0</td>\n",
              "      <td>1</td>\n",
              "      <td>22000.0</td>\n",
              "      <td>True</td>\n",
              "    </tr>\n",
              "    <tr>\n",
              "      <th>300</th>\n",
              "      <td>406185018</td>\n",
              "      <td>8623</td>\n",
              "      <td>7934</td>\n",
              "      <td>0</td>\n",
              "      <td>64</td>\n",
              "      <td>3</td>\n",
              "      <td>1</td>\n",
              "      <td>13000.0</td>\n",
              "      <td>True</td>\n",
              "    </tr>\n",
              "    <tr>\n",
              "      <th>400</th>\n",
              "      <td>3082978171</td>\n",
              "      <td>12741</td>\n",
              "      <td>4853</td>\n",
              "      <td>0</td>\n",
              "      <td>24</td>\n",
              "      <td>3</td>\n",
              "      <td>1</td>\n",
              "      <td>36000.0</td>\n",
              "      <td>True</td>\n",
              "    </tr>\n",
              "  </tbody>\n",
              "</table>\n",
              "</div>"
            ],
            "text/plain": [
              "         timestamp  ... prior_question_had_explanation\n",
              "row_id              ...                               \n",
              "0                0  ...                           True\n",
              "100         169080  ...                          False\n",
              "200      553597450  ...                           True\n",
              "300      406185018  ...                           True\n",
              "400     3082978171  ...                           True\n",
              "\n",
              "[5 rows x 9 columns]"
            ]
          },
          "metadata": {
            "tags": []
          },
          "execution_count": 18
        }
      ]
    },
    {
      "cell_type": "code",
      "metadata": {
        "colab": {
          "base_uri": "https://localhost:8080/",
          "height": 255
        },
        "id": "9ojL4wSkeSDx",
        "outputId": "48977e59-de1d-4e33-9797-c576a1f2f079"
      },
      "source": [
        "df_1_1000.head()"
      ],
      "execution_count": 19,
      "outputs": [
        {
          "output_type": "execute_result",
          "data": {
            "text/html": [
              "<div>\n",
              "<style scoped>\n",
              "    .dataframe tbody tr th:only-of-type {\n",
              "        vertical-align: middle;\n",
              "    }\n",
              "\n",
              "    .dataframe tbody tr th {\n",
              "        vertical-align: top;\n",
              "    }\n",
              "\n",
              "    .dataframe thead th {\n",
              "        text-align: right;\n",
              "    }\n",
              "</style>\n",
              "<table border=\"1\" class=\"dataframe\">\n",
              "  <thead>\n",
              "    <tr style=\"text-align: right;\">\n",
              "      <th></th>\n",
              "      <th>timestamp</th>\n",
              "      <th>user_id</th>\n",
              "      <th>content_id</th>\n",
              "      <th>content_type_id</th>\n",
              "      <th>task_container_id</th>\n",
              "      <th>user_answer</th>\n",
              "      <th>answered_correctly</th>\n",
              "      <th>prior_question_elapsed_time</th>\n",
              "      <th>prior_question_had_explanation</th>\n",
              "    </tr>\n",
              "    <tr>\n",
              "      <th>row_id</th>\n",
              "      <th></th>\n",
              "      <th></th>\n",
              "      <th></th>\n",
              "      <th></th>\n",
              "      <th></th>\n",
              "      <th></th>\n",
              "      <th></th>\n",
              "      <th></th>\n",
              "      <th></th>\n",
              "    </tr>\n",
              "  </thead>\n",
              "  <tbody>\n",
              "    <tr>\n",
              "      <th>0</th>\n",
              "      <td>0</td>\n",
              "      <td>115</td>\n",
              "      <td>5692</td>\n",
              "      <td>0</td>\n",
              "      <td>1</td>\n",
              "      <td>3</td>\n",
              "      <td>1</td>\n",
              "      <td>NaN</td>\n",
              "      <td>True</td>\n",
              "    </tr>\n",
              "    <tr>\n",
              "      <th>1000</th>\n",
              "      <td>15092942969</td>\n",
              "      <td>13134</td>\n",
              "      <td>9155</td>\n",
              "      <td>0</td>\n",
              "      <td>299</td>\n",
              "      <td>3</td>\n",
              "      <td>1</td>\n",
              "      <td>27666.0</td>\n",
              "      <td>True</td>\n",
              "    </tr>\n",
              "    <tr>\n",
              "      <th>2000</th>\n",
              "      <td>1623047964</td>\n",
              "      <td>24418</td>\n",
              "      <td>476</td>\n",
              "      <td>0</td>\n",
              "      <td>112</td>\n",
              "      <td>0</td>\n",
              "      <td>1</td>\n",
              "      <td>15000.0</td>\n",
              "      <td>True</td>\n",
              "    </tr>\n",
              "    <tr>\n",
              "      <th>3000</th>\n",
              "      <td>4746311751</td>\n",
              "      <td>24418</td>\n",
              "      <td>5168</td>\n",
              "      <td>0</td>\n",
              "      <td>1000</td>\n",
              "      <td>1</td>\n",
              "      <td>1</td>\n",
              "      <td>6000.0</td>\n",
              "      <td>True</td>\n",
              "    </tr>\n",
              "    <tr>\n",
              "      <th>4000</th>\n",
              "      <td>5617496174</td>\n",
              "      <td>24418</td>\n",
              "      <td>3746</td>\n",
              "      <td>0</td>\n",
              "      <td>1747</td>\n",
              "      <td>3</td>\n",
              "      <td>0</td>\n",
              "      <td>27000.0</td>\n",
              "      <td>True</td>\n",
              "    </tr>\n",
              "  </tbody>\n",
              "</table>\n",
              "</div>"
            ],
            "text/plain": [
              "          timestamp  ... prior_question_had_explanation\n",
              "row_id               ...                               \n",
              "0                 0  ...                           True\n",
              "1000    15092942969  ...                           True\n",
              "2000     1623047964  ...                           True\n",
              "3000     4746311751  ...                           True\n",
              "4000     5617496174  ...                           True\n",
              "\n",
              "[5 rows x 9 columns]"
            ]
          },
          "metadata": {
            "tags": []
          },
          "execution_count": 19
        }
      ]
    },
    {
      "cell_type": "markdown",
      "metadata": {
        "id": "IJwrFuQR2D7J"
      },
      "source": [
        "Save the subsample sets as PKL files for later."
      ]
    },
    {
      "cell_type": "code",
      "metadata": {
        "id": "42n-S3tj2JIe"
      },
      "source": [
        "train_pkl_path_1_10 = Path('/content/drive/MyDrive/Colab Notebooks/riiid-test-answer-prediction/data/train_1_10.pkl.gzip')\r\n",
        "train_pkl_path_1_100 = Path('/content/drive/MyDrive/Colab Notebooks/riiid-test-answer-prediction/data/train_1_100.pkl.gzip')\r\n",
        "train_pkl_path_1_1000 = Path('/content/drive/MyDrive/Colab Notebooks/riiid-test-answer-prediction/data/train_1_1000.pkl.gzip')\r\n",
        "\r\n",
        "df_1_10.to_pickle(train_pkl_path_1_10)\r\n",
        "df_1_100.to_pickle(train_pkl_path_1_100)\r\n",
        "df_1_1000.to_pickle(train_pkl_path_1_1000)\r\n"
      ],
      "execution_count": 20,
      "outputs": []
    },
    {
      "cell_type": "markdown",
      "metadata": {
        "id": "F7t9xF2TkCK5"
      },
      "source": [
        "For the remainder of this eda, let's use the 1/1000 dataframe."
      ]
    },
    {
      "cell_type": "code",
      "metadata": {
        "colab": {
          "base_uri": "https://localhost:8080/",
          "height": 255
        },
        "id": "ItghlF8rkG25",
        "outputId": "48ecd827-6c08-43a8-80db-5ebd0713d323"
      },
      "source": [
        "df_1 = df\r\n",
        "df = df_1_1000\r\n",
        "df.head()"
      ],
      "execution_count": 21,
      "outputs": [
        {
          "output_type": "execute_result",
          "data": {
            "text/html": [
              "<div>\n",
              "<style scoped>\n",
              "    .dataframe tbody tr th:only-of-type {\n",
              "        vertical-align: middle;\n",
              "    }\n",
              "\n",
              "    .dataframe tbody tr th {\n",
              "        vertical-align: top;\n",
              "    }\n",
              "\n",
              "    .dataframe thead th {\n",
              "        text-align: right;\n",
              "    }\n",
              "</style>\n",
              "<table border=\"1\" class=\"dataframe\">\n",
              "  <thead>\n",
              "    <tr style=\"text-align: right;\">\n",
              "      <th></th>\n",
              "      <th>timestamp</th>\n",
              "      <th>user_id</th>\n",
              "      <th>content_id</th>\n",
              "      <th>content_type_id</th>\n",
              "      <th>task_container_id</th>\n",
              "      <th>user_answer</th>\n",
              "      <th>answered_correctly</th>\n",
              "      <th>prior_question_elapsed_time</th>\n",
              "      <th>prior_question_had_explanation</th>\n",
              "    </tr>\n",
              "    <tr>\n",
              "      <th>row_id</th>\n",
              "      <th></th>\n",
              "      <th></th>\n",
              "      <th></th>\n",
              "      <th></th>\n",
              "      <th></th>\n",
              "      <th></th>\n",
              "      <th></th>\n",
              "      <th></th>\n",
              "      <th></th>\n",
              "    </tr>\n",
              "  </thead>\n",
              "  <tbody>\n",
              "    <tr>\n",
              "      <th>0</th>\n",
              "      <td>0</td>\n",
              "      <td>115</td>\n",
              "      <td>5692</td>\n",
              "      <td>0</td>\n",
              "      <td>1</td>\n",
              "      <td>3</td>\n",
              "      <td>1</td>\n",
              "      <td>NaN</td>\n",
              "      <td>True</td>\n",
              "    </tr>\n",
              "    <tr>\n",
              "      <th>1000</th>\n",
              "      <td>15092942969</td>\n",
              "      <td>13134</td>\n",
              "      <td>9155</td>\n",
              "      <td>0</td>\n",
              "      <td>299</td>\n",
              "      <td>3</td>\n",
              "      <td>1</td>\n",
              "      <td>27666.0</td>\n",
              "      <td>True</td>\n",
              "    </tr>\n",
              "    <tr>\n",
              "      <th>2000</th>\n",
              "      <td>1623047964</td>\n",
              "      <td>24418</td>\n",
              "      <td>476</td>\n",
              "      <td>0</td>\n",
              "      <td>112</td>\n",
              "      <td>0</td>\n",
              "      <td>1</td>\n",
              "      <td>15000.0</td>\n",
              "      <td>True</td>\n",
              "    </tr>\n",
              "    <tr>\n",
              "      <th>3000</th>\n",
              "      <td>4746311751</td>\n",
              "      <td>24418</td>\n",
              "      <td>5168</td>\n",
              "      <td>0</td>\n",
              "      <td>1000</td>\n",
              "      <td>1</td>\n",
              "      <td>1</td>\n",
              "      <td>6000.0</td>\n",
              "      <td>True</td>\n",
              "    </tr>\n",
              "    <tr>\n",
              "      <th>4000</th>\n",
              "      <td>5617496174</td>\n",
              "      <td>24418</td>\n",
              "      <td>3746</td>\n",
              "      <td>0</td>\n",
              "      <td>1747</td>\n",
              "      <td>3</td>\n",
              "      <td>0</td>\n",
              "      <td>27000.0</td>\n",
              "      <td>True</td>\n",
              "    </tr>\n",
              "  </tbody>\n",
              "</table>\n",
              "</div>"
            ],
            "text/plain": [
              "          timestamp  ... prior_question_had_explanation\n",
              "row_id               ...                               \n",
              "0                 0  ...                           True\n",
              "1000    15092942969  ...                           True\n",
              "2000     1623047964  ...                           True\n",
              "3000     4746311751  ...                           True\n",
              "4000     5617496174  ...                           True\n",
              "\n",
              "[5 rows x 9 columns]"
            ]
          },
          "metadata": {
            "tags": []
          },
          "execution_count": 21
        }
      ]
    },
    {
      "cell_type": "code",
      "metadata": {
        "colab": {
          "base_uri": "https://localhost:8080/"
        },
        "id": "UAdMHOCekb8B",
        "outputId": "1f296d85-f6d6-4ca1-f8e3-f254359d6fb3"
      },
      "source": [
        "df.shape"
      ],
      "execution_count": 22,
      "outputs": [
        {
          "output_type": "execute_result",
          "data": {
            "text/plain": [
              "(101231, 9)"
            ]
          },
          "metadata": {
            "tags": []
          },
          "execution_count": 22
        }
      ]
    },
    {
      "cell_type": "markdown",
      "metadata": {
        "id": "9DSKcRYNlfsr"
      },
      "source": [
        "# Exploring the data in each column, individually\n",
        "\n",
        "Descriptions of each column (from the Kaggle website):\n",
        "\n",
        "\n",
        "row_id: (int64) ID code for the row.\n",
        "\n",
        "  timestamp: (int64) the time in milliseconds between this user interaction and the first event completion from that user.\n",
        "\n",
        "user_id: (int32) ID code for the user.\n",
        "\n",
        "content_id: (int16) ID code for the user interaction\n",
        "\n",
        "content_type_id: (int8) 0 if the event was a question being posed to the user, 1 if the event was the user watching a lecture.\n",
        "\n",
        "task_container_id: (int16) Id code for the batch of questions or lectures. For example, a user might see three questions in a row before seeing the explanations for any of them. Those three would all share a task_container_id.\n",
        "\n",
        "user_answer: (int8) the user's answer to the question, if any. Read -1 as null, for lectures.\n",
        "\n",
        "answered_correctly: (int8) if the user responded correctly. Read -1 as null, for lectures.\n",
        "\n",
        "prior_question_elapsed_time: (float32) The average time in milliseconds it took a user to answer each question in the previous question bundle, ignoring any lectures in between. Is null for a user's first question bundle or lecture. Note that the time is the average time a user took to solve each question in the previous bundle.\n",
        "\n",
        "prior_question_had_explanation: (bool) Whether or not the user saw an explanation and the correct response(s) after answering the previous question bundle, ignoring any lectures in between. The value is shared across a single question bundle, and is null for a user's first question bundle or lecture. Typically the first several questions a user sees were part of an onboarding diagnostic test where they did not get any feedback.\n",
        "\n",
        "\n",
        "\n"
      ]
    },
    {
      "cell_type": "markdown",
      "metadata": {
        "id": "o0rzOIttlliU"
      },
      "source": [
        "##timestamp\n",
        "\n",
        ">timestamp: (int64) the time in milliseconds between this user interaction and the first event completion from that user."
      ]
    },
    {
      "cell_type": "code",
      "metadata": {
        "id": "Fz9T9eiIhdCs",
        "colab": {
          "base_uri": "https://localhost:8080/"
        },
        "outputId": "9aaea6c8-03ab-4d01-b578-0836bcd902a7"
      },
      "source": [
        "%time\r\n",
        "df['timestamp'].describe(include='all')"
      ],
      "execution_count": 23,
      "outputs": [
        {
          "output_type": "stream",
          "text": [
            "CPU times: user 4 µs, sys: 0 ns, total: 4 µs\n",
            "Wall time: 9.06 µs\n"
          ],
          "name": "stdout"
        },
        {
          "output_type": "execute_result",
          "data": {
            "text/plain": [
              "count    1.012310e+05\n",
              "mean     7.691479e+09\n",
              "std      1.156822e+10\n",
              "min      0.000000e+00\n",
              "25%      5.282159e+08\n",
              "50%      2.661673e+09\n",
              "75%      9.936980e+09\n",
              "max      8.458382e+10\n",
              "Name: timestamp, dtype: float64"
            ]
          },
          "metadata": {
            "tags": []
          },
          "execution_count": 23
        }
      ]
    },
    {
      "cell_type": "markdown",
      "metadata": {
        "id": "VZFxEM_fgljD"
      },
      "source": [
        "Converting this from ms to years may be useful."
      ]
    },
    {
      "cell_type": "code",
      "metadata": {
        "colab": {
          "base_uri": "https://localhost:8080/"
        },
        "id": "hWglj0dVgv7o",
        "outputId": "5f639583-dfc5-440a-e5cf-d53a4962fd87"
      },
      "source": [
        "timestamp_in_days = ms_to_days(df['timestamp'])\n",
        "timestamp_in_days.describe(include='all')"
      ],
      "execution_count": 24,
      "outputs": [
        {
          "output_type": "execute_result",
          "data": {
            "text/plain": [
              "count    101231.000000\n",
              "mean         89.021751\n",
              "std         133.891492\n",
              "min           0.000000\n",
              "25%           6.113609\n",
              "50%          30.806404\n",
              "75%         115.011346\n",
              "max         978.979438\n",
              "Name: timestamp, dtype: float64"
            ]
          },
          "metadata": {
            "tags": []
          },
          "execution_count": 24
        }
      ]
    },
    {
      "cell_type": "code",
      "metadata": {
        "colab": {
          "base_uri": "https://localhost:8080/",
          "height": 298
        },
        "id": "ew2EZ-TLhsMU",
        "outputId": "db24a2f0-b6c5-4e52-c16b-704687f089c0"
      },
      "source": [
        "# %time\n",
        "timestamp_in_days.hist(bins=50, figsize=(20, 5))\n",
        "plt.title('')"
      ],
      "execution_count": 25,
      "outputs": [
        {
          "output_type": "execute_result",
          "data": {
            "text/plain": [
              "Text(0.5, 1.0, '')"
            ]
          },
          "metadata": {
            "tags": []
          },
          "execution_count": 25
        },
        {
          "output_type": "display_data",
          "data": {
            "image/png": "[encoded data removed]",
            "text/plain": [
              "<Figure size 1440x360 with 1 Axes>"
            ]
          },
          "metadata": {
            "tags": [],
            "needs_background": "light"
          }
        }
      ]
    },
    {
      "cell_type": "markdown",
      "metadata": {
        "id": "RX-P3g-JnU95"
      },
      "source": [
        "Let plot to see the distribution of the data, along with summary statistics. The majority of the events are from users accounts that are less than 200 days old."
      ]
    },
    {
      "cell_type": "code",
      "metadata": {
        "colab": {
          "base_uri": "https://localhost:8080/",
          "height": 265
        },
        "id": "RQ8eQm3ndKk0",
        "outputId": "cf804526-9284-4775-bb65-2ff2c0227ca5"
      },
      "source": [
        "timestamp_in_days.plot(kind='box')\n",
        "plt.ylabel('timestamp_in_days')\n",
        "plt.show()"
      ],
      "execution_count": 26,
      "outputs": [
        {
          "output_type": "display_data",
          "data": {
            "image/png": "[encoded data removed]",
            "text/plain": [
              "<Figure size 432x288 with 1 Axes>"
            ]
          },
          "metadata": {
            "tags": [],
            "needs_background": "light"
          }
        }
      ]
    },
    {
      "cell_type": "markdown",
      "metadata": {
        "id": "f4E1fPS7dU2R"
      },
      "source": [
        "A boxplot would be more informative with a log y-scale"
      ]
    },
    {
      "cell_type": "code",
      "metadata": {
        "id": "1XIlEs9WheWY",
        "colab": {
          "base_uri": "https://localhost:8080/",
          "height": 265
        },
        "outputId": "04ea516a-f2f2-4c6a-fff2-1a1ab3d233fe"
      },
      "source": [
        "timestamp_in_days.plot(kind='box', logy=True)\n",
        "plt.ylabel('log(timestamp_in_days)')\n",
        "plt.show()"
      ],
      "execution_count": 27,
      "outputs": [
        {
          "output_type": "display_data",
          "data": {
            "image/png": "[encoded data removed]",
            "text/plain": [
              "<Figure size 432x288 with 1 Axes>"
            ]
          },
          "metadata": {
            "tags": [],
            "needs_background": "light"
          }
        }
      ]
    },
    {
      "cell_type": "markdown",
      "metadata": {
        "id": "nSfWKNg8ib2w"
      },
      "source": [
        ""
      ]
    },
    {
      "cell_type": "markdown",
      "metadata": {
        "id": "CRlpiA6anba7"
      },
      "source": [
        "A box plot shows that that the timestamps generally have values 6 days and 105 days. \n",
        "\n",
        "It would be useful to check later if some users use the platform much more than others.\n",
        "\n",
        "There is a right-skewness but no reason yet to consider these as outliers to drop or correct.\n",
        "\n",
        "Most of the data entries were from relatively \"young\" user accounts, while a minority of data are from older user accounts. The units here are milliseconds since account creations, so the average action took place about 0.23 years after account creation."
      ]
    },
    {
      "cell_type": "code",
      "metadata": {
        "colab": {
          "base_uri": "https://localhost:8080/"
        },
        "id": "e3nMfBWs32zq",
        "outputId": "5fb0ef76-6156-4b3b-ced9-ac692b79983b"
      },
      "source": [
        "#Add this to the df as a column\r\n",
        "df['timestamp_in_days'] = timestamp_in_days\r\n",
        "df.shape"
      ],
      "execution_count": 28,
      "outputs": [
        {
          "output_type": "stream",
          "text": [
            "/usr/local/lib/python3.6/dist-packages/ipykernel_launcher.py:2: SettingWithCopyWarning: \n",
            "A value is trying to be set on a copy of a slice from a DataFrame.\n",
            "Try using .loc[row_indexer,col_indexer] = value instead\n",
            "\n",
            "See the caveats in the documentation: https://pandas.pydata.org/pandas-docs/stable/user_guide/indexing.html#returning-a-view-versus-a-copy\n",
            "  \n"
          ],
          "name": "stderr"
        },
        {
          "output_type": "execute_result",
          "data": {
            "text/plain": [
              "(101231, 10)"
            ]
          },
          "metadata": {
            "tags": []
          },
          "execution_count": 28
        }
      ]
    },
    {
      "cell_type": "markdown",
      "metadata": {
        "id": "V3WKTd8voCvk"
      },
      "source": [
        "##user_id\n",
        "\n",
        "This is presumed to a unique user id that is randomly distributed to each user, with one per user.\n",
        "\n",
        "This data can be used to relate data etries from the same users through out the data set.\n"
      ]
    },
    {
      "cell_type": "code",
      "metadata": {
        "id": "QJ5rEiUCou6F",
        "colab": {
          "base_uri": "https://localhost:8080/"
        },
        "outputId": "22ccbf4d-e710-4898-c684-5626b1076b25"
      },
      "source": [
        "#Count the unique users in this data set\n",
        "unique_users = df['user_id'].unique()\n",
        "unique_users"
      ],
      "execution_count": 29,
      "outputs": [
        {
          "output_type": "execute_result",
          "data": {
            "text/plain": [
              "[115, 13134, 24418, 53842, 91216, ..., 2147375580, 2147413636, 2147419988, 2147470770, 2147481750]\n",
              "Length: 67050\n",
              "Categories (67050, int64): [115, 13134, 24418, 53842, ..., 2147413636, 2147419988, 2147470770,\n",
              "                            2147481750]"
            ]
          },
          "metadata": {
            "tags": []
          },
          "execution_count": 29
        }
      ]
    },
    {
      "cell_type": "code",
      "metadata": {
        "colab": {
          "base_uri": "https://localhost:8080/"
        },
        "id": "Bd74PGSIWNXN",
        "outputId": "6d68197f-2db0-48bd-bcde-ef31688f523e"
      },
      "source": [
        "user_id_value_counts = df['user_id'].value_counts()\n",
        "user_id_value_counts"
      ],
      "execution_count": 30,
      "outputs": [
        {
          "output_type": "execute_result",
          "data": {
            "text/plain": [
              "801103753     18\n",
              "1615528747    17\n",
              "1047202059    17\n",
              "1478712595    17\n",
              "1660941992    17\n",
              "              ..\n",
              "1368381960     0\n",
              "1368386038     0\n",
              "1368387035     0\n",
              "1368393282     0\n",
              "1077713479     0\n",
              "Name: user_id, Length: 393656, dtype: int64"
            ]
          },
          "metadata": {
            "tags": []
          },
          "execution_count": 30
        }
      ]
    },
    {
      "cell_type": "code",
      "metadata": {
        "colab": {
          "base_uri": "https://localhost:8080/",
          "height": 336
        },
        "id": "B1gKXkajWPu0",
        "outputId": "2d9d5de0-469b-40eb-d8d0-280cb726f14c"
      },
      "source": [
        "user_id_value_counts[:100].plot(kind='bar')"
      ],
      "execution_count": 31,
      "outputs": [
        {
          "output_type": "execute_result",
          "data": {
            "text/plain": [
              "<matplotlib.axes._subplots.AxesSubplot at 0x7f63dc3ddc88>"
            ]
          },
          "metadata": {
            "tags": []
          },
          "execution_count": 31
        },
        {
          "output_type": "display_data",
          "data": {
            "image/png": "[encoded data removed]",
            "text/plain": [
              "<Figure size 432x288 with 1 Axes>"
            ]
          },
          "metadata": {
            "tags": [],
            "needs_background": "light"
          }
        }
      ]
    },
    {
      "cell_type": "code",
      "metadata": {
        "colab": {
          "base_uri": "https://localhost:8080/",
          "height": 282
        },
        "id": "iuCW65QbXauO",
        "outputId": "57491947-98a7-4c8b-90b9-3318c9ccbae5"
      },
      "source": [
        "user_id_value_counts.hist(bins=100)"
      ],
      "execution_count": 32,
      "outputs": [
        {
          "output_type": "execute_result",
          "data": {
            "text/plain": [
              "<matplotlib.axes._subplots.AxesSubplot at 0x7f63dc0ef7f0>"
            ]
          },
          "metadata": {
            "tags": []
          },
          "execution_count": 32
        },
        {
          "output_type": "display_data",
          "data": {
            "image/png": "[encoded data removed]",
            "text/plain": [
              "<Figure size 432x288 with 1 Axes>"
            ]
          },
          "metadata": {
            "tags": [],
            "needs_background": "light"
          }
        }
      ]
    },
    {
      "cell_type": "markdown",
      "metadata": {
        "id": "C4FHOVxnX3ID"
      },
      "source": [
        "We can see that a small minority of users generate most of the "
      ]
    },
    {
      "cell_type": "code",
      "metadata": {
        "colab": {
          "base_uri": "https://localhost:8080/",
          "height": 282
        },
        "id": "aPIbJFBnXqqh",
        "outputId": "85ddb123-28ce-42bd-9bd4-573fe8ef039b"
      },
      "source": [
        "user_id_value_counts.hist(cumulative=True, bins=100)"
      ],
      "execution_count": 33,
      "outputs": [
        {
          "output_type": "execute_result",
          "data": {
            "text/plain": [
              "<matplotlib.axes._subplots.AxesSubplot at 0x7f63dc062390>"
            ]
          },
          "metadata": {
            "tags": []
          },
          "execution_count": 33
        },
        {
          "output_type": "display_data",
          "data": {
            "image/png": "[encoded data removed]",
            "text/plain": [
              "<Figure size 432x288 with 1 Axes>"
            ]
          },
          "metadata": {
            "tags": [],
            "needs_background": "light"
          }
        }
      ]
    },
    {
      "cell_type": "markdown",
      "metadata": {
        "id": "XvTpyNCwTyK-"
      },
      "source": [
        "##content_id\n",
        "\n",
        "How many different content_id are there? How often does the most common content_ID occur? Does any small group of content_ids form a disproportionate amount of the events?"
      ]
    },
    {
      "cell_type": "code",
      "metadata": {
        "colab": {
          "base_uri": "https://localhost:8080/"
        },
        "id": "tdaRHZWmk7j8",
        "outputId": "3d6b05ea-e703-4f37-b674-dac8cc7be34b"
      },
      "source": [
        "df_content_id_value_counts = df['content_id'].value_counts()\n",
        "df_content_id_value_counts.describe()"
      ],
      "execution_count": 34,
      "outputs": [
        {
          "output_type": "execute_result",
          "data": {
            "text/plain": [
              "count    13782.000000\n",
              "mean         7.345160\n",
              "std         11.740262\n",
              "min          0.000000\n",
              "25%          2.000000\n",
              "50%          5.000000\n",
              "75%          9.000000\n",
              "max        230.000000\n",
              "Name: content_id, dtype: float64"
            ]
          },
          "metadata": {
            "tags": []
          },
          "execution_count": 34
        }
      ]
    },
    {
      "cell_type": "code",
      "metadata": {
        "id": "jDK8bmj93nDc",
        "colab": {
          "base_uri": "https://localhost:8080/",
          "height": 265
        },
        "outputId": "e7ea7c24-0036-43ef-bf10-4f10237ee532"
      },
      "source": [
        "#Count the unique content_ids and describe the distribution of the counts\n",
        "\n",
        "df_content_id_value_counts.hist(bins=100);"
      ],
      "execution_count": 35,
      "outputs": [
        {
          "output_type": "display_data",
          "data": {
            "image/png": "[encoded data removed]",
            "text/plain": [
              "<Figure size 432x288 with 1 Axes>"
            ]
          },
          "metadata": {
            "tags": [],
            "needs_background": "light"
          }
        }
      ]
    },
    {
      "cell_type": "markdown",
      "metadata": {
        "id": "Vxy5b6JKVbYt"
      },
      "source": [
        "We  13320 unique content ids.\n",
        "\n",
        "The most common content_id occured only {{{df_content_id_value_counts.max()}}} of the time. The average content_id occurs about 0.007% of the time.\n",
        "\n",
        "It may be useful to consider these in groups, because any single content_id is such a small part of the whole set.\n"
      ]
    },
    {
      "cell_type": "markdown",
      "metadata": {
        "id": "uuVlD4IiaVnz"
      },
      "source": [
        "##content_type_id\n",
        "\n",
        ">content_type_id: (int8) 0 if the event was a question being posed to the user, 1 if the event was the user watching a lecture.\n",
        "\n"
      ]
    },
    {
      "cell_type": "code",
      "metadata": {
        "id": "XnBG-YyjazTt",
        "colab": {
          "base_uri": "https://localhost:8080/"
        },
        "outputId": "43cec0b7-07e1-4712-d19f-f0992298a081"
      },
      "source": [
        "#Count the unique content_type_ids and describe the distribution of the counts\n",
        "content_type_id_value_counts = df['content_type_id'].value_counts()\n",
        "content_type_id_value_counts"
      ],
      "execution_count": 36,
      "outputs": [
        {
          "output_type": "execute_result",
          "data": {
            "text/plain": [
              "0    99218\n",
              "1     2013\n",
              "Name: content_type_id, dtype: int64"
            ]
          },
          "metadata": {
            "tags": []
          },
          "execution_count": 36
        }
      ]
    },
    {
      "cell_type": "code",
      "metadata": {
        "id": "GJlSNjADlVL4",
        "colab": {
          "base_uri": "https://localhost:8080/",
          "height": 279
        },
        "outputId": "ebdbdb42-6078-408d-90a4-eb566ce79647"
      },
      "source": [
        "content_type_id_value_counts.plot(kind='bar')"
      ],
      "execution_count": 37,
      "outputs": [
        {
          "output_type": "execute_result",
          "data": {
            "text/plain": [
              "<matplotlib.axes._subplots.AxesSubplot at 0x7f63dbe1aa90>"
            ]
          },
          "metadata": {
            "tags": []
          },
          "execution_count": 37
        },
        {
          "output_type": "display_data",
          "data": {
            "image/png": "[encoded data removed]",
            "text/plain": [
              "<Figure size 432x288 with 1 Axes>"
            ]
          },
          "metadata": {
            "tags": [],
            "needs_background": "light"
          }
        }
      ]
    },
    {
      "cell_type": "markdown",
      "metadata": {
        "id": "O5W_B_UXbPu3"
      },
      "source": [
        "We note that ther are only two content_id_types.\n",
        "\n",
        "\n",
        " Most of the data are questions posed to the user."
      ]
    },
    {
      "cell_type": "code",
      "metadata": {
        "id": "v0IpTtCZOCLp",
        "colab": {
          "base_uri": "https://localhost:8080/"
        },
        "outputId": "4df8fa3f-8582-41f7-ebd6-af5fd4724a72"
      },
      "source": [
        "print(f\"{100*content_type_id_value_counts[1]/len(df)}% of the data is the user watching a lecture.\")"
      ],
      "execution_count": 38,
      "outputs": [
        {
          "output_type": "stream",
          "text": [
            "1.9885213027629876% of the data is the user watching a lecture.\n"
          ],
          "name": "stdout"
        }
      ]
    },
    {
      "cell_type": "markdown",
      "metadata": {
        "id": "D2LQQeH7d3u1"
      },
      "source": [
        "##task_container_id\n",
        "\n",
        ">task_container_id: (int16) Id code for the batch of questions or lectures. For example, a user might see three questions in a row before seeing the explanations for any of them. Those three would all share a task_container_id."
      ]
    },
    {
      "cell_type": "code",
      "metadata": {
        "id": "OQ5BOshefFAK",
        "colab": {
          "base_uri": "https://localhost:8080/"
        },
        "outputId": "7355708c-9248-444e-f5c8-b4946c3c59d2"
      },
      "source": [
        "#Count the unique task_container_id and describe the distribution of the counts\n",
        "task_container_id = df['task_container_id']\n",
        "task_container_id.value_counts()"
      ],
      "execution_count": 39,
      "outputs": [
        {
          "output_type": "execute_result",
          "data": {
            "text/plain": [
              "14      834\n",
              "15      769\n",
              "4       693\n",
              "5       690\n",
              "7       685\n",
              "       ... \n",
              "7206      0\n",
              "7207      0\n",
              "7208      0\n",
              "7210      0\n",
              "9999      0\n",
              "Name: task_container_id, Length: 10000, dtype: int64"
            ]
          },
          "metadata": {
            "tags": []
          },
          "execution_count": 39
        }
      ]
    },
    {
      "cell_type": "code",
      "metadata": {
        "id": "lP6gQ6nNgIJA",
        "colab": {
          "base_uri": "https://localhost:8080/"
        },
        "outputId": "6e82ccf3-0047-432a-f4fd-a0295edcc38e"
      },
      "source": [
        "task_container_id.value_counts(normalize=True)"
      ],
      "execution_count": 40,
      "outputs": [
        {
          "output_type": "execute_result",
          "data": {
            "text/plain": [
              "14      0.008239\n",
              "15      0.007596\n",
              "4       0.006846\n",
              "5       0.006816\n",
              "7       0.006767\n",
              "          ...   \n",
              "7206    0.000000\n",
              "7207    0.000000\n",
              "7208    0.000000\n",
              "7210    0.000000\n",
              "9999    0.000000\n",
              "Name: task_container_id, Length: 10000, dtype: float64"
            ]
          },
          "metadata": {
            "tags": []
          },
          "execution_count": 40
        }
      ]
    },
    {
      "cell_type": "code",
      "metadata": {
        "id": "3t-j2KPsfZou",
        "colab": {
          "base_uri": "https://localhost:8080/",
          "height": 282
        },
        "outputId": "558ed457-2aff-4eae-866f-0faa883fed7f"
      },
      "source": [
        "#Count the unique task_container_id and describe the distribution of the counts\n",
        "\n",
        "task_container_id.hist(bins=30)"
      ],
      "execution_count": 41,
      "outputs": [
        {
          "output_type": "execute_result",
          "data": {
            "text/plain": [
              "<matplotlib.axes._subplots.AxesSubplot at 0x7f63dbd76a58>"
            ]
          },
          "metadata": {
            "tags": []
          },
          "execution_count": 41
        },
        {
          "output_type": "display_data",
          "data": {
            "image/png": "[encoded data removed]",
            "text/plain": [
              "<Figure size 432x288 with 1 Axes>"
            ]
          },
          "metadata": {
            "tags": [],
            "needs_background": "light"
          }
        }
      ]
    },
    {
      "cell_type": "markdown",
      "metadata": {
        "id": "4iZReXXZPb5Y"
      },
      "source": [
        "Of the 10000 task_container_ids, over 85% have a the data use the task_container_id with id less than 2000."
      ]
    },
    {
      "cell_type": "markdown",
      "metadata": {
        "id": "ZR6H9Ayxfsh0"
      },
      "source": [
        "It's notable that the task_container_ids with the lowest numbers tend to occur most frequently. Perhaps these id were not randomly assigned from a hash but were assigned sequentially.\n",
        "\n",
        "It could be useful to dig in to the docs and find if certain task_container_ids have further meaning which could be useful in feature engineering.\n",
        "\n",
        "Many of the highest numbered task_container_id only occur once. It''s possble that these task_container_id are unique to a user."
      ]
    },
    {
      "cell_type": "markdown",
      "metadata": {
        "id": "dBwARSCueM-R"
      },
      "source": [
        "##user_answer\n",
        "\n",
        ">user_answer: (int8) the user's answer to the question, if any. Read -1 as null, for lectures."
      ]
    },
    {
      "cell_type": "code",
      "metadata": {
        "id": "Ex2_QyIhh69H",
        "colab": {
          "base_uri": "https://localhost:8080/"
        },
        "outputId": "3652e935-f8a9-44ee-ec34-57958f56c477"
      },
      "source": [
        "#Count the unique task_container_id and describe the distribution of the counts\n",
        "user_answer_value_counts = df['user_answer'].value_counts()\n",
        "user_answer_value_counts"
      ],
      "execution_count": 42,
      "outputs": [
        {
          "output_type": "execute_result",
          "data": {
            "text/plain": [
              "0     28189\n",
              "1     27104\n",
              "3     26069\n",
              "2     17856\n",
              "-1     2013\n",
              "Name: user_answer, dtype: int64"
            ]
          },
          "metadata": {
            "tags": []
          },
          "execution_count": 42
        }
      ]
    },
    {
      "cell_type": "code",
      "metadata": {
        "id": "W4lroLuTiLLk",
        "colab": {
          "base_uri": "https://localhost:8080/"
        },
        "outputId": "ce0b19a7-ee99-4623-d23b-0bb6dc93a9a9"
      },
      "source": [
        "user_answer_value_counts_normalized = df['user_answer'].value_counts(normalize=True)\n",
        "user_answer_value_counts_normalized"
      ],
      "execution_count": 43,
      "outputs": [
        {
          "output_type": "execute_result",
          "data": {
            "text/plain": [
              "0     0.278462\n",
              "1     0.267744\n",
              "3     0.257520\n",
              "2     0.176389\n",
              "-1    0.019885\n",
              "Name: user_answer, dtype: float64"
            ]
          },
          "metadata": {
            "tags": []
          },
          "execution_count": 43
        }
      ]
    },
    {
      "cell_type": "code",
      "metadata": {
        "colab": {
          "base_uri": "https://localhost:8080/",
          "height": 282
        },
        "id": "f8QifbvYQmHP",
        "outputId": "7aeac16a-4ef6-4169-acd9-0f7ed87e5da5"
      },
      "source": [
        "user_answer_value_counts_normalized.plot(kind='bar')"
      ],
      "execution_count": 44,
      "outputs": [
        {
          "output_type": "execute_result",
          "data": {
            "text/plain": [
              "<matplotlib.axes._subplots.AxesSubplot at 0x7f63dbd2e518>"
            ]
          },
          "metadata": {
            "tags": []
          },
          "execution_count": 44
        },
        {
          "output_type": "display_data",
          "data": {
            "image/png": "[encoded data removed]",
            "text/plain": [
              "<Figure size 432x288 with 1 Axes>"
            ]
          },
          "metadata": {
            "tags": [],
            "needs_background": "light"
          }
        }
      ]
    },
    {
      "cell_type": "markdown",
      "metadata": {
        "id": "dRciaezpfR1S"
      },
      "source": [
        "W can see here that about 2% of the events ((encoded as '-1') were lectures --not questions--so no answer was asked from the student.\r\n",
        "\r\n",
        "Let's split the Dataframe so that we continue to examine only the questions, not the lectures."
      ]
    },
    {
      "cell_type": "markdown",
      "metadata": {
        "id": "C5ccYKfpf4hM"
      },
      "source": [
        "###Splitting the data into lectures and questions dataframes"
      ]
    },
    {
      "cell_type": "code",
      "metadata": {
        "colab": {
          "base_uri": "https://localhost:8080/"
        },
        "id": "x8YPBbjgfyE1",
        "outputId": "dfe37dbb-3f7d-47a4-cfc6-d0bf82d1c9ea"
      },
      "source": [
        "%time\r\n",
        "is_lecture = df['user_answer'] == -1\r\n",
        "is_question = df['user_answer'] != -1\r\n",
        "\r\n",
        "df_l = df[df['user_answer'] == -1]\r\n",
        "df_q = df[df['user_answer'] != -1]\r\n",
        "\r\n",
        "df_q.shape, df_l.shape"
      ],
      "execution_count": 45,
      "outputs": [
        {
          "output_type": "stream",
          "text": [
            "CPU times: user 2 µs, sys: 1 µs, total: 3 µs\n",
            "Wall time: 5.25 µs\n"
          ],
          "name": "stdout"
        },
        {
          "output_type": "execute_result",
          "data": {
            "text/plain": [
              "((99218, 10), (2013, 10))"
            ]
          },
          "metadata": {
            "tags": []
          },
          "execution_count": 45
        }
      ]
    },
    {
      "cell_type": "markdown",
      "metadata": {
        "id": "P9Y-AjRVhO8d"
      },
      "source": [
        "From here, let's consider only the questions data."
      ]
    },
    {
      "cell_type": "code",
      "metadata": {
        "id": "Kkuvcee8hTFf"
      },
      "source": [
        "df = df_q"
      ],
      "execution_count": 46,
      "outputs": []
    },
    {
      "cell_type": "code",
      "metadata": {
        "colab": {
          "base_uri": "https://localhost:8080/",
          "height": 623
        },
        "id": "-27SeDLpt9fH",
        "outputId": "c13e33f0-3f32-43c6-bb6a-e1c89c3cbdc0"
      },
      "source": [
        "df.answered_correctly = df.answered_correctly.astype(int)\n",
        "df.groupby(['user_answer'])[['answered_correctly']].mean().plot(kind='bar').set_ylabel('Count')\n",
        "df.groupby(['user_answer'])[['answered_correctly']].mean()"
      ],
      "execution_count": 47,
      "outputs": [
        {
          "output_type": "stream",
          "text": [
            "/usr/local/lib/python3.6/dist-packages/pandas/core/generic.py:5170: SettingWithCopyWarning: \n",
            "A value is trying to be set on a copy of a slice from a DataFrame.\n",
            "Try using .loc[row_indexer,col_indexer] = value instead\n",
            "\n",
            "See the caveats in the documentation: https://pandas.pydata.org/pandas-docs/stable/user_guide/indexing.html#returning-a-view-versus-a-copy\n",
            "  self[name] = value\n"
          ],
          "name": "stderr"
        },
        {
          "output_type": "execute_result",
          "data": {
            "text/html": [
              "<div>\n",
              "<style scoped>\n",
              "    .dataframe tbody tr th:only-of-type {\n",
              "        vertical-align: middle;\n",
              "    }\n",
              "\n",
              "    .dataframe tbody tr th {\n",
              "        vertical-align: top;\n",
              "    }\n",
              "\n",
              "    .dataframe thead th {\n",
              "        text-align: right;\n",
              "    }\n",
              "</style>\n",
              "<table border=\"1\" class=\"dataframe\">\n",
              "  <thead>\n",
              "    <tr style=\"text-align: right;\">\n",
              "      <th></th>\n",
              "      <th>answered_correctly</th>\n",
              "    </tr>\n",
              "    <tr>\n",
              "      <th>user_answer</th>\n",
              "      <th></th>\n",
              "    </tr>\n",
              "  </thead>\n",
              "  <tbody>\n",
              "    <tr>\n",
              "      <th>-1</th>\n",
              "      <td>NaN</td>\n",
              "    </tr>\n",
              "    <tr>\n",
              "      <th>0</th>\n",
              "      <td>0.661535</td>\n",
              "    </tr>\n",
              "    <tr>\n",
              "      <th>1</th>\n",
              "      <td>0.647653</td>\n",
              "    </tr>\n",
              "    <tr>\n",
              "      <th>2</th>\n",
              "      <td>0.666891</td>\n",
              "    </tr>\n",
              "    <tr>\n",
              "      <th>3</th>\n",
              "      <td>0.661437</td>\n",
              "    </tr>\n",
              "  </tbody>\n",
              "</table>\n",
              "</div>"
            ],
            "text/plain": [
              "             answered_correctly\n",
              "user_answer                    \n",
              "-1                          NaN\n",
              "0                      0.661535\n",
              "1                      0.647653\n",
              "2                      0.666891\n",
              "3                      0.661437"
            ]
          },
          "metadata": {
            "tags": []
          },
          "execution_count": 47
        },
        {
          "output_type": "display_data",
          "data": {
            "image/png": "[encoded data removed]",
            "text/plain": [
              "<Figure size 432x288 with 1 Axes>"
            ]
          },
          "metadata": {
            "tags": [],
            "needs_background": "light"
          }
        }
      ]
    },
    {
      "cell_type": "code",
      "metadata": {
        "id": "34WhxpHsvyKI"
      },
      "source": [
        "#Chi-Square https://machinelearningmastery.com/chi-squared-test-for-machine-learning/\n",
        "\n",
        "# Plot univar and bi-variate charts next to eachother"
      ],
      "execution_count": 48,
      "outputs": []
    },
    {
      "cell_type": "markdown",
      "metadata": {
        "id": "xSIuwcCRigik"
      },
      "source": [
        "It looks like the these are multiple choice answers. Of the 4 nonlecture types, it looks like there is a negative bias on category 2. That is, users answer '2' less often then expected from chance alone. It could be that the users are inherently biased aginast answering with  '2', or possibly, the questions creators are have biased questions so that users are less likely to select '2', or it could be something else. \n",
        "\n",
        "We may have to transform this column later so that the '-1' values are not in this coloumn, depending on the requirements of the pipelines we use later. An easy transform might be to asssign NaN to these '-1' values."
      ]
    },
    {
      "cell_type": "markdown",
      "metadata": {
        "id": "A-pMM2ZTeS_W"
      },
      "source": [
        "##answered_correctly (Target variable)\n",
        "\n",
        "`answered_correctly: (int8) if the user responded correctly. Read -1 as null, for lectures.`"
      ]
    },
    {
      "cell_type": "code",
      "metadata": {
        "id": "o1hI_zCQh7tG",
        "colab": {
          "base_uri": "https://localhost:8080/"
        },
        "outputId": "50c1f3f5-03c6-4ce8-fa99-0ba7a1ee7ec5"
      },
      "source": [
        "#Count the unique task_container_id and describe the distribution of the counts\n",
        "df['answered_correctly'].value_counts()"
      ],
      "execution_count": 49,
      "outputs": [
        {
          "output_type": "execute_result",
          "data": {
            "text/plain": [
              "1    65353\n",
              "0    33865\n",
              "Name: answered_correctly, dtype: int64"
            ]
          },
          "metadata": {
            "tags": []
          },
          "execution_count": 49
        }
      ]
    },
    {
      "cell_type": "code",
      "metadata": {
        "id": "XHPvuTXakGwI",
        "colab": {
          "base_uri": "https://localhost:8080/"
        },
        "outputId": "b1b2873b-cded-410f-ac7a-28563a3f9a87"
      },
      "source": [
        "#Check the frequency of each count\n",
        "df['answered_correctly'].value_counts(normalize=True)"
      ],
      "execution_count": 50,
      "outputs": [
        {
          "output_type": "execute_result",
          "data": {
            "text/plain": [
              "1    0.658681\n",
              "0    0.341319\n",
              "Name: answered_correctly, dtype: float64"
            ]
          },
          "metadata": {
            "tags": []
          },
          "execution_count": 50
        }
      ]
    },
    {
      "cell_type": "markdown",
      "metadata": {
        "id": "ihqiMSOfkX9_"
      },
      "source": [
        "The '-1' occurs here exactly as frequent as in user_answer. It might be best to seperate the lecture rows entirtely from the rest of the dataframe, rather than transform it."
      ]
    },
    {
      "cell_type": "markdown",
      "metadata": {
        "id": "STqeEFEGeakl"
      },
      "source": [
        "##prior_question_elapsed_time\n",
        "\n",
        "`prior_question_elapsed_time: (float32) The average time in milliseconds it took a user to answer each question in the previous question bundle, ignoring any lectures in between. Is null for a user's first question bundle or lecture. Note that the time is the average time a user took to solve each question in the previous bundle.`\n",
        "\n",
        "It might be possible to determine each user's first lecture from this point alone.\n",
        " "
      ]
    },
    {
      "cell_type": "code",
      "metadata": {
        "id": "jvMeCNSeh8V0",
        "colab": {
          "base_uri": "https://localhost:8080/"
        },
        "outputId": "0436bb85-697b-4ff7-bc6d-4745e0ebf703"
      },
      "source": [
        "#Count the unique prior_question_elapsed_time and describe the distribution of the counts\n",
        "prior_question_elapsed_time = df['prior_question_elapsed_time']\n",
        "prior_question_elapsed_time.value_counts()"
      ],
      "execution_count": 51,
      "outputs": [
        {
          "output_type": "execute_result",
          "data": {
            "text/plain": [
              "17000.0     5291\n",
              "16000.0     4737\n",
              "18000.0     4606\n",
              "19000.0     4094\n",
              "15000.0     3756\n",
              "            ... \n",
              "74333.0        1\n",
              "16400.0        1\n",
              "159250.0       1\n",
              "90666.0        1\n",
              "111250.0       1\n",
              "Name: prior_question_elapsed_time, Length: 1305, dtype: int64"
            ]
          },
          "metadata": {
            "tags": []
          },
          "execution_count": 51
        }
      ]
    },
    {
      "cell_type": "code",
      "metadata": {
        "id": "xbwUkAZKxTTJ",
        "colab": {
          "base_uri": "https://localhost:8080/"
        },
        "outputId": "1c99c48d-0c18-4698-af01-937d06ad21e9"
      },
      "source": [
        "#Check the frequency of each count\n",
        "prior_question_elapsed_time.value_counts(normalize=True)\n"
      ],
      "execution_count": 52,
      "outputs": [
        {
          "output_type": "execute_result",
          "data": {
            "text/plain": [
              "17000.0     0.053545\n",
              "16000.0     0.047939\n",
              "18000.0     0.046613\n",
              "19000.0     0.041431\n",
              "15000.0     0.038011\n",
              "              ...   \n",
              "74333.0     0.000010\n",
              "16400.0     0.000010\n",
              "159250.0    0.000010\n",
              "90666.0     0.000010\n",
              "111250.0    0.000010\n",
              "Name: prior_question_elapsed_time, Length: 1305, dtype: float64"
            ]
          },
          "metadata": {
            "tags": []
          },
          "execution_count": 52
        }
      ]
    },
    {
      "cell_type": "code",
      "metadata": {
        "id": "zwisJ7R5CYe5",
        "colab": {
          "base_uri": "https://localhost:8080/",
          "height": 333
        },
        "outputId": "c2dff59d-8540-4fa6-ef3b-ce94f79e0d5d"
      },
      "source": [
        "\n",
        "plt.hist(prior_question_elapsed_time, bins=10000)\n",
        "plt.xlim((14000, 21000))\n",
        "plt.show()\n"
      ],
      "execution_count": 53,
      "outputs": [
        {
          "output_type": "stream",
          "text": [
            "/usr/local/lib/python3.6/dist-packages/numpy/lib/histograms.py:839: RuntimeWarning: invalid value encountered in greater_equal\n",
            "  keep = (tmp_a >= first_edge)\n",
            "/usr/local/lib/python3.6/dist-packages/numpy/lib/histograms.py:840: RuntimeWarning: invalid value encountered in less_equal\n",
            "  keep &= (tmp_a <= last_edge)\n"
          ],
          "name": "stderr"
        },
        {
          "output_type": "display_data",
          "data": {
            "image/png": "[encoded data removed]",
            "text/plain": [
              "<Figure size 432x288 with 1 Axes>"
            ]
          },
          "metadata": {
            "tags": [],
            "needs_background": "light"
          }
        }
      ]
    },
    {
      "cell_type": "markdown",
      "metadata": {
        "id": "1KbIhI1rx_zJ"
      },
      "source": [
        "Well, this looks peculiar. The top 5 value counts are 17.000 seconds, 16.000 seconds, 18.000 seconds, 19.000 seconds, and 15.000. The units is milliseconds, but these top five values appear to either have been rounded to the nearest second, or the students are machinely-like in their precision of submitting the answer on the exact milliseconds so that the delay is multiple of 1000 millisenconds. \n",
        "\n",
        "Alternatively, an automated tool, like a test-taking bot--designed to harvest test questions by guessing any answer while scraping the question content to store in a database for use later--has been answering questions with a simulated delay that can be modeled by a discrete normal distribution with mean 17000. The magnitude of this hypoithesized automnation is such that around 20% of all answers submitted could fit this model.\n",
        "\n",
        "Cross-referencing user_ids connected to these anomolus prior_question_elapsed_time values could lend support to the hypothesis if there are a small number of user ids who make a disprotionate amount of all answers.\n",
        "\n",
        "If the hypothesis is true,\n",
        "It may be useful later to feature-engineer these automated users (bots) into their own column or dataframe, as their behavior could be quite different from the human users. It may be easier to model the responses of the bots seperately from the humans.\n",
        "\n",
        "An alternative explanation could be that, assuming this educational platform is accessed via a web browser, some web browsers may round times  to whole-number of seconds. It unlikely though. Also, this fails to address the simulated discrete normal distribution about 17.000 seconds."
      ]
    },
    {
      "cell_type": "markdown",
      "metadata": {
        "id": "-aqhaiwj4gM3"
      },
      "source": [
        "Let's continue without seperating the two populations for now..."
      ]
    },
    {
      "cell_type": "code",
      "metadata": {
        "id": "1iXGId1h3JBb",
        "colab": {
          "base_uri": "https://localhost:8080/",
          "height": 282
        },
        "outputId": "67ede577-48c4-44c2-fbfe-705559a11ac4"
      },
      "source": [
        "prior_question_elapsed_time.hist(bins=50)"
      ],
      "execution_count": 54,
      "outputs": [
        {
          "output_type": "execute_result",
          "data": {
            "text/plain": [
              "<matplotlib.axes._subplots.AxesSubplot at 0x7f63dbc9b8d0>"
            ]
          },
          "metadata": {
            "tags": []
          },
          "execution_count": 54
        },
        {
          "output_type": "display_data",
          "data": {
            "image/png": "[encoded data removed]",
            "text/plain": [
              "<Figure size 432x288 with 1 Axes>"
            ]
          },
          "metadata": {
            "tags": [],
            "needs_background": "light"
          }
        }
      ]
    },
    {
      "cell_type": "code",
      "metadata": {
        "id": "CD5ZZyC71z4r",
        "colab": {
          "base_uri": "https://localhost:8080/"
        },
        "outputId": "9c03857b-ad90-4066-d0be-175b1eeaee6e"
      },
      "source": [
        "prior_question_elapsed_time.describe()"
      ],
      "execution_count": 55,
      "outputs": [
        {
          "output_type": "execute_result",
          "data": {
            "text/plain": [
              "count     98814.000000\n",
              "mean      25413.342704\n",
              "std       19982.012162\n",
              "min           0.000000\n",
              "25%       16000.000000\n",
              "50%       21000.000000\n",
              "75%       29666.000000\n",
              "max      300000.000000\n",
              "Name: prior_question_elapsed_time, dtype: float64"
            ]
          },
          "metadata": {
            "tags": []
          },
          "execution_count": 55
        }
      ]
    },
    {
      "cell_type": "code",
      "metadata": {
        "id": "4R6XsG6T4OF6",
        "colab": {
          "base_uri": "https://localhost:8080/",
          "height": 283
        },
        "outputId": "35c92fb2-3cb1-4fc9-c88d-6317696d3ea7"
      },
      "source": [
        "prior_question_elapsed_time.plot(kind='box')"
      ],
      "execution_count": 56,
      "outputs": [
        {
          "output_type": "execute_result",
          "data": {
            "text/plain": [
              "<matplotlib.axes._subplots.AxesSubplot at 0x7f63dc93fe80>"
            ]
          },
          "metadata": {
            "tags": []
          },
          "execution_count": 56
        },
        {
          "output_type": "display_data",
          "data": {
            "image/png": "[encoded data removed]",
            "text/plain": [
              "<Figure size 432x288 with 1 Axes>"
            ]
          },
          "metadata": {
            "tags": [],
            "needs_background": "light"
          }
        }
      ]
    },
    {
      "cell_type": "markdown",
      "metadata": {
        "id": "kikUcyYfRUZf"
      },
      "source": [
        "Using a log scale on the y-axis for clarity:"
      ]
    },
    {
      "cell_type": "code",
      "metadata": {
        "id": "-_jdOoDpnyG3",
        "colab": {
          "base_uri": "https://localhost:8080/",
          "height": 283
        },
        "outputId": "f800dcae-5174-4cf8-9d5b-5339ecbb4aee"
      },
      "source": [
        "prior_question_elapsed_time.plot(kind='box', logy=True)"
      ],
      "execution_count": 57,
      "outputs": [
        {
          "output_type": "execute_result",
          "data": {
            "text/plain": [
              "<matplotlib.axes._subplots.AxesSubplot at 0x7f63dbb9eba8>"
            ]
          },
          "metadata": {
            "tags": []
          },
          "execution_count": 57
        },
        {
          "output_type": "display_data",
          "data": {
            "image/png": "[encoded data removed]",
            "text/plain": [
              "<Figure size 432x288 with 1 Axes>"
            ]
          },
          "metadata": {
            "tags": [],
            "needs_background": "light"
          }
        }
      ]
    },
    {
      "cell_type": "markdown",
      "metadata": {
        "id": "TjLUwisCxvAQ"
      },
      "source": [
        "Mean time to answer the last question is about 25 seconds; the median is 21.000 seconds.\n",
        "\n",
        "The effect of the hypothesized bot subpopulation is large enough that it is convolutes our summary statistics on the whole population. We see that the 25th-percentile and median are 16.000 seconds and 21.000 seconds. \n",
        "\n",
        "It looks like there a hard cutoff on answer times at 5 minutes (300000 milliseconds).\n",
        "\n",
        "We might have to discard answers given with delay 0, as I don't know what they mean yet.\n"
      ]
    },
    {
      "cell_type": "markdown",
      "metadata": {
        "id": "mR5jNmX5xu-f"
      },
      "source": [
        ""
      ]
    },
    {
      "cell_type": "markdown",
      "metadata": {
        "id": "1nkMDouaee1G"
      },
      "source": [
        "##prior_question_had_explanation\n",
        "\n",
        "`prior_question_had_explanation: (bool) Whether or not the user saw an explanation and the correct response(s) after answering the previous question bundle, ignoring any lectures in between. The value is shared across a single question bundle, and is null for a user's first question bundle or lecture. Typically the first several questions a user sees were part of an onboarding diagnostic test where they did not get any feedback.`\n",
        "\n",
        "\n",
        "\n"
      ]
    },
    {
      "cell_type": "markdown",
      "metadata": {
        "id": "rywVkA6vJgTn"
      },
      "source": [
        ""
      ]
    },
    {
      "cell_type": "code",
      "metadata": {
        "id": "6beSdjHiJteu"
      },
      "source": [
        "prior_question_had_explanation = df['prior_question_had_explanation']"
      ],
      "execution_count": 58,
      "outputs": []
    },
    {
      "cell_type": "code",
      "metadata": {
        "id": "6Isp4-BLekc1",
        "colab": {
          "base_uri": "https://localhost:8080/"
        },
        "outputId": "173be549-3443-4b1f-9a65-256b58a2396e"
      },
      "source": [
        "prior_question_had_explanation.value_counts()"
      ],
      "execution_count": 59,
      "outputs": [
        {
          "output_type": "execute_result",
          "data": {
            "text/plain": [
              "True     90068\n",
              "False     9150\n",
              "Name: prior_question_had_explanation, dtype: int64"
            ]
          },
          "metadata": {
            "tags": []
          },
          "execution_count": 59
        }
      ]
    },
    {
      "cell_type": "markdown",
      "metadata": {
        "id": "ai0cenveJ9RB"
      },
      "source": [
        "I'm not quite sure what this means here. I might have to read the documentation more to learn about what the nearly 90% fraction of prioor questions that had an explanation after."
      ]
    },
    {
      "cell_type": "code",
      "metadata": {
        "id": "LGRwTpeWJo2P"
      },
      "source": [
        ""
      ],
      "execution_count": 59,
      "outputs": []
    },
    {
      "cell_type": "markdown",
      "metadata": {
        "id": "C8aTA0VWPX_s"
      },
      "source": [
        "#Exploring the data in each column vs the target variable."
      ]
    },
    {
      "cell_type": "code",
      "metadata": {
        "id": "6hw3iaGe8sjR"
      },
      "source": [
        "#Create a list of features\n",
        "target_var_str = 'answered_correctly'\n",
        "features = [feature for feature in df.columns if feature not in [target_var_str]]"
      ],
      "execution_count": 60,
      "outputs": []
    },
    {
      "cell_type": "markdown",
      "metadata": {
        "id": "mRCy0i9dZ-I9"
      },
      "source": [
        "##Numerical Variables vs the target variable (Box plots)"
      ]
    },
    {
      "cell_type": "markdown",
      "metadata": {
        "id": "cQOC5OJ8mj1s"
      },
      "source": [
        "###prior_question_elapsed_time"
      ]
    },
    {
      "cell_type": "code",
      "metadata": {
        "colab": {
          "base_uri": "https://localhost:8080/",
          "height": 358
        },
        "id": "YpWJn7VBpvu6",
        "outputId": "f7ca5d40-8b14-420c-e30a-756bd6d1680e"
      },
      "source": [
        "# df.plot(kind='box', x='answered_correctly', y='prior_question_elapsed_time', logy=True)\n",
        "\n",
        "df.boxplot(column=['prior_question_elapsed_time'],by = ['answered_correctly'], rot=90, figsize=(10,5)).set_yscale('log')"
      ],
      "execution_count": 61,
      "outputs": [
        {
          "output_type": "display_data",
          "data": {
            "image/png": "[encoded data removed]",
            "text/plain": [
              "<Figure size 720x360 with 1 Axes>"
            ]
          },
          "metadata": {
            "tags": [],
            "needs_background": "light"
          }
        }
      ]
    },
    {
      "cell_type": "code",
      "metadata": {
        "colab": {
          "base_uri": "https://localhost:8080/"
        },
        "id": "7x-gmdNHrePl",
        "outputId": "d0b9c61b-e36c-4664-fc11-f205425cd0ca"
      },
      "source": [
        "df.isna().count()"
      ],
      "execution_count": 62,
      "outputs": [
        {
          "output_type": "execute_result",
          "data": {
            "text/plain": [
              "timestamp                         99218\n",
              "user_id                           99218\n",
              "content_id                        99218\n",
              "content_type_id                   99218\n",
              "task_container_id                 99218\n",
              "user_answer                       99218\n",
              "answered_correctly                99218\n",
              "prior_question_elapsed_time       99218\n",
              "prior_question_had_explanation    99218\n",
              "timestamp_in_days                 99218\n",
              "dtype: int64"
            ]
          },
          "metadata": {
            "tags": []
          },
          "execution_count": 62
        }
      ]
    },
    {
      "cell_type": "code",
      "metadata": {
        "colab": {
          "base_uri": "https://localhost:8080/"
        },
        "id": "exqp2JUkqZom",
        "outputId": "d5dc6dfb-3ec7-4cd6-f1f6-e819f25c17ca"
      },
      "source": [
        "from scipy import stats\n",
        "rvs1 = df[df['answered_correctly'] == 0]['prior_question_elapsed_time'].dropna()\n",
        "rvs2 = df[df['answered_correctly'] == 1]['prior_question_elapsed_time'].dropna()\n",
        "stats.ttest_ind(rvs1,rvs2)"
      ],
      "execution_count": 63,
      "outputs": [
        {
          "output_type": "execute_result",
          "data": {
            "text/plain": [
              "Ttest_indResult(statistic=2.616929787853998, pvalue=0.00887380964374365)"
            ]
          },
          "metadata": {
            "tags": []
          },
          "execution_count": 63
        }
      ]
    },
    {
      "cell_type": "code",
      "metadata": {
        "colab": {
          "base_uri": "https://localhost:8080/"
        },
        "id": "pvSUkPZjsehn",
        "outputId": "888723b9-aa5a-44dd-cf1f-371f4b4fae5a"
      },
      "source": [
        "rvs1.mean(), rvs2.mean()"
      ],
      "execution_count": 64,
      "outputs": [
        {
          "output_type": "execute_result",
          "data": {
            "text/plain": [
              "(25644.347430502046, 25293.559057659208)"
            ]
          },
          "metadata": {
            "tags": []
          },
          "execution_count": 64
        }
      ]
    },
    {
      "cell_type": "markdown",
      "metadata": {
        "id": "pYnm9SKklp9S"
      },
      "source": [
        "The average prior_question_elapsed_time that is smaller correlates with the correct answer on the current question. "
      ]
    },
    {
      "cell_type": "code",
      "metadata": {
        "colab": {
          "base_uri": "https://localhost:8080/",
          "height": 255
        },
        "id": "tJAEjbau9Jt8",
        "outputId": "5d800f47-1374-48f8-f6d5-a125d180df3e"
      },
      "source": [
        "df['prior_question_elapsed_time'].dropna()\n",
        "df.head()"
      ],
      "execution_count": 65,
      "outputs": [
        {
          "output_type": "execute_result",
          "data": {
            "text/html": [
              "<div>\n",
              "<style scoped>\n",
              "    .dataframe tbody tr th:only-of-type {\n",
              "        vertical-align: middle;\n",
              "    }\n",
              "\n",
              "    .dataframe tbody tr th {\n",
              "        vertical-align: top;\n",
              "    }\n",
              "\n",
              "    .dataframe thead th {\n",
              "        text-align: right;\n",
              "    }\n",
              "</style>\n",
              "<table border=\"1\" class=\"dataframe\">\n",
              "  <thead>\n",
              "    <tr style=\"text-align: right;\">\n",
              "      <th></th>\n",
              "      <th>timestamp</th>\n",
              "      <th>user_id</th>\n",
              "      <th>content_id</th>\n",
              "      <th>content_type_id</th>\n",
              "      <th>task_container_id</th>\n",
              "      <th>user_answer</th>\n",
              "      <th>answered_correctly</th>\n",
              "      <th>prior_question_elapsed_time</th>\n",
              "      <th>prior_question_had_explanation</th>\n",
              "      <th>timestamp_in_days</th>\n",
              "    </tr>\n",
              "    <tr>\n",
              "      <th>row_id</th>\n",
              "      <th></th>\n",
              "      <th></th>\n",
              "      <th></th>\n",
              "      <th></th>\n",
              "      <th></th>\n",
              "      <th></th>\n",
              "      <th></th>\n",
              "      <th></th>\n",
              "      <th></th>\n",
              "      <th></th>\n",
              "    </tr>\n",
              "  </thead>\n",
              "  <tbody>\n",
              "    <tr>\n",
              "      <th>0</th>\n",
              "      <td>0</td>\n",
              "      <td>115</td>\n",
              "      <td>5692</td>\n",
              "      <td>0</td>\n",
              "      <td>1</td>\n",
              "      <td>3</td>\n",
              "      <td>1</td>\n",
              "      <td>NaN</td>\n",
              "      <td>True</td>\n",
              "      <td>0.000000</td>\n",
              "    </tr>\n",
              "    <tr>\n",
              "      <th>1000</th>\n",
              "      <td>15092942969</td>\n",
              "      <td>13134</td>\n",
              "      <td>9155</td>\n",
              "      <td>0</td>\n",
              "      <td>299</td>\n",
              "      <td>3</td>\n",
              "      <td>1</td>\n",
              "      <td>27666.0</td>\n",
              "      <td>True</td>\n",
              "      <td>174.686840</td>\n",
              "    </tr>\n",
              "    <tr>\n",
              "      <th>2000</th>\n",
              "      <td>1623047964</td>\n",
              "      <td>24418</td>\n",
              "      <td>476</td>\n",
              "      <td>0</td>\n",
              "      <td>112</td>\n",
              "      <td>0</td>\n",
              "      <td>1</td>\n",
              "      <td>15000.0</td>\n",
              "      <td>True</td>\n",
              "      <td>18.785277</td>\n",
              "    </tr>\n",
              "    <tr>\n",
              "      <th>3000</th>\n",
              "      <td>4746311751</td>\n",
              "      <td>24418</td>\n",
              "      <td>5168</td>\n",
              "      <td>0</td>\n",
              "      <td>1000</td>\n",
              "      <td>1</td>\n",
              "      <td>1</td>\n",
              "      <td>6000.0</td>\n",
              "      <td>True</td>\n",
              "      <td>54.934164</td>\n",
              "    </tr>\n",
              "    <tr>\n",
              "      <th>4000</th>\n",
              "      <td>5617496174</td>\n",
              "      <td>24418</td>\n",
              "      <td>3746</td>\n",
              "      <td>0</td>\n",
              "      <td>1747</td>\n",
              "      <td>3</td>\n",
              "      <td>0</td>\n",
              "      <td>27000.0</td>\n",
              "      <td>True</td>\n",
              "      <td>65.017317</td>\n",
              "    </tr>\n",
              "  </tbody>\n",
              "</table>\n",
              "</div>"
            ],
            "text/plain": [
              "          timestamp user_id  ... prior_question_had_explanation timestamp_in_days\n",
              "row_id                       ...                                                 \n",
              "0                 0     115  ...                           True          0.000000\n",
              "1000    15092942969   13134  ...                           True        174.686840\n",
              "2000     1623047964   24418  ...                           True         18.785277\n",
              "3000     4746311751   24418  ...                           True         54.934164\n",
              "4000     5617496174   24418  ...                           True         65.017317\n",
              "\n",
              "[5 rows x 10 columns]"
            ]
          },
          "metadata": {
            "tags": []
          },
          "execution_count": 65
        }
      ]
    },
    {
      "cell_type": "markdown",
      "metadata": {
        "id": "hnVjX2IqmrOU"
      },
      "source": [
        "###content_id"
      ]
    },
    {
      "cell_type": "code",
      "metadata": {
        "id": "acngcQdUPb36",
        "colab": {
          "base_uri": "https://localhost:8080/",
          "height": 450
        },
        "outputId": "5c1ad075-ac72-431c-fbaf-9e1fe966bb70"
      },
      "source": [
        "df_1 = df.groupby(['content_id'])[['answered_correctly']].mean()\n",
        "# ax = df_1['content_id'].hist()\n",
        "df_1"
      ],
      "execution_count": 66,
      "outputs": [
        {
          "output_type": "execute_result",
          "data": {
            "text/html": [
              "<div>\n",
              "<style scoped>\n",
              "    .dataframe tbody tr th:only-of-type {\n",
              "        vertical-align: middle;\n",
              "    }\n",
              "\n",
              "    .dataframe tbody tr th {\n",
              "        vertical-align: top;\n",
              "    }\n",
              "\n",
              "    .dataframe thead th {\n",
              "        text-align: right;\n",
              "    }\n",
              "</style>\n",
              "<table border=\"1\" class=\"dataframe\">\n",
              "  <thead>\n",
              "    <tr style=\"text-align: right;\">\n",
              "      <th></th>\n",
              "      <th>answered_correctly</th>\n",
              "    </tr>\n",
              "    <tr>\n",
              "      <th>content_id</th>\n",
              "      <th></th>\n",
              "    </tr>\n",
              "  </thead>\n",
              "  <tbody>\n",
              "    <tr>\n",
              "      <th>0</th>\n",
              "      <td>1.000000</td>\n",
              "    </tr>\n",
              "    <tr>\n",
              "      <th>1</th>\n",
              "      <td>1.000000</td>\n",
              "    </tr>\n",
              "    <tr>\n",
              "      <th>2</th>\n",
              "      <td>0.605263</td>\n",
              "    </tr>\n",
              "    <tr>\n",
              "      <th>3</th>\n",
              "      <td>0.857143</td>\n",
              "    </tr>\n",
              "    <tr>\n",
              "      <th>4</th>\n",
              "      <td>0.655172</td>\n",
              "    </tr>\n",
              "    <tr>\n",
              "      <th>...</th>\n",
              "      <td>...</td>\n",
              "    </tr>\n",
              "    <tr>\n",
              "      <th>32535</th>\n",
              "      <td>NaN</td>\n",
              "    </tr>\n",
              "    <tr>\n",
              "      <th>32570</th>\n",
              "      <td>NaN</td>\n",
              "    </tr>\n",
              "    <tr>\n",
              "      <th>32604</th>\n",
              "      <td>NaN</td>\n",
              "    </tr>\n",
              "    <tr>\n",
              "      <th>32625</th>\n",
              "      <td>NaN</td>\n",
              "    </tr>\n",
              "    <tr>\n",
              "      <th>32736</th>\n",
              "      <td>NaN</td>\n",
              "    </tr>\n",
              "  </tbody>\n",
              "</table>\n",
              "<p>13782 rows × 1 columns</p>\n",
              "</div>"
            ],
            "text/plain": [
              "            answered_correctly\n",
              "content_id                    \n",
              "0                     1.000000\n",
              "1                     1.000000\n",
              "2                     0.605263\n",
              "3                     0.857143\n",
              "4                     0.655172\n",
              "...                        ...\n",
              "32535                      NaN\n",
              "32570                      NaN\n",
              "32604                      NaN\n",
              "32625                      NaN\n",
              "32736                      NaN\n",
              "\n",
              "[13782 rows x 1 columns]"
            ]
          },
          "metadata": {
            "tags": []
          },
          "execution_count": 66
        }
      ]
    },
    {
      "cell_type": "markdown",
      "metadata": {
        "id": "1SEjA7_wnjKj"
      },
      "source": [
        "We note that there are 13 thousand unique content_ids and the first 2 were correctly answered by everyone."
      ]
    },
    {
      "cell_type": "code",
      "metadata": {
        "colab": {
          "base_uri": "https://localhost:8080/",
          "height": 313
        },
        "id": "RG1Psc1vns8B",
        "outputId": "4395e7da-2b1a-4747-a908-70fbfbbe50d2"
      },
      "source": [
        "df_1.hist(bins=100)\r\n",
        "plt.title('Frequency of content_ids grouped by mean answered_correctly');\r\n",
        "plt.xlabel('Mean answered_correctly')\r\n",
        "plt.ylabel('Frequency of content_ids')"
      ],
      "execution_count": 67,
      "outputs": [
        {
          "output_type": "execute_result",
          "data": {
            "text/plain": [
              "Text(0, 0.5, 'Frequency of content_ids')"
            ]
          },
          "metadata": {
            "tags": []
          },
          "execution_count": 67
        },
        {
          "output_type": "display_data",
          "data": {
            "image/png": "[encoded data removed]",
            "text/plain": [
              "<Figure size 432x288 with 1 Axes>"
            ]
          },
          "metadata": {
            "tags": [],
            "needs_background": "light"
          }
        }
      ]
    },
    {
      "cell_type": "markdown",
      "metadata": {
        "id": "dv_k5JOtoE6Q"
      },
      "source": [
        "There are lots of content_ids where every question was answered correctly."
      ]
    },
    {
      "cell_type": "markdown",
      "metadata": {
        "id": "F6ShBCLCULF4"
      },
      "source": [
        "###user_id grouped by account age\n",
        "\n",
        "Do older user accounts have a higher rate of answering correctly?"
      ]
    },
    {
      "cell_type": "code",
      "metadata": {
        "id": "UInWL3qTUUVx"
      },
      "source": [
        "# We can group the users by account age by finding the answer for each user with the largest stamp. \n",
        "user_id_timestamp_max = df.groupby('user_id')['timestamp'].max()"
      ],
      "execution_count": 68,
      "outputs": []
    },
    {
      "cell_type": "code",
      "metadata": {
        "colab": {
          "base_uri": "https://localhost:8080/"
        },
        "id": "4ouWBed6q4Oe",
        "outputId": "bb773405-2040-4f48-9848-b735e98848b4"
      },
      "source": [
        "user_id_timestamp_max.sort_values(ascending=False).map(ms_to_days)"
      ],
      "execution_count": 69,
      "outputs": [
        {
          "output_type": "execute_result",
          "data": {
            "text/plain": [
              "user_id\n",
              "153187243     978.979438\n",
              "550249756     943.922619\n",
              "937249824     940.061026\n",
              "311071830     931.350724\n",
              "697068556     929.149646\n",
              "                 ...    \n",
              "2147464207           NaN\n",
              "2147469944           NaN\n",
              "2147470777           NaN\n",
              "2147482216           NaN\n",
              "2147482888           NaN\n",
              "Name: timestamp, Length: 393656, dtype: float64"
            ]
          },
          "metadata": {
            "tags": []
          },
          "execution_count": 69
        }
      ]
    },
    {
      "cell_type": "markdown",
      "metadata": {
        "id": "VFLcdNrqrW1p"
      },
      "source": [
        "The oldest accounts are over 900 days old."
      ]
    },
    {
      "cell_type": "code",
      "metadata": {
        "id": "N17vfNT2yNKo"
      },
      "source": [
        ""
      ],
      "execution_count": 69,
      "outputs": []
    },
    {
      "cell_type": "code",
      "metadata": {
        "colab": {
          "base_uri": "https://localhost:8080/",
          "height": 791
        },
        "id": "ZbJNqpsax8KA",
        "outputId": "7363a806-5e4a-498b-f735-a3ea99135092"
      },
      "source": [
        "df_temp = pd.DataFrame(user_id_timestamp_max)\r\n",
        "pd.merge(df, df_temp, on='user_id')\r\n",
        "df.boxplot(column=['timestamp'],by = ['answered_correctly'], rot=90, figsize=(10,5)).set_yscale('log')\r\n",
        "df_temp"
      ],
      "execution_count": 70,
      "outputs": [
        {
          "output_type": "execute_result",
          "data": {
            "text/html": [
              "<div>\n",
              "<style scoped>\n",
              "    .dataframe tbody tr th:only-of-type {\n",
              "        vertical-align: middle;\n",
              "    }\n",
              "\n",
              "    .dataframe tbody tr th {\n",
              "        vertical-align: top;\n",
              "    }\n",
              "\n",
              "    .dataframe thead th {\n",
              "        text-align: right;\n",
              "    }\n",
              "</style>\n",
              "<table border=\"1\" class=\"dataframe\">\n",
              "  <thead>\n",
              "    <tr style=\"text-align: right;\">\n",
              "      <th></th>\n",
              "      <th>timestamp</th>\n",
              "    </tr>\n",
              "    <tr>\n",
              "      <th>user_id</th>\n",
              "      <th></th>\n",
              "    </tr>\n",
              "  </thead>\n",
              "  <tbody>\n",
              "    <tr>\n",
              "      <th>115</th>\n",
              "      <td>0.0</td>\n",
              "    </tr>\n",
              "    <tr>\n",
              "      <th>124</th>\n",
              "      <td>NaN</td>\n",
              "    </tr>\n",
              "    <tr>\n",
              "      <th>2746</th>\n",
              "      <td>NaN</td>\n",
              "    </tr>\n",
              "    <tr>\n",
              "      <th>5382</th>\n",
              "      <td>NaN</td>\n",
              "    </tr>\n",
              "    <tr>\n",
              "      <th>8623</th>\n",
              "      <td>NaN</td>\n",
              "    </tr>\n",
              "    <tr>\n",
              "      <th>...</th>\n",
              "      <td>...</td>\n",
              "    </tr>\n",
              "    <tr>\n",
              "      <th>2147470770</th>\n",
              "      <td>279250.0</td>\n",
              "    </tr>\n",
              "    <tr>\n",
              "      <th>2147470777</th>\n",
              "      <td>NaN</td>\n",
              "    </tr>\n",
              "    <tr>\n",
              "      <th>2147481750</th>\n",
              "      <td>767149.0</td>\n",
              "    </tr>\n",
              "    <tr>\n",
              "      <th>2147482216</th>\n",
              "      <td>NaN</td>\n",
              "    </tr>\n",
              "    <tr>\n",
              "      <th>2147482888</th>\n",
              "      <td>NaN</td>\n",
              "    </tr>\n",
              "  </tbody>\n",
              "</table>\n",
              "<p>393656 rows × 1 columns</p>\n",
              "</div>"
            ],
            "text/plain": [
              "            timestamp\n",
              "user_id              \n",
              "115               0.0\n",
              "124               NaN\n",
              "2746              NaN\n",
              "5382              NaN\n",
              "8623              NaN\n",
              "...               ...\n",
              "2147470770   279250.0\n",
              "2147470777        NaN\n",
              "2147481750   767149.0\n",
              "2147482216        NaN\n",
              "2147482888        NaN\n",
              "\n",
              "[393656 rows x 1 columns]"
            ]
          },
          "metadata": {
            "tags": []
          },
          "execution_count": 70
        },
        {
          "output_type": "display_data",
          "data": {
            "image/png": "[encoded data removed]",
            "text/plain": [
              "<Figure size 720x360 with 1 Axes>"
            ]
          },
          "metadata": {
            "tags": [],
            "needs_background": "light"
          }
        }
      ]
    },
    {
      "cell_type": "code",
      "metadata": {
        "colab": {
          "base_uri": "https://localhost:8080/"
        },
        "id": "5sGCN0A6yVmm",
        "outputId": "3cb58c43-78b1-4449-e899-0cffe39f7e80"
      },
      "source": [
        "df.shape"
      ],
      "execution_count": 71,
      "outputs": [
        {
          "output_type": "execute_result",
          "data": {
            "text/plain": [
              "(99218, 10)"
            ]
          },
          "metadata": {
            "tags": []
          },
          "execution_count": 71
        }
      ]
    },
    {
      "cell_type": "markdown",
      "metadata": {
        "id": "2syAgYpLxygx"
      },
      "source": [
        "###timestamp"
      ]
    },
    {
      "cell_type": "markdown",
      "metadata": {
        "id": "BvRYyLAPuKon"
      },
      "source": [
        "Is there a relationship between timestamp and answered_correctly?"
      ]
    },
    {
      "cell_type": "code",
      "metadata": {
        "colab": {
          "base_uri": "https://localhost:8080/",
          "height": 358
        },
        "id": "cILQ0pmXwkyN",
        "outputId": "6e02c437-5728-4f1e-f892-56851880f01c"
      },
      "source": [
        "df.boxplot(column=['timestamp'],by = ['answered_correctly'], rot=90, figsize=(10,5)).set_yscale('log')"
      ],
      "execution_count": 72,
      "outputs": [
        {
          "output_type": "display_data",
          "data": {
            "image/png": "[encoded data removed]",
            "text/plain": [
              "<Figure size 720x360 with 1 Axes>"
            ]
          },
          "metadata": {
            "tags": [],
            "needs_background": "light"
          }
        }
      ]
    },
    {
      "cell_type": "markdown",
      "metadata": {
        "id": "DrnORkrp4Tkb"
      },
      "source": [
        "That's hard to visualize, becasue the values are so large. Let's try using the timestamp_in_days"
      ]
    },
    {
      "cell_type": "code",
      "metadata": {
        "colab": {
          "base_uri": "https://localhost:8080/",
          "height": 358
        },
        "id": "0IQJFnZo4Wti",
        "outputId": "667888b5-713a-4f1d-f378-0f2a70d20af0"
      },
      "source": [
        "df.boxplot(column=['timestamp_in_days'],by = ['answered_correctly'], rot=90, figsize=(10,5)).set_yscale('log')"
      ],
      "execution_count": 73,
      "outputs": [
        {
          "output_type": "display_data",
          "data": {
            "image/png": "[encoded data removed]",
            "text/plain": [
              "<Figure size 720x360 with 1 Axes>"
            ]
          },
          "metadata": {
            "tags": [],
            "needs_background": "light"
          }
        }
      ]
    },
    {
      "cell_type": "markdown",
      "metadata": {
        "id": "NHsu1fYn4n3H"
      },
      "source": [
        "That's a bit easier to read. We see that correctly answered questions had larger timestamps and smaller variation in the timestamps."
      ]
    },
    {
      "cell_type": "code",
      "metadata": {
        "colab": {
          "base_uri": "https://localhost:8080/"
        },
        "id": "RuYMk1iHxENh",
        "outputId": "a613b32c-59f8-41ad-e17e-875887b998e7"
      },
      "source": [
        "rvs1 = df[df['answered_correctly'] == 0]['timestamp_in_days'].dropna()\r\n",
        "rvs2 = df[df['answered_correctly'] == 1]['timestamp_in_days'].dropna()\r\n",
        "stats.ttest_ind(rvs1,rvs2)"
      ],
      "execution_count": 74,
      "outputs": [
        {
          "output_type": "execute_result",
          "data": {
            "text/plain": [
              "Ttest_indResult(statistic=-10.473320183622857, pvalue=1.181417462038879e-25)"
            ]
          },
          "metadata": {
            "tags": []
          },
          "execution_count": 74
        }
      ]
    },
    {
      "cell_type": "code",
      "metadata": {
        "colab": {
          "base_uri": "https://localhost:8080/"
        },
        "id": "Qfbc4RLm3j0H",
        "outputId": "161808d7-ccda-432e-9873-65e84919097f"
      },
      "source": [
        "rvs1.mean(), rvs2.mean()"
      ],
      "execution_count": 75,
      "outputs": [
        {
          "output_type": "execute_result",
          "data": {
            "text/plain": [
              "(82.8308571851491, 92.21969502615643)"
            ]
          },
          "metadata": {
            "tags": []
          },
          "execution_count": 75
        }
      ]
    },
    {
      "cell_type": "markdown",
      "metadata": {
        "id": "xr9mHqmiw5zP"
      },
      "source": [
        "We see that a correctly answered question correlates with an older account. Given a correctly answered question, the associated timestamp is about 10 days larger."
      ]
    },
    {
      "cell_type": "markdown",
      "metadata": {
        "id": "fvh8NpunViX9"
      },
      "source": [
        "###user_id grouped by number of entries"
      ]
    },
    {
      "cell_type": "markdown",
      "metadata": {
        "id": "5xkhcMaA5JW3"
      },
      "source": [
        "Are frequent users more likely to answer correctly than infrequent users?"
      ]
    },
    {
      "cell_type": "code",
      "metadata": {
        "id": "eY523kS0Z_8J",
        "colab": {
          "base_uri": "https://localhost:8080/"
        },
        "outputId": "b2138c86-3567-4fd6-86de-f1d8c2e29f18"
      },
      "source": [
        "#Count entries by each user, each event has a unique timestamp\n",
        "user_id_event_count= df.groupby('user_id')['timestamp'].count()\n",
        "user_id_event_count.sort_values(ascending=False)"
      ],
      "execution_count": 76,
      "outputs": [
        {
          "output_type": "execute_result",
          "data": {
            "text/plain": [
              "user_id\n",
              "801103753     18\n",
              "1660941992    17\n",
              "1743444187    17\n",
              "1047202059    17\n",
              "1615528747    17\n",
              "              ..\n",
              "1369306888     0\n",
              "1369308607     0\n",
              "1369311708     0\n",
              "1369314212     0\n",
              "1077713479     0\n",
              "Name: timestamp, Length: 393656, dtype: int64"
            ]
          },
          "metadata": {
            "tags": []
          },
          "execution_count": 76
        }
      ]
    },
    {
      "cell_type": "markdown",
      "metadata": {
        "id": "gWg1VLgq6dTw"
      },
      "source": [
        "Let's add this to the DataFrame"
      ]
    },
    {
      "cell_type": "code",
      "metadata": {
        "id": "cdSQV2TpcNXH",
        "colab": {
          "base_uri": "https://localhost:8080/",
          "height": 224
        },
        "outputId": "525b0274-c73a-4445-dc2b-47ab20d16a22"
      },
      "source": [
        "df = df.merge(user_id_event_count, how='left', on='user_id', suffixes=('','_y'))\r\n",
        "df['user_id_event_count'] = df['timestamp_y']\r\n",
        "df.drop(columns=['timestamp_y'], inplace=True)\r\n",
        "df.head()"
      ],
      "execution_count": 77,
      "outputs": [
        {
          "output_type": "execute_result",
          "data": {
            "text/html": [
              "<div>\n",
              "<style scoped>\n",
              "    .dataframe tbody tr th:only-of-type {\n",
              "        vertical-align: middle;\n",
              "    }\n",
              "\n",
              "    .dataframe tbody tr th {\n",
              "        vertical-align: top;\n",
              "    }\n",
              "\n",
              "    .dataframe thead th {\n",
              "        text-align: right;\n",
              "    }\n",
              "</style>\n",
              "<table border=\"1\" class=\"dataframe\">\n",
              "  <thead>\n",
              "    <tr style=\"text-align: right;\">\n",
              "      <th></th>\n",
              "      <th>timestamp</th>\n",
              "      <th>user_id</th>\n",
              "      <th>content_id</th>\n",
              "      <th>content_type_id</th>\n",
              "      <th>task_container_id</th>\n",
              "      <th>user_answer</th>\n",
              "      <th>answered_correctly</th>\n",
              "      <th>prior_question_elapsed_time</th>\n",
              "      <th>prior_question_had_explanation</th>\n",
              "      <th>timestamp_in_days</th>\n",
              "      <th>user_id_event_count</th>\n",
              "    </tr>\n",
              "  </thead>\n",
              "  <tbody>\n",
              "    <tr>\n",
              "      <th>0</th>\n",
              "      <td>0</td>\n",
              "      <td>115</td>\n",
              "      <td>5692</td>\n",
              "      <td>0</td>\n",
              "      <td>1</td>\n",
              "      <td>3</td>\n",
              "      <td>1</td>\n",
              "      <td>NaN</td>\n",
              "      <td>True</td>\n",
              "      <td>0.000000</td>\n",
              "      <td>1</td>\n",
              "    </tr>\n",
              "    <tr>\n",
              "      <th>1</th>\n",
              "      <td>15092942969</td>\n",
              "      <td>13134</td>\n",
              "      <td>9155</td>\n",
              "      <td>0</td>\n",
              "      <td>299</td>\n",
              "      <td>3</td>\n",
              "      <td>1</td>\n",
              "      <td>27666.0</td>\n",
              "      <td>True</td>\n",
              "      <td>174.686840</td>\n",
              "      <td>1</td>\n",
              "    </tr>\n",
              "    <tr>\n",
              "      <th>2</th>\n",
              "      <td>1623047964</td>\n",
              "      <td>24418</td>\n",
              "      <td>476</td>\n",
              "      <td>0</td>\n",
              "      <td>112</td>\n",
              "      <td>0</td>\n",
              "      <td>1</td>\n",
              "      <td>15000.0</td>\n",
              "      <td>True</td>\n",
              "      <td>18.785277</td>\n",
              "      <td>7</td>\n",
              "    </tr>\n",
              "    <tr>\n",
              "      <th>3</th>\n",
              "      <td>4746311751</td>\n",
              "      <td>24418</td>\n",
              "      <td>5168</td>\n",
              "      <td>0</td>\n",
              "      <td>1000</td>\n",
              "      <td>1</td>\n",
              "      <td>1</td>\n",
              "      <td>6000.0</td>\n",
              "      <td>True</td>\n",
              "      <td>54.934164</td>\n",
              "      <td>7</td>\n",
              "    </tr>\n",
              "    <tr>\n",
              "      <th>4</th>\n",
              "      <td>5617496174</td>\n",
              "      <td>24418</td>\n",
              "      <td>3746</td>\n",
              "      <td>0</td>\n",
              "      <td>1747</td>\n",
              "      <td>3</td>\n",
              "      <td>0</td>\n",
              "      <td>27000.0</td>\n",
              "      <td>True</td>\n",
              "      <td>65.017317</td>\n",
              "      <td>7</td>\n",
              "    </tr>\n",
              "  </tbody>\n",
              "</table>\n",
              "</div>"
            ],
            "text/plain": [
              "     timestamp user_id  ... timestamp_in_days user_id_event_count\n",
              "0            0     115  ...          0.000000                   1\n",
              "1  15092942969   13134  ...        174.686840                   1\n",
              "2   1623047964   24418  ...         18.785277                   7\n",
              "3   4746311751   24418  ...         54.934164                   7\n",
              "4   5617496174   24418  ...         65.017317                   7\n",
              "\n",
              "[5 rows x 11 columns]"
            ]
          },
          "metadata": {
            "tags": []
          },
          "execution_count": 77
        }
      ]
    },
    {
      "cell_type": "code",
      "metadata": {
        "colab": {
          "base_uri": "https://localhost:8080/",
          "height": 375
        },
        "id": "cETWGPoO7e00",
        "outputId": "1566668e-aaaa-4308-affd-bb3f83fe527e"
      },
      "source": [
        "df.boxplot(column=['user_id_event_count'],by = ['answered_correctly'], rot=90, figsize=(10,5))"
      ],
      "execution_count": 78,
      "outputs": [
        {
          "output_type": "execute_result",
          "data": {
            "text/plain": [
              "<matplotlib.axes._subplots.AxesSubplot at 0x7f63d1e11048>"
            ]
          },
          "metadata": {
            "tags": []
          },
          "execution_count": 78
        },
        {
          "output_type": "display_data",
          "data": {
            "image/png": "[encoded data removed]",
            "text/plain": [
              "<Figure size 720x360 with 1 Axes>"
            ]
          },
          "metadata": {
            "tags": [],
            "needs_background": "light"
          }
        }
      ]
    },
    {
      "cell_type": "markdown",
      "metadata": {
        "id": "PZ-YHgyd9ZzK"
      },
      "source": [
        "For incorrectly answered questions, the minimum and the median number of events are 1.\r\n",
        "\r\n",
        "For correctly answered questions, the median is 2."
      ]
    },
    {
      "cell_type": "code",
      "metadata": {
        "id": "gbBWrSnqWD9_",
        "colab": {
          "base_uri": "https://localhost:8080/"
        },
        "outputId": "fdc22dda-c28f-4c70-fad3-88829b2d897f"
      },
      "source": [
        "rvs1 = df[df['answered_correctly'] == 0]['user_id_event_count'].dropna()\r\n",
        "rvs2 = df[df['answered_correctly'] == 1]['user_id_event_count'].dropna()\r\n",
        "stats.ttest_ind(rvs1,rvs2)"
      ],
      "execution_count": 79,
      "outputs": [
        {
          "output_type": "execute_result",
          "data": {
            "text/plain": [
              "Ttest_indResult(statistic=-16.8414401171767, pvalue=1.4865063636699276e-63)"
            ]
          },
          "metadata": {
            "tags": []
          },
          "execution_count": 79
        }
      ]
    },
    {
      "cell_type": "code",
      "metadata": {
        "id": "sb-r49KhaLDO",
        "colab": {
          "base_uri": "https://localhost:8080/"
        },
        "outputId": "4fcb8fd2-7ffd-4415-d82e-681b41f2cb98"
      },
      "source": [
        "rvs1.mean(), rvs2.mean()"
      ],
      "execution_count": 80,
      "outputs": [
        {
          "output_type": "execute_result",
          "data": {
            "text/plain": [
              "(2.500752989812491, 2.8152647927409604)"
            ]
          },
          "metadata": {
            "tags": []
          },
          "execution_count": 80
        }
      ]
    },
    {
      "cell_type": "markdown",
      "metadata": {
        "id": "T26HtOjw-S5w"
      },
      "source": [
        "Inline with the timestamp column (timestamp is unique to each answer), the older user accounts have a higher accuracy on answering questions."
      ]
    },
    {
      "cell_type": "markdown",
      "metadata": {
        "id": "MNEFW458-sih"
      },
      "source": [
        "##Categorical Variables vs Target variable (Chi-Square)"
      ]
    }
  ]
}