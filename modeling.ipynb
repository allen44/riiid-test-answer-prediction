{
  "nbformat": 4,
  "nbformat_minor": 0,
  "metadata": {
    "colab": {
      "name": "modeling.ipynb",
      "provenance": [],
      "collapsed_sections": [],
      "machine_shape": "hm",
      "mount_file_id": "1qNtghxbNdkIl8MS51Q8xJDiaIjejHaDh",
      "authorship_tag": "ABX9TyNuOu27bpWk9tSeH319O0EY",
      "include_colab_link": true
    },
    "kernelspec": {
      "name": "python3",
      "display_name": "Python 3"
    }
  },
  "cells": [
    {
      "cell_type": "markdown",
      "metadata": {
        "id": "view-in-github",
        "colab_type": "text"
      },
      "source": [
        "<a href=\"https://colab.research.google.com/github/allen44/riiid-test-answer-prediction/blob/main/modeling.ipynb\" target=\"_parent\"><img src=\"https://colab.research.google.com/assets/colab-badge.svg\" alt=\"Open In Colab\"/></a>"
      ]
    },
    {
      "cell_type": "markdown",
      "metadata": {
        "id": "akctt02fPuOL"
      },
      "source": [
        "# Import modules"
      ]
    },
    {
      "cell_type": "code",
      "metadata": {
        "colab": {
          "base_uri": "https://localhost:8080/"
        },
        "id": "IqKo-hGAHKZA",
        "outputId": "d05ed172-5c53-43d1-ec7b-bd8b0227597b"
      },
      "source": [
        "import pandas as pd\r\n",
        "import numpy as np\r\n",
        "import matplotlib.pyplot as plt\r\n",
        "import pickle\r\n",
        "import seaborn as sns\r\n",
        "from pathlib import Path\r\n",
        "\r\n",
        "%cd /content/drive/MyDrive/Colab Notebooks/riiid-test-answer-prediction/\r\n",
        "%pwd\r\n",
        "\r\n",
        "pwd = Path.cwd()"
      ],
      "execution_count": 1,
      "outputs": [
        {
          "output_type": "stream",
          "text": [
            "/content/drive/MyDrive/Colab Notebooks/riiid-test-answer-prediction\n"
          ],
          "name": "stdout"
        }
      ]
    },
    {
      "cell_type": "markdown",
      "metadata": {
        "id": "2jHUz3V8-zm7"
      },
      "source": [
        "#Import the data"
      ]
    },
    {
      "cell_type": "code",
      "metadata": {
        "id": "Ab6dq5DybA-C"
      },
      "source": [
        "# #Alternatively, Load a DataFrame of train.csv from pikl for better performance on import than import from csv\n",
        "\n",
        "# #Define data paths\n",
        "train_csv_path = Path('/content/drive/MyDrive/Colab Notebooks/riiid-test-answer-prediction/data/train.csv')\n",
        "train_pkl_path = Path('/content/drive/MyDrive/Colab Notebooks/riiid-test-answer-prediction/data/intermediate/train.pkl.gzip')"
      ],
      "execution_count": 2,
      "outputs": []
    },
    {
      "cell_type": "markdown",
      "metadata": {
        "id": "Y5TsYvtHTKe4"
      },
      "source": [
        "Using our insights gained from the EDA, when can import the data from csv with the best parameters for modelling."
      ]
    },
    {
      "cell_type": "code",
      "metadata": {
        "id": "1VU3pqWF36k1"
      },
      "source": [
        "# Read data from csv\n",
        "# df = pd.read_csv(train_csv_path, index_col='row_id')\n",
        "\n",
        "# in case the notebook instance crashes, so that we can quickly reload\n",
        "# the dataframe and resume.\n",
        "# df.to_pickle(train_pkl_path)\n",
        "\n",
        "# # Or read data from pikl\n",
        "with open(train_pkl_path, 'rb') as f:\n",
        "  df = pickle.load(f)"
      ],
      "execution_count": 29,
      "outputs": []
    },
    {
      "cell_type": "code",
      "metadata": {
        "colab": {
          "base_uri": "https://localhost:8080/",
          "height": 450
        },
        "id": "CJtpPZTHXVgZ",
        "outputId": "480994af-eaee-4022-d6c1-9b6c029fffe6"
      },
      "source": [
        "df"
      ],
      "execution_count": 30,
      "outputs": [
        {
          "output_type": "execute_result",
          "data": {
            "text/html": [
              "<div>\n",
              "<style scoped>\n",
              "    .dataframe tbody tr th:only-of-type {\n",
              "        vertical-align: middle;\n",
              "    }\n",
              "\n",
              "    .dataframe tbody tr th {\n",
              "        vertical-align: top;\n",
              "    }\n",
              "\n",
              "    .dataframe thead th {\n",
              "        text-align: right;\n",
              "    }\n",
              "</style>\n",
              "<table border=\"1\" class=\"dataframe\">\n",
              "  <thead>\n",
              "    <tr style=\"text-align: right;\">\n",
              "      <th></th>\n",
              "      <th>timestamp</th>\n",
              "      <th>user_id</th>\n",
              "      <th>content_id</th>\n",
              "      <th>content_type_id</th>\n",
              "      <th>task_container_id</th>\n",
              "      <th>user_answer</th>\n",
              "      <th>answered_correctly</th>\n",
              "      <th>prior_question_elapsed_time</th>\n",
              "      <th>prior_question_had_explanation</th>\n",
              "    </tr>\n",
              "    <tr>\n",
              "      <th>row_id</th>\n",
              "      <th></th>\n",
              "      <th></th>\n",
              "      <th></th>\n",
              "      <th></th>\n",
              "      <th></th>\n",
              "      <th></th>\n",
              "      <th></th>\n",
              "      <th></th>\n",
              "      <th></th>\n",
              "    </tr>\n",
              "  </thead>\n",
              "  <tbody>\n",
              "    <tr>\n",
              "      <th>0</th>\n",
              "      <td>0</td>\n",
              "      <td>115</td>\n",
              "      <td>5692</td>\n",
              "      <td>0</td>\n",
              "      <td>1</td>\n",
              "      <td>3</td>\n",
              "      <td>1</td>\n",
              "      <td>NaN</td>\n",
              "      <td>&lt;NA&gt;</td>\n",
              "    </tr>\n",
              "    <tr>\n",
              "      <th>1</th>\n",
              "      <td>56943</td>\n",
              "      <td>115</td>\n",
              "      <td>5716</td>\n",
              "      <td>0</td>\n",
              "      <td>2</td>\n",
              "      <td>2</td>\n",
              "      <td>1</td>\n",
              "      <td>37000.0</td>\n",
              "      <td>False</td>\n",
              "    </tr>\n",
              "    <tr>\n",
              "      <th>2</th>\n",
              "      <td>118363</td>\n",
              "      <td>115</td>\n",
              "      <td>128</td>\n",
              "      <td>0</td>\n",
              "      <td>0</td>\n",
              "      <td>0</td>\n",
              "      <td>1</td>\n",
              "      <td>55000.0</td>\n",
              "      <td>False</td>\n",
              "    </tr>\n",
              "    <tr>\n",
              "      <th>3</th>\n",
              "      <td>131167</td>\n",
              "      <td>115</td>\n",
              "      <td>7860</td>\n",
              "      <td>0</td>\n",
              "      <td>3</td>\n",
              "      <td>0</td>\n",
              "      <td>1</td>\n",
              "      <td>19000.0</td>\n",
              "      <td>False</td>\n",
              "    </tr>\n",
              "    <tr>\n",
              "      <th>4</th>\n",
              "      <td>137965</td>\n",
              "      <td>115</td>\n",
              "      <td>7922</td>\n",
              "      <td>0</td>\n",
              "      <td>4</td>\n",
              "      <td>1</td>\n",
              "      <td>1</td>\n",
              "      <td>11000.0</td>\n",
              "      <td>False</td>\n",
              "    </tr>\n",
              "    <tr>\n",
              "      <th>...</th>\n",
              "      <td>...</td>\n",
              "      <td>...</td>\n",
              "      <td>...</td>\n",
              "      <td>...</td>\n",
              "      <td>...</td>\n",
              "      <td>...</td>\n",
              "      <td>...</td>\n",
              "      <td>...</td>\n",
              "      <td>...</td>\n",
              "    </tr>\n",
              "    <tr>\n",
              "      <th>101230327</th>\n",
              "      <td>428564420</td>\n",
              "      <td>2147482888</td>\n",
              "      <td>3586</td>\n",
              "      <td>0</td>\n",
              "      <td>22</td>\n",
              "      <td>0</td>\n",
              "      <td>1</td>\n",
              "      <td>18000.0</td>\n",
              "      <td>True</td>\n",
              "    </tr>\n",
              "    <tr>\n",
              "      <th>101230328</th>\n",
              "      <td>428585000</td>\n",
              "      <td>2147482888</td>\n",
              "      <td>6341</td>\n",
              "      <td>0</td>\n",
              "      <td>23</td>\n",
              "      <td>3</td>\n",
              "      <td>1</td>\n",
              "      <td>14000.0</td>\n",
              "      <td>True</td>\n",
              "    </tr>\n",
              "    <tr>\n",
              "      <th>101230329</th>\n",
              "      <td>428613475</td>\n",
              "      <td>2147482888</td>\n",
              "      <td>4212</td>\n",
              "      <td>0</td>\n",
              "      <td>24</td>\n",
              "      <td>3</td>\n",
              "      <td>1</td>\n",
              "      <td>14000.0</td>\n",
              "      <td>True</td>\n",
              "    </tr>\n",
              "    <tr>\n",
              "      <th>101230330</th>\n",
              "      <td>428649406</td>\n",
              "      <td>2147482888</td>\n",
              "      <td>6343</td>\n",
              "      <td>0</td>\n",
              "      <td>25</td>\n",
              "      <td>1</td>\n",
              "      <td>0</td>\n",
              "      <td>22000.0</td>\n",
              "      <td>True</td>\n",
              "    </tr>\n",
              "    <tr>\n",
              "      <th>101230331</th>\n",
              "      <td>428692118</td>\n",
              "      <td>2147482888</td>\n",
              "      <td>7995</td>\n",
              "      <td>0</td>\n",
              "      <td>26</td>\n",
              "      <td>3</td>\n",
              "      <td>1</td>\n",
              "      <td>29000.0</td>\n",
              "      <td>True</td>\n",
              "    </tr>\n",
              "  </tbody>\n",
              "</table>\n",
              "<p>101230332 rows × 9 columns</p>\n",
              "</div>"
            ],
            "text/plain": [
              "           timestamp  ... prior_question_had_explanation\n",
              "row_id                ...                               \n",
              "0                  0  ...                           <NA>\n",
              "1              56943  ...                          False\n",
              "2             118363  ...                          False\n",
              "3             131167  ...                          False\n",
              "4             137965  ...                          False\n",
              "...              ...  ...                            ...\n",
              "101230327  428564420  ...                           True\n",
              "101230328  428585000  ...                           True\n",
              "101230329  428613475  ...                           True\n",
              "101230330  428649406  ...                           True\n",
              "101230331  428692118  ...                           True\n",
              "\n",
              "[101230332 rows x 9 columns]"
            ]
          },
          "metadata": {
            "tags": []
          },
          "execution_count": 30
        }
      ]
    },
    {
      "cell_type": "code",
      "metadata": {
        "colab": {
          "base_uri": "https://localhost:8080/"
        },
        "id": "7XyTsoW_Xbkk",
        "outputId": "bb54a5a7-c9ef-4522-bc50-38b137a1e69e"
      },
      "source": [
        "df.dtypes"
      ],
      "execution_count": 31,
      "outputs": [
        {
          "output_type": "execute_result",
          "data": {
            "text/plain": [
              "timestamp                            int64\n",
              "user_id                           category\n",
              "content_id                        category\n",
              "content_type_id                   category\n",
              "task_container_id                 category\n",
              "user_answer                       category\n",
              "answered_correctly                category\n",
              "prior_question_elapsed_time        float32\n",
              "prior_question_had_explanation     boolean\n",
              "dtype: object"
            ]
          },
          "metadata": {
            "tags": []
          },
          "execution_count": 31
        }
      ]
    },
    {
      "cell_type": "markdown",
      "metadata": {
        "id": "8nJacAMHWgKD"
      },
      "source": [
        "# Make Train Test Splits"
      ]
    },
    {
      "cell_type": "code",
      "metadata": {
        "colab": {
          "base_uri": "https://localhost:8080/"
        },
        "id": "xWkgt-MKuVJ1",
        "outputId": "5a9093f8-2a9c-454d-fb0a-103043f2dbfa"
      },
      "source": [
        "# define target variable, y, and independant variables, X\r\n",
        "\r\n",
        "X = df.drop(columns=['answered_correctly'])\r\n",
        "y = df['answered_correctly']\r\n",
        "del df\r\n",
        "\r\n",
        "X.shape, y.shape\r\n"
      ],
      "execution_count": 32,
      "outputs": [
        {
          "output_type": "execute_result",
          "data": {
            "text/plain": [
              "((101230332, 8), (101230332,))"
            ]
          },
          "metadata": {
            "tags": []
          },
          "execution_count": 32
        }
      ]
    },
    {
      "cell_type": "code",
      "metadata": {
        "colab": {
          "base_uri": "https://localhost:8080/"
        },
        "id": "qTERHwb4ua4u",
        "outputId": "3e50512b-dd23-4397-9898-b1ab9c00a5cf"
      },
      "source": [
        "# Make Train Test Splits\r\n",
        "\r\n",
        "from sklearn.model_selection import train_test_split\r\n",
        "\r\n",
        "X_train, X_test, y_train, y_test = train_test_split(X, y, test_size=0.20, random_state=42)\r\n",
        "\r\n",
        "X_train.shape, X_test.shape, y_train.shape, y_test.shape"
      ],
      "execution_count": 33,
      "outputs": [
        {
          "output_type": "execute_result",
          "data": {
            "text/plain": [
              "((80984265, 8), (20246067, 8), (80984265,), (20246067,))"
            ]
          },
          "metadata": {
            "tags": []
          },
          "execution_count": 33
        }
      ]
    },
    {
      "cell_type": "markdown",
      "metadata": {
        "id": "8PvFKNOOyuB9"
      },
      "source": [
        "# Preprocessing: Transform data to fit classifier\r\n",
        "\r\n",
        "Some classifier require variables in a certian form. Some classifiers cannot handle NA values. We will fix those in this section.\r\n",
        "\r\n",
        "## Drop NA rows\r\n",
        "Based on our earlier EDA, we have enough information to make informed decision on how to handle NA values.\r\n"
      ]
    },
    {
      "cell_type": "code",
      "metadata": {
        "colab": {
          "base_uri": "https://localhost:8080/"
        },
        "id": "HU0eJ2mz2jzq",
        "outputId": "8b1d8476-8454-4108-81aa-39201bac108f"
      },
      "source": [
        "# Count NA values\r\n",
        "X_train.isna().sum()"
      ],
      "execution_count": 34,
      "outputs": [
        {
          "output_type": "execute_result",
          "data": {
            "text/plain": [
              "timestamp                               0\n",
              "user_id                                 0\n",
              "content_id                              0\n",
              "content_type_id                         0\n",
              "task_container_id                       0\n",
              "user_answer                             0\n",
              "prior_question_elapsed_time       1881194\n",
              "prior_question_had_explanation     313799\n",
              "dtype: int64"
            ]
          },
          "metadata": {
            "tags": []
          },
          "execution_count": 34
        }
      ]
    },
    {
      "cell_type": "markdown",
      "metadata": {
        "id": "gnTlZ9AEUUm2"
      },
      "source": [
        "Even though most data is not NA, recall that the data description showed that some data is \"null\" but were encoded as '-1' or other values. We'll encode them as NA instead."
      ]
    },
    {
      "cell_type": "code",
      "metadata": {
        "colab": {
          "base_uri": "https://localhost:8080/"
        },
        "id": "NgWTNxp3z1t8",
        "outputId": "ef107295-e870-4321-be68-31aed16b0774"
      },
      "source": [
        "# Convert Null values to NA\r\n",
        "\r\n",
        "\r\n",
        "# Join X and y now, seperate them after \r\n",
        "X_train['answered_correctly'] = y_train\r\n",
        "del y_train\r\n",
        "\r\n",
        "# Check NA counts before changes\r\n",
        "print('\\nX_train Before:\\n', X_train.isna().sum())\r\n",
        "# print('\\ny_train Before:\\n', y_train.isna().sum())\r\n",
        "\r\n",
        "# content_type_id: \"1 if the event was the user watching a lecture.\"\r\n",
        "X_train['content_type_id'] = X_train['content_type_id'].mask(X_train['content_type_id']=='1')\r\n",
        "\r\n",
        "\r\n",
        "# user_answer: \" Read -1 as null, for lectures.\"\r\n",
        "X_train['user_answer'] = X_train['user_answer'].mask(X_train['user_answer']=='-1')\r\n",
        "\r\n",
        "# # answered_correctly Read -1 as null, for lectures\r\n",
        "X_train['answered_correctly']= X_train['answered_correctly'].mask(X_train['answered_correctly']=='-1')\r\n",
        "\r\n",
        "# Count the NA entries after adding NA\r\n",
        "print('\\nX_train after adding NA:\\n', X_train.isna().sum())\r\n",
        "\r\n",
        "# Reset index\r\n",
        "X_train.reset_index(drop=True, inplace=True)\r\n",
        "\r\n",
        "# Drop rows with NA \r\n",
        "X_train.dropna(inplace=True)\r\n",
        "\r\n",
        "# Count the NA entries dropping adding NA\r\n",
        "print('\\nX_train after dropping NA:\\n', X_train.isna().sum())\r\n",
        "\r\n",
        "# Seperate X and y\r\n",
        "y_train = X_train.pop('answered_correctly')"
      ],
      "execution_count": 35,
      "outputs": [
        {
          "output_type": "stream",
          "text": [
            "/usr/local/lib/python3.6/dist-packages/ipykernel_launcher.py:5: SettingWithCopyWarning: \n",
            "A value is trying to be set on a copy of a slice from a DataFrame.\n",
            "Try using .loc[row_indexer,col_indexer] = value instead\n",
            "\n",
            "See the caveats in the documentation: https://pandas.pydata.org/pandas-docs/stable/user_guide/indexing.html#returning-a-view-versus-a-copy\n",
            "  \"\"\"\n"
          ],
          "name": "stderr"
        },
        {
          "output_type": "stream",
          "text": [
            "\n",
            "X_train Before:\n",
            " timestamp                               0\n",
            "user_id                                 0\n",
            "content_id                              0\n",
            "content_type_id                         0\n",
            "task_container_id                       0\n",
            "user_answer                             0\n",
            "prior_question_elapsed_time       1881194\n",
            "prior_question_had_explanation     313799\n",
            "answered_correctly                      0\n",
            "dtype: int64\n"
          ],
          "name": "stdout"
        },
        {
          "output_type": "stream",
          "text": [
            "/usr/local/lib/python3.6/dist-packages/ipykernel_launcher.py:13: SettingWithCopyWarning: \n",
            "A value is trying to be set on a copy of a slice from a DataFrame.\n",
            "Try using .loc[row_indexer,col_indexer] = value instead\n",
            "\n",
            "See the caveats in the documentation: https://pandas.pydata.org/pandas-docs/stable/user_guide/indexing.html#returning-a-view-versus-a-copy\n",
            "  del sys.path[0]\n",
            "/usr/local/lib/python3.6/dist-packages/ipykernel_launcher.py:17: SettingWithCopyWarning: \n",
            "A value is trying to be set on a copy of a slice from a DataFrame.\n",
            "Try using .loc[row_indexer,col_indexer] = value instead\n",
            "\n",
            "See the caveats in the documentation: https://pandas.pydata.org/pandas-docs/stable/user_guide/indexing.html#returning-a-view-versus-a-copy\n",
            "/usr/local/lib/python3.6/dist-packages/ipykernel_launcher.py:20: SettingWithCopyWarning: \n",
            "A value is trying to be set on a copy of a slice from a DataFrame.\n",
            "Try using .loc[row_indexer,col_indexer] = value instead\n",
            "\n",
            "See the caveats in the documentation: https://pandas.pydata.org/pandas-docs/stable/user_guide/indexing.html#returning-a-view-versus-a-copy\n"
          ],
          "name": "stderr"
        },
        {
          "output_type": "stream",
          "text": [
            "\n",
            "X_train after adding NA:\n",
            " timestamp                               0\n",
            "user_id                                 0\n",
            "content_id                              0\n",
            "content_type_id                   1567395\n",
            "task_container_id                       0\n",
            "user_answer                       1567395\n",
            "prior_question_elapsed_time       1881194\n",
            "prior_question_had_explanation     313799\n",
            "answered_correctly                1567395\n",
            "dtype: int64\n"
          ],
          "name": "stdout"
        },
        {
          "output_type": "stream",
          "text": [
            "/usr/local/lib/python3.6/dist-packages/ipykernel_launcher.py:29: SettingWithCopyWarning: \n",
            "A value is trying to be set on a copy of a slice from a DataFrame\n",
            "\n",
            "See the caveats in the documentation: https://pandas.pydata.org/pandas-docs/stable/user_guide/indexing.html#returning-a-view-versus-a-copy\n"
          ],
          "name": "stderr"
        },
        {
          "output_type": "stream",
          "text": [
            "\n",
            "X_train after dropping NA:\n",
            " timestamp                         0\n",
            "user_id                           0\n",
            "content_id                        0\n",
            "content_type_id                   0\n",
            "task_container_id                 0\n",
            "user_answer                       0\n",
            "prior_question_elapsed_time       0\n",
            "prior_question_had_explanation    0\n",
            "answered_correctly                0\n",
            "dtype: int64\n"
          ],
          "name": "stdout"
        }
      ]
    },
    {
      "cell_type": "markdown",
      "metadata": {
        "id": "3v3OBKz7Vkvo"
      },
      "source": [
        "In the before and after printouts, we see the effect of masking the null-encoded values, and replacing them with NA."
      ]
    },
    {
      "cell_type": "code",
      "metadata": {
        "colab": {
          "base_uri": "https://localhost:8080/"
        },
        "id": "_8Xy8DN5jSqh",
        "outputId": "1623a0f8-77e6-444e-b35e-64b20c2f488a"
      },
      "source": [
        "X_train.shape, y_train.shape"
      ],
      "execution_count": 36,
      "outputs": [
        {
          "output_type": "execute_result",
          "data": {
            "text/plain": [
              "((79103071, 8), (79103071,))"
            ]
          },
          "metadata": {
            "tags": []
          },
          "execution_count": 36
        }
      ]
    },
    {
      "cell_type": "markdown",
      "metadata": {
        "id": "zI-yISQucoNl"
      },
      "source": [
        "We see that the .shape attribute shows that about 2% of the entries were dropped. But we also see that X and y dropped different numbers of rows."
      ]
    },
    {
      "cell_type": "markdown",
      "metadata": {
        "id": "ZJtauyaDk8kZ"
      },
      "source": [
        "## Set the correct dtypes\r\n",
        "A droping the NA values, we can properly set some categorical featueres as boolean features to save memory."
      ]
    },
    {
      "cell_type": "code",
      "metadata": {
        "colab": {
          "base_uri": "https://localhost:8080/"
        },
        "id": "4C-TFPxplHTG",
        "outputId": "84f11ff3-8770-4e5e-90c7-5c70b27256f8"
      },
      "source": [
        "#Check dtypes before\r\n",
        "X_train.dtypes"
      ],
      "execution_count": 37,
      "outputs": [
        {
          "output_type": "execute_result",
          "data": {
            "text/plain": [
              "timestamp                            int64\n",
              "user_id                           category\n",
              "content_id                        category\n",
              "content_type_id                   category\n",
              "task_container_id                 category\n",
              "user_answer                       category\n",
              "prior_question_elapsed_time        float32\n",
              "prior_question_had_explanation     boolean\n",
              "dtype: object"
            ]
          },
          "metadata": {
            "tags": []
          },
          "execution_count": 37
        }
      ]
    },
    {
      "cell_type": "code",
      "metadata": {
        "colab": {
          "base_uri": "https://localhost:8080/"
        },
        "id": "Yj_y5Lgdlm1f",
        "outputId": "b4fd3487-daa8-42eb-dc22-77448b6a92fe"
      },
      "source": [
        "#Check dtypes before\r\n",
        "y_train.dtypes"
      ],
      "execution_count": 38,
      "outputs": [
        {
          "output_type": "execute_result",
          "data": {
            "text/plain": [
              "CategoricalDtype(categories=['-1', '0', '1'], ordered=False)"
            ]
          },
          "metadata": {
            "tags": []
          },
          "execution_count": 38
        }
      ]
    },
    {
      "cell_type": "code",
      "metadata": {
        "colab": {
          "base_uri": "https://localhost:8080/"
        },
        "id": "3Yyx-lTbmd9B",
        "outputId": "149166b5-57c2-460d-ac90-faca425b43d2"
      },
      "source": [
        "#Check dtypes before\r\n",
        "y_train.value_counts()"
      ],
      "execution_count": 39,
      "outputs": [
        {
          "output_type": "execute_result",
          "data": {
            "text/plain": [
              "1     51978044\n",
              "0     27125027\n",
              "-1           0\n",
              "Name: answered_correctly, dtype: int64"
            ]
          },
          "metadata": {
            "tags": []
          },
          "execution_count": 39
        }
      ]
    },
    {
      "cell_type": "code",
      "metadata": {
        "id": "lCWlCGROlaBB"
      },
      "source": [
        "# X_train need no change in dtypes\r\n",
        "y_train = y_train.astype(int).astype(bool)"
      ],
      "execution_count": 40,
      "outputs": []
    },
    {
      "cell_type": "code",
      "metadata": {
        "colab": {
          "base_uri": "https://localhost:8080/"
        },
        "id": "O-FB0wAQlxKF",
        "outputId": "14c7a022-b15c-451d-fb7f-2a70a9c2e178"
      },
      "source": [
        "# Check the dtypes after\r\n",
        "y_train.dtype"
      ],
      "execution_count": 41,
      "outputs": [
        {
          "output_type": "execute_result",
          "data": {
            "text/plain": [
              "dtype('bool')"
            ]
          },
          "metadata": {
            "tags": []
          },
          "execution_count": 41
        }
      ]
    },
    {
      "cell_type": "code",
      "metadata": {
        "colab": {
          "base_uri": "https://localhost:8080/"
        },
        "id": "DLhWKJL5nyHN",
        "outputId": "374fa8d8-757d-4857-a1e5-919171b79657"
      },
      "source": [
        "#Check dtypes after\r\n",
        "y_train.value_counts()"
      ],
      "execution_count": 42,
      "outputs": [
        {
          "output_type": "execute_result",
          "data": {
            "text/plain": [
              "True     51978044\n",
              "False    27125027\n",
              "Name: answered_correctly, dtype: int64"
            ]
          },
          "metadata": {
            "tags": []
          },
          "execution_count": 42
        }
      ]
    },
    {
      "cell_type": "markdown",
      "metadata": {
        "id": "kAjpCBJCgO4N"
      },
      "source": [
        "## Drop features that don't predict the target variable"
      ]
    },
    {
      "cell_type": "markdown",
      "metadata": {
        "id": "mXi6MAEeZ7Xk"
      },
      "source": [
        "In the EDA, we learned that 'user_id' and 'content_type_id' do not predict the target variable."
      ]
    },
    {
      "cell_type": "code",
      "metadata": {
        "colab": {
          "base_uri": "https://localhost:8080/",
          "height": 504
        },
        "id": "xQUo3ekjgWkL",
        "outputId": "acf3e03d-fd25-4697-8f6f-9ab542fd0a2a"
      },
      "source": [
        "# Drop 'user_id' and 'content_type_id'\r\n",
        "X_train.drop(columns=['user_id', 'content_type_id'], inplace=True)\r\n",
        "X_train"
      ],
      "execution_count": 43,
      "outputs": [
        {
          "output_type": "stream",
          "text": [
            "/usr/local/lib/python3.6/dist-packages/pandas/core/frame.py:4174: SettingWithCopyWarning: \n",
            "A value is trying to be set on a copy of a slice from a DataFrame\n",
            "\n",
            "See the caveats in the documentation: https://pandas.pydata.org/pandas-docs/stable/user_guide/indexing.html#returning-a-view-versus-a-copy\n",
            "  errors=errors,\n"
          ],
          "name": "stderr"
        },
        {
          "output_type": "execute_result",
          "data": {
            "text/html": [
              "<div>\n",
              "<style scoped>\n",
              "    .dataframe tbody tr th:only-of-type {\n",
              "        vertical-align: middle;\n",
              "    }\n",
              "\n",
              "    .dataframe tbody tr th {\n",
              "        vertical-align: top;\n",
              "    }\n",
              "\n",
              "    .dataframe thead th {\n",
              "        text-align: right;\n",
              "    }\n",
              "</style>\n",
              "<table border=\"1\" class=\"dataframe\">\n",
              "  <thead>\n",
              "    <tr style=\"text-align: right;\">\n",
              "      <th></th>\n",
              "      <th>timestamp</th>\n",
              "      <th>content_id</th>\n",
              "      <th>task_container_id</th>\n",
              "      <th>user_answer</th>\n",
              "      <th>prior_question_elapsed_time</th>\n",
              "      <th>prior_question_had_explanation</th>\n",
              "    </tr>\n",
              "  </thead>\n",
              "  <tbody>\n",
              "    <tr>\n",
              "      <th>0</th>\n",
              "      <td>14966094946</td>\n",
              "      <td>525</td>\n",
              "      <td>526</td>\n",
              "      <td>0</td>\n",
              "      <td>12000.0</td>\n",
              "      <td>True</td>\n",
              "    </tr>\n",
              "    <tr>\n",
              "      <th>1</th>\n",
              "      <td>2382277090</td>\n",
              "      <td>4978</td>\n",
              "      <td>213</td>\n",
              "      <td>1</td>\n",
              "      <td>22000.0</td>\n",
              "      <td>True</td>\n",
              "    </tr>\n",
              "    <tr>\n",
              "      <th>2</th>\n",
              "      <td>15766058493</td>\n",
              "      <td>2332</td>\n",
              "      <td>238</td>\n",
              "      <td>0</td>\n",
              "      <td>21000.0</td>\n",
              "      <td>True</td>\n",
              "    </tr>\n",
              "    <tr>\n",
              "      <th>3</th>\n",
              "      <td>959500778</td>\n",
              "      <td>2912</td>\n",
              "      <td>108</td>\n",
              "      <td>3</td>\n",
              "      <td>36000.0</td>\n",
              "      <td>True</td>\n",
              "    </tr>\n",
              "    <tr>\n",
              "      <th>4</th>\n",
              "      <td>1321791120</td>\n",
              "      <td>370</td>\n",
              "      <td>140</td>\n",
              "      <td>0</td>\n",
              "      <td>15000.0</td>\n",
              "      <td>True</td>\n",
              "    </tr>\n",
              "    <tr>\n",
              "      <th>...</th>\n",
              "      <td>...</td>\n",
              "      <td>...</td>\n",
              "      <td>...</td>\n",
              "      <td>...</td>\n",
              "      <td>...</td>\n",
              "      <td>...</td>\n",
              "    </tr>\n",
              "    <tr>\n",
              "      <th>80984260</th>\n",
              "      <td>15045271680</td>\n",
              "      <td>5255</td>\n",
              "      <td>413</td>\n",
              "      <td>1</td>\n",
              "      <td>29000.0</td>\n",
              "      <td>True</td>\n",
              "    </tr>\n",
              "    <tr>\n",
              "      <th>80984261</th>\n",
              "      <td>1804368270</td>\n",
              "      <td>7859</td>\n",
              "      <td>102</td>\n",
              "      <td>1</td>\n",
              "      <td>21000.0</td>\n",
              "      <td>True</td>\n",
              "    </tr>\n",
              "    <tr>\n",
              "      <th>80984262</th>\n",
              "      <td>798775296</td>\n",
              "      <td>6668</td>\n",
              "      <td>17</td>\n",
              "      <td>0</td>\n",
              "      <td>28000.0</td>\n",
              "      <td>True</td>\n",
              "    </tr>\n",
              "    <tr>\n",
              "      <th>80984263</th>\n",
              "      <td>2094072</td>\n",
              "      <td>7928</td>\n",
              "      <td>77</td>\n",
              "      <td>3</td>\n",
              "      <td>18000.0</td>\n",
              "      <td>True</td>\n",
              "    </tr>\n",
              "    <tr>\n",
              "      <th>80984264</th>\n",
              "      <td>41739952494</td>\n",
              "      <td>506</td>\n",
              "      <td>456</td>\n",
              "      <td>3</td>\n",
              "      <td>18000.0</td>\n",
              "      <td>True</td>\n",
              "    </tr>\n",
              "  </tbody>\n",
              "</table>\n",
              "<p>79103071 rows × 6 columns</p>\n",
              "</div>"
            ],
            "text/plain": [
              "            timestamp  ... prior_question_had_explanation\n",
              "0         14966094946  ...                           True\n",
              "1          2382277090  ...                           True\n",
              "2         15766058493  ...                           True\n",
              "3           959500778  ...                           True\n",
              "4          1321791120  ...                           True\n",
              "...               ...  ...                            ...\n",
              "80984260  15045271680  ...                           True\n",
              "80984261   1804368270  ...                           True\n",
              "80984262    798775296  ...                           True\n",
              "80984263      2094072  ...                           True\n",
              "80984264  41739952494  ...                           True\n",
              "\n",
              "[79103071 rows x 6 columns]"
            ]
          },
          "metadata": {
            "tags": []
          },
          "execution_count": 43
        }
      ]
    },
    {
      "cell_type": "markdown",
      "metadata": {
        "id": "1hjjhBOly1Yy"
      },
      "source": [
        "## Encode Dummy Variables\r\n",
        "\r\n",
        "The categorical variables need to be one-hot-encoded for most of the models to work correctly.\r\n",
        "\r\n",
        "The numerical variables may need to be standardized for some models.\r\n"
      ]
    },
    {
      "cell_type": "markdown",
      "metadata": {
        "id": "82zvyE7SjHM7"
      },
      "source": [
        "We see the row count is unchanged, but now there's many more columns due to how we changed all the categorical data into numerical data."
      ]
    },
    {
      "cell_type": "code",
      "metadata": {
        "colab": {
          "base_uri": "https://localhost:8080/"
        },
        "id": "AG8duhTfeZO-",
        "outputId": "d4800d9d-7b48-4346-e762-ed8503fb3907"
      },
      "source": [
        "from sklearn.preprocessing import OneHotEncoder\r\n",
        "\r\n",
        "X_train_cat = X_train.select_dtypes(['category', 'bool'])\r\n",
        "X_train_num = X_train.select_dtypes(['int64', 'float64'])\r\n",
        "\r\n",
        "# Create the encoder.\r\n",
        "encoder = OneHotEncoder(handle_unknown=\"ignore\")\r\n",
        "\r\n",
        "# Fit on X_train_cat and then Transform X_train_cat\r\n",
        "X_train_cat = encoder.fit_transform(X_train_cat)\r\n",
        "X_train_cat.shape"
      ],
      "execution_count": 21,
      "outputs": [
        {
          "output_type": "execute_result",
          "data": {
            "text/plain": [
              "(98814, 0)"
            ]
          },
          "metadata": {
            "tags": []
          },
          "execution_count": 21
        }
      ]
    },
    {
      "cell_type": "code",
      "metadata": {
        "colab": {
          "base_uri": "https://localhost:8080/"
        },
        "id": "yboE-GDHiaGc",
        "outputId": "2a35648e-103e-41b8-bbac-4399ed3c78c2"
      },
      "source": [
        "X_train_cat"
      ],
      "execution_count": 22,
      "outputs": [
        {
          "output_type": "execute_result",
          "data": {
            "text/plain": [
              "<98814x0 sparse matrix of type '<class 'numpy.float64'>'\n",
              "\twith 0 stored elements in Compressed Sparse Row format>"
            ]
          },
          "metadata": {
            "tags": []
          },
          "execution_count": 22
        }
      ]
    },
    {
      "cell_type": "markdown",
      "metadata": {
        "id": "iVnwtznxdFky"
      },
      "source": [
        "### Standardize the numerical variables.\r\n",
        "\r\n"
      ]
    },
    {
      "cell_type": "code",
      "metadata": {
        "colab": {
          "base_uri": "https://localhost:8080/"
        },
        "id": "F1qLFyijR-A_",
        "outputId": "c894d100-96c1-4755-8929-a8de9801135c"
      },
      "source": [
        "X.dtypes"
      ],
      "execution_count": 24,
      "outputs": [
        {
          "output_type": "execute_result",
          "data": {
            "text/plain": [
              "timestamp                           int64\n",
              "user_id                             int64\n",
              "content_id                          int64\n",
              "content_type_id                     int64\n",
              "task_container_id                   int64\n",
              "user_answer                         int64\n",
              "prior_question_elapsed_time       float64\n",
              "prior_question_had_explanation     object\n",
              "dtype: object"
            ]
          },
          "metadata": {
            "tags": []
          },
          "execution_count": 24
        }
      ]
    },
    {
      "cell_type": "code",
      "metadata": {
        "colab": {
          "base_uri": "https://localhost:8080/",
          "height": 953
        },
        "id": "8VJAtFxSnoTa",
        "outputId": "5019e538-50a7-45b9-9945-767254ea6995"
      },
      "source": [
        "# Check for normality on numerical features\r\n",
        "from scipy.stats import kstest\r\n",
        "\r\n",
        "X_num = X.select_dtypes(exclude=['category', 'bool'])\r\n",
        "numerical_columns = X_num.columns\r\n",
        "\r\n",
        "for feature in X_num.columns:\r\n",
        "  statistic, p = kstest(X_num[feature], 'norm')\r\n",
        "  print(f\"\\n{feature}:\\nStatistic: {statistic:0.5f}, p_value: {p:0.5f}\")\r\n",
        "  print('Probably gaussian.') if p>0.05 else print('Probably not gaussian.') "
      ],
      "execution_count": 23,
      "outputs": [
        {
          "output_type": "stream",
          "text": [
            "\n",
            "timestamp:\n",
            "Statistic: 0.99598, p_value: 0.00000\n",
            "Probably not gaussian.\n",
            "\n",
            "user_id:\n",
            "Statistic: 1.00000, p_value: 0.00000\n",
            "Probably not gaussian.\n",
            "\n",
            "content_id:\n",
            "Statistic: 0.99927, p_value: 0.00000\n",
            "Probably not gaussian.\n",
            "\n",
            "content_type_id:\n",
            "Statistic: 0.50000, p_value: 0.00000\n",
            "Probably not gaussian.\n",
            "\n",
            "task_container_id:\n",
            "Statistic: 0.98727, p_value: 0.00000\n",
            "Probably not gaussian.\n",
            "\n",
            "user_answer:\n",
            "Statistic: 0.54300, p_value: 0.00000\n",
            "Probably not gaussian.\n",
            "\n",
            "prior_question_elapsed_time:\n",
            "Statistic: nan, p_value: nan\n",
            "Probably not gaussian.\n"
          ],
          "name": "stdout"
        },
        {
          "output_type": "stream",
          "text": [
            "/usr/local/lib/python3.6/dist-packages/scipy/stats/_distn_infrastructure.py:903: RuntimeWarning: invalid value encountered in greater\n",
            "  return (a < x) & (x < b)\n",
            "/usr/local/lib/python3.6/dist-packages/scipy/stats/_distn_infrastructure.py:903: RuntimeWarning: invalid value encountered in less\n",
            "  return (a < x) & (x < b)\n",
            "/usr/local/lib/python3.6/dist-packages/scipy/stats/_distn_infrastructure.py:1827: RuntimeWarning: invalid value encountered in greater_equal\n",
            "  cond2 = (x >= np.asarray(_b)) & cond0\n"
          ],
          "name": "stderr"
        },
        {
          "output_type": "error",
          "ename": "TypeError",
          "evalue": "ignored",
          "traceback": [
            "\u001b[0;31m---------------------------------------------------------------------------\u001b[0m",
            "\u001b[0;31mTypeError\u001b[0m                                 Traceback (most recent call last)",
            "\u001b[0;32m<ipython-input-23-53622baebe4d>\u001b[0m in \u001b[0;36m<module>\u001b[0;34m()\u001b[0m\n\u001b[1;32m      6\u001b[0m \u001b[0;34m\u001b[0m\u001b[0m\n\u001b[1;32m      7\u001b[0m \u001b[0;32mfor\u001b[0m \u001b[0mfeature\u001b[0m \u001b[0;32min\u001b[0m \u001b[0mX_num\u001b[0m\u001b[0;34m.\u001b[0m\u001b[0mcolumns\u001b[0m\u001b[0;34m:\u001b[0m\u001b[0;34m\u001b[0m\u001b[0;34m\u001b[0m\u001b[0m\n\u001b[0;32m----> 8\u001b[0;31m   \u001b[0mstatistic\u001b[0m\u001b[0;34m,\u001b[0m \u001b[0mp\u001b[0m \u001b[0;34m=\u001b[0m \u001b[0mkstest\u001b[0m\u001b[0;34m(\u001b[0m\u001b[0mX_num\u001b[0m\u001b[0;34m[\u001b[0m\u001b[0mfeature\u001b[0m\u001b[0;34m]\u001b[0m\u001b[0;34m,\u001b[0m \u001b[0;34m'norm'\u001b[0m\u001b[0;34m)\u001b[0m\u001b[0;34m\u001b[0m\u001b[0;34m\u001b[0m\u001b[0m\n\u001b[0m\u001b[1;32m      9\u001b[0m   \u001b[0mprint\u001b[0m\u001b[0;34m(\u001b[0m\u001b[0;34mf\"\\n{feature}:\\nStatistic: {statistic:0.5f}, p_value: {p:0.5f}\"\u001b[0m\u001b[0;34m)\u001b[0m\u001b[0;34m\u001b[0m\u001b[0;34m\u001b[0m\u001b[0m\n\u001b[1;32m     10\u001b[0m   \u001b[0mprint\u001b[0m\u001b[0;34m(\u001b[0m\u001b[0;34m'Probably gaussian.'\u001b[0m\u001b[0;34m)\u001b[0m \u001b[0;32mif\u001b[0m \u001b[0mp\u001b[0m\u001b[0;34m>\u001b[0m\u001b[0;36m0.05\u001b[0m \u001b[0;32melse\u001b[0m \u001b[0mprint\u001b[0m\u001b[0;34m(\u001b[0m\u001b[0;34m'Probably not gaussian.'\u001b[0m\u001b[0;34m)\u001b[0m\u001b[0;34m\u001b[0m\u001b[0;34m\u001b[0m\u001b[0m\n",
            "\u001b[0;32m/usr/local/lib/python3.6/dist-packages/scipy/stats/stats.py\u001b[0m in \u001b[0;36mkstest\u001b[0;34m(rvs, cdf, args, N, alternative, mode)\u001b[0m\n\u001b[1;32m   5501\u001b[0m         \u001b[0mvals\u001b[0m \u001b[0;34m=\u001b[0m \u001b[0mnp\u001b[0m\u001b[0;34m.\u001b[0m\u001b[0msort\u001b[0m\u001b[0;34m(\u001b[0m\u001b[0mrvs\u001b[0m\u001b[0;34m)\u001b[0m\u001b[0;34m\u001b[0m\u001b[0;34m\u001b[0m\u001b[0m\n\u001b[1;32m   5502\u001b[0m         \u001b[0mN\u001b[0m \u001b[0;34m=\u001b[0m \u001b[0mlen\u001b[0m\u001b[0;34m(\u001b[0m\u001b[0mvals\u001b[0m\u001b[0;34m)\u001b[0m\u001b[0;34m\u001b[0m\u001b[0;34m\u001b[0m\u001b[0m\n\u001b[0;32m-> 5503\u001b[0;31m     \u001b[0mcdfvals\u001b[0m \u001b[0;34m=\u001b[0m \u001b[0mcdf\u001b[0m\u001b[0;34m(\u001b[0m\u001b[0mvals\u001b[0m\u001b[0;34m,\u001b[0m \u001b[0;34m*\u001b[0m\u001b[0margs\u001b[0m\u001b[0;34m)\u001b[0m\u001b[0;34m\u001b[0m\u001b[0;34m\u001b[0m\u001b[0m\n\u001b[0m\u001b[1;32m   5504\u001b[0m \u001b[0;34m\u001b[0m\u001b[0m\n\u001b[1;32m   5505\u001b[0m     \u001b[0;31m# to not break compatibility with existing code\u001b[0m\u001b[0;34m\u001b[0m\u001b[0;34m\u001b[0m\u001b[0;34m\u001b[0m\u001b[0m\n",
            "\u001b[0;32m/usr/local/lib/python3.6/dist-packages/scipy/stats/_distn_infrastructure.py\u001b[0m in \u001b[0;36mcdf\u001b[0;34m(self, x, *args, **kwds)\u001b[0m\n\u001b[1;32m   1828\u001b[0m         \u001b[0mcond\u001b[0m \u001b[0;34m=\u001b[0m \u001b[0mcond0\u001b[0m \u001b[0;34m&\u001b[0m \u001b[0mcond1\u001b[0m\u001b[0;34m\u001b[0m\u001b[0;34m\u001b[0m\u001b[0m\n\u001b[1;32m   1829\u001b[0m         \u001b[0moutput\u001b[0m \u001b[0;34m=\u001b[0m \u001b[0mzeros\u001b[0m\u001b[0;34m(\u001b[0m\u001b[0mshape\u001b[0m\u001b[0;34m(\u001b[0m\u001b[0mcond\u001b[0m\u001b[0;34m)\u001b[0m\u001b[0;34m,\u001b[0m \u001b[0mdtyp\u001b[0m\u001b[0;34m)\u001b[0m\u001b[0;34m\u001b[0m\u001b[0;34m\u001b[0m\u001b[0m\n\u001b[0;32m-> 1830\u001b[0;31m         \u001b[0mplace\u001b[0m\u001b[0;34m(\u001b[0m\u001b[0moutput\u001b[0m\u001b[0;34m,\u001b[0m \u001b[0;34m(\u001b[0m\u001b[0;36m1\u001b[0m\u001b[0;34m-\u001b[0m\u001b[0mcond0\u001b[0m\u001b[0;34m)\u001b[0m\u001b[0;34m+\u001b[0m\u001b[0mnp\u001b[0m\u001b[0;34m.\u001b[0m\u001b[0misnan\u001b[0m\u001b[0;34m(\u001b[0m\u001b[0mx\u001b[0m\u001b[0;34m)\u001b[0m\u001b[0;34m,\u001b[0m \u001b[0mself\u001b[0m\u001b[0;34m.\u001b[0m\u001b[0mbadvalue\u001b[0m\u001b[0;34m)\u001b[0m\u001b[0;34m\u001b[0m\u001b[0;34m\u001b[0m\u001b[0m\n\u001b[0m\u001b[1;32m   1831\u001b[0m         \u001b[0mplace\u001b[0m\u001b[0;34m(\u001b[0m\u001b[0moutput\u001b[0m\u001b[0;34m,\u001b[0m \u001b[0mcond2\u001b[0m\u001b[0;34m,\u001b[0m \u001b[0;36m1.0\u001b[0m\u001b[0;34m)\u001b[0m\u001b[0;34m\u001b[0m\u001b[0;34m\u001b[0m\u001b[0m\n\u001b[1;32m   1832\u001b[0m         \u001b[0;32mif\u001b[0m \u001b[0mnp\u001b[0m\u001b[0;34m.\u001b[0m\u001b[0many\u001b[0m\u001b[0;34m(\u001b[0m\u001b[0mcond\u001b[0m\u001b[0;34m)\u001b[0m\u001b[0;34m:\u001b[0m  \u001b[0;31m# call only if at least 1 entry\u001b[0m\u001b[0;34m\u001b[0m\u001b[0;34m\u001b[0m\u001b[0m\n",
            "\u001b[0;31mTypeError\u001b[0m: ufunc 'isnan' not supported for the input types, and the inputs could not be safely coerced to any supported types according to the casting rule ''safe''"
          ]
        }
      ]
    },
    {
      "cell_type": "markdown",
      "metadata": {
        "id": "J7TDsvTXpteF"
      },
      "source": [
        "We see that none of the numerical features are normally distributed. Let's standardize them using the StandardScaler."
      ]
    },
    {
      "cell_type": "code",
      "metadata": {
        "id": "PAHG2XgRxtCJ"
      },
      "source": [
        "from sklearn.preprocessing import StandardScaler\r\n",
        " \r\n",
        "# Instantiate scaler object\r\n",
        "scaler = StandardScaler()\r\n",
        "\r\n",
        "# Fit: Compute the mean and std to be used for later scaling.\r\n",
        "# And tranform\r\n",
        "X_new = scaler.fit_transform(X_num)\r\n",
        "X_new"
      ],
      "execution_count": null,
      "outputs": []
    },
    {
      "cell_type": "code",
      "metadata": {
        "id": "kgch836ozoIS"
      },
      "source": [
        "# Check the old vs new mean\r\n",
        "np.mean(X_num, axis=0), np.mean(X_new, axis=0)"
      ],
      "execution_count": null,
      "outputs": []
    },
    {
      "cell_type": "code",
      "metadata": {
        "id": "zJGN2tKm0-gn"
      },
      "source": [
        "# Check the old vs new standard deviation\r\n",
        "np.std(X_num, axis=0), np.std(X_new, axis=0)"
      ],
      "execution_count": null,
      "outputs": []
    },
    {
      "cell_type": "markdown",
      "metadata": {
        "id": "THqxbTeV1F9S"
      },
      "source": [
        "As expected, the X_new means are zero, and the standard deviations are 1."
      ]
    },
    {
      "cell_type": "markdown",
      "metadata": {
        "id": "UYbtSoHXCQWs"
      },
      "source": [
        "### Combine the transformed features into one transformed dataframe."
      ]
    },
    {
      "cell_type": "code",
      "metadata": {
        "id": "0e4FsTyi1OF4"
      },
      "source": [
        "#Make sure the shapes are compatible\r\n",
        "X_t.shape, X_new.shape\r\n"
      ],
      "execution_count": null,
      "outputs": []
    },
    {
      "cell_type": "code",
      "metadata": {
        "id": "gFxBzulfNcw8"
      },
      "source": [
        "# Check index on X_t\r\n",
        "X_t.index"
      ],
      "execution_count": null,
      "outputs": []
    },
    {
      "cell_type": "code",
      "metadata": {
        "id": "2SI7UIHn1Vrf"
      },
      "source": [
        "# Make a dataframe for X_new\r\n",
        "X_new_df = pd.DataFrame(X_new, columns=numerical_columns)\r\n",
        "X_new_df"
      ],
      "execution_count": null,
      "outputs": []
    },
    {
      "cell_type": "code",
      "metadata": {
        "id": "eJBB8qGKI48Y"
      },
      "source": [
        "X_new_df.isna().sum()"
      ],
      "execution_count": null,
      "outputs": []
    },
    {
      "cell_type": "code",
      "metadata": {
        "id": "vCdrkEViI_CF"
      },
      "source": [
        "X_new_df.dtypes"
      ],
      "execution_count": null,
      "outputs": []
    },
    {
      "cell_type": "code",
      "metadata": {
        "id": "X5MPm386JCqH"
      },
      "source": [
        "X_t[numerical_columns].dtypes"
      ],
      "execution_count": null,
      "outputs": []
    },
    {
      "cell_type": "code",
      "metadata": {
        "id": "qHvlDDX9CGr8"
      },
      "source": [
        "# Select all numerical columns from X_new\r\n",
        "\r\n",
        "numerical_columns = X_new_df.select_dtypes(include=['int64', 'float64']).columns\r\n",
        "numerical_columns"
      ],
      "execution_count": null,
      "outputs": []
    },
    {
      "cell_type": "code",
      "metadata": {
        "id": "EM-cOKMiMYAy"
      },
      "source": [
        "# Add transformed numerical columns\r\n",
        "for num_feature in numerical_columns:\r\n",
        "  X_t[num_feature] = X_new_df[num_feature]\r\n",
        "X_t[numerical_columns]"
      ],
      "execution_count": null,
      "outputs": []
    },
    {
      "cell_type": "code",
      "metadata": {
        "id": "vzlndriMG4Fb"
      },
      "source": [
        "X_t.dtypes"
      ],
      "execution_count": null,
      "outputs": []
    },
    {
      "cell_type": "code",
      "metadata": {
        "id": "0owOGkj5TWjw"
      },
      "source": [
        "X_t.shape"
      ],
      "execution_count": null,
      "outputs": []
    },
    {
      "cell_type": "markdown",
      "metadata": {
        "id": "9cov9xckWvrE"
      },
      "source": [
        "# Baseline Modelling"
      ]
    },
    {
      "cell_type": "markdown",
      "metadata": {
        "id": "zdpSYERsW5K4"
      },
      "source": [
        "## Logistic Regression"
      ]
    },
    {
      "cell_type": "code",
      "metadata": {
        "id": "GG09NA0aw2uX"
      },
      "source": [
        "from sklearn.linear_model import LogisticRegression\r\n",
        "from sklearn.metrics import roc_auc_score\r\n",
        "from sklearn.metrics import plot_confusion_matrix\r\n",
        "\r\n",
        "# Instantiate classifier object\r\n",
        "log_reg = LogisticRegression()\r\n",
        "\r\n",
        "# Fit classifier\r\n",
        "log_reg.fit(X_train, y_train)\r\n",
        "\r\n",
        "# Make predictions on the train and test sets\r\n",
        "y_train_preds = log_reg.predict_proba(X_train)[:,1]\r\n",
        "y_test_preds = log_reg.predict_proba(X_test)[:,1]\r\n",
        "\r\n",
        "#Score the predictions\r\n",
        "log_reg_train_roc_score = roc_auc_score(y_train, y_train_preds)\r\n",
        "log_reg_test_roc_score = roc_auc_score(y_test, y_test_preds)\r\n",
        "\r\n",
        "print(f\"Training roc_auc_score: {log_reg_train_roc_score:0.5f}\")\r\n",
        "print(f\"Testing roc_auc_score: {log_reg_test_roc_score:0.5f}\")\r\n",
        "\r\n",
        "# Plot normalized confusion matrix\r\n",
        "disp = plot_confusion_matrix(log_reg, X_test, y_test,\r\n",
        "                              cmap=plt.cm.Blues,\r\n",
        "                             normalize='true')\r\n",
        "disp.ax_.set_title(\"Normalized confusion matrix\")\r\n",
        "plt.show()"
      ],
      "execution_count": null,
      "outputs": []
    },
    {
      "cell_type": "markdown",
      "metadata": {
        "id": "ojZgrjEWwZhh"
      },
      "source": [
        "That's a pretty bad score for a baseline model. It's good in training, and terrible in test.\r\n"
      ]
    },
    {
      "cell_type": "markdown",
      "metadata": {
        "id": "OS8hpea7r0E3"
      },
      "source": [
        "## LightGBM"
      ]
    },
    {
      "cell_type": "code",
      "metadata": {
        "id": "moZP0iP-rmLb"
      },
      "source": [
        "from lightgbm import LGBMClassifier\r\n",
        "\r\n",
        "# Instantiate the classifier object\r\n",
        "lgbm = LGBMClassifier(\r\n",
        "    num_leaves=31, \r\n",
        "    max_depth= 2, \r\n",
        "    n_estimators = 25, \r\n",
        "    min_child_samples = 1000, \r\n",
        "    subsample=0.7, \r\n",
        "    subsample_freq=5,\r\n",
        "    n_jobs= -1,\r\n",
        "    is_higher_better = True,\r\n",
        "    first_metric_only = True\r\n",
        ")\r\n",
        "\r\n",
        "# Fit the classifier object to the train data\r\n",
        "lgbm.fit(X_train, y_train)\r\n",
        "\r\n",
        "# Make predictions on the train and test sets\r\n",
        "y_train_preds = lgbm.predict_proba(X_train)[:,1]\r\n",
        "y_test_preds = lgbm.predict_proba(X_test)[:,1]\r\n",
        "\r\n",
        "#Score the predictions\r\n",
        "lgbm_train_roc_score = roc_auc_score(y_train, y_train_preds)\r\n",
        "lgbm_test_roc_score = roc_auc_score(y_test, y_test_preds)\r\n",
        "\r\n",
        "print(f\"Training roc_auc_score: {lgbm_train_roc_score:0.5f}\")\r\n",
        "print(f\"Testing roc_auc_score: {lgbm_test_roc_score:0.5f}\")\r\n",
        "\r\n",
        "# Plot normalized confusion matrix\r\n",
        "disp = plot_confusion_matrix(lgbm, X_test, y_test,\r\n",
        "                              cmap=plt.cm.Blues,\r\n",
        "                             normalize='true')\r\n",
        "disp.ax_.set_title(\"Normalized confusion matrix\")\r\n",
        "plt.show()"
      ],
      "execution_count": null,
      "outputs": []
    },
    {
      "cell_type": "markdown",
      "metadata": {
        "id": "h0TkCz8jxWUd"
      },
      "source": [
        "We see that the LGBM baseline is better than the logistic regression model baseline."
      ]
    },
    {
      "cell_type": "markdown",
      "metadata": {
        "id": "Rs6mi0uzxV3T"
      },
      "source": [
        "## K-Nearest-Neighbors Classifier"
      ]
    },
    {
      "cell_type": "code",
      "metadata": {
        "id": "gzjy9veRtWiT"
      },
      "source": [
        "from sklearn.neighbors import KNeighborsClassifier\r\n",
        "\r\n",
        "# Instantiate the classifier object\r\n",
        "knn = KNeighborsClassifier(n_neighbors=3)\r\n",
        "\r\n",
        "# Fit the classifier object to the train data\r\n",
        "knn.fit(X_train, y_train)\r\n",
        "\r\n",
        "# Make predictions on the train and test sets\r\n",
        "y_train_preds = knn.predict_proba(X_train)[:,1]\r\n",
        "y_test_preds = knn.predict_proba(X_test)[:,1]\r\n",
        "\r\n",
        "#Score the predictions\r\n",
        "knn_train_roc_score = roc_auc_score(y_train, y_train_preds)\r\n",
        "knn_test_roc_score = roc_auc_score(y_test, y_test_preds)\r\n",
        "\r\n",
        "print(f\"Training roc_auc_score: {knn_train_roc_score:0.5f}\")\r\n",
        "print(f\"Testing roc_auc_score: {knn_test_roc_score:0.5f}\")\r\n",
        "\r\n",
        "# Plot normalized confusion matrix\r\n",
        "disp = plot_confusion_matrix(knn, X_test, y_test,\r\n",
        "                              cmap=plt.cm.Blues,\r\n",
        "                             normalize='true')\r\n",
        "disp.ax_.set_title(\"Normalized confusion matrix\")\r\n",
        "plt.show()"
      ],
      "execution_count": null,
      "outputs": []
    },
    {
      "cell_type": "markdown",
      "metadata": {
        "id": "pzmnXXP02g0C"
      },
      "source": [
        "## Section Summary\r\n",
        "\r\n",
        "We tested three baseline models: Logistic Regression, LightGBM, and K-Nearest Neighbors. Each model is from a different class of models and they each have their trade-offs and assumptions.\r\n",
        "\r\n",
        "Logistic Regression performed well intraining and poorly in testing.\r\n",
        "\r\n",
        "K-Nearest-Neighbors performed great in training but worst of all three models on the test data. This is evidence that the model baseline tuning is over-fitting on noise in the training data.\r\n",
        "\r\n",
        "LightGBM performed the worst with the baseline hyperparameters. It assigned the target variable the same value for all inputs. It did not learn anything from training. I'll have to adjust the code on this model.\r\n",
        "\r\n"
      ]
    },
    {
      "cell_type": "markdown",
      "metadata": {
        "id": "Svf2TjYWytsC"
      },
      "source": [
        "We see that the baseline K-Nearest-Neighbors Classifier did quite well on the training set, but very poorly on the test set. KNN takes the longest to run. I'll have to adjust the hyper parameters or do some feature engineering to reduce the number of columns. Also, as the KNN took about 20 times longer to run than the other models, it makes sense that it's mch better.\r\n"
      ]
    },
    {
      "cell_type": "code",
      "metadata": {
        "id": "Oy42t3Avb2w_"
      },
      "source": [
        "#Training and test roc_scores\r\n",
        "print(f\"log_reg_train_roc_score: {log_reg_train_roc_score:0.5f}\")\r\n",
        "print(f\"log_reg_test_roc_score: {log_reg_test_roc_score:0.5f}\")\r\n",
        "\r\n",
        "print(f\"lgbm_train_roc_score: {lgbm_train_roc_score:0.5f}\")\r\n",
        "print(f\"lgbm_test_roc_score: {lgbm_test_roc_score:0.5f}\")\r\n",
        "\r\n",
        "print(f\"knn_train_roc_score: {knn_train_roc_score:0.5f}\")\r\n",
        "print(f\"knn_test_roc_score: {knn_test_roc_score:0.5f}\")"
      ],
      "execution_count": null,
      "outputs": []
    },
    {
      "cell_type": "markdown",
      "metadata": {
        "id": "nn2b9cx8cCwf"
      },
      "source": [
        "To do:\r\n",
        "after chi square, add a visual\r\n",
        "\r\n",
        "If the cat var is not robust, it might not contribute much. Make a chart to see this.\r\n",
        "\r\n",
        "Use a logistic regression model:\r\n",
        "\r\n",
        "fOR each one var, convert to dummy var, and build a model to pred the target,\r\n",
        "Get_dummy()\r\n",
        "use train_test_split() (20% test, 80% train), dont train model on test data split. (high bias, high variance tradeoff: find the optimum, buy evaluating the model on the test split.)\r\n",
        "Choose a model:\r\n",
        "\r\n",
        "Based on advantages and disadvantages of each model, and it's assumptions match the data set.\r\n",
        "Start with one model from each family\r\n",
        "Decision tree - no further treatment of model needed. Maximizes information. Don't need to normalize/scale. Watch out for over fitting with a complex decision tree.\r\n",
        "KNN model -\r\n",
        "Boosting model like random forest Will have a p val for each category. ANOVA on each cat in logistic regression.\r\n",
        "Include a brief writeup of the advantages, disadvantages, and assumptions on each model.\r\n",
        "\r\n",
        "https://scikit-learn.org/stable/modules/tree.html#classification\r\n",
        "\r\n",
        "Measure performance of the model with confusion matrix.\r\n",
        "\r\n",
        "Next meeting at Jan 8, 2pm HST (4pm PST)"
      ]
    },
    {
      "cell_type": "code",
      "metadata": {
        "id": "E7EqqdQgPCwf"
      },
      "source": [
        ""
      ],
      "execution_count": null,
      "outputs": []
    }
  ]
}