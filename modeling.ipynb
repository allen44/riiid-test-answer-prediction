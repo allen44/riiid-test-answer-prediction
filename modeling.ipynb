{
  "nbformat": 4,
  "nbformat_minor": 0,
  "metadata": {
    "colab": {
      "name": "riiid_modeling.ipynb",
      "provenance": [],
      "collapsed_sections": [],
      "authorship_tag": "ABX9TyNiWSVoVSKi+TT0TgUXz/bB",
      "include_colab_link": true
    },
    "kernelspec": {
      "name": "python3",
      "display_name": "Python 3"
    }
  },
  "cells": [
    {
      "cell_type": "markdown",
      "metadata": {
        "id": "view-in-github",
        "colab_type": "text"
      },
      "source": [
        "<a href=\"https://colab.research.google.com/github/allen44/riiid-test-answer-prediction/blob/main/modeling.ipynb\" target=\"_parent\"><img src=\"https://colab.research.google.com/assets/colab-badge.svg\" alt=\"Open In Colab\"/></a>"
      ]
    },
    {
      "cell_type": "code",
      "metadata": {
        "id": "IqKo-hGAHKZA"
      },
      "source": [
        ""
      ],
      "execution_count": null,
      "outputs": []
    },
    {
      "cell_type": "markdown",
      "metadata": {
        "id": "8nJacAMHWgKD"
      },
      "source": [
        "# Make Train Test Splits"
      ]
    },
    {
      "cell_type": "code",
      "metadata": {
        "colab": {
          "base_uri": "https://localhost:8080/"
        },
        "id": "xWkgt-MKuVJ1",
        "outputId": "4993463c-2e9a-4446-b07b-8fc625c2252f"
      },
      "source": [
        "# define target variable, y, and independant variables, X\r\n",
        "\r\n",
        "X = df.drop(columns=['answered_correctly'])\r\n",
        "y = df['answered_correctly']\r\n",
        "\r\n",
        "X.shape, y.shape\r\n"
      ],
      "execution_count": null,
      "outputs": [
        {
          "output_type": "execute_result",
          "data": {
            "text/plain": [
              "((10124, 9), (10124,))"
            ]
          },
          "metadata": {
            "tags": []
          },
          "execution_count": 501
        }
      ]
    },
    {
      "cell_type": "code",
      "metadata": {
        "colab": {
          "base_uri": "https://localhost:8080/"
        },
        "id": "qTERHwb4ua4u",
        "outputId": "03bbc16e-5ace-431e-a960-d459be617006"
      },
      "source": [
        "# Make Train Test Splits\r\n",
        "\r\n",
        "from sklearn.model_selection import train_test_split\r\n",
        "\r\n",
        "X_train, X_test, y_train, y_test = train_test_split(X, y, test_size=0.20, random_state=42)\r\n",
        "\r\n",
        "X_train.shape, X_test.shape, y_train.shape, y_test.shape"
      ],
      "execution_count": null,
      "outputs": [
        {
          "output_type": "execute_result",
          "data": {
            "text/plain": [
              "((8099, 9), (2025, 9), (8099,), (2025,))"
            ]
          },
          "metadata": {
            "tags": []
          },
          "execution_count": 502
        }
      ]
    },
    {
      "cell_type": "markdown",
      "metadata": {
        "id": "8PvFKNOOyuB9"
      },
      "source": [
        "#Transform data to fit classifier\r\n",
        "\r\n",
        "Some classifier require variables in a certian form. Some classifiers cannot handle NA values. We will fix those in this section.\r\n"
      ]
    },
    {
      "cell_type": "code",
      "metadata": {
        "colab": {
          "base_uri": "https://localhost:8080/"
        },
        "id": "HU0eJ2mz2jzq",
        "outputId": "b65a1173-946e-431a-c5ee-37f3e74fe5b0"
      },
      "source": [
        "# Count NA values\r\n",
        "X_train.isna().sum()"
      ],
      "execution_count": null,
      "outputs": [
        {
          "output_type": "execute_result",
          "data": {
            "text/plain": [
              "timestamp                           0\n",
              "user_id                             0\n",
              "content_id                          0\n",
              "content_type_id                     0\n",
              "task_container_id                   0\n",
              "user_answer                         0\n",
              "prior_question_elapsed_time       173\n",
              "prior_question_had_explanation      0\n",
              "user_id_event_count                 0\n",
              "dtype: int64"
            ]
          },
          "metadata": {
            "tags": []
          },
          "execution_count": 509
        }
      ]
    },
    {
      "cell_type": "markdown",
      "metadata": {
        "id": "gnTlZ9AEUUm2"
      },
      "source": [
        "Even though most data is not NA, recall that the data description showed that some data is \"null\" but were encoded as '-1' or other values. We'll encode them as NA instead."
      ]
    },
    {
      "cell_type": "code",
      "metadata": {
        "colab": {
          "base_uri": "https://localhost:8080/"
        },
        "id": "NgWTNxp3z1t8",
        "outputId": "ed303e56-cc3c-464c-a9da-4da6990b52db"
      },
      "source": [
        "# Convert Null values to NA\r\n",
        "\r\n",
        "encoded_X = X.copy()\r\n",
        "print('Before:\\n', encoded_X.isna().sum())\r\n",
        "\r\n",
        "# content_type_id: \"1 if the event was the user watching a lecture.\"\r\n",
        "encoded_X['content_type_id'] = encoded_X['content_type_id'].mask(encoded_X['content_type_id']==1)\r\n",
        "\r\n",
        "\r\n",
        "# user_answer: \" Read -1 as null, for lectures.\"\r\n",
        "encoded_X['user_answer'] = encoded_X['user_answer'].mask(encoded_X['user_answer']==-1)\r\n",
        "\r\n",
        "# # answered_correctly Read -1 as null, for lectures\r\n",
        "# encoded_X['answered_correctly'] = encoded_X['answered_correctly'].mask(encoded_X['answered_correctly']==-1)\r\n",
        "\r\n",
        "\r\n",
        "# Count the NA entries\r\n",
        "print('\\nAfter:\\n', encoded_X.isna().sum())"
      ],
      "execution_count": null,
      "outputs": [
        {
          "output_type": "stream",
          "text": [
            "Before:\n",
            " timestamp                           0\n",
            "user_id                             0\n",
            "content_id                          0\n",
            "content_type_id                     0\n",
            "task_container_id                   0\n",
            "user_answer                         0\n",
            "prior_question_elapsed_time       222\n",
            "prior_question_had_explanation      0\n",
            "user_id_event_count                 0\n",
            "dtype: int64\n",
            "\n",
            "After:\n",
            " timestamp                           0\n",
            "user_id                             0\n",
            "content_id                          0\n",
            "content_type_id                   201\n",
            "task_container_id                   0\n",
            "user_answer                       201\n",
            "prior_question_elapsed_time       222\n",
            "prior_question_had_explanation      0\n",
            "user_id_event_count                 0\n",
            "dtype: int64\n"
          ],
          "name": "stdout"
        }
      ]
    },
    {
      "cell_type": "markdown",
      "metadata": {
        "id": "3v3OBKz7Vkvo"
      },
      "source": [
        "In the before and after printouts, we see the effect of masking the null-encoded values, and replacing them with NA."
      ]
    },
    {
      "cell_type": "markdown",
      "metadata": {
        "id": "nZwbCmUxy6Sa"
      },
      "source": [
        "## Drop NA rows \r\n",
        "\r\n",
        "Based on our earlier EDA, we have enough information to make informed decision on how to handle NA values.\r\n",
        "\r\n"
      ]
    },
    {
      "cell_type": "code",
      "metadata": {
        "colab": {
          "base_uri": "https://localhost:8080/"
        },
        "id": "rmWLpvOfl-jm",
        "outputId": "c7fbc879-7948-4882-83ba-d5f13f8e2192"
      },
      "source": [
        "encoded_X.shape"
      ],
      "execution_count": null,
      "outputs": [
        {
          "output_type": "execute_result",
          "data": {
            "text/plain": [
              "(10124, 9)"
            ]
          },
          "metadata": {
            "tags": []
          },
          "execution_count": 511
        }
      ]
    },
    {
      "cell_type": "code",
      "metadata": {
        "colab": {
          "base_uri": "https://localhost:8080/"
        },
        "id": "xS603wdBWCfd",
        "outputId": "cc6d77dc-c382-4590-e836-20d2cca8f86a"
      },
      "source": [
        "encoded_X_no_na = encoded_X.dropna().reset_index(drop=True)\r\n",
        "encoded_X_no_na.isna().sum()"
      ],
      "execution_count": null,
      "outputs": [
        {
          "output_type": "execute_result",
          "data": {
            "text/plain": [
              "timestamp                         0\n",
              "user_id                           0\n",
              "content_id                        0\n",
              "content_type_id                   0\n",
              "task_container_id                 0\n",
              "user_answer                       0\n",
              "prior_question_elapsed_time       0\n",
              "prior_question_had_explanation    0\n",
              "user_id_event_count               0\n",
              "dtype: int64"
            ]
          },
          "metadata": {
            "tags": []
          },
          "execution_count": 512
        }
      ]
    },
    {
      "cell_type": "code",
      "metadata": {
        "colab": {
          "base_uri": "https://localhost:8080/"
        },
        "id": "YD_cTMDOl9sr",
        "outputId": "83edd5c3-2cd3-4b11-8a8d-24c0bb72bcfa"
      },
      "source": [
        "encoded_X_no_na.shape"
      ],
      "execution_count": null,
      "outputs": [
        {
          "output_type": "execute_result",
          "data": {
            "text/plain": [
              "(9902, 9)"
            ]
          },
          "metadata": {
            "tags": []
          },
          "execution_count": 513
        }
      ]
    },
    {
      "cell_type": "markdown",
      "metadata": {
        "id": "zI-yISQucoNl"
      },
      "source": [
        "We see that the .shape attribute shows that about 2% of the entries were dropped."
      ]
    },
    {
      "cell_type": "markdown",
      "metadata": {
        "id": "kAjpCBJCgO4N"
      },
      "source": [
        "## Drop features that don't predict the target variable"
      ]
    },
    {
      "cell_type": "code",
      "metadata": {
        "colab": {
          "base_uri": "https://localhost:8080/",
          "height": 419
        },
        "id": "xQUo3ekjgWkL",
        "outputId": "d25cceb0-b86d-4110-9eea-6cd2f803553d"
      },
      "source": [
        "# Drop user_id\r\n",
        "encoded_X_no_na = encoded_X_no_na.drop(columns='user_id').reset_index(drop=True)\r\n",
        "encoded_X_no_na"
      ],
      "execution_count": null,
      "outputs": [
        {
          "output_type": "execute_result",
          "data": {
            "text/html": [
              "<div>\n",
              "<style scoped>\n",
              "    .dataframe tbody tr th:only-of-type {\n",
              "        vertical-align: middle;\n",
              "    }\n",
              "\n",
              "    .dataframe tbody tr th {\n",
              "        vertical-align: top;\n",
              "    }\n",
              "\n",
              "    .dataframe thead th {\n",
              "        text-align: right;\n",
              "    }\n",
              "</style>\n",
              "<table border=\"1\" class=\"dataframe\">\n",
              "  <thead>\n",
              "    <tr style=\"text-align: right;\">\n",
              "      <th></th>\n",
              "      <th>timestamp</th>\n",
              "      <th>content_id</th>\n",
              "      <th>content_type_id</th>\n",
              "      <th>task_container_id</th>\n",
              "      <th>user_answer</th>\n",
              "      <th>prior_question_elapsed_time</th>\n",
              "      <th>prior_question_had_explanation</th>\n",
              "      <th>user_id_event_count</th>\n",
              "    </tr>\n",
              "  </thead>\n",
              "  <tbody>\n",
              "    <tr>\n",
              "      <th>0</th>\n",
              "      <td>2868613211</td>\n",
              "      <td>1219</td>\n",
              "      <td>0</td>\n",
              "      <td>780</td>\n",
              "      <td>1</td>\n",
              "      <td>17000.0</td>\n",
              "      <td>True</td>\n",
              "      <td>1</td>\n",
              "    </tr>\n",
              "    <tr>\n",
              "      <th>1</th>\n",
              "      <td>14686539127</td>\n",
              "      <td>10656</td>\n",
              "      <td>0</td>\n",
              "      <td>1317</td>\n",
              "      <td>0</td>\n",
              "      <td>19000.0</td>\n",
              "      <td>True</td>\n",
              "      <td>1</td>\n",
              "    </tr>\n",
              "    <tr>\n",
              "      <th>2</th>\n",
              "      <td>1083486476</td>\n",
              "      <td>6857</td>\n",
              "      <td>0</td>\n",
              "      <td>243</td>\n",
              "      <td>3</td>\n",
              "      <td>11750.0</td>\n",
              "      <td>True</td>\n",
              "      <td>1</td>\n",
              "    </tr>\n",
              "    <tr>\n",
              "      <th>3</th>\n",
              "      <td>15426935577</td>\n",
              "      <td>6798</td>\n",
              "      <td>0</td>\n",
              "      <td>1515</td>\n",
              "      <td>0</td>\n",
              "      <td>9000.0</td>\n",
              "      <td>False</td>\n",
              "      <td>1</td>\n",
              "    </tr>\n",
              "    <tr>\n",
              "      <th>4</th>\n",
              "      <td>8841108363</td>\n",
              "      <td>10294</td>\n",
              "      <td>0</td>\n",
              "      <td>988</td>\n",
              "      <td>2</td>\n",
              "      <td>31500.0</td>\n",
              "      <td>True</td>\n",
              "      <td>1</td>\n",
              "    </tr>\n",
              "    <tr>\n",
              "      <th>...</th>\n",
              "      <td>...</td>\n",
              "      <td>...</td>\n",
              "      <td>...</td>\n",
              "      <td>...</td>\n",
              "      <td>...</td>\n",
              "      <td>...</td>\n",
              "      <td>...</td>\n",
              "      <td>...</td>\n",
              "    </tr>\n",
              "    <tr>\n",
              "      <th>9897</th>\n",
              "      <td>1158534297</td>\n",
              "      <td>383</td>\n",
              "      <td>0</td>\n",
              "      <td>300</td>\n",
              "      <td>0</td>\n",
              "      <td>20000.0</td>\n",
              "      <td>True</td>\n",
              "      <td>1</td>\n",
              "    </tr>\n",
              "    <tr>\n",
              "      <th>9898</th>\n",
              "      <td>9269436738</td>\n",
              "      <td>11859</td>\n",
              "      <td>0</td>\n",
              "      <td>163</td>\n",
              "      <td>1</td>\n",
              "      <td>26000.0</td>\n",
              "      <td>True</td>\n",
              "      <td>1</td>\n",
              "    </tr>\n",
              "    <tr>\n",
              "      <th>9899</th>\n",
              "      <td>4609471378</td>\n",
              "      <td>1202</td>\n",
              "      <td>0</td>\n",
              "      <td>1506</td>\n",
              "      <td>1</td>\n",
              "      <td>15000.0</td>\n",
              "      <td>True</td>\n",
              "      <td>1</td>\n",
              "    </tr>\n",
              "    <tr>\n",
              "      <th>9900</th>\n",
              "      <td>689004</td>\n",
              "      <td>6880</td>\n",
              "      <td>0</td>\n",
              "      <td>14</td>\n",
              "      <td>2</td>\n",
              "      <td>44000.0</td>\n",
              "      <td>False</td>\n",
              "      <td>1</td>\n",
              "    </tr>\n",
              "    <tr>\n",
              "      <th>9901</th>\n",
              "      <td>767149</td>\n",
              "      <td>586</td>\n",
              "      <td>0</td>\n",
              "      <td>25</td>\n",
              "      <td>0</td>\n",
              "      <td>15000.0</td>\n",
              "      <td>True</td>\n",
              "      <td>1</td>\n",
              "    </tr>\n",
              "  </tbody>\n",
              "</table>\n",
              "<p>9902 rows × 8 columns</p>\n",
              "</div>"
            ],
            "text/plain": [
              "        timestamp  ... user_id_event_count\n",
              "0      2868613211  ...                   1\n",
              "1     14686539127  ...                   1\n",
              "2      1083486476  ...                   1\n",
              "3     15426935577  ...                   1\n",
              "4      8841108363  ...                   1\n",
              "...           ...  ...                 ...\n",
              "9897   1158534297  ...                   1\n",
              "9898   9269436738  ...                   1\n",
              "9899   4609471378  ...                   1\n",
              "9900       689004  ...                   1\n",
              "9901       767149  ...                   1\n",
              "\n",
              "[9902 rows x 8 columns]"
            ]
          },
          "metadata": {
            "tags": []
          },
          "execution_count": 514
        }
      ]
    },
    {
      "cell_type": "markdown",
      "metadata": {
        "id": "1hjjhBOly1Yy"
      },
      "source": [
        "## Encode Dummy Variables\r\n",
        "\r\n",
        "The categorical variables need to be one-hot-encoded for most of the models to work correctly.\r\n",
        "\r\n",
        "The numerical variables may need to be standardized for some models.\r\n"
      ]
    },
    {
      "cell_type": "code",
      "metadata": {
        "colab": {
          "base_uri": "https://localhost:8080/",
          "height": 439
        },
        "id": "hoeCcMyE5jrR",
        "outputId": "6bb78d52-a19e-4cfd-c140-48d30a8a3771"
      },
      "source": [
        "# X_t = pd.get_dummies(X, drop_first=False, dtype=bool)\r\n",
        "X_t = pd.get_dummies(X, drop_first=True, dtype=bool)\r\n",
        "X_t"
      ],
      "execution_count": null,
      "outputs": [
        {
          "output_type": "execute_result",
          "data": {
            "text/html": [
              "<div>\n",
              "<style scoped>\n",
              "    .dataframe tbody tr th:only-of-type {\n",
              "        vertical-align: middle;\n",
              "    }\n",
              "\n",
              "    .dataframe tbody tr th {\n",
              "        vertical-align: top;\n",
              "    }\n",
              "\n",
              "    .dataframe thead th {\n",
              "        text-align: right;\n",
              "    }\n",
              "</style>\n",
              "<table border=\"1\" class=\"dataframe\">\n",
              "  <thead>\n",
              "    <tr style=\"text-align: right;\">\n",
              "      <th></th>\n",
              "      <th>timestamp</th>\n",
              "      <th>prior_question_elapsed_time</th>\n",
              "      <th>prior_question_had_explanation</th>\n",
              "      <th>user_id_event_count</th>\n",
              "      <th>user_id_91216</th>\n",
              "      <th>user_id_220268</th>\n",
              "      <th>user_id_650467</th>\n",
              "      <th>user_id_1084314</th>\n",
              "      <th>user_id_1282581</th>\n",
              "      <th>user_id_1283420</th>\n",
              "      <th>user_id_1502650</th>\n",
              "      <th>user_id_1765772</th>\n",
              "      <th>user_id_1989232</th>\n",
              "      <th>user_id_2078569</th>\n",
              "      <th>user_id_2393889</th>\n",
              "      <th>user_id_2475583</th>\n",
              "      <th>user_id_2678068</th>\n",
              "      <th>user_id_2891629</th>\n",
              "      <th>user_id_3194563</th>\n",
              "      <th>user_id_3270696</th>\n",
              "      <th>user_id_3637398</th>\n",
              "      <th>user_id_3824269</th>\n",
              "      <th>user_id_3892809</th>\n",
              "      <th>user_id_4022163</th>\n",
              "      <th>user_id_4222121</th>\n",
              "      <th>user_id_4324252</th>\n",
              "      <th>user_id_4421282</th>\n",
              "      <th>user_id_4498487</th>\n",
              "      <th>user_id_4702585</th>\n",
              "      <th>user_id_4877689</th>\n",
              "      <th>user_id_5103696</th>\n",
              "      <th>user_id_5365886</th>\n",
              "      <th>user_id_5401739</th>\n",
              "      <th>user_id_5615405</th>\n",
              "      <th>user_id_5986081</th>\n",
              "      <th>user_id_6146089</th>\n",
              "      <th>user_id_6475477</th>\n",
              "      <th>user_id_6610089</th>\n",
              "      <th>user_id_6812883</th>\n",
              "      <th>user_id_7051394</th>\n",
              "      <th>...</th>\n",
              "      <th>task_container_id_8328</th>\n",
              "      <th>task_container_id_8340</th>\n",
              "      <th>task_container_id_8461</th>\n",
              "      <th>task_container_id_8544</th>\n",
              "      <th>task_container_id_8600</th>\n",
              "      <th>task_container_id_8615</th>\n",
              "      <th>task_container_id_8689</th>\n",
              "      <th>task_container_id_8735</th>\n",
              "      <th>task_container_id_8769</th>\n",
              "      <th>task_container_id_8852</th>\n",
              "      <th>task_container_id_8867</th>\n",
              "      <th>task_container_id_8891</th>\n",
              "      <th>task_container_id_8914</th>\n",
              "      <th>task_container_id_8972</th>\n",
              "      <th>task_container_id_8993</th>\n",
              "      <th>task_container_id_9024</th>\n",
              "      <th>task_container_id_9076</th>\n",
              "      <th>task_container_id_9080</th>\n",
              "      <th>task_container_id_9145</th>\n",
              "      <th>task_container_id_9148</th>\n",
              "      <th>task_container_id_9157</th>\n",
              "      <th>task_container_id_9181</th>\n",
              "      <th>task_container_id_9187</th>\n",
              "      <th>task_container_id_9218</th>\n",
              "      <th>task_container_id_9229</th>\n",
              "      <th>task_container_id_9276</th>\n",
              "      <th>task_container_id_9289</th>\n",
              "      <th>task_container_id_9308</th>\n",
              "      <th>task_container_id_9458</th>\n",
              "      <th>task_container_id_9471</th>\n",
              "      <th>task_container_id_9695</th>\n",
              "      <th>task_container_id_9703</th>\n",
              "      <th>task_container_id_9742</th>\n",
              "      <th>task_container_id_9936</th>\n",
              "      <th>task_container_id_9953</th>\n",
              "      <th>task_container_id_9975</th>\n",
              "      <th>user_answer_0</th>\n",
              "      <th>user_answer_1</th>\n",
              "      <th>user_answer_2</th>\n",
              "      <th>user_answer_3</th>\n",
              "    </tr>\n",
              "  </thead>\n",
              "  <tbody>\n",
              "    <tr>\n",
              "      <th>0</th>\n",
              "      <td>0</td>\n",
              "      <td>NaN</td>\n",
              "      <td>True</td>\n",
              "      <td>1</td>\n",
              "      <td>False</td>\n",
              "      <td>False</td>\n",
              "      <td>False</td>\n",
              "      <td>False</td>\n",
              "      <td>False</td>\n",
              "      <td>False</td>\n",
              "      <td>False</td>\n",
              "      <td>False</td>\n",
              "      <td>False</td>\n",
              "      <td>False</td>\n",
              "      <td>False</td>\n",
              "      <td>False</td>\n",
              "      <td>False</td>\n",
              "      <td>False</td>\n",
              "      <td>False</td>\n",
              "      <td>False</td>\n",
              "      <td>False</td>\n",
              "      <td>False</td>\n",
              "      <td>False</td>\n",
              "      <td>False</td>\n",
              "      <td>False</td>\n",
              "      <td>False</td>\n",
              "      <td>False</td>\n",
              "      <td>False</td>\n",
              "      <td>False</td>\n",
              "      <td>False</td>\n",
              "      <td>False</td>\n",
              "      <td>False</td>\n",
              "      <td>False</td>\n",
              "      <td>False</td>\n",
              "      <td>False</td>\n",
              "      <td>False</td>\n",
              "      <td>False</td>\n",
              "      <td>False</td>\n",
              "      <td>False</td>\n",
              "      <td>False</td>\n",
              "      <td>...</td>\n",
              "      <td>False</td>\n",
              "      <td>False</td>\n",
              "      <td>False</td>\n",
              "      <td>False</td>\n",
              "      <td>False</td>\n",
              "      <td>False</td>\n",
              "      <td>False</td>\n",
              "      <td>False</td>\n",
              "      <td>False</td>\n",
              "      <td>False</td>\n",
              "      <td>False</td>\n",
              "      <td>False</td>\n",
              "      <td>False</td>\n",
              "      <td>False</td>\n",
              "      <td>False</td>\n",
              "      <td>False</td>\n",
              "      <td>False</td>\n",
              "      <td>False</td>\n",
              "      <td>False</td>\n",
              "      <td>False</td>\n",
              "      <td>False</td>\n",
              "      <td>False</td>\n",
              "      <td>False</td>\n",
              "      <td>False</td>\n",
              "      <td>False</td>\n",
              "      <td>False</td>\n",
              "      <td>False</td>\n",
              "      <td>False</td>\n",
              "      <td>False</td>\n",
              "      <td>False</td>\n",
              "      <td>False</td>\n",
              "      <td>False</td>\n",
              "      <td>False</td>\n",
              "      <td>False</td>\n",
              "      <td>False</td>\n",
              "      <td>False</td>\n",
              "      <td>False</td>\n",
              "      <td>False</td>\n",
              "      <td>False</td>\n",
              "      <td>True</td>\n",
              "    </tr>\n",
              "    <tr>\n",
              "      <th>1</th>\n",
              "      <td>2868613211</td>\n",
              "      <td>17000.0</td>\n",
              "      <td>True</td>\n",
              "      <td>1</td>\n",
              "      <td>True</td>\n",
              "      <td>False</td>\n",
              "      <td>False</td>\n",
              "      <td>False</td>\n",
              "      <td>False</td>\n",
              "      <td>False</td>\n",
              "      <td>False</td>\n",
              "      <td>False</td>\n",
              "      <td>False</td>\n",
              "      <td>False</td>\n",
              "      <td>False</td>\n",
              "      <td>False</td>\n",
              "      <td>False</td>\n",
              "      <td>False</td>\n",
              "      <td>False</td>\n",
              "      <td>False</td>\n",
              "      <td>False</td>\n",
              "      <td>False</td>\n",
              "      <td>False</td>\n",
              "      <td>False</td>\n",
              "      <td>False</td>\n",
              "      <td>False</td>\n",
              "      <td>False</td>\n",
              "      <td>False</td>\n",
              "      <td>False</td>\n",
              "      <td>False</td>\n",
              "      <td>False</td>\n",
              "      <td>False</td>\n",
              "      <td>False</td>\n",
              "      <td>False</td>\n",
              "      <td>False</td>\n",
              "      <td>False</td>\n",
              "      <td>False</td>\n",
              "      <td>False</td>\n",
              "      <td>False</td>\n",
              "      <td>False</td>\n",
              "      <td>...</td>\n",
              "      <td>False</td>\n",
              "      <td>False</td>\n",
              "      <td>False</td>\n",
              "      <td>False</td>\n",
              "      <td>False</td>\n",
              "      <td>False</td>\n",
              "      <td>False</td>\n",
              "      <td>False</td>\n",
              "      <td>False</td>\n",
              "      <td>False</td>\n",
              "      <td>False</td>\n",
              "      <td>False</td>\n",
              "      <td>False</td>\n",
              "      <td>False</td>\n",
              "      <td>False</td>\n",
              "      <td>False</td>\n",
              "      <td>False</td>\n",
              "      <td>False</td>\n",
              "      <td>False</td>\n",
              "      <td>False</td>\n",
              "      <td>False</td>\n",
              "      <td>False</td>\n",
              "      <td>False</td>\n",
              "      <td>False</td>\n",
              "      <td>False</td>\n",
              "      <td>False</td>\n",
              "      <td>False</td>\n",
              "      <td>False</td>\n",
              "      <td>False</td>\n",
              "      <td>False</td>\n",
              "      <td>False</td>\n",
              "      <td>False</td>\n",
              "      <td>False</td>\n",
              "      <td>False</td>\n",
              "      <td>False</td>\n",
              "      <td>False</td>\n",
              "      <td>False</td>\n",
              "      <td>True</td>\n",
              "      <td>False</td>\n",
              "      <td>False</td>\n",
              "    </tr>\n",
              "    <tr>\n",
              "      <th>2</th>\n",
              "      <td>14686539127</td>\n",
              "      <td>19000.0</td>\n",
              "      <td>True</td>\n",
              "      <td>1</td>\n",
              "      <td>False</td>\n",
              "      <td>True</td>\n",
              "      <td>False</td>\n",
              "      <td>False</td>\n",
              "      <td>False</td>\n",
              "      <td>False</td>\n",
              "      <td>False</td>\n",
              "      <td>False</td>\n",
              "      <td>False</td>\n",
              "      <td>False</td>\n",
              "      <td>False</td>\n",
              "      <td>False</td>\n",
              "      <td>False</td>\n",
              "      <td>False</td>\n",
              "      <td>False</td>\n",
              "      <td>False</td>\n",
              "      <td>False</td>\n",
              "      <td>False</td>\n",
              "      <td>False</td>\n",
              "      <td>False</td>\n",
              "      <td>False</td>\n",
              "      <td>False</td>\n",
              "      <td>False</td>\n",
              "      <td>False</td>\n",
              "      <td>False</td>\n",
              "      <td>False</td>\n",
              "      <td>False</td>\n",
              "      <td>False</td>\n",
              "      <td>False</td>\n",
              "      <td>False</td>\n",
              "      <td>False</td>\n",
              "      <td>False</td>\n",
              "      <td>False</td>\n",
              "      <td>False</td>\n",
              "      <td>False</td>\n",
              "      <td>False</td>\n",
              "      <td>...</td>\n",
              "      <td>False</td>\n",
              "      <td>False</td>\n",
              "      <td>False</td>\n",
              "      <td>False</td>\n",
              "      <td>False</td>\n",
              "      <td>False</td>\n",
              "      <td>False</td>\n",
              "      <td>False</td>\n",
              "      <td>False</td>\n",
              "      <td>False</td>\n",
              "      <td>False</td>\n",
              "      <td>False</td>\n",
              "      <td>False</td>\n",
              "      <td>False</td>\n",
              "      <td>False</td>\n",
              "      <td>False</td>\n",
              "      <td>False</td>\n",
              "      <td>False</td>\n",
              "      <td>False</td>\n",
              "      <td>False</td>\n",
              "      <td>False</td>\n",
              "      <td>False</td>\n",
              "      <td>False</td>\n",
              "      <td>False</td>\n",
              "      <td>False</td>\n",
              "      <td>False</td>\n",
              "      <td>False</td>\n",
              "      <td>False</td>\n",
              "      <td>False</td>\n",
              "      <td>False</td>\n",
              "      <td>False</td>\n",
              "      <td>False</td>\n",
              "      <td>False</td>\n",
              "      <td>False</td>\n",
              "      <td>False</td>\n",
              "      <td>False</td>\n",
              "      <td>True</td>\n",
              "      <td>False</td>\n",
              "      <td>False</td>\n",
              "      <td>False</td>\n",
              "    </tr>\n",
              "    <tr>\n",
              "      <th>3</th>\n",
              "      <td>1083486476</td>\n",
              "      <td>11750.0</td>\n",
              "      <td>True</td>\n",
              "      <td>1</td>\n",
              "      <td>False</td>\n",
              "      <td>False</td>\n",
              "      <td>True</td>\n",
              "      <td>False</td>\n",
              "      <td>False</td>\n",
              "      <td>False</td>\n",
              "      <td>False</td>\n",
              "      <td>False</td>\n",
              "      <td>False</td>\n",
              "      <td>False</td>\n",
              "      <td>False</td>\n",
              "      <td>False</td>\n",
              "      <td>False</td>\n",
              "      <td>False</td>\n",
              "      <td>False</td>\n",
              "      <td>False</td>\n",
              "      <td>False</td>\n",
              "      <td>False</td>\n",
              "      <td>False</td>\n",
              "      <td>False</td>\n",
              "      <td>False</td>\n",
              "      <td>False</td>\n",
              "      <td>False</td>\n",
              "      <td>False</td>\n",
              "      <td>False</td>\n",
              "      <td>False</td>\n",
              "      <td>False</td>\n",
              "      <td>False</td>\n",
              "      <td>False</td>\n",
              "      <td>False</td>\n",
              "      <td>False</td>\n",
              "      <td>False</td>\n",
              "      <td>False</td>\n",
              "      <td>False</td>\n",
              "      <td>False</td>\n",
              "      <td>False</td>\n",
              "      <td>...</td>\n",
              "      <td>False</td>\n",
              "      <td>False</td>\n",
              "      <td>False</td>\n",
              "      <td>False</td>\n",
              "      <td>False</td>\n",
              "      <td>False</td>\n",
              "      <td>False</td>\n",
              "      <td>False</td>\n",
              "      <td>False</td>\n",
              "      <td>False</td>\n",
              "      <td>False</td>\n",
              "      <td>False</td>\n",
              "      <td>False</td>\n",
              "      <td>False</td>\n",
              "      <td>False</td>\n",
              "      <td>False</td>\n",
              "      <td>False</td>\n",
              "      <td>False</td>\n",
              "      <td>False</td>\n",
              "      <td>False</td>\n",
              "      <td>False</td>\n",
              "      <td>False</td>\n",
              "      <td>False</td>\n",
              "      <td>False</td>\n",
              "      <td>False</td>\n",
              "      <td>False</td>\n",
              "      <td>False</td>\n",
              "      <td>False</td>\n",
              "      <td>False</td>\n",
              "      <td>False</td>\n",
              "      <td>False</td>\n",
              "      <td>False</td>\n",
              "      <td>False</td>\n",
              "      <td>False</td>\n",
              "      <td>False</td>\n",
              "      <td>False</td>\n",
              "      <td>False</td>\n",
              "      <td>False</td>\n",
              "      <td>False</td>\n",
              "      <td>True</td>\n",
              "    </tr>\n",
              "    <tr>\n",
              "      <th>4</th>\n",
              "      <td>15426935577</td>\n",
              "      <td>9000.0</td>\n",
              "      <td>False</td>\n",
              "      <td>1</td>\n",
              "      <td>False</td>\n",
              "      <td>False</td>\n",
              "      <td>False</td>\n",
              "      <td>True</td>\n",
              "      <td>False</td>\n",
              "      <td>False</td>\n",
              "      <td>False</td>\n",
              "      <td>False</td>\n",
              "      <td>False</td>\n",
              "      <td>False</td>\n",
              "      <td>False</td>\n",
              "      <td>False</td>\n",
              "      <td>False</td>\n",
              "      <td>False</td>\n",
              "      <td>False</td>\n",
              "      <td>False</td>\n",
              "      <td>False</td>\n",
              "      <td>False</td>\n",
              "      <td>False</td>\n",
              "      <td>False</td>\n",
              "      <td>False</td>\n",
              "      <td>False</td>\n",
              "      <td>False</td>\n",
              "      <td>False</td>\n",
              "      <td>False</td>\n",
              "      <td>False</td>\n",
              "      <td>False</td>\n",
              "      <td>False</td>\n",
              "      <td>False</td>\n",
              "      <td>False</td>\n",
              "      <td>False</td>\n",
              "      <td>False</td>\n",
              "      <td>False</td>\n",
              "      <td>False</td>\n",
              "      <td>False</td>\n",
              "      <td>False</td>\n",
              "      <td>...</td>\n",
              "      <td>False</td>\n",
              "      <td>False</td>\n",
              "      <td>False</td>\n",
              "      <td>False</td>\n",
              "      <td>False</td>\n",
              "      <td>False</td>\n",
              "      <td>False</td>\n",
              "      <td>False</td>\n",
              "      <td>False</td>\n",
              "      <td>False</td>\n",
              "      <td>False</td>\n",
              "      <td>False</td>\n",
              "      <td>False</td>\n",
              "      <td>False</td>\n",
              "      <td>False</td>\n",
              "      <td>False</td>\n",
              "      <td>False</td>\n",
              "      <td>False</td>\n",
              "      <td>False</td>\n",
              "      <td>False</td>\n",
              "      <td>False</td>\n",
              "      <td>False</td>\n",
              "      <td>False</td>\n",
              "      <td>False</td>\n",
              "      <td>False</td>\n",
              "      <td>False</td>\n",
              "      <td>False</td>\n",
              "      <td>False</td>\n",
              "      <td>False</td>\n",
              "      <td>False</td>\n",
              "      <td>False</td>\n",
              "      <td>False</td>\n",
              "      <td>False</td>\n",
              "      <td>False</td>\n",
              "      <td>False</td>\n",
              "      <td>False</td>\n",
              "      <td>True</td>\n",
              "      <td>False</td>\n",
              "      <td>False</td>\n",
              "      <td>False</td>\n",
              "    </tr>\n",
              "    <tr>\n",
              "      <th>...</th>\n",
              "      <td>...</td>\n",
              "      <td>...</td>\n",
              "      <td>...</td>\n",
              "      <td>...</td>\n",
              "      <td>...</td>\n",
              "      <td>...</td>\n",
              "      <td>...</td>\n",
              "      <td>...</td>\n",
              "      <td>...</td>\n",
              "      <td>...</td>\n",
              "      <td>...</td>\n",
              "      <td>...</td>\n",
              "      <td>...</td>\n",
              "      <td>...</td>\n",
              "      <td>...</td>\n",
              "      <td>...</td>\n",
              "      <td>...</td>\n",
              "      <td>...</td>\n",
              "      <td>...</td>\n",
              "      <td>...</td>\n",
              "      <td>...</td>\n",
              "      <td>...</td>\n",
              "      <td>...</td>\n",
              "      <td>...</td>\n",
              "      <td>...</td>\n",
              "      <td>...</td>\n",
              "      <td>...</td>\n",
              "      <td>...</td>\n",
              "      <td>...</td>\n",
              "      <td>...</td>\n",
              "      <td>...</td>\n",
              "      <td>...</td>\n",
              "      <td>...</td>\n",
              "      <td>...</td>\n",
              "      <td>...</td>\n",
              "      <td>...</td>\n",
              "      <td>...</td>\n",
              "      <td>...</td>\n",
              "      <td>...</td>\n",
              "      <td>...</td>\n",
              "      <td>...</td>\n",
              "      <td>...</td>\n",
              "      <td>...</td>\n",
              "      <td>...</td>\n",
              "      <td>...</td>\n",
              "      <td>...</td>\n",
              "      <td>...</td>\n",
              "      <td>...</td>\n",
              "      <td>...</td>\n",
              "      <td>...</td>\n",
              "      <td>...</td>\n",
              "      <td>...</td>\n",
              "      <td>...</td>\n",
              "      <td>...</td>\n",
              "      <td>...</td>\n",
              "      <td>...</td>\n",
              "      <td>...</td>\n",
              "      <td>...</td>\n",
              "      <td>...</td>\n",
              "      <td>...</td>\n",
              "      <td>...</td>\n",
              "      <td>...</td>\n",
              "      <td>...</td>\n",
              "      <td>...</td>\n",
              "      <td>...</td>\n",
              "      <td>...</td>\n",
              "      <td>...</td>\n",
              "      <td>...</td>\n",
              "      <td>...</td>\n",
              "      <td>...</td>\n",
              "      <td>...</td>\n",
              "      <td>...</td>\n",
              "      <td>...</td>\n",
              "      <td>...</td>\n",
              "      <td>...</td>\n",
              "      <td>...</td>\n",
              "      <td>...</td>\n",
              "      <td>...</td>\n",
              "      <td>...</td>\n",
              "      <td>...</td>\n",
              "      <td>...</td>\n",
              "    </tr>\n",
              "    <tr>\n",
              "      <th>10119</th>\n",
              "      <td>1158534297</td>\n",
              "      <td>20000.0</td>\n",
              "      <td>True</td>\n",
              "      <td>1</td>\n",
              "      <td>False</td>\n",
              "      <td>False</td>\n",
              "      <td>False</td>\n",
              "      <td>False</td>\n",
              "      <td>False</td>\n",
              "      <td>False</td>\n",
              "      <td>False</td>\n",
              "      <td>False</td>\n",
              "      <td>False</td>\n",
              "      <td>False</td>\n",
              "      <td>False</td>\n",
              "      <td>False</td>\n",
              "      <td>False</td>\n",
              "      <td>False</td>\n",
              "      <td>False</td>\n",
              "      <td>False</td>\n",
              "      <td>False</td>\n",
              "      <td>False</td>\n",
              "      <td>False</td>\n",
              "      <td>False</td>\n",
              "      <td>False</td>\n",
              "      <td>False</td>\n",
              "      <td>False</td>\n",
              "      <td>False</td>\n",
              "      <td>False</td>\n",
              "      <td>False</td>\n",
              "      <td>False</td>\n",
              "      <td>False</td>\n",
              "      <td>False</td>\n",
              "      <td>False</td>\n",
              "      <td>False</td>\n",
              "      <td>False</td>\n",
              "      <td>False</td>\n",
              "      <td>False</td>\n",
              "      <td>False</td>\n",
              "      <td>False</td>\n",
              "      <td>...</td>\n",
              "      <td>False</td>\n",
              "      <td>False</td>\n",
              "      <td>False</td>\n",
              "      <td>False</td>\n",
              "      <td>False</td>\n",
              "      <td>False</td>\n",
              "      <td>False</td>\n",
              "      <td>False</td>\n",
              "      <td>False</td>\n",
              "      <td>False</td>\n",
              "      <td>False</td>\n",
              "      <td>False</td>\n",
              "      <td>False</td>\n",
              "      <td>False</td>\n",
              "      <td>False</td>\n",
              "      <td>False</td>\n",
              "      <td>False</td>\n",
              "      <td>False</td>\n",
              "      <td>False</td>\n",
              "      <td>False</td>\n",
              "      <td>False</td>\n",
              "      <td>False</td>\n",
              "      <td>False</td>\n",
              "      <td>False</td>\n",
              "      <td>False</td>\n",
              "      <td>False</td>\n",
              "      <td>False</td>\n",
              "      <td>False</td>\n",
              "      <td>False</td>\n",
              "      <td>False</td>\n",
              "      <td>False</td>\n",
              "      <td>False</td>\n",
              "      <td>False</td>\n",
              "      <td>False</td>\n",
              "      <td>False</td>\n",
              "      <td>False</td>\n",
              "      <td>True</td>\n",
              "      <td>False</td>\n",
              "      <td>False</td>\n",
              "      <td>False</td>\n",
              "    </tr>\n",
              "    <tr>\n",
              "      <th>10120</th>\n",
              "      <td>9269436738</td>\n",
              "      <td>26000.0</td>\n",
              "      <td>True</td>\n",
              "      <td>1</td>\n",
              "      <td>False</td>\n",
              "      <td>False</td>\n",
              "      <td>False</td>\n",
              "      <td>False</td>\n",
              "      <td>False</td>\n",
              "      <td>False</td>\n",
              "      <td>False</td>\n",
              "      <td>False</td>\n",
              "      <td>False</td>\n",
              "      <td>False</td>\n",
              "      <td>False</td>\n",
              "      <td>False</td>\n",
              "      <td>False</td>\n",
              "      <td>False</td>\n",
              "      <td>False</td>\n",
              "      <td>False</td>\n",
              "      <td>False</td>\n",
              "      <td>False</td>\n",
              "      <td>False</td>\n",
              "      <td>False</td>\n",
              "      <td>False</td>\n",
              "      <td>False</td>\n",
              "      <td>False</td>\n",
              "      <td>False</td>\n",
              "      <td>False</td>\n",
              "      <td>False</td>\n",
              "      <td>False</td>\n",
              "      <td>False</td>\n",
              "      <td>False</td>\n",
              "      <td>False</td>\n",
              "      <td>False</td>\n",
              "      <td>False</td>\n",
              "      <td>False</td>\n",
              "      <td>False</td>\n",
              "      <td>False</td>\n",
              "      <td>False</td>\n",
              "      <td>...</td>\n",
              "      <td>False</td>\n",
              "      <td>False</td>\n",
              "      <td>False</td>\n",
              "      <td>False</td>\n",
              "      <td>False</td>\n",
              "      <td>False</td>\n",
              "      <td>False</td>\n",
              "      <td>False</td>\n",
              "      <td>False</td>\n",
              "      <td>False</td>\n",
              "      <td>False</td>\n",
              "      <td>False</td>\n",
              "      <td>False</td>\n",
              "      <td>False</td>\n",
              "      <td>False</td>\n",
              "      <td>False</td>\n",
              "      <td>False</td>\n",
              "      <td>False</td>\n",
              "      <td>False</td>\n",
              "      <td>False</td>\n",
              "      <td>False</td>\n",
              "      <td>False</td>\n",
              "      <td>False</td>\n",
              "      <td>False</td>\n",
              "      <td>False</td>\n",
              "      <td>False</td>\n",
              "      <td>False</td>\n",
              "      <td>False</td>\n",
              "      <td>False</td>\n",
              "      <td>False</td>\n",
              "      <td>False</td>\n",
              "      <td>False</td>\n",
              "      <td>False</td>\n",
              "      <td>False</td>\n",
              "      <td>False</td>\n",
              "      <td>False</td>\n",
              "      <td>False</td>\n",
              "      <td>True</td>\n",
              "      <td>False</td>\n",
              "      <td>False</td>\n",
              "    </tr>\n",
              "    <tr>\n",
              "      <th>10121</th>\n",
              "      <td>4609471378</td>\n",
              "      <td>15000.0</td>\n",
              "      <td>True</td>\n",
              "      <td>1</td>\n",
              "      <td>False</td>\n",
              "      <td>False</td>\n",
              "      <td>False</td>\n",
              "      <td>False</td>\n",
              "      <td>False</td>\n",
              "      <td>False</td>\n",
              "      <td>False</td>\n",
              "      <td>False</td>\n",
              "      <td>False</td>\n",
              "      <td>False</td>\n",
              "      <td>False</td>\n",
              "      <td>False</td>\n",
              "      <td>False</td>\n",
              "      <td>False</td>\n",
              "      <td>False</td>\n",
              "      <td>False</td>\n",
              "      <td>False</td>\n",
              "      <td>False</td>\n",
              "      <td>False</td>\n",
              "      <td>False</td>\n",
              "      <td>False</td>\n",
              "      <td>False</td>\n",
              "      <td>False</td>\n",
              "      <td>False</td>\n",
              "      <td>False</td>\n",
              "      <td>False</td>\n",
              "      <td>False</td>\n",
              "      <td>False</td>\n",
              "      <td>False</td>\n",
              "      <td>False</td>\n",
              "      <td>False</td>\n",
              "      <td>False</td>\n",
              "      <td>False</td>\n",
              "      <td>False</td>\n",
              "      <td>False</td>\n",
              "      <td>False</td>\n",
              "      <td>...</td>\n",
              "      <td>False</td>\n",
              "      <td>False</td>\n",
              "      <td>False</td>\n",
              "      <td>False</td>\n",
              "      <td>False</td>\n",
              "      <td>False</td>\n",
              "      <td>False</td>\n",
              "      <td>False</td>\n",
              "      <td>False</td>\n",
              "      <td>False</td>\n",
              "      <td>False</td>\n",
              "      <td>False</td>\n",
              "      <td>False</td>\n",
              "      <td>False</td>\n",
              "      <td>False</td>\n",
              "      <td>False</td>\n",
              "      <td>False</td>\n",
              "      <td>False</td>\n",
              "      <td>False</td>\n",
              "      <td>False</td>\n",
              "      <td>False</td>\n",
              "      <td>False</td>\n",
              "      <td>False</td>\n",
              "      <td>False</td>\n",
              "      <td>False</td>\n",
              "      <td>False</td>\n",
              "      <td>False</td>\n",
              "      <td>False</td>\n",
              "      <td>False</td>\n",
              "      <td>False</td>\n",
              "      <td>False</td>\n",
              "      <td>False</td>\n",
              "      <td>False</td>\n",
              "      <td>False</td>\n",
              "      <td>False</td>\n",
              "      <td>False</td>\n",
              "      <td>False</td>\n",
              "      <td>True</td>\n",
              "      <td>False</td>\n",
              "      <td>False</td>\n",
              "    </tr>\n",
              "    <tr>\n",
              "      <th>10122</th>\n",
              "      <td>689004</td>\n",
              "      <td>44000.0</td>\n",
              "      <td>False</td>\n",
              "      <td>1</td>\n",
              "      <td>False</td>\n",
              "      <td>False</td>\n",
              "      <td>False</td>\n",
              "      <td>False</td>\n",
              "      <td>False</td>\n",
              "      <td>False</td>\n",
              "      <td>False</td>\n",
              "      <td>False</td>\n",
              "      <td>False</td>\n",
              "      <td>False</td>\n",
              "      <td>False</td>\n",
              "      <td>False</td>\n",
              "      <td>False</td>\n",
              "      <td>False</td>\n",
              "      <td>False</td>\n",
              "      <td>False</td>\n",
              "      <td>False</td>\n",
              "      <td>False</td>\n",
              "      <td>False</td>\n",
              "      <td>False</td>\n",
              "      <td>False</td>\n",
              "      <td>False</td>\n",
              "      <td>False</td>\n",
              "      <td>False</td>\n",
              "      <td>False</td>\n",
              "      <td>False</td>\n",
              "      <td>False</td>\n",
              "      <td>False</td>\n",
              "      <td>False</td>\n",
              "      <td>False</td>\n",
              "      <td>False</td>\n",
              "      <td>False</td>\n",
              "      <td>False</td>\n",
              "      <td>False</td>\n",
              "      <td>False</td>\n",
              "      <td>False</td>\n",
              "      <td>...</td>\n",
              "      <td>False</td>\n",
              "      <td>False</td>\n",
              "      <td>False</td>\n",
              "      <td>False</td>\n",
              "      <td>False</td>\n",
              "      <td>False</td>\n",
              "      <td>False</td>\n",
              "      <td>False</td>\n",
              "      <td>False</td>\n",
              "      <td>False</td>\n",
              "      <td>False</td>\n",
              "      <td>False</td>\n",
              "      <td>False</td>\n",
              "      <td>False</td>\n",
              "      <td>False</td>\n",
              "      <td>False</td>\n",
              "      <td>False</td>\n",
              "      <td>False</td>\n",
              "      <td>False</td>\n",
              "      <td>False</td>\n",
              "      <td>False</td>\n",
              "      <td>False</td>\n",
              "      <td>False</td>\n",
              "      <td>False</td>\n",
              "      <td>False</td>\n",
              "      <td>False</td>\n",
              "      <td>False</td>\n",
              "      <td>False</td>\n",
              "      <td>False</td>\n",
              "      <td>False</td>\n",
              "      <td>False</td>\n",
              "      <td>False</td>\n",
              "      <td>False</td>\n",
              "      <td>False</td>\n",
              "      <td>False</td>\n",
              "      <td>False</td>\n",
              "      <td>False</td>\n",
              "      <td>False</td>\n",
              "      <td>True</td>\n",
              "      <td>False</td>\n",
              "    </tr>\n",
              "    <tr>\n",
              "      <th>10123</th>\n",
              "      <td>767149</td>\n",
              "      <td>15000.0</td>\n",
              "      <td>True</td>\n",
              "      <td>1</td>\n",
              "      <td>False</td>\n",
              "      <td>False</td>\n",
              "      <td>False</td>\n",
              "      <td>False</td>\n",
              "      <td>False</td>\n",
              "      <td>False</td>\n",
              "      <td>False</td>\n",
              "      <td>False</td>\n",
              "      <td>False</td>\n",
              "      <td>False</td>\n",
              "      <td>False</td>\n",
              "      <td>False</td>\n",
              "      <td>False</td>\n",
              "      <td>False</td>\n",
              "      <td>False</td>\n",
              "      <td>False</td>\n",
              "      <td>False</td>\n",
              "      <td>False</td>\n",
              "      <td>False</td>\n",
              "      <td>False</td>\n",
              "      <td>False</td>\n",
              "      <td>False</td>\n",
              "      <td>False</td>\n",
              "      <td>False</td>\n",
              "      <td>False</td>\n",
              "      <td>False</td>\n",
              "      <td>False</td>\n",
              "      <td>False</td>\n",
              "      <td>False</td>\n",
              "      <td>False</td>\n",
              "      <td>False</td>\n",
              "      <td>False</td>\n",
              "      <td>False</td>\n",
              "      <td>False</td>\n",
              "      <td>False</td>\n",
              "      <td>False</td>\n",
              "      <td>...</td>\n",
              "      <td>False</td>\n",
              "      <td>False</td>\n",
              "      <td>False</td>\n",
              "      <td>False</td>\n",
              "      <td>False</td>\n",
              "      <td>False</td>\n",
              "      <td>False</td>\n",
              "      <td>False</td>\n",
              "      <td>False</td>\n",
              "      <td>False</td>\n",
              "      <td>False</td>\n",
              "      <td>False</td>\n",
              "      <td>False</td>\n",
              "      <td>False</td>\n",
              "      <td>False</td>\n",
              "      <td>False</td>\n",
              "      <td>False</td>\n",
              "      <td>False</td>\n",
              "      <td>False</td>\n",
              "      <td>False</td>\n",
              "      <td>False</td>\n",
              "      <td>False</td>\n",
              "      <td>False</td>\n",
              "      <td>False</td>\n",
              "      <td>False</td>\n",
              "      <td>False</td>\n",
              "      <td>False</td>\n",
              "      <td>False</td>\n",
              "      <td>False</td>\n",
              "      <td>False</td>\n",
              "      <td>False</td>\n",
              "      <td>False</td>\n",
              "      <td>False</td>\n",
              "      <td>False</td>\n",
              "      <td>False</td>\n",
              "      <td>False</td>\n",
              "      <td>True</td>\n",
              "      <td>False</td>\n",
              "      <td>False</td>\n",
              "      <td>False</td>\n",
              "    </tr>\n",
              "  </tbody>\n",
              "</table>\n",
              "<p>10124 rows × 18270 columns</p>\n",
              "</div>"
            ],
            "text/plain": [
              "         timestamp  prior_question_elapsed_time  ...  user_answer_2  user_answer_3\n",
              "0                0                          NaN  ...          False           True\n",
              "1       2868613211                      17000.0  ...          False          False\n",
              "2      14686539127                      19000.0  ...          False          False\n",
              "3       1083486476                      11750.0  ...          False           True\n",
              "4      15426935577                       9000.0  ...          False          False\n",
              "...            ...                          ...  ...            ...            ...\n",
              "10119   1158534297                      20000.0  ...          False          False\n",
              "10120   9269436738                      26000.0  ...          False          False\n",
              "10121   4609471378                      15000.0  ...          False          False\n",
              "10122       689004                      44000.0  ...           True          False\n",
              "10123       767149                      15000.0  ...          False          False\n",
              "\n",
              "[10124 rows x 18270 columns]"
            ]
          },
          "metadata": {
            "tags": []
          },
          "execution_count": 515
        }
      ]
    },
    {
      "cell_type": "markdown",
      "metadata": {
        "id": "82zvyE7SjHM7"
      },
      "source": [
        "We see the row count is unchanged, but now there's many more columns due to how we changed all the categorical data into numerical data."
      ]
    },
    {
      "cell_type": "code",
      "metadata": {
        "colab": {
          "base_uri": "https://localhost:8080/"
        },
        "id": "4vs-zDKSjP9D",
        "outputId": "04e084e7-e3ce-4660-fd0b-f853c65d0848"
      },
      "source": [
        "X_t.shape"
      ],
      "execution_count": null,
      "outputs": [
        {
          "output_type": "execute_result",
          "data": {
            "text/plain": [
              "(10124, 18270)"
            ]
          },
          "metadata": {
            "tags": []
          },
          "execution_count": 516
        }
      ]
    },
    {
      "cell_type": "markdown",
      "metadata": {
        "id": "CAfBSrPReQlZ"
      },
      "source": [
        "###Alternatively, encode with skllearn OneHotEncoder\r\n"
      ]
    },
    {
      "cell_type": "code",
      "metadata": {
        "colab": {
          "base_uri": "https://localhost:8080/"
        },
        "id": "AG8duhTfeZO-",
        "outputId": "8a776298-8958-4c6e-e074-094f674be100"
      },
      "source": [
        "from sklearn.preprocessing import OneHotEncoder\r\n",
        "\r\n",
        "X_train_cat = encoded_X_no_na.select_dtypes(['category', 'bool'])\r\n",
        "X_train_num = encoded_X_no_na.select_dtypes(['int64', 'float64'])\r\n",
        "\r\n",
        "# Create the encoder.\r\n",
        "encoder = OneHotEncoder(handle_unknown=\"ignore\")\r\n",
        "\r\n",
        "# Fit on X_train_cat and then Transform X_train_cat\r\n",
        "X_train_cat = encoder.fit_transform(X_train_cat)\r\n",
        "X_train_cat.shape"
      ],
      "execution_count": null,
      "outputs": [
        {
          "output_type": "execute_result",
          "data": {
            "text/plain": [
              "(9902, 8071)"
            ]
          },
          "metadata": {
            "tags": []
          },
          "execution_count": 529
        }
      ]
    },
    {
      "cell_type": "code",
      "metadata": {
        "colab": {
          "base_uri": "https://localhost:8080/"
        },
        "id": "yboE-GDHiaGc",
        "outputId": "ec83ecc7-40de-4234-aad2-2b2d4d869556"
      },
      "source": [
        ""
      ],
      "execution_count": null,
      "outputs": [
        {
          "output_type": "execute_result",
          "data": {
            "text/plain": [
              "<5x8071 sparse matrix of type '<class 'numpy.float64'>'\n",
              "\twith 25 stored elements in Compressed Sparse Row format>"
            ]
          },
          "metadata": {
            "tags": []
          },
          "execution_count": 531
        }
      ]
    },
    {
      "cell_type": "markdown",
      "metadata": {
        "id": "iVnwtznxdFky"
      },
      "source": [
        "### Standardize the numerical variables.\r\n",
        "\r\n"
      ]
    },
    {
      "cell_type": "code",
      "metadata": {
        "colab": {
          "base_uri": "https://localhost:8080/"
        },
        "id": "8VJAtFxSnoTa",
        "outputId": "d7759e44-3364-44e7-8a3e-6ca9c7b86eb6"
      },
      "source": [
        "# Check for normality on numerical features\r\n",
        "from scipy.stats import kstest\r\n",
        "\r\n",
        "X_num = X.select_dtypes(exclude=['category', 'bool'])\r\n",
        "numerical_columns = X_num.columns\r\n",
        "\r\n",
        "for feature in X_num.columns:\r\n",
        "  statistic, p = kstest(X_num[feature], 'norm')\r\n",
        "  print(f\"\\n{feature}:\\nStatistic: {statistic:0.5f}, p_value: {p:0.5f}\")\r\n",
        "  print('Probably gaussian.') if p>0.05 else print('Probably not gaussian.') "
      ],
      "execution_count": null,
      "outputs": [
        {
          "output_type": "stream",
          "text": [
            "\n",
            "timestamp:\n",
            "Statistic: 0.99793, p_value: 0.00000\n",
            "Probably not gaussian.\n",
            "\n",
            "prior_question_elapsed_time:\n",
            "Statistic: nan, p_value: nan\n",
            "Probably not gaussian.\n",
            "\n",
            "user_id_event_count:\n",
            "Statistic: 0.84134, p_value: 0.00000\n",
            "Probably not gaussian.\n"
          ],
          "name": "stdout"
        }
      ]
    },
    {
      "cell_type": "markdown",
      "metadata": {
        "id": "J7TDsvTXpteF"
      },
      "source": [
        "We see that none of the numerical features are normally distributed. Let's standardize them using the StandardScaler."
      ]
    },
    {
      "cell_type": "code",
      "metadata": {
        "colab": {
          "base_uri": "https://localhost:8080/"
        },
        "id": "PAHG2XgRxtCJ",
        "outputId": "ac934993-88c1-4665-a384-a3008c66efef"
      },
      "source": [
        "from sklearn.preprocessing import StandardScaler\r\n",
        " \r\n",
        "# Instantiate scaler object\r\n",
        "scaler = StandardScaler()\r\n",
        "\r\n",
        "# Fit: Compute the mean and std to be used for later scaling.\r\n",
        "# And tranform\r\n",
        "X_new = scaler.fit_transform(X_num)\r\n",
        "X_new"
      ],
      "execution_count": null,
      "outputs": [
        {
          "output_type": "execute_result",
          "data": {
            "text/plain": [
              "array([[-0.41411096, -0.42315151, -0.11578869],\n",
              "       [ 0.61734447, -0.32505444, -0.11578869],\n",
              "       [-0.56991483, -0.68065633, -0.11578869],\n",
              "       ...,\n",
              "       [-0.26217079, -0.52124859, -0.11578869],\n",
              "       [-0.66442019,  0.90115899, -0.11578869],\n",
              "       [-0.66441337, -0.52124859, -0.11578869]])"
            ]
          },
          "metadata": {
            "tags": []
          },
          "execution_count": 231
        }
      ]
    },
    {
      "cell_type": "code",
      "metadata": {
        "colab": {
          "base_uri": "https://localhost:8080/"
        },
        "id": "kgch836ozoIS",
        "outputId": "73f8f7f9-f2ff-446c-a18e-854957034498"
      },
      "source": [
        "# Check the old vs new mean\r\n",
        "np.mean(X_num, axis=0), np.mean(X_new, axis=0)"
      ],
      "execution_count": null,
      "outputs": [
        {
          "output_type": "execute_result",
          "data": {
            "text/plain": [
              "(timestamp                      7.613300e+09\n",
              " prior_question_elapsed_time    2.562720e+04\n",
              " user_id_event_count            1.013230e+00\n",
              " dtype: float64, array([ 2.47563365e-17,  8.53914215e-17, -4.23369233e-17]))"
            ]
          },
          "metadata": {
            "tags": []
          },
          "execution_count": 232
        }
      ]
    },
    {
      "cell_type": "code",
      "metadata": {
        "colab": {
          "base_uri": "https://localhost:8080/"
        },
        "id": "zJGN2tKm0-gn",
        "outputId": "c6072ef2-53be-4f78-c111-a25429194768"
      },
      "source": [
        "# Check the old vs new standard deviation\r\n",
        "np.std(X_num, axis=0), np.std(X_new, axis=0)"
      ],
      "execution_count": null,
      "outputs": [
        {
          "output_type": "execute_result",
          "data": {
            "text/plain": [
              "(timestamp                      1.145752e+10\n",
              " prior_question_elapsed_time    2.038797e+04\n",
              " user_id_event_count            1.142568e-01\n",
              " dtype: float64, array([1., 1., 1.]))"
            ]
          },
          "metadata": {
            "tags": []
          },
          "execution_count": 233
        }
      ]
    },
    {
      "cell_type": "markdown",
      "metadata": {
        "id": "THqxbTeV1F9S"
      },
      "source": [
        "As expected, the X_new means are zero, and the standard deviations are 1."
      ]
    },
    {
      "cell_type": "markdown",
      "metadata": {
        "id": "UYbtSoHXCQWs"
      },
      "source": [
        "### Combine the transformed features into one transformed dataframe."
      ]
    },
    {
      "cell_type": "code",
      "metadata": {
        "colab": {
          "base_uri": "https://localhost:8080/"
        },
        "id": "0e4FsTyi1OF4",
        "outputId": "749db577-100c-49c8-e550-bbbb9cd1b99c"
      },
      "source": [
        "#Make sure the shapes are compatible\r\n",
        "X_t.shape, X_new.shape\r\n"
      ],
      "execution_count": null,
      "outputs": [
        {
          "output_type": "execute_result",
          "data": {
            "text/plain": [
              "((9902, 8214), (9902, 3))"
            ]
          },
          "metadata": {
            "tags": []
          },
          "execution_count": 234
        }
      ]
    },
    {
      "cell_type": "code",
      "metadata": {
        "colab": {
          "base_uri": "https://localhost:8080/"
        },
        "id": "gFxBzulfNcw8",
        "outputId": "0e67f686-891d-4c5b-ede4-634de95ba041"
      },
      "source": [
        "# Check index on X_t\r\n",
        "X_t.index"
      ],
      "execution_count": null,
      "outputs": [
        {
          "output_type": "execute_result",
          "data": {
            "text/plain": [
              "RangeIndex(start=0, stop=9902, step=1)"
            ]
          },
          "metadata": {
            "tags": []
          },
          "execution_count": 235
        }
      ]
    },
    {
      "cell_type": "code",
      "metadata": {
        "colab": {
          "base_uri": "https://localhost:8080/",
          "height": 419
        },
        "id": "2SI7UIHn1Vrf",
        "outputId": "3cac47c9-dbf8-4712-e15a-55dbba2b52d2"
      },
      "source": [
        "# Make a dataframe for X_new\r\n",
        "X_new_df = pd.DataFrame(X_new, columns=numerical_columns)\r\n",
        "X_new_df"
      ],
      "execution_count": null,
      "outputs": [
        {
          "output_type": "execute_result",
          "data": {
            "text/html": [
              "<div>\n",
              "<style scoped>\n",
              "    .dataframe tbody tr th:only-of-type {\n",
              "        vertical-align: middle;\n",
              "    }\n",
              "\n",
              "    .dataframe tbody tr th {\n",
              "        vertical-align: top;\n",
              "    }\n",
              "\n",
              "    .dataframe thead th {\n",
              "        text-align: right;\n",
              "    }\n",
              "</style>\n",
              "<table border=\"1\" class=\"dataframe\">\n",
              "  <thead>\n",
              "    <tr style=\"text-align: right;\">\n",
              "      <th></th>\n",
              "      <th>timestamp</th>\n",
              "      <th>prior_question_elapsed_time</th>\n",
              "      <th>user_id_event_count</th>\n",
              "    </tr>\n",
              "  </thead>\n",
              "  <tbody>\n",
              "    <tr>\n",
              "      <th>0</th>\n",
              "      <td>-0.414111</td>\n",
              "      <td>-0.423152</td>\n",
              "      <td>-0.115789</td>\n",
              "    </tr>\n",
              "    <tr>\n",
              "      <th>1</th>\n",
              "      <td>0.617344</td>\n",
              "      <td>-0.325054</td>\n",
              "      <td>-0.115789</td>\n",
              "    </tr>\n",
              "    <tr>\n",
              "      <th>2</th>\n",
              "      <td>-0.569915</td>\n",
              "      <td>-0.680656</td>\n",
              "      <td>-0.115789</td>\n",
              "    </tr>\n",
              "    <tr>\n",
              "      <th>3</th>\n",
              "      <td>0.681965</td>\n",
              "      <td>-0.815540</td>\n",
              "      <td>-0.115789</td>\n",
              "    </tr>\n",
              "    <tr>\n",
              "      <th>4</th>\n",
              "      <td>0.107162</td>\n",
              "      <td>0.288052</td>\n",
              "      <td>-0.115789</td>\n",
              "    </tr>\n",
              "    <tr>\n",
              "      <th>...</th>\n",
              "      <td>...</td>\n",
              "      <td>...</td>\n",
              "      <td>...</td>\n",
              "    </tr>\n",
              "    <tr>\n",
              "      <th>9897</th>\n",
              "      <td>-0.563365</td>\n",
              "      <td>-0.276006</td>\n",
              "      <td>-0.115789</td>\n",
              "    </tr>\n",
              "    <tr>\n",
              "      <th>9898</th>\n",
              "      <td>0.144546</td>\n",
              "      <td>0.018285</td>\n",
              "      <td>-0.115789</td>\n",
              "    </tr>\n",
              "    <tr>\n",
              "      <th>9899</th>\n",
              "      <td>-0.262171</td>\n",
              "      <td>-0.521249</td>\n",
              "      <td>-0.115789</td>\n",
              "    </tr>\n",
              "    <tr>\n",
              "      <th>9900</th>\n",
              "      <td>-0.664420</td>\n",
              "      <td>0.901159</td>\n",
              "      <td>-0.115789</td>\n",
              "    </tr>\n",
              "    <tr>\n",
              "      <th>9901</th>\n",
              "      <td>-0.664413</td>\n",
              "      <td>-0.521249</td>\n",
              "      <td>-0.115789</td>\n",
              "    </tr>\n",
              "  </tbody>\n",
              "</table>\n",
              "<p>9902 rows × 3 columns</p>\n",
              "</div>"
            ],
            "text/plain": [
              "      timestamp  prior_question_elapsed_time  user_id_event_count\n",
              "0     -0.414111                    -0.423152            -0.115789\n",
              "1      0.617344                    -0.325054            -0.115789\n",
              "2     -0.569915                    -0.680656            -0.115789\n",
              "3      0.681965                    -0.815540            -0.115789\n",
              "4      0.107162                     0.288052            -0.115789\n",
              "...         ...                          ...                  ...\n",
              "9897  -0.563365                    -0.276006            -0.115789\n",
              "9898   0.144546                     0.018285            -0.115789\n",
              "9899  -0.262171                    -0.521249            -0.115789\n",
              "9900  -0.664420                     0.901159            -0.115789\n",
              "9901  -0.664413                    -0.521249            -0.115789\n",
              "\n",
              "[9902 rows x 3 columns]"
            ]
          },
          "metadata": {
            "tags": []
          },
          "execution_count": 236
        }
      ]
    },
    {
      "cell_type": "code",
      "metadata": {
        "colab": {
          "base_uri": "https://localhost:8080/"
        },
        "id": "eJBB8qGKI48Y",
        "outputId": "75a3e5b4-ecbf-4acc-cb16-b506292e34f5"
      },
      "source": [
        "X_new_df.isna().sum()"
      ],
      "execution_count": null,
      "outputs": [
        {
          "output_type": "execute_result",
          "data": {
            "text/plain": [
              "timestamp                      0\n",
              "prior_question_elapsed_time    0\n",
              "user_id_event_count            0\n",
              "dtype: int64"
            ]
          },
          "metadata": {
            "tags": []
          },
          "execution_count": 237
        }
      ]
    },
    {
      "cell_type": "code",
      "metadata": {
        "colab": {
          "base_uri": "https://localhost:8080/"
        },
        "id": "vCdrkEViI_CF",
        "outputId": "37efb453-707d-45fa-8fd8-1c352728017c"
      },
      "source": [
        "X_new_df.dtypes"
      ],
      "execution_count": null,
      "outputs": [
        {
          "output_type": "execute_result",
          "data": {
            "text/plain": [
              "timestamp                      float64\n",
              "prior_question_elapsed_time    float64\n",
              "user_id_event_count            float64\n",
              "dtype: object"
            ]
          },
          "metadata": {
            "tags": []
          },
          "execution_count": 238
        }
      ]
    },
    {
      "cell_type": "code",
      "metadata": {
        "colab": {
          "base_uri": "https://localhost:8080/"
        },
        "id": "X5MPm386JCqH",
        "outputId": "8cb16560-183a-4133-df87-277bf05d4323"
      },
      "source": [
        "X_t[numerical_columns].dtypes"
      ],
      "execution_count": null,
      "outputs": [
        {
          "output_type": "execute_result",
          "data": {
            "text/plain": [
              "timestamp                        int64\n",
              "prior_question_elapsed_time    float64\n",
              "user_id_event_count              int64\n",
              "dtype: object"
            ]
          },
          "metadata": {
            "tags": []
          },
          "execution_count": 239
        }
      ]
    },
    {
      "cell_type": "code",
      "metadata": {
        "colab": {
          "base_uri": "https://localhost:8080/"
        },
        "id": "qHvlDDX9CGr8",
        "outputId": "0f3d72f5-1c34-4cf8-a19f-d184e8453b1d"
      },
      "source": [
        "# Select all numerical columns from X_new\r\n",
        "\r\n",
        "numerical_columns = X_new_df.select_dtypes(include=['int64', 'float64']).columns\r\n",
        "numerical_columns"
      ],
      "execution_count": null,
      "outputs": [
        {
          "output_type": "execute_result",
          "data": {
            "text/plain": [
              "Index(['timestamp', 'prior_question_elapsed_time', 'user_id_event_count'], dtype='object')"
            ]
          },
          "metadata": {
            "tags": []
          },
          "execution_count": 240
        }
      ]
    },
    {
      "cell_type": "code",
      "metadata": {
        "colab": {
          "base_uri": "https://localhost:8080/",
          "height": 419
        },
        "id": "EM-cOKMiMYAy",
        "outputId": "4e6c9b35-004d-4510-f944-415e9f5cd0ff"
      },
      "source": [
        "# Add transformed numerical columns\r\n",
        "for num_feature in numerical_columns:\r\n",
        "  X_t[num_feature] = X_new_df[num_feature]\r\n",
        "X_t[numerical_columns]"
      ],
      "execution_count": null,
      "outputs": [
        {
          "output_type": "execute_result",
          "data": {
            "text/html": [
              "<div>\n",
              "<style scoped>\n",
              "    .dataframe tbody tr th:only-of-type {\n",
              "        vertical-align: middle;\n",
              "    }\n",
              "\n",
              "    .dataframe tbody tr th {\n",
              "        vertical-align: top;\n",
              "    }\n",
              "\n",
              "    .dataframe thead th {\n",
              "        text-align: right;\n",
              "    }\n",
              "</style>\n",
              "<table border=\"1\" class=\"dataframe\">\n",
              "  <thead>\n",
              "    <tr style=\"text-align: right;\">\n",
              "      <th></th>\n",
              "      <th>timestamp</th>\n",
              "      <th>prior_question_elapsed_time</th>\n",
              "      <th>user_id_event_count</th>\n",
              "    </tr>\n",
              "  </thead>\n",
              "  <tbody>\n",
              "    <tr>\n",
              "      <th>0</th>\n",
              "      <td>-0.414111</td>\n",
              "      <td>-0.423152</td>\n",
              "      <td>-0.115789</td>\n",
              "    </tr>\n",
              "    <tr>\n",
              "      <th>1</th>\n",
              "      <td>0.617344</td>\n",
              "      <td>-0.325054</td>\n",
              "      <td>-0.115789</td>\n",
              "    </tr>\n",
              "    <tr>\n",
              "      <th>2</th>\n",
              "      <td>-0.569915</td>\n",
              "      <td>-0.680656</td>\n",
              "      <td>-0.115789</td>\n",
              "    </tr>\n",
              "    <tr>\n",
              "      <th>3</th>\n",
              "      <td>0.681965</td>\n",
              "      <td>-0.815540</td>\n",
              "      <td>-0.115789</td>\n",
              "    </tr>\n",
              "    <tr>\n",
              "      <th>4</th>\n",
              "      <td>0.107162</td>\n",
              "      <td>0.288052</td>\n",
              "      <td>-0.115789</td>\n",
              "    </tr>\n",
              "    <tr>\n",
              "      <th>...</th>\n",
              "      <td>...</td>\n",
              "      <td>...</td>\n",
              "      <td>...</td>\n",
              "    </tr>\n",
              "    <tr>\n",
              "      <th>9897</th>\n",
              "      <td>-0.563365</td>\n",
              "      <td>-0.276006</td>\n",
              "      <td>-0.115789</td>\n",
              "    </tr>\n",
              "    <tr>\n",
              "      <th>9898</th>\n",
              "      <td>0.144546</td>\n",
              "      <td>0.018285</td>\n",
              "      <td>-0.115789</td>\n",
              "    </tr>\n",
              "    <tr>\n",
              "      <th>9899</th>\n",
              "      <td>-0.262171</td>\n",
              "      <td>-0.521249</td>\n",
              "      <td>-0.115789</td>\n",
              "    </tr>\n",
              "    <tr>\n",
              "      <th>9900</th>\n",
              "      <td>-0.664420</td>\n",
              "      <td>0.901159</td>\n",
              "      <td>-0.115789</td>\n",
              "    </tr>\n",
              "    <tr>\n",
              "      <th>9901</th>\n",
              "      <td>-0.664413</td>\n",
              "      <td>-0.521249</td>\n",
              "      <td>-0.115789</td>\n",
              "    </tr>\n",
              "  </tbody>\n",
              "</table>\n",
              "<p>9902 rows × 3 columns</p>\n",
              "</div>"
            ],
            "text/plain": [
              "      timestamp  prior_question_elapsed_time  user_id_event_count\n",
              "0     -0.414111                    -0.423152            -0.115789\n",
              "1      0.617344                    -0.325054            -0.115789\n",
              "2     -0.569915                    -0.680656            -0.115789\n",
              "3      0.681965                    -0.815540            -0.115789\n",
              "4      0.107162                     0.288052            -0.115789\n",
              "...         ...                          ...                  ...\n",
              "9897  -0.563365                    -0.276006            -0.115789\n",
              "9898   0.144546                     0.018285            -0.115789\n",
              "9899  -0.262171                    -0.521249            -0.115789\n",
              "9900  -0.664420                     0.901159            -0.115789\n",
              "9901  -0.664413                    -0.521249            -0.115789\n",
              "\n",
              "[9902 rows x 3 columns]"
            ]
          },
          "metadata": {
            "tags": []
          },
          "execution_count": 241
        }
      ]
    },
    {
      "cell_type": "code",
      "metadata": {
        "colab": {
          "base_uri": "https://localhost:8080/"
        },
        "id": "vzlndriMG4Fb",
        "outputId": "5bc0f1d6-982f-492c-b71b-4412c849fe0c"
      },
      "source": [
        "X_t.dtypes"
      ],
      "execution_count": null,
      "outputs": [
        {
          "output_type": "execute_result",
          "data": {
            "text/plain": [
              "timestamp                         float64\n",
              "prior_question_elapsed_time       float64\n",
              "prior_question_had_explanation       bool\n",
              "user_id_event_count               float64\n",
              "content_id_1                         bool\n",
              "                                   ...   \n",
              "task_container_id_9975               bool\n",
              "user_answer_0                        bool\n",
              "user_answer_1                        bool\n",
              "user_answer_2                        bool\n",
              "user_answer_3                        bool\n",
              "Length: 8214, dtype: object"
            ]
          },
          "metadata": {
            "tags": []
          },
          "execution_count": 242
        }
      ]
    },
    {
      "cell_type": "code",
      "metadata": {
        "colab": {
          "base_uri": "https://localhost:8080/"
        },
        "id": "0owOGkj5TWjw",
        "outputId": "c72f0133-5ce4-479a-e6a8-617cb6a100cc"
      },
      "source": [
        "X_t.shape"
      ],
      "execution_count": null,
      "outputs": [
        {
          "output_type": "execute_result",
          "data": {
            "text/plain": [
              "(9902, 8214)"
            ]
          },
          "metadata": {
            "tags": []
          },
          "execution_count": 243
        }
      ]
    },
    {
      "cell_type": "markdown",
      "metadata": {
        "id": "9cov9xckWvrE"
      },
      "source": [
        "# Baseline Modelling"
      ]
    },
    {
      "cell_type": "markdown",
      "metadata": {
        "id": "zdpSYERsW5K4"
      },
      "source": [
        "## Logistic Regression"
      ]
    },
    {
      "cell_type": "code",
      "metadata": {
        "colab": {
          "base_uri": "https://localhost:8080/",
          "height": 465
        },
        "id": "GG09NA0aw2uX",
        "outputId": "0e1e6bc7-6a4e-4ecd-9312-e30334647eef"
      },
      "source": [
        "from sklearn.linear_model import LogisticRegression\r\n",
        "from sklearn.metrics import roc_auc_score\r\n",
        "from sklearn.metrics import plot_confusion_matrix\r\n",
        "\r\n",
        "# Instantiate classifier object\r\n",
        "log_reg = LogisticRegression()\r\n",
        "\r\n",
        "# Fit classifier\r\n",
        "log_reg.fit(X_train, y_train)\r\n",
        "\r\n",
        "# Make predictions on the train and test sets\r\n",
        "y_train_preds = log_reg.predict_proba(X_train)[:,1]\r\n",
        "y_test_preds = log_reg.predict_proba(X_test)[:,1]\r\n",
        "\r\n",
        "#Score the predictions\r\n",
        "log_reg_train_roc_score = roc_auc_score(y_train, y_train_preds)\r\n",
        "log_reg_test_roc_score = roc_auc_score(y_test, y_test_preds)\r\n",
        "\r\n",
        "print(f\"Training roc_auc_score: {log_reg_train_roc_score:0.5f}\")\r\n",
        "print(f\"Testing roc_auc_score: {log_reg_test_roc_score:0.5f}\")\r\n",
        "\r\n",
        "# Plot normalized confusion matrix\r\n",
        "disp = plot_confusion_matrix(log_reg, X_test, y_test,\r\n",
        "                              cmap=plt.cm.Blues,\r\n",
        "                             normalize='true')\r\n",
        "disp.ax_.set_title(\"Normalized confusion matrix\")\r\n",
        "plt.show()"
      ],
      "execution_count": null,
      "outputs": [
        {
          "output_type": "stream",
          "text": [
            "/usr/local/lib/python3.6/dist-packages/sklearn/linear_model/_logistic.py:940: ConvergenceWarning: lbfgs failed to converge (status=1):\n",
            "STOP: TOTAL NO. of ITERATIONS REACHED LIMIT.\n",
            "\n",
            "Increase the number of iterations (max_iter) or scale the data as shown in:\n",
            "    https://scikit-learn.org/stable/modules/preprocessing.html\n",
            "Please also refer to the documentation for alternative solver options:\n",
            "    https://scikit-learn.org/stable/modules/linear_model.html#logistic-regression\n",
            "  extra_warning_msg=_LOGISTIC_SOLVER_CONVERGENCE_MSG)\n"
          ],
          "name": "stderr"
        },
        {
          "output_type": "stream",
          "text": [
            "Training roc_auc_score: 0.95133\n",
            "Testing roc_auc_score: 0.56963\n"
          ],
          "name": "stdout"
        },
        {
          "output_type": "display_data",
          "data": {
            "image/png": "[encoded data removed]",
            "text/plain": [
              "<Figure size 432x288 with 2 Axes>"
            ]
          },
          "metadata": {
            "tags": [],
            "needs_background": "light"
          }
        }
      ]
    },
    {
      "cell_type": "markdown",
      "metadata": {
        "id": "ojZgrjEWwZhh"
      },
      "source": [
        "That's a pretty bad score for a baseline model. It's good in training, and terrible in test.\r\n"
      ]
    },
    {
      "cell_type": "markdown",
      "metadata": {
        "id": "OS8hpea7r0E3"
      },
      "source": [
        "## LightGBM"
      ]
    },
    {
      "cell_type": "code",
      "metadata": {
        "colab": {
          "base_uri": "https://localhost:8080/",
          "height": 329
        },
        "id": "moZP0iP-rmLb",
        "outputId": "5f40a466-064d-4222-ec53-d88bc6acdced"
      },
      "source": [
        "from lightgbm import LGBMClassifier\r\n",
        "\r\n",
        "# Instantiate the classifier object\r\n",
        "lgbm = LGBMClassifier(\r\n",
        "    num_leaves=31, \r\n",
        "    max_depth= 2, \r\n",
        "    n_estimators = 25, \r\n",
        "    min_child_samples = 1000, \r\n",
        "    subsample=0.7, \r\n",
        "    subsample_freq=5,\r\n",
        "    n_jobs= -1,\r\n",
        "    is_higher_better = True,\r\n",
        "    first_metric_only = True\r\n",
        ")\r\n",
        "\r\n",
        "# Fit the classifier object to the train data\r\n",
        "lgbm.fit(X_train, y_train)\r\n",
        "\r\n",
        "# Make predictions on the train and test sets\r\n",
        "y_train_preds = lgbm.predict_proba(X_train)[:,1]\r\n",
        "y_test_preds = lgbm.predict_proba(X_test)[:,1]\r\n",
        "\r\n",
        "#Score the predictions\r\n",
        "lgbm_train_roc_score = roc_auc_score(y_train, y_train_preds)\r\n",
        "lgbm_test_roc_score = roc_auc_score(y_test, y_test_preds)\r\n",
        "\r\n",
        "print(f\"Training roc_auc_score: {lgbm_train_roc_score:0.5f}\")\r\n",
        "print(f\"Testing roc_auc_score: {lgbm_test_roc_score:0.5f}\")\r\n",
        "\r\n",
        "# Plot normalized confusion matrix\r\n",
        "disp = plot_confusion_matrix(lgbm, X_test, y_test,\r\n",
        "                              cmap=plt.cm.Blues,\r\n",
        "                             normalize='true')\r\n",
        "disp.ax_.set_title(\"Normalized confusion matrix\")\r\n",
        "plt.show()"
      ],
      "execution_count": null,
      "outputs": [
        {
          "output_type": "stream",
          "text": [
            "Training roc_auc_score: 0.56285\n",
            "Testing roc_auc_score: 0.52845\n"
          ],
          "name": "stdout"
        },
        {
          "output_type": "display_data",
          "data": {
            "image/png": "[encoded data removed]",
            "text/plain": [
              "<Figure size 432x288 with 2 Axes>"
            ]
          },
          "metadata": {
            "tags": [],
            "needs_background": "light"
          }
        }
      ]
    },
    {
      "cell_type": "markdown",
      "metadata": {
        "id": "h0TkCz8jxWUd"
      },
      "source": [
        "We see that the LGBM baseline is better than the logistic regression model baseline."
      ]
    },
    {
      "cell_type": "markdown",
      "metadata": {
        "id": "Rs6mi0uzxV3T"
      },
      "source": [
        "## K-Nearest-Neighbors Classifier"
      ]
    },
    {
      "cell_type": "code",
      "metadata": {
        "colab": {
          "base_uri": "https://localhost:8080/",
          "height": 329
        },
        "id": "gzjy9veRtWiT",
        "outputId": "236eaea1-7c79-4bc4-cb97-9ccdc3e4dd73"
      },
      "source": [
        "from sklearn.neighbors import KNeighborsClassifier\r\n",
        "\r\n",
        "# Instantiate the classifier object\r\n",
        "knn = KNeighborsClassifier(n_neighbors=3)\r\n",
        "\r\n",
        "# Fit the classifier object to the train data\r\n",
        "knn.fit(X_train, y_train)\r\n",
        "\r\n",
        "# Make predictions on the train and test sets\r\n",
        "y_train_preds = knn.predict_proba(X_train)[:,1]\r\n",
        "y_test_preds = knn.predict_proba(X_test)[:,1]\r\n",
        "\r\n",
        "#Score the predictions\r\n",
        "knn_train_roc_score = roc_auc_score(y_train, y_train_preds)\r\n",
        "knn_test_roc_score = roc_auc_score(y_test, y_test_preds)\r\n",
        "\r\n",
        "print(f\"Training roc_auc_score: {knn_train_roc_score:0.5f}\")\r\n",
        "print(f\"Testing roc_auc_score: {knn_test_roc_score:0.5f}\")\r\n",
        "\r\n",
        "# Plot normalized confusion matrix\r\n",
        "disp = plot_confusion_matrix(knn, X_test, y_test,\r\n",
        "                              cmap=plt.cm.Blues,\r\n",
        "                             normalize='true')\r\n",
        "disp.ax_.set_title(\"Normalized confusion matrix\")\r\n",
        "plt.show()"
      ],
      "execution_count": null,
      "outputs": [
        {
          "output_type": "stream",
          "text": [
            "Training roc_auc_score: 0.89008\n",
            "Testing roc_auc_score: 0.63538\n"
          ],
          "name": "stdout"
        },
        {
          "output_type": "display_data",
          "data": {
            "image/png": "[encoded data removed]",
            "text/plain": [
              "<Figure size 432x288 with 2 Axes>"
            ]
          },
          "metadata": {
            "tags": [],
            "needs_background": "light"
          }
        }
      ]
    },
    {
      "cell_type": "markdown",
      "metadata": {
        "id": "pzmnXXP02g0C"
      },
      "source": [
        "## Section Summary\r\n",
        "\r\n",
        "We tested three baseline models: Logistic Regression, LightGBM, and K-Nearest Neighbors. Each model is from a different class of models and they each have their trade-offs and assumptions.\r\n",
        "\r\n",
        "Logistic Regression performed well intraining and poorly in testing.\r\n",
        "\r\n",
        "K-Nearest-Neighbors performed great in training but worst of all three models on the test data. This is evidence that the model baseline tuning is over-fitting on noise in the training data.\r\n",
        "\r\n",
        "LightGBM performed the worst with the baseline hyperparameters. It assigned the target variable the same value for all inputs. It did not learn anything from training. I'll have to adjust the code on this model.\r\n",
        "\r\n"
      ]
    },
    {
      "cell_type": "markdown",
      "metadata": {
        "id": "Svf2TjYWytsC"
      },
      "source": [
        "We see that the baseline K-Nearest-Neighbors Classifier did quite well on the training set, but very poorly on the test set. KNN takes the longest to run. I'll have to adjust the hyper parameters or do some feature engineering to reduce the number of columns. Also, as the KNN took about 20 times longer to run than the other models, it makes sense that it's mch better.\r\n"
      ]
    },
    {
      "cell_type": "code",
      "metadata": {
        "colab": {
          "base_uri": "https://localhost:8080/"
        },
        "id": "Oy42t3Avb2w_",
        "outputId": "59d5df2f-5303-4656-d089-16ea1d4b6a7c"
      },
      "source": [
        "#Training and test roc_scores\r\n",
        "print(f\"log_reg_train_roc_score: {log_reg_train_roc_score:0.5f}\")\r\n",
        "print(f\"log_reg_test_roc_score: {log_reg_test_roc_score:0.5f}\")\r\n",
        "\r\n",
        "print(f\"lgbm_train_roc_score: {lgbm_train_roc_score:0.5f}\")\r\n",
        "print(f\"lgbm_test_roc_score: {lgbm_test_roc_score:0.5f}\")\r\n",
        "\r\n",
        "print(f\"knn_train_roc_score: {knn_train_roc_score:0.5f}\")\r\n",
        "print(f\"knn_test_roc_score: {knn_test_roc_score:0.5f}\")"
      ],
      "execution_count": null,
      "outputs": [
        {
          "output_type": "stream",
          "text": [
            "log_reg_train_roc_score: 0.95133\n",
            "log_reg_test_roc_score: 0.56963\n",
            "lgbm_train_roc_score: 0.56285\n",
            "lgbm_test_roc_score: 0.52845\n",
            "knn_train_roc_score: 0.89008\n",
            "knn_test_roc_score: 0.63538\n"
          ],
          "name": "stdout"
        }
      ]
    },
    {
      "cell_type": "code",
      "metadata": {
        "id": "nn2b9cx8cCwf"
      },
      "source": [
        ""
      ],
      "execution_count": null,
      "outputs": []
    }
  ]
}