{
  "nbformat": 4,
  "nbformat_minor": 0,
  "metadata": {
    "colab": {
      "name": "eda.ipynb",
      "provenance": [],
      "collapsed_sections": [],
      "toc_visible": true,
      "machine_shape": "hm",
      "mount_file_id": "13dcDkM-_T9a69Mjl5dngUVlCGvbD4wvi",
      "authorship_tag": "ABX9TyOW3JVTrWq5mSO0nVdi0UNL",
      "include_colab_link": true
    },
    "kernelspec": {
      "name": "python3",
      "display_name": "Python 3"
    }
  },
  "cells": [
    {
      "cell_type": "markdown",
      "metadata": {
        "id": "view-in-github",
        "colab_type": "text"
      },
      "source": [
        "<a href=\"https://colab.research.google.com/github/allen44/riiid-test-answer-prediction/blob/main/eda.ipynb\" target=\"_parent\"><img src=\"https://colab.research.google.com/assets/colab-badge.svg\" alt=\"Open In Colab\"/></a>"
      ]
    },
    {
      "cell_type": "code",
      "metadata": {
        "id": "pg55P_SLa0qc"
      },
      "source": [
        "import pandas as pd\n",
        "import numpy as np\n",
        "import matplotlib.pyplot as plt\n",
        "\n"
      ],
      "execution_count": 1,
      "outputs": []
    },
    {
      "cell_type": "markdown",
      "metadata": {
        "id": "2jHUz3V8-zm7"
      },
      "source": [
        "#Import the data"
      ]
    },
    {
      "cell_type": "code",
      "metadata": {
        "id": "Ab6dq5DybA-C",
        "colab": {
          "base_uri": "https://localhost:8080/"
        },
        "outputId": "33c5ea74-621d-42d7-bc2f-2b14853df898"
      },
      "source": [
        "df = pd.read_csv('/content/drive/MyDrive/Colab Notebooks/riiid-test-answer-prediction/data/train.csv', index_col='row_id')"
      ],
      "execution_count": 2,
      "outputs": [
        {
          "output_type": "stream",
          "text": [
            "/usr/local/lib/python3.6/dist-packages/numpy/lib/arraysetops.py:569: FutureWarning: elementwise comparison failed; returning scalar instead, but in the future will perform elementwise comparison\n",
            "  mask |= (ar1 == a)\n"
          ],
          "name": "stderr"
        }
      ]
    },
    {
      "cell_type": "markdown",
      "metadata": {
        "id": "3cNCGAhy-4s7"
      },
      "source": [
        "#Examine the shape of the dataframe, summary statistics, and missing values"
      ]
    },
    {
      "cell_type": "code",
      "metadata": {
        "id": "0oI1lqo4cwnv",
        "colab": {
          "base_uri": "https://localhost:8080/"
        },
        "outputId": "afaa8036-bec1-4327-8515-d65bf08a1e7c"
      },
      "source": [
        "info_fullset = df.info()\n",
        "info_fullset"
      ],
      "execution_count": 3,
      "outputs": [
        {
          "output_type": "stream",
          "text": [
            "<class 'pandas.core.frame.DataFrame'>\n",
            "Int64Index: 101230332 entries, 0 to 101230331\n",
            "Data columns (total 9 columns):\n",
            " #   Column                          Dtype  \n",
            "---  ------                          -----  \n",
            " 0   timestamp                       int64  \n",
            " 1   user_id                         int64  \n",
            " 2   content_id                      int64  \n",
            " 3   content_type_id                 int64  \n",
            " 4   task_container_id               int64  \n",
            " 5   user_answer                     int64  \n",
            " 6   answered_correctly              int64  \n",
            " 7   prior_question_elapsed_time     float64\n",
            " 8   prior_question_had_explanation  object \n",
            "dtypes: float64(1), int64(7), object(1)\n",
            "memory usage: 7.5+ GB\n"
          ],
          "name": "stdout"
        }
      ]
    },
    {
      "cell_type": "code",
      "metadata": {
        "colab": {
          "base_uri": "https://localhost:8080/",
          "height": 233
        },
        "id": "h2jjDwqjgcwK",
        "outputId": "ada8c021-24fb-4371-f568-bc7e74408c2c"
      },
      "source": [
        "df.head()"
      ],
      "execution_count": 4,
      "outputs": [
        {
          "output_type": "execute_result",
          "data": {
            "text/html": [
              "<div>\n",
              "<style scoped>\n",
              "    .dataframe tbody tr th:only-of-type {\n",
              "        vertical-align: middle;\n",
              "    }\n",
              "\n",
              "    .dataframe tbody tr th {\n",
              "        vertical-align: top;\n",
              "    }\n",
              "\n",
              "    .dataframe thead th {\n",
              "        text-align: right;\n",
              "    }\n",
              "</style>\n",
              "<table border=\"1\" class=\"dataframe\">\n",
              "  <thead>\n",
              "    <tr style=\"text-align: right;\">\n",
              "      <th></th>\n",
              "      <th>timestamp</th>\n",
              "      <th>user_id</th>\n",
              "      <th>content_id</th>\n",
              "      <th>content_type_id</th>\n",
              "      <th>task_container_id</th>\n",
              "      <th>user_answer</th>\n",
              "      <th>answered_correctly</th>\n",
              "      <th>prior_question_elapsed_time</th>\n",
              "      <th>prior_question_had_explanation</th>\n",
              "    </tr>\n",
              "    <tr>\n",
              "      <th>row_id</th>\n",
              "      <th></th>\n",
              "      <th></th>\n",
              "      <th></th>\n",
              "      <th></th>\n",
              "      <th></th>\n",
              "      <th></th>\n",
              "      <th></th>\n",
              "      <th></th>\n",
              "      <th></th>\n",
              "    </tr>\n",
              "  </thead>\n",
              "  <tbody>\n",
              "    <tr>\n",
              "      <th>0</th>\n",
              "      <td>0</td>\n",
              "      <td>115</td>\n",
              "      <td>5692</td>\n",
              "      <td>0</td>\n",
              "      <td>1</td>\n",
              "      <td>3</td>\n",
              "      <td>1</td>\n",
              "      <td>NaN</td>\n",
              "      <td>NaN</td>\n",
              "    </tr>\n",
              "    <tr>\n",
              "      <th>1</th>\n",
              "      <td>56943</td>\n",
              "      <td>115</td>\n",
              "      <td>5716</td>\n",
              "      <td>0</td>\n",
              "      <td>2</td>\n",
              "      <td>2</td>\n",
              "      <td>1</td>\n",
              "      <td>37000.0</td>\n",
              "      <td>False</td>\n",
              "    </tr>\n",
              "    <tr>\n",
              "      <th>2</th>\n",
              "      <td>118363</td>\n",
              "      <td>115</td>\n",
              "      <td>128</td>\n",
              "      <td>0</td>\n",
              "      <td>0</td>\n",
              "      <td>0</td>\n",
              "      <td>1</td>\n",
              "      <td>55000.0</td>\n",
              "      <td>False</td>\n",
              "    </tr>\n",
              "    <tr>\n",
              "      <th>3</th>\n",
              "      <td>131167</td>\n",
              "      <td>115</td>\n",
              "      <td>7860</td>\n",
              "      <td>0</td>\n",
              "      <td>3</td>\n",
              "      <td>0</td>\n",
              "      <td>1</td>\n",
              "      <td>19000.0</td>\n",
              "      <td>False</td>\n",
              "    </tr>\n",
              "    <tr>\n",
              "      <th>4</th>\n",
              "      <td>137965</td>\n",
              "      <td>115</td>\n",
              "      <td>7922</td>\n",
              "      <td>0</td>\n",
              "      <td>4</td>\n",
              "      <td>1</td>\n",
              "      <td>1</td>\n",
              "      <td>11000.0</td>\n",
              "      <td>False</td>\n",
              "    </tr>\n",
              "  </tbody>\n",
              "</table>\n",
              "</div>"
            ],
            "text/plain": [
              "        timestamp  ...  prior_question_had_explanation\n",
              "row_id             ...                                \n",
              "0               0  ...                             NaN\n",
              "1           56943  ...                           False\n",
              "2          118363  ...                           False\n",
              "3          131167  ...                           False\n",
              "4          137965  ...                           False\n",
              "\n",
              "[5 rows x 9 columns]"
            ]
          },
          "metadata": {
            "tags": []
          },
          "execution_count": 4
        }
      ]
    },
    {
      "cell_type": "code",
      "metadata": {
        "colab": {
          "base_uri": "https://localhost:8080/"
        },
        "id": "6gfvdrScgnIa",
        "outputId": "6b9d8d9c-1588-4dbe-d138-60cb93594dc4"
      },
      "source": [
        "df.shape"
      ],
      "execution_count": 5,
      "outputs": [
        {
          "output_type": "execute_result",
          "data": {
            "text/plain": [
              "(101230332, 9)"
            ]
          },
          "metadata": {
            "tags": []
          },
          "execution_count": 5
        }
      ]
    },
    {
      "cell_type": "code",
      "metadata": {
        "colab": {
          "base_uri": "https://localhost:8080/",
          "height": 386
        },
        "id": "rbtq-1UIgqv1",
        "outputId": "c85cd84e-7165-4abc-cfe3-5ec81dc3df32"
      },
      "source": [
        "describe_fullset = df.describe(include='all')\n",
        "describe_fullset"
      ],
      "execution_count": 6,
      "outputs": [
        {
          "output_type": "execute_result",
          "data": {
            "text/html": [
              "<div>\n",
              "<style scoped>\n",
              "    .dataframe tbody tr th:only-of-type {\n",
              "        vertical-align: middle;\n",
              "    }\n",
              "\n",
              "    .dataframe tbody tr th {\n",
              "        vertical-align: top;\n",
              "    }\n",
              "\n",
              "    .dataframe thead th {\n",
              "        text-align: right;\n",
              "    }\n",
              "</style>\n",
              "<table border=\"1\" class=\"dataframe\">\n",
              "  <thead>\n",
              "    <tr style=\"text-align: right;\">\n",
              "      <th></th>\n",
              "      <th>timestamp</th>\n",
              "      <th>user_id</th>\n",
              "      <th>content_id</th>\n",
              "      <th>content_type_id</th>\n",
              "      <th>task_container_id</th>\n",
              "      <th>user_answer</th>\n",
              "      <th>answered_correctly</th>\n",
              "      <th>prior_question_elapsed_time</th>\n",
              "      <th>prior_question_had_explanation</th>\n",
              "    </tr>\n",
              "  </thead>\n",
              "  <tbody>\n",
              "    <tr>\n",
              "      <th>count</th>\n",
              "      <td>1.012303e+08</td>\n",
              "      <td>1.012303e+08</td>\n",
              "      <td>1.012303e+08</td>\n",
              "      <td>1.012303e+08</td>\n",
              "      <td>1.012303e+08</td>\n",
              "      <td>1.012303e+08</td>\n",
              "      <td>1.012303e+08</td>\n",
              "      <td>9.887879e+07</td>\n",
              "      <td>100837826</td>\n",
              "    </tr>\n",
              "    <tr>\n",
              "      <th>unique</th>\n",
              "      <td>NaN</td>\n",
              "      <td>NaN</td>\n",
              "      <td>NaN</td>\n",
              "      <td>NaN</td>\n",
              "      <td>NaN</td>\n",
              "      <td>NaN</td>\n",
              "      <td>NaN</td>\n",
              "      <td>NaN</td>\n",
              "      <td>2</td>\n",
              "    </tr>\n",
              "    <tr>\n",
              "      <th>top</th>\n",
              "      <td>NaN</td>\n",
              "      <td>NaN</td>\n",
              "      <td>NaN</td>\n",
              "      <td>NaN</td>\n",
              "      <td>NaN</td>\n",
              "      <td>NaN</td>\n",
              "      <td>NaN</td>\n",
              "      <td>NaN</td>\n",
              "      <td>True</td>\n",
              "    </tr>\n",
              "    <tr>\n",
              "      <th>freq</th>\n",
              "      <td>NaN</td>\n",
              "      <td>NaN</td>\n",
              "      <td>NaN</td>\n",
              "      <td>NaN</td>\n",
              "      <td>NaN</td>\n",
              "      <td>NaN</td>\n",
              "      <td>NaN</td>\n",
              "      <td>NaN</td>\n",
              "      <td>89685560</td>\n",
              "    </tr>\n",
              "    <tr>\n",
              "      <th>mean</th>\n",
              "      <td>7.703644e+09</td>\n",
              "      <td>1.076732e+09</td>\n",
              "      <td>5.219605e+03</td>\n",
              "      <td>1.935222e-02</td>\n",
              "      <td>9.040624e+02</td>\n",
              "      <td>1.376123e+00</td>\n",
              "      <td>6.251644e-01</td>\n",
              "      <td>2.542381e+04</td>\n",
              "      <td>NaN</td>\n",
              "    </tr>\n",
              "    <tr>\n",
              "      <th>std</th>\n",
              "      <td>1.159266e+10</td>\n",
              "      <td>6.197163e+08</td>\n",
              "      <td>3.866359e+03</td>\n",
              "      <td>1.377596e-01</td>\n",
              "      <td>1.358302e+03</td>\n",
              "      <td>1.192896e+00</td>\n",
              "      <td>5.225307e-01</td>\n",
              "      <td>1.994815e+04</td>\n",
              "      <td>NaN</td>\n",
              "    </tr>\n",
              "    <tr>\n",
              "      <th>min</th>\n",
              "      <td>0.000000e+00</td>\n",
              "      <td>1.150000e+02</td>\n",
              "      <td>0.000000e+00</td>\n",
              "      <td>0.000000e+00</td>\n",
              "      <td>0.000000e+00</td>\n",
              "      <td>-1.000000e+00</td>\n",
              "      <td>-1.000000e+00</td>\n",
              "      <td>0.000000e+00</td>\n",
              "      <td>NaN</td>\n",
              "    </tr>\n",
              "    <tr>\n",
              "      <th>25%</th>\n",
              "      <td>5.243436e+08</td>\n",
              "      <td>5.408116e+08</td>\n",
              "      <td>2.063000e+03</td>\n",
              "      <td>0.000000e+00</td>\n",
              "      <td>1.040000e+02</td>\n",
              "      <td>0.000000e+00</td>\n",
              "      <td>0.000000e+00</td>\n",
              "      <td>1.600000e+04</td>\n",
              "      <td>NaN</td>\n",
              "    </tr>\n",
              "    <tr>\n",
              "      <th>50%</th>\n",
              "      <td>2.674234e+09</td>\n",
              "      <td>1.071781e+09</td>\n",
              "      <td>5.026000e+03</td>\n",
              "      <td>0.000000e+00</td>\n",
              "      <td>3.820000e+02</td>\n",
              "      <td>1.000000e+00</td>\n",
              "      <td>1.000000e+00</td>\n",
              "      <td>2.100000e+04</td>\n",
              "      <td>NaN</td>\n",
              "    </tr>\n",
              "    <tr>\n",
              "      <th>75%</th>\n",
              "      <td>9.924551e+09</td>\n",
              "      <td>1.615742e+09</td>\n",
              "      <td>7.425000e+03</td>\n",
              "      <td>0.000000e+00</td>\n",
              "      <td>1.094000e+03</td>\n",
              "      <td>3.000000e+00</td>\n",
              "      <td>1.000000e+00</td>\n",
              "      <td>2.966600e+04</td>\n",
              "      <td>NaN</td>\n",
              "    </tr>\n",
              "    <tr>\n",
              "      <th>max</th>\n",
              "      <td>8.742577e+10</td>\n",
              "      <td>2.147483e+09</td>\n",
              "      <td>3.273600e+04</td>\n",
              "      <td>1.000000e+00</td>\n",
              "      <td>9.999000e+03</td>\n",
              "      <td>3.000000e+00</td>\n",
              "      <td>1.000000e+00</td>\n",
              "      <td>3.000000e+05</td>\n",
              "      <td>NaN</td>\n",
              "    </tr>\n",
              "  </tbody>\n",
              "</table>\n",
              "</div>"
            ],
            "text/plain": [
              "           timestamp  ...  prior_question_had_explanation\n",
              "count   1.012303e+08  ...                       100837826\n",
              "unique           NaN  ...                               2\n",
              "top              NaN  ...                            True\n",
              "freq             NaN  ...                        89685560\n",
              "mean    7.703644e+09  ...                             NaN\n",
              "std     1.159266e+10  ...                             NaN\n",
              "min     0.000000e+00  ...                             NaN\n",
              "25%     5.243436e+08  ...                             NaN\n",
              "50%     2.674234e+09  ...                             NaN\n",
              "75%     9.924551e+09  ...                             NaN\n",
              "max     8.742577e+10  ...                             NaN\n",
              "\n",
              "[11 rows x 9 columns]"
            ]
          },
          "metadata": {
            "tags": []
          },
          "execution_count": 6
        }
      ]
    },
    {
      "cell_type": "markdown",
      "metadata": {
        "id": "-wArjzIWLTK8"
      },
      "source": [
        "##Check for missing data"
      ]
    },
    {
      "cell_type": "code",
      "metadata": {
        "colab": {
          "base_uri": "https://localhost:8080/"
        },
        "id": "Ff5-x4WeBMGl",
        "outputId": "c763d2e1-99a5-4b22-ec11-6a078b05c756"
      },
      "source": [
        "# Count missing values\n",
        "df.isna().sum()"
      ],
      "execution_count": 7,
      "outputs": [
        {
          "output_type": "execute_result",
          "data": {
            "text/plain": [
              "timestamp                               0\n",
              "user_id                                 0\n",
              "content_id                              0\n",
              "content_type_id                         0\n",
              "task_container_id                       0\n",
              "user_answer                             0\n",
              "answered_correctly                      0\n",
              "prior_question_elapsed_time       2351538\n",
              "prior_question_had_explanation     392506\n",
              "dtype: int64"
            ]
          },
          "metadata": {
            "tags": []
          },
          "execution_count": 7
        }
      ]
    },
    {
      "cell_type": "markdown",
      "metadata": {
        "id": "ID-gOHHEBcw1"
      },
      "source": [
        "The data is mostly clean, and only two columns have missing data. Based on the names of these two columns, it seems well have to take a closer look at these two later before handling the missing data."
      ]
    },
    {
      "cell_type": "markdown",
      "metadata": {
        "id": "dO5n0tNULh10"
      },
      "source": [
        "##Check unique entries and dtypes"
      ]
    },
    {
      "cell_type": "code",
      "metadata": {
        "colab": {
          "base_uri": "https://localhost:8080/"
        },
        "id": "vHRVCwhNF29t",
        "outputId": "26577f97-1003-4ff4-c541-29689df1c192"
      },
      "source": [
        "#Check the relative frequency of unique values in each column\n",
        "df.nunique()"
      ],
      "execution_count": 8,
      "outputs": [
        {
          "output_type": "execute_result",
          "data": {
            "text/plain": [
              "timestamp                         72821015\n",
              "user_id                             393656\n",
              "content_id                           13782\n",
              "content_type_id                          2\n",
              "task_container_id                    10000\n",
              "user_answer                              5\n",
              "answered_correctly                       3\n",
              "prior_question_elapsed_time           3258\n",
              "prior_question_had_explanation           2\n",
              "dtype: int64"
            ]
          },
          "metadata": {
            "tags": []
          },
          "execution_count": 8
        }
      ]
    },
    {
      "cell_type": "markdown",
      "metadata": {
        "id": "0aewSose_E3t"
      },
      "source": [
        "## Changing dtypes\n",
        "As the number of unique entries in each column is comparatively low, relative to the size of the data set, there will be perfomance gains by recaasting most of these colums as categorical variables.\n",
        "\n",
        "timestamp is an exception and should be treated differently.\n",
        "\n",
        "prior_question_elapsed_time is a float and probably should not be categorical.\n",
        "\n",
        "prior_question_had_explanation should be change to dtype:bool\n"
      ]
    },
    {
      "cell_type": "code",
      "metadata": {
        "colab": {
          "base_uri": "https://localhost:8080/"
        },
        "id": "Pohep2jRGMfI",
        "outputId": "5161ec91-46bd-41bc-dd9a-6648998764ad"
      },
      "source": [
        "categorical_columns = ['user_id', 'content_id', 'content_type_id', 'task_container_id', 'user_answer', 'answered_correctly']\n",
        "for column_id in categorical_columns:\n",
        "  df[column_id] = pd.Categorical(df[column_id])\n",
        "\n",
        "df['prior_question_had_explanation'] = df['prior_question_had_explanation'].astype('bool')\n",
        "df.dtypes"
      ],
      "execution_count": 9,
      "outputs": [
        {
          "output_type": "execute_result",
          "data": {
            "text/plain": [
              "timestamp                            int64\n",
              "user_id                           category\n",
              "content_id                        category\n",
              "content_type_id                   category\n",
              "task_container_id                 category\n",
              "user_answer                       category\n",
              "answered_correctly                category\n",
              "prior_question_elapsed_time        float64\n",
              "prior_question_had_explanation        bool\n",
              "dtype: object"
            ]
          },
          "metadata": {
            "tags": []
          },
          "execution_count": 9
        }
      ]
    },
    {
      "cell_type": "markdown",
      "metadata": {
        "id": "9DSKcRYNlfsr"
      },
      "source": [
        "# Exploring the data in each column\n",
        "\n",
        "From the Kaggle website:\n",
        "\n",
        "\n",
        "row_id: (int64) ID code for the row.\n",
        "\n",
        "timestamp: (int64) the time in milliseconds between this user interaction and the first event completion from that user.\n",
        "\n",
        "user_id: (int32) ID code for the user.\n",
        "\n",
        "content_id: (int16) ID code for the user interaction\n",
        "\n",
        "content_type_id: (int8) 0 if the event was a question being posed to the user, 1 if the event was the user watching a lecture.\n",
        "\n",
        "task_container_id: (int16) Id code for the batch of questions or lectures. For example, a user might see three questions in a row before seeing the explanations for any of them. Those three would all share a task_container_id.\n",
        "\n",
        "user_answer: (int8) the user's answer to the question, if any. Read -1 as null, for lectures.\n",
        "\n",
        "answered_correctly: (int8) if the user responded correctly. Read -1 as null, for lectures.\n",
        "\n",
        "prior_question_elapsed_time: (float32) The average time in milliseconds it took a user to answer each question in the previous question bundle, ignoring any lectures in between. Is null for a user's first question bundle or lecture. Note that the time is the average time a user took to solve each question in the previous bundle.\n",
        "\n",
        "prior_question_had_explanation: (bool) Whether or not the user saw an explanation and the correct response(s) after answering the previous question bundle, ignoring any lectures in between. The value is shared across a single question bundle, and is null for a user's first question bundle or lecture. Typically the first several questions a user sees were part of an onboarding diagnostic test where they did not get any feedback.\n",
        "\n",
        "\n",
        "\n"
      ]
    },
    {
      "cell_type": "markdown",
      "metadata": {
        "id": "o0rzOIttlliU"
      },
      "source": [
        "##timestamp\n",
        "\n",
        "Presumably, this column has something to do with time, but need not be a time series. Let plot to see the distribution of the data, along with summary statistics."
      ]
    },
    {
      "cell_type": "code",
      "metadata": {
        "colab": {
          "base_uri": "https://localhost:8080/",
          "height": 291
        },
        "id": "Fz9T9eiIhdCs",
        "outputId": "cbf64a33-9354-4762-d33f-d6874c46053d"
      },
      "source": [
        "df['timestamp'].plot()\n",
        "plt.show()"
      ],
      "execution_count": 10,
      "outputs": [
        {
          "output_type": "display_data",
          "data": {
            "image/png": "[encoded data removed]",
            "text/plain": [
              "<Figure size 432x288 with 1 Axes>"
            ]
          },
          "metadata": {
            "tags": [],
            "needs_background": "light"
          }
        }
      ]
    },
    {
      "cell_type": "markdown",
      "metadata": {
        "id": "RX-P3g-JnU95"
      },
      "source": [
        "A line plot shows no useful info"
      ]
    },
    {
      "cell_type": "code",
      "metadata": {
        "colab": {
          "base_uri": "https://localhost:8080/",
          "height": 276
        },
        "id": "1XIlEs9WheWY",
        "outputId": "c7e31384-54c2-4166-ab6b-7a37fc2209da"
      },
      "source": [
        "df['timestamp'].plot(kind='box')\n",
        "plt.show()"
      ],
      "execution_count": 11,
      "outputs": [
        {
          "output_type": "display_data",
          "data": {
            "image/png": "[encoded data removed]",
            "text/plain": [
              "<Figure size 432x288 with 1 Axes>"
            ]
          },
          "metadata": {
            "tags": [],
            "needs_background": "light"
          }
        }
      ]
    },
    {
      "cell_type": "markdown",
      "metadata": {
        "id": "CRlpiA6anba7"
      },
      "source": [
        "A box plot shows that that the timestamps generally have values between 0e9 and 2e9, with a minority of values larger than 2.\n",
        "\n",
        "As 10e8 is about 3.1 years, and 10e7 is about 0.31 years,"
      ]
    },
    {
      "cell_type": "code",
      "metadata": {
        "colab": {
          "base_uri": "https://localhost:8080/",
          "height": 289
        },
        "id": "eKeY-8X0jo7d",
        "outputId": "43fa80b1-2cad-471b-85fb-bd4bdbc4234b"
      },
      "source": [
        "df['timestamp'].plot(kind='hist', bins=10)\n",
        "plt.show()"
      ],
      "execution_count": 12,
      "outputs": [
        {
          "output_type": "display_data",
          "data": {
            "image/png": "[encoded data removed]",
            "text/plain": [
              "<Figure size 432x288 with 1 Axes>"
            ]
          },
          "metadata": {
            "tags": [],
            "needs_background": "light"
          }
        }
      ]
    },
    {
      "cell_type": "markdown",
      "metadata": {
        "id": "eu7DsweAkEYn"
      },
      "source": [
        "There is a right-skewness but no reason yet to consider these as outliers to drop or correct.\n",
        "\n",
        "Most of the data entries were from relatively \"young\" user accounts, while a minority of data are from older user accounts. The units here are milliseconds since account creations, so the average action took place about 0.23 years after account creation."
      ]
    },
    {
      "cell_type": "code",
      "metadata": {
        "id": "WmQw9ncYkiK2"
      },
      "source": [
        ""
      ],
      "execution_count": 12,
      "outputs": []
    },
    {
      "cell_type": "markdown",
      "metadata": {
        "id": "V3WKTd8voCvk"
      },
      "source": [
        "##user_id\n",
        "\n",
        "This is presumed to a unique user id that is randomly distributed to each user, with one per user.\n",
        "\n",
        "This data can be used to relate data etries from the same users through out the data set.\n"
      ]
    },
    {
      "cell_type": "code",
      "metadata": {
        "colab": {
          "base_uri": "https://localhost:8080/"
        },
        "id": "QJ5rEiUCou6F",
        "outputId": "1a669130-af5b-4d14-f108-29026dafc3e1"
      },
      "source": [
        "#Count the unique users in this data set\n",
        "unique_users = df['user_id'].unique()\n",
        "unique_users"
      ],
      "execution_count": 13,
      "outputs": [
        {
          "output_type": "execute_result",
          "data": {
            "text/plain": [
              "[115, 124, 2746, 5382, 8623, ..., 2147470770, 2147470777, 2147481750, 2147482216, 2147482888]\n",
              "Length: 393656\n",
              "Categories (393656, int64): [115, 124, 2746, 5382, ..., 2147470777, 2147481750, 2147482216,\n",
              "                             2147482888]"
            ]
          },
          "metadata": {
            "tags": []
          },
          "execution_count": 13
        }
      ]
    },
    {
      "cell_type": "markdown",
      "metadata": {
        "id": "CjWYDdEp1xZH"
      },
      "source": [
        "unique_users is an np.array of types int, buit is not continuous and very few of the numbers in the range are used."
      ]
    },
    {
      "cell_type": "code",
      "metadata": {
        "id": "F_wS9emXpuT7",
        "colab": {
          "base_uri": "https://localhost:8080/"
        },
        "outputId": "6ea1d797-084d-4a1d-bfeb-fff92c04e23b"
      },
      "source": [
        "len(unique_users)"
      ],
      "execution_count": 14,
      "outputs": [
        {
          "output_type": "execute_result",
          "data": {
            "text/plain": [
              "393656"
            ]
          },
          "metadata": {
            "tags": []
          },
          "execution_count": 14
        }
      ]
    },
    {
      "cell_type": "markdown",
      "metadata": {
        "id": "wQsbLSet0wy4"
      },
      "source": [
        "As there are not that many users, while the int range is large, there may be a performance benefit to convert this data type to Category."
      ]
    },
    {
      "cell_type": "code",
      "metadata": {
        "id": "j9T-4ohkqSqZ",
        "colab": {
          "base_uri": "https://localhost:8080/"
        },
        "outputId": "eec9f97d-5bff-4c61-e053-b89a1d227971"
      },
      "source": [
        "df['user_id'] = df['user_id'].astype('category')\n",
        "df.info()"
      ],
      "execution_count": 15,
      "outputs": [
        {
          "output_type": "stream",
          "text": [
            "<class 'pandas.core.frame.DataFrame'>\n",
            "Int64Index: 101230332 entries, 0 to 101230331\n",
            "Data columns (total 9 columns):\n",
            " #   Column                          Dtype   \n",
            "---  ------                          -----   \n",
            " 0   timestamp                       int64   \n",
            " 1   user_id                         category\n",
            " 2   content_id                      category\n",
            " 3   content_type_id                 category\n",
            " 4   task_container_id               category\n",
            " 5   user_answer                     category\n",
            " 6   answered_correctly              category\n",
            " 7   prior_question_elapsed_time     float64 \n",
            " 8   prior_question_had_explanation  bool    \n",
            "dtypes: bool(1), category(6), float64(1), int64(1)\n",
            "memory usage: 3.4 GB\n"
          ],
          "name": "stdout"
        }
      ]
    },
    {
      "cell_type": "markdown",
      "metadata": {
        "id": "vzvvveKp3RLt"
      },
      "source": [
        "We can see that the user_id column now has dtype: category."
      ]
    },
    {
      "cell_type": "markdown",
      "metadata": {
        "id": "-7T_FNEE4rtr"
      },
      "source": [
        "We can  group the rows by user_id now by using a multi-index"
      ]
    },
    {
      "cell_type": "code",
      "metadata": {
        "colab": {
          "base_uri": "https://localhost:8080/",
          "height": 233
        },
        "id": "t2-FOiQO46nf",
        "outputId": "11b1adde-5b80-4d0b-c00c-4ce7284ff9c8"
      },
      "source": [
        "df = df.set_index('user_id', 'timestamp')\n",
        "df.head()"
      ],
      "execution_count": 16,
      "outputs": [
        {
          "output_type": "execute_result",
          "data": {
            "text/html": [
              "<div>\n",
              "<style scoped>\n",
              "    .dataframe tbody tr th:only-of-type {\n",
              "        vertical-align: middle;\n",
              "    }\n",
              "\n",
              "    .dataframe tbody tr th {\n",
              "        vertical-align: top;\n",
              "    }\n",
              "\n",
              "    .dataframe thead th {\n",
              "        text-align: right;\n",
              "    }\n",
              "</style>\n",
              "<table border=\"1\" class=\"dataframe\">\n",
              "  <thead>\n",
              "    <tr style=\"text-align: right;\">\n",
              "      <th></th>\n",
              "      <th>timestamp</th>\n",
              "      <th>content_id</th>\n",
              "      <th>content_type_id</th>\n",
              "      <th>task_container_id</th>\n",
              "      <th>user_answer</th>\n",
              "      <th>answered_correctly</th>\n",
              "      <th>prior_question_elapsed_time</th>\n",
              "      <th>prior_question_had_explanation</th>\n",
              "    </tr>\n",
              "    <tr>\n",
              "      <th>user_id</th>\n",
              "      <th></th>\n",
              "      <th></th>\n",
              "      <th></th>\n",
              "      <th></th>\n",
              "      <th></th>\n",
              "      <th></th>\n",
              "      <th></th>\n",
              "      <th></th>\n",
              "    </tr>\n",
              "  </thead>\n",
              "  <tbody>\n",
              "    <tr>\n",
              "      <th>115</th>\n",
              "      <td>0</td>\n",
              "      <td>5692</td>\n",
              "      <td>0</td>\n",
              "      <td>1</td>\n",
              "      <td>3</td>\n",
              "      <td>1</td>\n",
              "      <td>NaN</td>\n",
              "      <td>True</td>\n",
              "    </tr>\n",
              "    <tr>\n",
              "      <th>115</th>\n",
              "      <td>56943</td>\n",
              "      <td>5716</td>\n",
              "      <td>0</td>\n",
              "      <td>2</td>\n",
              "      <td>2</td>\n",
              "      <td>1</td>\n",
              "      <td>37000.0</td>\n",
              "      <td>False</td>\n",
              "    </tr>\n",
              "    <tr>\n",
              "      <th>115</th>\n",
              "      <td>118363</td>\n",
              "      <td>128</td>\n",
              "      <td>0</td>\n",
              "      <td>0</td>\n",
              "      <td>0</td>\n",
              "      <td>1</td>\n",
              "      <td>55000.0</td>\n",
              "      <td>False</td>\n",
              "    </tr>\n",
              "    <tr>\n",
              "      <th>115</th>\n",
              "      <td>131167</td>\n",
              "      <td>7860</td>\n",
              "      <td>0</td>\n",
              "      <td>3</td>\n",
              "      <td>0</td>\n",
              "      <td>1</td>\n",
              "      <td>19000.0</td>\n",
              "      <td>False</td>\n",
              "    </tr>\n",
              "    <tr>\n",
              "      <th>115</th>\n",
              "      <td>137965</td>\n",
              "      <td>7922</td>\n",
              "      <td>0</td>\n",
              "      <td>4</td>\n",
              "      <td>1</td>\n",
              "      <td>1</td>\n",
              "      <td>11000.0</td>\n",
              "      <td>False</td>\n",
              "    </tr>\n",
              "  </tbody>\n",
              "</table>\n",
              "</div>"
            ],
            "text/plain": [
              "         timestamp  ... prior_question_had_explanation\n",
              "user_id             ...                               \n",
              "115              0  ...                           True\n",
              "115          56943  ...                          False\n",
              "115         118363  ...                          False\n",
              "115         131167  ...                          False\n",
              "115         137965  ...                          False\n",
              "\n",
              "[5 rows x 8 columns]"
            ]
          },
          "metadata": {
            "tags": []
          },
          "execution_count": 16
        }
      ]
    },
    {
      "cell_type": "code",
      "metadata": {
        "colab": {
          "base_uri": "https://localhost:8080/"
        },
        "id": "5p6VNBJyA2rv",
        "outputId": "b528648a-2c04-4a58-cedb-bb5daf567091"
      },
      "source": [
        "df.info()"
      ],
      "execution_count": 17,
      "outputs": [
        {
          "output_type": "stream",
          "text": [
            "<class 'pandas.core.frame.DataFrame'>\n",
            "CategoricalIndex: 101230332 entries, 115 to 2147482888\n",
            "Data columns (total 8 columns):\n",
            " #   Column                          Dtype   \n",
            "---  ------                          -----   \n",
            " 0   timestamp                       int64   \n",
            " 1   content_id                      category\n",
            " 2   content_type_id                 category\n",
            " 3   task_container_id               category\n",
            " 4   user_answer                     category\n",
            " 5   answered_correctly              category\n",
            " 6   prior_question_elapsed_time     float64 \n",
            " 7   prior_question_had_explanation  bool    \n",
            "dtypes: bool(1), category(5), float64(1), int64(1)\n",
            "memory usage: 2.7 GB\n"
          ],
          "name": "stdout"
        }
      ]
    },
    {
      "cell_type": "code",
      "metadata": {
        "colab": {
          "base_uri": "https://localhost:8080/"
        },
        "id": "dP3U0kcTAtMb",
        "outputId": "56b4b76d-a5c2-49e8-8026-41ddefb1976f"
      },
      "source": [
        "df.shape"
      ],
      "execution_count": 18,
      "outputs": [
        {
          "output_type": "execute_result",
          "data": {
            "text/plain": [
              "(101230332, 8)"
            ]
          },
          "metadata": {
            "tags": []
          },
          "execution_count": 18
        }
      ]
    },
    {
      "cell_type": "markdown",
      "metadata": {
        "id": "ZsoTkmFuAzfl"
      },
      "source": [
        "We see that there is only less column now."
      ]
    },
    {
      "cell_type": "markdown",
      "metadata": {
        "id": "lixiTgG23yLy"
      },
      "source": [
        "#Detour\n",
        "As the Google Colab runtime keeps crashing due to lack of memory (even with Colab Pro), we will switch to importing only about 1% of the data for this EDA. IF we see that this subset differs signifcant;y fullset's summary statistics, we can contiue to attempt using the full set."
      ]
    },
    {
      "cell_type": "code",
      "metadata": {
        "id": "yePCRqRf7yMG"
      },
      "source": [
        "df = pd.read_csv('/content/drive/MyDrive/Colab Notebooks/riiid-test-answer-prediction/data/train.csv', index_col='row_id', nrows=10**6)"
      ],
      "execution_count": 19,
      "outputs": []
    },
    {
      "cell_type": "code",
      "metadata": {
        "colab": {
          "base_uri": "https://localhost:8080/"
        },
        "id": "nuH_-ORr71Rh",
        "outputId": "79ddce9f-19e2-4ff0-e88e-640476c67627"
      },
      "source": [
        "info_subset = df.info()"
      ],
      "execution_count": 20,
      "outputs": [
        {
          "output_type": "stream",
          "text": [
            "<class 'pandas.core.frame.DataFrame'>\n",
            "Int64Index: 1000000 entries, 0 to 999999\n",
            "Data columns (total 9 columns):\n",
            " #   Column                          Non-Null Count    Dtype  \n",
            "---  ------                          --------------    -----  \n",
            " 0   timestamp                       1000000 non-null  int64  \n",
            " 1   user_id                         1000000 non-null  int64  \n",
            " 2   content_id                      1000000 non-null  int64  \n",
            " 3   content_type_id                 1000000 non-null  int64  \n",
            " 4   task_container_id               1000000 non-null  int64  \n",
            " 5   user_answer                     1000000 non-null  int64  \n",
            " 6   answered_correctly              1000000 non-null  int64  \n",
            " 7   prior_question_elapsed_time     976277 non-null   float64\n",
            " 8   prior_question_had_explanation  996184 non-null   object \n",
            "dtypes: float64(1), int64(7), object(1)\n",
            "memory usage: 76.3+ MB\n"
          ],
          "name": "stdout"
        }
      ]
    },
    {
      "cell_type": "code",
      "metadata": {
        "colab": {
          "base_uri": "https://localhost:8080/",
          "height": 386
        },
        "id": "KAddtSI97zHh",
        "outputId": "58a888ff-2f4d-46e9-eb6a-61666ee00331"
      },
      "source": [
        "describe_subset = df.describe(include='all')\n",
        "describe_subset"
      ],
      "execution_count": 21,
      "outputs": [
        {
          "output_type": "execute_result",
          "data": {
            "text/html": [
              "<div>\n",
              "<style scoped>\n",
              "    .dataframe tbody tr th:only-of-type {\n",
              "        vertical-align: middle;\n",
              "    }\n",
              "\n",
              "    .dataframe tbody tr th {\n",
              "        vertical-align: top;\n",
              "    }\n",
              "\n",
              "    .dataframe thead th {\n",
              "        text-align: right;\n",
              "    }\n",
              "</style>\n",
              "<table border=\"1\" class=\"dataframe\">\n",
              "  <thead>\n",
              "    <tr style=\"text-align: right;\">\n",
              "      <th></th>\n",
              "      <th>timestamp</th>\n",
              "      <th>user_id</th>\n",
              "      <th>content_id</th>\n",
              "      <th>content_type_id</th>\n",
              "      <th>task_container_id</th>\n",
              "      <th>user_answer</th>\n",
              "      <th>answered_correctly</th>\n",
              "      <th>prior_question_elapsed_time</th>\n",
              "      <th>prior_question_had_explanation</th>\n",
              "    </tr>\n",
              "  </thead>\n",
              "  <tbody>\n",
              "    <tr>\n",
              "      <th>count</th>\n",
              "      <td>1.000000e+06</td>\n",
              "      <td>1.000000e+06</td>\n",
              "      <td>1000000.000000</td>\n",
              "      <td>1000000.000000</td>\n",
              "      <td>1000000.000000</td>\n",
              "      <td>1000000.000000</td>\n",
              "      <td>1000000.000000</td>\n",
              "      <td>976277.000000</td>\n",
              "      <td>996184</td>\n",
              "    </tr>\n",
              "    <tr>\n",
              "      <th>unique</th>\n",
              "      <td>NaN</td>\n",
              "      <td>NaN</td>\n",
              "      <td>NaN</td>\n",
              "      <td>NaN</td>\n",
              "      <td>NaN</td>\n",
              "      <td>NaN</td>\n",
              "      <td>NaN</td>\n",
              "      <td>NaN</td>\n",
              "      <td>2</td>\n",
              "    </tr>\n",
              "    <tr>\n",
              "      <th>top</th>\n",
              "      <td>NaN</td>\n",
              "      <td>NaN</td>\n",
              "      <td>NaN</td>\n",
              "      <td>NaN</td>\n",
              "      <td>NaN</td>\n",
              "      <td>NaN</td>\n",
              "      <td>NaN</td>\n",
              "      <td>NaN</td>\n",
              "      <td>True</td>\n",
              "    </tr>\n",
              "    <tr>\n",
              "      <th>freq</th>\n",
              "      <td>NaN</td>\n",
              "      <td>NaN</td>\n",
              "      <td>NaN</td>\n",
              "      <td>NaN</td>\n",
              "      <td>NaN</td>\n",
              "      <td>NaN</td>\n",
              "      <td>NaN</td>\n",
              "      <td>NaN</td>\n",
              "      <td>889887</td>\n",
              "    </tr>\n",
              "    <tr>\n",
              "      <th>mean</th>\n",
              "      <td>7.344311e+09</td>\n",
              "      <td>1.017255e+07</td>\n",
              "      <td>5232.691523</td>\n",
              "      <td>0.019907</td>\n",
              "      <td>806.105689</td>\n",
              "      <td>1.374784</td>\n",
              "      <td>0.617504</td>\n",
              "      <td>25302.962693</td>\n",
              "      <td>NaN</td>\n",
              "    </tr>\n",
              "    <tr>\n",
              "      <th>std</th>\n",
              "      <td>1.058693e+10</td>\n",
              "      <td>6.029234e+06</td>\n",
              "      <td>3882.323419</td>\n",
              "      <td>0.139681</td>\n",
              "      <td>1025.887530</td>\n",
              "      <td>1.194168</td>\n",
              "      <td>0.525364</td>\n",
              "      <td>19710.310227</td>\n",
              "      <td>NaN</td>\n",
              "    </tr>\n",
              "    <tr>\n",
              "      <th>min</th>\n",
              "      <td>0.000000e+00</td>\n",
              "      <td>1.150000e+02</td>\n",
              "      <td>0.000000</td>\n",
              "      <td>0.000000</td>\n",
              "      <td>0.000000</td>\n",
              "      <td>-1.000000</td>\n",
              "      <td>-1.000000</td>\n",
              "      <td>0.000000</td>\n",
              "      <td>NaN</td>\n",
              "    </tr>\n",
              "    <tr>\n",
              "      <th>25%</th>\n",
              "      <td>5.211669e+08</td>\n",
              "      <td>4.702585e+06</td>\n",
              "      <td>2057.000000</td>\n",
              "      <td>0.000000</td>\n",
              "      <td>109.000000</td>\n",
              "      <td>0.000000</td>\n",
              "      <td>0.000000</td>\n",
              "      <td>16000.000000</td>\n",
              "      <td>NaN</td>\n",
              "    </tr>\n",
              "    <tr>\n",
              "      <th>50%</th>\n",
              "      <td>2.824811e+09</td>\n",
              "      <td>9.678259e+06</td>\n",
              "      <td>5052.000000</td>\n",
              "      <td>0.000000</td>\n",
              "      <td>391.000000</td>\n",
              "      <td>1.000000</td>\n",
              "      <td>1.000000</td>\n",
              "      <td>21000.000000</td>\n",
              "      <td>NaN</td>\n",
              "    </tr>\n",
              "    <tr>\n",
              "      <th>75%</th>\n",
              "      <td>1.010186e+10</td>\n",
              "      <td>1.556872e+07</td>\n",
              "      <td>7421.000000</td>\n",
              "      <td>0.000000</td>\n",
              "      <td>1112.000000</td>\n",
              "      <td>3.000000</td>\n",
              "      <td>1.000000</td>\n",
              "      <td>29666.000000</td>\n",
              "      <td>NaN</td>\n",
              "    </tr>\n",
              "    <tr>\n",
              "      <th>max</th>\n",
              "      <td>7.809200e+10</td>\n",
              "      <td>2.094902e+07</td>\n",
              "      <td>32736.000000</td>\n",
              "      <td>1.000000</td>\n",
              "      <td>7739.000000</td>\n",
              "      <td>3.000000</td>\n",
              "      <td>1.000000</td>\n",
              "      <td>300000.000000</td>\n",
              "      <td>NaN</td>\n",
              "    </tr>\n",
              "  </tbody>\n",
              "</table>\n",
              "</div>"
            ],
            "text/plain": [
              "           timestamp  ...  prior_question_had_explanation\n",
              "count   1.000000e+06  ...                          996184\n",
              "unique           NaN  ...                               2\n",
              "top              NaN  ...                            True\n",
              "freq             NaN  ...                          889887\n",
              "mean    7.344311e+09  ...                             NaN\n",
              "std     1.058693e+10  ...                             NaN\n",
              "min     0.000000e+00  ...                             NaN\n",
              "25%     5.211669e+08  ...                             NaN\n",
              "50%     2.824811e+09  ...                             NaN\n",
              "75%     1.010186e+10  ...                             NaN\n",
              "max     7.809200e+10  ...                             NaN\n",
              "\n",
              "[11 rows x 9 columns]"
            ]
          },
          "metadata": {
            "tags": []
          },
          "execution_count": 21
        }
      ]
    },
    {
      "cell_type": "code",
      "metadata": {
        "colab": {
          "base_uri": "https://localhost:8080/"
        },
        "id": "MRDueIdZ8CLv",
        "outputId": "13795be1-0b96-402a-9aaa-c015593e326c"
      },
      "source": [
        "df.nunique()"
      ],
      "execution_count": 22,
      "outputs": [
        {
          "output_type": "execute_result",
          "data": {
            "text/plain": [
              "timestamp                         769357\n",
              "user_id                             3824\n",
              "content_id                         13320\n",
              "content_type_id                        2\n",
              "task_container_id                   7740\n",
              "user_answer                            5\n",
              "answered_correctly                     3\n",
              "prior_question_elapsed_time         1659\n",
              "prior_question_had_explanation         2\n",
              "dtype: int64"
            ]
          },
          "metadata": {
            "tags": []
          },
          "execution_count": 22
        }
      ]
    },
    {
      "cell_type": "markdown",
      "metadata": {
        "id": "ZHZBOvcD3FRd"
      },
      "source": [
        "##content_id\n",
        "content_id: (int16) ID code for the user interaction\n",
        "\n",
        "We can probably recast this as categorical also."
      ]
    },
    {
      "cell_type": "code",
      "metadata": {
        "colab": {
          "base_uri": "https://localhost:8080/",
          "height": 280
        },
        "id": "jDK8bmj93nDc",
        "outputId": "d63d298c-249c-4eae-8bfe-745f946537a0"
      },
      "source": [
        "df['content_id'].plot()\n",
        "plt.show()"
      ],
      "execution_count": 23,
      "outputs": [
        {
          "output_type": "display_data",
          "data": {
            "image/png": "[encoded data removed]",
            "text/plain": [
              "<Figure size 432x288 with 1 Axes>"
            ]
          },
          "metadata": {
            "tags": [],
            "needs_background": "light"
          }
        }
      ]
    },
    {
      "cell_type": "code",
      "metadata": {
        "id": "dP_GI5zx8nFA"
      },
      "source": [
        ""
      ],
      "execution_count": 23,
      "outputs": []
    }
  ]
}