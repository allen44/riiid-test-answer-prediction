{
  "nbformat": 4,
  "nbformat_minor": 0,
  "metadata": {
    "colab": {
      "name": "eda.ipynb",
      "provenance": [],
      "collapsed_sections": [],
      "toc_visible": true,
      "machine_shape": "hm",
      "mount_file_id": "13dcDkM-_T9a69Mjl5dngUVlCGvbD4wvi",
      "authorship_tag": "ABX9TyNMoF9IXBQRnx/AYU/2o0oZ",
      "include_colab_link": true
    },
    "kernelspec": {
      "name": "python3",
      "display_name": "Python 3"
    }
  },
  "cells": [
    {
      "cell_type": "markdown",
      "metadata": {
        "id": "view-in-github",
        "colab_type": "text"
      },
      "source": [
        "<a href=\"https://colab.research.google.com/github/allen44/riiid-test-answer-prediction/blob/main/eda.ipynb\" target=\"_parent\"><img src=\"https://colab.research.google.com/assets/colab-badge.svg\" alt=\"Open In Colab\"/></a>"
      ]
    },
    {
      "cell_type": "code",
      "metadata": {
        "id": "pg55P_SLa0qc",
        "colab": {
          "base_uri": "https://localhost:8080/"
        },
        "outputId": "f19ac1c0-18d8-4138-e78a-78f6a54836eb"
      },
      "source": [
        "import pandas as pd\n",
        "import numpy as np\n",
        "import matplotlib.pyplot as plt\n",
        "import pickle\n",
        "from pathlib import Path\n",
        "\n",
        "%cd /content/drive/MyDrive/Colab Notebooks/riiid-test-answer-prediction/\n",
        "%pwd\n",
        "\n",
        "pwd = Path.cwd()\n",
        "train_csv_path = Path('/content/drive/MyDrive/Colab Notebooks/riiid-test-answer-prediction/data/train.csv')\n",
        "train_pkl_path = Path('/content/drive/MyDrive/Colab Notebooks/riiid-test-answer-prediction/data/train.pkl.gzip')\n",
        "\n",
        "def ms_to_days(array_like):\n",
        "  return np.divide(array_like, 86400000)"
      ],
      "execution_count": 2,
      "outputs": [
        {
          "output_type": "stream",
          "text": [
            "/content/drive/MyDrive/Colab Notebooks/riiid-test-answer-prediction\n"
          ],
          "name": "stdout"
        }
      ]
    },
    {
      "cell_type": "markdown",
      "metadata": {
        "id": "2jHUz3V8-zm7"
      },
      "source": [
        "#Import the data"
      ]
    },
    {
      "cell_type": "code",
      "metadata": {
        "id": "Ab6dq5DybA-C",
        "colab": {
          "base_uri": "https://localhost:8080/"
        },
        "outputId": "3147062e-8317-4b1a-b689-1540ec627d51"
      },
      "source": [
        "#Load a DataFrame of train.csv from pikl for better performance on import \n",
        "%%time\n",
        "with open( train_pkl_path, 'rb') as f:\n",
        "  df = pickle.load(f)\n",
        "\n",
        "\n"
      ],
      "execution_count": 3,
      "outputs": [
        {
          "output_type": "stream",
          "text": [
            "CPU times: user 5.64 s, sys: 13.8 s, total: 19.4 s\n",
            "Wall time: 1min 1s\n"
          ],
          "name": "stdout"
        }
      ]
    },
    {
      "cell_type": "code",
      "metadata": {
        "colab": {
          "base_uri": "https://localhost:8080/",
          "height": 425
        },
        "id": "1VU3pqWF36k1",
        "outputId": "85816b66-1931-4c52-b70a-caee99ceeb07"
      },
      "source": [
        "# Alternatively, make DataFrame from CSV\n",
        "%%time\n",
        "df = pd.read_csv(train_csv_path, index_col='row_id')\n"
      ],
      "execution_count": 3,
      "outputs": [
        {
          "output_type": "stream",
          "text": [
            "/usr/local/lib/python3.6/dist-packages/numpy/lib/arraysetops.py:569: FutureWarning: elementwise comparison failed; returning scalar instead, but in the future will perform elementwise comparison\n",
            "  mask |= (ar1 == a)\n"
          ],
          "name": "stderr"
        },
        {
          "output_type": "error",
          "ename": "TypeError",
          "evalue": "ignored",
          "traceback": [
            "\u001b[0;31m---------------------------------------------------------------------------\u001b[0m",
            "\u001b[0;31mTypeError\u001b[0m                                 Traceback (most recent call last)",
            "\u001b[0;32m<ipython-input-3-6ad56080b40c>\u001b[0m in \u001b[0;36m<module>\u001b[0;34m()\u001b[0m\n\u001b[0;32m----> 1\u001b[0;31m \u001b[0mget_ipython\u001b[0m\u001b[0;34m(\u001b[0m\u001b[0;34m)\u001b[0m\u001b[0;34m.\u001b[0m\u001b[0mrun_cell_magic\u001b[0m\u001b[0;34m(\u001b[0m\u001b[0;34m'time'\u001b[0m\u001b[0;34m,\u001b[0m \u001b[0;34m''\u001b[0m\u001b[0;34m,\u001b[0m \u001b[0;34m\"df = pd.read_csv(train_csv_path, index_col='row_id')\\n\\n#After importing as a dataframe, save the dataframe as a binary file, in case the notebook instance crashes, so that we can quickly reload the dataframe and resume.\\npickle.dump(df, train_pkl_path)\"\u001b[0m\u001b[0;34m)\u001b[0m\u001b[0;34m\u001b[0m\u001b[0;34m\u001b[0m\u001b[0m\n\u001b[0m",
            "\u001b[0;32m/usr/local/lib/python3.6/dist-packages/IPython/core/interactiveshell.py\u001b[0m in \u001b[0;36mrun_cell_magic\u001b[0;34m(self, magic_name, line, cell)\u001b[0m\n\u001b[1;32m   2115\u001b[0m             \u001b[0mmagic_arg_s\u001b[0m \u001b[0;34m=\u001b[0m \u001b[0mself\u001b[0m\u001b[0;34m.\u001b[0m\u001b[0mvar_expand\u001b[0m\u001b[0;34m(\u001b[0m\u001b[0mline\u001b[0m\u001b[0;34m,\u001b[0m \u001b[0mstack_depth\u001b[0m\u001b[0;34m)\u001b[0m\u001b[0;34m\u001b[0m\u001b[0;34m\u001b[0m\u001b[0m\n\u001b[1;32m   2116\u001b[0m             \u001b[0;32mwith\u001b[0m \u001b[0mself\u001b[0m\u001b[0;34m.\u001b[0m\u001b[0mbuiltin_trap\u001b[0m\u001b[0;34m:\u001b[0m\u001b[0;34m\u001b[0m\u001b[0;34m\u001b[0m\u001b[0m\n\u001b[0;32m-> 2117\u001b[0;31m                 \u001b[0mresult\u001b[0m \u001b[0;34m=\u001b[0m \u001b[0mfn\u001b[0m\u001b[0;34m(\u001b[0m\u001b[0mmagic_arg_s\u001b[0m\u001b[0;34m,\u001b[0m \u001b[0mcell\u001b[0m\u001b[0;34m)\u001b[0m\u001b[0;34m\u001b[0m\u001b[0;34m\u001b[0m\u001b[0m\n\u001b[0m\u001b[1;32m   2118\u001b[0m             \u001b[0;32mreturn\u001b[0m \u001b[0mresult\u001b[0m\u001b[0;34m\u001b[0m\u001b[0;34m\u001b[0m\u001b[0m\n\u001b[1;32m   2119\u001b[0m \u001b[0;34m\u001b[0m\u001b[0m\n",
            "\u001b[0;32m<decorator-gen-60>\u001b[0m in \u001b[0;36mtime\u001b[0;34m(self, line, cell, local_ns)\u001b[0m\n",
            "\u001b[0;32m/usr/local/lib/python3.6/dist-packages/IPython/core/magic.py\u001b[0m in \u001b[0;36m<lambda>\u001b[0;34m(f, *a, **k)\u001b[0m\n\u001b[1;32m    186\u001b[0m     \u001b[0;31m# but it's overkill for just that one bit of state.\u001b[0m\u001b[0;34m\u001b[0m\u001b[0;34m\u001b[0m\u001b[0;34m\u001b[0m\u001b[0m\n\u001b[1;32m    187\u001b[0m     \u001b[0;32mdef\u001b[0m \u001b[0mmagic_deco\u001b[0m\u001b[0;34m(\u001b[0m\u001b[0marg\u001b[0m\u001b[0;34m)\u001b[0m\u001b[0;34m:\u001b[0m\u001b[0;34m\u001b[0m\u001b[0;34m\u001b[0m\u001b[0m\n\u001b[0;32m--> 188\u001b[0;31m         \u001b[0mcall\u001b[0m \u001b[0;34m=\u001b[0m \u001b[0;32mlambda\u001b[0m \u001b[0mf\u001b[0m\u001b[0;34m,\u001b[0m \u001b[0;34m*\u001b[0m\u001b[0ma\u001b[0m\u001b[0;34m,\u001b[0m \u001b[0;34m**\u001b[0m\u001b[0mk\u001b[0m\u001b[0;34m:\u001b[0m \u001b[0mf\u001b[0m\u001b[0;34m(\u001b[0m\u001b[0;34m*\u001b[0m\u001b[0ma\u001b[0m\u001b[0;34m,\u001b[0m \u001b[0;34m**\u001b[0m\u001b[0mk\u001b[0m\u001b[0;34m)\u001b[0m\u001b[0;34m\u001b[0m\u001b[0;34m\u001b[0m\u001b[0m\n\u001b[0m\u001b[1;32m    189\u001b[0m \u001b[0;34m\u001b[0m\u001b[0m\n\u001b[1;32m    190\u001b[0m         \u001b[0;32mif\u001b[0m \u001b[0mcallable\u001b[0m\u001b[0;34m(\u001b[0m\u001b[0marg\u001b[0m\u001b[0;34m)\u001b[0m\u001b[0;34m:\u001b[0m\u001b[0;34m\u001b[0m\u001b[0;34m\u001b[0m\u001b[0m\n",
            "\u001b[0;32m/usr/local/lib/python3.6/dist-packages/IPython/core/magics/execution.py\u001b[0m in \u001b[0;36mtime\u001b[0;34m(self, line, cell, local_ns)\u001b[0m\n\u001b[1;32m   1191\u001b[0m         \u001b[0;32melse\u001b[0m\u001b[0;34m:\u001b[0m\u001b[0;34m\u001b[0m\u001b[0;34m\u001b[0m\u001b[0m\n\u001b[1;32m   1192\u001b[0m             \u001b[0mst\u001b[0m \u001b[0;34m=\u001b[0m \u001b[0mclock2\u001b[0m\u001b[0;34m(\u001b[0m\u001b[0;34m)\u001b[0m\u001b[0;34m\u001b[0m\u001b[0;34m\u001b[0m\u001b[0m\n\u001b[0;32m-> 1193\u001b[0;31m             \u001b[0mexec\u001b[0m\u001b[0;34m(\u001b[0m\u001b[0mcode\u001b[0m\u001b[0;34m,\u001b[0m \u001b[0mglob\u001b[0m\u001b[0;34m,\u001b[0m \u001b[0mlocal_ns\u001b[0m\u001b[0;34m)\u001b[0m\u001b[0;34m\u001b[0m\u001b[0;34m\u001b[0m\u001b[0m\n\u001b[0m\u001b[1;32m   1194\u001b[0m             \u001b[0mend\u001b[0m \u001b[0;34m=\u001b[0m \u001b[0mclock2\u001b[0m\u001b[0;34m(\u001b[0m\u001b[0;34m)\u001b[0m\u001b[0;34m\u001b[0m\u001b[0;34m\u001b[0m\u001b[0m\n\u001b[1;32m   1195\u001b[0m             \u001b[0mout\u001b[0m \u001b[0;34m=\u001b[0m \u001b[0;32mNone\u001b[0m\u001b[0;34m\u001b[0m\u001b[0;34m\u001b[0m\u001b[0m\n",
            "\u001b[0;32m<timed exec>\u001b[0m in \u001b[0;36m<module>\u001b[0;34m()\u001b[0m\n",
            "\u001b[0;31mTypeError\u001b[0m: file must have a 'write' attribute"
          ]
        }
      ]
    },
    {
      "cell_type": "code",
      "metadata": {
        "colab": {
          "base_uri": "https://localhost:8080/"
        },
        "id": "WfNYjGww7ODU",
        "outputId": "0f021995-625d-47cf-9d06-82f0d1cb3290"
      },
      "source": [
        "#After importing as a dataframe, save the dataframe as a binary file, in case the notebook instance crashes, so that we can quickly reload the dataframe and resume.\n",
        "%%time\n",
        "df.to_pickle(train_pkl_path)"
      ],
      "execution_count": 5,
      "outputs": [
        {
          "output_type": "stream",
          "text": [
            "CPU times: user 7.74 s, sys: 11.7 s, total: 19.5 s\n",
            "Wall time: 1min 29s\n"
          ],
          "name": "stdout"
        }
      ]
    },
    {
      "cell_type": "code",
      "metadata": {
        "colab": {
          "base_uri": "https://localhost:8080/",
          "height": 390
        },
        "id": "TU-3pNn56NUd",
        "outputId": "91192ed6-9c6d-4f6d-b9b2-340facab95a7"
      },
      "source": [
        "df.head(10)"
      ],
      "execution_count": 4,
      "outputs": [
        {
          "output_type": "execute_result",
          "data": {
            "text/html": [
              "<div>\n",
              "<style scoped>\n",
              "    .dataframe tbody tr th:only-of-type {\n",
              "        vertical-align: middle;\n",
              "    }\n",
              "\n",
              "    .dataframe tbody tr th {\n",
              "        vertical-align: top;\n",
              "    }\n",
              "\n",
              "    .dataframe thead th {\n",
              "        text-align: right;\n",
              "    }\n",
              "</style>\n",
              "<table border=\"1\" class=\"dataframe\">\n",
              "  <thead>\n",
              "    <tr style=\"text-align: right;\">\n",
              "      <th></th>\n",
              "      <th>timestamp</th>\n",
              "      <th>user_id</th>\n",
              "      <th>content_id</th>\n",
              "      <th>content_type_id</th>\n",
              "      <th>task_container_id</th>\n",
              "      <th>user_answer</th>\n",
              "      <th>answered_correctly</th>\n",
              "      <th>prior_question_elapsed_time</th>\n",
              "      <th>prior_question_had_explanation</th>\n",
              "    </tr>\n",
              "    <tr>\n",
              "      <th>row_id</th>\n",
              "      <th></th>\n",
              "      <th></th>\n",
              "      <th></th>\n",
              "      <th></th>\n",
              "      <th></th>\n",
              "      <th></th>\n",
              "      <th></th>\n",
              "      <th></th>\n",
              "      <th></th>\n",
              "    </tr>\n",
              "  </thead>\n",
              "  <tbody>\n",
              "    <tr>\n",
              "      <th>0</th>\n",
              "      <td>0</td>\n",
              "      <td>115</td>\n",
              "      <td>5692</td>\n",
              "      <td>0</td>\n",
              "      <td>1</td>\n",
              "      <td>3</td>\n",
              "      <td>1</td>\n",
              "      <td>NaN</td>\n",
              "      <td>NaN</td>\n",
              "    </tr>\n",
              "    <tr>\n",
              "      <th>1</th>\n",
              "      <td>56943</td>\n",
              "      <td>115</td>\n",
              "      <td>5716</td>\n",
              "      <td>0</td>\n",
              "      <td>2</td>\n",
              "      <td>2</td>\n",
              "      <td>1</td>\n",
              "      <td>37000.0</td>\n",
              "      <td>False</td>\n",
              "    </tr>\n",
              "    <tr>\n",
              "      <th>2</th>\n",
              "      <td>118363</td>\n",
              "      <td>115</td>\n",
              "      <td>128</td>\n",
              "      <td>0</td>\n",
              "      <td>0</td>\n",
              "      <td>0</td>\n",
              "      <td>1</td>\n",
              "      <td>55000.0</td>\n",
              "      <td>False</td>\n",
              "    </tr>\n",
              "    <tr>\n",
              "      <th>3</th>\n",
              "      <td>131167</td>\n",
              "      <td>115</td>\n",
              "      <td>7860</td>\n",
              "      <td>0</td>\n",
              "      <td>3</td>\n",
              "      <td>0</td>\n",
              "      <td>1</td>\n",
              "      <td>19000.0</td>\n",
              "      <td>False</td>\n",
              "    </tr>\n",
              "    <tr>\n",
              "      <th>4</th>\n",
              "      <td>137965</td>\n",
              "      <td>115</td>\n",
              "      <td>7922</td>\n",
              "      <td>0</td>\n",
              "      <td>4</td>\n",
              "      <td>1</td>\n",
              "      <td>1</td>\n",
              "      <td>11000.0</td>\n",
              "      <td>False</td>\n",
              "    </tr>\n",
              "    <tr>\n",
              "      <th>5</th>\n",
              "      <td>157063</td>\n",
              "      <td>115</td>\n",
              "      <td>156</td>\n",
              "      <td>0</td>\n",
              "      <td>5</td>\n",
              "      <td>2</td>\n",
              "      <td>1</td>\n",
              "      <td>5000.0</td>\n",
              "      <td>False</td>\n",
              "    </tr>\n",
              "    <tr>\n",
              "      <th>6</th>\n",
              "      <td>176092</td>\n",
              "      <td>115</td>\n",
              "      <td>51</td>\n",
              "      <td>0</td>\n",
              "      <td>6</td>\n",
              "      <td>0</td>\n",
              "      <td>1</td>\n",
              "      <td>17000.0</td>\n",
              "      <td>False</td>\n",
              "    </tr>\n",
              "    <tr>\n",
              "      <th>7</th>\n",
              "      <td>194190</td>\n",
              "      <td>115</td>\n",
              "      <td>50</td>\n",
              "      <td>0</td>\n",
              "      <td>7</td>\n",
              "      <td>3</td>\n",
              "      <td>1</td>\n",
              "      <td>17000.0</td>\n",
              "      <td>False</td>\n",
              "    </tr>\n",
              "    <tr>\n",
              "      <th>8</th>\n",
              "      <td>212463</td>\n",
              "      <td>115</td>\n",
              "      <td>7896</td>\n",
              "      <td>0</td>\n",
              "      <td>8</td>\n",
              "      <td>2</td>\n",
              "      <td>1</td>\n",
              "      <td>16000.0</td>\n",
              "      <td>False</td>\n",
              "    </tr>\n",
              "    <tr>\n",
              "      <th>9</th>\n",
              "      <td>230983</td>\n",
              "      <td>115</td>\n",
              "      <td>7863</td>\n",
              "      <td>0</td>\n",
              "      <td>9</td>\n",
              "      <td>0</td>\n",
              "      <td>1</td>\n",
              "      <td>16000.0</td>\n",
              "      <td>False</td>\n",
              "    </tr>\n",
              "  </tbody>\n",
              "</table>\n",
              "</div>"
            ],
            "text/plain": [
              "        timestamp  ...  prior_question_had_explanation\n",
              "row_id             ...                                \n",
              "0               0  ...                             NaN\n",
              "1           56943  ...                           False\n",
              "2          118363  ...                           False\n",
              "3          131167  ...                           False\n",
              "4          137965  ...                           False\n",
              "5          157063  ...                           False\n",
              "6          176092  ...                           False\n",
              "7          194190  ...                           False\n",
              "8          212463  ...                           False\n",
              "9          230983  ...                           False\n",
              "\n",
              "[10 rows x 9 columns]"
            ]
          },
          "metadata": {
            "tags": []
          },
          "execution_count": 4
        }
      ]
    },
    {
      "cell_type": "markdown",
      "metadata": {
        "id": "3cNCGAhy-4s7"
      },
      "source": [
        "#Examine the shape of the dataframe, summary statistics, and missing values"
      ]
    },
    {
      "cell_type": "code",
      "metadata": {
        "id": "0oI1lqo4cwnv",
        "colab": {
          "base_uri": "https://localhost:8080/"
        },
        "outputId": "4eaa5cf1-bafc-4c09-8ba7-b43844f117cb"
      },
      "source": [
        "df.info()"
      ],
      "execution_count": 16,
      "outputs": [
        {
          "output_type": "stream",
          "text": [
            "<class 'pandas.core.frame.DataFrame'>\n",
            "Int64Index: 101230332 entries, 0 to 101230331\n",
            "Data columns (total 9 columns):\n",
            " #   Column                          Dtype  \n",
            "---  ------                          -----  \n",
            " 0   timestamp                       int64  \n",
            " 1   user_id                         int64  \n",
            " 2   content_id                      int64  \n",
            " 3   content_type_id                 int64  \n",
            " 4   task_container_id               int64  \n",
            " 5   user_answer                     int64  \n",
            " 6   answered_correctly              int64  \n",
            " 7   prior_question_elapsed_time     float64\n",
            " 8   prior_question_had_explanation  object \n",
            "dtypes: float64(1), int64(7), object(1)\n",
            "memory usage: 7.5+ GB\n"
          ],
          "name": "stdout"
        }
      ]
    },
    {
      "cell_type": "code",
      "metadata": {
        "id": "6gfvdrScgnIa",
        "colab": {
          "base_uri": "https://localhost:8080/"
        },
        "outputId": "479cb040-5e4f-46ee-cd2d-7cb45d6b9d21"
      },
      "source": [
        "print(f\"The shape of this dataframe is {df.shape}.\")"
      ],
      "execution_count": 17,
      "outputs": [
        {
          "output_type": "stream",
          "text": [
            "The shape of this dataframe is (101230332, 9).\n"
          ],
          "name": "stdout"
        }
      ]
    },
    {
      "cell_type": "markdown",
      "metadata": {
        "id": "-wArjzIWLTK8"
      },
      "source": [
        "##Check for missing data"
      ]
    },
    {
      "cell_type": "code",
      "metadata": {
        "id": "Ff5-x4WeBMGl",
        "colab": {
          "base_uri": "https://localhost:8080/"
        },
        "outputId": "a6f6a904-939c-4370-8363-0dc18ce75525"
      },
      "source": [
        "# Count missing values\n",
        "df.isna().sum()"
      ],
      "execution_count": 5,
      "outputs": [
        {
          "output_type": "execute_result",
          "data": {
            "text/plain": [
              "timestamp                               0\n",
              "user_id                                 0\n",
              "content_id                              0\n",
              "content_type_id                         0\n",
              "task_container_id                       0\n",
              "user_answer                             0\n",
              "answered_correctly                      0\n",
              "prior_question_elapsed_time       2351538\n",
              "prior_question_had_explanation     392506\n",
              "dtype: int64"
            ]
          },
          "metadata": {
            "tags": []
          },
          "execution_count": 5
        }
      ]
    },
    {
      "cell_type": "markdown",
      "metadata": {
        "id": "ID-gOHHEBcw1"
      },
      "source": [
        "The data is mostly clean, and only two columns have missing data. Based on the discriptions of the data, these columns missing data is intentional.\n"
      ]
    },
    {
      "cell_type": "markdown",
      "metadata": {
        "id": "dO5n0tNULh10"
      },
      "source": [
        "##Check unique entries and dtypes"
      ]
    },
    {
      "cell_type": "code",
      "metadata": {
        "id": "vHRVCwhNF29t",
        "colab": {
          "base_uri": "https://localhost:8080/"
        },
        "outputId": "df1df1de-6d9f-4ec8-a037-81021d9e31a4"
      },
      "source": [
        "#Check the relative frequency of unique values in each column\n",
        "# Save the values here, to avoid re-computation later\n",
        "%time\n",
        "df_nunique = df.nunique()\n",
        "df_nunique"
      ],
      "execution_count": 8,
      "outputs": [
        {
          "output_type": "stream",
          "text": [
            "CPU times: user 3 µs, sys: 0 ns, total: 3 µs\n",
            "Wall time: 7.15 µs\n"
          ],
          "name": "stdout"
        },
        {
          "output_type": "execute_result",
          "data": {
            "text/plain": [
              "timestamp                         72821015\n",
              "user_id                             393656\n",
              "content_id                           13782\n",
              "content_type_id                          2\n",
              "task_container_id                    10000\n",
              "user_answer                              5\n",
              "answered_correctly                       3\n",
              "prior_question_elapsed_time           3258\n",
              "prior_question_had_explanation           2\n",
              "dtype: int64"
            ]
          },
          "metadata": {
            "tags": []
          },
          "execution_count": 8
        }
      ]
    },
    {
      "cell_type": "code",
      "metadata": {
        "colab": {
          "base_uri": "https://localhost:8080/"
        },
        "id": "mm__ynb_1stv",
        "outputId": "0ed1d4b3-d418-4077-f07b-c9c1cd7cf411"
      },
      "source": [
        "nunique_answered_correctly = df_nunique['answered_correctly']\n",
        "nunique_prior_question_had_explanation = df_nunique['prior_question_had_explanation']\n",
        "\n",
        "nunique_answered_correctly, nunique_prior_question_had_explanation"
      ],
      "execution_count": 9,
      "outputs": [
        {
          "output_type": "execute_result",
          "data": {
            "text/plain": [
              "(3, 2)"
            ]
          },
          "metadata": {
            "tags": []
          },
          "execution_count": 9
        }
      ]
    },
    {
      "cell_type": "markdown",
      "metadata": {
        "id": "kei46fW0z4uA"
      },
      "source": [
        "Noteably, the number of unique task_container_id is exactly 10000. \n",
        "\n",
        "'answered_correctly' is a boolean except for the NaN entries.\n",
        "\n"
      ]
    },
    {
      "cell_type": "markdown",
      "metadata": {
        "id": "h7DpRaOktr6z"
      },
      "source": [
        "##Set the index"
      ]
    },
    {
      "cell_type": "code",
      "metadata": {
        "colab": {
          "base_uri": "https://localhost:8080/",
          "height": 235
        },
        "id": "AH1NnXR9tfhz",
        "outputId": "4a1ed282-6532-4343-85d7-80cce55db571"
      },
      "source": [
        "if 'row_id' in df.columns:\n",
        "  df.set_index('row_id', inplace=True)\n",
        "df.head()"
      ],
      "execution_count": 10,
      "outputs": [
        {
          "output_type": "execute_result",
          "data": {
            "text/html": [
              "<div>\n",
              "<style scoped>\n",
              "    .dataframe tbody tr th:only-of-type {\n",
              "        vertical-align: middle;\n",
              "    }\n",
              "\n",
              "    .dataframe tbody tr th {\n",
              "        vertical-align: top;\n",
              "    }\n",
              "\n",
              "    .dataframe thead th {\n",
              "        text-align: right;\n",
              "    }\n",
              "</style>\n",
              "<table border=\"1\" class=\"dataframe\">\n",
              "  <thead>\n",
              "    <tr style=\"text-align: right;\">\n",
              "      <th></th>\n",
              "      <th>timestamp</th>\n",
              "      <th>user_id</th>\n",
              "      <th>content_id</th>\n",
              "      <th>content_type_id</th>\n",
              "      <th>task_container_id</th>\n",
              "      <th>user_answer</th>\n",
              "      <th>answered_correctly</th>\n",
              "      <th>prior_question_elapsed_time</th>\n",
              "      <th>prior_question_had_explanation</th>\n",
              "    </tr>\n",
              "    <tr>\n",
              "      <th>row_id</th>\n",
              "      <th></th>\n",
              "      <th></th>\n",
              "      <th></th>\n",
              "      <th></th>\n",
              "      <th></th>\n",
              "      <th></th>\n",
              "      <th></th>\n",
              "      <th></th>\n",
              "      <th></th>\n",
              "    </tr>\n",
              "  </thead>\n",
              "  <tbody>\n",
              "    <tr>\n",
              "      <th>0</th>\n",
              "      <td>0</td>\n",
              "      <td>115</td>\n",
              "      <td>5692</td>\n",
              "      <td>0</td>\n",
              "      <td>1</td>\n",
              "      <td>3</td>\n",
              "      <td>1</td>\n",
              "      <td>NaN</td>\n",
              "      <td>True</td>\n",
              "    </tr>\n",
              "    <tr>\n",
              "      <th>1</th>\n",
              "      <td>56943</td>\n",
              "      <td>115</td>\n",
              "      <td>5716</td>\n",
              "      <td>0</td>\n",
              "      <td>2</td>\n",
              "      <td>2</td>\n",
              "      <td>1</td>\n",
              "      <td>37000.0</td>\n",
              "      <td>False</td>\n",
              "    </tr>\n",
              "    <tr>\n",
              "      <th>2</th>\n",
              "      <td>118363</td>\n",
              "      <td>115</td>\n",
              "      <td>128</td>\n",
              "      <td>0</td>\n",
              "      <td>0</td>\n",
              "      <td>0</td>\n",
              "      <td>1</td>\n",
              "      <td>55000.0</td>\n",
              "      <td>False</td>\n",
              "    </tr>\n",
              "    <tr>\n",
              "      <th>3</th>\n",
              "      <td>131167</td>\n",
              "      <td>115</td>\n",
              "      <td>7860</td>\n",
              "      <td>0</td>\n",
              "      <td>3</td>\n",
              "      <td>0</td>\n",
              "      <td>1</td>\n",
              "      <td>19000.0</td>\n",
              "      <td>False</td>\n",
              "    </tr>\n",
              "    <tr>\n",
              "      <th>4</th>\n",
              "      <td>137965</td>\n",
              "      <td>115</td>\n",
              "      <td>7922</td>\n",
              "      <td>0</td>\n",
              "      <td>4</td>\n",
              "      <td>1</td>\n",
              "      <td>1</td>\n",
              "      <td>11000.0</td>\n",
              "      <td>False</td>\n",
              "    </tr>\n",
              "  </tbody>\n",
              "</table>\n",
              "</div>"
            ],
            "text/plain": [
              "        timestamp  ... prior_question_had_explanation\n",
              "row_id             ...                               \n",
              "0               0  ...                           True\n",
              "1           56943  ...                          False\n",
              "2          118363  ...                          False\n",
              "3          131167  ...                          False\n",
              "4          137965  ...                          False\n",
              "\n",
              "[5 rows x 9 columns]"
            ]
          },
          "metadata": {
            "tags": []
          },
          "execution_count": 10
        }
      ]
    },
    {
      "cell_type": "markdown",
      "metadata": {
        "id": "0aewSose_E3t"
      },
      "source": [
        "## Changing dtypes\n",
        "As the number of unique entries in each column is comparatively low, relative to the size of the data set, there will be perfomance gains by recaasting most of these colums as categorical variables.\n",
        "\n",
        "timestamp and prior_question_elapsed_time            is an exception and should be treated differently.\n",
        "\n",
        "prior_question_elapsed_time is a float and probably should not be categorical.\n",
        "\n",
        "prior_question_had_explanation should be change to dtype:bool\n"
      ]
    },
    {
      "cell_type": "code",
      "metadata": {
        "colab": {
          "base_uri": "https://localhost:8080/"
        },
        "id": "XSzcUkFW3gbf",
        "outputId": "a613b970-2495-4e6a-88ef-05b51ca05508"
      },
      "source": [
        "#Check dtypes before\n",
        "df.dtypes"
      ],
      "execution_count": 11,
      "outputs": [
        {
          "output_type": "execute_result",
          "data": {
            "text/plain": [
              "timestamp                            int64\n",
              "user_id                           category\n",
              "content_id                        category\n",
              "content_type_id                   category\n",
              "task_container_id                 category\n",
              "user_answer                       category\n",
              "answered_correctly                category\n",
              "prior_question_elapsed_time        float64\n",
              "prior_question_had_explanation        bool\n",
              "dtype: object"
            ]
          },
          "metadata": {
            "tags": []
          },
          "execution_count": 11
        }
      ]
    },
    {
      "cell_type": "code",
      "metadata": {
        "id": "Pohep2jRGMfI",
        "colab": {
          "base_uri": "https://localhost:8080/"
        },
        "outputId": "281e6af0-62e6-44f6-b409-3742e518a7ea"
      },
      "source": [
        "categorical_columns = ['user_id', 'content_id', 'content_type_id', 'task_container_id', 'user_answer', 'answered_correctly']\n",
        "for column_id in categorical_columns:\n",
        "  df[column_id] = pd.Categorical(df[column_id])\n",
        "\n",
        "boolean_columns = ['prior_question_had_explanation']\n",
        "for column_id in boolean_columns:\n",
        "  df[column_id] = df[column_id].astype(bool)\n",
        "\n",
        "df.dtypes"
      ],
      "execution_count": 12,
      "outputs": [
        {
          "output_type": "execute_result",
          "data": {
            "text/plain": [
              "timestamp                            int64\n",
              "user_id                           category\n",
              "content_id                        category\n",
              "content_type_id                   category\n",
              "task_container_id                 category\n",
              "user_answer                       category\n",
              "answered_correctly                category\n",
              "prior_question_elapsed_time        float64\n",
              "prior_question_had_explanation        bool\n",
              "dtype: object"
            ]
          },
          "metadata": {
            "tags": []
          },
          "execution_count": 12
        }
      ]
    },
    {
      "cell_type": "markdown",
      "metadata": {
        "id": "nUGrmZGF0Xgp"
      },
      "source": [
        "Check to make sure the missing data is retained."
      ]
    },
    {
      "cell_type": "markdown",
      "metadata": {
        "id": "lixiTgG23yLy"
      },
      "source": [
        "#EDA using a subsample\n",
        "As the Google Colab runtime keeps crashing due to lack of memory (even with Colab Pro), we will switch to importing only about 1% or 10% of the data for this EDA. IF we see that this subset differs signifcant;y fullset's summary statistics, we can contiue to attempt using the full set."
      ]
    },
    {
      "cell_type": "code",
      "metadata": {
        "id": "WkbbtuYnAjG1"
      },
      "source": [
        "#Define the skip logic\n",
        "\n",
        "#Skip rows from based on condition like skip every 10th line\n",
        "def skip_all_but_nth_rows(n, idx):\n",
        "  return (idx % n != 0)\n",
        "  \n",
        "#Skip random lines  \n",
        "import random\n",
        "def rand_1_in_n(n, idx):\n",
        "  return True if random.randrange(1,n)==1 else False\n"
      ],
      "execution_count": 13,
      "outputs": []
    },
    {
      "cell_type": "markdown",
      "metadata": {
        "id": "qY7rTLm0_dNI"
      },
      "source": [
        "###If subsetting from existing dataframe with all data"
      ]
    },
    {
      "cell_type": "code",
      "metadata": {
        "id": "tydO1OdEAdZS"
      },
      "source": [
        "#Define a Dataframe with 1/10 of the data\n",
        "df_1_10 = df[df.index % 10 == 0]\n",
        "\n",
        "#Define a DataFrame with 1/100 of the data\n",
        "df_1_100 = df[df.index % 100 == 0]"
      ],
      "execution_count": 14,
      "outputs": []
    },
    {
      "cell_type": "code",
      "metadata": {
        "colab": {
          "base_uri": "https://localhost:8080/",
          "height": 235
        },
        "id": "8DKdIDBaBOHO",
        "outputId": "b3254909-c8af-4541-f6a6-74b157491c00"
      },
      "source": [
        "df_1_10.head()"
      ],
      "execution_count": 15,
      "outputs": [
        {
          "output_type": "execute_result",
          "data": {
            "text/html": [
              "<div>\n",
              "<style scoped>\n",
              "    .dataframe tbody tr th:only-of-type {\n",
              "        vertical-align: middle;\n",
              "    }\n",
              "\n",
              "    .dataframe tbody tr th {\n",
              "        vertical-align: top;\n",
              "    }\n",
              "\n",
              "    .dataframe thead th {\n",
              "        text-align: right;\n",
              "    }\n",
              "</style>\n",
              "<table border=\"1\" class=\"dataframe\">\n",
              "  <thead>\n",
              "    <tr style=\"text-align: right;\">\n",
              "      <th></th>\n",
              "      <th>timestamp</th>\n",
              "      <th>user_id</th>\n",
              "      <th>content_id</th>\n",
              "      <th>content_type_id</th>\n",
              "      <th>task_container_id</th>\n",
              "      <th>user_answer</th>\n",
              "      <th>answered_correctly</th>\n",
              "      <th>prior_question_elapsed_time</th>\n",
              "      <th>prior_question_had_explanation</th>\n",
              "    </tr>\n",
              "    <tr>\n",
              "      <th>row_id</th>\n",
              "      <th></th>\n",
              "      <th></th>\n",
              "      <th></th>\n",
              "      <th></th>\n",
              "      <th></th>\n",
              "      <th></th>\n",
              "      <th></th>\n",
              "      <th></th>\n",
              "      <th></th>\n",
              "    </tr>\n",
              "  </thead>\n",
              "  <tbody>\n",
              "    <tr>\n",
              "      <th>0</th>\n",
              "      <td>0</td>\n",
              "      <td>115</td>\n",
              "      <td>5692</td>\n",
              "      <td>0</td>\n",
              "      <td>1</td>\n",
              "      <td>3</td>\n",
              "      <td>1</td>\n",
              "      <td>NaN</td>\n",
              "      <td>True</td>\n",
              "    </tr>\n",
              "    <tr>\n",
              "      <th>10</th>\n",
              "      <td>255381</td>\n",
              "      <td>115</td>\n",
              "      <td>152</td>\n",
              "      <td>0</td>\n",
              "      <td>10</td>\n",
              "      <td>2</td>\n",
              "      <td>0</td>\n",
              "      <td>17000.0</td>\n",
              "      <td>False</td>\n",
              "    </tr>\n",
              "    <tr>\n",
              "      <th>20</th>\n",
              "      <td>490100</td>\n",
              "      <td>115</td>\n",
              "      <td>4</td>\n",
              "      <td>0</td>\n",
              "      <td>20</td>\n",
              "      <td>1</td>\n",
              "      <td>0</td>\n",
              "      <td>29000.0</td>\n",
              "      <td>False</td>\n",
              "    </tr>\n",
              "    <tr>\n",
              "      <th>30</th>\n",
              "      <td>710402</td>\n",
              "      <td>115</td>\n",
              "      <td>100</td>\n",
              "      <td>0</td>\n",
              "      <td>30</td>\n",
              "      <td>0</td>\n",
              "      <td>1</td>\n",
              "      <td>20000.0</td>\n",
              "      <td>False</td>\n",
              "    </tr>\n",
              "    <tr>\n",
              "      <th>40</th>\n",
              "      <td>667971812</td>\n",
              "      <td>115</td>\n",
              "      <td>2065</td>\n",
              "      <td>0</td>\n",
              "      <td>40</td>\n",
              "      <td>2</td>\n",
              "      <td>1</td>\n",
              "      <td>17000.0</td>\n",
              "      <td>False</td>\n",
              "    </tr>\n",
              "  </tbody>\n",
              "</table>\n",
              "</div>"
            ],
            "text/plain": [
              "        timestamp  ... prior_question_had_explanation\n",
              "row_id             ...                               \n",
              "0               0  ...                           True\n",
              "10         255381  ...                          False\n",
              "20         490100  ...                          False\n",
              "30         710402  ...                          False\n",
              "40      667971812  ...                          False\n",
              "\n",
              "[5 rows x 9 columns]"
            ]
          },
          "metadata": {
            "tags": []
          },
          "execution_count": 15
        }
      ]
    },
    {
      "cell_type": "code",
      "metadata": {
        "colab": {
          "base_uri": "https://localhost:8080/",
          "height": 235
        },
        "id": "gGvL9QxOBQwN",
        "outputId": "97002d8b-d032-4ce3-fa5c-922ee943604e"
      },
      "source": [
        "df_1_100.head()"
      ],
      "execution_count": 16,
      "outputs": [
        {
          "output_type": "execute_result",
          "data": {
            "text/html": [
              "<div>\n",
              "<style scoped>\n",
              "    .dataframe tbody tr th:only-of-type {\n",
              "        vertical-align: middle;\n",
              "    }\n",
              "\n",
              "    .dataframe tbody tr th {\n",
              "        vertical-align: top;\n",
              "    }\n",
              "\n",
              "    .dataframe thead th {\n",
              "        text-align: right;\n",
              "    }\n",
              "</style>\n",
              "<table border=\"1\" class=\"dataframe\">\n",
              "  <thead>\n",
              "    <tr style=\"text-align: right;\">\n",
              "      <th></th>\n",
              "      <th>timestamp</th>\n",
              "      <th>user_id</th>\n",
              "      <th>content_id</th>\n",
              "      <th>content_type_id</th>\n",
              "      <th>task_container_id</th>\n",
              "      <th>user_answer</th>\n",
              "      <th>answered_correctly</th>\n",
              "      <th>prior_question_elapsed_time</th>\n",
              "      <th>prior_question_had_explanation</th>\n",
              "    </tr>\n",
              "    <tr>\n",
              "      <th>row_id</th>\n",
              "      <th></th>\n",
              "      <th></th>\n",
              "      <th></th>\n",
              "      <th></th>\n",
              "      <th></th>\n",
              "      <th></th>\n",
              "      <th></th>\n",
              "      <th></th>\n",
              "      <th></th>\n",
              "    </tr>\n",
              "  </thead>\n",
              "  <tbody>\n",
              "    <tr>\n",
              "      <th>0</th>\n",
              "      <td>0</td>\n",
              "      <td>115</td>\n",
              "      <td>5692</td>\n",
              "      <td>0</td>\n",
              "      <td>1</td>\n",
              "      <td>3</td>\n",
              "      <td>1</td>\n",
              "      <td>NaN</td>\n",
              "      <td>True</td>\n",
              "    </tr>\n",
              "    <tr>\n",
              "      <th>100</th>\n",
              "      <td>169080</td>\n",
              "      <td>5382</td>\n",
              "      <td>5965</td>\n",
              "      <td>0</td>\n",
              "      <td>4</td>\n",
              "      <td>2</td>\n",
              "      <td>1</td>\n",
              "      <td>18000.0</td>\n",
              "      <td>False</td>\n",
              "    </tr>\n",
              "    <tr>\n",
              "      <th>200</th>\n",
              "      <td>553597450</td>\n",
              "      <td>5382</td>\n",
              "      <td>6078</td>\n",
              "      <td>0</td>\n",
              "      <td>105</td>\n",
              "      <td>0</td>\n",
              "      <td>1</td>\n",
              "      <td>22000.0</td>\n",
              "      <td>True</td>\n",
              "    </tr>\n",
              "    <tr>\n",
              "      <th>300</th>\n",
              "      <td>406185018</td>\n",
              "      <td>8623</td>\n",
              "      <td>7934</td>\n",
              "      <td>0</td>\n",
              "      <td>64</td>\n",
              "      <td>3</td>\n",
              "      <td>1</td>\n",
              "      <td>13000.0</td>\n",
              "      <td>True</td>\n",
              "    </tr>\n",
              "    <tr>\n",
              "      <th>400</th>\n",
              "      <td>3082978171</td>\n",
              "      <td>12741</td>\n",
              "      <td>4853</td>\n",
              "      <td>0</td>\n",
              "      <td>24</td>\n",
              "      <td>3</td>\n",
              "      <td>1</td>\n",
              "      <td>36000.0</td>\n",
              "      <td>True</td>\n",
              "    </tr>\n",
              "  </tbody>\n",
              "</table>\n",
              "</div>"
            ],
            "text/plain": [
              "         timestamp  ... prior_question_had_explanation\n",
              "row_id              ...                               \n",
              "0                0  ...                           True\n",
              "100         169080  ...                          False\n",
              "200      553597450  ...                           True\n",
              "300      406185018  ...                           True\n",
              "400     3082978171  ...                           True\n",
              "\n",
              "[5 rows x 9 columns]"
            ]
          },
          "metadata": {
            "tags": []
          },
          "execution_count": 16
        }
      ]
    },
    {
      "cell_type": "markdown",
      "metadata": {
        "id": "9DSKcRYNlfsr"
      },
      "source": [
        "# Exploring the data in each column, individually\n",
        "\n",
        "From the Kaggle website:\n",
        "\n",
        "\n",
        "row_id: (int64) ID code for the row.\n",
        "\n",
        "  timestamp: (int64) the time in milliseconds between this user interaction and the first event completion from that user.\n",
        "\n",
        "user_id: (int32) ID code for the user.\n",
        "\n",
        "content_id: (int16) ID code for the user interaction\n",
        "\n",
        "content_type_id: (int8) 0 if the event was a question being posed to the user, 1 if the event was the user watching a lecture.\n",
        "\n",
        "task_container_id: (int16) Id code for the batch of questions or lectures. For example, a user might see three questions in a row before seeing the explanations for any of them. Those three would all share a task_container_id.\n",
        "\n",
        "user_answer: (int8) the user's answer to the question, if any. Read -1 as null, for lectures.\n",
        "\n",
        "answered_correctly: (int8) if the user responded correctly. Read -1 as null, for lectures.\n",
        "\n",
        "prior_question_elapsed_time: (float32) The average time in milliseconds it took a user to answer each question in the previous question bundle, ignoring any lectures in between. Is null for a user's first question bundle or lecture. Note that the time is the average time a user took to solve each question in the previous bundle.\n",
        "\n",
        "prior_question_had_explanation: (bool) Whether or not the user saw an explanation and the correct response(s) after answering the previous question bundle, ignoring any lectures in between. The value is shared across a single question bundle, and is null for a user's first question bundle or lecture. Typically the first several questions a user sees were part of an onboarding diagnostic test where they did not get any feedback.\n",
        "\n",
        "\n",
        "\n"
      ]
    },
    {
      "cell_type": "markdown",
      "metadata": {
        "id": "o0rzOIttlliU"
      },
      "source": [
        "##timestamp\n",
        "\n",
        ">timestamp: (int64) the time in milliseconds between this user interaction and the first event completion from that user."
      ]
    },
    {
      "cell_type": "code",
      "metadata": {
        "id": "Fz9T9eiIhdCs",
        "colab": {
          "base_uri": "https://localhost:8080/"
        },
        "outputId": "1269801d-d1d5-4121-9413-7ffa764ba694"
      },
      "source": [
        "df['timestamp'].describe(include='all')"
      ],
      "execution_count": 34,
      "outputs": [
        {
          "output_type": "execute_result",
          "data": {
            "text/plain": [
              "count    1.012303e+08\n",
              "mean     7.703644e+09\n",
              "std      1.159266e+10\n",
              "min      0.000000e+00\n",
              "25%      5.243436e+08\n",
              "50%      2.674234e+09\n",
              "75%      9.924551e+09\n",
              "max      8.742577e+10\n",
              "Name: timestamp, dtype: float64"
            ]
          },
          "metadata": {
            "tags": []
          },
          "execution_count": 34
        }
      ]
    },
    {
      "cell_type": "markdown",
      "metadata": {
        "id": "VZFxEM_fgljD"
      },
      "source": [
        "Converting this from ms to years may be useful."
      ]
    },
    {
      "cell_type": "code",
      "metadata": {
        "colab": {
          "base_uri": "https://localhost:8080/"
        },
        "id": "hWglj0dVgv7o",
        "outputId": "6f302412-1a1a-4a44-f35d-c2254ee4098f"
      },
      "source": [
        "timestamp_in_days = ms_to_days(df['timestamp'])\n",
        "timestamp_in_days.describe(include='all')"
      ],
      "execution_count": 35,
      "outputs": [
        {
          "output_type": "execute_result",
          "data": {
            "text/plain": [
              "count    1.012303e+08\n",
              "mean     8.916254e+01\n",
              "std      1.341743e+02\n",
              "min      0.000000e+00\n",
              "25%      6.068791e+00\n",
              "50%      3.095178e+01\n",
              "75%      1.148675e+02\n",
              "max      1.011872e+03\n",
              "Name: timestamp, dtype: float64"
            ]
          },
          "metadata": {
            "tags": []
          },
          "execution_count": 35
        }
      ]
    },
    {
      "cell_type": "code",
      "metadata": {
        "colab": {
          "base_uri": "https://localhost:8080/",
          "height": 348
        },
        "id": "ew2EZ-TLhsMU",
        "outputId": "2a6c11df-9bc4-4974-aa93-c954d712ed64"
      },
      "source": [
        "timestamp_in_days.hist(bins=50, figsize=(20, 5))\n",
        "plt.title('')"
      ],
      "execution_count": 38,
      "outputs": [
        {
          "output_type": "execute_result",
          "data": {
            "text/plain": [
              "Text(0.5, 1.0, '')"
            ]
          },
          "metadata": {
            "tags": []
          },
          "execution_count": 38
        },
        {
          "output_type": "display_data",
          "data": {
            "image/png": "[encoded data removed]",
            "text/plain": [
              "<Figure size 1440x360 with 1 Axes>"
            ]
          },
          "metadata": {
            "tags": [],
            "needs_background": "light"
          }
        }
      ]
    },
    {
      "cell_type": "markdown",
      "metadata": {
        "id": "RX-P3g-JnU95"
      },
      "source": [
        "Let plot to see the distribution of the data, along with summary statistics."
      ]
    },
    {
      "cell_type": "code",
      "metadata": {
        "colab": {
          "base_uri": "https://localhost:8080/",
          "height": 265
        },
        "id": "RQ8eQm3ndKk0",
        "outputId": "50949e1e-9500-40f9-a476-0e88697bcdd5"
      },
      "source": [
        "timestamp_in_days.plot(kind='box')\n",
        "plt.ylabel('timestamp_in_days')\n",
        "plt.show()"
      ],
      "execution_count": 39,
      "outputs": [
        {
          "output_type": "display_data",
          "data": {
            "image/png": "[encoded data removed]",
            "text/plain": [
              "<Figure size 432x288 with 1 Axes>"
            ]
          },
          "metadata": {
            "tags": [],
            "needs_background": "light"
          }
        }
      ]
    },
    {
      "cell_type": "markdown",
      "metadata": {
        "id": "f4E1fPS7dU2R"
      },
      "source": [
        "A boxplot would be more informative with a log y-scale"
      ]
    },
    {
      "cell_type": "code",
      "metadata": {
        "id": "1XIlEs9WheWY",
        "colab": {
          "base_uri": "https://localhost:8080/",
          "height": 265
        },
        "outputId": "4c13641b-d566-4d6b-93b2-5e90ec417ded"
      },
      "source": [
        "timestamp_in_days.plot(kind='box', logy=True)\n",
        "plt.ylabel('log(timestamp_in_days)')\n",
        "plt.show()"
      ],
      "execution_count": 40,
      "outputs": [
        {
          "output_type": "display_data",
          "data": {
            "image/png": "[encoded data removed]",
            "text/plain": [
              "<Figure size 432x288 with 1 Axes>"
            ]
          },
          "metadata": {
            "tags": [],
            "needs_background": "light"
          }
        }
      ]
    },
    {
      "cell_type": "markdown",
      "metadata": {
        "id": "nSfWKNg8ib2w"
      },
      "source": [
        ""
      ]
    },
    {
      "cell_type": "markdown",
      "metadata": {
        "id": "CRlpiA6anba7"
      },
      "source": [
        "A box plot shows that that the timestamps generally have values 6 days and 105 days. \n",
        "\n",
        "It would be useful to check later if some users use the platform much more than others.\n",
        "\n",
        "There is a right-skewness but no reason yet to consider these as outliers to drop or correct.\n",
        "\n",
        "Most of the data entries were from relatively \"young\" user accounts, while a minority of data are from older user accounts. The units here are milliseconds since account creations, so the average action took place about 0.23 years after account creation."
      ]
    },
    {
      "cell_type": "markdown",
      "metadata": {
        "id": "V3WKTd8voCvk"
      },
      "source": [
        "##user_id\n",
        "\n",
        "This is presumed to a unique user id that is randomly distributed to each user, with one per user.\n",
        "\n",
        "This data can be used to relate data etries from the same users through out the data set.\n"
      ]
    },
    {
      "cell_type": "code",
      "metadata": {
        "id": "QJ5rEiUCou6F",
        "colab": {
          "base_uri": "https://localhost:8080/"
        },
        "outputId": "9cb30c1a-c7cd-4503-dce5-50670b706bb2"
      },
      "source": [
        "#Count the unique users in this data set\n",
        "unique_users = df['user_id'].unique()\n",
        "unique_users"
      ],
      "execution_count": 86,
      "outputs": [
        {
          "output_type": "execute_result",
          "data": {
            "text/plain": [
              "[115, 124, 2746, 5382, 8623, ..., 2147470770, 2147470777, 2147481750, 2147482216, 2147482888]\n",
              "Length: 393656\n",
              "Categories (393656, int64): [115, 124, 2746, 5382, ..., 2147470777, 2147481750, 2147482216,\n",
              "                             2147482888]"
            ]
          },
          "metadata": {
            "tags": []
          },
          "execution_count": 86
        }
      ]
    },
    {
      "cell_type": "code",
      "metadata": {
        "colab": {
          "base_uri": "https://localhost:8080/"
        },
        "id": "Bd74PGSIWNXN",
        "outputId": "26fbe8eb-c246-41e9-c972-793d3aa8d0b3"
      },
      "source": [
        "user_id_value_counts = df['user_id'].value_counts()\n",
        "user_id_value_counts"
      ],
      "execution_count": 82,
      "outputs": [
        {
          "output_type": "execute_result",
          "data": {
            "text/plain": [
              "801103753     17917\n",
              "1478712595    16914\n",
              "1842816145    16851\n",
              "455973631     16789\n",
              "1660941992    16777\n",
              "              ...  \n",
              "1632816630        1\n",
              "1946651368        1\n",
              "118250768         1\n",
              "594429989         1\n",
              "1610758750        1\n",
              "Name: user_id, Length: 393656, dtype: int64"
            ]
          },
          "metadata": {
            "tags": []
          },
          "execution_count": 82
        }
      ]
    },
    {
      "cell_type": "code",
      "metadata": {
        "colab": {
          "base_uri": "https://localhost:8080/",
          "height": 336
        },
        "id": "B1gKXkajWPu0",
        "outputId": "15eddb15-e9db-49c4-beaf-30dc1885584e"
      },
      "source": [
        "user_id_value_counts[:100].plot(kind='bar')"
      ],
      "execution_count": 104,
      "outputs": [
        {
          "output_type": "execute_result",
          "data": {
            "text/plain": [
              "<matplotlib.axes._subplots.AxesSubplot at 0x7f11addd12b0>"
            ]
          },
          "metadata": {
            "tags": []
          },
          "execution_count": 104
        },
        {
          "output_type": "display_data",
          "data": {
            "image/png": "[encoded data removed]",
            "text/plain": [
              "<Figure size 432x288 with 1 Axes>"
            ]
          },
          "metadata": {
            "tags": [],
            "needs_background": "light"
          }
        }
      ]
    },
    {
      "cell_type": "code",
      "metadata": {
        "colab": {
          "base_uri": "https://localhost:8080/",
          "height": 282
        },
        "id": "iuCW65QbXauO",
        "outputId": "e1ed3e3b-a54c-4a08-a736-a092c5c78017"
      },
      "source": [
        "user_id_value_counts.hist(bins=100)"
      ],
      "execution_count": 96,
      "outputs": [
        {
          "output_type": "execute_result",
          "data": {
            "text/plain": [
              "<matplotlib.axes._subplots.AxesSubplot at 0x7f11add92898>"
            ]
          },
          "metadata": {
            "tags": []
          },
          "execution_count": 96
        },
        {
          "output_type": "display_data",
          "data": {
            "image/png": "[encoded data removed]",
            "text/plain": [
              "<Figure size 432x288 with 1 Axes>"
            ]
          },
          "metadata": {
            "tags": [],
            "needs_background": "light"
          }
        }
      ]
    },
    {
      "cell_type": "markdown",
      "metadata": {
        "id": "C4FHOVxnX3ID"
      },
      "source": [
        "We can see that a small minority of users generate most of the "
      ]
    },
    {
      "cell_type": "code",
      "metadata": {
        "colab": {
          "base_uri": "https://localhost:8080/",
          "height": 282
        },
        "id": "aPIbJFBnXqqh",
        "outputId": "0e68a841-d1a1-4ca5-ce8d-caac8eef50fa"
      },
      "source": [
        "user_id_value_counts.hist(cumulative=True, bins=100)"
      ],
      "execution_count": 102,
      "outputs": [
        {
          "output_type": "execute_result",
          "data": {
            "text/plain": [
              "<matplotlib.axes._subplots.AxesSubplot at 0x7f11ad5c2ac8>"
            ]
          },
          "metadata": {
            "tags": []
          },
          "execution_count": 102
        },
        {
          "output_type": "display_data",
          "data": {
            "image/png": "[encoded data removed]",
            "text/plain": [
              "<Figure size 432x288 with 1 Axes>"
            ]
          },
          "metadata": {
            "tags": [],
            "needs_background": "light"
          }
        }
      ]
    },
    {
      "cell_type": "markdown",
      "metadata": {
        "id": "XvTpyNCwTyK-"
      },
      "source": [
        "##content_id\n",
        "\n",
        "How many different content_id are there? How often does the most common content_ID occur? Does any small group of content_ids form a disproportionate amount of the events?"
      ]
    },
    {
      "cell_type": "code",
      "metadata": {
        "colab": {
          "base_uri": "https://localhost:8080/"
        },
        "id": "tdaRHZWmk7j8",
        "outputId": "3a2ebba1-143c-4722-f72a-a02bb8ec7cd4"
      },
      "source": [
        "df_content_id_value_counts = df['content_id'].value_counts()\n",
        "df_content_id_value_counts.describe()"
      ],
      "execution_count": 22,
      "outputs": [
        {
          "output_type": "execute_result",
          "data": {
            "text/plain": [
              "count     13782.000000\n",
              "mean       7345.111885\n",
              "std       11415.012275\n",
              "min           1.000000\n",
              "25%        1757.000000\n",
              "50%        4728.500000\n",
              "75%        8617.000000\n",
              "max      213605.000000\n",
              "Name: content_id, dtype: float64"
            ]
          },
          "metadata": {
            "tags": []
          },
          "execution_count": 22
        }
      ]
    },
    {
      "cell_type": "code",
      "metadata": {
        "id": "jDK8bmj93nDc",
        "colab": {
          "base_uri": "https://localhost:8080/",
          "height": 265
        },
        "outputId": "99a456e7-d520-48b0-cc84-c2de08cd2cc0"
      },
      "source": [
        "#Count the unique content_ids and describe the distribution of the counts\n",
        "\n",
        "df_content_id_value_counts.hist(bins=100);"
      ],
      "execution_count": 23,
      "outputs": [
        {
          "output_type": "display_data",
          "data": {
            "image/png": "[encoded data removed]",
            "text/plain": [
              "<Figure size 432x288 with 1 Axes>"
            ]
          },
          "metadata": {
            "tags": [],
            "needs_background": "light"
          }
        }
      ]
    },
    {
      "cell_type": "code",
      "metadata": {
        "id": "2RWrbTQaMGme"
      },
      "source": [
        "df_content_id_value_counts.hist(bins=100, normalize"
      ],
      "execution_count": null,
      "outputs": []
    },
    {
      "cell_type": "markdown",
      "metadata": {
        "id": "Vxy5b6JKVbYt"
      },
      "source": [
        "We  13320 unique content ids.\n",
        "\n",
        "The most common content_id occured only {{{df_content_id_value_counts.max()}}} of the time. The average content_id occurs about 0.007% of the time.\n",
        "\n",
        "It may be useful to consider these in groups, because any single content_id is such a small part of the whole set.\n"
      ]
    },
    {
      "cell_type": "markdown",
      "metadata": {
        "id": "uuVlD4IiaVnz"
      },
      "source": [
        "##content_type_id\n",
        "\n",
        ">content_type_id: (int8) 0 if the event was a question being posed to the user, 1 if the event was the user watching a lecture.\n",
        "\n"
      ]
    },
    {
      "cell_type": "code",
      "metadata": {
        "id": "XnBG-YyjazTt",
        "colab": {
          "base_uri": "https://localhost:8080/"
        },
        "outputId": "b6f16b04-7c09-4db5-fd04-918a90b638a5"
      },
      "source": [
        "#Count the unique content_type_ids and describe the distribution of the counts\n",
        "content_type_id_value_counts = df['content_type_id'].value_counts()\n",
        "content_type_id_value_counts"
      ],
      "execution_count": 25,
      "outputs": [
        {
          "output_type": "execute_result",
          "data": {
            "text/plain": [
              "0    99271300\n",
              "1     1959032\n",
              "Name: content_type_id, dtype: int64"
            ]
          },
          "metadata": {
            "tags": []
          },
          "execution_count": 25
        }
      ]
    },
    {
      "cell_type": "code",
      "metadata": {
        "colab": {
          "base_uri": "https://localhost:8080/",
          "height": 290
        },
        "id": "GJlSNjADlVL4",
        "outputId": "f73dfe05-29ed-416c-e52e-1fba9904da59"
      },
      "source": [
        "content_type_id_value_counts.plot(kind='bar')"
      ],
      "execution_count": 26,
      "outputs": [
        {
          "output_type": "execute_result",
          "data": {
            "text/plain": [
              "<matplotlib.axes._subplots.AxesSubplot at 0x7f11ca32dcf8>"
            ]
          },
          "metadata": {
            "tags": []
          },
          "execution_count": 26
        },
        {
          "output_type": "display_data",
          "data": {
            "image/png": "[encoded data removed]",
            "text/plain": [
              "<Figure size 432x288 with 1 Axes>"
            ]
          },
          "metadata": {
            "tags": [],
            "needs_background": "light"
          }
        }
      ]
    },
    {
      "cell_type": "markdown",
      "metadata": {
        "id": "O5W_B_UXbPu3"
      },
      "source": [
        "We note that ther are only two content_id_types.\n",
        "\n",
        "\n",
        " Most of the data are questions posed to the user."
      ]
    },
    {
      "cell_type": "code",
      "metadata": {
        "colab": {
          "base_uri": "https://localhost:8080/"
        },
        "id": "v0IpTtCZOCLp",
        "outputId": "4875b164-15cd-4420-9ce4-f4418e2d5c95"
      },
      "source": [
        "print(f\"{100*content_type_id_value_counts[1]/len(df)}% of the data is the user watching a lecture.\")"
      ],
      "execution_count": 36,
      "outputs": [
        {
          "output_type": "stream",
          "text": [
            "1.9352223402764301% of the data is the user watching a lecture.\n"
          ],
          "name": "stdout"
        }
      ]
    },
    {
      "cell_type": "markdown",
      "metadata": {
        "id": "D2LQQeH7d3u1"
      },
      "source": [
        "##task_container_id\n",
        "\n",
        ">task_container_id: (int16) Id code for the batch of questions or lectures. For example, a user might see three questions in a row before seeing the explanations for any of them. Those three would all share a task_container_id."
      ]
    },
    {
      "cell_type": "code",
      "metadata": {
        "id": "OQ5BOshefFAK",
        "colab": {
          "base_uri": "https://localhost:8080/"
        },
        "outputId": "0abc9377-fd8e-4454-ff2e-078e797061ab"
      },
      "source": [
        "#Count the unique task_container_id and describe the distribution of the counts\n",
        "task_container_id = df['task_container_id']\n",
        "task_container_id.value_counts()"
      ],
      "execution_count": 38,
      "outputs": [
        {
          "output_type": "execute_result",
          "data": {
            "text/plain": [
              "14      804285\n",
              "15      798539\n",
              "4       692079\n",
              "5       690051\n",
              "6       688813\n",
              "         ...  \n",
              "9927       174\n",
              "9999       174\n",
              "9925       172\n",
              "9937       172\n",
              "9926       170\n",
              "Name: task_container_id, Length: 10000, dtype: int64"
            ]
          },
          "metadata": {
            "tags": []
          },
          "execution_count": 38
        }
      ]
    },
    {
      "cell_type": "code",
      "metadata": {
        "id": "lP6gQ6nNgIJA",
        "colab": {
          "base_uri": "https://localhost:8080/"
        },
        "outputId": "3c33ec6e-c1db-4db4-f451-b9c8bd521595"
      },
      "source": [
        "task_container_id.value_counts(normalize=True)"
      ],
      "execution_count": 39,
      "outputs": [
        {
          "output_type": "execute_result",
          "data": {
            "text/plain": [
              "14      0.007945\n",
              "15      0.007888\n",
              "4       0.006837\n",
              "5       0.006817\n",
              "6       0.006804\n",
              "          ...   \n",
              "9927    0.000002\n",
              "9999    0.000002\n",
              "9925    0.000002\n",
              "9937    0.000002\n",
              "9926    0.000002\n",
              "Name: task_container_id, Length: 10000, dtype: float64"
            ]
          },
          "metadata": {
            "tags": []
          },
          "execution_count": 39
        }
      ]
    },
    {
      "cell_type": "code",
      "metadata": {
        "id": "3t-j2KPsfZou",
        "colab": {
          "base_uri": "https://localhost:8080/",
          "height": 293
        },
        "outputId": "c3c2b310-c563-45fd-90d2-fd176ca2b6be"
      },
      "source": [
        "#Count the unique task_container_id and describe the distribution of the counts\n",
        "\n",
        "task_container_id.hist(bins=30)"
      ],
      "execution_count": 49,
      "outputs": [
        {
          "output_type": "execute_result",
          "data": {
            "text/plain": [
              "<matplotlib.axes._subplots.AxesSubplot at 0x7f11c1fd25c0>"
            ]
          },
          "metadata": {
            "tags": []
          },
          "execution_count": 49
        },
        {
          "output_type": "display_data",
          "data": {
            "image/png": "[encoded data removed]",
            "text/plain": [
              "<Figure size 432x288 with 1 Axes>"
            ]
          },
          "metadata": {
            "tags": [],
            "needs_background": "light"
          }
        }
      ]
    },
    {
      "cell_type": "markdown",
      "metadata": {
        "id": "4iZReXXZPb5Y"
      },
      "source": [
        "Of the 10000 task_container_ids, over 85% have a the data use the task_container_id with id less than 2000."
      ]
    },
    {
      "cell_type": "markdown",
      "metadata": {
        "id": "ZR6H9Ayxfsh0"
      },
      "source": [
        "It's notable that the task_container_ids with the lowest numbers tend to occur most frequently. Perhaps these id were not randomly assigned from a hash but were assigned sequentially.\n",
        "\n",
        "It could be useful to dig in to the docs and find if certain task_container_ids have further meaning which could be useful in feature engineering.\n",
        "\n",
        "Many of the highest numbered task_container_id only occur once. It''s possble that these task_container_id are unique to a user."
      ]
    },
    {
      "cell_type": "markdown",
      "metadata": {
        "id": "dBwARSCueM-R"
      },
      "source": [
        "##user_answer\n",
        "\n",
        ">user_answer: (int8) the user's answer to the question, if any. Read -1 as null, for lectures."
      ]
    },
    {
      "cell_type": "code",
      "metadata": {
        "id": "Ex2_QyIhh69H",
        "colab": {
          "base_uri": "https://localhost:8080/"
        },
        "outputId": "1e4d5536-c4b1-406b-c354-e3e5ad58abab"
      },
      "source": [
        "#Count the unique task_container_id and describe the distribution of the counts\n",
        "user_answer_value_counts = df['user_answer'].value_counts()\n",
        "user_answer_value_counts"
      ],
      "execution_count": 52,
      "outputs": [
        {
          "output_type": "execute_result",
          "data": {
            "text/plain": [
              "0     28186489\n",
              "1     26990007\n",
              "3     26084784\n",
              "2     18010020\n",
              "-1     1959032\n",
              "Name: user_answer, dtype: int64"
            ]
          },
          "metadata": {
            "tags": []
          },
          "execution_count": 52
        }
      ]
    },
    {
      "cell_type": "code",
      "metadata": {
        "id": "W4lroLuTiLLk",
        "colab": {
          "base_uri": "https://localhost:8080/"
        },
        "outputId": "f91f4491-a64f-4844-c388-df1c6285ad73"
      },
      "source": [
        "user_answer_value_counts_normalized = df['user_answer'].value_counts(normalize=True)\n",
        "user_answer_value_counts_normalized"
      ],
      "execution_count": 53,
      "outputs": [
        {
          "output_type": "execute_result",
          "data": {
            "text/plain": [
              "0     0.278439\n",
              "1     0.266620\n",
              "3     0.257678\n",
              "2     0.177911\n",
              "-1    0.019352\n",
              "Name: user_answer, dtype: float64"
            ]
          },
          "metadata": {
            "tags": []
          },
          "execution_count": 53
        }
      ]
    },
    {
      "cell_type": "code",
      "metadata": {
        "colab": {
          "base_uri": "https://localhost:8080/",
          "height": 282
        },
        "id": "f8QifbvYQmHP",
        "outputId": "1cd0f299-b42b-4fc9-b9d5-1ecaf74f8cbb"
      },
      "source": [
        "user_answer_value_counts_normalized.plot(kind='bar')"
      ],
      "execution_count": 57,
      "outputs": [
        {
          "output_type": "execute_result",
          "data": {
            "text/plain": [
              "<matplotlib.axes._subplots.AxesSubplot at 0x7f11c218e518>"
            ]
          },
          "metadata": {
            "tags": []
          },
          "execution_count": 57
        },
        {
          "output_type": "display_data",
          "data": {
            "image/png": "[encoded data removed]",
            "text/plain": [
              "<Figure size 432x288 with 1 Axes>"
            ]
          },
          "metadata": {
            "tags": [],
            "needs_background": "light"
          }
        }
      ]
    },
    {
      "cell_type": "markdown",
      "metadata": {
        "id": "xSIuwcCRigik"
      },
      "source": [
        "It looks like the these are multiple choice answers. Of the 4 nonlecture types, it looks like there is a negative bias on category 2. That is, users answer '2' less often then expected from chance alone. It could be that the users are inherently biased aginast answering with  '2', or possibly, the questions creators are have biased questions so that users are less likely to select '2', or it could be something else. \n",
        "\n",
        "We may have to transform this column later so that the '-1' values are not in this coloumn, depending on the requirements of the pipelines we use later. An easy transform might be to asssign NaN to these '-1' values."
      ]
    },
    {
      "cell_type": "markdown",
      "metadata": {
        "id": "A-pMM2ZTeS_W"
      },
      "source": [
        "##answered_correctly (Target variable)\n",
        "\n",
        "`answered_correctly: (int8) if the user responded correctly. Read -1 as null, for lectures.`"
      ]
    },
    {
      "cell_type": "code",
      "metadata": {
        "id": "o1hI_zCQh7tG",
        "colab": {
          "base_uri": "https://localhost:8080/"
        },
        "outputId": "12d5ea41-8da7-4f0c-a00f-0eaef4b2af06"
      },
      "source": [
        "#Count the unique task_container_id and describe the distribution of the counts\n",
        "df['answered_correctly'].value_counts()"
      ],
      "execution_count": 58,
      "outputs": [
        {
          "output_type": "execute_result",
          "data": {
            "text/plain": [
              "1     65244627\n",
              "0     34026673\n",
              "-1     1959032\n",
              "Name: answered_correctly, dtype: int64"
            ]
          },
          "metadata": {
            "tags": []
          },
          "execution_count": 58
        }
      ]
    },
    {
      "cell_type": "code",
      "metadata": {
        "id": "XHPvuTXakGwI",
        "colab": {
          "base_uri": "https://localhost:8080/"
        },
        "outputId": "9396ae08-deb7-4e2f-ed36-84df6a2e989f"
      },
      "source": [
        "#Check the frequency of each count\n",
        "df['answered_correctly'].value_counts(normalize=True)"
      ],
      "execution_count": 59,
      "outputs": [
        {
          "output_type": "execute_result",
          "data": {
            "text/plain": [
              "1     0.644517\n",
              "0     0.336131\n",
              "-1    0.019352\n",
              "Name: answered_correctly, dtype: float64"
            ]
          },
          "metadata": {
            "tags": []
          },
          "execution_count": 59
        }
      ]
    },
    {
      "cell_type": "markdown",
      "metadata": {
        "id": "ihqiMSOfkX9_"
      },
      "source": [
        "The '-1' occurs here exactly as frequent as in user_answer. It might be best to seperate the lecture rows entirtely from the rest of the dataframe, rather than transform it."
      ]
    },
    {
      "cell_type": "markdown",
      "metadata": {
        "id": "STqeEFEGeakl"
      },
      "source": [
        "##prior_question_elapsed_time\n",
        "\n",
        "`prior_question_elapsed_time: (float32) The average time in milliseconds it took a user to answer each question in the previous question bundle, ignoring any lectures in between. Is null for a user's first question bundle or lecture. Note that the time is the average time a user took to solve each question in the previous bundle.`\n",
        "\n",
        "It might be possible to determine each user's first lecture from this point alone.\n",
        " "
      ]
    },
    {
      "cell_type": "code",
      "metadata": {
        "id": "jvMeCNSeh8V0",
        "colab": {
          "base_uri": "https://localhost:8080/"
        },
        "outputId": "39d4a7b0-3d8e-45f1-de65-d4ab53a183c8"
      },
      "source": [
        "#Count the unique prior_question_elapsed_time and describe the distribution of the counts\n",
        "prior_question_elapsed_time = df['prior_question_elapsed_time']\n",
        "prior_question_elapsed_time.value_counts()"
      ],
      "execution_count": 60,
      "outputs": [
        {
          "output_type": "execute_result",
          "data": {
            "text/plain": [
              "17000.0     5154588\n",
              "16000.0     4752104\n",
              "18000.0     4670915\n",
              "19000.0     4017031\n",
              "15000.0     3640279\n",
              "             ...   \n",
              "252800.0          1\n",
              "251200.0          1\n",
              "297200.0          1\n",
              "297600.0          1\n",
              "270333.0          1\n",
              "Name: prior_question_elapsed_time, Length: 3258, dtype: int64"
            ]
          },
          "metadata": {
            "tags": []
          },
          "execution_count": 60
        }
      ]
    },
    {
      "cell_type": "code",
      "metadata": {
        "id": "xbwUkAZKxTTJ",
        "colab": {
          "base_uri": "https://localhost:8080/"
        },
        "outputId": "2e6d461f-3e7d-44e8-8455-63ae1e694993"
      },
      "source": [
        "#Check the frequency of each count\n",
        "prior_question_elapsed_time.value_counts(normalize=True)\n"
      ],
      "execution_count": 61,
      "outputs": [
        {
          "output_type": "execute_result",
          "data": {
            "text/plain": [
              "17000.0     5.213037e-02\n",
              "16000.0     4.805989e-02\n",
              "18000.0     4.723879e-02\n",
              "19000.0     4.062581e-02\n",
              "15000.0     3.681557e-02\n",
              "                ...     \n",
              "252800.0    1.011339e-08\n",
              "251200.0    1.011339e-08\n",
              "297200.0    1.011339e-08\n",
              "297600.0    1.011339e-08\n",
              "270333.0    1.011339e-08\n",
              "Name: prior_question_elapsed_time, Length: 3258, dtype: float64"
            ]
          },
          "metadata": {
            "tags": []
          },
          "execution_count": 61
        }
      ]
    },
    {
      "cell_type": "code",
      "metadata": {
        "id": "zwisJ7R5CYe5",
        "colab": {
          "base_uri": "https://localhost:8080/",
          "height": 344
        },
        "outputId": "56d80cad-f5ce-4292-98ee-63c72676b94e"
      },
      "source": [
        "\n",
        "plt.hist(prior_question_elapsed_time, bins=10000)\n",
        "plt.xlim((14000, 21000))\n",
        "plt.show()\n"
      ],
      "execution_count": 62,
      "outputs": [
        {
          "output_type": "stream",
          "text": [
            "/usr/local/lib/python3.6/dist-packages/numpy/lib/histograms.py:839: RuntimeWarning: invalid value encountered in greater_equal\n",
            "  keep = (tmp_a >= first_edge)\n",
            "/usr/local/lib/python3.6/dist-packages/numpy/lib/histograms.py:840: RuntimeWarning: invalid value encountered in less_equal\n",
            "  keep &= (tmp_a <= last_edge)\n"
          ],
          "name": "stderr"
        },
        {
          "output_type": "display_data",
          "data": {
            "image/png": "[encoded data removed]",
            "text/plain": [
              "<Figure size 432x288 with 1 Axes>"
            ]
          },
          "metadata": {
            "tags": [],
            "needs_background": "light"
          }
        }
      ]
    },
    {
      "cell_type": "markdown",
      "metadata": {
        "id": "1KbIhI1rx_zJ"
      },
      "source": [
        "Well, this looks peculiar. The top 5 value counts are 17.000 seconds, 16.000 seconds, 18.000 seconds, 19.000 seconds, and 15.000. The units is milliseconds, but these top five values appear to either have been rounded to the nearest second, or the students are machinely-like in their precision of submitting the answer on the exact milliseconds so that the delay is multiple of 1000 millisenconds. \n",
        "\n",
        "Alternatively, an automated tool, like a test-taking bot--designed to harvest test questions by guessing any answer while scraping the question content to store in a database for use later--has been answering questions with a simulated delay that can be modeled by a discrete normal distribution with mean 17000. The magnitude of this hypoithesized automnation is such that around 20% of all answers submitted could fit this model.\n",
        "\n",
        "Cross-referencing user_ids connected to these anomolus prior_question_elapsed_time values could lend support to the hypothesis if there are a small number of user ids who make a disprotionate amount of all answers.\n",
        "\n",
        "If the hypothesis is true,\n",
        "It may be useful later to feature-engineer these automated users (bots) into their own column or dataframe, as their behavior could be quite different from the human users. It may be easier to model the responses of the bots seperately from the humans.\n",
        "\n",
        "An alternative explanation could be that, assuming this educational platform is accessed via a web browser, some web browsers may round times  to whole-number of seconds. It unlikely though. Also, this fails to address the simulated discrete normal distribution about 17.000 seconds."
      ]
    },
    {
      "cell_type": "markdown",
      "metadata": {
        "id": "-aqhaiwj4gM3"
      },
      "source": [
        "Let's continue without seperating the two populations for now..."
      ]
    },
    {
      "cell_type": "code",
      "metadata": {
        "id": "1iXGId1h3JBb",
        "colab": {
          "base_uri": "https://localhost:8080/",
          "height": 293
        },
        "outputId": "7b8b46ca-5784-460a-cf7a-8f4b0028848c"
      },
      "source": [
        "prior_question_elapsed_time.hist()"
      ],
      "execution_count": 63,
      "outputs": [
        {
          "output_type": "execute_result",
          "data": {
            "text/plain": [
              "<matplotlib.axes._subplots.AxesSubplot at 0x7f11bcf8f5c0>"
            ]
          },
          "metadata": {
            "tags": []
          },
          "execution_count": 63
        },
        {
          "output_type": "display_data",
          "data": {
            "image/png": "[encoded data removed]",
            "text/plain": [
              "<Figure size 432x288 with 1 Axes>"
            ]
          },
          "metadata": {
            "tags": [],
            "needs_background": "light"
          }
        }
      ]
    },
    {
      "cell_type": "code",
      "metadata": {
        "id": "CD5ZZyC71z4r",
        "colab": {
          "base_uri": "https://localhost:8080/"
        },
        "outputId": "2915c692-f9cd-46bf-b777-70c745a0ad9f"
      },
      "source": [
        "prior_question_elapsed_time.describe()"
      ],
      "execution_count": 64,
      "outputs": [
        {
          "output_type": "execute_result",
          "data": {
            "text/plain": [
              "count    9.887879e+07\n",
              "mean     2.542381e+04\n",
              "std      1.994815e+04\n",
              "min      0.000000e+00\n",
              "25%      1.600000e+04\n",
              "50%      2.100000e+04\n",
              "75%      2.966600e+04\n",
              "max      3.000000e+05\n",
              "Name: prior_question_elapsed_time, dtype: float64"
            ]
          },
          "metadata": {
            "tags": []
          },
          "execution_count": 64
        }
      ]
    },
    {
      "cell_type": "code",
      "metadata": {
        "id": "4R6XsG6T4OF6",
        "colab": {
          "base_uri": "https://localhost:8080/",
          "height": 283
        },
        "outputId": "861f8801-8937-485d-e1c6-03d43e9fc733"
      },
      "source": [
        "prior_question_elapsed_time.plot(kind='box')"
      ],
      "execution_count": 65,
      "outputs": [
        {
          "output_type": "execute_result",
          "data": {
            "text/plain": [
              "<matplotlib.axes._subplots.AxesSubplot at 0x7f11c249f4e0>"
            ]
          },
          "metadata": {
            "tags": []
          },
          "execution_count": 65
        },
        {
          "output_type": "display_data",
          "data": {
            "image/png": "[encoded data removed]",
            "text/plain": [
              "<Figure size 432x288 with 1 Axes>"
            ]
          },
          "metadata": {
            "tags": [],
            "needs_background": "light"
          }
        }
      ]
    },
    {
      "cell_type": "markdown",
      "metadata": {
        "id": "kikUcyYfRUZf"
      },
      "source": [
        "Using a log scale on the y-axis for clarity:"
      ]
    },
    {
      "cell_type": "code",
      "metadata": {
        "colab": {
          "base_uri": "https://localhost:8080/",
          "height": 283
        },
        "id": "-_jdOoDpnyG3",
        "outputId": "f7601684-69a0-4f32-f21b-4c9a9b24a587"
      },
      "source": [
        "prior_question_elapsed_time.plot(kind='box', logy=True)"
      ],
      "execution_count": 66,
      "outputs": [
        {
          "output_type": "execute_result",
          "data": {
            "text/plain": [
              "<matplotlib.axes._subplots.AxesSubplot at 0x7f11c249fcf8>"
            ]
          },
          "metadata": {
            "tags": []
          },
          "execution_count": 66
        },
        {
          "output_type": "display_data",
          "data": {
            "image/png": "[encoded data removed]",
            "text/plain": [
              "<Figure size 432x288 with 1 Axes>"
            ]
          },
          "metadata": {
            "tags": [],
            "needs_background": "light"
          }
        }
      ]
    },
    {
      "cell_type": "markdown",
      "metadata": {
        "id": "TjLUwisCxvAQ"
      },
      "source": [
        "Mean time to answer the last question is about 25 seconds; the median is 21.000 seconds.\n",
        "\n",
        "The effect of the hypothesized bot subpopulation is large enough that it is convolutes our summary statistics on the whole population. We see that the 25th-percentile and median are 16.000 seconds and 21.000 seconds. \n",
        "\n",
        "It looks like there a hard cutoff on answer times at 5 minutes (300000 milliseconds).\n",
        "\n",
        "We might have to discard answers given with delay 0, as I don't know what they mean yet.\n"
      ]
    },
    {
      "cell_type": "markdown",
      "metadata": {
        "id": "mR5jNmX5xu-f"
      },
      "source": [
        ""
      ]
    },
    {
      "cell_type": "markdown",
      "metadata": {
        "id": "1nkMDouaee1G"
      },
      "source": [
        "##prior_question_had_explanation\n",
        "\n",
        "`prior_question_had_explanation: (bool) Whether or not the user saw an explanation and the correct response(s) after answering the previous question bundle, ignoring any lectures in between. The value is shared across a single question bundle, and is null for a user's first question bundle or lecture. Typically the first several questions a user sees were part of an onboarding diagnostic test where they did not get any feedback.`\n",
        "\n",
        "\n",
        "\n"
      ]
    },
    {
      "cell_type": "markdown",
      "metadata": {
        "id": "rywVkA6vJgTn"
      },
      "source": [
        ""
      ]
    },
    {
      "cell_type": "code",
      "metadata": {
        "id": "6beSdjHiJteu"
      },
      "source": [
        "prior_question_had_explanation = df['prior_question_had_explanation']"
      ],
      "execution_count": 67,
      "outputs": []
    },
    {
      "cell_type": "code",
      "metadata": {
        "id": "6Isp4-BLekc1",
        "colab": {
          "base_uri": "https://localhost:8080/"
        },
        "outputId": "64c2de06-63fe-47f0-d4ea-37643424f9f8"
      },
      "source": [
        "prior_question_had_explanation.value_counts()"
      ],
      "execution_count": 68,
      "outputs": [
        {
          "output_type": "execute_result",
          "data": {
            "text/plain": [
              "True     90078066\n",
              "False    11152266\n",
              "Name: prior_question_had_explanation, dtype: int64"
            ]
          },
          "metadata": {
            "tags": []
          },
          "execution_count": 68
        }
      ]
    },
    {
      "cell_type": "markdown",
      "metadata": {
        "id": "ai0cenveJ9RB"
      },
      "source": [
        "I'm not quite sure what this means here. I might have to read the documentation more to learn about what the nearly 90% fraction of prioor questions that had an explanation after."
      ]
    },
    {
      "cell_type": "code",
      "metadata": {
        "id": "LGRwTpeWJo2P"
      },
      "source": [
        ""
      ],
      "execution_count": 68,
      "outputs": []
    },
    {
      "cell_type": "markdown",
      "metadata": {
        "id": "C8aTA0VWPX_s"
      },
      "source": [
        "#Exploring the data in each column vs the target variable."
      ]
    },
    {
      "cell_type": "code",
      "metadata": {
        "id": "m9L63jce87UN"
      },
      "source": [
        "target_var_str = 'answered_correctly'"
      ],
      "execution_count": 69,
      "outputs": []
    },
    {
      "cell_type": "markdown",
      "metadata": {
        "id": "Ketd3XX17xax"
      },
      "source": [
        "##Scatterplots of the features vs the target variable"
      ]
    },
    {
      "cell_type": "code",
      "metadata": {
        "id": "Ixplo00e751X"
      },
      "source": [
        "# define useful function to create scatterplots of target variable against desired columns\n",
        "def scatterplots(columns, ncol=None, figsize=(15, 8), data=df, alpha=0.1):\n",
        "    if ncol is None:\n",
        "        ncol = len(columns)\n",
        "    nrow = int(np.ceil(len(columns) / ncol))\n",
        "    fig, axes = plt.subplots(nrow, ncol, figsize=figsize, squeeze=False)\n",
        "    fig.subplots_adjust(wspace=0.5, hspace=0.6)\n",
        "    for i, col in enumerate(columns):\n",
        "        ax = axes.flatten()[i]\n",
        "        ax.scatter(x = col, y =target_var_str, data=data, alpha=alpha)\n",
        "        ax.set(xlabel=col, ylabel=target_var_str)\n",
        "    nsubplots = nrow * ncol    \n",
        "    for empty in range(i+1, nsubplots):\n",
        "        axes.flatten()[empty].set_visible(False)"
      ],
      "execution_count": 74,
      "outputs": []
    },
    {
      "cell_type": "code",
      "metadata": {
        "id": "6hw3iaGe8sjR"
      },
      "source": [
        "#Create a list of features\n",
        "features = [feature for feature in df.columns if feature not in [target_var_str]]"
      ],
      "execution_count": 71,
      "outputs": []
    },
    {
      "cell_type": "code",
      "metadata": {
        "colab": {
          "base_uri": "https://localhost:8080/",
          "height": 912
        },
        "id": "BXvKQoY29JvX",
        "outputId": "a4ec34c4-33f0-47df-80bc-e6a885fd0421"
      },
      "source": [
        "#Use the 1/100 sized dataframe here\n",
        "%%time\n",
        "scatterplots(features, ncol=4, figsize=(15, 15), data=df_1_100, alpha=0.005)\n"
      ],
      "execution_count": 77,
      "outputs": [
        {
          "output_type": "stream",
          "text": [
            "CPU times: user 2.12 s, sys: 130 ms, total: 2.25 s\n",
            "Wall time: 2.26 s\n"
          ],
          "name": "stdout"
        },
        {
          "output_type": "display_data",
          "data": {
            "image/png": "[encoded data removed]",
            "text/plain": [
              "<Figure size 1080x1080 with 8 Axes>"
            ]
          },
          "metadata": {
            "tags": [],
            "needs_background": "light"
          }
        }
      ]
    },
    {
      "cell_type": "markdown",
      "metadata": {
        "id": "fw2oY45OTIBx"
      },
      "source": [
        "The scatter plots don't show any linear correlation with the target variable.\n",
        "\n",
        "We can see that it the higher-numbered content_id don't have any non-'-1' entries. We can guess that these higher niumber content_ids are lecture videos where no questions is presented to the student to answer.\n"
      ]
    },
    {
      "cell_type": "code",
      "metadata": {
        "id": "tJAEjbau9Jt8"
      },
      "source": [
        ""
      ],
      "execution_count": null,
      "outputs": []
    },
    {
      "cell_type": "code",
      "metadata": {
        "id": "acngcQdUPb36",
        "colab": {
          "base_uri": "https://localhost:8080/",
          "height": 340
        },
        "outputId": "d4861814-9a80-40cc-b083-455d7e95403d"
      },
      "source": [
        "df_1 = df.groupby(['content_id' ])[['answered_correctly']].mean()\n",
        "# ax = df_1['content_id'].hist()\n",
        "df_1"
      ],
      "execution_count": null,
      "outputs": [
        {
          "output_type": "error",
          "ename": "DataError",
          "evalue": "ignored",
          "traceback": [
            "\u001b[0;31m---------------------------------------------------------------------------\u001b[0m",
            "\u001b[0;31mDataError\u001b[0m                                 Traceback (most recent call last)",
            "\u001b[0;32m<ipython-input-87-6798affeb8ca>\u001b[0m in \u001b[0;36m<module>\u001b[0;34m()\u001b[0m\n\u001b[0;32m----> 1\u001b[0;31m \u001b[0mdf_1\u001b[0m \u001b[0;34m=\u001b[0m \u001b[0mdf\u001b[0m\u001b[0;34m.\u001b[0m\u001b[0mgroupby\u001b[0m\u001b[0;34m(\u001b[0m\u001b[0;34m[\u001b[0m\u001b[0;34m'content_id'\u001b[0m \u001b[0;34m]\u001b[0m\u001b[0;34m)\u001b[0m\u001b[0;34m[\u001b[0m\u001b[0;34m[\u001b[0m\u001b[0;34m'answered_correctly'\u001b[0m\u001b[0;34m]\u001b[0m\u001b[0;34m]\u001b[0m\u001b[0;34m.\u001b[0m\u001b[0mmean\u001b[0m\u001b[0;34m(\u001b[0m\u001b[0;34m)\u001b[0m\u001b[0;34m\u001b[0m\u001b[0;34m\u001b[0m\u001b[0m\n\u001b[0m\u001b[1;32m      2\u001b[0m \u001b[0;31m# ax = df_1['content_id'].hist()\u001b[0m\u001b[0;34m\u001b[0m\u001b[0;34m\u001b[0m\u001b[0;34m\u001b[0m\u001b[0m\n\u001b[1;32m      3\u001b[0m \u001b[0mdf_1\u001b[0m\u001b[0;34m\u001b[0m\u001b[0;34m\u001b[0m\u001b[0m\n",
            "\u001b[0;32m/usr/local/lib/python3.6/dist-packages/pandas/core/groupby/groupby.py\u001b[0m in \u001b[0;36mmean\u001b[0;34m(self, numeric_only)\u001b[0m\n\u001b[1;32m   1396\u001b[0m             \u001b[0;34m\"mean\"\u001b[0m\u001b[0;34m,\u001b[0m\u001b[0;34m\u001b[0m\u001b[0;34m\u001b[0m\u001b[0m\n\u001b[1;32m   1397\u001b[0m             \u001b[0malt\u001b[0m\u001b[0;34m=\u001b[0m\u001b[0;32mlambda\u001b[0m \u001b[0mx\u001b[0m\u001b[0;34m,\u001b[0m \u001b[0maxis\u001b[0m\u001b[0;34m:\u001b[0m \u001b[0mSeries\u001b[0m\u001b[0;34m(\u001b[0m\u001b[0mx\u001b[0m\u001b[0;34m)\u001b[0m\u001b[0;34m.\u001b[0m\u001b[0mmean\u001b[0m\u001b[0;34m(\u001b[0m\u001b[0mnumeric_only\u001b[0m\u001b[0;34m=\u001b[0m\u001b[0mnumeric_only\u001b[0m\u001b[0;34m)\u001b[0m\u001b[0;34m,\u001b[0m\u001b[0;34m\u001b[0m\u001b[0;34m\u001b[0m\u001b[0m\n\u001b[0;32m-> 1398\u001b[0;31m             \u001b[0mnumeric_only\u001b[0m\u001b[0;34m=\u001b[0m\u001b[0mnumeric_only\u001b[0m\u001b[0;34m,\u001b[0m\u001b[0;34m\u001b[0m\u001b[0;34m\u001b[0m\u001b[0m\n\u001b[0m\u001b[1;32m   1399\u001b[0m         )\n\u001b[1;32m   1400\u001b[0m \u001b[0;34m\u001b[0m\u001b[0m\n",
            "\u001b[0;32m/usr/local/lib/python3.6/dist-packages/pandas/core/groupby/generic.py\u001b[0m in \u001b[0;36m_cython_agg_general\u001b[0;34m(self, how, alt, numeric_only, min_count)\u001b[0m\n\u001b[1;32m   1020\u001b[0m     ) -> DataFrame:\n\u001b[1;32m   1021\u001b[0m         agg_blocks, agg_items = self._cython_agg_blocks(\n\u001b[0;32m-> 1022\u001b[0;31m             \u001b[0mhow\u001b[0m\u001b[0;34m,\u001b[0m \u001b[0malt\u001b[0m\u001b[0;34m=\u001b[0m\u001b[0malt\u001b[0m\u001b[0;34m,\u001b[0m \u001b[0mnumeric_only\u001b[0m\u001b[0;34m=\u001b[0m\u001b[0mnumeric_only\u001b[0m\u001b[0;34m,\u001b[0m \u001b[0mmin_count\u001b[0m\u001b[0;34m=\u001b[0m\u001b[0mmin_count\u001b[0m\u001b[0;34m\u001b[0m\u001b[0;34m\u001b[0m\u001b[0m\n\u001b[0m\u001b[1;32m   1023\u001b[0m         )\n\u001b[1;32m   1024\u001b[0m         \u001b[0;32mreturn\u001b[0m \u001b[0mself\u001b[0m\u001b[0;34m.\u001b[0m\u001b[0m_wrap_agged_blocks\u001b[0m\u001b[0;34m(\u001b[0m\u001b[0magg_blocks\u001b[0m\u001b[0;34m,\u001b[0m \u001b[0mitems\u001b[0m\u001b[0;34m=\u001b[0m\u001b[0magg_items\u001b[0m\u001b[0;34m)\u001b[0m\u001b[0;34m\u001b[0m\u001b[0;34m\u001b[0m\u001b[0m\n",
            "\u001b[0;32m/usr/local/lib/python3.6/dist-packages/pandas/core/groupby/generic.py\u001b[0m in \u001b[0;36m_cython_agg_blocks\u001b[0;34m(self, how, alt, numeric_only, min_count)\u001b[0m\n\u001b[1;32m   1128\u001b[0m \u001b[0;34m\u001b[0m\u001b[0m\n\u001b[1;32m   1129\u001b[0m         \u001b[0;32mif\u001b[0m \u001b[0;32mnot\u001b[0m \u001b[0;34m(\u001b[0m\u001b[0magg_blocks\u001b[0m \u001b[0;32mor\u001b[0m \u001b[0msplit_frames\u001b[0m\u001b[0;34m)\u001b[0m\u001b[0;34m:\u001b[0m\u001b[0;34m\u001b[0m\u001b[0;34m\u001b[0m\u001b[0m\n\u001b[0;32m-> 1130\u001b[0;31m             \u001b[0;32mraise\u001b[0m \u001b[0mDataError\u001b[0m\u001b[0;34m(\u001b[0m\u001b[0;34m\"No numeric types to aggregate\"\u001b[0m\u001b[0;34m)\u001b[0m\u001b[0;34m\u001b[0m\u001b[0;34m\u001b[0m\u001b[0m\n\u001b[0m\u001b[1;32m   1131\u001b[0m \u001b[0;34m\u001b[0m\u001b[0m\n\u001b[1;32m   1132\u001b[0m         \u001b[0;32mif\u001b[0m \u001b[0msplit_items\u001b[0m\u001b[0;34m:\u001b[0m\u001b[0;34m\u001b[0m\u001b[0;34m\u001b[0m\u001b[0m\n",
            "\u001b[0;31mDataError\u001b[0m: No numeric types to aggregate"
          ]
        }
      ]
    },
    {
      "cell_type": "code",
      "metadata": {
        "colab": {
          "base_uri": "https://localhost:8080/",
          "height": 235
        },
        "id": "qWQyWvU3l5DT",
        "outputId": "a8e43970-ac43-4d5a-9c23-b46bd130a35b"
      },
      "source": [
        "df.head()"
      ],
      "execution_count": null,
      "outputs": [
        {
          "output_type": "execute_result",
          "data": {
            "text/html": [
              "<div>\n",
              "<style scoped>\n",
              "    .dataframe tbody tr th:only-of-type {\n",
              "        vertical-align: middle;\n",
              "    }\n",
              "\n",
              "    .dataframe tbody tr th {\n",
              "        vertical-align: top;\n",
              "    }\n",
              "\n",
              "    .dataframe thead th {\n",
              "        text-align: right;\n",
              "    }\n",
              "</style>\n",
              "<table border=\"1\" class=\"dataframe\">\n",
              "  <thead>\n",
              "    <tr style=\"text-align: right;\">\n",
              "      <th></th>\n",
              "      <th>timestamp</th>\n",
              "      <th>content_id</th>\n",
              "      <th>content_type_id</th>\n",
              "      <th>task_container_id</th>\n",
              "      <th>user_answer</th>\n",
              "      <th>answered_correctly</th>\n",
              "      <th>prior_question_elapsed_time</th>\n",
              "      <th>prior_question_had_explanation</th>\n",
              "    </tr>\n",
              "    <tr>\n",
              "      <th>user_id</th>\n",
              "      <th></th>\n",
              "      <th></th>\n",
              "      <th></th>\n",
              "      <th></th>\n",
              "      <th></th>\n",
              "      <th></th>\n",
              "      <th></th>\n",
              "      <th></th>\n",
              "    </tr>\n",
              "  </thead>\n",
              "  <tbody>\n",
              "    <tr>\n",
              "      <th>13134</th>\n",
              "      <td>15092493419</td>\n",
              "      <td>2183</td>\n",
              "      <td>0</td>\n",
              "      <td>298</td>\n",
              "      <td>1</td>\n",
              "      <td>1</td>\n",
              "      <td>31666.0</td>\n",
              "      <td>True</td>\n",
              "    </tr>\n",
              "    <tr>\n",
              "      <th>24418</th>\n",
              "      <td>1622998333</td>\n",
              "      <td>316</td>\n",
              "      <td>0</td>\n",
              "      <td>111</td>\n",
              "      <td>1</td>\n",
              "      <td>1</td>\n",
              "      <td>18000.0</td>\n",
              "      <td>True</td>\n",
              "    </tr>\n",
              "    <tr>\n",
              "      <th>24418</th>\n",
              "      <td>4746279837</td>\n",
              "      <td>4005</td>\n",
              "      <td>0</td>\n",
              "      <td>999</td>\n",
              "      <td>3</td>\n",
              "      <td>1</td>\n",
              "      <td>25000.0</td>\n",
              "      <td>True</td>\n",
              "    </tr>\n",
              "    <tr>\n",
              "      <th>24418</th>\n",
              "      <td>5617471031</td>\n",
              "      <td>9371</td>\n",
              "      <td>0</td>\n",
              "      <td>1746</td>\n",
              "      <td>2</td>\n",
              "      <td>1</td>\n",
              "      <td>12500.0</td>\n",
              "      <td>True</td>\n",
              "    </tr>\n",
              "    <tr>\n",
              "      <th>24418</th>\n",
              "      <td>7056474056</td>\n",
              "      <td>1582</td>\n",
              "      <td>0</td>\n",
              "      <td>2447</td>\n",
              "      <td>3</td>\n",
              "      <td>0</td>\n",
              "      <td>27333.0</td>\n",
              "      <td>True</td>\n",
              "    </tr>\n",
              "  </tbody>\n",
              "</table>\n",
              "</div>"
            ],
            "text/plain": [
              "           timestamp  ... prior_question_had_explanation\n",
              "user_id               ...                               \n",
              "13134    15092493419  ...                           True\n",
              "24418     1622998333  ...                           True\n",
              "24418     4746279837  ...                           True\n",
              "24418     5617471031  ...                           True\n",
              "24418     7056474056  ...                           True\n",
              "\n",
              "[5 rows x 8 columns]"
            ]
          },
          "metadata": {
            "tags": []
          },
          "execution_count": 88
        }
      ]
    },
    {
      "cell_type": "code",
      "metadata": {
        "colab": {
          "base_uri": "https://localhost:8080/"
        },
        "id": "yVbtaWN_1qpF",
        "outputId": "22d3693e-a04e-40e6-e07c-7c29a3c3f45b"
      },
      "source": [
        "df.shape"
      ],
      "execution_count": null,
      "outputs": [
        {
          "output_type": "execute_result",
          "data": {
            "text/plain": [
              "(101230, 8)"
            ]
          },
          "metadata": {
            "tags": []
          },
          "execution_count": 89
        }
      ]
    },
    {
      "cell_type": "code",
      "metadata": {
        "id": "8hXsmNdf1tFJ"
      },
      "source": [
        ""
      ],
      "execution_count": null,
      "outputs": []
    },
    {
      "cell_type": "markdown",
      "metadata": {
        "id": "AZYOq5r9T6cu"
      },
      "source": [
        "##user_id vs target variable\n",
        "\n",
        "Are some users_id or groups of user_ids more likely to answer correctly than others?"
      ]
    },
    {
      "cell_type": "markdown",
      "metadata": {
        "id": "F6ShBCLCULF4"
      },
      "source": [
        "###user_id grouped by account age\n",
        "\n",
        "Do older user accounts have a higher rate of answering correctly?"
      ]
    },
    {
      "cell_type": "code",
      "metadata": {
        "colab": {
          "base_uri": "https://localhost:8080/",
          "height": 323
        },
        "id": "UInWL3qTUUVx",
        "outputId": "7be4c753-beff-437b-cd08-580e6083c82a"
      },
      "source": [
        "# We can group the users by account age by finding the answer for each user with the largest stamp. \n",
        "user_id_timestamp_max = df[df['user_id'] == df.groupby('user_id')]"
      ],
      "execution_count": 80,
      "outputs": [
        {
          "output_type": "error",
          "ename": "ValueError",
          "evalue": "ignored",
          "traceback": [
            "\u001b[0;31m---------------------------------------------------------------------------\u001b[0m",
            "\u001b[0;31mValueError\u001b[0m                                Traceback (most recent call last)",
            "\u001b[0;32m<ipython-input-80-f93221d3d2e8>\u001b[0m in \u001b[0;36m<module>\u001b[0;34m()\u001b[0m\n\u001b[1;32m      1\u001b[0m \u001b[0;31m# We can group the users by account age by finding the answer for each user with the largest stamp.\u001b[0m\u001b[0;34m\u001b[0m\u001b[0;34m\u001b[0m\u001b[0;34m\u001b[0m\u001b[0m\n\u001b[0;32m----> 2\u001b[0;31m \u001b[0muser_id_timestamp_max\u001b[0m \u001b[0;34m=\u001b[0m \u001b[0mdf\u001b[0m\u001b[0;34m[\u001b[0m\u001b[0mdf\u001b[0m\u001b[0;34m[\u001b[0m\u001b[0;34m'user_id'\u001b[0m\u001b[0;34m]\u001b[0m \u001b[0;34m==\u001b[0m \u001b[0mdf\u001b[0m\u001b[0;34m.\u001b[0m\u001b[0mgroupby\u001b[0m\u001b[0;34m(\u001b[0m\u001b[0;34m'user_id'\u001b[0m\u001b[0;34m)\u001b[0m\u001b[0;34m]\u001b[0m\u001b[0;34m\u001b[0m\u001b[0;34m\u001b[0m\u001b[0m\n\u001b[0m",
            "\u001b[0;32m/usr/local/lib/python3.6/dist-packages/pandas/core/ops/common.py\u001b[0m in \u001b[0;36mnew_method\u001b[0;34m(self, other)\u001b[0m\n\u001b[1;32m     63\u001b[0m         \u001b[0mother\u001b[0m \u001b[0;34m=\u001b[0m \u001b[0mitem_from_zerodim\u001b[0m\u001b[0;34m(\u001b[0m\u001b[0mother\u001b[0m\u001b[0;34m)\u001b[0m\u001b[0;34m\u001b[0m\u001b[0;34m\u001b[0m\u001b[0m\n\u001b[1;32m     64\u001b[0m \u001b[0;34m\u001b[0m\u001b[0m\n\u001b[0;32m---> 65\u001b[0;31m         \u001b[0;32mreturn\u001b[0m \u001b[0mmethod\u001b[0m\u001b[0;34m(\u001b[0m\u001b[0mself\u001b[0m\u001b[0;34m,\u001b[0m \u001b[0mother\u001b[0m\u001b[0;34m)\u001b[0m\u001b[0;34m\u001b[0m\u001b[0;34m\u001b[0m\u001b[0m\n\u001b[0m\u001b[1;32m     66\u001b[0m \u001b[0;34m\u001b[0m\u001b[0m\n\u001b[1;32m     67\u001b[0m     \u001b[0;32mreturn\u001b[0m \u001b[0mnew_method\u001b[0m\u001b[0;34m\u001b[0m\u001b[0;34m\u001b[0m\u001b[0m\n",
            "\u001b[0;32m/usr/local/lib/python3.6/dist-packages/pandas/core/ops/__init__.py\u001b[0m in \u001b[0;36mwrapper\u001b[0;34m(self, other)\u001b[0m\n\u001b[1;32m    368\u001b[0m         \u001b[0mrvalues\u001b[0m \u001b[0;34m=\u001b[0m \u001b[0mextract_array\u001b[0m\u001b[0;34m(\u001b[0m\u001b[0mother\u001b[0m\u001b[0;34m,\u001b[0m \u001b[0mextract_numpy\u001b[0m\u001b[0;34m=\u001b[0m\u001b[0;32mTrue\u001b[0m\u001b[0;34m)\u001b[0m\u001b[0;34m\u001b[0m\u001b[0;34m\u001b[0m\u001b[0m\n\u001b[1;32m    369\u001b[0m \u001b[0;34m\u001b[0m\u001b[0m\n\u001b[0;32m--> 370\u001b[0;31m         \u001b[0mres_values\u001b[0m \u001b[0;34m=\u001b[0m \u001b[0mcomparison_op\u001b[0m\u001b[0;34m(\u001b[0m\u001b[0mlvalues\u001b[0m\u001b[0;34m,\u001b[0m \u001b[0mrvalues\u001b[0m\u001b[0;34m,\u001b[0m \u001b[0mop\u001b[0m\u001b[0;34m)\u001b[0m\u001b[0;34m\u001b[0m\u001b[0;34m\u001b[0m\u001b[0m\n\u001b[0m\u001b[1;32m    371\u001b[0m \u001b[0;34m\u001b[0m\u001b[0m\n\u001b[1;32m    372\u001b[0m         \u001b[0;32mreturn\u001b[0m \u001b[0mself\u001b[0m\u001b[0;34m.\u001b[0m\u001b[0m_construct_result\u001b[0m\u001b[0;34m(\u001b[0m\u001b[0mres_values\u001b[0m\u001b[0;34m,\u001b[0m \u001b[0mname\u001b[0m\u001b[0;34m=\u001b[0m\u001b[0mres_name\u001b[0m\u001b[0;34m)\u001b[0m\u001b[0;34m\u001b[0m\u001b[0;34m\u001b[0m\u001b[0m\n",
            "\u001b[0;32m/usr/local/lib/python3.6/dist-packages/pandas/core/ops/array_ops.py\u001b[0m in \u001b[0;36mcomparison_op\u001b[0;34m(left, right, op)\u001b[0m\n\u001b[1;32m    228\u001b[0m     \u001b[0;32mif\u001b[0m \u001b[0mshould_extension_dispatch\u001b[0m\u001b[0;34m(\u001b[0m\u001b[0mlvalues\u001b[0m\u001b[0;34m,\u001b[0m \u001b[0mrvalues\u001b[0m\u001b[0;34m)\u001b[0m\u001b[0;34m:\u001b[0m\u001b[0;34m\u001b[0m\u001b[0;34m\u001b[0m\u001b[0m\n\u001b[1;32m    229\u001b[0m         \u001b[0;31m# Call the method on lvalues\u001b[0m\u001b[0;34m\u001b[0m\u001b[0;34m\u001b[0m\u001b[0;34m\u001b[0m\u001b[0m\n\u001b[0;32m--> 230\u001b[0;31m         \u001b[0mres_values\u001b[0m \u001b[0;34m=\u001b[0m \u001b[0mop\u001b[0m\u001b[0;34m(\u001b[0m\u001b[0mlvalues\u001b[0m\u001b[0;34m,\u001b[0m \u001b[0mrvalues\u001b[0m\u001b[0;34m)\u001b[0m\u001b[0;34m\u001b[0m\u001b[0;34m\u001b[0m\u001b[0m\n\u001b[0m\u001b[1;32m    231\u001b[0m \u001b[0;34m\u001b[0m\u001b[0m\n\u001b[1;32m    232\u001b[0m     \u001b[0;32melif\u001b[0m \u001b[0mis_scalar\u001b[0m\u001b[0;34m(\u001b[0m\u001b[0mrvalues\u001b[0m\u001b[0;34m)\u001b[0m \u001b[0;32mand\u001b[0m \u001b[0misna\u001b[0m\u001b[0;34m(\u001b[0m\u001b[0mrvalues\u001b[0m\u001b[0;34m)\u001b[0m\u001b[0;34m:\u001b[0m\u001b[0;34m\u001b[0m\u001b[0;34m\u001b[0m\u001b[0m\n",
            "\u001b[0;32m/usr/local/lib/python3.6/dist-packages/pandas/core/ops/common.py\u001b[0m in \u001b[0;36mnew_method\u001b[0;34m(self, other)\u001b[0m\n\u001b[1;32m     63\u001b[0m         \u001b[0mother\u001b[0m \u001b[0;34m=\u001b[0m \u001b[0mitem_from_zerodim\u001b[0m\u001b[0;34m(\u001b[0m\u001b[0mother\u001b[0m\u001b[0;34m)\u001b[0m\u001b[0;34m\u001b[0m\u001b[0;34m\u001b[0m\u001b[0m\n\u001b[1;32m     64\u001b[0m \u001b[0;34m\u001b[0m\u001b[0m\n\u001b[0;32m---> 65\u001b[0;31m         \u001b[0;32mreturn\u001b[0m \u001b[0mmethod\u001b[0m\u001b[0;34m(\u001b[0m\u001b[0mself\u001b[0m\u001b[0;34m,\u001b[0m \u001b[0mother\u001b[0m\u001b[0;34m)\u001b[0m\u001b[0;34m\u001b[0m\u001b[0;34m\u001b[0m\u001b[0m\n\u001b[0m\u001b[1;32m     66\u001b[0m \u001b[0;34m\u001b[0m\u001b[0m\n\u001b[1;32m     67\u001b[0m     \u001b[0;32mreturn\u001b[0m \u001b[0mnew_method\u001b[0m\u001b[0;34m\u001b[0m\u001b[0;34m\u001b[0m\u001b[0m\n",
            "\u001b[0;32m/usr/local/lib/python3.6/dist-packages/pandas/core/arrays/categorical.py\u001b[0m in \u001b[0;36mfunc\u001b[0;34m(self, other)\u001b[0m\n\u001b[1;32m     70\u001b[0m         \u001b[0;32mif\u001b[0m \u001b[0mis_list_like\u001b[0m\u001b[0;34m(\u001b[0m\u001b[0mother\u001b[0m\u001b[0;34m)\u001b[0m \u001b[0;32mand\u001b[0m \u001b[0mlen\u001b[0m\u001b[0;34m(\u001b[0m\u001b[0mother\u001b[0m\u001b[0;34m)\u001b[0m \u001b[0;34m!=\u001b[0m \u001b[0mlen\u001b[0m\u001b[0;34m(\u001b[0m\u001b[0mself\u001b[0m\u001b[0;34m)\u001b[0m\u001b[0;34m:\u001b[0m\u001b[0;34m\u001b[0m\u001b[0;34m\u001b[0m\u001b[0m\n\u001b[1;32m     71\u001b[0m             \u001b[0;31m# TODO: Could this fail if the categories are listlike objects?\u001b[0m\u001b[0;34m\u001b[0m\u001b[0;34m\u001b[0m\u001b[0;34m\u001b[0m\u001b[0m\n\u001b[0;32m---> 72\u001b[0;31m             \u001b[0;32mraise\u001b[0m \u001b[0mValueError\u001b[0m\u001b[0;34m(\u001b[0m\u001b[0;34m\"Lengths must match.\"\u001b[0m\u001b[0;34m)\u001b[0m\u001b[0;34m\u001b[0m\u001b[0;34m\u001b[0m\u001b[0m\n\u001b[0m\u001b[1;32m     73\u001b[0m \u001b[0;34m\u001b[0m\u001b[0m\n\u001b[1;32m     74\u001b[0m         \u001b[0;32mif\u001b[0m \u001b[0;32mnot\u001b[0m \u001b[0mself\u001b[0m\u001b[0;34m.\u001b[0m\u001b[0mordered\u001b[0m\u001b[0;34m:\u001b[0m\u001b[0;34m\u001b[0m\u001b[0;34m\u001b[0m\u001b[0m\n",
            "\u001b[0;31mValueError\u001b[0m: Lengths must match."
          ]
        }
      ]
    },
    {
      "cell_type": "markdown",
      "metadata": {
        "id": "fvh8NpunViX9"
      },
      "source": [
        "###user_id grouped by number of entries"
      ]
    },
    {
      "cell_type": "code",
      "metadata": {
        "id": "eY523kS0Z_8J"
      },
      "source": [
        "#Count entries by each user\n",
        "df_user_id = pd.DataFrame(df['user_id'].astype(str))"
      ],
      "execution_count": null,
      "outputs": []
    },
    {
      "cell_type": "code",
      "metadata": {
        "id": "cdSQV2TpcNXH"
      },
      "source": [
        ""
      ],
      "execution_count": null,
      "outputs": []
    },
    {
      "cell_type": "code",
      "metadata": {
        "colab": {
          "base_uri": "https://localhost:8080/"
        },
        "id": "DPzQXiIpV7y2",
        "outputId": "b6df7226-e5de-47f8-9306-58cb335d8f54"
      },
      "source": [
        "#Divide into 10 quantiles\n",
        "user_id_number_of_entries_quantile = pd.qcut(df['user_id'].value_counts(), 9, labels=range(9))\n",
        "user_id_number_of_entries_quantile.head()"
      ],
      "execution_count": 130,
      "outputs": [
        {
          "output_type": "execute_result",
          "data": {
            "text/plain": [
              "801103753     8\n",
              "1478712595    8\n",
              "1842816145    8\n",
              "455973631     8\n",
              "1660941992    8\n",
              "Name: user_id, dtype: category\n",
              "Categories (9, int64): [0 < 1 < 2 < 3 ... 5 < 6 < 7 < 8]"
            ]
          },
          "metadata": {
            "tags": []
          },
          "execution_count": 130
        }
      ]
    },
    {
      "cell_type": "code",
      "metadata": {
        "colab": {
          "base_uri": "https://localhost:8080/",
          "height": 279
        },
        "id": "gbBWrSnqWD9_",
        "outputId": "b5244f5c-e1d6-468c-b504-8490ccdc4dd8"
      },
      "source": [
        "user_id_number_of_entries_quantile.value_counts().plot(kind='bar')"
      ],
      "execution_count": 131,
      "outputs": [
        {
          "output_type": "execute_result",
          "data": {
            "text/plain": [
              "<matplotlib.axes._subplots.AxesSubplot at 0x7f11ad6fbef0>"
            ]
          },
          "metadata": {
            "tags": []
          },
          "execution_count": 131
        },
        {
          "output_type": "display_data",
          "data": {
            "image/png": "[encoded data removed]",
            "text/plain": [
              "<Figure size 432x288 with 1 Axes>"
            ]
          },
          "metadata": {
            "tags": [],
            "needs_background": "light"
          }
        }
      ]
    },
    {
      "cell_type": "code",
      "metadata": {
        "id": "sb-r49KhaLDO"
      },
      "source": [
        ""
      ],
      "execution_count": null,
      "outputs": []
    }
  ]
}