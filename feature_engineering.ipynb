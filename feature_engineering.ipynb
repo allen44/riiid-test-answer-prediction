{
  "nbformat": 4,
  "nbformat_minor": 0,
  "metadata": {
    "colab": {
      "name": "feature_engineering.ipynb",
      "provenance": [],
      "collapsed_sections": [],
      "machine_shape": "hm",
      "mount_file_id": "1m1odx4VOdXGk8SddV_9tYq1siyJqBtkm",
      "authorship_tag": "ABX9TyPXppSCuuCaWlPqgOeQ9GwY",
      "include_colab_link": true
    },
    "kernelspec": {
      "name": "python3",
      "display_name": "Python 3"
    }
  },
  "cells": [
    {
      "cell_type": "markdown",
      "metadata": {
        "id": "view-in-github",
        "colab_type": "text"
      },
      "source": [
        "<a href=\"https://colab.research.google.com/github/allen44/riiid-test-answer-prediction/blob/main/feature_engineering.ipynb\" target=\"_parent\"><img src=\"https://colab.research.google.com/assets/colab-badge.svg\" alt=\"Open In Colab\"/></a>"
      ]
    },
    {
      "cell_type": "markdown",
      "metadata": {
        "id": "20OyF4j3xy6M"
      },
      "source": [
        "# Imports"
      ]
    },
    {
      "cell_type": "markdown",
      "metadata": {
        "id": "FPd9p7Shyjkp"
      },
      "source": [
        ""
      ]
    },
    {
      "cell_type": "code",
      "metadata": {
        "colab": {
          "base_uri": "https://localhost:8080/",
          "height": 52
        },
        "id": "IqKo-hGAHKZA",
        "outputId": "8d2690dd-d2c9-42d6-cc60-a0394979e8e2"
      },
      "source": [
        "import pandas as pd\r\n",
        "import numpy as np\r\n",
        "import matplotlib.pyplot as plt\r\n",
        "import seaborn as sns\r\n",
        "\r\n",
        "%cd /content/drive/MyDrive/Colab Notebooks/riiid-test-answer-prediction/\r\n",
        "%pwd"
      ],
      "execution_count": 1,
      "outputs": [
        {
          "output_type": "stream",
          "text": [
            "/content/drive/MyDrive/Colab Notebooks/riiid-test-answer-prediction\n"
          ],
          "name": "stdout"
        },
        {
          "output_type": "execute_result",
          "data": {
            "application/vnd.google.colaboratory.intrinsic+json": {
              "type": "string"
            },
            "text/plain": [
              "'/content/drive/MyDrive/Colab Notebooks/riiid-test-answer-prediction'"
            ]
          },
          "metadata": {
            "tags": []
          },
          "execution_count": 1
        }
      ]
    },
    {
      "cell_type": "markdown",
      "metadata": {
        "id": "2jHUz3V8-zm7"
      },
      "source": [
        "## Preprocessed data"
      ]
    },
    {
      "cell_type": "code",
      "metadata": {
        "id": "Ab6dq5DybA-C"
      },
      "source": [
        "import pickle\n",
        "from pathlib import Path\n",
        "\n",
        "# #Define data paths\n",
        "df_train_preprocessed_path = Path('/content/drive/MyDrive/Colab Notebooks/riiid-test-answer-prediction/data/intermediate/df_train_preprocessed.pkl.gzip')\n",
        "df_lectures_preprocessed_path = Path('/content/drive/MyDrive/Colab Notebooks/riiid-test-answer-prediction/data/intermediate/df_lectures_preprocessed.pkl.gzip')\n",
        "df_questions_preprocessed_path = Path('/content/drive/MyDrive/Colab Notebooks/riiid-test-answer-prediction/data/intermediate/df_questions_preprocessed.pkl.gzip')"
      ],
      "execution_count": 2,
      "outputs": []
    },
    {
      "cell_type": "markdown",
      "metadata": {
        "id": "Y5TsYvtHTKe4"
      },
      "source": [
        "Using our insights gained from the EDA, when can import the data from csv with the best preprocessing for feature engineering."
      ]
    },
    {
      "cell_type": "code",
      "metadata": {
        "id": "1VU3pqWF36k1",
        "colab": {
          "base_uri": "https://localhost:8080/"
        },
        "outputId": "9f1b27c7-0c43-467e-c311-6990cfa24ad3"
      },
      "source": [
        "with open(df_train_preprocessed_path, 'rb') as f:\n",
        "  df_train = pickle.load(f)\n",
        "\n",
        "with open(df_lectures_preprocessed_path, 'rb') as f:\n",
        "  df_lectures = pickle.load(f)\n",
        "\n",
        "with open(df_questions_preprocessed_path, 'rb') as f:\n",
        "  df_questions = pickle.load(f)\n",
        "\n",
        "assert df_train['content_id'].dtype == df_lectures['lecture_id'].dtype\n",
        "assert df_questions['question_id'].dtype == df_lectures['lecture_id'].dtype\n",
        "\n",
        "df_train.shape, df_lectures.shape, df_questions.shape "
      ],
      "execution_count": 3,
      "outputs": [
        {
          "output_type": "execute_result",
          "data": {
            "text/plain": [
              "((101230331, 9), (418, 4), (13522, 192))"
            ]
          },
          "metadata": {
            "tags": []
          },
          "execution_count": 3
        }
      ]
    },
    {
      "cell_type": "code",
      "metadata": {
        "colab": {
          "base_uri": "https://localhost:8080/",
          "height": 235
        },
        "id": "YhB-SUIV7lZC",
        "outputId": "9d07772b-e154-42f7-c3fa-89c89a7f098c"
      },
      "source": [
        "# Use a subset of df_train\r\n",
        "df_train = df_train[df_train.index % 1000 == 0]\r\n",
        "df_train.head()"
      ],
      "execution_count": 5,
      "outputs": [
        {
          "output_type": "execute_result",
          "data": {
            "text/html": [
              "<div>\n",
              "<style scoped>\n",
              "    .dataframe tbody tr th:only-of-type {\n",
              "        vertical-align: middle;\n",
              "    }\n",
              "\n",
              "    .dataframe tbody tr th {\n",
              "        vertical-align: top;\n",
              "    }\n",
              "\n",
              "    .dataframe thead th {\n",
              "        text-align: right;\n",
              "    }\n",
              "</style>\n",
              "<table border=\"1\" class=\"dataframe\">\n",
              "  <thead>\n",
              "    <tr style=\"text-align: right;\">\n",
              "      <th></th>\n",
              "      <th>timestamp</th>\n",
              "      <th>user_id</th>\n",
              "      <th>content_id</th>\n",
              "      <th>content_type_id</th>\n",
              "      <th>task_container_id</th>\n",
              "      <th>user_answer</th>\n",
              "      <th>answered_correctly</th>\n",
              "      <th>prior_question_elapsed_time</th>\n",
              "      <th>prior_question_had_explanation</th>\n",
              "    </tr>\n",
              "    <tr>\n",
              "      <th>row_id</th>\n",
              "      <th></th>\n",
              "      <th></th>\n",
              "      <th></th>\n",
              "      <th></th>\n",
              "      <th></th>\n",
              "      <th></th>\n",
              "      <th></th>\n",
              "      <th></th>\n",
              "      <th></th>\n",
              "    </tr>\n",
              "  </thead>\n",
              "  <tbody>\n",
              "    <tr>\n",
              "      <th>0</th>\n",
              "      <td>2018-01-02 03:03:47.951</td>\n",
              "      <td>115</td>\n",
              "      <td>5692</td>\n",
              "      <td>0</td>\n",
              "      <td>1</td>\n",
              "      <td>3</td>\n",
              "      <td>1</td>\n",
              "      <td>NaN</td>\n",
              "      <td>True</td>\n",
              "    </tr>\n",
              "    <tr>\n",
              "      <th>1000</th>\n",
              "      <td>2018-06-25 19:32:50.920</td>\n",
              "      <td>13134</td>\n",
              "      <td>9155</td>\n",
              "      <td>0</td>\n",
              "      <td>299</td>\n",
              "      <td>3</td>\n",
              "      <td>1</td>\n",
              "      <td>27666.0</td>\n",
              "      <td>True</td>\n",
              "    </tr>\n",
              "    <tr>\n",
              "      <th>2000</th>\n",
              "      <td>2018-01-20 21:54:35.915</td>\n",
              "      <td>24418</td>\n",
              "      <td>476</td>\n",
              "      <td>0</td>\n",
              "      <td>112</td>\n",
              "      <td>0</td>\n",
              "      <td>1</td>\n",
              "      <td>15000.0</td>\n",
              "      <td>True</td>\n",
              "    </tr>\n",
              "    <tr>\n",
              "      <th>3000</th>\n",
              "      <td>2018-02-26 01:28:59.702</td>\n",
              "      <td>24418</td>\n",
              "      <td>5168</td>\n",
              "      <td>0</td>\n",
              "      <td>1000</td>\n",
              "      <td>1</td>\n",
              "      <td>1</td>\n",
              "      <td>6000.0</td>\n",
              "      <td>True</td>\n",
              "    </tr>\n",
              "    <tr>\n",
              "      <th>4000</th>\n",
              "      <td>2018-03-08 03:28:44.125</td>\n",
              "      <td>24418</td>\n",
              "      <td>3746</td>\n",
              "      <td>0</td>\n",
              "      <td>1747</td>\n",
              "      <td>3</td>\n",
              "      <td>0</td>\n",
              "      <td>27000.0</td>\n",
              "      <td>True</td>\n",
              "    </tr>\n",
              "  </tbody>\n",
              "</table>\n",
              "</div>"
            ],
            "text/plain": [
              "                     timestamp  ... prior_question_had_explanation\n",
              "row_id                          ...                               \n",
              "0      2018-01-02 03:03:47.951  ...                           True\n",
              "1000   2018-06-25 19:32:50.920  ...                           True\n",
              "2000   2018-01-20 21:54:35.915  ...                           True\n",
              "3000   2018-02-26 01:28:59.702  ...                           True\n",
              "4000   2018-03-08 03:28:44.125  ...                           True\n",
              "\n",
              "[5 rows x 9 columns]"
            ]
          },
          "metadata": {
            "tags": []
          },
          "execution_count": 5
        }
      ]
    },
    {
      "cell_type": "markdown",
      "metadata": {
        "id": "cKJHkGivfcHC"
      },
      "source": [
        "## Manually add features"
      ]
    },
    {
      "cell_type": "markdown",
      "metadata": {
        "id": "wQZ8qSCVyn3e"
      },
      "source": [
        "## Install and import featuretools"
      ]
    },
    {
      "cell_type": "code",
      "metadata": {
        "id": "Mu4f-tZzV2iG"
      },
      "source": [
        "# % pip install featuretools dask distributed tornado\r\n",
        "import featuretools as ft"
      ],
      "execution_count": 10,
      "outputs": []
    },
    {
      "cell_type": "markdown",
      "metadata": {
        "id": "HZ9witbSzcwH"
      },
      "source": [
        "# Prepare data\r\n",
        "\r\n",
        "First, we specify a dictionary with all the entities in our dataset."
      ]
    },
    {
      "cell_type": "code",
      "metadata": {
        "colab": {
          "base_uri": "https://localhost:8080/"
        },
        "id": "3nJkEAVd2Ouj",
        "outputId": "373d6f91-c1f3-4c90-8213-6c04c99ce2a9"
      },
      "source": [
        "# Define entity set\r\n",
        "es = ft.EntitySet()\r\n",
        "\r\n",
        "# Add df_train to entity set\r\n",
        "es.entity_from_dataframe(entity_id='train', \r\n",
        "                         dataframe=df_train,\r\n",
        "                         index='row_id',\r\n",
        "                         time_index='timestamp')"
      ],
      "execution_count": 11,
      "outputs": [
        {
          "output_type": "execute_result",
          "data": {
            "text/plain": [
              "Entityset: None\n",
              "  Entities:\n",
              "    train [Rows: 101231, Columns: 10]\n",
              "  Relationships:\n",
              "    No relationships"
            ]
          },
          "metadata": {
            "tags": []
          },
          "execution_count": 11
        }
      ]
    },
    {
      "cell_type": "code",
      "metadata": {
        "colab": {
          "base_uri": "https://localhost:8080/"
        },
        "id": "pr908JOJ3AbX",
        "outputId": "0c55c0a4-d68e-4605-e15c-08c324179814"
      },
      "source": [
        "# Add df_lectures to entity set\r\n",
        "es.entity_from_dataframe(entity_id='lectures', dataframe=df_lectures, index='lecture_id')"
      ],
      "execution_count": 12,
      "outputs": [
        {
          "output_type": "execute_result",
          "data": {
            "text/plain": [
              "Entityset: None\n",
              "  Entities:\n",
              "    train [Rows: 101231, Columns: 10]\n",
              "    lectures [Rows: 418, Columns: 4]\n",
              "  Relationships:\n",
              "    No relationships"
            ]
          },
          "metadata": {
            "tags": []
          },
          "execution_count": 12
        }
      ]
    },
    {
      "cell_type": "code",
      "metadata": {
        "colab": {
          "base_uri": "https://localhost:8080/"
        },
        "id": "S61iTjo758Vo",
        "outputId": "2ba5c053-0ebc-40af-b9ba-315e7d691f1c"
      },
      "source": [
        "# Add df_questions to entity set\r\n",
        "es.entity_from_dataframe(entity_id='questions', dataframe=df_questions, index='question_id')"
      ],
      "execution_count": 13,
      "outputs": [
        {
          "output_type": "execute_result",
          "data": {
            "text/plain": [
              "Entityset: None\n",
              "  Entities:\n",
              "    train [Rows: 101231, Columns: 10]\n",
              "    lectures [Rows: 418, Columns: 4]\n",
              "    questions [Rows: 13522, Columns: 192]\n",
              "  Relationships:\n",
              "    No relationships"
            ]
          },
          "metadata": {
            "tags": []
          },
          "execution_count": 13
        }
      ]
    },
    {
      "cell_type": "code",
      "metadata": {
        "colab": {
          "base_uri": "https://localhost:8080/"
        },
        "id": "uqWxQVrF6DNy",
        "outputId": "bfc204dd-2678-4ca4-9f85-641e6e4b236c"
      },
      "source": [
        "es['train'].variables"
      ],
      "execution_count": 14,
      "outputs": [
        {
          "output_type": "execute_result",
          "data": {
            "text/plain": [
              "[<Variable: row_id (dtype = index)>,\n",
              " <Variable: timestamp (dtype: datetime_time_index, format: None)>,\n",
              " <Variable: user_id (dtype = categorical)>,\n",
              " <Variable: content_id (dtype = categorical)>,\n",
              " <Variable: content_type_id (dtype = categorical)>,\n",
              " <Variable: task_container_id (dtype = categorical)>,\n",
              " <Variable: user_answer (dtype = categorical)>,\n",
              " <Variable: answered_correctly (dtype = categorical)>,\n",
              " <Variable: prior_question_elapsed_time (dtype = numeric)>,\n",
              " <Variable: prior_question_had_explanation (dtype = boolean)>]"
            ]
          },
          "metadata": {
            "tags": []
          },
          "execution_count": 14
        }
      ]
    },
    {
      "cell_type": "code",
      "metadata": {
        "colab": {
          "base_uri": "https://localhost:8080/"
        },
        "id": "QuKl9EKU6Is3",
        "outputId": "be3c09c1-10fd-4284-e20e-933d801eb85c"
      },
      "source": [
        "es['lectures'].variables"
      ],
      "execution_count": 15,
      "outputs": [
        {
          "output_type": "execute_result",
          "data": {
            "text/plain": [
              "[<Variable: lecture_id (dtype = index)>,\n",
              " <Variable: tag (dtype = categorical)>,\n",
              " <Variable: part (dtype = categorical)>,\n",
              " <Variable: type_of (dtype = categorical)>]"
            ]
          },
          "metadata": {
            "tags": []
          },
          "execution_count": 15
        }
      ]
    },
    {
      "cell_type": "code",
      "metadata": {
        "colab": {
          "base_uri": "https://localhost:8080/"
        },
        "id": "rHhUEci9-E5f",
        "outputId": "ec42e488-8934-4ec3-cdbf-ccc02403bcba"
      },
      "source": [
        "es['questions'].variables"
      ],
      "execution_count": 16,
      "outputs": [
        {
          "output_type": "execute_result",
          "data": {
            "text/plain": [
              "[<Variable: question_id (dtype = index)>,\n",
              " <Variable: bundle_id (dtype = categorical)>,\n",
              " <Variable: correct_answer (dtype = categorical)>,\n",
              " <Variable: part (dtype = categorical)>,\n",
              " <Variable: 0 (dtype = boolean)>,\n",
              " <Variable: 1 (dtype = boolean)>,\n",
              " <Variable: 10 (dtype = boolean)>,\n",
              " <Variable: 100 (dtype = boolean)>,\n",
              " <Variable: 101 (dtype = boolean)>,\n",
              " <Variable: 102 (dtype = boolean)>,\n",
              " <Variable: 103 (dtype = boolean)>,\n",
              " <Variable: 104 (dtype = boolean)>,\n",
              " <Variable: 105 (dtype = boolean)>,\n",
              " <Variable: 106 (dtype = boolean)>,\n",
              " <Variable: 107 (dtype = boolean)>,\n",
              " <Variable: 108 (dtype = boolean)>,\n",
              " <Variable: 109 (dtype = boolean)>,\n",
              " <Variable: 11 (dtype = boolean)>,\n",
              " <Variable: 110 (dtype = boolean)>,\n",
              " <Variable: 111 (dtype = boolean)>,\n",
              " <Variable: 112 (dtype = boolean)>,\n",
              " <Variable: 113 (dtype = boolean)>,\n",
              " <Variable: 114 (dtype = boolean)>,\n",
              " <Variable: 115 (dtype = boolean)>,\n",
              " <Variable: 116 (dtype = boolean)>,\n",
              " <Variable: 117 (dtype = boolean)>,\n",
              " <Variable: 118 (dtype = boolean)>,\n",
              " <Variable: 119 (dtype = boolean)>,\n",
              " <Variable: 12 (dtype = boolean)>,\n",
              " <Variable: 120 (dtype = boolean)>,\n",
              " <Variable: 121 (dtype = boolean)>,\n",
              " <Variable: 122 (dtype = boolean)>,\n",
              " <Variable: 123 (dtype = boolean)>,\n",
              " <Variable: 124 (dtype = boolean)>,\n",
              " <Variable: 125 (dtype = boolean)>,\n",
              " <Variable: 126 (dtype = boolean)>,\n",
              " <Variable: 127 (dtype = boolean)>,\n",
              " <Variable: 128 (dtype = boolean)>,\n",
              " <Variable: 129 (dtype = boolean)>,\n",
              " <Variable: 13 (dtype = boolean)>,\n",
              " <Variable: 130 (dtype = boolean)>,\n",
              " <Variable: 131 (dtype = boolean)>,\n",
              " <Variable: 132 (dtype = boolean)>,\n",
              " <Variable: 133 (dtype = boolean)>,\n",
              " <Variable: 134 (dtype = boolean)>,\n",
              " <Variable: 135 (dtype = boolean)>,\n",
              " <Variable: 136 (dtype = boolean)>,\n",
              " <Variable: 137 (dtype = boolean)>,\n",
              " <Variable: 138 (dtype = boolean)>,\n",
              " <Variable: 139 (dtype = boolean)>,\n",
              " <Variable: 14 (dtype = boolean)>,\n",
              " <Variable: 140 (dtype = boolean)>,\n",
              " <Variable: 141 (dtype = boolean)>,\n",
              " <Variable: 142 (dtype = boolean)>,\n",
              " <Variable: 143 (dtype = boolean)>,\n",
              " <Variable: 144 (dtype = boolean)>,\n",
              " <Variable: 145 (dtype = boolean)>,\n",
              " <Variable: 146 (dtype = boolean)>,\n",
              " <Variable: 147 (dtype = boolean)>,\n",
              " <Variable: 148 (dtype = boolean)>,\n",
              " <Variable: 149 (dtype = boolean)>,\n",
              " <Variable: 15 (dtype = boolean)>,\n",
              " <Variable: 150 (dtype = boolean)>,\n",
              " <Variable: 151 (dtype = boolean)>,\n",
              " <Variable: 152 (dtype = boolean)>,\n",
              " <Variable: 153 (dtype = boolean)>,\n",
              " <Variable: 154 (dtype = boolean)>,\n",
              " <Variable: 155 (dtype = boolean)>,\n",
              " <Variable: 156 (dtype = boolean)>,\n",
              " <Variable: 157 (dtype = boolean)>,\n",
              " <Variable: 158 (dtype = boolean)>,\n",
              " <Variable: 159 (dtype = boolean)>,\n",
              " <Variable: 16 (dtype = boolean)>,\n",
              " <Variable: 160 (dtype = boolean)>,\n",
              " <Variable: 161 (dtype = boolean)>,\n",
              " <Variable: 162 (dtype = boolean)>,\n",
              " <Variable: 163 (dtype = boolean)>,\n",
              " <Variable: 164 (dtype = boolean)>,\n",
              " <Variable: 165 (dtype = boolean)>,\n",
              " <Variable: 166 (dtype = boolean)>,\n",
              " <Variable: 167 (dtype = boolean)>,\n",
              " <Variable: 168 (dtype = boolean)>,\n",
              " <Variable: 169 (dtype = boolean)>,\n",
              " <Variable: 17 (dtype = boolean)>,\n",
              " <Variable: 170 (dtype = boolean)>,\n",
              " <Variable: 171 (dtype = boolean)>,\n",
              " <Variable: 172 (dtype = boolean)>,\n",
              " <Variable: 173 (dtype = boolean)>,\n",
              " <Variable: 174 (dtype = boolean)>,\n",
              " <Variable: 175 (dtype = boolean)>,\n",
              " <Variable: 176 (dtype = boolean)>,\n",
              " <Variable: 177 (dtype = boolean)>,\n",
              " <Variable: 178 (dtype = boolean)>,\n",
              " <Variable: 179 (dtype = boolean)>,\n",
              " <Variable: 18 (dtype = boolean)>,\n",
              " <Variable: 180 (dtype = boolean)>,\n",
              " <Variable: 181 (dtype = boolean)>,\n",
              " <Variable: 182 (dtype = boolean)>,\n",
              " <Variable: 183 (dtype = boolean)>,\n",
              " <Variable: 184 (dtype = boolean)>,\n",
              " <Variable: 185 (dtype = boolean)>,\n",
              " <Variable: 186 (dtype = boolean)>,\n",
              " <Variable: 187 (dtype = boolean)>,\n",
              " <Variable: 19 (dtype = boolean)>,\n",
              " <Variable: 2 (dtype = boolean)>,\n",
              " <Variable: 20 (dtype = boolean)>,\n",
              " <Variable: 21 (dtype = boolean)>,\n",
              " <Variable: 22 (dtype = boolean)>,\n",
              " <Variable: 23 (dtype = boolean)>,\n",
              " <Variable: 24 (dtype = boolean)>,\n",
              " <Variable: 25 (dtype = boolean)>,\n",
              " <Variable: 26 (dtype = boolean)>,\n",
              " <Variable: 27 (dtype = boolean)>,\n",
              " <Variable: 28 (dtype = boolean)>,\n",
              " <Variable: 29 (dtype = boolean)>,\n",
              " <Variable: 3 (dtype = boolean)>,\n",
              " <Variable: 30 (dtype = boolean)>,\n",
              " <Variable: 31 (dtype = boolean)>,\n",
              " <Variable: 32 (dtype = boolean)>,\n",
              " <Variable: 33 (dtype = boolean)>,\n",
              " <Variable: 34 (dtype = boolean)>,\n",
              " <Variable: 35 (dtype = boolean)>,\n",
              " <Variable: 36 (dtype = boolean)>,\n",
              " <Variable: 37 (dtype = boolean)>,\n",
              " <Variable: 38 (dtype = boolean)>,\n",
              " <Variable: 39 (dtype = boolean)>,\n",
              " <Variable: 4 (dtype = boolean)>,\n",
              " <Variable: 40 (dtype = boolean)>,\n",
              " <Variable: 41 (dtype = boolean)>,\n",
              " <Variable: 42 (dtype = boolean)>,\n",
              " <Variable: 43 (dtype = boolean)>,\n",
              " <Variable: 44 (dtype = boolean)>,\n",
              " <Variable: 45 (dtype = boolean)>,\n",
              " <Variable: 46 (dtype = boolean)>,\n",
              " <Variable: 47 (dtype = boolean)>,\n",
              " <Variable: 48 (dtype = boolean)>,\n",
              " <Variable: 49 (dtype = boolean)>,\n",
              " <Variable: 5 (dtype = boolean)>,\n",
              " <Variable: 50 (dtype = boolean)>,\n",
              " <Variable: 51 (dtype = boolean)>,\n",
              " <Variable: 52 (dtype = boolean)>,\n",
              " <Variable: 53 (dtype = boolean)>,\n",
              " <Variable: 54 (dtype = boolean)>,\n",
              " <Variable: 55 (dtype = boolean)>,\n",
              " <Variable: 56 (dtype = boolean)>,\n",
              " <Variable: 57 (dtype = boolean)>,\n",
              " <Variable: 58 (dtype = boolean)>,\n",
              " <Variable: 59 (dtype = boolean)>,\n",
              " <Variable: 6 (dtype = boolean)>,\n",
              " <Variable: 60 (dtype = boolean)>,\n",
              " <Variable: 61 (dtype = boolean)>,\n",
              " <Variable: 62 (dtype = boolean)>,\n",
              " <Variable: 63 (dtype = boolean)>,\n",
              " <Variable: 64 (dtype = boolean)>,\n",
              " <Variable: 65 (dtype = boolean)>,\n",
              " <Variable: 66 (dtype = boolean)>,\n",
              " <Variable: 67 (dtype = boolean)>,\n",
              " <Variable: 68 (dtype = boolean)>,\n",
              " <Variable: 69 (dtype = boolean)>,\n",
              " <Variable: 7 (dtype = boolean)>,\n",
              " <Variable: 70 (dtype = boolean)>,\n",
              " <Variable: 71 (dtype = boolean)>,\n",
              " <Variable: 72 (dtype = boolean)>,\n",
              " <Variable: 73 (dtype = boolean)>,\n",
              " <Variable: 74 (dtype = boolean)>,\n",
              " <Variable: 75 (dtype = boolean)>,\n",
              " <Variable: 76 (dtype = boolean)>,\n",
              " <Variable: 77 (dtype = boolean)>,\n",
              " <Variable: 78 (dtype = boolean)>,\n",
              " <Variable: 79 (dtype = boolean)>,\n",
              " <Variable: 8 (dtype = boolean)>,\n",
              " <Variable: 80 (dtype = boolean)>,\n",
              " <Variable: 81 (dtype = boolean)>,\n",
              " <Variable: 82 (dtype = boolean)>,\n",
              " <Variable: 83 (dtype = boolean)>,\n",
              " <Variable: 84 (dtype = boolean)>,\n",
              " <Variable: 85 (dtype = boolean)>,\n",
              " <Variable: 86 (dtype = boolean)>,\n",
              " <Variable: 87 (dtype = boolean)>,\n",
              " <Variable: 88 (dtype = boolean)>,\n",
              " <Variable: 89 (dtype = boolean)>,\n",
              " <Variable: 9 (dtype = boolean)>,\n",
              " <Variable: 90 (dtype = boolean)>,\n",
              " <Variable: 91 (dtype = boolean)>,\n",
              " <Variable: 92 (dtype = boolean)>,\n",
              " <Variable: 93 (dtype = boolean)>,\n",
              " <Variable: 94 (dtype = boolean)>,\n",
              " <Variable: 95 (dtype = boolean)>,\n",
              " <Variable: 96 (dtype = boolean)>,\n",
              " <Variable: 97 (dtype = boolean)>,\n",
              " <Variable: 98 (dtype = boolean)>,\n",
              " <Variable: 99 (dtype = boolean)>]"
            ]
          },
          "metadata": {
            "tags": []
          },
          "execution_count": 16
        }
      ]
    },
    {
      "cell_type": "code",
      "metadata": {
        "colab": {
          "base_uri": "https://localhost:8080/"
        },
        "id": "K4-Zq2hnVxGL",
        "outputId": "2873e49f-bee0-4618-dd9e-50f705f6a9c1"
      },
      "source": [
        "import gc\r\n",
        "\r\n",
        "del df_train\r\n",
        "del df_lectures\r\n",
        "del df_questions\r\n",
        "\r\n",
        "gc.collect()"
      ],
      "execution_count": 17,
      "outputs": [
        {
          "output_type": "execute_result",
          "data": {
            "text/plain": [
              "153"
            ]
          },
          "metadata": {
            "tags": []
          },
          "execution_count": 17
        }
      ]
    },
    {
      "cell_type": "code",
      "metadata": {
        "colab": {
          "base_uri": "https://localhost:8080/"
        },
        "id": "K1f1097WByVj",
        "outputId": "eea8b42a-9170-4946-8dad-fb2499f6471e"
      },
      "source": [
        "r_lectures_train= ft.Relationship(es[\"lectures\"][\"lecture_id\"],\r\n",
        "                                          es[\"train\"][\"content_id\"])\r\n",
        "\r\n",
        "r_questions_train = ft.Relationship(es[\"questions\"][\"question_id\"],\r\n",
        "                                    es[\"train\"][\"content_id\"])\r\n",
        "\r\n",
        "es = es.add_relationship(r_lectures_train)\r\n",
        "es = es.add_relationship(r_questions_train)\r\n",
        "es"
      ],
      "execution_count": 18,
      "outputs": [
        {
          "output_type": "execute_result",
          "data": {
            "text/plain": [
              "Entityset: None\n",
              "  Entities:\n",
              "    train [Rows: 101231, Columns: 10]\n",
              "    lectures [Rows: 418, Columns: 4]\n",
              "    questions [Rows: 13522, Columns: 192]\n",
              "  Relationships:\n",
              "    train.content_id -> lectures.lecture_id\n",
              "    train.content_id -> questions.question_id"
            ]
          },
          "metadata": {
            "tags": []
          },
          "execution_count": 18
        }
      ]
    },
    {
      "cell_type": "code",
      "metadata": {
        "id": "w-XOyBTxhI29"
      },
      "source": [
        "es['train']['answered_correctly'].interesting_values = [0, 1]"
      ],
      "execution_count": 19,
      "outputs": []
    },
    {
      "cell_type": "code",
      "metadata": {
        "id": "79YPBeT1gvuE",
        "colab": {
          "base_uri": "https://localhost:8080/"
        },
        "outputId": "79f08836-fac0-4c3b-dde2-0f2e70e7f6ed"
      },
      "source": [
        "feature_defs = ft.dfs(entityset=es, target_entity='train', \r\n",
        "                      where_primitives = ['sum', 'mean'],\r\n",
        "                      max_depth=2, features_only=True)\r\n",
        "\r\n",
        "print(f'This will generate {len(feature_defs)} features.\\n')"
      ],
      "execution_count": 20,
      "outputs": [
        {
          "output_type": "stream",
          "text": [
            "This will generate 242 features.\n",
            "\n"
          ],
          "name": "stdout"
        },
        {
          "output_type": "stream",
          "text": [
            "/usr/local/lib/python3.7/dist-packages/featuretools/synthesis/dfs.py:317: UnusedPrimitiveWarning: Some specified primitives were not used during DFS:\n",
            "  where_primitives: ['mean', 'sum']\n",
            "This may be caused by a using a value of max_depth that is too small, not setting interesting values, or it may indicate no compatible variable types for the primitive were found in the data.\n",
            "  warnings.warn(warning_msg, UnusedPrimitiveWarning)\n"
          ],
          "name": "stderr"
        }
      ]
    },
    {
      "cell_type": "code",
      "metadata": {
        "colab": {
          "base_uri": "https://localhost:8080/"
        },
        "id": "n16oczBbi-5m",
        "outputId": "005a7831-5fa0-40df-e43d-b073e99b7a27"
      },
      "source": [
        "import random; random.seed(42)\r\n",
        "\r\n",
        "random.sample(feature_defs, 10)"
      ],
      "execution_count": 21,
      "outputs": [
        {
          "output_type": "execute_result",
          "data": {
            "text/plain": [
              "[<Feature: questions.60>,\n",
              " <Feature: questions.107>,\n",
              " <Feature: prior_question_elapsed_time>,\n",
              " <Feature: questions.84>,\n",
              " <Feature: questions.145>,\n",
              " <Feature: questions.138>,\n",
              " <Feature: questions.133>,\n",
              " <Feature: questions.113>,\n",
              " <Feature: questions.83>,\n",
              " <Feature: questions.105>]"
            ]
          },
          "metadata": {
            "tags": []
          },
          "execution_count": 21
        }
      ]
    },
    {
      "cell_type": "markdown",
      "metadata": {
        "id": "frIUFbFMpncY"
      },
      "source": [
        "### Aggregation Primitives"
      ]
    },
    {
      "cell_type": "code",
      "metadata": {
        "id": "5UM7okM9pncY"
      },
      "source": [
        "all_p = ft.list_primitives()\n",
        "trans_p = all_p.loc[all_p['type'] == 'transform'].copy()\n",
        "agg_p = all_p.loc[all_p['type'] == 'aggregation'].copy()\n",
        "\n",
        "pd.options.display.max_colwidth = 100\n",
        "# agg_p"
      ],
      "execution_count": null,
      "outputs": []
    },
    {
      "cell_type": "code",
      "metadata": {
        "id": "_cORmEnjpncY"
      },
      "source": [
        "# Specify aggregation primitives\n",
        "agg_primitives = ['sum', 'time_since_last', 'avg_time_between', 'all', 'mode', 'num_unique', 'min', 'last', \n",
        "                  'mean', 'percent_true', 'max', 'std', 'count']"
      ],
      "execution_count": 23,
      "outputs": []
    },
    {
      "cell_type": "markdown",
      "metadata": {
        "id": "4a7Sy90GpncZ"
      },
      "source": [
        "## Transform Primitives"
      ]
    },
    {
      "cell_type": "code",
      "metadata": {
        "id": "5XI_gyB7pncZ"
      },
      "source": [
        "# trans_p"
      ],
      "execution_count": null,
      "outputs": []
    },
    {
      "cell_type": "code",
      "metadata": {
        "id": "CXCWN-hYpnca"
      },
      "source": [
        "# Specify transformation primitives\n",
        "trans_primitives = ['cum_sum', 'diff', 'time_since_previous']"
      ],
      "execution_count": 25,
      "outputs": []
    },
    {
      "cell_type": "markdown",
      "metadata": {
        "id": "qT7r0Qkapnca"
      },
      "source": [
        "### Where Primitives\n",
        "\n",
        "These primitives are applied to the `interesting_values` to build conditional features. "
      ]
    },
    {
      "cell_type": "code",
      "metadata": {
        "id": "rwfcCLT4pnca"
      },
      "source": [
        "# Specify where primitives\n",
        "where_primitives = ['sum', 'mean', 'percent_true', 'all', 'any']"
      ],
      "execution_count": 26,
      "outputs": []
    },
    {
      "cell_type": "markdown",
      "metadata": {
        "id": "LmHIc_kApnca"
      },
      "source": [
        "## Custom Primitives\n",
        "\n",
        "For this problem, I wrote a custom primitive that calculates the sum of a value in the month prior to the cutoff time.\n",
        "\n",
        "The second custom primitive finds the time since a previous true value. It simply finds the time between True examples."
      ]
    },
    {
      "cell_type": "code",
      "metadata": {
        "id": "9ksP2Avipncb"
      },
      "source": [
        "def total_previous_month(numeric, datetime, time):\n",
        "    \"\"\"Return total of `numeric` column in the month prior to `time`.\"\"\"\n",
        "    df = pd.DataFrame({'value': numeric, 'date': datetime})\n",
        "    previous_month = time.month - 1\n",
        "    year = time.year\n",
        "   \n",
        "    # Handle January\n",
        "    if previous_month == 0:\n",
        "        previous_month = 12\n",
        "        year = time.year - 1\n",
        "        \n",
        "    # Filter data and sum up total\n",
        "    df = df[(df['date'].dt.month == previous_month) & (df['date'].dt.year == year)]\n",
        "    total = df['value'].sum()\n",
        "    \n",
        "    return total\n",
        "\n",
        "\n",
        "def time_since_true(boolean, datetime):\n",
        "    \"\"\"Calculate time since previous true value\"\"\"\n",
        "    \n",
        "    if np.any(np.array(list(boolean)) == 1):\n",
        "        # Create dataframe sorted from oldest to newest \n",
        "        df = pd.DataFrame({'value': boolean, 'date': datetime}).\\\n",
        "                sort_values('date', ascending = False).reset_index()\n",
        "\n",
        "        older_date = None\n",
        "\n",
        "        # Iterate through each date in reverse order\n",
        "        for date in df.loc[df['value'] == 1, 'date']:\n",
        "\n",
        "            # If there was no older true value\n",
        "            if older_date == None:\n",
        "                # Subset to times on or after true\n",
        "                times_after_idx = df.loc[df['date'] >= date].index\n",
        "\n",
        "            else:\n",
        "                # Subset to times on or after true but before previous true\n",
        "                times_after_idx = df.loc[(df['date'] >= date) & (df['date'] < older_date)].index\n",
        "            older_date = date\n",
        "            # Calculate time since previous true\n",
        "            df.loc[times_after_idx, 'time_since_previous'] = (df.loc[times_after_idx, 'date'] - date).dt.total_seconds()\n",
        "\n",
        "        return list(df['time_since_previous'])[::-1]\n",
        "    \n",
        "    # Handle case with no true values\n",
        "    else:\n",
        "        return [np.nan for _ in range(len(boolean))]"
      ],
      "execution_count": 27,
      "outputs": []
    },
    {
      "cell_type": "markdown",
      "metadata": {
        "id": "3HWUyO-Upncc"
      },
      "source": [
        "### Custom Primitive Implementation\n",
        "\n",
        "Making a custom primitive is simple: first we define a function (`total_previous_month`) and then we `make_agg_primitive` with `input_type[s]`, a `return_type`, and whether or not the primitive requires the `cutoff_time` through `uses_calc_time`. \n",
        "\n",
        "This primitive is an aggregation primitive because it takes in multiple numbers - transactions for the previous month - and returns a single number - the total of the transactions. "
      ]
    },
    {
      "cell_type": "code",
      "metadata": {
        "id": "xkgoeDulpncc"
      },
      "source": [
        "from featuretools.primitives import make_agg_primitive\n",
        "\n",
        "# Takes in a number and outputs a number\n",
        "total_previous = make_agg_primitive(total_previous_month, \n",
        "                                    input_types = [ft.variable_types.Numeric,\n",
        "                                                   ft.variable_types.Datetime],\n",
        "                                    return_type = ft.variable_types.Numeric, \n",
        "                                    uses_calc_time = True)"
      ],
      "execution_count": 28,
      "outputs": []
    },
    {
      "cell_type": "code",
      "metadata": {
        "id": "lvyuPtZj1wP3"
      },
      "source": [
        "from featuretools.primitives import make_trans_primitive\r\n",
        "\r\n",
        "# Specify the inputs and return\r\n",
        "time_since = make_trans_primitive(time_since_true, \r\n",
        "                                  input_types = [ft.variable_types.Boolean, \r\n",
        "                                                  ft.variable_types.Datetime],\r\n",
        "                                  return_type = ft.variable_types.Numeric)"
      ],
      "execution_count": 29,
      "outputs": []
    },
    {
      "cell_type": "markdown",
      "metadata": {
        "id": "jNjfEFfrpncd"
      },
      "source": [
        "Now just have to pass this in as another aggregation primitive for Featuretools to use it in calculations.\n",
        "\n"
      ]
    },
    {
      "cell_type": "markdown",
      "metadata": {
        "id": "GIJY-a-wpncm"
      },
      "source": [
        "Let's add the two custom primitives to the respective lists. In the final version of feature engineering, I did not use the `time_since` primitive. I ran into problems with the implementation but would encourage anyone to try and fix it or build their own custom primitive[s]."
      ]
    },
    {
      "cell_type": "code",
      "metadata": {
        "id": "bRbncAwApncn"
      },
      "source": [
        "agg_primitives.append(total_previous)\n",
        "trans_primitives.append(time_since)"
      ],
      "execution_count": 30,
      "outputs": []
    },
    {
      "cell_type": "markdown",
      "metadata": {
        "id": "0BGh6d_0pnco"
      },
      "source": [
        "## Deep Feature Synthesis with Specified Primitives\n",
        "\n",
        "We'll again run Deep Feature Synthesis to make the feature definitions this time using the selected primitives and the custom primitives. "
      ]
    },
    {
      "cell_type": "code",
      "metadata": {
        "id": "vuBV7Q3hpnco",
        "colab": {
          "base_uri": "https://localhost:8080/"
        },
        "outputId": "6527a7da-4787-473a-d57e-f48c407277b9"
      },
      "source": [
        "feature_defs = ft.dfs(entityset=es, target_entity='train', \n",
        "                      # cutoff_time = cutoff_times, \n",
        "                      agg_primitives = agg_primitives,\n",
        "                      trans_primitives = trans_primitives,\n",
        "                      where_primitives = where_primitives,\n",
        "                      chunk_size = 100, #len(cutoff_times), \n",
        "                      # cutoff_time_in_index = True,\n",
        "                      max_depth = 2, \n",
        "                      features_only = True)"
      ],
      "execution_count": 31,
      "outputs": [
        {
          "output_type": "stream",
          "text": [
            "/usr/local/lib/python3.7/dist-packages/featuretools/synthesis/dfs.py:317: UnusedPrimitiveWarning: Some specified primitives were not used during DFS:\n",
            "  where_primitives: ['all', 'any', 'mean', 'percent_true', 'sum']\n",
            "This may be caused by a using a value of max_depth that is too small, not setting interesting values, or it may indicate no compatible variable types for the primitive were found in the data.\n",
            "  warnings.warn(warning_msg, UnusedPrimitiveWarning)\n"
          ],
          "name": "stderr"
        }
      ]
    },
    {
      "cell_type": "code",
      "metadata": {
        "id": "uliO47uppncp",
        "colab": {
          "base_uri": "https://localhost:8080/"
        },
        "outputId": "c5836590-d5e1-491b-9ccd-68564c70e574"
      },
      "source": [
        "print(f'This will generate {len(feature_defs)} features.')"
      ],
      "execution_count": 32,
      "outputs": [
        {
          "output_type": "stream",
          "text": [
            "This will generate 452 features.\n"
          ],
          "name": "stdout"
        }
      ]
    },
    {
      "cell_type": "code",
      "metadata": {
        "id": "txukcWwZpncq",
        "colab": {
          "base_uri": "https://localhost:8080/"
        },
        "outputId": "ea700982-f9fc-4868-8848-3706277f830a"
      },
      "source": [
        "random.sample(feature_defs, 15)"
      ],
      "execution_count": 33,
      "outputs": [
        {
          "output_type": "execute_result",
          "data": {
            "text/plain": [
              "[<Feature: TIME_SINCE_TRUE(questions.172, timestamp)>,\n",
              " <Feature: TIME_SINCE_TRUE(questions.33, timestamp)>,\n",
              " <Feature: TIME_SINCE_TRUE(questions.111, timestamp)>,\n",
              " <Feature: questions.121>,\n",
              " <Feature: TIME_SINCE_TRUE(questions.132, timestamp)>,\n",
              " <Feature: lectures.LAST(train.user_id)>,\n",
              " <Feature: questions.correct_answer>,\n",
              " <Feature: questions.bundle_id>,\n",
              " <Feature: questions.124>,\n",
              " <Feature: questions.182>,\n",
              " <Feature: questions.20>,\n",
              " <Feature: questions.NUM_UNIQUE(train.user_id)>,\n",
              " <Feature: TIME_SINCE_TRUE(questions.138, timestamp)>,\n",
              " <Feature: lectures.part>,\n",
              " <Feature: TIME_SINCE_TRUE(questions.119, timestamp)>]"
            ]
          },
          "metadata": {
            "tags": []
          },
          "execution_count": 33
        }
      ]
    },
    {
      "cell_type": "markdown",
      "metadata": {
        "id": "ADrUdfrxpnct"
      },
      "source": [
        "# Run Deep Feature Synthesis\n",
        "\n",
        "Once we're happy with the features that will be generated, we can run deep feature synthesis to make the actual features. We need to change `feature_only` to `False` and then we're good to go."
      ]
    },
    {
      "cell_type": "code",
      "metadata": {
        "id": "uPe4etPjpncu",
        "colab": {
          "base_uri": "https://localhost:8080/"
        },
        "outputId": "b07bd773-49c5-4051-8ee6-2a1ae0b5fff6"
      },
      "source": [
        "from timeit import default_timer as timer\n",
        "\n",
        "start = timer()\n",
        "feature_matrix, feature_defs = ft.dfs(entityset=es, \n",
        "                                      target_entity='train', \n",
        "                                      # cutoff_time = cutoff_times, \n",
        "                                      agg_primitives = agg_primitives,\n",
        "                                      trans_primitives = trans_primitives,\n",
        "                                      where_primitives = where_primitives,\n",
        "                                      max_depth = 2, features_only = False,\n",
        "                                      verbose = 1, \n",
        "                                      chunk_size = 100,  \n",
        "                                      # n_jobs = -1,\n",
        "                                      # cutoff_time_in_index = True\n",
        "                                      )\n",
        "end = timer()\n",
        "print(f'{round(end - start)} seconds elapsed.')"
      ],
      "execution_count": 34,
      "outputs": [
        {
          "output_type": "stream",
          "text": [
            "Built 452 features\n",
            "\rElapsed: 00:00 | Progress:   0%|          "
          ],
          "name": "stdout"
        },
        {
          "output_type": "stream",
          "text": [
            "/usr/local/lib/python3.7/dist-packages/featuretools/synthesis/dfs.py:317: UnusedPrimitiveWarning: Some specified primitives were not used during DFS:\n",
            "  where_primitives: ['all', 'any', 'mean', 'percent_true', 'sum']\n",
            "This may be caused by a using a value of max_depth that is too small, not setting interesting values, or it may indicate no compatible variable types for the primitive were found in the data.\n",
            "  warnings.warn(warning_msg, UnusedPrimitiveWarning)\n"
          ],
          "name": "stderr"
        },
        {
          "output_type": "stream",
          "text": [
            "Elapsed: 23:19 | Progress: 100%|██████████\n",
            "1400 seconds elapsed.\n"
          ],
          "name": "stdout"
        }
      ]
    },
    {
      "cell_type": "markdown",
      "metadata": {
        "id": "Xsox7HL5pncv"
      },
      "source": [
        "The `chunk_size` is a parameter that may need to be adjusted to optimize the calculation. I suggest playing around with this parameter to find the optimal value. Generally I've found that a large value makes the calculation proceed quicker although it depends on the machine in use and the number of unique cutoff times. "
      ]
    },
    {
      "cell_type": "code",
      "metadata": {
        "id": "nlW9s4Sppncw",
        "colab": {
          "base_uri": "https://localhost:8080/",
          "height": 487
        },
        "outputId": "d4ba6cdb-e1fb-419e-e184-bbc385555176"
      },
      "source": [
        "feature_matrix"
      ],
      "execution_count": 55,
      "outputs": [
        {
          "output_type": "execute_result",
          "data": {
            "text/html": [
              "<div>\n",
              "<style scoped>\n",
              "    .dataframe tbody tr th:only-of-type {\n",
              "        vertical-align: middle;\n",
              "    }\n",
              "\n",
              "    .dataframe tbody tr th {\n",
              "        vertical-align: top;\n",
              "    }\n",
              "\n",
              "    .dataframe thead th {\n",
              "        text-align: right;\n",
              "    }\n",
              "</style>\n",
              "<table border=\"1\" class=\"dataframe\">\n",
              "  <thead>\n",
              "    <tr style=\"text-align: right;\">\n",
              "      <th></th>\n",
              "      <th>user_id</th>\n",
              "      <th>content_id</th>\n",
              "      <th>content_type_id</th>\n",
              "      <th>task_container_id</th>\n",
              "      <th>user_answer</th>\n",
              "      <th>answered_correctly</th>\n",
              "      <th>prior_question_elapsed_time</th>\n",
              "      <th>prior_question_had_explanation</th>\n",
              "      <th>CUM_SUM(prior_question_elapsed_time)</th>\n",
              "      <th>DIFF(prior_question_elapsed_time)</th>\n",
              "      <th>TIME_SINCE_PREVIOUS(timestamp)</th>\n",
              "      <th>TIME_SINCE_TRUE(prior_question_had_explanation, timestamp)</th>\n",
              "      <th>lectures.tag</th>\n",
              "      <th>lectures.part</th>\n",
              "      <th>lectures.type_of</th>\n",
              "      <th>questions.bundle_id</th>\n",
              "      <th>questions.correct_answer</th>\n",
              "      <th>questions.part</th>\n",
              "      <th>questions.0</th>\n",
              "      <th>questions.1</th>\n",
              "      <th>questions.10</th>\n",
              "      <th>questions.100</th>\n",
              "      <th>questions.101</th>\n",
              "      <th>questions.102</th>\n",
              "      <th>questions.103</th>\n",
              "      <th>questions.104</th>\n",
              "      <th>questions.105</th>\n",
              "      <th>questions.106</th>\n",
              "      <th>questions.107</th>\n",
              "      <th>questions.108</th>\n",
              "      <th>questions.109</th>\n",
              "      <th>questions.11</th>\n",
              "      <th>questions.110</th>\n",
              "      <th>questions.111</th>\n",
              "      <th>questions.112</th>\n",
              "      <th>questions.113</th>\n",
              "      <th>questions.114</th>\n",
              "      <th>questions.115</th>\n",
              "      <th>questions.116</th>\n",
              "      <th>questions.117</th>\n",
              "      <th>...</th>\n",
              "      <th>TIME_SINCE_TRUE(questions.63, timestamp)</th>\n",
              "      <th>TIME_SINCE_TRUE(questions.64, timestamp)</th>\n",
              "      <th>TIME_SINCE_TRUE(questions.65, timestamp)</th>\n",
              "      <th>TIME_SINCE_TRUE(questions.66, timestamp)</th>\n",
              "      <th>TIME_SINCE_TRUE(questions.67, timestamp)</th>\n",
              "      <th>TIME_SINCE_TRUE(questions.68, timestamp)</th>\n",
              "      <th>TIME_SINCE_TRUE(questions.69, timestamp)</th>\n",
              "      <th>TIME_SINCE_TRUE(questions.7, timestamp)</th>\n",
              "      <th>TIME_SINCE_TRUE(questions.70, timestamp)</th>\n",
              "      <th>TIME_SINCE_TRUE(questions.71, timestamp)</th>\n",
              "      <th>TIME_SINCE_TRUE(questions.72, timestamp)</th>\n",
              "      <th>TIME_SINCE_TRUE(questions.73, timestamp)</th>\n",
              "      <th>TIME_SINCE_TRUE(questions.74, timestamp)</th>\n",
              "      <th>TIME_SINCE_TRUE(questions.75, timestamp)</th>\n",
              "      <th>TIME_SINCE_TRUE(questions.76, timestamp)</th>\n",
              "      <th>TIME_SINCE_TRUE(questions.77, timestamp)</th>\n",
              "      <th>TIME_SINCE_TRUE(questions.78, timestamp)</th>\n",
              "      <th>TIME_SINCE_TRUE(questions.79, timestamp)</th>\n",
              "      <th>TIME_SINCE_TRUE(questions.8, timestamp)</th>\n",
              "      <th>TIME_SINCE_TRUE(questions.80, timestamp)</th>\n",
              "      <th>TIME_SINCE_TRUE(questions.81, timestamp)</th>\n",
              "      <th>TIME_SINCE_TRUE(questions.82, timestamp)</th>\n",
              "      <th>TIME_SINCE_TRUE(questions.83, timestamp)</th>\n",
              "      <th>TIME_SINCE_TRUE(questions.84, timestamp)</th>\n",
              "      <th>TIME_SINCE_TRUE(questions.85, timestamp)</th>\n",
              "      <th>TIME_SINCE_TRUE(questions.86, timestamp)</th>\n",
              "      <th>TIME_SINCE_TRUE(questions.87, timestamp)</th>\n",
              "      <th>TIME_SINCE_TRUE(questions.88, timestamp)</th>\n",
              "      <th>TIME_SINCE_TRUE(questions.89, timestamp)</th>\n",
              "      <th>TIME_SINCE_TRUE(questions.9, timestamp)</th>\n",
              "      <th>TIME_SINCE_TRUE(questions.90, timestamp)</th>\n",
              "      <th>TIME_SINCE_TRUE(questions.91, timestamp)</th>\n",
              "      <th>TIME_SINCE_TRUE(questions.92, timestamp)</th>\n",
              "      <th>TIME_SINCE_TRUE(questions.93, timestamp)</th>\n",
              "      <th>TIME_SINCE_TRUE(questions.94, timestamp)</th>\n",
              "      <th>TIME_SINCE_TRUE(questions.95, timestamp)</th>\n",
              "      <th>TIME_SINCE_TRUE(questions.96, timestamp)</th>\n",
              "      <th>TIME_SINCE_TRUE(questions.97, timestamp)</th>\n",
              "      <th>TIME_SINCE_TRUE(questions.98, timestamp)</th>\n",
              "      <th>TIME_SINCE_TRUE(questions.99, timestamp)</th>\n",
              "    </tr>\n",
              "    <tr>\n",
              "      <th>row_id</th>\n",
              "      <th></th>\n",
              "      <th></th>\n",
              "      <th></th>\n",
              "      <th></th>\n",
              "      <th></th>\n",
              "      <th></th>\n",
              "      <th></th>\n",
              "      <th></th>\n",
              "      <th></th>\n",
              "      <th></th>\n",
              "      <th></th>\n",
              "      <th></th>\n",
              "      <th></th>\n",
              "      <th></th>\n",
              "      <th></th>\n",
              "      <th></th>\n",
              "      <th></th>\n",
              "      <th></th>\n",
              "      <th></th>\n",
              "      <th></th>\n",
              "      <th></th>\n",
              "      <th></th>\n",
              "      <th></th>\n",
              "      <th></th>\n",
              "      <th></th>\n",
              "      <th></th>\n",
              "      <th></th>\n",
              "      <th></th>\n",
              "      <th></th>\n",
              "      <th></th>\n",
              "      <th></th>\n",
              "      <th></th>\n",
              "      <th></th>\n",
              "      <th></th>\n",
              "      <th></th>\n",
              "      <th></th>\n",
              "      <th></th>\n",
              "      <th></th>\n",
              "      <th></th>\n",
              "      <th></th>\n",
              "      <th></th>\n",
              "      <th></th>\n",
              "      <th></th>\n",
              "      <th></th>\n",
              "      <th></th>\n",
              "      <th></th>\n",
              "      <th></th>\n",
              "      <th></th>\n",
              "      <th></th>\n",
              "      <th></th>\n",
              "      <th></th>\n",
              "      <th></th>\n",
              "      <th></th>\n",
              "      <th></th>\n",
              "      <th></th>\n",
              "      <th></th>\n",
              "      <th></th>\n",
              "      <th></th>\n",
              "      <th></th>\n",
              "      <th></th>\n",
              "      <th></th>\n",
              "      <th></th>\n",
              "      <th></th>\n",
              "      <th></th>\n",
              "      <th></th>\n",
              "      <th></th>\n",
              "      <th></th>\n",
              "      <th></th>\n",
              "      <th></th>\n",
              "      <th></th>\n",
              "      <th></th>\n",
              "      <th></th>\n",
              "      <th></th>\n",
              "      <th></th>\n",
              "      <th></th>\n",
              "      <th></th>\n",
              "      <th></th>\n",
              "      <th></th>\n",
              "      <th></th>\n",
              "      <th></th>\n",
              "      <th></th>\n",
              "    </tr>\n",
              "  </thead>\n",
              "  <tbody>\n",
              "    <tr>\n",
              "      <th>0</th>\n",
              "      <td>115</td>\n",
              "      <td>5692</td>\n",
              "      <td>0</td>\n",
              "      <td>1</td>\n",
              "      <td>3</td>\n",
              "      <td>1</td>\n",
              "      <td>NaN</td>\n",
              "      <td>True</td>\n",
              "      <td>NaN</td>\n",
              "      <td>NaN</td>\n",
              "      <td>NaN</td>\n",
              "      <td>0.0</td>\n",
              "      <td>NaN</td>\n",
              "      <td>NaN</td>\n",
              "      <td>NaN</td>\n",
              "      <td>5692</td>\n",
              "      <td>3</td>\n",
              "      <td>5</td>\n",
              "      <td>False</td>\n",
              "      <td>False</td>\n",
              "      <td>False</td>\n",
              "      <td>False</td>\n",
              "      <td>False</td>\n",
              "      <td>False</td>\n",
              "      <td>False</td>\n",
              "      <td>False</td>\n",
              "      <td>False</td>\n",
              "      <td>False</td>\n",
              "      <td>False</td>\n",
              "      <td>False</td>\n",
              "      <td>False</td>\n",
              "      <td>False</td>\n",
              "      <td>False</td>\n",
              "      <td>False</td>\n",
              "      <td>False</td>\n",
              "      <td>False</td>\n",
              "      <td>False</td>\n",
              "      <td>False</td>\n",
              "      <td>False</td>\n",
              "      <td>False</td>\n",
              "      <td>...</td>\n",
              "      <td>NaN</td>\n",
              "      <td>NaN</td>\n",
              "      <td>NaN</td>\n",
              "      <td>0.000000e+00</td>\n",
              "      <td>NaN</td>\n",
              "      <td>NaN</td>\n",
              "      <td>0.000000e+00</td>\n",
              "      <td>NaN</td>\n",
              "      <td>NaN</td>\n",
              "      <td>NaN</td>\n",
              "      <td>0.000</td>\n",
              "      <td>0.000000e+00</td>\n",
              "      <td>NaN</td>\n",
              "      <td>0.000000e+00</td>\n",
              "      <td>NaN</td>\n",
              "      <td>NaN</td>\n",
              "      <td>0.000000e+00</td>\n",
              "      <td>0.000</td>\n",
              "      <td>0.000</td>\n",
              "      <td>0.000000e+00</td>\n",
              "      <td>0.000</td>\n",
              "      <td>NaN</td>\n",
              "      <td>NaN</td>\n",
              "      <td>NaN</td>\n",
              "      <td>NaN</td>\n",
              "      <td>NaN</td>\n",
              "      <td>NaN</td>\n",
              "      <td>0.000000e+00</td>\n",
              "      <td>0.000</td>\n",
              "      <td>NaN</td>\n",
              "      <td>0.000000e+00</td>\n",
              "      <td>0.000</td>\n",
              "      <td>0.000</td>\n",
              "      <td>0.000000e+00</td>\n",
              "      <td>NaN</td>\n",
              "      <td>0.000000e+00</td>\n",
              "      <td>0.000</td>\n",
              "      <td>NaN</td>\n",
              "      <td>NaN</td>\n",
              "      <td>NaN</td>\n",
              "    </tr>\n",
              "    <tr>\n",
              "      <th>164</th>\n",
              "      <td>3505219</td>\n",
              "      <td>7900</td>\n",
              "      <td>0</td>\n",
              "      <td>0</td>\n",
              "      <td>0</td>\n",
              "      <td>1</td>\n",
              "      <td>NaN</td>\n",
              "      <td>True</td>\n",
              "      <td>NaN</td>\n",
              "      <td>NaN</td>\n",
              "      <td>0.000</td>\n",
              "      <td>0.0</td>\n",
              "      <td>NaN</td>\n",
              "      <td>NaN</td>\n",
              "      <td>NaN</td>\n",
              "      <td>7900</td>\n",
              "      <td>0</td>\n",
              "      <td>1</td>\n",
              "      <td>False</td>\n",
              "      <td>False</td>\n",
              "      <td>False</td>\n",
              "      <td>False</td>\n",
              "      <td>False</td>\n",
              "      <td>False</td>\n",
              "      <td>False</td>\n",
              "      <td>False</td>\n",
              "      <td>False</td>\n",
              "      <td>False</td>\n",
              "      <td>False</td>\n",
              "      <td>False</td>\n",
              "      <td>False</td>\n",
              "      <td>False</td>\n",
              "      <td>False</td>\n",
              "      <td>False</td>\n",
              "      <td>False</td>\n",
              "      <td>False</td>\n",
              "      <td>False</td>\n",
              "      <td>False</td>\n",
              "      <td>False</td>\n",
              "      <td>False</td>\n",
              "      <td>...</td>\n",
              "      <td>NaN</td>\n",
              "      <td>NaN</td>\n",
              "      <td>NaN</td>\n",
              "      <td>0.000000e+00</td>\n",
              "      <td>NaN</td>\n",
              "      <td>NaN</td>\n",
              "      <td>0.000000e+00</td>\n",
              "      <td>NaN</td>\n",
              "      <td>NaN</td>\n",
              "      <td>NaN</td>\n",
              "      <td>0.000</td>\n",
              "      <td>0.000000e+00</td>\n",
              "      <td>NaN</td>\n",
              "      <td>0.000000e+00</td>\n",
              "      <td>NaN</td>\n",
              "      <td>NaN</td>\n",
              "      <td>0.000000e+00</td>\n",
              "      <td>0.000</td>\n",
              "      <td>0.000</td>\n",
              "      <td>0.000000e+00</td>\n",
              "      <td>0.000</td>\n",
              "      <td>NaN</td>\n",
              "      <td>NaN</td>\n",
              "      <td>NaN</td>\n",
              "      <td>NaN</td>\n",
              "      <td>NaN</td>\n",
              "      <td>NaN</td>\n",
              "      <td>0.000000e+00</td>\n",
              "      <td>0.000</td>\n",
              "      <td>NaN</td>\n",
              "      <td>0.000000e+00</td>\n",
              "      <td>0.000</td>\n",
              "      <td>0.000</td>\n",
              "      <td>0.000000e+00</td>\n",
              "      <td>NaN</td>\n",
              "      <td>0.000000e+00</td>\n",
              "      <td>0.000</td>\n",
              "      <td>NaN</td>\n",
              "      <td>NaN</td>\n",
              "      <td>NaN</td>\n",
              "    </tr>\n",
              "    <tr>\n",
              "      <th>451</th>\n",
              "      <td>9063293</td>\n",
              "      <td>5529</td>\n",
              "      <td>0</td>\n",
              "      <td>0</td>\n",
              "      <td>2</td>\n",
              "      <td>1</td>\n",
              "      <td>NaN</td>\n",
              "      <td>True</td>\n",
              "      <td>NaN</td>\n",
              "      <td>NaN</td>\n",
              "      <td>0.000</td>\n",
              "      <td>0.0</td>\n",
              "      <td>NaN</td>\n",
              "      <td>NaN</td>\n",
              "      <td>NaN</td>\n",
              "      <td>5529</td>\n",
              "      <td>2</td>\n",
              "      <td>5</td>\n",
              "      <td>False</td>\n",
              "      <td>False</td>\n",
              "      <td>False</td>\n",
              "      <td>False</td>\n",
              "      <td>False</td>\n",
              "      <td>False</td>\n",
              "      <td>False</td>\n",
              "      <td>False</td>\n",
              "      <td>False</td>\n",
              "      <td>False</td>\n",
              "      <td>False</td>\n",
              "      <td>False</td>\n",
              "      <td>False</td>\n",
              "      <td>False</td>\n",
              "      <td>False</td>\n",
              "      <td>False</td>\n",
              "      <td>False</td>\n",
              "      <td>False</td>\n",
              "      <td>False</td>\n",
              "      <td>False</td>\n",
              "      <td>False</td>\n",
              "      <td>False</td>\n",
              "      <td>...</td>\n",
              "      <td>NaN</td>\n",
              "      <td>NaN</td>\n",
              "      <td>NaN</td>\n",
              "      <td>0.000000e+00</td>\n",
              "      <td>NaN</td>\n",
              "      <td>NaN</td>\n",
              "      <td>0.000000e+00</td>\n",
              "      <td>NaN</td>\n",
              "      <td>NaN</td>\n",
              "      <td>NaN</td>\n",
              "      <td>0.000</td>\n",
              "      <td>0.000000e+00</td>\n",
              "      <td>NaN</td>\n",
              "      <td>0.000000e+00</td>\n",
              "      <td>NaN</td>\n",
              "      <td>NaN</td>\n",
              "      <td>0.000000e+00</td>\n",
              "      <td>0.000</td>\n",
              "      <td>0.000</td>\n",
              "      <td>0.000000e+00</td>\n",
              "      <td>0.000</td>\n",
              "      <td>NaN</td>\n",
              "      <td>NaN</td>\n",
              "      <td>NaN</td>\n",
              "      <td>NaN</td>\n",
              "      <td>NaN</td>\n",
              "      <td>NaN</td>\n",
              "      <td>0.000000e+00</td>\n",
              "      <td>0.000</td>\n",
              "      <td>NaN</td>\n",
              "      <td>0.000000e+00</td>\n",
              "      <td>0.000</td>\n",
              "      <td>0.000</td>\n",
              "      <td>0.000000e+00</td>\n",
              "      <td>NaN</td>\n",
              "      <td>0.000000e+00</td>\n",
              "      <td>0.000</td>\n",
              "      <td>NaN</td>\n",
              "      <td>NaN</td>\n",
              "      <td>NaN</td>\n",
              "    </tr>\n",
              "    <tr>\n",
              "      <th>526</th>\n",
              "      <td>10501741</td>\n",
              "      <td>7900</td>\n",
              "      <td>0</td>\n",
              "      <td>0</td>\n",
              "      <td>0</td>\n",
              "      <td>1</td>\n",
              "      <td>NaN</td>\n",
              "      <td>True</td>\n",
              "      <td>NaN</td>\n",
              "      <td>NaN</td>\n",
              "      <td>0.000</td>\n",
              "      <td>0.0</td>\n",
              "      <td>NaN</td>\n",
              "      <td>NaN</td>\n",
              "      <td>NaN</td>\n",
              "      <td>7900</td>\n",
              "      <td>0</td>\n",
              "      <td>1</td>\n",
              "      <td>False</td>\n",
              "      <td>False</td>\n",
              "      <td>False</td>\n",
              "      <td>False</td>\n",
              "      <td>False</td>\n",
              "      <td>False</td>\n",
              "      <td>False</td>\n",
              "      <td>False</td>\n",
              "      <td>False</td>\n",
              "      <td>False</td>\n",
              "      <td>False</td>\n",
              "      <td>False</td>\n",
              "      <td>False</td>\n",
              "      <td>False</td>\n",
              "      <td>False</td>\n",
              "      <td>False</td>\n",
              "      <td>False</td>\n",
              "      <td>False</td>\n",
              "      <td>False</td>\n",
              "      <td>False</td>\n",
              "      <td>False</td>\n",
              "      <td>False</td>\n",
              "      <td>...</td>\n",
              "      <td>NaN</td>\n",
              "      <td>NaN</td>\n",
              "      <td>NaN</td>\n",
              "      <td>0.000000e+00</td>\n",
              "      <td>NaN</td>\n",
              "      <td>NaN</td>\n",
              "      <td>0.000000e+00</td>\n",
              "      <td>NaN</td>\n",
              "      <td>NaN</td>\n",
              "      <td>NaN</td>\n",
              "      <td>0.000</td>\n",
              "      <td>0.000000e+00</td>\n",
              "      <td>NaN</td>\n",
              "      <td>0.000000e+00</td>\n",
              "      <td>NaN</td>\n",
              "      <td>NaN</td>\n",
              "      <td>0.000000e+00</td>\n",
              "      <td>0.000</td>\n",
              "      <td>0.000</td>\n",
              "      <td>0.000000e+00</td>\n",
              "      <td>0.000</td>\n",
              "      <td>NaN</td>\n",
              "      <td>NaN</td>\n",
              "      <td>NaN</td>\n",
              "      <td>NaN</td>\n",
              "      <td>NaN</td>\n",
              "      <td>NaN</td>\n",
              "      <td>0.000000e+00</td>\n",
              "      <td>0.000</td>\n",
              "      <td>NaN</td>\n",
              "      <td>0.000000e+00</td>\n",
              "      <td>0.000</td>\n",
              "      <td>0.000</td>\n",
              "      <td>0.000000e+00</td>\n",
              "      <td>NaN</td>\n",
              "      <td>0.000000e+00</td>\n",
              "      <td>0.000</td>\n",
              "      <td>NaN</td>\n",
              "      <td>NaN</td>\n",
              "      <td>NaN</td>\n",
              "    </tr>\n",
              "    <tr>\n",
              "      <th>811</th>\n",
              "      <td>16467140</td>\n",
              "      <td>7900</td>\n",
              "      <td>0</td>\n",
              "      <td>0</td>\n",
              "      <td>2</td>\n",
              "      <td>0</td>\n",
              "      <td>NaN</td>\n",
              "      <td>True</td>\n",
              "      <td>NaN</td>\n",
              "      <td>NaN</td>\n",
              "      <td>0.000</td>\n",
              "      <td>0.0</td>\n",
              "      <td>NaN</td>\n",
              "      <td>NaN</td>\n",
              "      <td>NaN</td>\n",
              "      <td>7900</td>\n",
              "      <td>0</td>\n",
              "      <td>1</td>\n",
              "      <td>False</td>\n",
              "      <td>False</td>\n",
              "      <td>False</td>\n",
              "      <td>False</td>\n",
              "      <td>False</td>\n",
              "      <td>False</td>\n",
              "      <td>False</td>\n",
              "      <td>False</td>\n",
              "      <td>False</td>\n",
              "      <td>False</td>\n",
              "      <td>False</td>\n",
              "      <td>False</td>\n",
              "      <td>False</td>\n",
              "      <td>False</td>\n",
              "      <td>False</td>\n",
              "      <td>False</td>\n",
              "      <td>False</td>\n",
              "      <td>False</td>\n",
              "      <td>False</td>\n",
              "      <td>False</td>\n",
              "      <td>False</td>\n",
              "      <td>False</td>\n",
              "      <td>...</td>\n",
              "      <td>NaN</td>\n",
              "      <td>NaN</td>\n",
              "      <td>NaN</td>\n",
              "      <td>0.000000e+00</td>\n",
              "      <td>NaN</td>\n",
              "      <td>NaN</td>\n",
              "      <td>0.000000e+00</td>\n",
              "      <td>NaN</td>\n",
              "      <td>NaN</td>\n",
              "      <td>NaN</td>\n",
              "      <td>0.000</td>\n",
              "      <td>0.000000e+00</td>\n",
              "      <td>NaN</td>\n",
              "      <td>0.000000e+00</td>\n",
              "      <td>NaN</td>\n",
              "      <td>NaN</td>\n",
              "      <td>0.000000e+00</td>\n",
              "      <td>0.000</td>\n",
              "      <td>0.000</td>\n",
              "      <td>0.000000e+00</td>\n",
              "      <td>0.000</td>\n",
              "      <td>NaN</td>\n",
              "      <td>NaN</td>\n",
              "      <td>NaN</td>\n",
              "      <td>NaN</td>\n",
              "      <td>NaN</td>\n",
              "      <td>NaN</td>\n",
              "      <td>0.000000e+00</td>\n",
              "      <td>0.000</td>\n",
              "      <td>NaN</td>\n",
              "      <td>0.000000e+00</td>\n",
              "      <td>0.000</td>\n",
              "      <td>0.000</td>\n",
              "      <td>0.000000e+00</td>\n",
              "      <td>NaN</td>\n",
              "      <td>0.000000e+00</td>\n",
              "      <td>0.000</td>\n",
              "      <td>NaN</td>\n",
              "      <td>NaN</td>\n",
              "      <td>NaN</td>\n",
              "    </tr>\n",
              "    <tr>\n",
              "      <th>...</th>\n",
              "      <td>...</td>\n",
              "      <td>...</td>\n",
              "      <td>...</td>\n",
              "      <td>...</td>\n",
              "      <td>...</td>\n",
              "      <td>...</td>\n",
              "      <td>...</td>\n",
              "      <td>...</td>\n",
              "      <td>...</td>\n",
              "      <td>...</td>\n",
              "      <td>...</td>\n",
              "      <td>...</td>\n",
              "      <td>...</td>\n",
              "      <td>...</td>\n",
              "      <td>...</td>\n",
              "      <td>...</td>\n",
              "      <td>...</td>\n",
              "      <td>...</td>\n",
              "      <td>...</td>\n",
              "      <td>...</td>\n",
              "      <td>...</td>\n",
              "      <td>...</td>\n",
              "      <td>...</td>\n",
              "      <td>...</td>\n",
              "      <td>...</td>\n",
              "      <td>...</td>\n",
              "      <td>...</td>\n",
              "      <td>...</td>\n",
              "      <td>...</td>\n",
              "      <td>...</td>\n",
              "      <td>...</td>\n",
              "      <td>...</td>\n",
              "      <td>...</td>\n",
              "      <td>...</td>\n",
              "      <td>...</td>\n",
              "      <td>...</td>\n",
              "      <td>...</td>\n",
              "      <td>...</td>\n",
              "      <td>...</td>\n",
              "      <td>...</td>\n",
              "      <td>...</td>\n",
              "      <td>...</td>\n",
              "      <td>...</td>\n",
              "      <td>...</td>\n",
              "      <td>...</td>\n",
              "      <td>...</td>\n",
              "      <td>...</td>\n",
              "      <td>...</td>\n",
              "      <td>...</td>\n",
              "      <td>...</td>\n",
              "      <td>...</td>\n",
              "      <td>...</td>\n",
              "      <td>...</td>\n",
              "      <td>...</td>\n",
              "      <td>...</td>\n",
              "      <td>...</td>\n",
              "      <td>...</td>\n",
              "      <td>...</td>\n",
              "      <td>...</td>\n",
              "      <td>...</td>\n",
              "      <td>...</td>\n",
              "      <td>...</td>\n",
              "      <td>...</td>\n",
              "      <td>...</td>\n",
              "      <td>...</td>\n",
              "      <td>...</td>\n",
              "      <td>...</td>\n",
              "      <td>...</td>\n",
              "      <td>...</td>\n",
              "      <td>...</td>\n",
              "      <td>...</td>\n",
              "      <td>...</td>\n",
              "      <td>...</td>\n",
              "      <td>...</td>\n",
              "      <td>...</td>\n",
              "      <td>...</td>\n",
              "      <td>...</td>\n",
              "      <td>...</td>\n",
              "      <td>...</td>\n",
              "      <td>...</td>\n",
              "      <td>...</td>\n",
              "    </tr>\n",
              "    <tr>\n",
              "      <th>32556</th>\n",
              "      <td>697068556</td>\n",
              "      <td>6821</td>\n",
              "      <td>0</td>\n",
              "      <td>1879</td>\n",
              "      <td>0</td>\n",
              "      <td>1</td>\n",
              "      <td>37750.0</td>\n",
              "      <td>True</td>\n",
              "      <td>2.511123e+09</td>\n",
              "      <td>-65850.0</td>\n",
              "      <td>130740.453</td>\n",
              "      <td>0.0</td>\n",
              "      <td>NaN</td>\n",
              "      <td>NaN</td>\n",
              "      <td>NaN</td>\n",
              "      <td>6821</td>\n",
              "      <td>0</td>\n",
              "      <td>6</td>\n",
              "      <td>False</td>\n",
              "      <td>False</td>\n",
              "      <td>False</td>\n",
              "      <td>False</td>\n",
              "      <td>False</td>\n",
              "      <td>False</td>\n",
              "      <td>False</td>\n",
              "      <td>False</td>\n",
              "      <td>False</td>\n",
              "      <td>False</td>\n",
              "      <td>False</td>\n",
              "      <td>False</td>\n",
              "      <td>False</td>\n",
              "      <td>False</td>\n",
              "      <td>False</td>\n",
              "      <td>False</td>\n",
              "      <td>False</td>\n",
              "      <td>False</td>\n",
              "      <td>False</td>\n",
              "      <td>False</td>\n",
              "      <td>False</td>\n",
              "      <td>False</td>\n",
              "      <td>...</td>\n",
              "      <td>2.264906e+07</td>\n",
              "      <td>6.042727e+06</td>\n",
              "      <td>1.692607e+07</td>\n",
              "      <td>1.486060e+07</td>\n",
              "      <td>1.437942e+07</td>\n",
              "      <td>1.132949e+07</td>\n",
              "      <td>8.320505e+06</td>\n",
              "      <td>1.046060e+07</td>\n",
              "      <td>2491099.950</td>\n",
              "      <td>705002.340</td>\n",
              "      <td>2283997.436</td>\n",
              "      <td>6.203755e+06</td>\n",
              "      <td>4587680.864</td>\n",
              "      <td>1.831762e+07</td>\n",
              "      <td>1.196415e+07</td>\n",
              "      <td>4636684.671</td>\n",
              "      <td>1.709451e+07</td>\n",
              "      <td>3176999.892</td>\n",
              "      <td>742690.095</td>\n",
              "      <td>1.350814e+07</td>\n",
              "      <td>185514.294</td>\n",
              "      <td>5892677.262</td>\n",
              "      <td>1.105405e+07</td>\n",
              "      <td>3260647.318</td>\n",
              "      <td>2.478788e+07</td>\n",
              "      <td>5.527849e+07</td>\n",
              "      <td>6.639053e+06</td>\n",
              "      <td>9.752815e+06</td>\n",
              "      <td>4993450.837</td>\n",
              "      <td>6270002.866</td>\n",
              "      <td>1.673886e+07</td>\n",
              "      <td>2791677.268</td>\n",
              "      <td>185514.294</td>\n",
              "      <td>1.198574e+07</td>\n",
              "      <td>1.079791e+07</td>\n",
              "      <td>1.456008e+07</td>\n",
              "      <td>636452.912</td>\n",
              "      <td>4636684.671</td>\n",
              "      <td>1.412204e+07</td>\n",
              "      <td>331073.124</td>\n",
              "    </tr>\n",
              "    <tr>\n",
              "      <th>14376</th>\n",
              "      <td>311071830</td>\n",
              "      <td>10556</td>\n",
              "      <td>0</td>\n",
              "      <td>934</td>\n",
              "      <td>1</td>\n",
              "      <td>1</td>\n",
              "      <td>24000.0</td>\n",
              "      <td>True</td>\n",
              "      <td>2.511147e+09</td>\n",
              "      <td>-13750.0</td>\n",
              "      <td>190173.210</td>\n",
              "      <td>0.0</td>\n",
              "      <td>NaN</td>\n",
              "      <td>NaN</td>\n",
              "      <td>NaN</td>\n",
              "      <td>10556</td>\n",
              "      <td>1</td>\n",
              "      <td>1</td>\n",
              "      <td>False</td>\n",
              "      <td>False</td>\n",
              "      <td>True</td>\n",
              "      <td>False</td>\n",
              "      <td>False</td>\n",
              "      <td>False</td>\n",
              "      <td>False</td>\n",
              "      <td>False</td>\n",
              "      <td>False</td>\n",
              "      <td>False</td>\n",
              "      <td>False</td>\n",
              "      <td>False</td>\n",
              "      <td>False</td>\n",
              "      <td>False</td>\n",
              "      <td>False</td>\n",
              "      <td>False</td>\n",
              "      <td>False</td>\n",
              "      <td>False</td>\n",
              "      <td>False</td>\n",
              "      <td>False</td>\n",
              "      <td>False</td>\n",
              "      <td>False</td>\n",
              "      <td>...</td>\n",
              "      <td>2.283924e+07</td>\n",
              "      <td>6.232901e+06</td>\n",
              "      <td>1.711624e+07</td>\n",
              "      <td>1.505078e+07</td>\n",
              "      <td>1.456959e+07</td>\n",
              "      <td>1.151966e+07</td>\n",
              "      <td>8.510678e+06</td>\n",
              "      <td>1.065077e+07</td>\n",
              "      <td>2681273.160</td>\n",
              "      <td>895175.550</td>\n",
              "      <td>2474170.646</td>\n",
              "      <td>6.393928e+06</td>\n",
              "      <td>4777854.074</td>\n",
              "      <td>1.850779e+07</td>\n",
              "      <td>1.215432e+07</td>\n",
              "      <td>4826857.881</td>\n",
              "      <td>1.728469e+07</td>\n",
              "      <td>3367173.102</td>\n",
              "      <td>932863.305</td>\n",
              "      <td>1.369831e+07</td>\n",
              "      <td>375687.504</td>\n",
              "      <td>6082850.472</td>\n",
              "      <td>1.124422e+07</td>\n",
              "      <td>3450820.528</td>\n",
              "      <td>2.497806e+07</td>\n",
              "      <td>5.546866e+07</td>\n",
              "      <td>6.829227e+06</td>\n",
              "      <td>9.942988e+06</td>\n",
              "      <td>5183624.047</td>\n",
              "      <td>0.000</td>\n",
              "      <td>1.692903e+07</td>\n",
              "      <td>2981850.478</td>\n",
              "      <td>0.000</td>\n",
              "      <td>1.217592e+07</td>\n",
              "      <td>1.098809e+07</td>\n",
              "      <td>1.475026e+07</td>\n",
              "      <td>826626.122</td>\n",
              "      <td>4826857.881</td>\n",
              "      <td>1.431221e+07</td>\n",
              "      <td>521246.334</td>\n",
              "    </tr>\n",
              "    <tr>\n",
              "      <th>44262</th>\n",
              "      <td>937249824</td>\n",
              "      <td>2726</td>\n",
              "      <td>0</td>\n",
              "      <td>1289</td>\n",
              "      <td>2</td>\n",
              "      <td>1</td>\n",
              "      <td>6666.0</td>\n",
              "      <td>True</td>\n",
              "      <td>2.511153e+09</td>\n",
              "      <td>-17334.0</td>\n",
              "      <td>752570.045</td>\n",
              "      <td>0.0</td>\n",
              "      <td>NaN</td>\n",
              "      <td>NaN</td>\n",
              "      <td>NaN</td>\n",
              "      <td>2725</td>\n",
              "      <td>2</td>\n",
              "      <td>4</td>\n",
              "      <td>False</td>\n",
              "      <td>False</td>\n",
              "      <td>False</td>\n",
              "      <td>False</td>\n",
              "      <td>False</td>\n",
              "      <td>False</td>\n",
              "      <td>False</td>\n",
              "      <td>False</td>\n",
              "      <td>False</td>\n",
              "      <td>False</td>\n",
              "      <td>False</td>\n",
              "      <td>False</td>\n",
              "      <td>False</td>\n",
              "      <td>False</td>\n",
              "      <td>False</td>\n",
              "      <td>False</td>\n",
              "      <td>False</td>\n",
              "      <td>False</td>\n",
              "      <td>False</td>\n",
              "      <td>False</td>\n",
              "      <td>False</td>\n",
              "      <td>False</td>\n",
              "      <td>...</td>\n",
              "      <td>2.359181e+07</td>\n",
              "      <td>6.985471e+06</td>\n",
              "      <td>1.786881e+07</td>\n",
              "      <td>1.580335e+07</td>\n",
              "      <td>1.532216e+07</td>\n",
              "      <td>1.227223e+07</td>\n",
              "      <td>9.263248e+06</td>\n",
              "      <td>1.140334e+07</td>\n",
              "      <td>3433843.205</td>\n",
              "      <td>1647745.595</td>\n",
              "      <td>3226740.691</td>\n",
              "      <td>7.146498e+06</td>\n",
              "      <td>5530424.119</td>\n",
              "      <td>1.926036e+07</td>\n",
              "      <td>1.290689e+07</td>\n",
              "      <td>5579427.926</td>\n",
              "      <td>1.803726e+07</td>\n",
              "      <td>4119743.147</td>\n",
              "      <td>1685433.350</td>\n",
              "      <td>1.445088e+07</td>\n",
              "      <td>0.000</td>\n",
              "      <td>0.000</td>\n",
              "      <td>1.199679e+07</td>\n",
              "      <td>4203390.573</td>\n",
              "      <td>2.573063e+07</td>\n",
              "      <td>5.622123e+07</td>\n",
              "      <td>7.581797e+06</td>\n",
              "      <td>1.069556e+07</td>\n",
              "      <td>5936194.092</td>\n",
              "      <td>752570.045</td>\n",
              "      <td>1.768160e+07</td>\n",
              "      <td>3734420.523</td>\n",
              "      <td>752570.045</td>\n",
              "      <td>1.292849e+07</td>\n",
              "      <td>1.174066e+07</td>\n",
              "      <td>1.550283e+07</td>\n",
              "      <td>1579196.167</td>\n",
              "      <td>5579427.926</td>\n",
              "      <td>1.506478e+07</td>\n",
              "      <td>1273816.379</td>\n",
              "    </tr>\n",
              "    <tr>\n",
              "      <th>25738</th>\n",
              "      <td>550249756</td>\n",
              "      <td>11961</td>\n",
              "      <td>0</td>\n",
              "      <td>579</td>\n",
              "      <td>1</td>\n",
              "      <td>0</td>\n",
              "      <td>17000.0</td>\n",
              "      <td>True</td>\n",
              "      <td>2.511170e+09</td>\n",
              "      <td>10334.0</td>\n",
              "      <td>333641.656</td>\n",
              "      <td>0.0</td>\n",
              "      <td>NaN</td>\n",
              "      <td>NaN</td>\n",
              "      <td>NaN</td>\n",
              "      <td>11961</td>\n",
              "      <td>3</td>\n",
              "      <td>2</td>\n",
              "      <td>False</td>\n",
              "      <td>False</td>\n",
              "      <td>False</td>\n",
              "      <td>False</td>\n",
              "      <td>False</td>\n",
              "      <td>False</td>\n",
              "      <td>False</td>\n",
              "      <td>False</td>\n",
              "      <td>False</td>\n",
              "      <td>False</td>\n",
              "      <td>True</td>\n",
              "      <td>False</td>\n",
              "      <td>False</td>\n",
              "      <td>False</td>\n",
              "      <td>False</td>\n",
              "      <td>False</td>\n",
              "      <td>False</td>\n",
              "      <td>False</td>\n",
              "      <td>False</td>\n",
              "      <td>False</td>\n",
              "      <td>False</td>\n",
              "      <td>False</td>\n",
              "      <td>...</td>\n",
              "      <td>2.392545e+07</td>\n",
              "      <td>7.319112e+06</td>\n",
              "      <td>1.820246e+07</td>\n",
              "      <td>1.613699e+07</td>\n",
              "      <td>1.565580e+07</td>\n",
              "      <td>1.260587e+07</td>\n",
              "      <td>9.596890e+06</td>\n",
              "      <td>1.173698e+07</td>\n",
              "      <td>3767484.861</td>\n",
              "      <td>1981387.251</td>\n",
              "      <td>3560382.347</td>\n",
              "      <td>7.480140e+06</td>\n",
              "      <td>5864065.775</td>\n",
              "      <td>1.959401e+07</td>\n",
              "      <td>1.324053e+07</td>\n",
              "      <td>5913069.582</td>\n",
              "      <td>1.837090e+07</td>\n",
              "      <td>4453384.803</td>\n",
              "      <td>2019075.006</td>\n",
              "      <td>1.478452e+07</td>\n",
              "      <td>0.000</td>\n",
              "      <td>333641.656</td>\n",
              "      <td>1.233043e+07</td>\n",
              "      <td>4537032.229</td>\n",
              "      <td>2.606427e+07</td>\n",
              "      <td>5.655487e+07</td>\n",
              "      <td>7.915438e+06</td>\n",
              "      <td>1.102920e+07</td>\n",
              "      <td>6269835.748</td>\n",
              "      <td>1086211.701</td>\n",
              "      <td>1.801524e+07</td>\n",
              "      <td>4068062.179</td>\n",
              "      <td>0.000</td>\n",
              "      <td>1.326213e+07</td>\n",
              "      <td>1.207430e+07</td>\n",
              "      <td>1.583647e+07</td>\n",
              "      <td>1912837.823</td>\n",
              "      <td>5913069.582</td>\n",
              "      <td>1.539842e+07</td>\n",
              "      <td>1607458.035</td>\n",
              "    </tr>\n",
              "    <tr>\n",
              "      <th>7040</th>\n",
              "      <td>153187243</td>\n",
              "      <td>1986</td>\n",
              "      <td>0</td>\n",
              "      <td>319</td>\n",
              "      <td>1</td>\n",
              "      <td>0</td>\n",
              "      <td>23666.0</td>\n",
              "      <td>True</td>\n",
              "      <td>2.511194e+09</td>\n",
              "      <td>6666.0</td>\n",
              "      <td>3028909.168</td>\n",
              "      <td>0.0</td>\n",
              "      <td>NaN</td>\n",
              "      <td>NaN</td>\n",
              "      <td>NaN</td>\n",
              "      <td>1985</td>\n",
              "      <td>3</td>\n",
              "      <td>3</td>\n",
              "      <td>False</td>\n",
              "      <td>False</td>\n",
              "      <td>False</td>\n",
              "      <td>False</td>\n",
              "      <td>False</td>\n",
              "      <td>False</td>\n",
              "      <td>False</td>\n",
              "      <td>False</td>\n",
              "      <td>False</td>\n",
              "      <td>False</td>\n",
              "      <td>False</td>\n",
              "      <td>False</td>\n",
              "      <td>False</td>\n",
              "      <td>False</td>\n",
              "      <td>False</td>\n",
              "      <td>False</td>\n",
              "      <td>False</td>\n",
              "      <td>False</td>\n",
              "      <td>False</td>\n",
              "      <td>False</td>\n",
              "      <td>False</td>\n",
              "      <td>False</td>\n",
              "      <td>...</td>\n",
              "      <td>2.695436e+07</td>\n",
              "      <td>1.034802e+07</td>\n",
              "      <td>2.123137e+07</td>\n",
              "      <td>1.916590e+07</td>\n",
              "      <td>1.868471e+07</td>\n",
              "      <td>1.563478e+07</td>\n",
              "      <td>1.262580e+07</td>\n",
              "      <td>1.476589e+07</td>\n",
              "      <td>6796394.029</td>\n",
              "      <td>5010296.419</td>\n",
              "      <td>6589291.515</td>\n",
              "      <td>1.050905e+07</td>\n",
              "      <td>8892974.943</td>\n",
              "      <td>2.262292e+07</td>\n",
              "      <td>1.626944e+07</td>\n",
              "      <td>8941978.750</td>\n",
              "      <td>2.139981e+07</td>\n",
              "      <td>7482293.971</td>\n",
              "      <td>5047984.174</td>\n",
              "      <td>1.781343e+07</td>\n",
              "      <td>0.000</td>\n",
              "      <td>3362550.824</td>\n",
              "      <td>1.535934e+07</td>\n",
              "      <td>7565941.397</td>\n",
              "      <td>2.909318e+07</td>\n",
              "      <td>5.958378e+07</td>\n",
              "      <td>1.094435e+07</td>\n",
              "      <td>1.405811e+07</td>\n",
              "      <td>9298744.916</td>\n",
              "      <td>4115120.869</td>\n",
              "      <td>2.104415e+07</td>\n",
              "      <td>7096971.347</td>\n",
              "      <td>0.000</td>\n",
              "      <td>1.629104e+07</td>\n",
              "      <td>1.510321e+07</td>\n",
              "      <td>1.886538e+07</td>\n",
              "      <td>4941746.991</td>\n",
              "      <td>8941978.750</td>\n",
              "      <td>1.842733e+07</td>\n",
              "      <td>4636367.203</td>\n",
              "    </tr>\n",
              "  </tbody>\n",
              "</table>\n",
              "<p>101231 rows × 452 columns</p>\n",
              "</div>"
            ],
            "text/plain": [
              "          user_id  ... TIME_SINCE_TRUE(questions.99, timestamp)\n",
              "row_id             ...                                         \n",
              "0             115  ...                                      NaN\n",
              "164       3505219  ...                                      NaN\n",
              "451       9063293  ...                                      NaN\n",
              "526      10501741  ...                                      NaN\n",
              "811      16467140  ...                                      NaN\n",
              "...           ...  ...                                      ...\n",
              "32556   697068556  ...                               331073.124\n",
              "14376   311071830  ...                               521246.334\n",
              "44262   937249824  ...                              1273816.379\n",
              "25738   550249756  ...                              1607458.035\n",
              "7040    153187243  ...                              4636367.203\n",
              "\n",
              "[101231 rows x 452 columns]"
            ]
          },
          "metadata": {
            "tags": []
          },
          "execution_count": 55
        }
      ]
    },
    {
      "cell_type": "markdown",
      "metadata": {
        "id": "V52s_OCfpncw"
      },
      "source": [
        "We can save these feature definitions as a binary file which will allow us to make the same exact features for another entityset of the same format. This is useful when we have multiple partitions and we want to make the same features for each. Instead of remaking the feature definitions, we pass in the same feature definitions to a call to `calculate_feature_matrix`."
      ]
    },
    {
      "cell_type": "code",
      "metadata": {
        "id": "-KM1HhWLpnc0"
      },
      "source": [
        "feature_defs = ft.load_features('./data/churn/features.txt')\n",
        "print(f'There are {len(feature_defs)} features.')"
      ],
      "execution_count": null,
      "outputs": []
    },
    {
      "cell_type": "markdown",
      "metadata": {
        "id": "138BHQbOpnc0"
      },
      "source": [
        "# Conclusions\n",
        "\n",
        "Automated feature engineering is a significant improvement over manual feature engineering in terms of both time and modeling performance. In this notebook, we implemented an automated feature engineering workflow with Featuretools for the customer churn problem. Given customer data and label times, we can now calculate a feature matrix with several hundred relevant features for predicting customer churn while ensuring that our features are made with valid data for each cutoff time. \n",
        "\n",
        "Along the way, we implemented a number of Featuretools concepts:\n",
        "\n",
        "1. An entityset and entities\n",
        "2. Relationships between entities\n",
        "3. Cutoff times\n",
        "4. Feature primitives\n",
        "5. Custom primitives\n",
        "6. Deep feature synthesis\n",
        "\n",
        "These concepts will serve us well in future machine learning projects that we can tackle with automated feature engineering.\n",
        "\n",
        "## Next Steps\n",
        "\n",
        "Although we often hear that \"data is the fuel of machine learning\", data is not exactly a fuel but more like crude oil. _Features_ are the refined product that we feed into a machine learning model to make accurate predictions. After performing prediction engineering and automated feature engineering, the next step is to use these features in a predictive model to estimate the _label_ using the _features_. \n",
        "\n",
        "Generating hundreds of features automatically is impressive, but if those features cannot allow a model to learn our prediction problem then they are not mcuch help! The next step is to use our features and labeled historical examples to train a machine learning model to make predictions of customer churn. We'll make sure to test our model using a hold-out testing set to estimate performance on new data. Then, after validating our model, we can use it on new examples by passing the data through the feature engineering process. \n",
        "\n",
        "\n",
        "If you want to see how to parallelize feature engineering in Spark, see the `Feature Engineering on Spark` notebook. Otherwise, the next notebook is `Modeling`, where we develop a machine learning model to predict churn using the historical labeled examples and the automatically engineered features."
      ]
    },
    {
      "cell_type": "code",
      "metadata": {
        "id": "rLw8CgkXpnc1"
      },
      "source": [
        ""
      ],
      "execution_count": null,
      "outputs": []
    }
  ]
}