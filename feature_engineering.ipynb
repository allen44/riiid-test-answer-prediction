{
  "nbformat": 4,
  "nbformat_minor": 0,
  "metadata": {
    "colab": {
      "name": "feature_engineering.ipynb",
      "provenance": [],
      "collapsed_sections": [],
      "machine_shape": "hm",
      "mount_file_id": "1m1odx4VOdXGk8SddV_9tYq1siyJqBtkm",
      "authorship_tag": "ABX9TyPFwXRNHOOlX08TW1jlD+pb",
      "include_colab_link": true
    },
    "kernelspec": {
      "name": "python3",
      "display_name": "Python 3"
    }
  },
  "cells": [
    {
      "cell_type": "markdown",
      "metadata": {
        "id": "view-in-github",
        "colab_type": "text"
      },
      "source": [
        "<a href=\"https://colab.research.google.com/github/allen44/riiid-test-answer-prediction/blob/main/feature_engineering.ipynb\" target=\"_parent\"><img src=\"https://colab.research.google.com/assets/colab-badge.svg\" alt=\"Open In Colab\"/></a>"
      ]
    },
    {
      "cell_type": "markdown",
      "metadata": {
        "id": "20OyF4j3xy6M"
      },
      "source": [
        "# Imports"
      ]
    },
    {
      "cell_type": "markdown",
      "metadata": {
        "id": "FPd9p7Shyjkp"
      },
      "source": [
        ""
      ]
    },
    {
      "cell_type": "code",
      "metadata": {
        "colab": {
          "base_uri": "https://localhost:8080/",
          "height": 52
        },
        "id": "IqKo-hGAHKZA",
        "outputId": "f0b436e3-4179-4d56-b0e8-ce7d805c6dc3"
      },
      "source": [
        "import pandas as pd\r\n",
        "import numpy as np\r\n",
        "import matplotlib.pyplot as plt\r\n",
        "import seaborn as sns\r\n",
        "\r\n",
        "%cd /content/drive/MyDrive/Colab Notebooks/riiid-test-answer-prediction/\r\n",
        "%pwd"
      ],
      "execution_count": 1,
      "outputs": [
        {
          "output_type": "stream",
          "text": [
            "/content/drive/MyDrive/Colab Notebooks/riiid-test-answer-prediction\n"
          ],
          "name": "stdout"
        },
        {
          "output_type": "execute_result",
          "data": {
            "application/vnd.google.colaboratory.intrinsic+json": {
              "type": "string"
            },
            "text/plain": [
              "'/content/drive/MyDrive/Colab Notebooks/riiid-test-answer-prediction'"
            ]
          },
          "metadata": {
            "tags": []
          },
          "execution_count": 1
        }
      ]
    },
    {
      "cell_type": "markdown",
      "metadata": {
        "id": "2jHUz3V8-zm7"
      },
      "source": [
        "## Preprocessed data"
      ]
    },
    {
      "cell_type": "code",
      "metadata": {
        "id": "Ab6dq5DybA-C"
      },
      "source": [
        "import pickle\n",
        "from pathlib import Path\n",
        "\n",
        "# #Define data paths\n",
        "df_train_preprocessed_path = Path('/content/drive/MyDrive/Colab Notebooks/riiid-test-answer-prediction/data/intermediate/df_train_preprocessed.pkl.gzip')\n",
        "df_lectures_preprocessed_path = Path('/content/drive/MyDrive/Colab Notebooks/riiid-test-answer-prediction/data/intermediate/df_lectures_preprocessed.pkl.gzip')\n",
        "df_questions_preprocessed_path = Path('/content/drive/MyDrive/Colab Notebooks/riiid-test-answer-prediction/data/intermediate/df_questions_preprocessed.pkl.gzip')"
      ],
      "execution_count": 2,
      "outputs": []
    },
    {
      "cell_type": "markdown",
      "metadata": {
        "id": "Y5TsYvtHTKe4"
      },
      "source": [
        "Using our insights gained from the EDA, when can import the data from csv with the best preprocessing for feature engineering."
      ]
    },
    {
      "cell_type": "code",
      "metadata": {
        "id": "1VU3pqWF36k1",
        "colab": {
          "base_uri": "https://localhost:8080/"
        },
        "outputId": "2c29c848-8941-495a-d589-6ad9c647ed0d"
      },
      "source": [
        "with open(df_train_preprocessed_path, 'rb') as f:\n",
        "  df_train = pickle.load(f)\n",
        "\n",
        "with open(df_lectures_preprocessed_path, 'rb') as f:\n",
        "  df_lectures = pickle.load(f)\n",
        "\n",
        "with open(df_questions_preprocessed_path, 'rb') as f:\n",
        "  df_questions = pickle.load(f)\n",
        "\n",
        "df_train.shape, df_lectures.shape, df_questions.shape "
      ],
      "execution_count": 9,
      "outputs": [
        {
          "output_type": "execute_result",
          "data": {
            "text/plain": [
              "((101230332, 9), (418, 4), (13522, 192))"
            ]
          },
          "metadata": {
            "tags": []
          },
          "execution_count": 9
        }
      ]
    },
    {
      "cell_type": "code",
      "metadata": {
        "id": "Mnbkf4FYaxa5"
      },
      "source": [
        "assert df_train['content_id'].dtype == df_lectures['lecture_id'].dtype\r\n",
        "assert df_questions['question_id'].dtype == df_lectures['lecture_id'].dtype"
      ],
      "execution_count": 10,
      "outputs": []
    },
    {
      "cell_type": "markdown",
      "metadata": {
        "id": "wQZ8qSCVyn3e"
      },
      "source": [
        "## Install and import featuretools"
      ]
    },
    {
      "cell_type": "code",
      "metadata": {
        "id": "Mu4f-tZzV2iG"
      },
      "source": [
        "# % pip install featuretools\r\n",
        "import featuretools as ft"
      ],
      "execution_count": 11,
      "outputs": []
    },
    {
      "cell_type": "markdown",
      "metadata": {
        "id": "HZ9witbSzcwH"
      },
      "source": [
        "# Prepare data\r\n",
        "\r\n",
        "First, we specify a dictionary with all the entities in our dataset."
      ]
    },
    {
      "cell_type": "code",
      "metadata": {
        "colab": {
          "base_uri": "https://localhost:8080/"
        },
        "id": "3nJkEAVd2Ouj",
        "outputId": "a0c2551b-89b5-4732-f2f6-e6f9083cae24"
      },
      "source": [
        "# Define entity set\r\n",
        "es = ft.EntitySet()\r\n",
        "\r\n",
        "# Add df_train to entity set\r\n",
        "es.entity_from_dataframe(entity_id='train', \r\n",
        "                         dataframe=df_train,\r\n",
        "                         index='row_id')"
      ],
      "execution_count": 12,
      "outputs": [
        {
          "output_type": "stream",
          "text": [
            "/usr/local/lib/python3.7/dist-packages/featuretools/entityset/entity.py:463: UserWarning: index row_id not found in dataframe, creating new integer column\n",
            "  \"integer column\".format(index))\n"
          ],
          "name": "stderr"
        },
        {
          "output_type": "execute_result",
          "data": {
            "text/plain": [
              "Entityset: None\n",
              "  Entities:\n",
              "    train [Rows: 101230332, Columns: 10]\n",
              "  Relationships:\n",
              "    No relationships"
            ]
          },
          "metadata": {
            "tags": []
          },
          "execution_count": 12
        }
      ]
    },
    {
      "cell_type": "code",
      "metadata": {
        "colab": {
          "base_uri": "https://localhost:8080/"
        },
        "id": "pr908JOJ3AbX",
        "outputId": "52a976d7-4541-4059-988f-643c6d7679fc"
      },
      "source": [
        "# Add df_lectures to entity set\r\n",
        "es.entity_from_dataframe(entity_id='lectures', dataframe=df_lectures, index='lecture_id')"
      ],
      "execution_count": 13,
      "outputs": [
        {
          "output_type": "execute_result",
          "data": {
            "text/plain": [
              "Entityset: None\n",
              "  Entities:\n",
              "    train [Rows: 101230332, Columns: 10]\n",
              "    lectures [Rows: 418, Columns: 4]\n",
              "  Relationships:\n",
              "    No relationships"
            ]
          },
          "metadata": {
            "tags": []
          },
          "execution_count": 13
        }
      ]
    },
    {
      "cell_type": "code",
      "metadata": {
        "colab": {
          "base_uri": "https://localhost:8080/"
        },
        "id": "S61iTjo758Vo",
        "outputId": "aa1994b9-6b5c-465c-c5f5-320f96c1a0e5"
      },
      "source": [
        "# Add df_questions to entity set\r\n",
        "es.entity_from_dataframe(entity_id='questions', dataframe=df_questions, index='question_id')"
      ],
      "execution_count": 14,
      "outputs": [
        {
          "output_type": "execute_result",
          "data": {
            "text/plain": [
              "Entityset: None\n",
              "  Entities:\n",
              "    train [Rows: 101230332, Columns: 10]\n",
              "    lectures [Rows: 418, Columns: 4]\n",
              "    questions [Rows: 13522, Columns: 192]\n",
              "  Relationships:\n",
              "    No relationships"
            ]
          },
          "metadata": {
            "tags": []
          },
          "execution_count": 14
        }
      ]
    },
    {
      "cell_type": "code",
      "metadata": {
        "colab": {
          "base_uri": "https://localhost:8080/"
        },
        "id": "uqWxQVrF6DNy",
        "outputId": "8b5c5c1b-ed51-44e3-b184-fcf54ac036a6"
      },
      "source": [
        "es['train'].variables"
      ],
      "execution_count": 15,
      "outputs": [
        {
          "output_type": "execute_result",
          "data": {
            "text/plain": [
              "[<Variable: row_id (dtype = index)>,\n",
              " <Variable: timestamp (dtype = numeric)>,\n",
              " <Variable: user_id (dtype = categorical)>,\n",
              " <Variable: content_id (dtype = categorical)>,\n",
              " <Variable: content_type_id (dtype = categorical)>,\n",
              " <Variable: task_container_id (dtype = categorical)>,\n",
              " <Variable: user_answer (dtype = categorical)>,\n",
              " <Variable: answered_correctly (dtype = categorical)>,\n",
              " <Variable: prior_question_elapsed_time (dtype = numeric)>,\n",
              " <Variable: prior_question_had_explanation (dtype = boolean)>]"
            ]
          },
          "metadata": {
            "tags": []
          },
          "execution_count": 15
        }
      ]
    },
    {
      "cell_type": "code",
      "metadata": {
        "colab": {
          "base_uri": "https://localhost:8080/"
        },
        "id": "QuKl9EKU6Is3",
        "outputId": "e6d343d2-916d-4b82-9a39-3878ea4a758c"
      },
      "source": [
        "es['lectures'].variables"
      ],
      "execution_count": 16,
      "outputs": [
        {
          "output_type": "execute_result",
          "data": {
            "text/plain": [
              "[<Variable: lecture_id (dtype = index)>,\n",
              " <Variable: tag (dtype = categorical)>,\n",
              " <Variable: part (dtype = categorical)>,\n",
              " <Variable: type_of (dtype = categorical)>]"
            ]
          },
          "metadata": {
            "tags": []
          },
          "execution_count": 16
        }
      ]
    },
    {
      "cell_type": "code",
      "metadata": {
        "colab": {
          "base_uri": "https://localhost:8080/"
        },
        "id": "rHhUEci9-E5f",
        "outputId": "eb9812f2-3f90-4c12-bb3a-1c43b4be4e3f"
      },
      "source": [
        "es['questions'].variables"
      ],
      "execution_count": 17,
      "outputs": [
        {
          "output_type": "execute_result",
          "data": {
            "text/plain": [
              "[<Variable: question_id (dtype = index)>,\n",
              " <Variable: bundle_id (dtype = categorical)>,\n",
              " <Variable: correct_answer (dtype = categorical)>,\n",
              " <Variable: part (dtype = categorical)>,\n",
              " <Variable: 0 (dtype = boolean)>,\n",
              " <Variable: 1 (dtype = boolean)>,\n",
              " <Variable: 10 (dtype = boolean)>,\n",
              " <Variable: 100 (dtype = boolean)>,\n",
              " <Variable: 101 (dtype = boolean)>,\n",
              " <Variable: 102 (dtype = boolean)>,\n",
              " <Variable: 103 (dtype = boolean)>,\n",
              " <Variable: 104 (dtype = boolean)>,\n",
              " <Variable: 105 (dtype = boolean)>,\n",
              " <Variable: 106 (dtype = boolean)>,\n",
              " <Variable: 107 (dtype = boolean)>,\n",
              " <Variable: 108 (dtype = boolean)>,\n",
              " <Variable: 109 (dtype = boolean)>,\n",
              " <Variable: 11 (dtype = boolean)>,\n",
              " <Variable: 110 (dtype = boolean)>,\n",
              " <Variable: 111 (dtype = boolean)>,\n",
              " <Variable: 112 (dtype = boolean)>,\n",
              " <Variable: 113 (dtype = boolean)>,\n",
              " <Variable: 114 (dtype = boolean)>,\n",
              " <Variable: 115 (dtype = boolean)>,\n",
              " <Variable: 116 (dtype = boolean)>,\n",
              " <Variable: 117 (dtype = boolean)>,\n",
              " <Variable: 118 (dtype = boolean)>,\n",
              " <Variable: 119 (dtype = boolean)>,\n",
              " <Variable: 12 (dtype = boolean)>,\n",
              " <Variable: 120 (dtype = boolean)>,\n",
              " <Variable: 121 (dtype = boolean)>,\n",
              " <Variable: 122 (dtype = boolean)>,\n",
              " <Variable: 123 (dtype = boolean)>,\n",
              " <Variable: 124 (dtype = boolean)>,\n",
              " <Variable: 125 (dtype = boolean)>,\n",
              " <Variable: 126 (dtype = boolean)>,\n",
              " <Variable: 127 (dtype = boolean)>,\n",
              " <Variable: 128 (dtype = boolean)>,\n",
              " <Variable: 129 (dtype = boolean)>,\n",
              " <Variable: 13 (dtype = boolean)>,\n",
              " <Variable: 130 (dtype = boolean)>,\n",
              " <Variable: 131 (dtype = boolean)>,\n",
              " <Variable: 132 (dtype = boolean)>,\n",
              " <Variable: 133 (dtype = boolean)>,\n",
              " <Variable: 134 (dtype = boolean)>,\n",
              " <Variable: 135 (dtype = boolean)>,\n",
              " <Variable: 136 (dtype = boolean)>,\n",
              " <Variable: 137 (dtype = boolean)>,\n",
              " <Variable: 138 (dtype = boolean)>,\n",
              " <Variable: 139 (dtype = boolean)>,\n",
              " <Variable: 14 (dtype = boolean)>,\n",
              " <Variable: 140 (dtype = boolean)>,\n",
              " <Variable: 141 (dtype = boolean)>,\n",
              " <Variable: 142 (dtype = boolean)>,\n",
              " <Variable: 143 (dtype = boolean)>,\n",
              " <Variable: 144 (dtype = boolean)>,\n",
              " <Variable: 145 (dtype = boolean)>,\n",
              " <Variable: 146 (dtype = boolean)>,\n",
              " <Variable: 147 (dtype = boolean)>,\n",
              " <Variable: 148 (dtype = boolean)>,\n",
              " <Variable: 149 (dtype = boolean)>,\n",
              " <Variable: 15 (dtype = boolean)>,\n",
              " <Variable: 150 (dtype = boolean)>,\n",
              " <Variable: 151 (dtype = boolean)>,\n",
              " <Variable: 152 (dtype = boolean)>,\n",
              " <Variable: 153 (dtype = boolean)>,\n",
              " <Variable: 154 (dtype = boolean)>,\n",
              " <Variable: 155 (dtype = boolean)>,\n",
              " <Variable: 156 (dtype = boolean)>,\n",
              " <Variable: 157 (dtype = boolean)>,\n",
              " <Variable: 158 (dtype = boolean)>,\n",
              " <Variable: 159 (dtype = boolean)>,\n",
              " <Variable: 16 (dtype = boolean)>,\n",
              " <Variable: 160 (dtype = boolean)>,\n",
              " <Variable: 161 (dtype = boolean)>,\n",
              " <Variable: 162 (dtype = boolean)>,\n",
              " <Variable: 163 (dtype = boolean)>,\n",
              " <Variable: 164 (dtype = boolean)>,\n",
              " <Variable: 165 (dtype = boolean)>,\n",
              " <Variable: 166 (dtype = boolean)>,\n",
              " <Variable: 167 (dtype = boolean)>,\n",
              " <Variable: 168 (dtype = boolean)>,\n",
              " <Variable: 169 (dtype = boolean)>,\n",
              " <Variable: 17 (dtype = boolean)>,\n",
              " <Variable: 170 (dtype = boolean)>,\n",
              " <Variable: 171 (dtype = boolean)>,\n",
              " <Variable: 172 (dtype = boolean)>,\n",
              " <Variable: 173 (dtype = boolean)>,\n",
              " <Variable: 174 (dtype = boolean)>,\n",
              " <Variable: 175 (dtype = boolean)>,\n",
              " <Variable: 176 (dtype = boolean)>,\n",
              " <Variable: 177 (dtype = boolean)>,\n",
              " <Variable: 178 (dtype = boolean)>,\n",
              " <Variable: 179 (dtype = boolean)>,\n",
              " <Variable: 18 (dtype = boolean)>,\n",
              " <Variable: 180 (dtype = boolean)>,\n",
              " <Variable: 181 (dtype = boolean)>,\n",
              " <Variable: 182 (dtype = boolean)>,\n",
              " <Variable: 183 (dtype = boolean)>,\n",
              " <Variable: 184 (dtype = boolean)>,\n",
              " <Variable: 185 (dtype = boolean)>,\n",
              " <Variable: 186 (dtype = boolean)>,\n",
              " <Variable: 187 (dtype = boolean)>,\n",
              " <Variable: 19 (dtype = boolean)>,\n",
              " <Variable: 2 (dtype = boolean)>,\n",
              " <Variable: 20 (dtype = boolean)>,\n",
              " <Variable: 21 (dtype = boolean)>,\n",
              " <Variable: 22 (dtype = boolean)>,\n",
              " <Variable: 23 (dtype = boolean)>,\n",
              " <Variable: 24 (dtype = boolean)>,\n",
              " <Variable: 25 (dtype = boolean)>,\n",
              " <Variable: 26 (dtype = boolean)>,\n",
              " <Variable: 27 (dtype = boolean)>,\n",
              " <Variable: 28 (dtype = boolean)>,\n",
              " <Variable: 29 (dtype = boolean)>,\n",
              " <Variable: 3 (dtype = boolean)>,\n",
              " <Variable: 30 (dtype = boolean)>,\n",
              " <Variable: 31 (dtype = boolean)>,\n",
              " <Variable: 32 (dtype = boolean)>,\n",
              " <Variable: 33 (dtype = boolean)>,\n",
              " <Variable: 34 (dtype = boolean)>,\n",
              " <Variable: 35 (dtype = boolean)>,\n",
              " <Variable: 36 (dtype = boolean)>,\n",
              " <Variable: 37 (dtype = boolean)>,\n",
              " <Variable: 38 (dtype = boolean)>,\n",
              " <Variable: 39 (dtype = boolean)>,\n",
              " <Variable: 4 (dtype = boolean)>,\n",
              " <Variable: 40 (dtype = boolean)>,\n",
              " <Variable: 41 (dtype = boolean)>,\n",
              " <Variable: 42 (dtype = boolean)>,\n",
              " <Variable: 43 (dtype = boolean)>,\n",
              " <Variable: 44 (dtype = boolean)>,\n",
              " <Variable: 45 (dtype = boolean)>,\n",
              " <Variable: 46 (dtype = boolean)>,\n",
              " <Variable: 47 (dtype = boolean)>,\n",
              " <Variable: 48 (dtype = boolean)>,\n",
              " <Variable: 49 (dtype = boolean)>,\n",
              " <Variable: 5 (dtype = boolean)>,\n",
              " <Variable: 50 (dtype = boolean)>,\n",
              " <Variable: 51 (dtype = boolean)>,\n",
              " <Variable: 52 (dtype = boolean)>,\n",
              " <Variable: 53 (dtype = boolean)>,\n",
              " <Variable: 54 (dtype = boolean)>,\n",
              " <Variable: 55 (dtype = boolean)>,\n",
              " <Variable: 56 (dtype = boolean)>,\n",
              " <Variable: 57 (dtype = boolean)>,\n",
              " <Variable: 58 (dtype = boolean)>,\n",
              " <Variable: 59 (dtype = boolean)>,\n",
              " <Variable: 6 (dtype = boolean)>,\n",
              " <Variable: 60 (dtype = boolean)>,\n",
              " <Variable: 61 (dtype = boolean)>,\n",
              " <Variable: 62 (dtype = boolean)>,\n",
              " <Variable: 63 (dtype = boolean)>,\n",
              " <Variable: 64 (dtype = boolean)>,\n",
              " <Variable: 65 (dtype = boolean)>,\n",
              " <Variable: 66 (dtype = boolean)>,\n",
              " <Variable: 67 (dtype = boolean)>,\n",
              " <Variable: 68 (dtype = boolean)>,\n",
              " <Variable: 69 (dtype = boolean)>,\n",
              " <Variable: 7 (dtype = boolean)>,\n",
              " <Variable: 70 (dtype = boolean)>,\n",
              " <Variable: 71 (dtype = boolean)>,\n",
              " <Variable: 72 (dtype = boolean)>,\n",
              " <Variable: 73 (dtype = boolean)>,\n",
              " <Variable: 74 (dtype = boolean)>,\n",
              " <Variable: 75 (dtype = boolean)>,\n",
              " <Variable: 76 (dtype = boolean)>,\n",
              " <Variable: 77 (dtype = boolean)>,\n",
              " <Variable: 78 (dtype = boolean)>,\n",
              " <Variable: 79 (dtype = boolean)>,\n",
              " <Variable: 8 (dtype = boolean)>,\n",
              " <Variable: 80 (dtype = boolean)>,\n",
              " <Variable: 81 (dtype = boolean)>,\n",
              " <Variable: 82 (dtype = boolean)>,\n",
              " <Variable: 83 (dtype = boolean)>,\n",
              " <Variable: 84 (dtype = boolean)>,\n",
              " <Variable: 85 (dtype = boolean)>,\n",
              " <Variable: 86 (dtype = boolean)>,\n",
              " <Variable: 87 (dtype = boolean)>,\n",
              " <Variable: 88 (dtype = boolean)>,\n",
              " <Variable: 89 (dtype = boolean)>,\n",
              " <Variable: 9 (dtype = boolean)>,\n",
              " <Variable: 90 (dtype = boolean)>,\n",
              " <Variable: 91 (dtype = boolean)>,\n",
              " <Variable: 92 (dtype = boolean)>,\n",
              " <Variable: 93 (dtype = boolean)>,\n",
              " <Variable: 94 (dtype = boolean)>,\n",
              " <Variable: 95 (dtype = boolean)>,\n",
              " <Variable: 96 (dtype = boolean)>,\n",
              " <Variable: 97 (dtype = boolean)>,\n",
              " <Variable: 98 (dtype = boolean)>,\n",
              " <Variable: 99 (dtype = boolean)>]"
            ]
          },
          "metadata": {
            "tags": []
          },
          "execution_count": 17
        }
      ]
    },
    {
      "cell_type": "code",
      "metadata": {
        "colab": {
          "base_uri": "https://localhost:8080/"
        },
        "id": "K4-Zq2hnVxGL",
        "outputId": "946c4fb4-3dcf-406e-96d3-b0280dd7532b"
      },
      "source": [
        "import gc\r\n",
        "\r\n",
        "del df_train\r\n",
        "del df_lectures\r\n",
        "del df_questions\r\n",
        "\r\n",
        "gc.collect()"
      ],
      "execution_count": 18,
      "outputs": [
        {
          "output_type": "execute_result",
          "data": {
            "text/plain": [
              "410"
            ]
          },
          "metadata": {
            "tags": []
          },
          "execution_count": 18
        }
      ]
    },
    {
      "cell_type": "code",
      "metadata": {
        "colab": {
          "base_uri": "https://localhost:8080/"
        },
        "id": "K1f1097WByVj",
        "outputId": "223cfba4-c501-4bac-db14-6b57227cc70f"
      },
      "source": [
        "r_lectures_train= ft.Relationship(es[\"lectures\"][\"lecture_id\"],\r\n",
        "                                          es[\"train\"][\"content_id\"])\r\n",
        "\r\n",
        "r_questions_train = ft.Relationship(es[\"questions\"][\"question_id\"],\r\n",
        "                                    es[\"train\"][\"content_id\"])\r\n",
        "\r\n",
        "es = es.add_relationship(r_lectures_train)\r\n",
        "es = es.add_relationship(r_questions_train)\r\n",
        "es"
      ],
      "execution_count": 19,
      "outputs": [
        {
          "output_type": "execute_result",
          "data": {
            "text/plain": [
              "Entityset: None\n",
              "  Entities:\n",
              "    train [Rows: 101230332, Columns: 10]\n",
              "    lectures [Rows: 418, Columns: 4]\n",
              "    questions [Rows: 13522, Columns: 192]\n",
              "  Relationships:\n",
              "    train.content_id -> lectures.lecture_id\n",
              "    train.content_id -> questions.question_id"
            ]
          },
          "metadata": {
            "tags": []
          },
          "execution_count": 19
        }
      ]
    },
    {
      "cell_type": "code",
      "metadata": {
        "id": "79YPBeT1gvuE"
      },
      "source": [
        ""
      ],
      "execution_count": 19,
      "outputs": []
    }
  ]
}